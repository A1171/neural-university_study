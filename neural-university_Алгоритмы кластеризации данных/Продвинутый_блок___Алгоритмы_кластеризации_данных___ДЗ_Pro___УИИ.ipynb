{
  "nbformat": 4,
  "nbformat_minor": 0,
  "metadata": {
    "colab": {
      "provenance": []
    },
    "kernelspec": {
      "name": "python3",
      "display_name": "Python 3"
    },
    "language_info": {
      "name": "python"
    }
  },
  "cells": [
    {
      "cell_type": "markdown",
      "source": [
        "Кластеризация слов по предобученным эмбеддингам методами K-Means и aglomerate clustering"
      ],
      "metadata": {
        "id": "8b24NiC9cljb"
      }
    },
    {
      "cell_type": "markdown",
      "metadata": {
        "id": "py_WZFuBkE-e"
      },
      "source": [
        "# Задание\n",
        "\n",
        "В данном задании необходимо сгруппировать по смыслу слова из заданного списка с помощью алгоритмов кластеризации. Чтобы это осуществить, мы воспользуемся предобученными векторными представлениями (эмбеддингами) этих слов.\n",
        "\n",
        "1. Загрузите предобученные эмбеддинги слов из библиотеки `gensim` (модель `word2vec-ruscorpora-300`). Преобразуйте слова из представленного списка к векторному представлению.\n",
        "2. Подберите подходящее число кластеров для кластеризации с помощью алгоритма KMeans - для этого понадобится построить график зависимости среднего расстояния между точками и центрами кластеров, к которым они принадлежат, от числа кластеров.\n",
        "3. Сгруппируйте слова по кластерам с помощью алгоритма KMeans, взяв число кластеров, найденное в прошлом пункте задания. Выведите содержимое каждого полученного кластера.\n",
        "4. Визуализируйте результат иерархической кластеризации слов с использованием дендрограммы из библиотеки `SciPy` (методы `dendrogram` и `ward` из модуля `scipy.cluster.hierarchy`). Для более наглядной визуализации при вызове функции `dendrogram` задайте параметры `orientation` (ориентация графика) и `labels` (список названий кластеризуемых объектов - в данном случае список кластеризуемых слов). Должен получиться примерно следующий результат:\n",
        "![image.png](data:image/png;base64,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)\n",
        "5. Напишите выводы по полученным результатам."
      ]
    },
    {
      "cell_type": "markdown",
      "metadata": {
        "id": "_swmAFwSOmIY"
      },
      "source": [
        "**Импорты**"
      ]
    },
    {
      "cell_type": "code",
      "metadata": {
        "id": "qfjKJlQdOlTB"
      },
      "source": [
        "import gensim.downloader\n",
        "from sklearn.cluster import KMeans\n",
        "from scipy.cluster.hierarchy import dendrogram, ward\n",
        "import matplotlib.pyplot as plt\n",
        "import numpy as np"
      ],
      "execution_count": null,
      "outputs": []
    },
    {
      "cell_type": "markdown",
      "metadata": {
        "id": "YxH894wvOsdk"
      },
      "source": [
        "**Примеры кода**"
      ]
    },
    {
      "cell_type": "markdown",
      "metadata": {
        "id": "1w0KQt7vOzVu"
      },
      "source": [
        "Получение векторных представлений слов"
      ]
    },
    {
      "cell_type": "code",
      "metadata": {
        "id": "MDjUn0KIOzHN"
      },
      "source": [
        "words_list = ['компьютер', 'диск', 'клавиатура', 'молоток', 'станок', 'дрель']  # Создаем список слов, которые необходимо кластеризовать\n",
        "words_with_pos_list = [word + '_NOUN' for word in words_list]                   # Добавляем тэг части речи (существительное) к каждому слову из списка (необходимо для извлечения эмбеддингов)"
      ],
      "execution_count": null,
      "outputs": []
    },
    {
      "cell_type": "code",
      "metadata": {
        "id": "xE6LMAONPhPi",
        "colab": {
          "base_uri": "https://localhost:8080/"
        },
        "outputId": "fa0249cb-dda7-43ac-fc73-4723bb2237d6"
      },
      "source": [
        "vectors_dict = gensim.downloader.load('word2vec-ruscorpora-300')                # Загружаем модель для извлечения векторных представлений слов"
      ],
      "execution_count": null,
      "outputs": [
        {
          "output_type": "stream",
          "name": "stdout",
          "text": [
            "[==================================================] 100.0% 198.8/198.8MB downloaded\n"
          ]
        }
      ]
    },
    {
      "cell_type": "code",
      "metadata": {
        "colab": {
          "base_uri": "https://localhost:8080/"
        },
        "id": "7Sqj0BFFPvNZ",
        "outputId": "55c37781-e194-4be2-83d9-f7c1669eba9e"
      },
      "source": [
        "vectors = vectors_dict[words_with_pos_list]                                      # Получаем векторные представления слов\n",
        "print(vectors.shape)                                                             # Проверяем размерность полученного массива"
      ],
      "execution_count": null,
      "outputs": [
        {
          "output_type": "stream",
          "name": "stdout",
          "text": [
            "(6, 300)\n"
          ]
        }
      ]
    },
    {
      "cell_type": "markdown",
      "metadata": {
        "id": "pDTo0txQQHiR"
      },
      "source": [
        "Построение графика зависимости среднего расстояния до центров кластеров от числа кластеров"
      ]
    },
    {
      "cell_type": "code",
      "metadata": {
        "colab": {
          "base_uri": "https://localhost:8080/",
          "height": 282
        },
        "id": "BIlkVhhmQY5c",
        "outputId": "8bb30d4c-274c-4cbd-9557-95e525c043c2"
      },
      "source": [
        "n_clusters_list = [1, 2, 3, 4, 5, 6, 7]                                   # Список со значениями числа кластеров\n",
        "inertia_list = [10, 8, 7, 6.5, 6.25, 6, 5.75]                             # Список с соответствующими средними значениями до центров кластеров (inertia)\n",
        "\n",
        "for idx, n_clusters in enumerate(n_clusters_list[:-1]):                   # Итерируемся по списку со значениями числа кластеров + получаем индекс текущего элемента\n",
        "  change = inertia_list[idx + 1] - inertia_list[idx]                      # Рассчитываем изменение значения inertia при увеличении числа кластеров на 1\n",
        "  plt.plot(                                                               # Строим линии, показывающие направление изменения значения inertia при увеличении числа кластеров на 1\n",
        "      [n_clusters, n_clusters + 3], \n",
        "      [inertia_list[idx], inertia_list[idx] + 3 * change], color='red')\n",
        "plt.plot(n_clusters_list, inertia_list, 'bx-')                            # Строим график зависимости среднего расстояния до центров кластеров от числа кластеров"
      ],
      "execution_count": null,
      "outputs": [
        {
          "output_type": "execute_result",
          "data": {
            "text/plain": [
              "[<matplotlib.lines.Line2D at 0x7fb583a91a10>]"
            ]
          },
          "metadata": {},
          "execution_count": 5
        },
        {
          "output_type": "display_data",
          "data": {
            "image/png": "[encoded data removed]",
            "text/plain": [
              "<Figure size 432x288 with 1 Axes>"
            ]
          },
          "metadata": {
            "needs_background": "light"
          }
        }
      ]
    },
    {
      "cell_type": "markdown",
      "metadata": {
        "id": "X3ETiRB5OwWc"
      },
      "source": [
        "**Решение**"
      ]
    },
    {
      "cell_type": "code",
      "metadata": {
        "id": "Xf0OpvOrRN25"
      },
      "source": [
        "# Создаем список слов, которые необходимо кластеризовать\n",
        "words_list = ['яблоко', 'груша', 'апельсин', 'ананас', 'вишня', 'персик', 'банан', 'апельсин', 'мандарин',\n",
        "              'томат', 'огурец', 'картофель', 'свекла', 'укроп', 'перец', 'морковь', 'лук',\n",
        "              'стрела', 'меч', 'щит', 'копье', 'шлем', 'кольчуга', 'молот',\n",
        "              'доктор', 'программист', 'плотник', 'артист', 'певец', 'директор', 'писатель', 'шахтер',\n",
        "              'лес', 'долина', 'гора', 'река', 'равнина', 'холм', 'водопад', 'ключ', \n",
        "              'замок', 'дверь', 'арка', 'стена', 'лестница', 'потолок', 'окно']\n",
        "\n",
        "words_with_pos_list = [word + '_NOUN' for word in words_list]     # Добавляем тэг части речи (существительное) к каждому слову из списка (необходимо для извлечения эмбеддингов)"
      ],
      "execution_count": null,
      "outputs": []
    },
    {
      "cell_type": "code",
      "source": [
        "vectors = vectors_dict[words_with_pos_list]"
      ],
      "metadata": {
        "id": "mfXrXIdFb5mf"
      },
      "execution_count": null,
      "outputs": []
    },
    {
      "cell_type": "code",
      "source": [
        "n_clusters_list = []                                   # Список со значениями числа кластеров\n",
        "inertia_list = []\n",
        "KMean_models = []\n",
        "predict_KMeans= []\n",
        "selected_clusters=[]\n",
        "\n",
        "for n_clusters in range(1,len(words_list)):\n",
        "  n_clusters_list.append(n_clusters)\n",
        "  KMean_models.append(KMeans(n_clusters=n_clusters))\n",
        "  selected_clusters.append(KMean_models[-1].fit_predict(vectors))\n",
        "  inertia_list.append(KMean_models[-1].inertia_)\n",
        "  if(n_clusters>=2):\n",
        "    change = inertia_list[-2] - inertia_list[-1]\n",
        "    plt.plot(                                                               # Строим линии, показывающие направление изменения значения inertia при увеличении числа кластеров на 1\n",
        "      [n_clusters-1, n_clusters+5], \n",
        "      [inertia_list[-2], inertia_list[-2] - change*6], color='red')\n",
        "plt.plot(n_clusters_list, inertia_list, 'bx-')                            # Строим график зависимости среднего расстояния до центров кластеров от числа кластеров"
      ],
      "metadata": {
        "colab": {
          "base_uri": "https://localhost:8080/",
          "height": 282
        },
        "id": "RBijY_r9acx4",
        "outputId": "b3621f2a-d8b1-4ffc-f927-733b98a58f56"
      },
      "execution_count": null,
      "outputs": [
        {
          "output_type": "execute_result",
          "data": {
            "text/plain": [
              "[<matplotlib.lines.Line2D at 0x7fb57db60a90>]"
            ]
          },
          "metadata": {},
          "execution_count": 39
        },
        {
          "output_type": "display_data",
          "data": {
            "image/png": "[encoded data removed]",
            "text/plain": [
              "<Figure size 432x288 with 1 Axes>"
            ]
          },
          "metadata": {
            "needs_background": "light"
          }
        }
      ]
    },
    {
      "cell_type": "markdown",
      "source": [
        "Нет очевидного оптимального числа, т.к. слов мало. Можно взять 6 или 11 кластеров."
      ],
      "metadata": {
        "id": "0oiXHcUmx35H"
      }
    },
    {
      "cell_type": "code",
      "source": [
        "selected_clusters[5]"
      ],
      "metadata": {
        "colab": {
          "base_uri": "https://localhost:8080/"
        },
        "id": "8tdocRcxySi9",
        "outputId": "913b6a3a-4bd0-4d71-8fd6-670fcd8a1116"
      },
      "execution_count": null,
      "outputs": [
        {
          "output_type": "execute_result",
          "data": {
            "text/plain": [
              "array([1, 1, 1, 1, 1, 1, 1, 1, 1, 4, 4, 4, 4, 4, 4, 4, 4, 0, 0, 0, 0, 0,\n",
              "       0, 0, 5, 5, 5, 5, 5, 5, 5, 5, 3, 3, 3, 3, 3, 3, 3, 2, 2, 2, 2, 2,\n",
              "       2, 2, 2], dtype=int32)"
            ]
          },
          "metadata": {},
          "execution_count": 55
        }
      ]
    },
    {
      "cell_type": "markdown",
      "source": [
        "Результаты, слова в кластерах K-means"
      ],
      "metadata": {
        "id": "oQ8xkx4hcYAD"
      }
    },
    {
      "cell_type": "code",
      "source": [
        "for i in range(6):\n",
        "  print(\"Cluster-\",i)\n",
        "  print([words_list[i] for i in np.where(selected_clusters[5]==i)[0]])"
      ],
      "metadata": {
        "colab": {
          "base_uri": "https://localhost:8080/"
        },
        "id": "DAUOioGbymbb",
        "outputId": "d94d680b-42af-4072-f022-ce6a213b9b0d"
      },
      "execution_count": null,
      "outputs": [
        {
          "output_type": "stream",
          "name": "stdout",
          "text": [
            "Cluster- 0\n",
            "['стрела', 'меч', 'щит', 'копье', 'шлем', 'кольчуга', 'молот']\n",
            "Cluster- 1\n",
            "['яблоко', 'груша', 'апельсин', 'ананас', 'вишня', 'персик', 'банан', 'апельсин', 'мандарин']\n",
            "Cluster- 2\n",
            "['ключ', 'замок', 'дверь', 'арка', 'стена', 'лестница', 'потолок', 'окно']\n",
            "Cluster- 3\n",
            "['лес', 'долина', 'гора', 'река', 'равнина', 'холм', 'водопад']\n",
            "Cluster- 4\n",
            "['томат', 'огурец', 'картофель', 'свекла', 'укроп', 'перец', 'морковь', 'лук']\n",
            "Cluster- 5\n",
            "['доктор', 'программист', 'плотник', 'артист', 'певец', 'директор', 'писатель', 'шахтер']\n"
          ]
        }
      ]
    },
    {
      "cell_type": "markdown",
      "source": [
        "Дендрограмма для aglomerate clustering"
      ],
      "metadata": {
        "id": "3HkETogTca4q"
      }
    },
    {
      "cell_type": "code",
      "source": [
        "from scipy.cluster import hierarchy\n",
        "import matplotlib.pyplot as plt"
      ],
      "metadata": {
        "id": "jvCug2JmkgZq"
      },
      "execution_count": null,
      "outputs": []
    },
    {
      "cell_type": "code",
      "source": [
        "Z = hierarchy.linkage(vectors, 'single')\n",
        "plt.figure(figsize=(20, 20))\n",
        "dn = hierarchy.dendrogram(Z,orientation='left',labels=words_list)"
      ],
      "metadata": {
        "colab": {
          "base_uri": "https://localhost:8080/",
          "height": 1000
        },
        "id": "f7YaDt4ViRra",
        "outputId": "760b0700-ba9b-45e0-e12e-473aae88904f"
      },
      "execution_count": null,
      "outputs": [
        {
          "output_type": "display_data",
          "data": {
            "image/png": "[encoded data removed]",
            "text/plain": [
              "<Figure size 1440x1440 with 1 Axes>"
            ]
          },
          "metadata": {
            "needs_background": "light"
          }
        }
      ]
    },
    {
      "cell_type": "code",
      "source": [
        "Z"
      ],
      "metadata": {
        "colab": {
          "base_uri": "https://localhost:8080/"
        },
        "id": "puYBfP9NiRza",
        "outputId": "64865065-6c41-4e0d-c976-506bc3330fbb"
      },
      "execution_count": null,
      "outputs": [
        {
          "output_type": "execute_result",
          "data": {
            "text/plain": [
              "array([[ 2.        ,  7.        ,  0.        ,  2.        ],\n",
              "       [11.        , 12.        ,  0.64628128,  2.        ],\n",
              "       [15.        , 48.        ,  0.65485521,  3.        ],\n",
              "       [34.        , 37.        ,  0.69138723,  2.        ],\n",
              "       [ 1.        ,  4.        ,  0.71305644,  2.        ],\n",
              "       [33.        , 36.        ,  0.71565184,  2.        ],\n",
              "       [10.        , 49.        ,  0.72722275,  4.        ],\n",
              "       [ 6.        , 47.        ,  0.72901753,  3.        ],\n",
              "       [50.        , 52.        ,  0.73271425,  4.        ],\n",
              "       [18.        , 20.        ,  0.73408294,  2.        ],\n",
              "       [13.        , 53.        ,  0.74846171,  5.        ],\n",
              "       [ 9.        , 57.        ,  0.79234583,  6.        ],\n",
              "       [35.        , 55.        ,  0.79498202,  5.        ],\n",
              "       [ 5.        , 51.        ,  0.80294806,  3.        ],\n",
              "       [ 3.        , 54.        ,  0.80620816,  4.        ],\n",
              "       [14.        , 58.        ,  0.80814763,  7.        ],\n",
              "       [41.        , 46.        ,  0.82636656,  2.        ],\n",
              "       [17.        , 56.        ,  0.82781433,  3.        ],\n",
              "       [16.        , 62.        ,  0.83035993,  8.        ],\n",
              "       [43.        , 45.        ,  0.830886  ,  2.        ],\n",
              "       [27.        , 28.        ,  0.85076565,  2.        ],\n",
              "       [ 8.        , 61.        ,  0.85213069,  5.        ],\n",
              "       [60.        , 68.        ,  0.87000444,  8.        ],\n",
              "       [44.        , 63.        ,  0.87335169,  3.        ],\n",
              "       [21.        , 22.        ,  0.888045  ,  2.        ],\n",
              "       [ 0.        , 69.        ,  0.91139866,  9.        ],\n",
              "       [39.        , 40.        ,  0.92346819,  2.        ],\n",
              "       [65.        , 72.        ,  0.92515215, 17.        ],\n",
              "       [66.        , 70.        ,  0.92684932,  5.        ],\n",
              "       [19.        , 64.        ,  0.93411509,  4.        ],\n",
              "       [71.        , 76.        ,  0.93605697,  6.        ],\n",
              "       [38.        , 59.        ,  0.94656579,  6.        ],\n",
              "       [74.        , 77.        ,  0.96716645, 23.        ],\n",
              "       [42.        , 75.        ,  0.9714419 ,  6.        ],\n",
              "       [32.        , 78.        ,  0.97362392,  7.        ],\n",
              "       [30.        , 67.        ,  0.98476484,  3.        ],\n",
              "       [80.        , 81.        ,  1.03244887, 13.        ],\n",
              "       [73.        , 83.        ,  1.04526159, 15.        ],\n",
              "       [79.        , 84.        ,  1.05651296, 38.        ],\n",
              "       [23.        , 85.        ,  1.13421925, 39.        ],\n",
              "       [24.        , 29.        ,  1.15087103,  2.        ],\n",
              "       [31.        , 86.        ,  1.16560204, 40.        ],\n",
              "       [26.        , 88.        ,  1.17215118, 41.        ],\n",
              "       [82.        , 89.        ,  1.17488299, 44.        ],\n",
              "       [25.        , 90.        ,  1.21525877, 45.        ],\n",
              "       [87.        , 91.        ,  1.21632295, 47.        ]])"
            ]
          },
          "metadata": {},
          "execution_count": 50
        }
      ]
    },
    {
      "cell_type": "code",
      "source": [],
      "metadata": {
        "id": "d-MDGQjf16nq"
      },
      "execution_count": null,
      "outputs": []
    },
    {
      "cell_type": "markdown",
      "source": [
        "Дальше тесты."
      ],
      "metadata": {
        "id": "x6U5fz-818Fh"
      }
    },
    {
      "cell_type": "code",
      "source": [],
      "metadata": {
        "id": "nGqZ_UQc160O"
      },
      "execution_count": null,
      "outputs": []
    },
    {
      "cell_type": "code",
      "source": [],
      "metadata": {
        "id": "vnbpnhsX166o"
      },
      "execution_count": null,
      "outputs": []
    },
    {
      "cell_type": "code",
      "source": [],
      "metadata": {
        "id": "jVbfABNK17Cy"
      },
      "execution_count": null,
      "outputs": []
    },
    {
      "cell_type": "code",
      "source": [],
      "metadata": {
        "id": "eh9SL9mt17IG"
      },
      "execution_count": null,
      "outputs": []
    },
    {
      "cell_type": "code",
      "source": [
        "np.linalg.norm(vectors[0]-vectors[-1])"
      ],
      "metadata": {
        "colab": {
          "base_uri": "https://localhost:8080/"
        },
        "id": "1rDu-7bkfwNx",
        "outputId": "18fe5303-b4a0-4ddf-b9cf-dcb37373203b"
      },
      "execution_count": null,
      "outputs": [
        {
          "output_type": "execute_result",
          "data": {
            "text/plain": [
              "1.2954335"
            ]
          },
          "metadata": {},
          "execution_count": 28
        }
      ]
    },
    {
      "cell_type": "code",
      "source": [],
      "metadata": {
        "id": "o6ye3t2G16Fb"
      },
      "execution_count": null,
      "outputs": []
    },
    {
      "cell_type": "code",
      "source": [
        "np.linalg.norm(KMean_models[1].cluster_centers_[0]-KMean_models[1].cluster_centers_[1])"
      ],
      "metadata": {
        "colab": {
          "base_uri": "https://localhost:8080/"
        },
        "id": "E1rATFKbgqgj",
        "outputId": "31d7317a-ba8e-45e7-9f2d-9208e180b055"
      },
      "execution_count": null,
      "outputs": [
        {
          "output_type": "execute_result",
          "data": {
            "text/plain": [
              "0.72610134"
            ]
          },
          "metadata": {},
          "execution_count": 30
        }
      ]
    },
    {
      "cell_type": "code",
      "source": [
        "print(np.linalg.norm(KMean_models[2].cluster_centers_[0]-KMean_models[2].cluster_centers_[1]))\n",
        "print(np.linalg.norm(KMean_models[2].cluster_centers_[0]-KMean_models[2].cluster_centers_[2]))\n",
        "print(np.linalg.norm(KMean_models[2].cluster_centers_[1]-KMean_models[2].cluster_centers_[2]))"
      ],
      "metadata": {
        "colab": {
          "base_uri": "https://localhost:8080/"
        },
        "id": "Xe9tbo46g-ty",
        "outputId": "d7b45dff-1368-4b59-9e4e-23f0744dcc45"
      },
      "execution_count": null,
      "outputs": [
        {
          "output_type": "stream",
          "name": "stdout",
          "text": [
            "0.7171067\n",
            "0.72610134\n",
            "0.9191735\n"
          ]
        }
      ]
    },
    {
      "cell_type": "code",
      "source": [
        "print(np.linalg.norm(KMean_models[3].cluster_centers_[0]-KMean_models[3].cluster_centers_[1]))\n",
        "print(np.linalg.norm(KMean_models[3].cluster_centers_[0]-KMean_models[3].cluster_centers_[2]))\n",
        "print(np.linalg.norm(KMean_models[3].cluster_centers_[1]-KMean_models[3].cluster_centers_[2]))\n",
        "print(np.linalg.norm(KMean_models[3].cluster_centers_[0]-KMean_models[3].cluster_centers_[3]))\n",
        "print(np.linalg.norm(KMean_models[3].cluster_centers_[1]-KMean_models[3].cluster_centers_[3]))\n",
        "print(np.linalg.norm(KMean_models[3].cluster_centers_[2]-KMean_models[3].cluster_centers_[3]))"
      ],
      "metadata": {
        "colab": {
          "base_uri": "https://localhost:8080/",
          "height": 286
        },
        "id": "7hom-WShhRIp",
        "outputId": "c663405c-8cf6-4c99-854d-907c1bcda096"
      },
      "execution_count": null,
      "outputs": [
        {
          "output_type": "stream",
          "name": "stdout",
          "text": [
            "0.9191735\n",
            "0.72610134\n",
            "0.7171067\n"
          ]
        },
        {
          "output_type": "error",
          "ename": "IndexError",
          "evalue": "ignored",
          "traceback": [
            "\u001b[0;31m---------------------------------------------------------------------------\u001b[0m",
            "\u001b[0;31mIndexError\u001b[0m                                Traceback (most recent call last)",
            "\u001b[0;32m<ipython-input-32-db2b7208d156>\u001b[0m in \u001b[0;36m<module>\u001b[0;34m()\u001b[0m\n\u001b[1;32m      2\u001b[0m \u001b[0mprint\u001b[0m\u001b[0;34m(\u001b[0m\u001b[0mnp\u001b[0m\u001b[0;34m.\u001b[0m\u001b[0mlinalg\u001b[0m\u001b[0;34m.\u001b[0m\u001b[0mnorm\u001b[0m\u001b[0;34m(\u001b[0m\u001b[0mKMean_models\u001b[0m\u001b[0;34m[\u001b[0m\u001b[0;36m3\u001b[0m\u001b[0;34m]\u001b[0m\u001b[0;34m.\u001b[0m\u001b[0mcluster_centers_\u001b[0m\u001b[0;34m[\u001b[0m\u001b[0;36m0\u001b[0m\u001b[0;34m]\u001b[0m\u001b[0;34m-\u001b[0m\u001b[0mKMean_models\u001b[0m\u001b[0;34m[\u001b[0m\u001b[0;36m3\u001b[0m\u001b[0;34m]\u001b[0m\u001b[0;34m.\u001b[0m\u001b[0mcluster_centers_\u001b[0m\u001b[0;34m[\u001b[0m\u001b[0;36m2\u001b[0m\u001b[0;34m]\u001b[0m\u001b[0;34m)\u001b[0m\u001b[0;34m)\u001b[0m\u001b[0;34m\u001b[0m\u001b[0;34m\u001b[0m\u001b[0m\n\u001b[1;32m      3\u001b[0m \u001b[0mprint\u001b[0m\u001b[0;34m(\u001b[0m\u001b[0mnp\u001b[0m\u001b[0;34m.\u001b[0m\u001b[0mlinalg\u001b[0m\u001b[0;34m.\u001b[0m\u001b[0mnorm\u001b[0m\u001b[0;34m(\u001b[0m\u001b[0mKMean_models\u001b[0m\u001b[0;34m[\u001b[0m\u001b[0;36m3\u001b[0m\u001b[0;34m]\u001b[0m\u001b[0;34m.\u001b[0m\u001b[0mcluster_centers_\u001b[0m\u001b[0;34m[\u001b[0m\u001b[0;36m1\u001b[0m\u001b[0;34m]\u001b[0m\u001b[0;34m-\u001b[0m\u001b[0mKMean_models\u001b[0m\u001b[0;34m[\u001b[0m\u001b[0;36m3\u001b[0m\u001b[0;34m]\u001b[0m\u001b[0;34m.\u001b[0m\u001b[0mcluster_centers_\u001b[0m\u001b[0;34m[\u001b[0m\u001b[0;36m2\u001b[0m\u001b[0;34m]\u001b[0m\u001b[0;34m)\u001b[0m\u001b[0;34m)\u001b[0m\u001b[0;34m\u001b[0m\u001b[0;34m\u001b[0m\u001b[0m\n\u001b[0;32m----> 4\u001b[0;31m \u001b[0mprint\u001b[0m\u001b[0;34m(\u001b[0m\u001b[0mnp\u001b[0m\u001b[0;34m.\u001b[0m\u001b[0mlinalg\u001b[0m\u001b[0;34m.\u001b[0m\u001b[0mnorm\u001b[0m\u001b[0;34m(\u001b[0m\u001b[0mKMean_models\u001b[0m\u001b[0;34m[\u001b[0m\u001b[0;36m3\u001b[0m\u001b[0;34m]\u001b[0m\u001b[0;34m.\u001b[0m\u001b[0mcluster_centers_\u001b[0m\u001b[0;34m[\u001b[0m\u001b[0;36m0\u001b[0m\u001b[0;34m]\u001b[0m\u001b[0;34m-\u001b[0m\u001b[0mKMean_models\u001b[0m\u001b[0;34m[\u001b[0m\u001b[0;36m3\u001b[0m\u001b[0;34m]\u001b[0m\u001b[0;34m.\u001b[0m\u001b[0mcluster_centers_\u001b[0m\u001b[0;34m[\u001b[0m\u001b[0;36m3\u001b[0m\u001b[0;34m]\u001b[0m\u001b[0;34m)\u001b[0m\u001b[0;34m)\u001b[0m\u001b[0;34m\u001b[0m\u001b[0;34m\u001b[0m\u001b[0m\n\u001b[0m\u001b[1;32m      5\u001b[0m \u001b[0mprint\u001b[0m\u001b[0;34m(\u001b[0m\u001b[0mnp\u001b[0m\u001b[0;34m.\u001b[0m\u001b[0mlinalg\u001b[0m\u001b[0;34m.\u001b[0m\u001b[0mnorm\u001b[0m\u001b[0;34m(\u001b[0m\u001b[0mKMean_models\u001b[0m\u001b[0;34m[\u001b[0m\u001b[0;36m3\u001b[0m\u001b[0;34m]\u001b[0m\u001b[0;34m.\u001b[0m\u001b[0mcluster_centers_\u001b[0m\u001b[0;34m[\u001b[0m\u001b[0;36m1\u001b[0m\u001b[0;34m]\u001b[0m\u001b[0;34m-\u001b[0m\u001b[0mKMean_models\u001b[0m\u001b[0;34m[\u001b[0m\u001b[0;36m3\u001b[0m\u001b[0;34m]\u001b[0m\u001b[0;34m.\u001b[0m\u001b[0mcluster_centers_\u001b[0m\u001b[0;34m[\u001b[0m\u001b[0;36m3\u001b[0m\u001b[0;34m]\u001b[0m\u001b[0;34m)\u001b[0m\u001b[0;34m)\u001b[0m\u001b[0;34m\u001b[0m\u001b[0;34m\u001b[0m\u001b[0m\n\u001b[1;32m      6\u001b[0m \u001b[0mprint\u001b[0m\u001b[0;34m(\u001b[0m\u001b[0mnp\u001b[0m\u001b[0;34m.\u001b[0m\u001b[0mlinalg\u001b[0m\u001b[0;34m.\u001b[0m\u001b[0mnorm\u001b[0m\u001b[0;34m(\u001b[0m\u001b[0mKMean_models\u001b[0m\u001b[0;34m[\u001b[0m\u001b[0;36m3\u001b[0m\u001b[0;34m]\u001b[0m\u001b[0;34m.\u001b[0m\u001b[0mcluster_centers_\u001b[0m\u001b[0;34m[\u001b[0m\u001b[0;36m2\u001b[0m\u001b[0;34m]\u001b[0m\u001b[0;34m-\u001b[0m\u001b[0mKMean_models\u001b[0m\u001b[0;34m[\u001b[0m\u001b[0;36m3\u001b[0m\u001b[0;34m]\u001b[0m\u001b[0;34m.\u001b[0m\u001b[0mcluster_centers_\u001b[0m\u001b[0;34m[\u001b[0m\u001b[0;36m3\u001b[0m\u001b[0;34m]\u001b[0m\u001b[0;34m)\u001b[0m\u001b[0;34m)\u001b[0m\u001b[0;34m\u001b[0m\u001b[0;34m\u001b[0m\u001b[0m\n",
            "\u001b[0;31mIndexError\u001b[0m: index 3 is out of bounds for axis 0 with size 3"
          ]
        }
      ]
    },
    {
      "cell_type": "code",
      "source": [],
      "metadata": {
        "id": "TZfZEKkJac9B"
      },
      "execution_count": null,
      "outputs": []
    }
  ]
}