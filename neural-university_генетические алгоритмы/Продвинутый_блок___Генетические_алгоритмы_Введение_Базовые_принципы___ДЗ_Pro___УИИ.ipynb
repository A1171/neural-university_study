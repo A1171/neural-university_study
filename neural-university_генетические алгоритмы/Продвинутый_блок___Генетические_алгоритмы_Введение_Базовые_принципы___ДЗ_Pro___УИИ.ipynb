{
  "nbformat": 4,
  "nbformat_minor": 0,
  "metadata": {
    "colab": {
      "provenance": []
    },
    "kernelspec": {
      "name": "python3",
      "display_name": "Python 3"
    },
    "language_info": {
      "name": "python"
    }
  },
  "cells": [
    {
      "cell_type": "markdown",
      "source": [
        "Решение уравнения с помощью генетического алгоритма."
      ],
      "metadata": {
        "id": "a9YAR25BVExr"
      }
    },
    {
      "cell_type": "markdown",
      "source": [
        "Используя генетический алгоритм, найдите корни уравнения:\n",
        "\n",
        "$f(xy)=7x^2 - y + \\frac{y^3 - x^2}{3x} + y^2 - 21x$\n",
        "\n",
        "*P.s. постарайтесь по максимуму использовать возможности библиотеки numpy для ускорения процеесса вычислений*"
      ],
      "metadata": {
        "id": "ukCORUXLEvv7"
      }
    },
    {
      "cell_type": "markdown",
      "source": [
        "**Решение**"
      ],
      "metadata": {
        "id": "77-ZFgnFDVIl"
      }
    },
    {
      "cell_type": "code",
      "source": [
        "import numpy as np  \n",
        "import random\n",
        "import matplotlib.pyplot as plt"
      ],
      "metadata": {
        "id": "YHVJp-N40-pu"
      },
      "execution_count": null,
      "outputs": []
    },
    {
      "cell_type": "code",
      "source": [
        "# Задание рабочей функции\n",
        "def f(x, y):\n",
        "    return 7*pow(x,2)-y+(pow(y,3)-pow(x,2))/3/x+pow(y,2)-21*x"
      ],
      "metadata": {
        "id": "BOa4Y80DkCcB"
      },
      "execution_count": null,
      "outputs": []
    },
    {
      "cell_type": "code",
      "source": [
        "# Задание длины бота\n",
        "botlength = 6\n",
        "\n",
        "# Задание размера популяции\n",
        "populationlength = 1000\n",
        "\n",
        "# Задание стартового значения мутации\n",
        "mutation = 0.6\n",
        "\n",
        "# Задание количества выживших\n",
        "nsurv = 200\n",
        "\n",
        "# Задаем количество новых ботов\n",
        "nnew = populationlength - nsurv\n",
        "\n",
        "# Задание количества эпох\n",
        "epochs = 100"
      ],
      "metadata": {
        "id": "G6n99Zj4kCfU"
      },
      "execution_count": null,
      "outputs": []
    },
    {
      "cell_type": "code",
      "source": [
        "def fbybot(bot):\n",
        "    # Расчет значения x\n",
        "    x = bot[0] + 10*bot[1] + 100*bot[2]\n",
        "\n",
        "    # Расчет значения y\n",
        "    y = bot[3] + 10*bot[4] + 100*bot[5]\n",
        "\n",
        "    # Возвращаем значение функции\n",
        "    return f(x, y)"
      ],
      "metadata": {
        "id": "Haslmf7RkCme"
      },
      "execution_count": null,
      "outputs": []
    },
    {
      "cell_type": "code",
      "source": [
        "# Создание популяции\n",
        "population = np.random.uniform(-10, 10, size=(populationlength, botlength))"
      ],
      "metadata": {
        "id": "AufdsjNakCqH"
      },
      "execution_count": null,
      "outputs": []
    },
    {
      "cell_type": "code",
      "source": [
        "# Запускаем цикл обучения\n",
        "for epoch in range(1, epochs):\n",
        "    # Уменьшаем мутацию\n",
        "    if epoch %10 == 0:\n",
        "        mutation*= 0.5\n",
        "    # Расчет ошибок ботов\n",
        "    val = np.array(list(map(fbybot, population)))\n",
        "    sortIndex=np.argsort(np.abs(val))\n",
        "\n",
        "    # Получение лучших ботов из популяции\n",
        "    newpopul = population[sortIndex[:nsurv]]\n",
        "\n",
        "    # Выводим 5 лучших ботов\n",
        "    if epoch %2 == 0:\n",
        "        print(f'{epoch}   {[round(s,8) for s in val[sortIndex][0:5]]}')\n",
        "\n",
        "    # Генерируем случайные пары родителей и индекс для каждого элемента\n",
        "    parents = np.array([np.random.choice(np.random.randint(0, nsurv, 2),2) for _ in range(nnew)])#.reshape(-1)\n",
        "    newbots=[]\n",
        "    for i in range(parents.shape[0]):\n",
        "      newbot=[]\n",
        "      for geneNum in range(botlength):\n",
        "        newbot.append(newpopul[np.random.choice(parents[i])][geneNum])\n",
        "      newbots.append(newbot)\n",
        "    newbots=np.array(newbots)\n",
        "\n",
        "    \n",
        "    indexesmut = np.random.choice(\n",
        "        [False, True],\n",
        "        size = newbots.shape[0],\n",
        "        p=[1-mutation, mutation])\n",
        "    \n",
        "    # Производим выборочную мутацию по сгенерированным индексам\n",
        "    newbots[indexesmut] += 2*np.random.random(newbots[indexesmut].shape) - 1.0\n",
        "    newpopul=np.vstack((newpopul,newbots))\n",
        "    \n",
        "    # Обновляем популяцию\n",
        "    population = newpopul.copy()"
      ],
      "metadata": {
        "id": "M0v6vXgKkCtW",
        "colab": {
          "base_uri": "https://localhost:8080/"
        },
        "outputId": "dd0bccc8-f388-44b0-a9c1-080f0201849e"
      },
      "execution_count": null,
      "outputs": [
        {
          "output_type": "stream",
          "name": "stdout",
          "text": [
            "2   [-286.18618074, -286.18618074, -286.18618074, -542.49104046, 1227.56080189]\n",
            "4   [2.84048771, 111.09246388, 113.33080114, 131.17808397, -286.18618074]\n",
            "6   [2.84048771, 2.84048771, -19.68064967, 42.33759033, -83.82668704]\n",
            "8   [2.84048771, 2.84048771, 6.10418366, 6.10418366, 12.21489195]\n",
            "10   [1.95507815, 2.84048771, 2.84048771, 2.84048771, 2.84048771]\n",
            "12   [-0.39515225, 1.95507815, 1.95507815, 1.95507815, 2.84048771]\n",
            "14   [-0.39515225, -0.39515225, -0.39515225, -0.39515225, -0.39515225]\n",
            "16   [-0.30563496, -0.39515225, -0.39515225, -0.39515225, -0.39515225]\n",
            "18   [-0.30563496, -0.30563496, -0.30563496, -0.30563496, -0.30563496]\n",
            "20   [-0.30563496, -0.30563496, -0.30563496, -0.30563496, -0.30563496]\n",
            "22   [-0.30563496, -0.30563496, -0.30563496, -0.30563496, -0.30563496]\n",
            "24   [-0.30563496, -0.30563496, -0.30563496, -0.30563496, -0.30563496]\n",
            "26   [-0.30563496, -0.30563496, -0.30563496, -0.30563496, -0.30563496]\n",
            "28   [-0.30563496, -0.30563496, -0.30563496, -0.30563496, -0.30563496]\n",
            "30   [-0.30563496, -0.30563496, -0.30563496, -0.30563496, -0.30563496]\n",
            "32   [-0.30563496, -0.30563496, -0.30563496, -0.30563496, -0.30563496]\n",
            "34   [-0.30563496, -0.30563496, -0.30563496, -0.30563496, -0.30563496]\n",
            "36   [-0.30563496, -0.30563496, -0.30563496, -0.30563496, -0.30563496]\n",
            "38   [-0.30563496, -0.30563496, -0.30563496, -0.30563496, -0.30563496]\n",
            "40   [-0.30563496, -0.30563496, -0.30563496, -0.30563496, -0.30563496]\n",
            "42   [-0.30563496, -0.30563496, -0.30563496, -0.30563496, -0.30563496]\n",
            "44   [-0.30563496, -0.30563496, -0.30563496, -0.30563496, -0.30563496]\n",
            "46   [-0.30563496, -0.30563496, -0.30563496, -0.30563496, -0.30563496]\n",
            "48   [-0.30563496, -0.30563496, -0.30563496, -0.30563496, -0.30563496]\n"
          ]
        }
      ]
    },
    {
      "cell_type": "code",
      "source": [
        "bot=population[0]\n",
        "x = bot[0] + 10*bot[1] + 100*bot[2]\n",
        "y = bot[3] + 10*bot[4] + 100*bot[5]\n",
        "print(x,y,f(x, y))"
      ],
      "metadata": {
        "colab": {
          "base_uri": "https://localhost:8080/"
        },
        "id": "LvAMAqnw77ZU",
        "outputId": "31a231d0-8552-402e-a6c7-c146960f9a2b"
      },
      "execution_count": null,
      "outputs": [
        {
          "output_type": "stream",
          "name": "stdout",
          "text": [
            "2.292090862372291 -4.963230637437093 -0.3056349633957183\n"
          ]
        }
      ]
    },
    {
      "cell_type": "markdown",
      "source": [
        "Сошелся на решении."
      ],
      "metadata": {
        "id": "MvtgUugoUeh9"
      }
    },
    {
      "cell_type": "code",
      "source": [],
      "metadata": {
        "id": "Y6TdtpqA87It"
      },
      "execution_count": null,
      "outputs": []
    },
    {
      "cell_type": "code",
      "source": [],
      "metadata": {
        "id": "dEA3A2iC87MN"
      },
      "execution_count": null,
      "outputs": []
    },
    {
      "cell_type": "code",
      "source": [],
      "metadata": {
        "id": "eWHAmczs87Py"
      },
      "execution_count": null,
      "outputs": []
    },
    {
      "cell_type": "markdown",
      "source": [
        "Дальше тесты"
      ],
      "metadata": {
        "id": "EFQ43N2h87yf"
      }
    },
    {
      "cell_type": "code",
      "source": [
        " val = np.array(list(map(fbybot, population)))\n",
        " sortIndex=np.argsort(np.abs(val))"
      ],
      "metadata": {
        "id": "Siis7e_WZING"
      },
      "execution_count": null,
      "outputs": []
    },
    {
      "cell_type": "code",
      "source": [
        "val[sortIndex[:200]]"
      ],
      "metadata": {
        "colab": {
          "base_uri": "https://localhost:8080/"
        },
        "id": "pf4QMvjAcKWi",
        "outputId": "bbb05ce3-c18a-4db1-b8d1-34348a9d078a"
      },
      "execution_count": null,
      "outputs": [
        {
          "output_type": "execute_result",
          "data": {
            "text/plain": [
              "array([   1394.38140236,    3263.42596124,    5894.40287164,\n",
              "          7302.56246004,   -7888.00268672,   -9693.00916001,\n",
              "        -11963.83506266,   12273.80456046,  -14381.50863477,\n",
              "        -17461.13580749,   18197.91628805,   18425.96625619,\n",
              "         21322.46202845,  -25486.31941451,   27150.99592844,\n",
              "         29242.50062163,   29700.94818381,  -37622.70741031,\n",
              "         38100.83329565,   41198.33943289,  -43747.88563235,\n",
              "         44522.46870537,   44805.72698025,   45564.7407513 ,\n",
              "         47012.14572108,   51525.5885534 ,  -51580.8224938 ,\n",
              "         54539.59844981,   55237.99953343,   72764.96784744,\n",
              "        -73109.89958606,   82330.31265568,  -88530.12911452,\n",
              "         96776.73879201,   97672.33165258,  105494.14760805,\n",
              "       -105626.08003664,  110205.35165953,  115322.22009716,\n",
              "        115340.89519156,  117850.24387439,  120514.2691533 ,\n",
              "        120869.44548792,  121800.89430055,  128961.16448946,\n",
              "        130681.63787184,  132686.29564097,  134057.08738242,\n",
              "        135329.13739036, -135635.2968966 , -136294.63047349,\n",
              "        138326.49055142,  140597.89906746,  140671.63117483,\n",
              "        141314.53348025,  142791.14308974,  142981.05497439,\n",
              "        152237.03107983,  152316.79516003,  155394.69266334,\n",
              "        162119.06299493,  162700.64394523, -170265.67461426,\n",
              "        171722.204319  ,  172856.45559072,  175295.82179854,\n",
              "       -177000.05623979, -179241.93835112,  186599.74816767,\n",
              "        188310.13187739,  189759.88554843,  190031.53846746,\n",
              "       -190499.66254807,  200283.68564518,  200441.002218  ,\n",
              "        204475.2349575 ,  204974.27878827,  205389.25736172,\n",
              "        229308.50800541,  230645.00364616,  233494.52239936,\n",
              "        238005.22293796,  239640.17396675,  247332.50140581,\n",
              "        248097.95131683,  249381.25000897,  252966.71058646,\n",
              "       -254549.88475423,  262863.3330965 ,  268444.85372086,\n",
              "        271080.40708856,  282541.41401001,  283257.53209686,\n",
              "        292537.43867444,  295178.64542981, -297163.93195296,\n",
              "        303221.65937859,  303251.16270115,  308171.31188997,\n",
              "        312179.58554311,  317399.12955853,  323450.30983953,\n",
              "       -330729.86631195,  330843.07958997, -332067.29319865,\n",
              "        336272.04908122,  337095.81285955,  351474.28024307,\n",
              "        354526.78011274,  357397.15087431,  361179.33059784,\n",
              "       -366769.49197996, -373938.05818306,  375107.46305749,\n",
              "        379069.32047353, -383366.50345833, -384959.48146156,\n",
              "        387526.83517204,  402418.58337924,  407973.24073217,\n",
              "        413929.67517299,  419438.65227356,  420005.92707951,\n",
              "        422079.46915348,  425812.54929509,  437038.56917662,\n",
              "        437269.25931156,  446727.97466683,  469661.65666024,\n",
              "        471174.55821409, -475275.5870193 ,  478705.52616561,\n",
              "        484862.48632391,  491085.42710175,  492124.98424268,\n",
              "        492246.71847941,  492726.06783298, -494570.86922638,\n",
              "        496247.92019999, -501796.01708217,  502773.76366611,\n",
              "        508622.01245549,  515880.34207223,  517929.83593629,\n",
              "        518754.81327533,  523010.72874044,  526410.07085555,\n",
              "        533794.58287072,  537198.34362912,  537927.0011586 ,\n",
              "        547887.1519839 ,  552399.30893195,  566973.25048855,\n",
              "        567083.79898334,  570661.71234744, -572182.96385194,\n",
              "        573618.67917566,  576980.25103486,  579515.4112858 ,\n",
              "        580381.74823283,  588524.74087455,  597235.66395564,\n",
              "        601592.80413812,  604401.73647942,  614514.46709767,\n",
              "        620086.28767634,  625769.56827659,  630832.54688484,\n",
              "        632576.10868636,  632761.66772548,  633254.05488365,\n",
              "        639769.29670562,  642675.59469876, -647100.85277315,\n",
              "        649908.12563499,  652249.78142454,  654425.92423492,\n",
              "        655238.75215557,  661138.40017332,  674803.62561244,\n",
              "        682139.19765736, -687085.39118527,  688361.63046325,\n",
              "        692426.11176631,  694245.50089315,  695467.82402209,\n",
              "        697273.29345136, -698015.24317722,  698958.21077463,\n",
              "        704400.46676404, -705895.81854124,  708352.78913039,\n",
              "        709751.34048107,  709885.01773677,  718845.44668584,\n",
              "        749444.54431672,  751385.66697038,  752004.03865461,\n",
              "        752082.73529669,  757574.73165703])"
            ]
          },
          "metadata": {},
          "execution_count": 54
        }
      ]
    },
    {
      "cell_type": "code",
      "source": [
        "parents = np.array([np.random.choice(np.random.randint(0, nsurv, 2),botlength) for _ in range(nnew)]).reshape(-1)"
      ],
      "metadata": {
        "id": "GsQ5w0UufWhb"
      },
      "execution_count": null,
      "outputs": []
    },
    {
      "cell_type": "code",
      "source": [
        "val = np.array(list(map(fbybot, population)))\n",
        "sortIndex=np.argsort(np.abs(val))\n",
        "newpopul = population[sortIndex[:nsurv]]\n",
        "parents = np.array([np.random.choice(np.random.randint(0, nsurv, 2),2) for _ in range(nnew)])#.reshape(-1)\n"
      ],
      "metadata": {
        "id": "HepW30S9fWpY"
      },
      "execution_count": null,
      "outputs": []
    },
    {
      "cell_type": "code",
      "source": [
        "newbots=[]\n",
        "for i in range(parents.shape[0]):\n",
        "      newbot=[]\n",
        "      for geneNum in range(botlength):\n",
        "        newbot.append(newpopul[np.random.choice(parents[i])][geneNum])\n",
        "      newbots.append(newbot)\n",
        "newbots=np.array(newbots)"
      ],
      "metadata": {
        "id": "X_QjZedKy2JQ"
      },
      "execution_count": null,
      "outputs": []
    },
    {
      "cell_type": "code",
      "source": [
        "newbots[0]"
      ],
      "metadata": {
        "colab": {
          "base_uri": "https://localhost:8080/"
        },
        "id": "numXR78kzBWY",
        "outputId": "896af81d-d5fb-441d-cd1d-2581ee47e22e"
      },
      "execution_count": null,
      "outputs": [
        {
          "output_type": "execute_result",
          "data": {
            "text/plain": [
              "array([ 0.09265873,  4.10607089, -2.44789526,  6.91140562,  4.83856045,\n",
              "       -0.65171655])"
            ]
          },
          "metadata": {},
          "execution_count": 39
        }
      ]
    },
    {
      "cell_type": "code",
      "source": [
        "[np.random.choice(np.random.randint(0, nsurv, 2),2),np.random.choice(np.random.randint(0, nsurv, 2),2)]"
      ],
      "metadata": {
        "colab": {
          "base_uri": "https://localhost:8080/"
        },
        "id": "nph7F6FIynop",
        "outputId": "de1f02e7-ca74-447f-d250-9802dde55508"
      },
      "execution_count": null,
      "outputs": [
        {
          "output_type": "execute_result",
          "data": {
            "text/plain": [
              "array([151, 151])"
            ]
          },
          "metadata": {},
          "execution_count": 34
        }
      ]
    },
    {
      "cell_type": "code",
      "source": [
        "indexesmut = np.random.choice(\n",
        "        [False, True],\n",
        "        size = newbots.shape[0],\n",
        "        p=[1-mutation, mutation])"
      ],
      "metadata": {
        "id": "grHk9Pe53Nuc"
      },
      "execution_count": null,
      "outputs": []
    },
    {
      "cell_type": "code",
      "source": [
        "indexesmut[:10]"
      ],
      "metadata": {
        "colab": {
          "base_uri": "https://localhost:8080/"
        },
        "id": "OLL-lImA3Sh0",
        "outputId": "259500f8-3fc9-4b8b-f113-77558f7ad86e"
      },
      "execution_count": null,
      "outputs": [
        {
          "output_type": "execute_result",
          "data": {
            "text/plain": [
              "array([ True,  True, False,  True,  True, False,  True,  True,  True,\n",
              "       False])"
            ]
          },
          "metadata": {},
          "execution_count": 41
        }
      ]
    },
    {
      "cell_type": "code",
      "source": [
        "np.random.choice(np.random.randint(0, nsurv, 2),botlength)"
      ],
      "metadata": {
        "colab": {
          "base_uri": "https://localhost:8080/"
        },
        "id": "zfg0hw08R-xG",
        "outputId": "da61b814-df1c-4489-b9f4-2efdbaa923d5"
      },
      "execution_count": null,
      "outputs": [
        {
          "output_type": "execute_result",
          "data": {
            "text/plain": [
              "array([153, 194, 194, 153, 153, 194])"
            ]
          },
          "metadata": {},
          "execution_count": 22
        }
      ]
    },
    {
      "cell_type": "code",
      "source": [
        "newpopul[np.random.choice(parents[i])][geneNum]"
      ],
      "metadata": {
        "colab": {
          "base_uri": "https://localhost:8080/",
          "height": 200
        },
        "id": "3MDtPYwgR-0M",
        "outputId": "a1cde293-0cf6-4580-f3bb-627be9417c1b"
      },
      "execution_count": null,
      "outputs": [
        {
          "output_type": "error",
          "ename": "ValueError",
          "evalue": "ignored",
          "traceback": [
            "\u001b[0;31m---------------------------------------------------------------------------\u001b[0m",
            "\u001b[0;31mValueError\u001b[0m                                Traceback (most recent call last)",
            "\u001b[0;32m<ipython-input-46-3161669110d6>\u001b[0m in \u001b[0;36m<module>\u001b[0;34m()\u001b[0m\n\u001b[0;32m----> 1\u001b[0;31m \u001b[0mnewpopul\u001b[0m\u001b[0;34m[\u001b[0m\u001b[0mnp\u001b[0m\u001b[0;34m.\u001b[0m\u001b[0mrandom\u001b[0m\u001b[0;34m.\u001b[0m\u001b[0mchoice\u001b[0m\u001b[0;34m(\u001b[0m\u001b[0mparents\u001b[0m\u001b[0;34m[\u001b[0m\u001b[0mi\u001b[0m\u001b[0;34m]\u001b[0m\u001b[0;34m)\u001b[0m\u001b[0;34m]\u001b[0m\u001b[0;34m[\u001b[0m\u001b[0mgeneNum\u001b[0m\u001b[0;34m]\u001b[0m\u001b[0;34m\u001b[0m\u001b[0;34m\u001b[0m\u001b[0m\n\u001b[0m",
            "\u001b[0;32mmtrand.pyx\u001b[0m in \u001b[0;36mnumpy.random.mtrand.RandomState.choice\u001b[0;34m()\u001b[0m\n",
            "\u001b[0;31mValueError\u001b[0m: a must be greater than 0 unless no samples are taken"
          ]
        }
      ]
    },
    {
      "cell_type": "code",
      "source": [
        "np.random.choice(parents[i])"
      ],
      "metadata": {
        "colab": {
          "base_uri": "https://localhost:8080/",
          "height": 200
        },
        "id": "Wl1iWOiQR-3b",
        "outputId": "ffb03b92-1fb7-4a40-e3a3-694b7fa872ae"
      },
      "execution_count": null,
      "outputs": [
        {
          "output_type": "error",
          "ename": "ValueError",
          "evalue": "ignored",
          "traceback": [
            "\u001b[0;31m---------------------------------------------------------------------------\u001b[0m",
            "\u001b[0;31mValueError\u001b[0m                                Traceback (most recent call last)",
            "\u001b[0;32m<ipython-input-47-587eca200fd9>\u001b[0m in \u001b[0;36m<module>\u001b[0;34m()\u001b[0m\n\u001b[0;32m----> 1\u001b[0;31m \u001b[0mnp\u001b[0m\u001b[0;34m.\u001b[0m\u001b[0mrandom\u001b[0m\u001b[0;34m.\u001b[0m\u001b[0mchoice\u001b[0m\u001b[0;34m(\u001b[0m\u001b[0mparents\u001b[0m\u001b[0;34m[\u001b[0m\u001b[0mi\u001b[0m\u001b[0;34m]\u001b[0m\u001b[0;34m)\u001b[0m\u001b[0;34m\u001b[0m\u001b[0;34m\u001b[0m\u001b[0m\n\u001b[0m",
            "\u001b[0;32mmtrand.pyx\u001b[0m in \u001b[0;36mnumpy.random.mtrand.RandomState.choice\u001b[0;34m()\u001b[0m\n",
            "\u001b[0;31mValueError\u001b[0m: a must be greater than 0 unless no samples are taken"
          ]
        }
      ]
    },
    {
      "cell_type": "code",
      "source": [
        "parents"
      ],
      "metadata": {
        "colab": {
          "base_uri": "https://localhost:8080/"
        },
        "id": "jBGEQlHqR-6D",
        "outputId": "732b6e20-3e88-455d-b1fc-57b6800d3e93"
      },
      "execution_count": null,
      "outputs": [
        {
          "output_type": "execute_result",
          "data": {
            "text/plain": [
              "array([ 23,  63,  74, ...,  78, 152, 104])"
            ]
          },
          "metadata": {},
          "execution_count": 48
        }
      ]
    }
  ]
}