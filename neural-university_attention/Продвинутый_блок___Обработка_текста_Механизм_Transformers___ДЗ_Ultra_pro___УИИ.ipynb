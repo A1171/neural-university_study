{
  "nbformat": 4,
  "nbformat_minor": 0,
  "metadata": {
    "colab": {
      "provenance": [],
      "machine_shape": "hm"
    },
    "kernelspec": {
      "name": "python3",
      "display_name": "Python 3"
    },
    "language_info": {
      "name": "python"
    },
    "widgets": {
      "application/vnd.jupyter.widget-state+json": {
        "44050f15052149e6b7b9763cb9dbc417": {
          "model_module": "@jupyter-widgets/controls",
          "model_name": "HBoxModel",
          "model_module_version": "1.5.0",
          "state": {
            "_view_name": "HBoxView",
            "_dom_classes": [],
            "_model_name": "HBoxModel",
            "_view_module": "@jupyter-widgets/controls",
            "_model_module_version": "1.5.0",
            "_view_count": null,
            "_view_module_version": "1.5.0",
            "box_style": "",
            "layout": "IPY_MODEL_b92b3f4d8f3446839dca92f5578f47eb",
            "_model_module": "@jupyter-widgets/controls",
            "children": [
              "IPY_MODEL_3e8bae3b4d08463d9bd1c15a4982c8cb",
              "IPY_MODEL_47d5369c9bea4dfa88502b0a24b5af44",
              "IPY_MODEL_5ba8b1c56d494667bc481f9e06a2986b"
            ]
          }
        },
        "b92b3f4d8f3446839dca92f5578f47eb": {
          "model_module": "@jupyter-widgets/base",
          "model_name": "LayoutModel",
          "model_module_version": "1.2.0",
          "state": {
            "_view_name": "LayoutView",
            "grid_template_rows": null,
            "right": null,
            "justify_content": null,
            "_view_module": "@jupyter-widgets/base",
            "overflow": null,
            "_model_module_version": "1.2.0",
            "_view_count": null,
            "flex_flow": null,
            "width": null,
            "min_width": null,
            "border": null,
            "align_items": null,
            "bottom": null,
            "_model_module": "@jupyter-widgets/base",
            "top": null,
            "grid_column": null,
            "overflow_y": null,
            "overflow_x": null,
            "grid_auto_flow": null,
            "grid_area": null,
            "grid_template_columns": null,
            "flex": null,
            "_model_name": "LayoutModel",
            "justify_items": null,
            "grid_row": null,
            "max_height": null,
            "align_content": null,
            "visibility": null,
            "align_self": null,
            "height": null,
            "min_height": null,
            "padding": null,
            "grid_auto_rows": null,
            "grid_gap": null,
            "max_width": null,
            "order": null,
            "_view_module_version": "1.2.0",
            "grid_template_areas": null,
            "object_position": null,
            "object_fit": null,
            "grid_auto_columns": null,
            "margin": null,
            "display": null,
            "left": null
          }
        },
        "3e8bae3b4d08463d9bd1c15a4982c8cb": {
          "model_module": "@jupyter-widgets/controls",
          "model_name": "HTMLModel",
          "model_module_version": "1.5.0",
          "state": {
            "_view_name": "HTMLView",
            "style": "IPY_MODEL_c60b612a59494614b809e9feddf1b1fd",
            "_dom_classes": [],
            "description": "",
            "_model_name": "HTMLModel",
            "placeholder": "​",
            "_view_module": "@jupyter-widgets/controls",
            "_model_module_version": "1.5.0",
            "value": "Dl Completed...: 100%",
            "_view_count": null,
            "_view_module_version": "1.5.0",
            "description_tooltip": null,
            "_model_module": "@jupyter-widgets/controls",
            "layout": "IPY_MODEL_3f80af3883794ae19a9df0c469acf453"
          }
        },
        "47d5369c9bea4dfa88502b0a24b5af44": {
          "model_module": "@jupyter-widgets/controls",
          "model_name": "FloatProgressModel",
          "model_module_version": "1.5.0",
          "state": {
            "_view_name": "ProgressView",
            "style": "IPY_MODEL_0ad2600b6d244d1cab81cd439f50fb03",
            "_dom_classes": [],
            "description": "",
            "_model_name": "FloatProgressModel",
            "bar_style": "success",
            "max": 1,
            "_view_module": "@jupyter-widgets/controls",
            "_model_module_version": "1.5.0",
            "value": 1,
            "_view_count": null,
            "_view_module_version": "1.5.0",
            "orientation": "horizontal",
            "min": 0,
            "description_tooltip": null,
            "_model_module": "@jupyter-widgets/controls",
            "layout": "IPY_MODEL_daae07b17086447093686b43e6558e0f"
          }
        },
        "5ba8b1c56d494667bc481f9e06a2986b": {
          "model_module": "@jupyter-widgets/controls",
          "model_name": "HTMLModel",
          "model_module_version": "1.5.0",
          "state": {
            "_view_name": "HTMLView",
            "style": "IPY_MODEL_0dd801d314b64c03a99331ad40f5517f",
            "_dom_classes": [],
            "description": "",
            "_model_name": "HTMLModel",
            "placeholder": "​",
            "_view_module": "@jupyter-widgets/controls",
            "_model_module_version": "1.5.0",
            "value": " 2/2 [00:00&lt;00:00,  2.13 url/s]",
            "_view_count": null,
            "_view_module_version": "1.5.0",
            "description_tooltip": null,
            "_model_module": "@jupyter-widgets/controls",
            "layout": "IPY_MODEL_5aea7e91635f4364b6b700b48649087b"
          }
        },
        "c60b612a59494614b809e9feddf1b1fd": {
          "model_module": "@jupyter-widgets/controls",
          "model_name": "DescriptionStyleModel",
          "model_module_version": "1.5.0",
          "state": {
            "_view_name": "StyleView",
            "_model_name": "DescriptionStyleModel",
            "description_width": "",
            "_view_module": "@jupyter-widgets/base",
            "_model_module_version": "1.5.0",
            "_view_count": null,
            "_view_module_version": "1.2.0",
            "_model_module": "@jupyter-widgets/controls"
          }
        },
        "3f80af3883794ae19a9df0c469acf453": {
          "model_module": "@jupyter-widgets/base",
          "model_name": "LayoutModel",
          "model_module_version": "1.2.0",
          "state": {
            "_view_name": "LayoutView",
            "grid_template_rows": null,
            "right": null,
            "justify_content": null,
            "_view_module": "@jupyter-widgets/base",
            "overflow": null,
            "_model_module_version": "1.2.0",
            "_view_count": null,
            "flex_flow": null,
            "width": null,
            "min_width": null,
            "border": null,
            "align_items": null,
            "bottom": null,
            "_model_module": "@jupyter-widgets/base",
            "top": null,
            "grid_column": null,
            "overflow_y": null,
            "overflow_x": null,
            "grid_auto_flow": null,
            "grid_area": null,
            "grid_template_columns": null,
            "flex": null,
            "_model_name": "LayoutModel",
            "justify_items": null,
            "grid_row": null,
            "max_height": null,
            "align_content": null,
            "visibility": null,
            "align_self": null,
            "height": null,
            "min_height": null,
            "padding": null,
            "grid_auto_rows": null,
            "grid_gap": null,
            "max_width": null,
            "order": null,
            "_view_module_version": "1.2.0",
            "grid_template_areas": null,
            "object_position": null,
            "object_fit": null,
            "grid_auto_columns": null,
            "margin": null,
            "display": null,
            "left": null
          }
        },
        "0ad2600b6d244d1cab81cd439f50fb03": {
          "model_module": "@jupyter-widgets/controls",
          "model_name": "ProgressStyleModel",
          "model_module_version": "1.5.0",
          "state": {
            "_view_name": "StyleView",
            "_model_name": "ProgressStyleModel",
            "description_width": "",
            "_view_module": "@jupyter-widgets/base",
            "_model_module_version": "1.5.0",
            "_view_count": null,
            "_view_module_version": "1.2.0",
            "bar_color": null,
            "_model_module": "@jupyter-widgets/controls"
          }
        },
        "daae07b17086447093686b43e6558e0f": {
          "model_module": "@jupyter-widgets/base",
          "model_name": "LayoutModel",
          "model_module_version": "1.2.0",
          "state": {
            "_view_name": "LayoutView",
            "grid_template_rows": null,
            "right": null,
            "justify_content": null,
            "_view_module": "@jupyter-widgets/base",
            "overflow": null,
            "_model_module_version": "1.2.0",
            "_view_count": null,
            "flex_flow": null,
            "width": "20px",
            "min_width": null,
            "border": null,
            "align_items": null,
            "bottom": null,
            "_model_module": "@jupyter-widgets/base",
            "top": null,
            "grid_column": null,
            "overflow_y": null,
            "overflow_x": null,
            "grid_auto_flow": null,
            "grid_area": null,
            "grid_template_columns": null,
            "flex": null,
            "_model_name": "LayoutModel",
            "justify_items": null,
            "grid_row": null,
            "max_height": null,
            "align_content": null,
            "visibility": null,
            "align_self": null,
            "height": null,
            "min_height": null,
            "padding": null,
            "grid_auto_rows": null,
            "grid_gap": null,
            "max_width": null,
            "order": null,
            "_view_module_version": "1.2.0",
            "grid_template_areas": null,
            "object_position": null,
            "object_fit": null,
            "grid_auto_columns": null,
            "margin": null,
            "display": null,
            "left": null
          }
        },
        "0dd801d314b64c03a99331ad40f5517f": {
          "model_module": "@jupyter-widgets/controls",
          "model_name": "DescriptionStyleModel",
          "model_module_version": "1.5.0",
          "state": {
            "_view_name": "StyleView",
            "_model_name": "DescriptionStyleModel",
            "description_width": "",
            "_view_module": "@jupyter-widgets/base",
            "_model_module_version": "1.5.0",
            "_view_count": null,
            "_view_module_version": "1.2.0",
            "_model_module": "@jupyter-widgets/controls"
          }
        },
        "5aea7e91635f4364b6b700b48649087b": {
          "model_module": "@jupyter-widgets/base",
          "model_name": "LayoutModel",
          "model_module_version": "1.2.0",
          "state": {
            "_view_name": "LayoutView",
            "grid_template_rows": null,
            "right": null,
            "justify_content": null,
            "_view_module": "@jupyter-widgets/base",
            "overflow": null,
            "_model_module_version": "1.2.0",
            "_view_count": null,
            "flex_flow": null,
            "width": null,
            "min_width": null,
            "border": null,
            "align_items": null,
            "bottom": null,
            "_model_module": "@jupyter-widgets/base",
            "top": null,
            "grid_column": null,
            "overflow_y": null,
            "overflow_x": null,
            "grid_auto_flow": null,
            "grid_area": null,
            "grid_template_columns": null,
            "flex": null,
            "_model_name": "LayoutModel",
            "justify_items": null,
            "grid_row": null,
            "max_height": null,
            "align_content": null,
            "visibility": null,
            "align_self": null,
            "height": null,
            "min_height": null,
            "padding": null,
            "grid_auto_rows": null,
            "grid_gap": null,
            "max_width": null,
            "order": null,
            "_view_module_version": "1.2.0",
            "grid_template_areas": null,
            "object_position": null,
            "object_fit": null,
            "grid_auto_columns": null,
            "margin": null,
            "display": null,
            "left": null
          }
        },
        "8329a4d3f9014c65be66480e7083236b": {
          "model_module": "@jupyter-widgets/controls",
          "model_name": "HBoxModel",
          "model_module_version": "1.5.0",
          "state": {
            "_view_name": "HBoxView",
            "_dom_classes": [],
            "_model_name": "HBoxModel",
            "_view_module": "@jupyter-widgets/controls",
            "_model_module_version": "1.5.0",
            "_view_count": null,
            "_view_module_version": "1.5.0",
            "box_style": "",
            "layout": "IPY_MODEL_3a5cbf72d98a4b9997c9b12c18ccce84",
            "_model_module": "@jupyter-widgets/controls",
            "children": [
              "IPY_MODEL_fe6a11b09e5b4e0d8080a7bac5e8a731",
              "IPY_MODEL_e777c33d9d984d3f82ed7f97ec039c26",
              "IPY_MODEL_dd2e9fe8b1ba43838f0d3890b28c8fc7"
            ]
          }
        },
        "3a5cbf72d98a4b9997c9b12c18ccce84": {
          "model_module": "@jupyter-widgets/base",
          "model_name": "LayoutModel",
          "model_module_version": "1.2.0",
          "state": {
            "_view_name": "LayoutView",
            "grid_template_rows": null,
            "right": null,
            "justify_content": null,
            "_view_module": "@jupyter-widgets/base",
            "overflow": null,
            "_model_module_version": "1.2.0",
            "_view_count": null,
            "flex_flow": null,
            "width": null,
            "min_width": null,
            "border": null,
            "align_items": null,
            "bottom": null,
            "_model_module": "@jupyter-widgets/base",
            "top": null,
            "grid_column": null,
            "overflow_y": null,
            "overflow_x": null,
            "grid_auto_flow": null,
            "grid_area": null,
            "grid_template_columns": null,
            "flex": null,
            "_model_name": "LayoutModel",
            "justify_items": null,
            "grid_row": null,
            "max_height": null,
            "align_content": null,
            "visibility": null,
            "align_self": null,
            "height": null,
            "min_height": null,
            "padding": null,
            "grid_auto_rows": null,
            "grid_gap": null,
            "max_width": null,
            "order": null,
            "_view_module_version": "1.2.0",
            "grid_template_areas": null,
            "object_position": null,
            "object_fit": null,
            "grid_auto_columns": null,
            "margin": null,
            "display": null,
            "left": null
          }
        },
        "fe6a11b09e5b4e0d8080a7bac5e8a731": {
          "model_module": "@jupyter-widgets/controls",
          "model_name": "HTMLModel",
          "model_module_version": "1.5.0",
          "state": {
            "_view_name": "HTMLView",
            "style": "IPY_MODEL_9bdbb6035d094cc19b3ceb2575199a0d",
            "_dom_classes": [],
            "description": "",
            "_model_name": "HTMLModel",
            "placeholder": "​",
            "_view_module": "@jupyter-widgets/controls",
            "_model_module_version": "1.5.0",
            "value": "Dl Size...: ",
            "_view_count": null,
            "_view_module_version": "1.5.0",
            "description_tooltip": null,
            "_model_module": "@jupyter-widgets/controls",
            "layout": "IPY_MODEL_76a90c0ca0404a08a72ed7d5cffc2b03"
          }
        },
        "e777c33d9d984d3f82ed7f97ec039c26": {
          "model_module": "@jupyter-widgets/controls",
          "model_name": "FloatProgressModel",
          "model_module_version": "1.5.0",
          "state": {
            "_view_name": "ProgressView",
            "style": "IPY_MODEL_9af2d2a25ea74359b71feccddc8c97c9",
            "_dom_classes": [],
            "description": "",
            "_model_name": "FloatProgressModel",
            "bar_style": "success",
            "max": 1,
            "_view_module": "@jupyter-widgets/controls",
            "_model_module_version": "1.5.0",
            "value": 0,
            "_view_count": null,
            "_view_module_version": "1.5.0",
            "orientation": "horizontal",
            "min": 0,
            "description_tooltip": null,
            "_model_module": "@jupyter-widgets/controls",
            "layout": "IPY_MODEL_f611682b340d4e19bc3885f45fc2da09"
          }
        },
        "dd2e9fe8b1ba43838f0d3890b28c8fc7": {
          "model_module": "@jupyter-widgets/controls",
          "model_name": "HTMLModel",
          "model_module_version": "1.5.0",
          "state": {
            "_view_name": "HTMLView",
            "style": "IPY_MODEL_ba734cd3cdfd4a23803e352faf98d240",
            "_dom_classes": [],
            "description": "",
            "_model_name": "HTMLModel",
            "placeholder": "​",
            "_view_module": "@jupyter-widgets/controls",
            "_model_module_version": "1.5.0",
            "value": " 0/0 [00:00&lt;?, ? MiB/s]",
            "_view_count": null,
            "_view_module_version": "1.5.0",
            "description_tooltip": null,
            "_model_module": "@jupyter-widgets/controls",
            "layout": "IPY_MODEL_a94fada6cdec429da7f7d3b436511e13"
          }
        },
        "9bdbb6035d094cc19b3ceb2575199a0d": {
          "model_module": "@jupyter-widgets/controls",
          "model_name": "DescriptionStyleModel",
          "model_module_version": "1.5.0",
          "state": {
            "_view_name": "StyleView",
            "_model_name": "DescriptionStyleModel",
            "description_width": "",
            "_view_module": "@jupyter-widgets/base",
            "_model_module_version": "1.5.0",
            "_view_count": null,
            "_view_module_version": "1.2.0",
            "_model_module": "@jupyter-widgets/controls"
          }
        },
        "76a90c0ca0404a08a72ed7d5cffc2b03": {
          "model_module": "@jupyter-widgets/base",
          "model_name": "LayoutModel",
          "model_module_version": "1.2.0",
          "state": {
            "_view_name": "LayoutView",
            "grid_template_rows": null,
            "right": null,
            "justify_content": null,
            "_view_module": "@jupyter-widgets/base",
            "overflow": null,
            "_model_module_version": "1.2.0",
            "_view_count": null,
            "flex_flow": null,
            "width": null,
            "min_width": null,
            "border": null,
            "align_items": null,
            "bottom": null,
            "_model_module": "@jupyter-widgets/base",
            "top": null,
            "grid_column": null,
            "overflow_y": null,
            "overflow_x": null,
            "grid_auto_flow": null,
            "grid_area": null,
            "grid_template_columns": null,
            "flex": null,
            "_model_name": "LayoutModel",
            "justify_items": null,
            "grid_row": null,
            "max_height": null,
            "align_content": null,
            "visibility": null,
            "align_self": null,
            "height": null,
            "min_height": null,
            "padding": null,
            "grid_auto_rows": null,
            "grid_gap": null,
            "max_width": null,
            "order": null,
            "_view_module_version": "1.2.0",
            "grid_template_areas": null,
            "object_position": null,
            "object_fit": null,
            "grid_auto_columns": null,
            "margin": null,
            "display": null,
            "left": null
          }
        },
        "9af2d2a25ea74359b71feccddc8c97c9": {
          "model_module": "@jupyter-widgets/controls",
          "model_name": "ProgressStyleModel",
          "model_module_version": "1.5.0",
          "state": {
            "_view_name": "StyleView",
            "_model_name": "ProgressStyleModel",
            "description_width": "",
            "_view_module": "@jupyter-widgets/base",
            "_model_module_version": "1.5.0",
            "_view_count": null,
            "_view_module_version": "1.2.0",
            "bar_color": null,
            "_model_module": "@jupyter-widgets/controls"
          }
        },
        "f611682b340d4e19bc3885f45fc2da09": {
          "model_module": "@jupyter-widgets/base",
          "model_name": "LayoutModel",
          "model_module_version": "1.2.0",
          "state": {
            "_view_name": "LayoutView",
            "grid_template_rows": null,
            "right": null,
            "justify_content": null,
            "_view_module": "@jupyter-widgets/base",
            "overflow": null,
            "_model_module_version": "1.2.0",
            "_view_count": null,
            "flex_flow": null,
            "width": "20px",
            "min_width": null,
            "border": null,
            "align_items": null,
            "bottom": null,
            "_model_module": "@jupyter-widgets/base",
            "top": null,
            "grid_column": null,
            "overflow_y": null,
            "overflow_x": null,
            "grid_auto_flow": null,
            "grid_area": null,
            "grid_template_columns": null,
            "flex": null,
            "_model_name": "LayoutModel",
            "justify_items": null,
            "grid_row": null,
            "max_height": null,
            "align_content": null,
            "visibility": null,
            "align_self": null,
            "height": null,
            "min_height": null,
            "padding": null,
            "grid_auto_rows": null,
            "grid_gap": null,
            "max_width": null,
            "order": null,
            "_view_module_version": "1.2.0",
            "grid_template_areas": null,
            "object_position": null,
            "object_fit": null,
            "grid_auto_columns": null,
            "margin": null,
            "display": null,
            "left": null
          }
        },
        "ba734cd3cdfd4a23803e352faf98d240": {
          "model_module": "@jupyter-widgets/controls",
          "model_name": "DescriptionStyleModel",
          "model_module_version": "1.5.0",
          "state": {
            "_view_name": "StyleView",
            "_model_name": "DescriptionStyleModel",
            "description_width": "",
            "_view_module": "@jupyter-widgets/base",
            "_model_module_version": "1.5.0",
            "_view_count": null,
            "_view_module_version": "1.2.0",
            "_model_module": "@jupyter-widgets/controls"
          }
        },
        "a94fada6cdec429da7f7d3b436511e13": {
          "model_module": "@jupyter-widgets/base",
          "model_name": "LayoutModel",
          "model_module_version": "1.2.0",
          "state": {
            "_view_name": "LayoutView",
            "grid_template_rows": null,
            "right": null,
            "justify_content": null,
            "_view_module": "@jupyter-widgets/base",
            "overflow": null,
            "_model_module_version": "1.2.0",
            "_view_count": null,
            "flex_flow": null,
            "width": null,
            "min_width": null,
            "border": null,
            "align_items": null,
            "bottom": null,
            "_model_module": "@jupyter-widgets/base",
            "top": null,
            "grid_column": null,
            "overflow_y": null,
            "overflow_x": null,
            "grid_auto_flow": null,
            "grid_area": null,
            "grid_template_columns": null,
            "flex": null,
            "_model_name": "LayoutModel",
            "justify_items": null,
            "grid_row": null,
            "max_height": null,
            "align_content": null,
            "visibility": null,
            "align_self": null,
            "height": null,
            "min_height": null,
            "padding": null,
            "grid_auto_rows": null,
            "grid_gap": null,
            "max_width": null,
            "order": null,
            "_view_module_version": "1.2.0",
            "grid_template_areas": null,
            "object_position": null,
            "object_fit": null,
            "grid_auto_columns": null,
            "margin": null,
            "display": null,
            "left": null
          }
        },
        "e28d0e24574f416db0726ba3dee7d116": {
          "model_module": "@jupyter-widgets/controls",
          "model_name": "HBoxModel",
          "model_module_version": "1.5.0",
          "state": {
            "_view_name": "HBoxView",
            "_dom_classes": [],
            "_model_name": "HBoxModel",
            "_view_module": "@jupyter-widgets/controls",
            "_model_module_version": "1.5.0",
            "_view_count": null,
            "_view_module_version": "1.5.0",
            "box_style": "",
            "layout": "IPY_MODEL_37de92b9c06149fd8c56d8e0c049555d",
            "_model_module": "@jupyter-widgets/controls",
            "children": [
              "IPY_MODEL_d90b723b9e274e9a99624290f2cf5615",
              "IPY_MODEL_7d159de2b0484db5a3a62f5d7747b72e",
              "IPY_MODEL_81a3a48141a343ffa35405a1fa8b6bfd"
            ]
          }
        },
        "37de92b9c06149fd8c56d8e0c049555d": {
          "model_module": "@jupyter-widgets/base",
          "model_name": "LayoutModel",
          "model_module_version": "1.2.0",
          "state": {
            "_view_name": "LayoutView",
            "grid_template_rows": null,
            "right": null,
            "justify_content": null,
            "_view_module": "@jupyter-widgets/base",
            "overflow": null,
            "_model_module_version": "1.2.0",
            "_view_count": null,
            "flex_flow": null,
            "width": null,
            "min_width": null,
            "border": null,
            "align_items": null,
            "bottom": null,
            "_model_module": "@jupyter-widgets/base",
            "top": null,
            "grid_column": null,
            "overflow_y": null,
            "overflow_x": null,
            "grid_auto_flow": null,
            "grid_area": null,
            "grid_template_columns": null,
            "flex": null,
            "_model_name": "LayoutModel",
            "justify_items": null,
            "grid_row": null,
            "max_height": null,
            "align_content": null,
            "visibility": null,
            "align_self": null,
            "height": null,
            "min_height": null,
            "padding": null,
            "grid_auto_rows": null,
            "grid_gap": null,
            "max_width": null,
            "order": null,
            "_view_module_version": "1.2.0",
            "grid_template_areas": null,
            "object_position": null,
            "object_fit": null,
            "grid_auto_columns": null,
            "margin": null,
            "display": null,
            "left": null
          }
        },
        "d90b723b9e274e9a99624290f2cf5615": {
          "model_module": "@jupyter-widgets/controls",
          "model_name": "HTMLModel",
          "model_module_version": "1.5.0",
          "state": {
            "_view_name": "HTMLView",
            "style": "IPY_MODEL_f46d490afe3745d6a96bbd706bf8ebe9",
            "_dom_classes": [],
            "description": "",
            "_model_name": "HTMLModel",
            "placeholder": "​",
            "_view_module": "@jupyter-widgets/controls",
            "_model_module_version": "1.5.0",
            "value": "",
            "_view_count": null,
            "_view_module_version": "1.5.0",
            "description_tooltip": null,
            "_model_module": "@jupyter-widgets/controls",
            "layout": "IPY_MODEL_b26c6d337772441585d2d4d81d7f7ec0"
          }
        },
        "7d159de2b0484db5a3a62f5d7747b72e": {
          "model_module": "@jupyter-widgets/controls",
          "model_name": "FloatProgressModel",
          "model_module_version": "1.5.0",
          "state": {
            "_view_name": "ProgressView",
            "style": "IPY_MODEL_35f63351ed9440d5adcb68cd1777f70f",
            "_dom_classes": [],
            "description": "",
            "_model_name": "FloatProgressModel",
            "bar_style": "info",
            "max": 1,
            "_view_module": "@jupyter-widgets/controls",
            "_model_module_version": "1.5.0",
            "value": 1,
            "_view_count": null,
            "_view_module_version": "1.5.0",
            "orientation": "horizontal",
            "min": 0,
            "description_tooltip": null,
            "_model_module": "@jupyter-widgets/controls",
            "layout": "IPY_MODEL_eedb916e997f45be82a46ac493cf49d4"
          }
        },
        "81a3a48141a343ffa35405a1fa8b6bfd": {
          "model_module": "@jupyter-widgets/controls",
          "model_name": "HTMLModel",
          "model_module_version": "1.5.0",
          "state": {
            "_view_name": "HTMLView",
            "style": "IPY_MODEL_3292dc2c802144159d530c04554fbf80",
            "_dom_classes": [],
            "description": "",
            "_model_name": "HTMLModel",
            "placeholder": "​",
            "_view_module": "@jupyter-widgets/controls",
            "_model_module_version": "1.5.0",
            "value": " 3708/0 [00:01&lt;00:00, 3021.00 examples/s]",
            "_view_count": null,
            "_view_module_version": "1.5.0",
            "description_tooltip": null,
            "_model_module": "@jupyter-widgets/controls",
            "layout": "IPY_MODEL_4e4792023fd146488fe5fda32fb82ecb"
          }
        },
        "f46d490afe3745d6a96bbd706bf8ebe9": {
          "model_module": "@jupyter-widgets/controls",
          "model_name": "DescriptionStyleModel",
          "model_module_version": "1.5.0",
          "state": {
            "_view_name": "StyleView",
            "_model_name": "DescriptionStyleModel",
            "description_width": "",
            "_view_module": "@jupyter-widgets/base",
            "_model_module_version": "1.5.0",
            "_view_count": null,
            "_view_module_version": "1.2.0",
            "_model_module": "@jupyter-widgets/controls"
          }
        },
        "b26c6d337772441585d2d4d81d7f7ec0": {
          "model_module": "@jupyter-widgets/base",
          "model_name": "LayoutModel",
          "model_module_version": "1.2.0",
          "state": {
            "_view_name": "LayoutView",
            "grid_template_rows": null,
            "right": null,
            "justify_content": null,
            "_view_module": "@jupyter-widgets/base",
            "overflow": null,
            "_model_module_version": "1.2.0",
            "_view_count": null,
            "flex_flow": null,
            "width": null,
            "min_width": null,
            "border": null,
            "align_items": null,
            "bottom": null,
            "_model_module": "@jupyter-widgets/base",
            "top": null,
            "grid_column": null,
            "overflow_y": null,
            "overflow_x": null,
            "grid_auto_flow": null,
            "grid_area": null,
            "grid_template_columns": null,
            "flex": null,
            "_model_name": "LayoutModel",
            "justify_items": null,
            "grid_row": null,
            "max_height": null,
            "align_content": null,
            "visibility": null,
            "align_self": null,
            "height": null,
            "min_height": null,
            "padding": null,
            "grid_auto_rows": null,
            "grid_gap": null,
            "max_width": null,
            "order": null,
            "_view_module_version": "1.2.0",
            "grid_template_areas": null,
            "object_position": null,
            "object_fit": null,
            "grid_auto_columns": null,
            "margin": null,
            "display": null,
            "left": null
          }
        },
        "35f63351ed9440d5adcb68cd1777f70f": {
          "model_module": "@jupyter-widgets/controls",
          "model_name": "ProgressStyleModel",
          "model_module_version": "1.5.0",
          "state": {
            "_view_name": "StyleView",
            "_model_name": "ProgressStyleModel",
            "description_width": "",
            "_view_module": "@jupyter-widgets/base",
            "_model_module_version": "1.5.0",
            "_view_count": null,
            "_view_module_version": "1.2.0",
            "bar_color": null,
            "_model_module": "@jupyter-widgets/controls"
          }
        },
        "eedb916e997f45be82a46ac493cf49d4": {
          "model_module": "@jupyter-widgets/base",
          "model_name": "LayoutModel",
          "model_module_version": "1.2.0",
          "state": {
            "_view_name": "LayoutView",
            "grid_template_rows": null,
            "right": null,
            "justify_content": null,
            "_view_module": "@jupyter-widgets/base",
            "overflow": null,
            "_model_module_version": "1.2.0",
            "_view_count": null,
            "flex_flow": null,
            "width": "20px",
            "min_width": null,
            "border": null,
            "align_items": null,
            "bottom": null,
            "_model_module": "@jupyter-widgets/base",
            "top": null,
            "grid_column": null,
            "overflow_y": null,
            "overflow_x": null,
            "grid_auto_flow": null,
            "grid_area": null,
            "grid_template_columns": null,
            "flex": null,
            "_model_name": "LayoutModel",
            "justify_items": null,
            "grid_row": null,
            "max_height": null,
            "align_content": null,
            "visibility": null,
            "align_self": null,
            "height": null,
            "min_height": null,
            "padding": null,
            "grid_auto_rows": null,
            "grid_gap": null,
            "max_width": null,
            "order": null,
            "_view_module_version": "1.2.0",
            "grid_template_areas": null,
            "object_position": null,
            "object_fit": null,
            "grid_auto_columns": null,
            "margin": null,
            "display": null,
            "left": null
          }
        },
        "3292dc2c802144159d530c04554fbf80": {
          "model_module": "@jupyter-widgets/controls",
          "model_name": "DescriptionStyleModel",
          "model_module_version": "1.5.0",
          "state": {
            "_view_name": "StyleView",
            "_model_name": "DescriptionStyleModel",
            "description_width": "",
            "_view_module": "@jupyter-widgets/base",
            "_model_module_version": "1.5.0",
            "_view_count": null,
            "_view_module_version": "1.2.0",
            "_model_module": "@jupyter-widgets/controls"
          }
        },
        "4e4792023fd146488fe5fda32fb82ecb": {
          "model_module": "@jupyter-widgets/base",
          "model_name": "LayoutModel",
          "model_module_version": "1.2.0",
          "state": {
            "_view_name": "LayoutView",
            "grid_template_rows": null,
            "right": null,
            "justify_content": null,
            "_view_module": "@jupyter-widgets/base",
            "overflow": null,
            "_model_module_version": "1.2.0",
            "_view_count": null,
            "flex_flow": null,
            "width": null,
            "min_width": null,
            "border": null,
            "align_items": null,
            "bottom": null,
            "_model_module": "@jupyter-widgets/base",
            "top": null,
            "grid_column": null,
            "overflow_y": null,
            "overflow_x": null,
            "grid_auto_flow": null,
            "grid_area": null,
            "grid_template_columns": null,
            "flex": null,
            "_model_name": "LayoutModel",
            "justify_items": null,
            "grid_row": null,
            "max_height": null,
            "align_content": null,
            "visibility": null,
            "align_self": null,
            "height": null,
            "min_height": null,
            "padding": null,
            "grid_auto_rows": null,
            "grid_gap": null,
            "max_width": null,
            "order": null,
            "_view_module_version": "1.2.0",
            "grid_template_areas": null,
            "object_position": null,
            "object_fit": null,
            "grid_auto_columns": null,
            "margin": null,
            "display": null,
            "left": null
          }
        },
        "cc0859ff6d60448ca6d6724943d4aa3d": {
          "model_module": "@jupyter-widgets/controls",
          "model_name": "HBoxModel",
          "model_module_version": "1.5.0",
          "state": {
            "_view_name": "HBoxView",
            "_dom_classes": [],
            "_model_name": "HBoxModel",
            "_view_module": "@jupyter-widgets/controls",
            "_model_module_version": "1.5.0",
            "_view_count": null,
            "_view_module_version": "1.5.0",
            "box_style": "",
            "layout": "IPY_MODEL_bb67abbcd455482cbc69d43bc51c600d",
            "_model_module": "@jupyter-widgets/controls",
            "children": [
              "IPY_MODEL_0b9eb6870d544e8dad6c27faca8791c9",
              "IPY_MODEL_4e61ec8021cd4083a96cf4bef22514b9",
              "IPY_MODEL_156a4a759c31408d8e919cad11e31458"
            ]
          }
        },
        "bb67abbcd455482cbc69d43bc51c600d": {
          "model_module": "@jupyter-widgets/base",
          "model_name": "LayoutModel",
          "model_module_version": "1.2.0",
          "state": {
            "_view_name": "LayoutView",
            "grid_template_rows": null,
            "right": null,
            "justify_content": null,
            "_view_module": "@jupyter-widgets/base",
            "overflow": null,
            "_model_module_version": "1.2.0",
            "_view_count": null,
            "flex_flow": null,
            "width": null,
            "min_width": null,
            "border": null,
            "align_items": null,
            "bottom": null,
            "_model_module": "@jupyter-widgets/base",
            "top": null,
            "grid_column": null,
            "overflow_y": null,
            "overflow_x": null,
            "grid_auto_flow": null,
            "grid_area": null,
            "grid_template_columns": null,
            "flex": null,
            "_model_name": "LayoutModel",
            "justify_items": null,
            "grid_row": null,
            "max_height": null,
            "align_content": null,
            "visibility": null,
            "align_self": null,
            "height": null,
            "min_height": null,
            "padding": null,
            "grid_auto_rows": null,
            "grid_gap": null,
            "max_width": null,
            "order": null,
            "_view_module_version": "1.2.0",
            "grid_template_areas": null,
            "object_position": null,
            "object_fit": null,
            "grid_auto_columns": null,
            "margin": null,
            "display": null,
            "left": null
          }
        },
        "0b9eb6870d544e8dad6c27faca8791c9": {
          "model_module": "@jupyter-widgets/controls",
          "model_name": "HTMLModel",
          "model_module_version": "1.5.0",
          "state": {
            "_view_name": "HTMLView",
            "style": "IPY_MODEL_c1878086579f4a609717bc42035a12f2",
            "_dom_classes": [],
            "description": "",
            "_model_name": "HTMLModel",
            "placeholder": "​",
            "_view_module": "@jupyter-widgets/controls",
            "_model_module_version": "1.5.0",
            "value": "100%",
            "_view_count": null,
            "_view_module_version": "1.5.0",
            "description_tooltip": null,
            "_model_module": "@jupyter-widgets/controls",
            "layout": "IPY_MODEL_37c3a0a27cd649e1aad2a9c4690a8aa0"
          }
        },
        "4e61ec8021cd4083a96cf4bef22514b9": {
          "model_module": "@jupyter-widgets/controls",
          "model_name": "FloatProgressModel",
          "model_module_version": "1.5.0",
          "state": {
            "_view_name": "ProgressView",
            "style": "IPY_MODEL_c3ebfe8c7cbe49d08c9f6d310793296c",
            "_dom_classes": [],
            "description": "",
            "_model_name": "FloatProgressModel",
            "bar_style": "danger",
            "max": 3778,
            "_view_module": "@jupyter-widgets/controls",
            "_model_module_version": "1.5.0",
            "value": 3777,
            "_view_count": null,
            "_view_module_version": "1.5.0",
            "orientation": "horizontal",
            "min": 0,
            "description_tooltip": null,
            "_model_module": "@jupyter-widgets/controls",
            "layout": "IPY_MODEL_9b52fb87a09349aca3a54a32c863dfdf"
          }
        },
        "156a4a759c31408d8e919cad11e31458": {
          "model_module": "@jupyter-widgets/controls",
          "model_name": "HTMLModel",
          "model_module_version": "1.5.0",
          "state": {
            "_view_name": "HTMLView",
            "style": "IPY_MODEL_cdd9318471b84c47b0eec2f99ff57b7c",
            "_dom_classes": [],
            "description": "",
            "_model_name": "HTMLModel",
            "placeholder": "​",
            "_view_module": "@jupyter-widgets/controls",
            "_model_module_version": "1.5.0",
            "value": " 3777/3778 [00:00&lt;00:00, 63600.58 examples/s]",
            "_view_count": null,
            "_view_module_version": "1.5.0",
            "description_tooltip": null,
            "_model_module": "@jupyter-widgets/controls",
            "layout": "IPY_MODEL_75f9d62977ff4bba810f5d322edb4963"
          }
        },
        "c1878086579f4a609717bc42035a12f2": {
          "model_module": "@jupyter-widgets/controls",
          "model_name": "DescriptionStyleModel",
          "model_module_version": "1.5.0",
          "state": {
            "_view_name": "StyleView",
            "_model_name": "DescriptionStyleModel",
            "description_width": "",
            "_view_module": "@jupyter-widgets/base",
            "_model_module_version": "1.5.0",
            "_view_count": null,
            "_view_module_version": "1.2.0",
            "_model_module": "@jupyter-widgets/controls"
          }
        },
        "37c3a0a27cd649e1aad2a9c4690a8aa0": {
          "model_module": "@jupyter-widgets/base",
          "model_name": "LayoutModel",
          "model_module_version": "1.2.0",
          "state": {
            "_view_name": "LayoutView",
            "grid_template_rows": null,
            "right": null,
            "justify_content": null,
            "_view_module": "@jupyter-widgets/base",
            "overflow": null,
            "_model_module_version": "1.2.0",
            "_view_count": null,
            "flex_flow": null,
            "width": null,
            "min_width": null,
            "border": null,
            "align_items": null,
            "bottom": null,
            "_model_module": "@jupyter-widgets/base",
            "top": null,
            "grid_column": null,
            "overflow_y": null,
            "overflow_x": null,
            "grid_auto_flow": null,
            "grid_area": null,
            "grid_template_columns": null,
            "flex": null,
            "_model_name": "LayoutModel",
            "justify_items": null,
            "grid_row": null,
            "max_height": null,
            "align_content": null,
            "visibility": null,
            "align_self": null,
            "height": null,
            "min_height": null,
            "padding": null,
            "grid_auto_rows": null,
            "grid_gap": null,
            "max_width": null,
            "order": null,
            "_view_module_version": "1.2.0",
            "grid_template_areas": null,
            "object_position": null,
            "object_fit": null,
            "grid_auto_columns": null,
            "margin": null,
            "display": null,
            "left": null
          }
        },
        "c3ebfe8c7cbe49d08c9f6d310793296c": {
          "model_module": "@jupyter-widgets/controls",
          "model_name": "ProgressStyleModel",
          "model_module_version": "1.5.0",
          "state": {
            "_view_name": "StyleView",
            "_model_name": "ProgressStyleModel",
            "description_width": "",
            "_view_module": "@jupyter-widgets/base",
            "_model_module_version": "1.5.0",
            "_view_count": null,
            "_view_module_version": "1.2.0",
            "bar_color": null,
            "_model_module": "@jupyter-widgets/controls"
          }
        },
        "9b52fb87a09349aca3a54a32c863dfdf": {
          "model_module": "@jupyter-widgets/base",
          "model_name": "LayoutModel",
          "model_module_version": "1.2.0",
          "state": {
            "_view_name": "LayoutView",
            "grid_template_rows": null,
            "right": null,
            "justify_content": null,
            "_view_module": "@jupyter-widgets/base",
            "overflow": null,
            "_model_module_version": "1.2.0",
            "_view_count": null,
            "flex_flow": null,
            "width": null,
            "min_width": null,
            "border": null,
            "align_items": null,
            "bottom": null,
            "_model_module": "@jupyter-widgets/base",
            "top": null,
            "grid_column": null,
            "overflow_y": null,
            "overflow_x": null,
            "grid_auto_flow": null,
            "grid_area": null,
            "grid_template_columns": null,
            "flex": null,
            "_model_name": "LayoutModel",
            "justify_items": null,
            "grid_row": null,
            "max_height": null,
            "align_content": null,
            "visibility": null,
            "align_self": null,
            "height": null,
            "min_height": null,
            "padding": null,
            "grid_auto_rows": null,
            "grid_gap": null,
            "max_width": null,
            "order": null,
            "_view_module_version": "1.2.0",
            "grid_template_areas": null,
            "object_position": null,
            "object_fit": null,
            "grid_auto_columns": null,
            "margin": null,
            "display": null,
            "left": null
          }
        },
        "cdd9318471b84c47b0eec2f99ff57b7c": {
          "model_module": "@jupyter-widgets/controls",
          "model_name": "DescriptionStyleModel",
          "model_module_version": "1.5.0",
          "state": {
            "_view_name": "StyleView",
            "_model_name": "DescriptionStyleModel",
            "description_width": "",
            "_view_module": "@jupyter-widgets/base",
            "_model_module_version": "1.5.0",
            "_view_count": null,
            "_view_module_version": "1.2.0",
            "_model_module": "@jupyter-widgets/controls"
          }
        },
        "75f9d62977ff4bba810f5d322edb4963": {
          "model_module": "@jupyter-widgets/base",
          "model_name": "LayoutModel",
          "model_module_version": "1.2.0",
          "state": {
            "_view_name": "LayoutView",
            "grid_template_rows": null,
            "right": null,
            "justify_content": null,
            "_view_module": "@jupyter-widgets/base",
            "overflow": null,
            "_model_module_version": "1.2.0",
            "_view_count": null,
            "flex_flow": null,
            "width": null,
            "min_width": null,
            "border": null,
            "align_items": null,
            "bottom": null,
            "_model_module": "@jupyter-widgets/base",
            "top": null,
            "grid_column": null,
            "overflow_y": null,
            "overflow_x": null,
            "grid_auto_flow": null,
            "grid_area": null,
            "grid_template_columns": null,
            "flex": null,
            "_model_name": "LayoutModel",
            "justify_items": null,
            "grid_row": null,
            "max_height": null,
            "align_content": null,
            "visibility": null,
            "align_self": null,
            "height": null,
            "min_height": null,
            "padding": null,
            "grid_auto_rows": null,
            "grid_gap": null,
            "max_width": null,
            "order": null,
            "_view_module_version": "1.2.0",
            "grid_template_areas": null,
            "object_position": null,
            "object_fit": null,
            "grid_auto_columns": null,
            "margin": null,
            "display": null,
            "left": null
          }
        },
        "3825391b2d394489bee0c0a1bf325d6c": {
          "model_module": "@jupyter-widgets/controls",
          "model_name": "HBoxModel",
          "model_module_version": "1.5.0",
          "state": {
            "_view_name": "HBoxView",
            "_dom_classes": [],
            "_model_name": "HBoxModel",
            "_view_module": "@jupyter-widgets/controls",
            "_model_module_version": "1.5.0",
            "_view_count": null,
            "_view_module_version": "1.5.0",
            "box_style": "",
            "layout": "IPY_MODEL_37e57f0f22a4489bb0a890a5c9f19311",
            "_model_module": "@jupyter-widgets/controls",
            "children": [
              "IPY_MODEL_e62a71854dba4a088d676e7a72be6e07",
              "IPY_MODEL_529727ef576a4e6f826d7d20fc07c1b7",
              "IPY_MODEL_17cb6f4a924d4b4f9388fef94e87eecc"
            ]
          }
        },
        "37e57f0f22a4489bb0a890a5c9f19311": {
          "model_module": "@jupyter-widgets/base",
          "model_name": "LayoutModel",
          "model_module_version": "1.2.0",
          "state": {
            "_view_name": "LayoutView",
            "grid_template_rows": null,
            "right": null,
            "justify_content": null,
            "_view_module": "@jupyter-widgets/base",
            "overflow": null,
            "_model_module_version": "1.2.0",
            "_view_count": null,
            "flex_flow": null,
            "width": null,
            "min_width": null,
            "border": null,
            "align_items": null,
            "bottom": null,
            "_model_module": "@jupyter-widgets/base",
            "top": null,
            "grid_column": null,
            "overflow_y": null,
            "overflow_x": null,
            "grid_auto_flow": null,
            "grid_area": null,
            "grid_template_columns": null,
            "flex": null,
            "_model_name": "LayoutModel",
            "justify_items": null,
            "grid_row": null,
            "max_height": null,
            "align_content": null,
            "visibility": null,
            "align_self": null,
            "height": null,
            "min_height": null,
            "padding": null,
            "grid_auto_rows": null,
            "grid_gap": null,
            "max_width": null,
            "order": null,
            "_view_module_version": "1.2.0",
            "grid_template_areas": null,
            "object_position": null,
            "object_fit": null,
            "grid_auto_columns": null,
            "margin": null,
            "display": null,
            "left": null
          }
        },
        "e62a71854dba4a088d676e7a72be6e07": {
          "model_module": "@jupyter-widgets/controls",
          "model_name": "HTMLModel",
          "model_module_version": "1.5.0",
          "state": {
            "_view_name": "HTMLView",
            "style": "IPY_MODEL_9d158d1648be45b5988afcd0320c0d9b",
            "_dom_classes": [],
            "description": "",
            "_model_name": "HTMLModel",
            "placeholder": "​",
            "_view_module": "@jupyter-widgets/controls",
            "_model_module_version": "1.5.0",
            "value": "",
            "_view_count": null,
            "_view_module_version": "1.5.0",
            "description_tooltip": null,
            "_model_module": "@jupyter-widgets/controls",
            "layout": "IPY_MODEL_a516c6584471402198710458ecb28b6e"
          }
        },
        "529727ef576a4e6f826d7d20fc07c1b7": {
          "model_module": "@jupyter-widgets/controls",
          "model_name": "FloatProgressModel",
          "model_module_version": "1.5.0",
          "state": {
            "_view_name": "ProgressView",
            "style": "IPY_MODEL_0c9707b4e5454e729ab87ad765aa9bb6",
            "_dom_classes": [],
            "description": "",
            "_model_name": "FloatProgressModel",
            "bar_style": "info",
            "max": 1,
            "_view_module": "@jupyter-widgets/controls",
            "_model_module_version": "1.5.0",
            "value": 1,
            "_view_count": null,
            "_view_module_version": "1.5.0",
            "orientation": "horizontal",
            "min": 0,
            "description_tooltip": null,
            "_model_module": "@jupyter-widgets/controls",
            "layout": "IPY_MODEL_aebd3258bf5e4c91a7ab473af4654d0f"
          }
        },
        "17cb6f4a924d4b4f9388fef94e87eecc": {
          "model_module": "@jupyter-widgets/controls",
          "model_name": "HTMLModel",
          "model_module_version": "1.5.0",
          "state": {
            "_view_name": "HTMLView",
            "style": "IPY_MODEL_9d3d9f72371f455ba40da454184fbcdf",
            "_dom_classes": [],
            "description": "",
            "_model_name": "HTMLModel",
            "placeholder": "​",
            "_view_module": "@jupyter-widgets/controls",
            "_model_module_version": "1.5.0",
            "value": " 1900/0 [00:00&lt;00:00, 2780.64 examples/s]",
            "_view_count": null,
            "_view_module_version": "1.5.0",
            "description_tooltip": null,
            "_model_module": "@jupyter-widgets/controls",
            "layout": "IPY_MODEL_712d6d3e983547d78453a0516c2663a7"
          }
        },
        "9d158d1648be45b5988afcd0320c0d9b": {
          "model_module": "@jupyter-widgets/controls",
          "model_name": "DescriptionStyleModel",
          "model_module_version": "1.5.0",
          "state": {
            "_view_name": "StyleView",
            "_model_name": "DescriptionStyleModel",
            "description_width": "",
            "_view_module": "@jupyter-widgets/base",
            "_model_module_version": "1.5.0",
            "_view_count": null,
            "_view_module_version": "1.2.0",
            "_model_module": "@jupyter-widgets/controls"
          }
        },
        "a516c6584471402198710458ecb28b6e": {
          "model_module": "@jupyter-widgets/base",
          "model_name": "LayoutModel",
          "model_module_version": "1.2.0",
          "state": {
            "_view_name": "LayoutView",
            "grid_template_rows": null,
            "right": null,
            "justify_content": null,
            "_view_module": "@jupyter-widgets/base",
            "overflow": null,
            "_model_module_version": "1.2.0",
            "_view_count": null,
            "flex_flow": null,
            "width": null,
            "min_width": null,
            "border": null,
            "align_items": null,
            "bottom": null,
            "_model_module": "@jupyter-widgets/base",
            "top": null,
            "grid_column": null,
            "overflow_y": null,
            "overflow_x": null,
            "grid_auto_flow": null,
            "grid_area": null,
            "grid_template_columns": null,
            "flex": null,
            "_model_name": "LayoutModel",
            "justify_items": null,
            "grid_row": null,
            "max_height": null,
            "align_content": null,
            "visibility": null,
            "align_self": null,
            "height": null,
            "min_height": null,
            "padding": null,
            "grid_auto_rows": null,
            "grid_gap": null,
            "max_width": null,
            "order": null,
            "_view_module_version": "1.2.0",
            "grid_template_areas": null,
            "object_position": null,
            "object_fit": null,
            "grid_auto_columns": null,
            "margin": null,
            "display": null,
            "left": null
          }
        },
        "0c9707b4e5454e729ab87ad765aa9bb6": {
          "model_module": "@jupyter-widgets/controls",
          "model_name": "ProgressStyleModel",
          "model_module_version": "1.5.0",
          "state": {
            "_view_name": "StyleView",
            "_model_name": "ProgressStyleModel",
            "description_width": "",
            "_view_module": "@jupyter-widgets/base",
            "_model_module_version": "1.5.0",
            "_view_count": null,
            "_view_module_version": "1.2.0",
            "bar_color": null,
            "_model_module": "@jupyter-widgets/controls"
          }
        },
        "aebd3258bf5e4c91a7ab473af4654d0f": {
          "model_module": "@jupyter-widgets/base",
          "model_name": "LayoutModel",
          "model_module_version": "1.2.0",
          "state": {
            "_view_name": "LayoutView",
            "grid_template_rows": null,
            "right": null,
            "justify_content": null,
            "_view_module": "@jupyter-widgets/base",
            "overflow": null,
            "_model_module_version": "1.2.0",
            "_view_count": null,
            "flex_flow": null,
            "width": "20px",
            "min_width": null,
            "border": null,
            "align_items": null,
            "bottom": null,
            "_model_module": "@jupyter-widgets/base",
            "top": null,
            "grid_column": null,
            "overflow_y": null,
            "overflow_x": null,
            "grid_auto_flow": null,
            "grid_area": null,
            "grid_template_columns": null,
            "flex": null,
            "_model_name": "LayoutModel",
            "justify_items": null,
            "grid_row": null,
            "max_height": null,
            "align_content": null,
            "visibility": null,
            "align_self": null,
            "height": null,
            "min_height": null,
            "padding": null,
            "grid_auto_rows": null,
            "grid_gap": null,
            "max_width": null,
            "order": null,
            "_view_module_version": "1.2.0",
            "grid_template_areas": null,
            "object_position": null,
            "object_fit": null,
            "grid_auto_columns": null,
            "margin": null,
            "display": null,
            "left": null
          }
        },
        "9d3d9f72371f455ba40da454184fbcdf": {
          "model_module": "@jupyter-widgets/controls",
          "model_name": "DescriptionStyleModel",
          "model_module_version": "1.5.0",
          "state": {
            "_view_name": "StyleView",
            "_model_name": "DescriptionStyleModel",
            "description_width": "",
            "_view_module": "@jupyter-widgets/base",
            "_model_module_version": "1.5.0",
            "_view_count": null,
            "_view_module_version": "1.2.0",
            "_model_module": "@jupyter-widgets/controls"
          }
        },
        "712d6d3e983547d78453a0516c2663a7": {
          "model_module": "@jupyter-widgets/base",
          "model_name": "LayoutModel",
          "model_module_version": "1.2.0",
          "state": {
            "_view_name": "LayoutView",
            "grid_template_rows": null,
            "right": null,
            "justify_content": null,
            "_view_module": "@jupyter-widgets/base",
            "overflow": null,
            "_model_module_version": "1.2.0",
            "_view_count": null,
            "flex_flow": null,
            "width": null,
            "min_width": null,
            "border": null,
            "align_items": null,
            "bottom": null,
            "_model_module": "@jupyter-widgets/base",
            "top": null,
            "grid_column": null,
            "overflow_y": null,
            "overflow_x": null,
            "grid_auto_flow": null,
            "grid_area": null,
            "grid_template_columns": null,
            "flex": null,
            "_model_name": "LayoutModel",
            "justify_items": null,
            "grid_row": null,
            "max_height": null,
            "align_content": null,
            "visibility": null,
            "align_self": null,
            "height": null,
            "min_height": null,
            "padding": null,
            "grid_auto_rows": null,
            "grid_gap": null,
            "max_width": null,
            "order": null,
            "_view_module_version": "1.2.0",
            "grid_template_areas": null,
            "object_position": null,
            "object_fit": null,
            "grid_auto_columns": null,
            "margin": null,
            "display": null,
            "left": null
          }
        },
        "4c54a478f1534a89817682e2d8ba8fab": {
          "model_module": "@jupyter-widgets/controls",
          "model_name": "HBoxModel",
          "model_module_version": "1.5.0",
          "state": {
            "_view_name": "HBoxView",
            "_dom_classes": [],
            "_model_name": "HBoxModel",
            "_view_module": "@jupyter-widgets/controls",
            "_model_module_version": "1.5.0",
            "_view_count": null,
            "_view_module_version": "1.5.0",
            "box_style": "",
            "layout": "IPY_MODEL_c182b7fe3d4444c8ba7652f8f4d9c480",
            "_model_module": "@jupyter-widgets/controls",
            "children": [
              "IPY_MODEL_73f8d99cdeb74765b178d833ee64bade",
              "IPY_MODEL_ed2e1a143fe04c2dbaec228f6163fcf5",
              "IPY_MODEL_7b86ac9520be4f76a39ed8a00df7f845"
            ]
          }
        },
        "c182b7fe3d4444c8ba7652f8f4d9c480": {
          "model_module": "@jupyter-widgets/base",
          "model_name": "LayoutModel",
          "model_module_version": "1.2.0",
          "state": {
            "_view_name": "LayoutView",
            "grid_template_rows": null,
            "right": null,
            "justify_content": null,
            "_view_module": "@jupyter-widgets/base",
            "overflow": null,
            "_model_module_version": "1.2.0",
            "_view_count": null,
            "flex_flow": null,
            "width": null,
            "min_width": null,
            "border": null,
            "align_items": null,
            "bottom": null,
            "_model_module": "@jupyter-widgets/base",
            "top": null,
            "grid_column": null,
            "overflow_y": null,
            "overflow_x": null,
            "grid_auto_flow": null,
            "grid_area": null,
            "grid_template_columns": null,
            "flex": null,
            "_model_name": "LayoutModel",
            "justify_items": null,
            "grid_row": null,
            "max_height": null,
            "align_content": null,
            "visibility": null,
            "align_self": null,
            "height": null,
            "min_height": null,
            "padding": null,
            "grid_auto_rows": null,
            "grid_gap": null,
            "max_width": null,
            "order": null,
            "_view_module_version": "1.2.0",
            "grid_template_areas": null,
            "object_position": null,
            "object_fit": null,
            "grid_auto_columns": null,
            "margin": null,
            "display": null,
            "left": null
          }
        },
        "73f8d99cdeb74765b178d833ee64bade": {
          "model_module": "@jupyter-widgets/controls",
          "model_name": "HTMLModel",
          "model_module_version": "1.5.0",
          "state": {
            "_view_name": "HTMLView",
            "style": "IPY_MODEL_0ca61cf7e2e142b69b194a32d6795846",
            "_dom_classes": [],
            "description": "",
            "_model_name": "HTMLModel",
            "placeholder": "​",
            "_view_module": "@jupyter-widgets/controls",
            "_model_module_version": "1.5.0",
            "value": "100%",
            "_view_count": null,
            "_view_module_version": "1.5.0",
            "description_tooltip": null,
            "_model_module": "@jupyter-widgets/controls",
            "layout": "IPY_MODEL_aa2838f7c832450da62400a79f159de2"
          }
        },
        "ed2e1a143fe04c2dbaec228f6163fcf5": {
          "model_module": "@jupyter-widgets/controls",
          "model_name": "FloatProgressModel",
          "model_module_version": "1.5.0",
          "state": {
            "_view_name": "ProgressView",
            "style": "IPY_MODEL_a67faec594d44134ba8adccab31671b4",
            "_dom_classes": [],
            "description": "",
            "_model_name": "FloatProgressModel",
            "bar_style": "danger",
            "max": 2032,
            "_view_module": "@jupyter-widgets/controls",
            "_model_module_version": "1.5.0",
            "value": 2031,
            "_view_count": null,
            "_view_module_version": "1.5.0",
            "orientation": "horizontal",
            "min": 0,
            "description_tooltip": null,
            "_model_module": "@jupyter-widgets/controls",
            "layout": "IPY_MODEL_35745300cd0e45e2bf3051cd45ebfee3"
          }
        },
        "7b86ac9520be4f76a39ed8a00df7f845": {
          "model_module": "@jupyter-widgets/controls",
          "model_name": "HTMLModel",
          "model_module_version": "1.5.0",
          "state": {
            "_view_name": "HTMLView",
            "style": "IPY_MODEL_9213505ac4ea4d3a9238a276b8ca5f10",
            "_dom_classes": [],
            "description": "",
            "_model_name": "HTMLModel",
            "placeholder": "​",
            "_view_module": "@jupyter-widgets/controls",
            "_model_module_version": "1.5.0",
            "value": " 2031/2032 [00:00&lt;00:00, 42120.36 examples/s]",
            "_view_count": null,
            "_view_module_version": "1.5.0",
            "description_tooltip": null,
            "_model_module": "@jupyter-widgets/controls",
            "layout": "IPY_MODEL_8a45ad8f6cfb463aa82662d31b57d533"
          }
        },
        "0ca61cf7e2e142b69b194a32d6795846": {
          "model_module": "@jupyter-widgets/controls",
          "model_name": "DescriptionStyleModel",
          "model_module_version": "1.5.0",
          "state": {
            "_view_name": "StyleView",
            "_model_name": "DescriptionStyleModel",
            "description_width": "",
            "_view_module": "@jupyter-widgets/base",
            "_model_module_version": "1.5.0",
            "_view_count": null,
            "_view_module_version": "1.2.0",
            "_model_module": "@jupyter-widgets/controls"
          }
        },
        "aa2838f7c832450da62400a79f159de2": {
          "model_module": "@jupyter-widgets/base",
          "model_name": "LayoutModel",
          "model_module_version": "1.2.0",
          "state": {
            "_view_name": "LayoutView",
            "grid_template_rows": null,
            "right": null,
            "justify_content": null,
            "_view_module": "@jupyter-widgets/base",
            "overflow": null,
            "_model_module_version": "1.2.0",
            "_view_count": null,
            "flex_flow": null,
            "width": null,
            "min_width": null,
            "border": null,
            "align_items": null,
            "bottom": null,
            "_model_module": "@jupyter-widgets/base",
            "top": null,
            "grid_column": null,
            "overflow_y": null,
            "overflow_x": null,
            "grid_auto_flow": null,
            "grid_area": null,
            "grid_template_columns": null,
            "flex": null,
            "_model_name": "LayoutModel",
            "justify_items": null,
            "grid_row": null,
            "max_height": null,
            "align_content": null,
            "visibility": null,
            "align_self": null,
            "height": null,
            "min_height": null,
            "padding": null,
            "grid_auto_rows": null,
            "grid_gap": null,
            "max_width": null,
            "order": null,
            "_view_module_version": "1.2.0",
            "grid_template_areas": null,
            "object_position": null,
            "object_fit": null,
            "grid_auto_columns": null,
            "margin": null,
            "display": null,
            "left": null
          }
        },
        "a67faec594d44134ba8adccab31671b4": {
          "model_module": "@jupyter-widgets/controls",
          "model_name": "ProgressStyleModel",
          "model_module_version": "1.5.0",
          "state": {
            "_view_name": "StyleView",
            "_model_name": "ProgressStyleModel",
            "description_width": "",
            "_view_module": "@jupyter-widgets/base",
            "_model_module_version": "1.5.0",
            "_view_count": null,
            "_view_module_version": "1.2.0",
            "bar_color": null,
            "_model_module": "@jupyter-widgets/controls"
          }
        },
        "35745300cd0e45e2bf3051cd45ebfee3": {
          "model_module": "@jupyter-widgets/base",
          "model_name": "LayoutModel",
          "model_module_version": "1.2.0",
          "state": {
            "_view_name": "LayoutView",
            "grid_template_rows": null,
            "right": null,
            "justify_content": null,
            "_view_module": "@jupyter-widgets/base",
            "overflow": null,
            "_model_module_version": "1.2.0",
            "_view_count": null,
            "flex_flow": null,
            "width": null,
            "min_width": null,
            "border": null,
            "align_items": null,
            "bottom": null,
            "_model_module": "@jupyter-widgets/base",
            "top": null,
            "grid_column": null,
            "overflow_y": null,
            "overflow_x": null,
            "grid_auto_flow": null,
            "grid_area": null,
            "grid_template_columns": null,
            "flex": null,
            "_model_name": "LayoutModel",
            "justify_items": null,
            "grid_row": null,
            "max_height": null,
            "align_content": null,
            "visibility": null,
            "align_self": null,
            "height": null,
            "min_height": null,
            "padding": null,
            "grid_auto_rows": null,
            "grid_gap": null,
            "max_width": null,
            "order": null,
            "_view_module_version": "1.2.0",
            "grid_template_areas": null,
            "object_position": null,
            "object_fit": null,
            "grid_auto_columns": null,
            "margin": null,
            "display": null,
            "left": null
          }
        },
        "9213505ac4ea4d3a9238a276b8ca5f10": {
          "model_module": "@jupyter-widgets/controls",
          "model_name": "DescriptionStyleModel",
          "model_module_version": "1.5.0",
          "state": {
            "_view_name": "StyleView",
            "_model_name": "DescriptionStyleModel",
            "description_width": "",
            "_view_module": "@jupyter-widgets/base",
            "_model_module_version": "1.5.0",
            "_view_count": null,
            "_view_module_version": "1.2.0",
            "_model_module": "@jupyter-widgets/controls"
          }
        },
        "8a45ad8f6cfb463aa82662d31b57d533": {
          "model_module": "@jupyter-widgets/base",
          "model_name": "LayoutModel",
          "model_module_version": "1.2.0",
          "state": {
            "_view_name": "LayoutView",
            "grid_template_rows": null,
            "right": null,
            "justify_content": null,
            "_view_module": "@jupyter-widgets/base",
            "overflow": null,
            "_model_module_version": "1.2.0",
            "_view_count": null,
            "flex_flow": null,
            "width": null,
            "min_width": null,
            "border": null,
            "align_items": null,
            "bottom": null,
            "_model_module": "@jupyter-widgets/base",
            "top": null,
            "grid_column": null,
            "overflow_y": null,
            "overflow_x": null,
            "grid_auto_flow": null,
            "grid_area": null,
            "grid_template_columns": null,
            "flex": null,
            "_model_name": "LayoutModel",
            "justify_items": null,
            "grid_row": null,
            "max_height": null,
            "align_content": null,
            "visibility": null,
            "align_self": null,
            "height": null,
            "min_height": null,
            "padding": null,
            "grid_auto_rows": null,
            "grid_gap": null,
            "max_width": null,
            "order": null,
            "_view_module_version": "1.2.0",
            "grid_template_areas": null,
            "object_position": null,
            "object_fit": null,
            "grid_auto_columns": null,
            "margin": null,
            "display": null,
            "left": null
          }
        }
      }
    }
  },
  "cells": [
    {
      "cell_type": "markdown",
      "source": [
        " Чат бот вопрос/ответ структура Transformer"
      ],
      "metadata": {
        "id": "f3Lt-qI9227g"
      }
    },
    {
      "cell_type": "markdown",
      "source": [
        "##Задание Ultra pro"
      ],
      "metadata": {
        "id": "BNZIiZ3xtMjB"
      }
    },
    {
      "cell_type": "markdown",
      "metadata": {
        "id": "W8U5wv0QAKZx"
      },
      "source": [
        "Взяв за основу практический ноутбук занятия, постройте трансформер для задачи question answering. Трансформер должен на вход принимать какой-то вопрос, а на выходе генерировать ответ на этот вопрос. Можно использовать любую базу для задачи question answering из tensorflow_datasets, например 'web_questions'."
      ]
    },
    {
      "cell_type": "code",
      "source": [
        "# Ваше решение"
      ],
      "metadata": {
        "id": "zRbDer5JC_WF"
      },
      "execution_count": null,
      "outputs": []
    },
    {
      "cell_type": "code",
      "source": [
        "# модуль для загрузки файлов в colab\n",
        "from google.colab import files \n",
        "\n",
        "# Подключим tensorflow\n",
        "import tensorflow as tf \n",
        "\n",
        "# Подключим токенайзер\n",
        "from tensorflow.keras.preprocessing.text import Tokenizer\n",
        "\n",
        "# Используем метод для формирования последовательностей одинаковой длины\n",
        "from tensorflow.keras.preprocessing.sequence import pad_sequences \n",
        "\n",
        "# Загружаем абстрактный класс базовой модели сети от кераса\n",
        "from tensorflow.keras.models import Model \n",
        "\n",
        "# Подключим необходимые слои\n",
        "from tensorflow.keras.layers import Dense, Embedding, GRU\n",
        "\n",
        "# Подключим оптимайзер\n",
        "from tensorflow.keras.optimizers import Adam \n",
        "\n",
        "# Подключим функцию потерь\n",
        "from tensorflow.keras.losses import SparseCategoricalCrossentropy\n",
        "\n",
        "# Подключим numpy - библиотеку для работы с массивами данных\n",
        "import numpy as np \n",
        "\n",
        "# Подключим библиотеку для визуализации данных\n",
        "import matplotlib.pyplot as plt \n",
        "\n",
        "# Подключим модуль для определения форматирования и местоположения делений на осях графиков\n",
        "import matplotlib.ticker as ticker \n",
        "\n",
        "# Подключим модуль для разбивки данных на обучающую и тестовую выборки\n",
        "from sklearn.model_selection import train_test_split \n",
        "\n",
        "# Подключим модуль для работы с регулярными выражениями\n",
        "import re \n",
        "\n",
        "# Подключим модуль для работы с временем\n",
        "import time\n",
        "\n",
        "# Подключим модуль для работы с операционной системой\n",
        "import os \n",
        "import tensorflow as tf\n",
        "import tensorflow_datasets as tfds"
      ],
      "metadata": {
        "id": "aHrm02TIZG0g"
      },
      "execution_count": null,
      "outputs": []
    },
    {
      "cell_type": "code",
      "source": [
        "ds_train = tfds.load('web_questions', split='train')#.batch(32).prefetch(buffer_size=1000)\n",
        "ds_test = tfds.load('web_questions', split='test')#.batch(32).prefetch(buffer_size=1000)\n",
        "#ds1 = tfds.load('mnist', split='train')#.batch(32).prefetch(buffer_size=1000)\n",
        "#web_questions_dataset, web_questions_info = tfds.load(name = 'web_questions', with_info=True, as_supervised=True)\n",
        "#assert isinstance(ds, tf.data.Dataset)\n",
        "#print(ds)"
      ],
      "metadata": {
        "colab": {
          "base_uri": "https://localhost:8080/",
          "height": 248,
          "referenced_widgets": [
            "44050f15052149e6b7b9763cb9dbc417",
            "b92b3f4d8f3446839dca92f5578f47eb",
            "3e8bae3b4d08463d9bd1c15a4982c8cb",
            "47d5369c9bea4dfa88502b0a24b5af44",
            "5ba8b1c56d494667bc481f9e06a2986b",
            "c60b612a59494614b809e9feddf1b1fd",
            "3f80af3883794ae19a9df0c469acf453",
            "0ad2600b6d244d1cab81cd439f50fb03",
            "daae07b17086447093686b43e6558e0f",
            "0dd801d314b64c03a99331ad40f5517f",
            "5aea7e91635f4364b6b700b48649087b",
            "8329a4d3f9014c65be66480e7083236b",
            "3a5cbf72d98a4b9997c9b12c18ccce84",
            "fe6a11b09e5b4e0d8080a7bac5e8a731",
            "e777c33d9d984d3f82ed7f97ec039c26",
            "dd2e9fe8b1ba43838f0d3890b28c8fc7",
            "9bdbb6035d094cc19b3ceb2575199a0d",
            "76a90c0ca0404a08a72ed7d5cffc2b03",
            "9af2d2a25ea74359b71feccddc8c97c9",
            "f611682b340d4e19bc3885f45fc2da09",
            "ba734cd3cdfd4a23803e352faf98d240",
            "a94fada6cdec429da7f7d3b436511e13",
            "e28d0e24574f416db0726ba3dee7d116",
            "37de92b9c06149fd8c56d8e0c049555d",
            "d90b723b9e274e9a99624290f2cf5615",
            "7d159de2b0484db5a3a62f5d7747b72e",
            "81a3a48141a343ffa35405a1fa8b6bfd",
            "f46d490afe3745d6a96bbd706bf8ebe9",
            "b26c6d337772441585d2d4d81d7f7ec0",
            "35f63351ed9440d5adcb68cd1777f70f",
            "eedb916e997f45be82a46ac493cf49d4",
            "3292dc2c802144159d530c04554fbf80",
            "4e4792023fd146488fe5fda32fb82ecb",
            "cc0859ff6d60448ca6d6724943d4aa3d",
            "bb67abbcd455482cbc69d43bc51c600d",
            "0b9eb6870d544e8dad6c27faca8791c9",
            "4e61ec8021cd4083a96cf4bef22514b9",
            "156a4a759c31408d8e919cad11e31458",
            "c1878086579f4a609717bc42035a12f2",
            "37c3a0a27cd649e1aad2a9c4690a8aa0",
            "c3ebfe8c7cbe49d08c9f6d310793296c",
            "9b52fb87a09349aca3a54a32c863dfdf",
            "cdd9318471b84c47b0eec2f99ff57b7c",
            "75f9d62977ff4bba810f5d322edb4963",
            "3825391b2d394489bee0c0a1bf325d6c",
            "37e57f0f22a4489bb0a890a5c9f19311",
            "e62a71854dba4a088d676e7a72be6e07",
            "529727ef576a4e6f826d7d20fc07c1b7",
            "17cb6f4a924d4b4f9388fef94e87eecc",
            "9d158d1648be45b5988afcd0320c0d9b",
            "a516c6584471402198710458ecb28b6e",
            "0c9707b4e5454e729ab87ad765aa9bb6",
            "aebd3258bf5e4c91a7ab473af4654d0f",
            "9d3d9f72371f455ba40da454184fbcdf",
            "712d6d3e983547d78453a0516c2663a7",
            "4c54a478f1534a89817682e2d8ba8fab",
            "c182b7fe3d4444c8ba7652f8f4d9c480",
            "73f8d99cdeb74765b178d833ee64bade",
            "ed2e1a143fe04c2dbaec228f6163fcf5",
            "7b86ac9520be4f76a39ed8a00df7f845",
            "0ca61cf7e2e142b69b194a32d6795846",
            "aa2838f7c832450da62400a79f159de2",
            "a67faec594d44134ba8adccab31671b4",
            "35745300cd0e45e2bf3051cd45ebfee3",
            "9213505ac4ea4d3a9238a276b8ca5f10",
            "8a45ad8f6cfb463aa82662d31b57d533"
          ]
        },
        "id": "0B3S8u3DcCvF",
        "outputId": "3ef2bb7f-5d56-490c-f680-0fd2b1321e38"
      },
      "execution_count": null,
      "outputs": [
        {
          "output_type": "stream",
          "name": "stdout",
          "text": [
            "\u001b[1mDownloading and preparing dataset web_questions/1.0.0 (download: 1.21 MiB, generated: 983.88 KiB, total: 2.17 MiB) to /root/tensorflow_datasets/web_questions/1.0.0...\u001b[0m\n"
          ]
        },
        {
          "output_type": "display_data",
          "data": {
            "application/vnd.jupyter.widget-view+json": {
              "model_id": "44050f15052149e6b7b9763cb9dbc417",
              "version_minor": 0,
              "version_major": 2
            },
            "text/plain": [
              "Dl Completed...: 0 url [00:00, ? url/s]"
            ]
          },
          "metadata": {}
        },
        {
          "output_type": "display_data",
          "data": {
            "application/vnd.jupyter.widget-view+json": {
              "model_id": "8329a4d3f9014c65be66480e7083236b",
              "version_minor": 0,
              "version_major": 2
            },
            "text/plain": [
              "Dl Size...: 0 MiB [00:00, ? MiB/s]"
            ]
          },
          "metadata": {}
        },
        {
          "output_type": "stream",
          "name": "stdout",
          "text": [
            "\n",
            "\n"
          ]
        },
        {
          "output_type": "display_data",
          "data": {
            "application/vnd.jupyter.widget-view+json": {
              "model_id": "e28d0e24574f416db0726ba3dee7d116",
              "version_minor": 0,
              "version_major": 2
            },
            "text/plain": [
              "0 examples [00:00, ? examples/s]"
            ]
          },
          "metadata": {}
        },
        {
          "output_type": "stream",
          "name": "stdout",
          "text": [
            "Shuffling and writing examples to /root/tensorflow_datasets/web_questions/1.0.0.incomplete780W3S/web_questions-train.tfrecord\n"
          ]
        },
        {
          "output_type": "display_data",
          "data": {
            "application/vnd.jupyter.widget-view+json": {
              "model_id": "cc0859ff6d60448ca6d6724943d4aa3d",
              "version_minor": 0,
              "version_major": 2
            },
            "text/plain": [
              "  0%|          | 0/3778 [00:00<?, ? examples/s]"
            ]
          },
          "metadata": {}
        },
        {
          "output_type": "display_data",
          "data": {
            "application/vnd.jupyter.widget-view+json": {
              "model_id": "3825391b2d394489bee0c0a1bf325d6c",
              "version_minor": 0,
              "version_major": 2
            },
            "text/plain": [
              "0 examples [00:00, ? examples/s]"
            ]
          },
          "metadata": {}
        },
        {
          "output_type": "stream",
          "name": "stdout",
          "text": [
            "Shuffling and writing examples to /root/tensorflow_datasets/web_questions/1.0.0.incomplete780W3S/web_questions-test.tfrecord\n"
          ]
        },
        {
          "output_type": "display_data",
          "data": {
            "application/vnd.jupyter.widget-view+json": {
              "model_id": "4c54a478f1534a89817682e2d8ba8fab",
              "version_minor": 0,
              "version_major": 2
            },
            "text/plain": [
              "  0%|          | 0/2032 [00:00<?, ? examples/s]"
            ]
          },
          "metadata": {}
        },
        {
          "output_type": "stream",
          "name": "stdout",
          "text": [
            "\u001b[1mDataset web_questions downloaded and prepared to /root/tensorflow_datasets/web_questions/1.0.0. Subsequent calls will reuse this data.\u001b[0m\n"
          ]
        }
      ]
    },
    {
      "cell_type": "code",
      "source": [
        "[item['question'] for item in ds_train.take(10)]"
      ],
      "metadata": {
        "colab": {
          "base_uri": "https://localhost:8080/"
        },
        "id": "NSoYa94K5P_1",
        "outputId": "d4e7bbca-d473-4f19-defa-b1478d3462c2"
      },
      "execution_count": null,
      "outputs": [
        {
          "output_type": "execute_result",
          "data": {
            "text/plain": [
              "[<tf.Tensor: shape=(), dtype=string, numpy=b'who is the ravens quarterback 2012?'>,\n",
              " <tf.Tensor: shape=(), dtype=string, numpy=b'what political party was henry clay?'>,\n",
              " <tf.Tensor: shape=(), dtype=string, numpy=b'where to stay in thailand koh samui?'>,\n",
              " <tf.Tensor: shape=(), dtype=string, numpy=b'what countries are included in the continent of asia?'>,\n",
              " <tf.Tensor: shape=(), dtype=string, numpy=b'what movies does tupac act in?'>,\n",
              " <tf.Tensor: shape=(), dtype=string, numpy=b'what did martin luther king jr go to college for?'>,\n",
              " <tf.Tensor: shape=(), dtype=string, numpy=b'where did jennifer hudson go to school?'>,\n",
              " <tf.Tensor: shape=(), dtype=string, numpy=b'where is danish located?'>,\n",
              " <tf.Tensor: shape=(), dtype=string, numpy=b'when did barry zito won the cy young?'>,\n",
              " <tf.Tensor: shape=(), dtype=string, numpy=b'what language do fiji people speak?'>]"
            ]
          },
          "metadata": {},
          "execution_count": 5
        }
      ]
    },
    {
      "cell_type": "code",
      "source": [
        "!ls /root/tensorflow_datasets/web_questions/1.0.0/"
      ],
      "metadata": {
        "id": "NhZ4PSQtNNS4",
        "colab": {
          "base_uri": "https://localhost:8080/"
        },
        "outputId": "99e86429-bf34-4a40-c56c-9c7660f2a495"
      },
      "execution_count": null,
      "outputs": [
        {
          "output_type": "stream",
          "name": "stdout",
          "text": [
            "dataset_info.json  web_questions-test.tfrecord-00000-of-00001\n",
            "features.json\t   web_questions-train.tfrecord-00000-of-00001\n"
          ]
        }
      ]
    },
    {
      "cell_type": "code",
      "source": [
        "ds_train.element_spec"
      ],
      "metadata": {
        "colab": {
          "base_uri": "https://localhost:8080/"
        },
        "id": "ZZ0dzGoQQ8ST",
        "outputId": "e8502638-6137-47a2-9b71-28c518f71afc"
      },
      "execution_count": null,
      "outputs": [
        {
          "output_type": "execute_result",
          "data": {
            "text/plain": [
              "{'answers': TensorSpec(shape=(None,), dtype=tf.string, name=None),\n",
              " 'question': TensorSpec(shape=(), dtype=tf.string, name=None),\n",
              " 'url': TensorSpec(shape=(), dtype=tf.string, name=None)}"
            ]
          },
          "metadata": {},
          "execution_count": 7
        }
      ]
    },
    {
      "cell_type": "code",
      "source": [
        "len(ds_train)"
      ],
      "metadata": {
        "colab": {
          "base_uri": "https://localhost:8080/"
        },
        "id": "jPJS6PJJT-oe",
        "outputId": "5bf9b309-0a59-4894-8389-4909ffac57d0"
      },
      "execution_count": null,
      "outputs": [
        {
          "output_type": "execute_result",
          "data": {
            "text/plain": [
              "3778"
            ]
          },
          "metadata": {},
          "execution_count": 8
        }
      ]
    },
    {
      "cell_type": "code",
      "source": [
        "for images in ds_train.take(1):  # only take first element of dataset\n",
        "    print(images['answers'])\n",
        "    print(images['question'])\n",
        "    print(images['url'])"
      ],
      "metadata": {
        "colab": {
          "base_uri": "https://localhost:8080/"
        },
        "id": "4ccNctm5ThsU",
        "outputId": "e83ee42a-fc79-4360-b846-f0ab384fa5e1"
      },
      "execution_count": null,
      "outputs": [
        {
          "output_type": "stream",
          "name": "stdout",
          "text": [
            "tf.Tensor([b'Joe Flacco'], shape=(1,), dtype=string)\n",
            "tf.Tensor(b'who is the ravens quarterback 2012?', shape=(), dtype=string)\n",
            "tf.Tensor(b'http://www.freebase.com/view/en/baltimore_ravens', shape=(), dtype=string)\n"
          ]
        }
      ]
    },
    {
      "cell_type": "code",
      "source": [
        "ds_train_list=list(ds_train)\n",
        "ds_test_list=list(ds_test)\n",
        "print(len(ds_train_list))\n",
        "print(len(ds_test_list))\n",
        "print(ds_train_list[0])\n",
        "print(ds_test_list[0])\n"
      ],
      "metadata": {
        "colab": {
          "base_uri": "https://localhost:8080/"
        },
        "id": "OVei3eyhVwcF",
        "outputId": "12202fcd-8dc1-493b-bb96-2d6704106de4"
      },
      "execution_count": null,
      "outputs": [
        {
          "output_type": "stream",
          "name": "stdout",
          "text": [
            "3778\n",
            "2032\n",
            "{'answers': <tf.Tensor: shape=(1,), dtype=string, numpy=array([b'Joe Flacco'], dtype=object)>, 'question': <tf.Tensor: shape=(), dtype=string, numpy=b'who is the ravens quarterback 2012?'>, 'url': <tf.Tensor: shape=(), dtype=string, numpy=b'http://www.freebase.com/view/en/baltimore_ravens'>}\n",
            "{'answers': <tf.Tensor: shape=(1,), dtype=string, numpy=array([b'2006 NFL season'], dtype=object)>, 'question': <tf.Tensor: shape=(), dtype=string, numpy=b'what year did the seahawks win the superbowl?'>, 'url': <tf.Tensor: shape=(), dtype=string, numpy=b'http://www.freebase.com/view/en/seattle_seahawks'>}\n"
          ]
        }
      ]
    },
    {
      "cell_type": "markdown",
      "source": [
        "Создание выборок."
      ],
      "metadata": {
        "id": "ibhGjz2Q3Qim"
      }
    },
    {
      "cell_type": "code",
      "source": [
        "Questions_train=[]\n",
        "Questions_test=[]\n",
        "Answers_train=[]\n",
        "Answers_test=[]\n",
        "\n",
        "for Item in ds_train_list:\n",
        "  for Answer in Item['answers']:\n",
        "    Questions_train.append(Item['question'].numpy().decode(\"utf-8\"))\n",
        "    Answers_train.append(Answer.numpy().decode(\"utf-8\"))\n",
        "    #print(Item['question'].numpy().decode(\"utf-8\") ,Answer.numpy().decode(\"utf-8\"))\n",
        "print(len(Questions_train),len(Answers_train))\n",
        "for Item in ds_test_list:\n",
        "  for Answer in Item['answers']:\n",
        "    Questions_test.append(Item['question'].numpy().decode(\"utf-8\"))\n",
        "    Answers_test.append(Answer.numpy().decode(\"utf-8\"))\n",
        "    #print(Item['question'].numpy().decode(\"utf-8\") ,Answer.numpy().decode(\"utf-8\"))\n",
        "print(len(Questions_test),len(Answers_test))"
      ],
      "metadata": {
        "colab": {
          "base_uri": "https://localhost:8080/"
        },
        "id": "fCBerDmbWrHF",
        "outputId": "6aa1c3dc-b40e-4774-fdca-bd4e3dde6eb1"
      },
      "execution_count": null,
      "outputs": [
        {
          "output_type": "stream",
          "name": "stdout",
          "text": [
            "8933 8933\n",
            "4863 4863\n"
          ]
        }
      ]
    },
    {
      "cell_type": "markdown",
      "source": [
        "Пример вопрос/ответ"
      ],
      "metadata": {
        "id": "-Phyxk1h3YHu"
      }
    },
    {
      "cell_type": "code",
      "source": [
        "for i in range(20):\n",
        "  print(Questions_train[i],\"           \",Answers_train[i])"
      ],
      "metadata": {
        "colab": {
          "base_uri": "https://localhost:8080/"
        },
        "id": "9u0GU6yG_WmX",
        "outputId": "b6fe438f-7715-46ab-82c2-4821cce256df"
      },
      "execution_count": null,
      "outputs": [
        {
          "output_type": "stream",
          "name": "stdout",
          "text": [
            "who is the ravens quarterback 2012?             Joe Flacco\n",
            "what political party was henry clay?             Whig Party\n",
            "where to stay in thailand koh samui?             UTC+07:00\n",
            "what countries are included in the continent of asia?             Bahrain\n",
            "what countries are included in the continent of asia?             Afghanistan\n",
            "what countries are included in the continent of asia?             Bangladesh\n",
            "what countries are included in the continent of asia?             Bhutan\n",
            "what countries are included in the continent of asia?             Brunei\n",
            "what countries are included in the continent of asia?             Indonesia\n",
            "what countries are included in the continent of asia?             India\n",
            "what countries are included in the continent of asia?             Cambodia\n",
            "what countries are included in the continent of asia?             China\n",
            "what countries are included in the continent of asia?             Iraq\n",
            "what movies does tupac act in?             Murder Was the Case\n",
            "what movies does tupac act in?             Above the Rim\n",
            "what movies does tupac act in?             Bullet\n",
            "what movies does tupac act in?             Gang Related\n",
            "what movies does tupac act in?             Watch Juice\n",
            "what movies does tupac act in?             Tupac: Live at the House of Blues\n",
            "what movies does tupac act in?             Nothing but Trouble\n"
          ]
        }
      ]
    },
    {
      "cell_type": "code",
      "source": [
        "len(Questions_train+Answers_train)"
      ],
      "metadata": {
        "colab": {
          "base_uri": "https://localhost:8080/"
        },
        "id": "LMTkACo3_Wpl",
        "outputId": "774a8218-ccf3-4bcb-fd3d-0793937b67f8"
      },
      "execution_count": null,
      "outputs": [
        {
          "output_type": "execute_result",
          "data": {
            "text/plain": [
              "17866"
            ]
          },
          "metadata": {},
          "execution_count": 13
        }
      ]
    },
    {
      "cell_type": "code",
      "source": [],
      "metadata": {
        "id": "MzTzSpA9_WtF"
      },
      "execution_count": null,
      "outputs": []
    },
    {
      "cell_type": "code",
      "source": [],
      "metadata": {
        "id": "fkWn040s_WwW"
      },
      "execution_count": null,
      "outputs": []
    },
    {
      "cell_type": "code",
      "metadata": {
        "id": "QuMdZXj8rJMd"
      },
      "source": [
        "tokenizer = tfds.deprecated.text.SubwordTextEncoder.build_from_corpus((Questions_train+Answers_train), target_vocab_size=2**13)\n"
      ],
      "execution_count": null,
      "outputs": []
    },
    {
      "cell_type": "code",
      "metadata": {
        "colab": {
          "base_uri": "https://localhost:8080/"
        },
        "id": "KFRgBQrNrLfr",
        "outputId": "db003343-e4ef-4f1a-a11a-ff1234f381d4"
      },
      "source": [
        "# тестовая фраза\n",
        "sample_string = Questions_train[0]+\" \"+Answers_train[0]\n",
        "\n",
        "# перегоним слова в токены\n",
        "tokenized_string = tokenizer.encode(sample_string) \n",
        "print ('Tokenized string is {}'.format(tokenized_string))\n",
        "\n",
        "# перегоним токены обратно в слова\n",
        "original_string = tokenizer.decode(tokenized_string) \n",
        "print ('The original string: {}'.format(original_string))\n",
        "\n",
        "# распишем какой токен чему соответсвует\n",
        "for ts in tokenized_string:\n",
        "  print ('{} ----> {}'.format(ts, tokenizer.decode([ts]))) \n",
        "\n",
        "# а точно исходная фраза соответствует дважды перекодированной?\n",
        "assert original_string == sample_string "
      ],
      "execution_count": null,
      "outputs": [
        {
          "output_type": "stream",
          "name": "stdout",
          "text": [
            "Tokenized string is [8, 5, 2, 740, 5552, 125, 8863, 8832, 1491, 8052]\n",
            "The original string: who is the ravens quarterback 2012? Joe Flacco\n",
            "8 ----> who \n",
            "5 ----> is \n",
            "2 ----> the \n",
            "740 ----> ravens \n",
            "5552 ----> quarterback \n",
            "125 ----> 2012\n",
            "8863 ----> ?\n",
            "8832 ---->  \n",
            "1491 ----> Joe \n",
            "8052 ----> Flacco\n"
          ]
        }
      ]
    },
    {
      "cell_type": "code",
      "source": [
        "print(tokenizer.vocab_size)"
      ],
      "metadata": {
        "colab": {
          "base_uri": "https://localhost:8080/"
        },
        "id": "4KkebTmkuKkY",
        "outputId": "10b2a8d5-473a-430f-d8b4-b0ab187d6a2d"
      },
      "execution_count": null,
      "outputs": [
        {
          "output_type": "stream",
          "name": "stdout",
          "text": [
            "9056\n"
          ]
        }
      ]
    },
    {
      "cell_type": "code",
      "source": [
        "def tokenize(InputText): # Функция принимает текст одного из языков\n",
        "\n",
        "  tensor = [tokenizer.vocab_size] + tokenizer.encode(InputText[0]) + [tokenizer.vocab_size+1] # Разбиваем текст фраз на последовательности индексов\n",
        "  tensor = pad_sequences(tensor, padding='post')           # Делаем последовательности фиксированной длины, заполняя нулями более короткие фразы\n",
        "\n",
        "  # Возвращаем последовательность индексов(назовем ее тензор) и токенизатор\n",
        "  return tensor"
      ],
      "metadata": {
        "id": "2QB8J7WdqAw6"
      },
      "execution_count": null,
      "outputs": []
    },
    {
      "cell_type": "code",
      "metadata": {
        "id": "kgtx_YZRrUT0"
      },
      "source": [
        "# размер буффеа в памяти при приготовления датасета\n",
        "BUFFER_SIZE = 20000 \n",
        "\n",
        "# размер батча\n",
        "BATCH_SIZE = 64  \n",
        "\n",
        "# ограничим максимальную длину фразу\n",
        "MAX_LENGTH = 40  "
      ],
      "execution_count": null,
      "outputs": []
    },
    {
      "cell_type": "code",
      "metadata": {
        "id": "m7krXaWGrO2e"
      },
      "source": [
        "def encode(InputText):\n",
        "  #print(InputText)\n",
        "  OutputTokens = [tokenizer.vocab_size] + tokenizer.encode(InputText) + [tokenizer.vocab_size+1]\n",
        "  #print(InputText)\n",
        "  #OutputTokens = tf.keras.preprocessing.sequence.pad_sequences(OutputTokens, maxlen=MAX_LENGTH, dtype='int32', padding='post')\n",
        "  return tf.convert_to_tensor(OutputTokens)"
      ],
      "execution_count": null,
      "outputs": []
    },
    {
      "cell_type": "code",
      "metadata": {
        "id": "Kr17q_wOrZyU"
      },
      "source": [
        "def filter_max_length(x, y, max_length=MAX_LENGTH):\n",
        "    \n",
        "  return tf.logical_and(tf.size(x) <= max_length, # вернем маску, она уберет впоследствии длииные фразы\n",
        "                        tf.size(y) <= max_length)"
      ],
      "execution_count": null,
      "outputs": []
    },
    {
      "cell_type": "code",
      "metadata": {
        "id": "v_Zp7UhVrcCj"
      },
      "source": [
        "# Прогоняем тектсы через токенайзер\n",
        "Questions_train_encoded= list(map(encode, Questions_train))\n",
        "Answers_train_encoded=list(map(encode, Answers_train))\n",
        "Questions_test_encoded=list(map(encode, Questions_test))\n",
        "Answers_test_encoded=list(map(encode, Answers_test))\n",
        "#Questions_train_encoded = pad_sequences(Questions_train_encoded, padding='post')\n",
        "#Answers_train_encoded = pad_sequences(Answers_train_encoded, padding='post')\n",
        "#Questions_test_encoded = pad_sequences(Questions_test_encoded, padding='post')\n",
        "#Answers_test_encoded = pad_sequences(Answers_test_encoded, padding='post')\n",
        "Questions_train1=[]\n",
        "Questions_test1=[]\n",
        "Answers_train1=[]\n",
        "Answers_test1=[]\n",
        "\n",
        "for i in range(len(Questions_train_encoded)):\n",
        "  if(len(Questions_train_encoded[i])<MAX_LENGTH and len(Answers_train_encoded[i])<MAX_LENGTH):\n",
        "    Questions_train1.append(Questions_train[i])\n",
        "    Answers_train1.append(Answers_train[i])\n",
        "    #Answers_train1_S.append(Answers_train[i][:-1])\n",
        "    #Answers_train1_E.append(Answers_train[i][1:])\n",
        "\n",
        "for i in range(len(Questions_test_encoded)):\n",
        "  if(len(Questions_test_encoded[i])<MAX_LENGTH and len(Answers_test_encoded[i])<MAX_LENGTH):\n",
        "    Questions_test1.append(Questions_test[i])\n",
        "    Answers_test1.append(Answers_test[i])\n",
        "    #Answers_test1_S.append(Answers_test[i][:-1])\n",
        "    #Answers_test1_E.append(Answers_test[i][1:])\n",
        "\n",
        "\n",
        "Questions_train_encoded_SE= list(map(encode, Questions_train1))\n",
        "Answers_train_encoded_SE=list(map(encode, Answers_train1))\n",
        "Answers_train_encoded_S=[q[:-1] for q in Answers_train_encoded_SE]\n",
        "Answers_train_encoded_E=[q[1:] for q in Answers_train_encoded_SE]\n",
        "Questions_test_encoded_SE=list(map(encode, Questions_test1))\n",
        "Answers_test_encoded_SE=list(map(encode, Answers_test1))\n",
        "Answers_test_encoded_S=[q[:-1] for q in Answers_test_encoded_SE]\n",
        "Answers_test_encoded_E=[q[1:] for q in Answers_test_encoded_SE]\n",
        "Questions_train_encoded_SE = pad_sequences(Questions_train_encoded_SE, padding='post')\n",
        "Answers_train_encoded_SE = pad_sequences(Answers_train_encoded_SE, padding='post')\n",
        "Answers_train_encoded_S = pad_sequences(Answers_train_encoded_S, padding='post')\n",
        "Answers_train_encoded_E = pad_sequences(Answers_train_encoded_E, padding='post')\n",
        "Questions_test_encoded_SE = pad_sequences(Questions_test_encoded_SE, padding='post')\n",
        "Answers_test_encoded_SE = pad_sequences(Answers_test_encoded_SE, padding='post')\n",
        "Answers_test_encoded_S = pad_sequences(Answers_test_encoded_S, padding='post')\n",
        "Answers_test_encoded_E = pad_sequences(Answers_test_encoded_E, padding='post')\n",
        "\n",
        "Questions_train_encoded_SE=np.array(Questions_train_encoded_SE)\n",
        "Answers_train_encoded_SE=np.array(Answers_train_encoded_SE)\n",
        "Answers_train_encoded_S=np.array(Answers_train_encoded_S)\n",
        "Answers_train_encoded_E=np.array(Answers_train_encoded_E)\n",
        "Questions_test_encoded_SE=np.array(Questions_test_encoded_SE)\n",
        "Answers_test_encoded_SE=np.array(Answers_test_encoded_SE)\n",
        "Answers_test_encoded_S=np.array(Answers_test_encoded_S)\n",
        "Answers_test_encoded_E=np.array(Answers_test_encoded_E)\n"
      ],
      "execution_count": null,
      "outputs": []
    },
    {
      "cell_type": "markdown",
      "source": [
        "Примеры после токенайзера"
      ],
      "metadata": {
        "id": "Gn_twcA83jZe"
      }
    },
    {
      "cell_type": "code",
      "source": [
        "print(Answers_train_encoded_SE[0])\n",
        "print(Answers_train_encoded_S[0])\n",
        "print(Answers_train_encoded_E[0])\n"
      ],
      "metadata": {
        "colab": {
          "base_uri": "https://localhost:8080/"
        },
        "id": "dRIYDxwb3cus",
        "outputId": "deac37a2-ab76-4bd8-a156-700f52ccb2af"
      },
      "execution_count": null,
      "outputs": [
        {
          "output_type": "stream",
          "name": "stdout",
          "text": [
            "[9056 1491 8052 9057    0    0    0    0    0    0    0    0    0    0\n",
            "    0    0    0    0    0    0    0    0    0    0    0    0    0    0\n",
            "    0    0    0    0    0    0    0    0]\n",
            "[9056 1491 8052    0    0    0    0    0    0    0    0    0    0    0\n",
            "    0    0    0    0    0    0    0    0    0    0    0    0    0    0\n",
            "    0    0    0    0    0    0    0]\n",
            "[1491 8052 9057    0    0    0    0    0    0    0    0    0    0    0\n",
            "    0    0    0    0    0    0    0    0    0    0    0    0    0    0\n",
            "    0    0    0    0    0    0    0]\n"
          ]
        }
      ]
    },
    {
      "cell_type": "code",
      "source": [
        "Questions_train_encoded[0]"
      ],
      "metadata": {
        "colab": {
          "base_uri": "https://localhost:8080/"
        },
        "id": "WI_vxgeHkPFq",
        "outputId": "5a7c9d4f-6ad3-45d4-f30d-6447cc797fe8"
      },
      "execution_count": null,
      "outputs": [
        {
          "output_type": "execute_result",
          "data": {
            "text/plain": [
              "<tf.Tensor: shape=(9,), dtype=int32, numpy=array([9056,    8,    5,    2,  740, 5552,  125, 8863, 9057], dtype=int32)>"
            ]
          },
          "metadata": {},
          "execution_count": 22
        }
      ]
    },
    {
      "cell_type": "markdown",
      "source": [
        "Позиционное кодирование"
      ],
      "metadata": {
        "id": "oCQWTk8v3qVG"
      }
    },
    {
      "cell_type": "code",
      "metadata": {
        "id": "JrZ906UOrgFh"
      },
      "source": [
        "def get_angles(pos, i, d_model):\n",
        "    \n",
        "  angle_rates = 1 / np.power(10000, (2 * (i//2)) / np.float32(d_model))\n",
        "  return pos * angle_rates"
      ],
      "execution_count": null,
      "outputs": []
    },
    {
      "cell_type": "code",
      "source": [
        "print(np.sin(get_angles(0,np.arange(10),10)))\n",
        "print(np.sin(get_angles(1,np.arange(10),10)))\n",
        "print(np.sin(get_angles(2,np.arange(10),10)))\n",
        "print(np.sin(get_angles(3,np.arange(10),10)))\n"
      ],
      "metadata": {
        "colab": {
          "base_uri": "https://localhost:8080/"
        },
        "id": "E7QtZGKK123u",
        "outputId": "ac727e7d-4b79-40b6-c538-a59980c08100"
      },
      "execution_count": null,
      "outputs": [
        {
          "output_type": "stream",
          "name": "stdout",
          "text": [
            "[0. 0. 0. 0. 0. 0. 0. 0. 0. 0.]\n",
            "[8.41470985e-01 8.41470985e-01 1.57826640e-01 1.57826640e-01\n",
            " 2.51162229e-02 2.51162229e-02 3.98106119e-03 3.98106119e-03\n",
            " 6.30957303e-04 6.30957303e-04]\n",
            "[0.90929743 0.90929743 0.31169715 0.31169715 0.0502166  0.0502166\n",
            " 0.00796206 0.00796206 0.00126191 0.00126191]\n",
            "[0.14112001 0.14112001 0.45775455 0.45775455 0.07528529 0.07528529\n",
            " 0.01194293 0.01194293 0.00189287 0.00189287]\n"
          ]
        }
      ]
    },
    {
      "cell_type": "code",
      "metadata": {
        "id": "lRNOsOpQriI1"
      },
      "source": [
        "def positional_encoding(position, d_model):\n",
        "  angle_rads = get_angles(np.arange(position)[:, np.newaxis],\n",
        "                          np.arange(d_model)[np.newaxis, :],\n",
        "                          d_model)\n",
        "  \n",
        "  # apply sin to even indices in the array; 2i\n",
        "  angle_rads[:, 0::2] = np.sin(angle_rads[:, 0::2])\n",
        "  \n",
        "  # apply cos to odd indices in the array; 2i+1\n",
        "  angle_rads[:, 1::2] = np.cos(angle_rads[:, 1::2])\n",
        "    \n",
        "  pos_encoding = angle_rads[np.newaxis, ...]\n",
        "    \n",
        "  return tf.cast(pos_encoding, dtype=tf.float32)"
      ],
      "execution_count": null,
      "outputs": []
    },
    {
      "cell_type": "code",
      "metadata": {
        "colab": {
          "base_uri": "https://localhost:8080/",
          "height": 300
        },
        "id": "U1j5IJngrkVY",
        "outputId": "3c0db675-46f6-424f-9fb5-74ba98fabb32"
      },
      "source": [
        "pos_encoding = positional_encoding(10, 100)\n",
        "print (pos_encoding.shape)\n",
        "\n",
        "plt.pcolormesh(pos_encoding[0], cmap='RdBu')\n",
        "plt.xlabel('Depth')\n",
        "plt.xlim((0, 100))\n",
        "plt.ylabel('Position')\n",
        "plt.colorbar()\n",
        "plt.show()"
      ],
      "execution_count": null,
      "outputs": [
        {
          "output_type": "stream",
          "name": "stdout",
          "text": [
            "(1, 10, 100)\n"
          ]
        },
        {
          "output_type": "display_data",
          "data": {
            "image/png": "[encoded data removed]",
            "text/plain": [
              "<Figure size 432x288 with 2 Axes>"
            ]
          },
          "metadata": {
            "needs_background": "light"
          }
        }
      ]
    },
    {
      "cell_type": "code",
      "metadata": {
        "id": "qjuiqQf7rvi7"
      },
      "source": [
        "class MultiHeadAttention(tf.keras.layers.Layer):\n",
        "\n",
        "  def __init__(self, d_model = 512, num_heads = 8, causal=False, dropout=0.0):\n",
        "\n",
        "    super(MultiHeadAttention, self).__init__()  # здесь все головы считаем паралелльно - поэтому attention пробегает и  по батчу и по числу голов\n",
        "\n",
        "    assert d_model % num_heads == 0 # проверим, что размерность головы - целое цисло\n",
        "    depth = d_model // num_heads    # размерность каждой головы внимания  =>>  multi-headed_depth = depth / num_heads\n",
        "                                    # заметим, что выходы голов конкатенируются, поэтому их размер в их число раз меньше.\n",
        "                                    # поэтому размерность выхода должно совпасть в размерностью входа\n",
        "\n",
        "    self.w_query = tf.keras.layers.Dense(d_model)                            # dense для Query  (batch_size , seq_length, depth) \n",
        "    self.split_reshape_query = tf.keras.layers.Reshape((-1,num_heads,depth)) # слой для решейпа query до  (batch_size , seq_length, num_heads, multi_headed_depth)  \n",
        "    self.split_permute_query = tf.keras.layers.Permute((2,1,3))              # слой для перестановки размерностей для использования Attention (batch_size , num_heads, seq_length, multi_headed_depth) \n",
        "\n",
        "    self.w_value = tf.keras.layers.Dense(d_model)\n",
        "    self.split_reshape_value = tf.keras.layers.Reshape((-1,num_heads,depth))\n",
        "    self.split_permute_value = tf.keras.layers.Permute((2,1,3))\n",
        "\n",
        "    self.w_key = tf.keras.layers.Dense(d_model)\n",
        "    self.split_reshape_key = tf.keras.layers.Reshape((-1,num_heads,depth))\n",
        "    self.split_permute_key = tf.keras.layers.Permute((2,1,3))\n",
        "\n",
        "    self.attention = tf.keras.layers.Attention(causal=causal, dropout=dropout) # прописывает слой Attention\n",
        "    self.join_permute_attention = tf.keras.layers.Permute((2,1,3))             # слой обратной перестановки размерностей\n",
        "    self.join_reshape_attention = tf.keras.layers.Reshape((-1,d_model))        # слой обратного решейпа до размернсти модели\n",
        "\n",
        "    self.dense = tf.keras.layers.Dense(d_model)\n",
        "\n",
        "  def call(self, inputs, mask=None, training=None): # основная рабочая функция\n",
        "\n",
        "    q = inputs[0]                           # вытащим входной вектор Query\n",
        "    v = inputs[1]                           # вытащим входной вектор Value\n",
        "    k = inputs[2] if len(inputs) > 2 else v # вытащим входной вектор Key\n",
        "\n",
        "    query = self.w_query(q)                   # прогоним через dense\n",
        "    query = self.split_reshape_query(query)   # решейпим\n",
        "    query = self.split_permute_query(query)   # переставляем размерность\n",
        "\n",
        "    value = self.w_value(v)                 # прогоним через dense\n",
        "    value = self.split_reshape_value(value) # решейпим\n",
        "    value = self.split_permute_value(value) # переставляем размерность\n",
        "\n",
        "    key = self.w_key(k)               # прогоним через dense\n",
        "    key = self.split_reshape_key(key) # решейпим\n",
        "    key = self.split_permute_key(key) # переставляем размерность\n",
        "\n",
        "    if mask is not None: # применим маску если есть \n",
        "\n",
        "      if mask[0] is not None:\n",
        "        mask[0] = tf.keras.layers.Reshape((-1,1))(mask[0])\n",
        "        mask[0] = tf.keras.layers.Permute((2,1))(mask[0])\n",
        "      \n",
        "      if mask[1] is not None:\n",
        "        mask[1] = tf.keras.layers.Reshape((-1,1))(mask[1])\n",
        "        mask[1] = tf.keras.layers.Permute((2,1))(mask[1])\n",
        "\n",
        "    attention = self.attention([query, value, key], mask=mask) # вычисляем векторо внимания\n",
        "    attention = self.join_permute_attention(attention)         # обратно перемешиваем размерности\n",
        "    attention = self.join_reshape_attention(attention)         # решейпим до (batch_size , seq_length, depth) \n",
        "\n",
        "    x = self.dense(attention) # выходной dense\n",
        "\n",
        "    return x"
      ],
      "execution_count": null,
      "outputs": []
    },
    {
      "cell_type": "code",
      "metadata": {
        "id": "I2EGJ0VHr9Tg"
      },
      "source": [
        "class EncoderLayer(tf.keras.layers.Layer): \n",
        "\n",
        "  def __init__(self,  d_model = 512, num_heads = 8, dff = 2048, dropout = 0.0):\n",
        "    super(EncoderLayer, self).__init__()\n",
        "\n",
        "    self.multi_head_attention =  MultiHeadAttention(d_model, num_heads)  # определим слой  MultiHeadAttention\n",
        "    self.dropout_attention = tf.keras.layers.Dropout(dropout)            # добавим дропаут\n",
        "    self.add_attention = tf.keras.layers.Add()                           # слой для получения resudial связи\n",
        "    self.layer_norm_attention = tf.keras.layers.LayerNormalization(epsilon=1e-6)  # слой нормализации\n",
        "\n",
        "    self.dense1 = tf.keras.layers.Dense(dff, activation='relu')               # первый dense в Feed Forward\n",
        "    self.dense2 = tf.keras.layers.Dense(d_model)                              # второй  dense в Feed Forward\n",
        "    self.dropout_dense = tf.keras.layers.Dropout(dropout)                     # добавим дропаут\n",
        "    self.add_dense = tf.keras.layers.Add()                                    # слой для получения resudial связи\n",
        "    self.layer_norm_dense = tf.keras.layers.LayerNormalization(epsilon=1e-6)  # слой нормализации\n",
        "\n",
        "  def call(self, inputs, mask=None, training=None):\n",
        "    \n",
        "    # print(mask)\n",
        "\n",
        "    # входной вектор input размножим до 3  - это query, value, key и отдадим attenton, с маской если есть \n",
        "    attention = self.multi_head_attention([inputs,inputs,inputs], mask = [mask,mask]) \n",
        "    \n",
        "    # уменьшим переобучение дроаутом\n",
        "    attention = self.dropout_attention(attention, training = training) \n",
        "    \n",
        "    # сделаем resudial связь - добавим входной вектор\n",
        "    x = self.add_attention([inputs , attention]) \n",
        "    \n",
        "    # далее нормализация в масштабах уровня\n",
        "    x = self.layer_norm_attention(x)  \n",
        "    # x = inputs\n",
        "\n",
        "    ## добавим Feed Forward  \n",
        "    \n",
        "    # проходим 1й dense с активашкой relu\n",
        "    dense = self.dense1(x) \n",
        "    \n",
        "    # второй dense без активашки т.е. с линейной активационной функцией\n",
        "    dense = self.dense2(dense)  \n",
        "    \n",
        "    # добавляем дропаут\n",
        "    dense = self.dropout_dense(dense, training = training)  \n",
        "    \n",
        "    # еще одна resudial связь\n",
        "    x = self.add_dense([x , dense])  \n",
        "    \n",
        "    # нормализация в масштабах уровня\n",
        "    x = self.layer_norm_dense(x)  \n",
        "\n",
        "    return x"
      ],
      "execution_count": null,
      "outputs": []
    },
    {
      "cell_type": "code",
      "metadata": {
        "id": "5Eyo1MWfsBPU"
      },
      "source": [
        "class DecoderLayer(tf.keras.layers.Layer):\n",
        "\n",
        "  def __init__(self,  d_model = 512, num_heads = 8, dff = 2048, dropout = 0.0):\n",
        "\n",
        "    super(DecoderLayer, self).__init__()\n",
        "\n",
        "    self.multi_head_attention1 =  MultiHeadAttention(d_model, num_heads, causal = True) # определим слой  MultiHeadAttention\n",
        "    self.dropout_attention1 = tf.keras.layers.Dropout(dropout)                          # добавим дропаут\n",
        "    self.add_attention1 = tf.keras.layers.Add()                                         # слой для получения resudial связи\n",
        "    self.layer_norm_attention1 = tf.keras.layers.LayerNormalization(epsilon=1e-6)       # слой нормализации\n",
        "\n",
        "    self.multi_head_attention2 =  MultiHeadAttention(d_model, num_heads)                # определим слой  MultiHeadAttention \n",
        "    self.dropout_attention2 = tf.keras.layers.Dropout(dropout)                          # добавим дропаут\n",
        "    self.add_attention2 = tf.keras.layers.Add()                                         # слой для получения resudial связи\n",
        "    self.layer_norm_attention2 = tf.keras.layers.LayerNormalization(epsilon=1e-6)       # слой нормализации\n",
        "\n",
        "\n",
        "    self.dense1 = tf.keras.layers.Dense(dff, activation='relu')              # первый dense в Feed Forward\n",
        "    self.dense2 = tf.keras.layers.Dense(d_model)                             # второй  dense в Feed Forward\n",
        "    self.dropout_dense = tf.keras.layers.Dropout(dropout)                    # добавим дропаут\n",
        "    self.add_dense = tf.keras.layers.Add()                                   # слой для получения resudial связи\n",
        "    self.layer_norm_dense = tf.keras.layers.LayerNormalization(epsilon=1e-6) # слой нормализации\n",
        "\n",
        "  def call(self, inputs, mask=None, training=None):\n",
        "    \n",
        "    # print(mask)\n",
        "    \n",
        "    # подадим на multi-head attention  Query, Key, Value вектора - здесь это один и тотже вектор\n",
        "    attention = self.multi_head_attention1([inputs[0],inputs[0],inputs[0]], mask = [mask[0],mask[0]])\n",
        "    \n",
        "    # пробежим дропаут\n",
        "    attention = self.dropout_attention1(attention, training = training)\n",
        "    \n",
        "    # пробросим Resudial-связь\n",
        "    x = self.add_attention1([inputs[0] , attention])\n",
        "    \n",
        "    # выполним нормализацию\n",
        "    x = self.layer_norm_attention1(x)\n",
        "    \n",
        "    # второй multi-head attention. Подаем выход предыдущих слоев x и выход от энкодера, маску (если есть)\n",
        "    attention = self.multi_head_attention2([x, inputs[1],inputs[1]], mask = [mask[0],mask[1]])\n",
        "    \n",
        "    # прогоняем через дропаут\n",
        "    attention = self.dropout_attention2(attention, training = training)\n",
        "    \n",
        "    # пробросим Resudial-связь\n",
        "    x = self.add_attention1([x , attention])\n",
        "    \n",
        "    # выполним нормализацию\n",
        "    x = self.layer_norm_attention1(x)\n",
        "\n",
        "    ## Feed Forward\n",
        "    \n",
        "    # 1 -dense + relu\n",
        "    dense = self.dense1(x)\n",
        "\n",
        "    # 2 dense +linear\n",
        "    dense = self.dense2(dense)\n",
        "\n",
        "    # прогоняем через дропаут\n",
        "    dense = self.dropout_dense(dense, training = training)\n",
        "\n",
        "    # пробросим Resudial-связь\n",
        "    x = self.add_dense([x , dense])\n",
        "\n",
        "    # выполним нормализацию\n",
        "    x = self.layer_norm_dense(x)\n",
        "\n",
        "    return x"
      ],
      "execution_count": null,
      "outputs": []
    },
    {
      "cell_type": "code",
      "metadata": {
        "id": "DSMPCIhfsD-C"
      },
      "source": [
        "class Encoder(tf.keras.layers.Layer):\n",
        "\n",
        "  def __init__(self, input_vocab_size, num_layers = 4, d_model = 512, num_heads = 8, dff = 2048, maximum_position_encoding = 10000, dropout = 0.0):\n",
        "    \n",
        "    super(Encoder, self).__init__()\n",
        "\n",
        "    self.d_model = d_model\n",
        "\n",
        "    self.embedding = tf.keras.layers.Embedding(input_vocab_size, d_model, mask_zero=True)                           # пропишем слой Embedding\n",
        "    self.pos = positional_encoding(maximum_position_encoding, d_model)                                              # функция позиционного кодирования\n",
        "    self.encoder_layers = [ EncoderLayer(d_model = d_model, num_heads = num_heads, dff = dff, dropout = dropout) for _ in range(num_layers)] # список Nx слоев кодера \n",
        "    self.dropout = tf.keras.layers.Dropout(dropout)                                                                 # просто дропаут\n",
        "\n",
        "  def call(self, inputs, mask=None, training=None):\n",
        "    \n",
        "    # входной эмбеддинг  \n",
        "    x = self.embedding(inputs) \n",
        "    \n",
        "    # позиционное кодирование\n",
        "    x *= tf.math.sqrt(tf.cast(self.d_model, tf.float32))  #\n",
        "    x += self.pos[: , :tf.shape(x)[1], :]\n",
        "    \n",
        "    # прогоняем через дроаут\n",
        "    x = self.dropout(x, training=training)\n",
        "\n",
        "    # Encoder layer\n",
        "\n",
        "    # входной слой embedding+ Позиционное кодирование\n",
        "    embedding_mask = self.embedding.compute_mask(inputs)\n",
        "\n",
        "    # прогоним через Nx слоев кодера\n",
        "    for encoder_layer in self.encoder_layers: \n",
        "      x = encoder_layer(x, mask = embedding_mask)\n",
        "\n",
        "    return x\n",
        "\n",
        "  # Закомментируйте код ниже, если хотите использовать masked_loss()\n",
        "  def compute_mask(self, inputs, mask=None):\n",
        "    return self.embedding.compute_mask(inputs)"
      ],
      "execution_count": null,
      "outputs": []
    },
    {
      "cell_type": "code",
      "metadata": {
        "id": "AoyyU00JsPaH"
      },
      "source": [
        "class Decoder(tf.keras.layers.Layer):\n",
        "\n",
        "  def __init__(self, target_vocab_size, num_layers = 4, d_model = 512, num_heads = 8, dff = 2048, maximum_position_encoding = 10000, dropout = 0.0):\n",
        "    \n",
        "    super(Decoder, self).__init__()\n",
        "\n",
        "    self.d_model = d_model\n",
        "\n",
        "    self.embedding = tf.keras.layers.Embedding(target_vocab_size, d_model, mask_zero=True) # пропишем слой Embedding\n",
        "    self.pos = positional_encoding(maximum_position_encoding, d_model)                     # функция позиционного кодирования\n",
        "    self.decoder_layers = [ DecoderLayer(d_model = d_model, num_heads = num_heads, dff = dff, dropout = dropout)  for _ in range(num_layers)] # список Nx слоев декодера \n",
        "    self.dropout = tf.keras.layers.Dropout(dropout)                                        # просто дропаут\n",
        "\n",
        "  def call(self, inputs, mask=None, training=None):\n",
        "    \n",
        "    # выполним переход в эмбеддинг\n",
        "    x = self.embedding(inputs[0]) \n",
        "    \n",
        "    # позиционное кодирование\n",
        "    x *= tf.math.sqrt(tf.cast(self.d_model, tf.float32))\n",
        "    x += self.pos[: , :tf.shape(x)[1], :]\n",
        "    \n",
        "    # просто dropout\n",
        "    x = self.dropout(x, training=training)\n",
        "\n",
        "    # Decoder layer\n",
        "    \n",
        "    # входной слой embedding + Позиционное кодирование\n",
        "    embedding_mask = self.embedding.compute_mask(inputs[0])\n",
        "\n",
        "    # прогоним через Nx слоев декодера\n",
        "    for decoder_layer in self.decoder_layers:\n",
        "      x = decoder_layer([x,inputs[1]], mask = [embedding_mask, mask])\n",
        "\n",
        "    return x\n",
        "\n",
        "  # Закомментируйте код ниже, если хотите использовать masked_loss()\n",
        "  def compute_mask(self, inputs, mask=None):\n",
        "    return self.embedding.compute_mask(inputs[0])"
      ],
      "execution_count": null,
      "outputs": []
    },
    {
      "cell_type": "code",
      "metadata": {
        "colab": {
          "base_uri": "https://localhost:8080/"
        },
        "id": "l2UU7F63sR2W",
        "outputId": "b68d2747-040e-4503-bf0c-a8e40ebced4f"
      },
      "source": [
        "num_layers = 2\n",
        "d_model = 128\n",
        "dff = 512\n",
        "num_heads = 16\n",
        "\n",
        "dropout_rate = 0.2\n",
        "\n",
        "vocab_size = tokenizer.vocab_size + 2\n",
        "\n",
        "\n",
        "input  = tf.keras.layers.Input(shape=(None,)) # входной слой для переводимой фразы\n",
        "target = tf.keras.layers.Input(shape=(None,)) # вход для перевода\n",
        "encoder = Encoder(vocab_size, num_layers = num_layers, d_model = d_model, num_heads = num_heads, dff = dff, dropout = dropout_rate) # весь кодер\n",
        "decoder = Decoder(vocab_size, num_layers = num_layers, d_model = d_model, num_heads = num_heads, dff = dff, dropout = dropout_rate) #весь декодер\n",
        "\n",
        "# собираем модель \n",
        "x = encoder(input)\n",
        "x = decoder([target, x] , mask = encoder.compute_mask(input))\n",
        "x = tf.keras.layers.Dense(vocab_size)(x)\n",
        "\n",
        "model = tf.keras.models.Model(inputs=[input, target], outputs=x)\n",
        "model.summary()"
      ],
      "execution_count": null,
      "outputs": [
        {
          "output_type": "stream",
          "name": "stdout",
          "text": [
            "Model: \"model\"\n",
            "__________________________________________________________________________________________________\n",
            " Layer (type)                   Output Shape         Param #     Connected to                     \n",
            "==================================================================================================\n",
            " input_1 (InputLayer)           [(None, None)]       0           []                               \n",
            "                                                                                                  \n",
            " input_2 (InputLayer)           [(None, None)]       0           []                               \n",
            "                                                                                                  \n",
            " encoder (Encoder)              (None, None, 128)    1555968     ['input_1[0][0]']                \n",
            "                                                                                                  \n",
            " tf.math.not_equal (TFOpLambda)  (None, None)        0           ['input_1[0][0]']                \n",
            "                                                                                                  \n",
            " decoder (Decoder)              (None, None, 128)    1688064     ['input_2[0][0]',                \n",
            "                                                                  'encoder[0][0]',                \n",
            "                                                                  'tf.math.not_equal[0][0]']      \n",
            "                                                                                                  \n",
            " dense_32 (Dense)               (None, None, 9058)   1168482     ['decoder[0][0]']                \n",
            "                                                                                                  \n",
            "==================================================================================================\n",
            "Total params: 4,412,514\n",
            "Trainable params: 4,412,514\n",
            "Non-trainable params: 0\n",
            "__________________________________________________________________________________________________\n"
          ]
        }
      ]
    },
    {
      "cell_type": "code",
      "metadata": {
        "id": "p80e0Wu8sYE6"
      },
      "source": [
        "class CustomSchedule(tf.keras.optimizers.schedules.LearningRateSchedule):\n",
        "    \n",
        "  def __init__(self, d_model, warmup_steps=4000):\n",
        "    super(CustomSchedule, self).__init__()\n",
        "\n",
        "    self.d_model = d_model\n",
        "    self.d_model = tf.cast(self.d_model, tf.float32)\n",
        "\n",
        "    self.warmup_steps = warmup_steps\n",
        "\n",
        "  def __call__(self, step):\n",
        "    arg1 = tf.math.rsqrt(step)\n",
        "    arg2 = step * (self.warmup_steps ** -1.5)\n",
        "    return tf.math.rsqrt(self.d_model) * tf.math.minimum(arg1, arg2)"
      ],
      "execution_count": null,
      "outputs": []
    },
    {
      "cell_type": "code",
      "metadata": {
        "id": "lEw7v5insgBS"
      },
      "source": [
        "# оптимайзер \n",
        "optimizer = tf.keras.optimizers.Adam(CustomSchedule(d_model), beta_1=0.9, beta_2=0.98, \n",
        "                                     epsilon=1e-9)\n",
        "# функция потерь\n",
        "loss = tf.keras.losses.SparseCategoricalCrossentropy(\n",
        "    from_logits=True, reduction='none')\n",
        "\n",
        "def masked_loss(y_true, y_pred):\n",
        "\n",
        "  # считаем маску  \n",
        "  mask = tf.math.logical_not(tf.math.equal(y_true, 0))\n",
        "  _loss = loss(y_true, y_pred)\n",
        "  #print(mask)\n",
        "  mask = tf.cast(mask, dtype=_loss.dtype)\n",
        "\n",
        "  # накинем маску на потери  \n",
        "  _loss *= mask\n",
        "\n",
        "  return tf.reduce_sum(_loss)/tf.reduce_sum(mask)\n",
        "\n",
        "metrics = [loss, masked_loss, tf.keras.metrics.SparseCategoricalAccuracy()]\n",
        "\n",
        "model.compile(optimizer=optimizer, loss = loss, metrics = metrics) # masked_"
      ],
      "execution_count": null,
      "outputs": []
    },
    {
      "cell_type": "code",
      "source": [
        "batchSize=32\n",
        "class Tgenerator(tf.keras.utils.Sequence):\n",
        "\n",
        "    def __init__(self, Questions_SE,Answers_S,Answers_E, batch_size):\n",
        "        print(\"__init__\")\n",
        "        #self.Df = Df\n",
        "        self.Questions_SE=Questions_SE\n",
        "        self.Answers_S = Answers_S\n",
        "        self.Answers_E=Answers_E\n",
        "        self.batch_size = batch_size\n",
        "        \n",
        "    def __len__(self):\n",
        "      return int((len(self.Questions_SE))/ self.batch_size)#math.ceil\n",
        "\n",
        "    def __getitem__(self, idx):\n",
        "        batch_Questions_SE = list()\n",
        "        batch_Answers_S = list()\n",
        "        batch_Answers_E = list()\n",
        "        for i in range(idx*self.batch_size,(idx+1)*self.batch_size):\n",
        "          batch_Questions_SE.append(self.Questions_SE[i])\n",
        "          batch_Answers_S.append(self.Answers_S[i])\n",
        "          batch_Answers_E.append(self.Answers_E[i])\n",
        "          \n",
        "        batch_Questions_SE=np.array(batch_Questions_SE)\n",
        "        batch_Answers_S=np.array(batch_Answers_S)\n",
        "        batch_Answers_E=np.array(batch_Answers_E)\n",
        "        return ([batch_Questions_SE , batch_Answers_S] , batch_Answers_E )\n",
        "num_batches=len(Questions_train_encoded)//batchSize\n",
        "val_batches=len(Questions_test_encoded)//batchSize"
      ],
      "metadata": {
        "id": "-tIvpt9Va_LG"
      },
      "execution_count": null,
      "outputs": []
    },
    {
      "cell_type": "code",
      "source": [
        "train_datagen=Tgenerator(Questions_train_encoded_SE,Answers_train_encoded_S,Answers_train_encoded_E, batchSize)\n",
        "test_datagen=Tgenerator(Questions_test_encoded_SE,Answers_test_encoded_S,Answers_test_encoded_E, batchSize)"
      ],
      "metadata": {
        "colab": {
          "base_uri": "https://localhost:8080/"
        },
        "id": "v52dfFVudMvH",
        "outputId": "d4b7082a-4613-4d70-eabd-66ce3e64d3ec"
      },
      "execution_count": null,
      "outputs": [
        {
          "output_type": "stream",
          "name": "stdout",
          "text": [
            "__init__\n",
            "__init__\n"
          ]
        }
      ]
    },
    {
      "cell_type": "code",
      "source": [
        "#num head = 16\n",
        "history = model.fit(train_datagen, epochs=40, steps_per_epoch = train_datagen.__len__(),validation_data = test_datagen, validation_steps = test_datagen.__len__())#, validation_data = generator(Questions_test_encoded,Answers_test_encoded,batchSize), validation_steps = val_batches"
      ],
      "metadata": {
        "colab": {
          "base_uri": "https://localhost:8080/",
          "height": 870
        },
        "id": "TGQLGZGKtBzG",
        "outputId": "8acbda7c-a004-49db-b7c3-0cea5a00b081"
      },
      "execution_count": null,
      "outputs": [
        {
          "output_type": "stream",
          "name": "stdout",
          "text": [
            "Epoch 1/40\n",
            "278/278 [==============================] - 149s 505ms/step - loss: 1.0404 - sparse_categorical_crossentropy: 8.5691 - masked_loss: 8.5691 - sparse_categorical_accuracy: 0.1817 - val_loss: 0.9939 - val_sparse_categorical_crossentropy: 7.7999 - val_masked_loss: 7.7999 - val_sparse_categorical_accuracy: 0.2065\n",
            "Epoch 2/40\n",
            "278/278 [==============================] - 142s 512ms/step - loss: 0.8509 - sparse_categorical_crossentropy: 7.0085 - masked_loss: 7.0085 - sparse_categorical_accuracy: 0.2353 - val_loss: 0.8621 - val_sparse_categorical_crossentropy: 6.7658 - val_masked_loss: 6.7658 - val_sparse_categorical_accuracy: 0.2065\n",
            "Epoch 3/40\n",
            "278/278 [==============================] - 143s 513ms/step - loss: 0.7780 - sparse_categorical_crossentropy: 6.4083 - masked_loss: 6.4083 - sparse_categorical_accuracy: 0.2381 - val_loss: 0.8252 - val_sparse_categorical_crossentropy: 6.4764 - val_masked_loss: 6.4764 - val_sparse_categorical_accuracy: 0.2120\n",
            "Epoch 4/40\n",
            "278/278 [==============================] - 147s 531ms/step - loss: 0.7319 - sparse_categorical_crossentropy: 6.0285 - masked_loss: 6.0285 - sparse_categorical_accuracy: 0.2485 - val_loss: 0.7832 - val_sparse_categorical_crossentropy: 6.1464 - val_masked_loss: 6.1464 - val_sparse_categorical_accuracy: 0.2397\n",
            "Epoch 5/40\n",
            "278/278 [==============================] - 146s 526ms/step - loss: 0.6883 - sparse_categorical_crossentropy: 5.6690 - masked_loss: 5.6690 - sparse_categorical_accuracy: 0.2768 - val_loss: 0.7549 - val_sparse_categorical_crossentropy: 5.9245 - val_masked_loss: 5.9245 - val_sparse_categorical_accuracy: 0.2566\n",
            "Epoch 6/40\n",
            "278/278 [==============================] - 150s 539ms/step - loss: 0.6489 - sparse_categorical_crossentropy: 5.3443 - masked_loss: 5.3443 - sparse_categorical_accuracy: 0.3019 - val_loss: 0.7332 - val_sparse_categorical_crossentropy: 5.7544 - val_masked_loss: 5.7544 - val_sparse_categorical_accuracy: 0.2764\n",
            "Epoch 7/40\n",
            "278/278 [==============================] - 151s 542ms/step - loss: 0.6105 - sparse_categorical_crossentropy: 5.0286 - masked_loss: 5.0286 - sparse_categorical_accuracy: 0.3250 - val_loss: 0.7103 - val_sparse_categorical_crossentropy: 5.5742 - val_masked_loss: 5.5742 - val_sparse_categorical_accuracy: 0.2879\n",
            "Epoch 8/40\n",
            "278/278 [==============================] - 145s 522ms/step - loss: 0.5733 - sparse_categorical_crossentropy: 4.7221 - masked_loss: 4.7221 - sparse_categorical_accuracy: 0.3459 - val_loss: 0.6909 - val_sparse_categorical_crossentropy: 5.4218 - val_masked_loss: 5.4218 - val_sparse_categorical_accuracy: 0.2982\n",
            "Epoch 9/40\n",
            "278/278 [==============================] - 151s 544ms/step - loss: 0.5388 - sparse_categorical_crossentropy: 4.4379 - masked_loss: 4.4379 - sparse_categorical_accuracy: 0.3674 - val_loss: 0.6774 - val_sparse_categorical_crossentropy: 5.3164 - val_masked_loss: 5.3164 - val_sparse_categorical_accuracy: 0.3131\n",
            "Epoch 10/40\n",
            "278/278 [==============================] - 149s 535ms/step - loss: 0.5058 - sparse_categorical_crossentropy: 4.1661 - masked_loss: 4.1661 - sparse_categorical_accuracy: 0.3866 - val_loss: 0.6708 - val_sparse_categorical_crossentropy: 5.2647 - val_masked_loss: 5.2647 - val_sparse_categorical_accuracy: 0.3221\n",
            "Epoch 11/40\n",
            "278/278 [==============================] - 149s 536ms/step - loss: 0.4755 - sparse_categorical_crossentropy: 3.9162 - masked_loss: 3.9162 - sparse_categorical_accuracy: 0.4067 - val_loss: 0.6642 - val_sparse_categorical_crossentropy: 5.2126 - val_masked_loss: 5.2126 - val_sparse_categorical_accuracy: 0.3295\n",
            "Epoch 12/40\n",
            "278/278 [==============================] - 150s 541ms/step - loss: 0.4438 - sparse_categorical_crossentropy: 3.6554 - masked_loss: 3.6554 - sparse_categorical_accuracy: 0.4291 - val_loss: 0.6667 - val_sparse_categorical_crossentropy: 5.2324 - val_masked_loss: 5.2324 - val_sparse_categorical_accuracy: 0.3333\n",
            "Epoch 13/40\n",
            "278/278 [==============================] - 146s 526ms/step - loss: 0.4150 - sparse_categorical_crossentropy: 3.4184 - masked_loss: 3.4184 - sparse_categorical_accuracy: 0.4488 - val_loss: 0.6702 - val_sparse_categorical_crossentropy: 5.2600 - val_masked_loss: 5.2600 - val_sparse_categorical_accuracy: 0.3431\n",
            "Epoch 14/40\n",
            "278/278 [==============================] - 142s 510ms/step - loss: 0.3900 - sparse_categorical_crossentropy: 3.2122 - masked_loss: 3.2122 - sparse_categorical_accuracy: 0.4667 - val_loss: 0.6717 - val_sparse_categorical_crossentropy: 5.2716 - val_masked_loss: 5.2716 - val_sparse_categorical_accuracy: 0.3491\n",
            "Epoch 15/40\n",
            " 13/278 [>.............................] - ETA: 1:40 - loss: 0.3139 - sparse_categorical_crossentropy: 2.6421 - masked_loss: 2.6421 - sparse_categorical_accuracy: 0.5306"
          ]
        },
        {
          "output_type": "error",
          "ename": "KeyboardInterrupt",
          "evalue": "ignored",
          "traceback": [
            "\u001b[0;31m---------------------------------------------------------------------------\u001b[0m",
            "\u001b[0;31mKeyboardInterrupt\u001b[0m                         Traceback (most recent call last)",
            "\u001b[0;32m<ipython-input-37-9765f400903b>\u001b[0m in \u001b[0;36m<module>\u001b[0;34m()\u001b[0m\n\u001b[1;32m      1\u001b[0m \u001b[0;31m#num head = 16\u001b[0m\u001b[0;34m\u001b[0m\u001b[0;34m\u001b[0m\u001b[0;34m\u001b[0m\u001b[0m\n\u001b[0;32m----> 2\u001b[0;31m \u001b[0mhistory\u001b[0m \u001b[0;34m=\u001b[0m \u001b[0mmodel\u001b[0m\u001b[0;34m.\u001b[0m\u001b[0mfit\u001b[0m\u001b[0;34m(\u001b[0m\u001b[0mtrain_datagen\u001b[0m\u001b[0;34m,\u001b[0m \u001b[0mepochs\u001b[0m\u001b[0;34m=\u001b[0m\u001b[0;36m40\u001b[0m\u001b[0;34m,\u001b[0m \u001b[0msteps_per_epoch\u001b[0m \u001b[0;34m=\u001b[0m \u001b[0mtrain_datagen\u001b[0m\u001b[0;34m.\u001b[0m\u001b[0m__len__\u001b[0m\u001b[0;34m(\u001b[0m\u001b[0;34m)\u001b[0m\u001b[0;34m,\u001b[0m\u001b[0mvalidation_data\u001b[0m \u001b[0;34m=\u001b[0m \u001b[0mtest_datagen\u001b[0m\u001b[0;34m,\u001b[0m \u001b[0mvalidation_steps\u001b[0m \u001b[0;34m=\u001b[0m \u001b[0mtest_datagen\u001b[0m\u001b[0;34m.\u001b[0m\u001b[0m__len__\u001b[0m\u001b[0;34m(\u001b[0m\u001b[0;34m)\u001b[0m\u001b[0;34m)\u001b[0m\u001b[0;31m#, validation_data = generator(Questions_test_encoded,Answers_test_encoded,batchSize), validation_steps = val_batches\u001b[0m\u001b[0;34m\u001b[0m\u001b[0;34m\u001b[0m\u001b[0m\n\u001b[0m",
            "\u001b[0;32m/usr/local/lib/python3.7/dist-packages/keras/utils/traceback_utils.py\u001b[0m in \u001b[0;36merror_handler\u001b[0;34m(*args, **kwargs)\u001b[0m\n\u001b[1;32m     62\u001b[0m     \u001b[0mfiltered_tb\u001b[0m \u001b[0;34m=\u001b[0m \u001b[0;32mNone\u001b[0m\u001b[0;34m\u001b[0m\u001b[0;34m\u001b[0m\u001b[0m\n\u001b[1;32m     63\u001b[0m     \u001b[0;32mtry\u001b[0m\u001b[0;34m:\u001b[0m\u001b[0;34m\u001b[0m\u001b[0;34m\u001b[0m\u001b[0m\n\u001b[0;32m---> 64\u001b[0;31m       \u001b[0;32mreturn\u001b[0m \u001b[0mfn\u001b[0m\u001b[0;34m(\u001b[0m\u001b[0;34m*\u001b[0m\u001b[0margs\u001b[0m\u001b[0;34m,\u001b[0m \u001b[0;34m**\u001b[0m\u001b[0mkwargs\u001b[0m\u001b[0;34m)\u001b[0m\u001b[0;34m\u001b[0m\u001b[0;34m\u001b[0m\u001b[0m\n\u001b[0m\u001b[1;32m     65\u001b[0m     \u001b[0;32mexcept\u001b[0m \u001b[0mException\u001b[0m \u001b[0;32mas\u001b[0m \u001b[0me\u001b[0m\u001b[0;34m:\u001b[0m  \u001b[0;31m# pylint: disable=broad-except\u001b[0m\u001b[0;34m\u001b[0m\u001b[0;34m\u001b[0m\u001b[0m\n\u001b[1;32m     66\u001b[0m       \u001b[0mfiltered_tb\u001b[0m \u001b[0;34m=\u001b[0m \u001b[0m_process_traceback_frames\u001b[0m\u001b[0;34m(\u001b[0m\u001b[0me\u001b[0m\u001b[0;34m.\u001b[0m\u001b[0m__traceback__\u001b[0m\u001b[0;34m)\u001b[0m\u001b[0;34m\u001b[0m\u001b[0;34m\u001b[0m\u001b[0m\n",
            "\u001b[0;32m/usr/local/lib/python3.7/dist-packages/keras/engine/training.py\u001b[0m in \u001b[0;36mfit\u001b[0;34m(self, x, y, batch_size, epochs, verbose, callbacks, validation_split, validation_data, shuffle, class_weight, sample_weight, initial_epoch, steps_per_epoch, validation_steps, validation_batch_size, validation_freq, max_queue_size, workers, use_multiprocessing)\u001b[0m\n\u001b[1;32m   1214\u001b[0m                 _r=1):\n\u001b[1;32m   1215\u001b[0m               \u001b[0mcallbacks\u001b[0m\u001b[0;34m.\u001b[0m\u001b[0mon_train_batch_begin\u001b[0m\u001b[0;34m(\u001b[0m\u001b[0mstep\u001b[0m\u001b[0;34m)\u001b[0m\u001b[0;34m\u001b[0m\u001b[0;34m\u001b[0m\u001b[0m\n\u001b[0;32m-> 1216\u001b[0;31m               \u001b[0mtmp_logs\u001b[0m \u001b[0;34m=\u001b[0m \u001b[0mself\u001b[0m\u001b[0;34m.\u001b[0m\u001b[0mtrain_function\u001b[0m\u001b[0;34m(\u001b[0m\u001b[0miterator\u001b[0m\u001b[0;34m)\u001b[0m\u001b[0;34m\u001b[0m\u001b[0;34m\u001b[0m\u001b[0m\n\u001b[0m\u001b[1;32m   1217\u001b[0m               \u001b[0;32mif\u001b[0m \u001b[0mdata_handler\u001b[0m\u001b[0;34m.\u001b[0m\u001b[0mshould_sync\u001b[0m\u001b[0;34m:\u001b[0m\u001b[0;34m\u001b[0m\u001b[0;34m\u001b[0m\u001b[0m\n\u001b[1;32m   1218\u001b[0m                 \u001b[0mcontext\u001b[0m\u001b[0;34m.\u001b[0m\u001b[0masync_wait\u001b[0m\u001b[0;34m(\u001b[0m\u001b[0;34m)\u001b[0m\u001b[0;34m\u001b[0m\u001b[0;34m\u001b[0m\u001b[0m\n",
            "\u001b[0;32m/usr/local/lib/python3.7/dist-packages/tensorflow/python/util/traceback_utils.py\u001b[0m in \u001b[0;36merror_handler\u001b[0;34m(*args, **kwargs)\u001b[0m\n\u001b[1;32m    148\u001b[0m     \u001b[0mfiltered_tb\u001b[0m \u001b[0;34m=\u001b[0m \u001b[0;32mNone\u001b[0m\u001b[0;34m\u001b[0m\u001b[0;34m\u001b[0m\u001b[0m\n\u001b[1;32m    149\u001b[0m     \u001b[0;32mtry\u001b[0m\u001b[0;34m:\u001b[0m\u001b[0;34m\u001b[0m\u001b[0;34m\u001b[0m\u001b[0m\n\u001b[0;32m--> 150\u001b[0;31m       \u001b[0;32mreturn\u001b[0m \u001b[0mfn\u001b[0m\u001b[0;34m(\u001b[0m\u001b[0;34m*\u001b[0m\u001b[0margs\u001b[0m\u001b[0;34m,\u001b[0m \u001b[0;34m**\u001b[0m\u001b[0mkwargs\u001b[0m\u001b[0;34m)\u001b[0m\u001b[0;34m\u001b[0m\u001b[0;34m\u001b[0m\u001b[0m\n\u001b[0m\u001b[1;32m    151\u001b[0m     \u001b[0;32mexcept\u001b[0m \u001b[0mException\u001b[0m \u001b[0;32mas\u001b[0m \u001b[0me\u001b[0m\u001b[0;34m:\u001b[0m\u001b[0;34m\u001b[0m\u001b[0;34m\u001b[0m\u001b[0m\n\u001b[1;32m    152\u001b[0m       \u001b[0mfiltered_tb\u001b[0m \u001b[0;34m=\u001b[0m \u001b[0m_process_traceback_frames\u001b[0m\u001b[0;34m(\u001b[0m\u001b[0me\u001b[0m\u001b[0;34m.\u001b[0m\u001b[0m__traceback__\u001b[0m\u001b[0;34m)\u001b[0m\u001b[0;34m\u001b[0m\u001b[0;34m\u001b[0m\u001b[0m\n",
            "\u001b[0;32m/usr/local/lib/python3.7/dist-packages/tensorflow/python/eager/def_function.py\u001b[0m in \u001b[0;36m__call__\u001b[0;34m(self, *args, **kwds)\u001b[0m\n\u001b[1;32m    908\u001b[0m \u001b[0;34m\u001b[0m\u001b[0m\n\u001b[1;32m    909\u001b[0m       \u001b[0;32mwith\u001b[0m \u001b[0mOptionalXlaContext\u001b[0m\u001b[0;34m(\u001b[0m\u001b[0mself\u001b[0m\u001b[0;34m.\u001b[0m\u001b[0m_jit_compile\u001b[0m\u001b[0;34m)\u001b[0m\u001b[0;34m:\u001b[0m\u001b[0;34m\u001b[0m\u001b[0;34m\u001b[0m\u001b[0m\n\u001b[0;32m--> 910\u001b[0;31m         \u001b[0mresult\u001b[0m \u001b[0;34m=\u001b[0m \u001b[0mself\u001b[0m\u001b[0;34m.\u001b[0m\u001b[0m_call\u001b[0m\u001b[0;34m(\u001b[0m\u001b[0;34m*\u001b[0m\u001b[0margs\u001b[0m\u001b[0;34m,\u001b[0m \u001b[0;34m**\u001b[0m\u001b[0mkwds\u001b[0m\u001b[0;34m)\u001b[0m\u001b[0;34m\u001b[0m\u001b[0;34m\u001b[0m\u001b[0m\n\u001b[0m\u001b[1;32m    911\u001b[0m \u001b[0;34m\u001b[0m\u001b[0m\n\u001b[1;32m    912\u001b[0m       \u001b[0mnew_tracing_count\u001b[0m \u001b[0;34m=\u001b[0m \u001b[0mself\u001b[0m\u001b[0;34m.\u001b[0m\u001b[0mexperimental_get_tracing_count\u001b[0m\u001b[0;34m(\u001b[0m\u001b[0;34m)\u001b[0m\u001b[0;34m\u001b[0m\u001b[0;34m\u001b[0m\u001b[0m\n",
            "\u001b[0;32m/usr/local/lib/python3.7/dist-packages/tensorflow/python/eager/def_function.py\u001b[0m in \u001b[0;36m_call\u001b[0;34m(self, *args, **kwds)\u001b[0m\n\u001b[1;32m    940\u001b[0m       \u001b[0;31m# In this case we have created variables on the first call, so we run the\u001b[0m\u001b[0;34m\u001b[0m\u001b[0;34m\u001b[0m\u001b[0;34m\u001b[0m\u001b[0m\n\u001b[1;32m    941\u001b[0m       \u001b[0;31m# defunned version which is guaranteed to never create variables.\u001b[0m\u001b[0;34m\u001b[0m\u001b[0;34m\u001b[0m\u001b[0;34m\u001b[0m\u001b[0m\n\u001b[0;32m--> 942\u001b[0;31m       \u001b[0;32mreturn\u001b[0m \u001b[0mself\u001b[0m\u001b[0;34m.\u001b[0m\u001b[0m_stateless_fn\u001b[0m\u001b[0;34m(\u001b[0m\u001b[0;34m*\u001b[0m\u001b[0margs\u001b[0m\u001b[0;34m,\u001b[0m \u001b[0;34m**\u001b[0m\u001b[0mkwds\u001b[0m\u001b[0;34m)\u001b[0m  \u001b[0;31m# pylint: disable=not-callable\u001b[0m\u001b[0;34m\u001b[0m\u001b[0;34m\u001b[0m\u001b[0m\n\u001b[0m\u001b[1;32m    943\u001b[0m     \u001b[0;32melif\u001b[0m \u001b[0mself\u001b[0m\u001b[0;34m.\u001b[0m\u001b[0m_stateful_fn\u001b[0m \u001b[0;32mis\u001b[0m \u001b[0;32mnot\u001b[0m \u001b[0;32mNone\u001b[0m\u001b[0;34m:\u001b[0m\u001b[0;34m\u001b[0m\u001b[0;34m\u001b[0m\u001b[0m\n\u001b[1;32m    944\u001b[0m       \u001b[0;31m# Release the lock early so that multiple threads can perform the call\u001b[0m\u001b[0;34m\u001b[0m\u001b[0;34m\u001b[0m\u001b[0;34m\u001b[0m\u001b[0m\n",
            "\u001b[0;32m/usr/local/lib/python3.7/dist-packages/tensorflow/python/eager/function.py\u001b[0m in \u001b[0;36m__call__\u001b[0;34m(self, *args, **kwargs)\u001b[0m\n\u001b[1;32m   3129\u001b[0m        filtered_flat_args) = self._maybe_define_function(args, kwargs)\n\u001b[1;32m   3130\u001b[0m     return graph_function._call_flat(\n\u001b[0;32m-> 3131\u001b[0;31m         filtered_flat_args, captured_inputs=graph_function.captured_inputs)  # pylint: disable=protected-access\n\u001b[0m\u001b[1;32m   3132\u001b[0m \u001b[0;34m\u001b[0m\u001b[0m\n\u001b[1;32m   3133\u001b[0m   \u001b[0;34m@\u001b[0m\u001b[0mproperty\u001b[0m\u001b[0;34m\u001b[0m\u001b[0;34m\u001b[0m\u001b[0m\n",
            "\u001b[0;32m/usr/local/lib/python3.7/dist-packages/tensorflow/python/eager/function.py\u001b[0m in \u001b[0;36m_call_flat\u001b[0;34m(self, args, captured_inputs, cancellation_manager)\u001b[0m\n\u001b[1;32m   1958\u001b[0m       \u001b[0;31m# No tape is watching; skip to running the function.\u001b[0m\u001b[0;34m\u001b[0m\u001b[0;34m\u001b[0m\u001b[0;34m\u001b[0m\u001b[0m\n\u001b[1;32m   1959\u001b[0m       return self._build_call_outputs(self._inference_function.call(\n\u001b[0;32m-> 1960\u001b[0;31m           ctx, args, cancellation_manager=cancellation_manager))\n\u001b[0m\u001b[1;32m   1961\u001b[0m     forward_backward = self._select_forward_and_backward_functions(\n\u001b[1;32m   1962\u001b[0m         \u001b[0margs\u001b[0m\u001b[0;34m,\u001b[0m\u001b[0;34m\u001b[0m\u001b[0;34m\u001b[0m\u001b[0m\n",
            "\u001b[0;32m/usr/local/lib/python3.7/dist-packages/tensorflow/python/eager/function.py\u001b[0m in \u001b[0;36mcall\u001b[0;34m(self, ctx, args, cancellation_manager)\u001b[0m\n\u001b[1;32m    601\u001b[0m               \u001b[0minputs\u001b[0m\u001b[0;34m=\u001b[0m\u001b[0margs\u001b[0m\u001b[0;34m,\u001b[0m\u001b[0;34m\u001b[0m\u001b[0;34m\u001b[0m\u001b[0m\n\u001b[1;32m    602\u001b[0m               \u001b[0mattrs\u001b[0m\u001b[0;34m=\u001b[0m\u001b[0mattrs\u001b[0m\u001b[0;34m,\u001b[0m\u001b[0;34m\u001b[0m\u001b[0;34m\u001b[0m\u001b[0m\n\u001b[0;32m--> 603\u001b[0;31m               ctx=ctx)\n\u001b[0m\u001b[1;32m    604\u001b[0m         \u001b[0;32melse\u001b[0m\u001b[0;34m:\u001b[0m\u001b[0;34m\u001b[0m\u001b[0;34m\u001b[0m\u001b[0m\n\u001b[1;32m    605\u001b[0m           outputs = execute.execute_with_cancellation(\n",
            "\u001b[0;32m/usr/local/lib/python3.7/dist-packages/tensorflow/python/eager/execute.py\u001b[0m in \u001b[0;36mquick_execute\u001b[0;34m(op_name, num_outputs, inputs, attrs, ctx, name)\u001b[0m\n\u001b[1;32m     57\u001b[0m     \u001b[0mctx\u001b[0m\u001b[0;34m.\u001b[0m\u001b[0mensure_initialized\u001b[0m\u001b[0;34m(\u001b[0m\u001b[0;34m)\u001b[0m\u001b[0;34m\u001b[0m\u001b[0;34m\u001b[0m\u001b[0m\n\u001b[1;32m     58\u001b[0m     tensors = pywrap_tfe.TFE_Py_Execute(ctx._handle, device_name, op_name,\n\u001b[0;32m---> 59\u001b[0;31m                                         inputs, attrs, num_outputs)\n\u001b[0m\u001b[1;32m     60\u001b[0m   \u001b[0;32mexcept\u001b[0m \u001b[0mcore\u001b[0m\u001b[0;34m.\u001b[0m\u001b[0m_NotOkStatusException\u001b[0m \u001b[0;32mas\u001b[0m \u001b[0me\u001b[0m\u001b[0;34m:\u001b[0m\u001b[0;34m\u001b[0m\u001b[0;34m\u001b[0m\u001b[0m\n\u001b[1;32m     61\u001b[0m     \u001b[0;32mif\u001b[0m \u001b[0mname\u001b[0m \u001b[0;32mis\u001b[0m \u001b[0;32mnot\u001b[0m \u001b[0;32mNone\u001b[0m\u001b[0;34m:\u001b[0m\u001b[0;34m\u001b[0m\u001b[0;34m\u001b[0m\u001b[0m\n",
            "\u001b[0;31mKeyboardInterrupt\u001b[0m: "
          ]
        }
      ]
    },
    {
      "cell_type": "markdown",
      "source": [
        "Дальше начинает переучиваться."
      ],
      "metadata": {
        "id": "s-d6mnFqrj5m"
      }
    },
    {
      "cell_type": "code",
      "source": [
        "from google.colab import drive\n",
        "drive.mount('/content/drive/', force_remount=True)"
      ],
      "metadata": {
        "colab": {
          "base_uri": "https://localhost:8080/"
        },
        "id": "YOXaiTzQcjC7",
        "outputId": "8afe4aa9-c5a4-4023-a8e0-781d3f5b0ff0"
      },
      "execution_count": null,
      "outputs": [
        {
          "output_type": "stream",
          "name": "stdout",
          "text": [
            "Mounted at /content/drive/\n"
          ]
        }
      ]
    },
    {
      "cell_type": "code",
      "source": [
        "model.save_weights('/content/drive/My Drive/NN/model_weight_Transformers_Q_A_16h.h5');"
      ],
      "metadata": {
        "id": "vKQh0L6dcj53"
      },
      "execution_count": null,
      "outputs": []
    },
    {
      "cell_type": "code",
      "source": [
        "print(np.shape(Questions_test_encoded_SE[0]))\n",
        "print(np.shape(Answers_test_encoded_S[0]))"
      ],
      "metadata": {
        "colab": {
          "base_uri": "https://localhost:8080/"
        },
        "id": "TLvVk7rj26Je",
        "outputId": "4ea40dc8-cadb-4215-f02a-8722c98a40e2"
      },
      "execution_count": null,
      "outputs": [
        {
          "output_type": "stream",
          "name": "stdout",
          "text": [
            "(22,)\n",
            "(38,)\n"
          ]
        }
      ]
    },
    {
      "cell_type": "code",
      "source": [
        "Question_batch, Answer_batch = [Q for Q in Questions_test_encoded_SE[0:32]],[A for A in Answers_test_encoded_S[0:32]]"
      ],
      "metadata": {
        "id": "v7ay2qSI3WfJ"
      },
      "execution_count": null,
      "outputs": []
    },
    {
      "cell_type": "code",
      "source": [],
      "metadata": {
        "id": "olaFBFMN26T2"
      },
      "execution_count": null,
      "outputs": []
    },
    {
      "cell_type": "code",
      "source": [
        "from google.colab import drive\n",
        "drive.mount('/content/drive/', force_remount=True)"
      ],
      "metadata": {
        "id": "SDEtTXIpQ4Fk",
        "colab": {
          "base_uri": "https://localhost:8080/"
        },
        "outputId": "9484ef8d-e5cc-4711-ccb5-a0576485cd54"
      },
      "execution_count": null,
      "outputs": [
        {
          "output_type": "stream",
          "name": "stdout",
          "text": [
            "Mounted at /content/drive/\n"
          ]
        }
      ]
    },
    {
      "cell_type": "code",
      "source": [
        "model.save_weights('/content/drive/My Drive/NN/model_weight_Transformers_en_ru_16h.h5');"
      ],
      "metadata": {
        "id": "Io5-Tc2Jpg31"
      },
      "execution_count": null,
      "outputs": []
    },
    {
      "cell_type": "markdown",
      "source": [],
      "metadata": {
        "id": "XLL5dydw381_"
      }
    },
    {
      "cell_type": "markdown",
      "source": [
        "ТЕсты"
      ],
      "metadata": {
        "id": "fsenXtFL384W"
      }
    },
    {
      "cell_type": "markdown",
      "source": [
        "Тренировочная выборка."
      ],
      "metadata": {
        "id": "rLyjnFDmrYWy"
      }
    },
    {
      "cell_type": "code",
      "source": [
        "for i in range(30):\n",
        "  translation = [tokenizer.vocab_size]\n",
        "  for _ in range(MAX_LENGTH):\n",
        "    predict = model.predict([np.asarray([Questions_train_encoded_SE[i]]),np.asarray([translation])])\n",
        "    translation.append(np.argmax(predict[-1,-1]))\n",
        "    if translation[-1] == tokenizer.vocab_size + 1:\n",
        "      break\n",
        "\n",
        "  real_translation = []\n",
        "  for w in Answers_train_encoded_S[:,1:][i]:\n",
        "    if w == tokenizer.vocab_size + 1:\n",
        "      break\n",
        "    real_translation.append(w)\n",
        "  Questions_train_encoded1=Questions_train_encoded_SE[i]\n",
        "  Questions_train_encoded1[Questions_train_encoded1==tokenizer.vocab_size+1]=0\n",
        "  #print(Questions_train_encoded1)\n",
        "  print(\"Question=\",tokenizer.decode(Questions_train_encoded1[1:]))\n",
        "  print(\"Answer=\",tokenizer.decode(Answers_train_encoded_S[i][1:]))\n",
        "  print(\"Prediction=\",tokenizer.decode(translation[1:-1]))\n",
        "  print(\"\")"
      ],
      "metadata": {
        "id": "GerxoJmFQ4MW",
        "colab": {
          "base_uri": "https://localhost:8080/"
        },
        "outputId": "3a058d38-c8ea-4979-9bbc-1ea29094aae1"
      },
      "execution_count": null,
      "outputs": [
        {
          "output_type": "stream",
          "name": "stdout",
          "text": [
            "Question= who is the ravens quarterback 2012?\n",
            "Answer= Joe Flacco\n",
            "Prediction= Matt Romney\n",
            "\n",
            "Question= what political party was henry clay?\n",
            "Answer= Whig Party\n",
            "Prediction= Republican Party\n",
            "\n",
            "Question= where to stay in thailand koh samui?\n",
            "Answer= UTC+07:00\n",
            "Prediction= UTC−06:00\n",
            "\n",
            "Question= what countries are included in the continent of asia?\n",
            "Answer= Bahrain\n",
            "Prediction= Tajikistan\n",
            "\n",
            "Question= what countries are included in the continent of asia?\n",
            "Answer= Afghanistan\n",
            "Prediction= Tajikistan\n",
            "\n",
            "Question= what countries are included in the continent of asia?\n",
            "Answer= Bangladesh\n",
            "Prediction= Tajikistan\n",
            "\n",
            "Question= what countries are included in the continent of asia?\n",
            "Answer= Bhutan\n",
            "Prediction= Tajikistan\n",
            "\n",
            "Question= what countries are included in the continent of asia?\n",
            "Answer= Brunei\n",
            "Prediction= Tajikistan\n",
            "\n",
            "Question= what countries are included in the continent of asia?\n",
            "Answer= Indonesia\n",
            "Prediction= Tajikistan\n",
            "\n",
            "Question= what countries are included in the continent of asia?\n",
            "Answer= India\n",
            "Prediction= Tajikistan\n",
            "\n",
            "Question= what countries are included in the continent of asia?\n",
            "Answer= Cambodia\n",
            "Prediction= Tajikistan\n",
            "\n",
            "Question= what countries are included in the continent of asia?\n",
            "Answer= China\n",
            "Prediction= Tajikistan\n",
            "\n",
            "Question= what countries are included in the continent of asia?\n",
            "Answer= Iraq\n",
            "Prediction= Tajikistan\n",
            "\n",
            "Question= what movies does tupac act in?\n",
            "Answer= Murder Was the Case\n",
            "Prediction= A Love Story\n",
            "\n",
            "Question= what movies does tupac act in?\n",
            "Answer= Above the Rim\n",
            "Prediction= A Love Story\n",
            "\n",
            "Question= what movies does tupac act in?\n",
            "Answer= Bullet\n",
            "Prediction= A Love Story\n",
            "\n",
            "Question= what movies does tupac act in?\n",
            "Answer= Gang Related\n",
            "Prediction= A Love Story\n",
            "\n",
            "Question= what movies does tupac act in?\n",
            "Answer= Watch Juice\n",
            "Prediction= A Love Story\n",
            "\n",
            "Question= what movies does tupac act in?\n",
            "Answer= Tupac: Live at the House of Blues\n",
            "Prediction= A Love Story\n",
            "\n",
            "Question= what movies does tupac act in?\n",
            "Answer= Nothing but Trouble\n",
            "Prediction= A Love Story\n",
            "\n",
            "Question= what movies does tupac act in?\n",
            "Answer= Juice\n",
            "Prediction= A Love Story\n",
            "\n",
            "Question= what movies does tupac act in?\n",
            "Answer= Poetic Justice\n",
            "Prediction= A Love Story\n",
            "\n",
            "Question= what movies does tupac act in?\n",
            "Answer= Gridlock'd\n",
            "Prediction= A Love Story\n",
            "\n",
            "Question= what did martin luther king jr go to college for?\n",
            "Answer= Sociology\n",
            "Prediction= University of California, Los Angeles\n",
            "\n",
            "Question= where did jennifer hudson go to school?\n",
            "Answer= Dunbar Vocational High School\n",
            "Prediction= University of Florida\n",
            "\n",
            "Question= where did jennifer hudson go to school?\n",
            "Answer= Langston University\n",
            "Prediction= University of Florida\n",
            "\n",
            "Question= where is danish located?\n",
            "Answer= Denmark\n",
            "Prediction= Denmark\n",
            "\n",
            "Question= where is danish located?\n",
            "Answer= Greenland\n",
            "Prediction= Denmark\n",
            "\n",
            "Question= when did barry zito won the cy young?\n",
            "Answer= 2002 Major League Baseball Season\n",
            "Prediction= 2003–04 NBA season\n",
            "\n",
            "Question= what language do fiji people speak?\n",
            "Answer= Fiji Hindi\n",
            "Prediction= English Language\n",
            "\n"
          ]
        }
      ]
    },
    {
      "cell_type": "markdown",
      "source": [
        "Тестовая выборка"
      ],
      "metadata": {
        "id": "onIJWc0zrdDW"
      }
    },
    {
      "cell_type": "code",
      "source": [
        "for i in range(30):\n",
        "  translation = [tokenizer.vocab_size]\n",
        "  for _ in range(MAX_LENGTH):\n",
        "    predict = model.predict([np.asarray([Questions_test_encoded_SE[i]]),np.asarray([translation])])\n",
        "    translation.append(np.argmax(predict[-1,-1]))\n",
        "    if translation[-1] == tokenizer.vocab_size + 1:\n",
        "      break\n",
        "\n",
        "  real_translation = []\n",
        "  for w in Answers_train_encoded_S[:,1:][i]:\n",
        "    if w == tokenizer.vocab_size + 1:\n",
        "      break\n",
        "    real_translation.append(w)\n",
        "  Questions_test_encoded1=Questions_test_encoded_SE[i]\n",
        "  Questions_test_encoded1[Questions_test_encoded1==tokenizer.vocab_size+1]=0\n",
        "  #print(Questions_train_encoded1)\n",
        "  print(\"Question=\",tokenizer.decode(Questions_test_encoded1[1:]))\n",
        "  print(\"Answer=\",tokenizer.decode(Answers_test_encoded_S[i][1:]))\n",
        "  print(\"Prediction=\",tokenizer.decode(translation[1:-1]))\n",
        "  print(\"\")"
      ],
      "metadata": {
        "colab": {
          "base_uri": "https://localhost:8080/"
        },
        "id": "jH3RYv6LrB32",
        "outputId": "18dd7496-3c3c-40ac-d418-abf845b32123"
      },
      "execution_count": null,
      "outputs": [
        {
          "output_type": "stream",
          "name": "stdout",
          "text": [
            "Question= what year did the seahawks win the superbowl?\n",
            "Answer= 2006 NFL season\n",
            "Prediction= Super Bowl XXX\n",
            "\n",
            "Question= who inspired obama?\n",
            "Answer= Saul Alinsky\n",
            "Prediction= Actor\n",
            "\n",
            "Question= who inspired obama?\n",
            "Answer= Nipsey Russell\n",
            "Prediction= Actor\n",
            "\n",
            "Question= who killed martin luther king jr video?\n",
            "Answer= Assassination by firearm\n",
            "Prediction= William Daniels\n",
            "\n",
            "Question= where did charles darwin and his wife live?\n",
            "Answer= Downe, Kent\n",
            "Prediction= London\n",
            "\n",
            "Question= where did charles darwin and his wife live?\n",
            "Answer= England\n",
            "Prediction= London\n",
            "\n",
            "Question= where did charles darwin and his wife live?\n",
            "Answer= London\n",
            "Prediction= London\n",
            "\n",
            "Question= where did charles darwin and his wife live?\n",
            "Answer= Shrewsbury\n",
            "Prediction= London\n",
            "\n",
            "Question= what happened at benghazi?\n",
            "Answer= 2012 U.S. diplomatic missions attacks\n",
            "Prediction= Film Producer\n",
            "\n",
            "Question= what happened at benghazi?\n",
            "Answer= 2012 U.S. Consulate attack in Benghazi\n",
            "Prediction= Film Producer\n",
            "\n",
            "Question= what happened at benghazi?\n",
            "Answer= First Battle of Benghazi\n",
            "Prediction= Film Producer\n",
            "\n",
            "Question= what happened at benghazi?\n",
            "Answer= Second Battle of Benghazi\n",
            "Prediction= Film Producer\n",
            "\n",
            "Question= what was dr seuss education?\n",
            "Answer= Dartmouth College\n",
            "Prediction= The Life Stadium\n",
            "\n",
            "Question= what was dr seuss education?\n",
            "Answer= University of Oxford\n",
            "Prediction= The Life Stadium\n",
            "\n",
            "Question= what was dr seuss education?\n",
            "Answer= Lincoln College, Oxford\n",
            "Prediction= The Life Stadium\n",
            "\n",
            "Question= where does sherrod brown live?\n",
            "Answer= Mansfield\n",
            "Prediction= San Francisco 49ers\n",
            "\n",
            "Question= what was jesse owens education?\n",
            "Answer= Ohio State University\n",
            "Prediction= The King's School, Grantham\n",
            "\n",
            "Question= where does the shannon river start and end?\n",
            "Answer= Shannon Pot\n",
            "Prediction= Los Angeles Lakers\n",
            "\n",
            "Question= who plays king julian madagascar?\n",
            "Answer= Sacha Baron Cohen\n",
            "Prediction= Mary Shakespeare\n",
            "\n",
            "Question= what jobs did robert burns have?\n",
            "Answer= Poet\n",
            "Prediction= Lawyer\n",
            "\n",
            "Question= what jobs did robert burns have?\n",
            "Answer= Writer\n",
            "Prediction= Lawyer\n",
            "\n",
            "Question= what jobs did robert burns have?\n",
            "Answer= Bard\n",
            "Prediction= Lawyer\n",
            "\n",
            "Question= what jobs did robert burns have?\n",
            "Answer= Author\n",
            "Prediction= Lawyer\n",
            "\n",
            "Question= what does a dream deferred by langston hughes?\n",
            "Answer= Dreams and Youth\n",
            "Prediction= The Negro\n",
            "\n",
            "Question= what has kristen stewart acted in?\n",
            "Answer= New Moon\n",
            "Prediction= The Adventures of Sharkboy and Lavagirl\n",
            "\n",
            "Question= what has kristen stewart acted in?\n",
            "Answer= Eclipse\n",
            "Prediction= The Adventures of Sharkboy and Lavagirl\n",
            "\n",
            "Question= what has kristen stewart acted in?\n",
            "Answer= The Runaways\n",
            "Prediction= The Adventures of Sharkboy and Lavagirl\n",
            "\n",
            "Question= what has kristen stewart acted in?\n",
            "Answer= Snow White and the Huntsman\n",
            "Prediction= The Adventures of Sharkboy and Lavagirl\n",
            "\n",
            "Question= what has kristen stewart acted in?\n",
            "Answer= Twilight\n",
            "Prediction= The Adventures of Sharkboy and Lavagirl\n",
            "\n",
            "Question= what has kristen stewart acted in?\n",
            "Answer= The Twilight Saga: Breaking Dawn - Part 1\n",
            "Prediction= The Adventures of Sharkboy and Lavagirl\n",
            "\n"
          ]
        }
      ]
    },
    {
      "cell_type": "markdown",
      "source": [
        "В общем неплохо но датасет недостаточный, если задать окромный обучающий датасет будет еще лучше."
      ],
      "metadata": {
        "id": "Nmg5Jnqk4BIW"
      }
    },
    {
      "cell_type": "code",
      "source": [],
      "metadata": {
        "id": "CIoPw-Ne_W0N"
      },
      "execution_count": null,
      "outputs": []
    },
    {
      "cell_type": "code",
      "source": [],
      "metadata": {
        "id": "6D4O1CIQ_W_v"
      },
      "execution_count": null,
      "outputs": []
    },
    {
      "cell_type": "code",
      "source": [],
      "metadata": {
        "id": "dt1kjA8XZG-T"
      },
      "execution_count": null,
      "outputs": []
    },
    {
      "cell_type": "code",
      "source": [],
      "metadata": {
        "id": "k_tOofASZHBc"
      },
      "execution_count": null,
      "outputs": []
    },
    {
      "cell_type": "code",
      "source": [],
      "metadata": {
        "id": "rdE-asRHZHE5"
      },
      "execution_count": null,
      "outputs": []
    },
    {
      "cell_type": "code",
      "source": [],
      "metadata": {
        "id": "lVccN9OxZHHF"
      },
      "execution_count": null,
      "outputs": []
    }
  ]
}