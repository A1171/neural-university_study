{
  "nbformat": 4,
  "nbformat_minor": 0,
  "metadata": {
    "colab": {
      "provenance": [],
      "machine_shape": "hm"
    },
    "kernelspec": {
      "name": "python3",
      "display_name": "Python 3"
    },
    "language_info": {
      "name": "python"
    },
    "accelerator": "GPU",
    "widgets": {
      "application/vnd.jupyter.widget-state+json": {
        "96e7eb82533f454e985919e09c24c096": {
          "model_module": "@jupyter-widgets/controls",
          "model_name": "HBoxModel",
          "model_module_version": "1.5.0",
          "state": {
            "_view_name": "HBoxView",
            "_dom_classes": [],
            "_model_name": "HBoxModel",
            "_view_module": "@jupyter-widgets/controls",
            "_model_module_version": "1.5.0",
            "_view_count": null,
            "_view_module_version": "1.5.0",
            "box_style": "",
            "layout": "IPY_MODEL_981c1c8a8031477bbde1a9dfa941a809",
            "_model_module": "@jupyter-widgets/controls",
            "children": [
              "IPY_MODEL_75cf8bccab654fd59a4f3d4b2caa3fe0",
              "IPY_MODEL_daefeccdb2e44ed9b17ff14588deca17",
              "IPY_MODEL_96adf39dc54345d79af758b36a31b358"
            ]
          }
        },
        "981c1c8a8031477bbde1a9dfa941a809": {
          "model_module": "@jupyter-widgets/base",
          "model_name": "LayoutModel",
          "model_module_version": "1.2.0",
          "state": {
            "_view_name": "LayoutView",
            "grid_template_rows": null,
            "right": null,
            "justify_content": null,
            "_view_module": "@jupyter-widgets/base",
            "overflow": null,
            "_model_module_version": "1.2.0",
            "_view_count": null,
            "flex_flow": null,
            "width": null,
            "min_width": null,
            "border": null,
            "align_items": null,
            "bottom": null,
            "_model_module": "@jupyter-widgets/base",
            "top": null,
            "grid_column": null,
            "overflow_y": null,
            "overflow_x": null,
            "grid_auto_flow": null,
            "grid_area": null,
            "grid_template_columns": null,
            "flex": null,
            "_model_name": "LayoutModel",
            "justify_items": null,
            "grid_row": null,
            "max_height": null,
            "align_content": null,
            "visibility": null,
            "align_self": null,
            "height": null,
            "min_height": null,
            "padding": null,
            "grid_auto_rows": null,
            "grid_gap": null,
            "max_width": null,
            "order": null,
            "_view_module_version": "1.2.0",
            "grid_template_areas": null,
            "object_position": null,
            "object_fit": null,
            "grid_auto_columns": null,
            "margin": null,
            "display": null,
            "left": null
          }
        },
        "75cf8bccab654fd59a4f3d4b2caa3fe0": {
          "model_module": "@jupyter-widgets/controls",
          "model_name": "HTMLModel",
          "model_module_version": "1.5.0",
          "state": {
            "_view_name": "HTMLView",
            "style": "IPY_MODEL_1ec34ae3a6284f36a9989e24ebf451c0",
            "_dom_classes": [],
            "description": "",
            "_model_name": "HTMLModel",
            "placeholder": "​",
            "_view_module": "@jupyter-widgets/controls",
            "_model_module_version": "1.5.0",
            "value": "Dl Completed...: 100%",
            "_view_count": null,
            "_view_module_version": "1.5.0",
            "description_tooltip": null,
            "_model_module": "@jupyter-widgets/controls",
            "layout": "IPY_MODEL_8b528cbd7d2d4515bf113a6e09156857"
          }
        },
        "daefeccdb2e44ed9b17ff14588deca17": {
          "model_module": "@jupyter-widgets/controls",
          "model_name": "FloatProgressModel",
          "model_module_version": "1.5.0",
          "state": {
            "_view_name": "ProgressView",
            "style": "IPY_MODEL_a297361b49c048ada588e335252ffeb9",
            "_dom_classes": [],
            "description": "",
            "_model_name": "FloatProgressModel",
            "bar_style": "success",
            "max": 1,
            "_view_module": "@jupyter-widgets/controls",
            "_model_module_version": "1.5.0",
            "value": 1,
            "_view_count": null,
            "_view_module_version": "1.5.0",
            "orientation": "horizontal",
            "min": 0,
            "description_tooltip": null,
            "_model_module": "@jupyter-widgets/controls",
            "layout": "IPY_MODEL_4eb2fb8e093f4b14816fe8b960af0fb5"
          }
        },
        "96adf39dc54345d79af758b36a31b358": {
          "model_module": "@jupyter-widgets/controls",
          "model_name": "HTMLModel",
          "model_module_version": "1.5.0",
          "state": {
            "_view_name": "HTMLView",
            "style": "IPY_MODEL_12416f4c728c44489bc4df32ceea1e76",
            "_dom_classes": [],
            "description": "",
            "_model_name": "HTMLModel",
            "placeholder": "​",
            "_view_module": "@jupyter-widgets/controls",
            "_model_module_version": "1.5.0",
            "value": " 1/1 [00:09&lt;00:00,  3.88s/ url]",
            "_view_count": null,
            "_view_module_version": "1.5.0",
            "description_tooltip": null,
            "_model_module": "@jupyter-widgets/controls",
            "layout": "IPY_MODEL_2d3ad73199554e5ebef8c3ec18e9d423"
          }
        },
        "1ec34ae3a6284f36a9989e24ebf451c0": {
          "model_module": "@jupyter-widgets/controls",
          "model_name": "DescriptionStyleModel",
          "model_module_version": "1.5.0",
          "state": {
            "_view_name": "StyleView",
            "_model_name": "DescriptionStyleModel",
            "description_width": "",
            "_view_module": "@jupyter-widgets/base",
            "_model_module_version": "1.5.0",
            "_view_count": null,
            "_view_module_version": "1.2.0",
            "_model_module": "@jupyter-widgets/controls"
          }
        },
        "8b528cbd7d2d4515bf113a6e09156857": {
          "model_module": "@jupyter-widgets/base",
          "model_name": "LayoutModel",
          "model_module_version": "1.2.0",
          "state": {
            "_view_name": "LayoutView",
            "grid_template_rows": null,
            "right": null,
            "justify_content": null,
            "_view_module": "@jupyter-widgets/base",
            "overflow": null,
            "_model_module_version": "1.2.0",
            "_view_count": null,
            "flex_flow": null,
            "width": null,
            "min_width": null,
            "border": null,
            "align_items": null,
            "bottom": null,
            "_model_module": "@jupyter-widgets/base",
            "top": null,
            "grid_column": null,
            "overflow_y": null,
            "overflow_x": null,
            "grid_auto_flow": null,
            "grid_area": null,
            "grid_template_columns": null,
            "flex": null,
            "_model_name": "LayoutModel",
            "justify_items": null,
            "grid_row": null,
            "max_height": null,
            "align_content": null,
            "visibility": null,
            "align_self": null,
            "height": null,
            "min_height": null,
            "padding": null,
            "grid_auto_rows": null,
            "grid_gap": null,
            "max_width": null,
            "order": null,
            "_view_module_version": "1.2.0",
            "grid_template_areas": null,
            "object_position": null,
            "object_fit": null,
            "grid_auto_columns": null,
            "margin": null,
            "display": null,
            "left": null
          }
        },
        "a297361b49c048ada588e335252ffeb9": {
          "model_module": "@jupyter-widgets/controls",
          "model_name": "ProgressStyleModel",
          "model_module_version": "1.5.0",
          "state": {
            "_view_name": "StyleView",
            "_model_name": "ProgressStyleModel",
            "description_width": "",
            "_view_module": "@jupyter-widgets/base",
            "_model_module_version": "1.5.0",
            "_view_count": null,
            "_view_module_version": "1.2.0",
            "bar_color": null,
            "_model_module": "@jupyter-widgets/controls"
          }
        },
        "4eb2fb8e093f4b14816fe8b960af0fb5": {
          "model_module": "@jupyter-widgets/base",
          "model_name": "LayoutModel",
          "model_module_version": "1.2.0",
          "state": {
            "_view_name": "LayoutView",
            "grid_template_rows": null,
            "right": null,
            "justify_content": null,
            "_view_module": "@jupyter-widgets/base",
            "overflow": null,
            "_model_module_version": "1.2.0",
            "_view_count": null,
            "flex_flow": null,
            "width": "20px",
            "min_width": null,
            "border": null,
            "align_items": null,
            "bottom": null,
            "_model_module": "@jupyter-widgets/base",
            "top": null,
            "grid_column": null,
            "overflow_y": null,
            "overflow_x": null,
            "grid_auto_flow": null,
            "grid_area": null,
            "grid_template_columns": null,
            "flex": null,
            "_model_name": "LayoutModel",
            "justify_items": null,
            "grid_row": null,
            "max_height": null,
            "align_content": null,
            "visibility": null,
            "align_self": null,
            "height": null,
            "min_height": null,
            "padding": null,
            "grid_auto_rows": null,
            "grid_gap": null,
            "max_width": null,
            "order": null,
            "_view_module_version": "1.2.0",
            "grid_template_areas": null,
            "object_position": null,
            "object_fit": null,
            "grid_auto_columns": null,
            "margin": null,
            "display": null,
            "left": null
          }
        },
        "12416f4c728c44489bc4df32ceea1e76": {
          "model_module": "@jupyter-widgets/controls",
          "model_name": "DescriptionStyleModel",
          "model_module_version": "1.5.0",
          "state": {
            "_view_name": "StyleView",
            "_model_name": "DescriptionStyleModel",
            "description_width": "",
            "_view_module": "@jupyter-widgets/base",
            "_model_module_version": "1.5.0",
            "_view_count": null,
            "_view_module_version": "1.2.0",
            "_model_module": "@jupyter-widgets/controls"
          }
        },
        "2d3ad73199554e5ebef8c3ec18e9d423": {
          "model_module": "@jupyter-widgets/base",
          "model_name": "LayoutModel",
          "model_module_version": "1.2.0",
          "state": {
            "_view_name": "LayoutView",
            "grid_template_rows": null,
            "right": null,
            "justify_content": null,
            "_view_module": "@jupyter-widgets/base",
            "overflow": null,
            "_model_module_version": "1.2.0",
            "_view_count": null,
            "flex_flow": null,
            "width": null,
            "min_width": null,
            "border": null,
            "align_items": null,
            "bottom": null,
            "_model_module": "@jupyter-widgets/base",
            "top": null,
            "grid_column": null,
            "overflow_y": null,
            "overflow_x": null,
            "grid_auto_flow": null,
            "grid_area": null,
            "grid_template_columns": null,
            "flex": null,
            "_model_name": "LayoutModel",
            "justify_items": null,
            "grid_row": null,
            "max_height": null,
            "align_content": null,
            "visibility": null,
            "align_self": null,
            "height": null,
            "min_height": null,
            "padding": null,
            "grid_auto_rows": null,
            "grid_gap": null,
            "max_width": null,
            "order": null,
            "_view_module_version": "1.2.0",
            "grid_template_areas": null,
            "object_position": null,
            "object_fit": null,
            "grid_auto_columns": null,
            "margin": null,
            "display": null,
            "left": null
          }
        },
        "ef36248d8ba541b89bac2758df78693e": {
          "model_module": "@jupyter-widgets/controls",
          "model_name": "HBoxModel",
          "model_module_version": "1.5.0",
          "state": {
            "_view_name": "HBoxView",
            "_dom_classes": [],
            "_model_name": "HBoxModel",
            "_view_module": "@jupyter-widgets/controls",
            "_model_module_version": "1.5.0",
            "_view_count": null,
            "_view_module_version": "1.5.0",
            "box_style": "",
            "layout": "IPY_MODEL_af3d1a732cd44255a166f53cd6766954",
            "_model_module": "@jupyter-widgets/controls",
            "children": [
              "IPY_MODEL_dfda97ba950e4989ab39762534a7953b",
              "IPY_MODEL_f0d2a7d70a9440059d418567f9116256",
              "IPY_MODEL_d34b7487c65945e8a269294bcdb39c8c"
            ]
          }
        },
        "af3d1a732cd44255a166f53cd6766954": {
          "model_module": "@jupyter-widgets/base",
          "model_name": "LayoutModel",
          "model_module_version": "1.2.0",
          "state": {
            "_view_name": "LayoutView",
            "grid_template_rows": null,
            "right": null,
            "justify_content": null,
            "_view_module": "@jupyter-widgets/base",
            "overflow": null,
            "_model_module_version": "1.2.0",
            "_view_count": null,
            "flex_flow": null,
            "width": null,
            "min_width": null,
            "border": null,
            "align_items": null,
            "bottom": null,
            "_model_module": "@jupyter-widgets/base",
            "top": null,
            "grid_column": null,
            "overflow_y": null,
            "overflow_x": null,
            "grid_auto_flow": null,
            "grid_area": null,
            "grid_template_columns": null,
            "flex": null,
            "_model_name": "LayoutModel",
            "justify_items": null,
            "grid_row": null,
            "max_height": null,
            "align_content": null,
            "visibility": null,
            "align_self": null,
            "height": null,
            "min_height": null,
            "padding": null,
            "grid_auto_rows": null,
            "grid_gap": null,
            "max_width": null,
            "order": null,
            "_view_module_version": "1.2.0",
            "grid_template_areas": null,
            "object_position": null,
            "object_fit": null,
            "grid_auto_columns": null,
            "margin": null,
            "display": null,
            "left": null
          }
        },
        "dfda97ba950e4989ab39762534a7953b": {
          "model_module": "@jupyter-widgets/controls",
          "model_name": "HTMLModel",
          "model_module_version": "1.5.0",
          "state": {
            "_view_name": "HTMLView",
            "style": "IPY_MODEL_505a826693b44978bf40d65203325c0f",
            "_dom_classes": [],
            "description": "",
            "_model_name": "HTMLModel",
            "placeholder": "​",
            "_view_module": "@jupyter-widgets/controls",
            "_model_module_version": "1.5.0",
            "value": "Dl Size...: 100%",
            "_view_count": null,
            "_view_module_version": "1.5.0",
            "description_tooltip": null,
            "_model_module": "@jupyter-widgets/controls",
            "layout": "IPY_MODEL_a48c0ed5469d4d5da95dcfa19e7f05a3"
          }
        },
        "f0d2a7d70a9440059d418567f9116256": {
          "model_module": "@jupyter-widgets/controls",
          "model_name": "FloatProgressModel",
          "model_module_version": "1.5.0",
          "state": {
            "_view_name": "ProgressView",
            "style": "IPY_MODEL_0e15e928b8ec4d109abaeedf3772f160",
            "_dom_classes": [],
            "description": "",
            "_model_name": "FloatProgressModel",
            "bar_style": "success",
            "max": 1,
            "_view_module": "@jupyter-widgets/controls",
            "_model_module_version": "1.5.0",
            "value": 1,
            "_view_count": null,
            "_view_module_version": "1.5.0",
            "orientation": "horizontal",
            "min": 0,
            "description_tooltip": null,
            "_model_module": "@jupyter-widgets/controls",
            "layout": "IPY_MODEL_8f2f475f2a0f4760a41dbb3d397181d0"
          }
        },
        "d34b7487c65945e8a269294bcdb39c8c": {
          "model_module": "@jupyter-widgets/controls",
          "model_name": "HTMLModel",
          "model_module_version": "1.5.0",
          "state": {
            "_view_name": "HTMLView",
            "style": "IPY_MODEL_7ee8322369da401f8a9c69b762bd5460",
            "_dom_classes": [],
            "description": "",
            "_model_name": "HTMLModel",
            "placeholder": "​",
            "_view_module": "@jupyter-widgets/controls",
            "_model_module_version": "1.5.0",
            "value": " 124/124 [00:09&lt;00:00, 46.65 MiB/s]",
            "_view_count": null,
            "_view_module_version": "1.5.0",
            "description_tooltip": null,
            "_model_module": "@jupyter-widgets/controls",
            "layout": "IPY_MODEL_e08c14cc06644dd2a5f204f698e4fec3"
          }
        },
        "505a826693b44978bf40d65203325c0f": {
          "model_module": "@jupyter-widgets/controls",
          "model_name": "DescriptionStyleModel",
          "model_module_version": "1.5.0",
          "state": {
            "_view_name": "StyleView",
            "_model_name": "DescriptionStyleModel",
            "description_width": "",
            "_view_module": "@jupyter-widgets/base",
            "_model_module_version": "1.5.0",
            "_view_count": null,
            "_view_module_version": "1.2.0",
            "_model_module": "@jupyter-widgets/controls"
          }
        },
        "a48c0ed5469d4d5da95dcfa19e7f05a3": {
          "model_module": "@jupyter-widgets/base",
          "model_name": "LayoutModel",
          "model_module_version": "1.2.0",
          "state": {
            "_view_name": "LayoutView",
            "grid_template_rows": null,
            "right": null,
            "justify_content": null,
            "_view_module": "@jupyter-widgets/base",
            "overflow": null,
            "_model_module_version": "1.2.0",
            "_view_count": null,
            "flex_flow": null,
            "width": null,
            "min_width": null,
            "border": null,
            "align_items": null,
            "bottom": null,
            "_model_module": "@jupyter-widgets/base",
            "top": null,
            "grid_column": null,
            "overflow_y": null,
            "overflow_x": null,
            "grid_auto_flow": null,
            "grid_area": null,
            "grid_template_columns": null,
            "flex": null,
            "_model_name": "LayoutModel",
            "justify_items": null,
            "grid_row": null,
            "max_height": null,
            "align_content": null,
            "visibility": null,
            "align_self": null,
            "height": null,
            "min_height": null,
            "padding": null,
            "grid_auto_rows": null,
            "grid_gap": null,
            "max_width": null,
            "order": null,
            "_view_module_version": "1.2.0",
            "grid_template_areas": null,
            "object_position": null,
            "object_fit": null,
            "grid_auto_columns": null,
            "margin": null,
            "display": null,
            "left": null
          }
        },
        "0e15e928b8ec4d109abaeedf3772f160": {
          "model_module": "@jupyter-widgets/controls",
          "model_name": "ProgressStyleModel",
          "model_module_version": "1.5.0",
          "state": {
            "_view_name": "StyleView",
            "_model_name": "ProgressStyleModel",
            "description_width": "",
            "_view_module": "@jupyter-widgets/base",
            "_model_module_version": "1.5.0",
            "_view_count": null,
            "_view_module_version": "1.2.0",
            "bar_color": null,
            "_model_module": "@jupyter-widgets/controls"
          }
        },
        "8f2f475f2a0f4760a41dbb3d397181d0": {
          "model_module": "@jupyter-widgets/base",
          "model_name": "LayoutModel",
          "model_module_version": "1.2.0",
          "state": {
            "_view_name": "LayoutView",
            "grid_template_rows": null,
            "right": null,
            "justify_content": null,
            "_view_module": "@jupyter-widgets/base",
            "overflow": null,
            "_model_module_version": "1.2.0",
            "_view_count": null,
            "flex_flow": null,
            "width": "20px",
            "min_width": null,
            "border": null,
            "align_items": null,
            "bottom": null,
            "_model_module": "@jupyter-widgets/base",
            "top": null,
            "grid_column": null,
            "overflow_y": null,
            "overflow_x": null,
            "grid_auto_flow": null,
            "grid_area": null,
            "grid_template_columns": null,
            "flex": null,
            "_model_name": "LayoutModel",
            "justify_items": null,
            "grid_row": null,
            "max_height": null,
            "align_content": null,
            "visibility": null,
            "align_self": null,
            "height": null,
            "min_height": null,
            "padding": null,
            "grid_auto_rows": null,
            "grid_gap": null,
            "max_width": null,
            "order": null,
            "_view_module_version": "1.2.0",
            "grid_template_areas": null,
            "object_position": null,
            "object_fit": null,
            "grid_auto_columns": null,
            "margin": null,
            "display": null,
            "left": null
          }
        },
        "7ee8322369da401f8a9c69b762bd5460": {
          "model_module": "@jupyter-widgets/controls",
          "model_name": "DescriptionStyleModel",
          "model_module_version": "1.5.0",
          "state": {
            "_view_name": "StyleView",
            "_model_name": "DescriptionStyleModel",
            "description_width": "",
            "_view_module": "@jupyter-widgets/base",
            "_model_module_version": "1.5.0",
            "_view_count": null,
            "_view_module_version": "1.2.0",
            "_model_module": "@jupyter-widgets/controls"
          }
        },
        "e08c14cc06644dd2a5f204f698e4fec3": {
          "model_module": "@jupyter-widgets/base",
          "model_name": "LayoutModel",
          "model_module_version": "1.2.0",
          "state": {
            "_view_name": "LayoutView",
            "grid_template_rows": null,
            "right": null,
            "justify_content": null,
            "_view_module": "@jupyter-widgets/base",
            "overflow": null,
            "_model_module_version": "1.2.0",
            "_view_count": null,
            "flex_flow": null,
            "width": null,
            "min_width": null,
            "border": null,
            "align_items": null,
            "bottom": null,
            "_model_module": "@jupyter-widgets/base",
            "top": null,
            "grid_column": null,
            "overflow_y": null,
            "overflow_x": null,
            "grid_auto_flow": null,
            "grid_area": null,
            "grid_template_columns": null,
            "flex": null,
            "_model_name": "LayoutModel",
            "justify_items": null,
            "grid_row": null,
            "max_height": null,
            "align_content": null,
            "visibility": null,
            "align_self": null,
            "height": null,
            "min_height": null,
            "padding": null,
            "grid_auto_rows": null,
            "grid_gap": null,
            "max_width": null,
            "order": null,
            "_view_module_version": "1.2.0",
            "grid_template_areas": null,
            "object_position": null,
            "object_fit": null,
            "grid_auto_columns": null,
            "margin": null,
            "display": null,
            "left": null
          }
        },
        "6371deeafed246e5aebc34d6c2a8db01": {
          "model_module": "@jupyter-widgets/controls",
          "model_name": "HBoxModel",
          "model_module_version": "1.5.0",
          "state": {
            "_view_name": "HBoxView",
            "_dom_classes": [],
            "_model_name": "HBoxModel",
            "_view_module": "@jupyter-widgets/controls",
            "_model_module_version": "1.5.0",
            "_view_count": null,
            "_view_module_version": "1.5.0",
            "box_style": "",
            "layout": "IPY_MODEL_c07a4846fde74970b9fbbfea5a8cd039",
            "_model_module": "@jupyter-widgets/controls",
            "children": [
              "IPY_MODEL_68364636da314319bc987bdf5ce2658b",
              "IPY_MODEL_5646f64f45034b7292bd4a658018bbab",
              "IPY_MODEL_387f94857e674e03a4fdd6299efdc63f"
            ]
          }
        },
        "c07a4846fde74970b9fbbfea5a8cd039": {
          "model_module": "@jupyter-widgets/base",
          "model_name": "LayoutModel",
          "model_module_version": "1.2.0",
          "state": {
            "_view_name": "LayoutView",
            "grid_template_rows": null,
            "right": null,
            "justify_content": null,
            "_view_module": "@jupyter-widgets/base",
            "overflow": null,
            "_model_module_version": "1.2.0",
            "_view_count": null,
            "flex_flow": null,
            "width": null,
            "min_width": null,
            "border": null,
            "align_items": null,
            "bottom": null,
            "_model_module": "@jupyter-widgets/base",
            "top": null,
            "grid_column": null,
            "overflow_y": null,
            "overflow_x": null,
            "grid_auto_flow": null,
            "grid_area": null,
            "grid_template_columns": null,
            "flex": null,
            "_model_name": "LayoutModel",
            "justify_items": null,
            "grid_row": null,
            "max_height": null,
            "align_content": null,
            "visibility": null,
            "align_self": null,
            "height": null,
            "min_height": null,
            "padding": null,
            "grid_auto_rows": null,
            "grid_gap": null,
            "max_width": null,
            "order": null,
            "_view_module_version": "1.2.0",
            "grid_template_areas": null,
            "object_position": null,
            "object_fit": null,
            "grid_auto_columns": null,
            "margin": null,
            "display": null,
            "left": null
          }
        },
        "68364636da314319bc987bdf5ce2658b": {
          "model_module": "@jupyter-widgets/controls",
          "model_name": "HTMLModel",
          "model_module_version": "1.5.0",
          "state": {
            "_view_name": "HTMLView",
            "style": "IPY_MODEL_e7fac6a3476f442487f092a243cfd7b4",
            "_dom_classes": [],
            "description": "",
            "_model_name": "HTMLModel",
            "placeholder": "​",
            "_view_module": "@jupyter-widgets/controls",
            "_model_module_version": "1.5.0",
            "value": "Extraction completed...: 100%",
            "_view_count": null,
            "_view_module_version": "1.5.0",
            "description_tooltip": null,
            "_model_module": "@jupyter-widgets/controls",
            "layout": "IPY_MODEL_d9672e92712a4596b45c843f784b6fc2"
          }
        },
        "5646f64f45034b7292bd4a658018bbab": {
          "model_module": "@jupyter-widgets/controls",
          "model_name": "FloatProgressModel",
          "model_module_version": "1.5.0",
          "state": {
            "_view_name": "ProgressView",
            "style": "IPY_MODEL_8eb92df4124446d781117cb063154f44",
            "_dom_classes": [],
            "description": "",
            "_model_name": "FloatProgressModel",
            "bar_style": "success",
            "max": 1,
            "_view_module": "@jupyter-widgets/controls",
            "_model_module_version": "1.5.0",
            "value": 1,
            "_view_count": null,
            "_view_module_version": "1.5.0",
            "orientation": "horizontal",
            "min": 0,
            "description_tooltip": null,
            "_model_module": "@jupyter-widgets/controls",
            "layout": "IPY_MODEL_bf8be13e50454ff19c15df4771fa3c36"
          }
        },
        "387f94857e674e03a4fdd6299efdc63f": {
          "model_module": "@jupyter-widgets/controls",
          "model_name": "HTMLModel",
          "model_module_version": "1.5.0",
          "state": {
            "_view_name": "HTMLView",
            "style": "IPY_MODEL_6841bd8f069f4be6821bf3958a445183",
            "_dom_classes": [],
            "description": "",
            "_model_name": "HTMLModel",
            "placeholder": "​",
            "_view_module": "@jupyter-widgets/controls",
            "_model_module_version": "1.5.0",
            "value": " 1/1 [00:09&lt;00:00,  9.06s/ file]",
            "_view_count": null,
            "_view_module_version": "1.5.0",
            "description_tooltip": null,
            "_model_module": "@jupyter-widgets/controls",
            "layout": "IPY_MODEL_d6eb9739983747d2b05cd69f93c67399"
          }
        },
        "e7fac6a3476f442487f092a243cfd7b4": {
          "model_module": "@jupyter-widgets/controls",
          "model_name": "DescriptionStyleModel",
          "model_module_version": "1.5.0",
          "state": {
            "_view_name": "StyleView",
            "_model_name": "DescriptionStyleModel",
            "description_width": "",
            "_view_module": "@jupyter-widgets/base",
            "_model_module_version": "1.5.0",
            "_view_count": null,
            "_view_module_version": "1.2.0",
            "_model_module": "@jupyter-widgets/controls"
          }
        },
        "d9672e92712a4596b45c843f784b6fc2": {
          "model_module": "@jupyter-widgets/base",
          "model_name": "LayoutModel",
          "model_module_version": "1.2.0",
          "state": {
            "_view_name": "LayoutView",
            "grid_template_rows": null,
            "right": null,
            "justify_content": null,
            "_view_module": "@jupyter-widgets/base",
            "overflow": null,
            "_model_module_version": "1.2.0",
            "_view_count": null,
            "flex_flow": null,
            "width": null,
            "min_width": null,
            "border": null,
            "align_items": null,
            "bottom": null,
            "_model_module": "@jupyter-widgets/base",
            "top": null,
            "grid_column": null,
            "overflow_y": null,
            "overflow_x": null,
            "grid_auto_flow": null,
            "grid_area": null,
            "grid_template_columns": null,
            "flex": null,
            "_model_name": "LayoutModel",
            "justify_items": null,
            "grid_row": null,
            "max_height": null,
            "align_content": null,
            "visibility": null,
            "align_self": null,
            "height": null,
            "min_height": null,
            "padding": null,
            "grid_auto_rows": null,
            "grid_gap": null,
            "max_width": null,
            "order": null,
            "_view_module_version": "1.2.0",
            "grid_template_areas": null,
            "object_position": null,
            "object_fit": null,
            "grid_auto_columns": null,
            "margin": null,
            "display": null,
            "left": null
          }
        },
        "8eb92df4124446d781117cb063154f44": {
          "model_module": "@jupyter-widgets/controls",
          "model_name": "ProgressStyleModel",
          "model_module_version": "1.5.0",
          "state": {
            "_view_name": "StyleView",
            "_model_name": "ProgressStyleModel",
            "description_width": "",
            "_view_module": "@jupyter-widgets/base",
            "_model_module_version": "1.5.0",
            "_view_count": null,
            "_view_module_version": "1.2.0",
            "bar_color": null,
            "_model_module": "@jupyter-widgets/controls"
          }
        },
        "bf8be13e50454ff19c15df4771fa3c36": {
          "model_module": "@jupyter-widgets/base",
          "model_name": "LayoutModel",
          "model_module_version": "1.2.0",
          "state": {
            "_view_name": "LayoutView",
            "grid_template_rows": null,
            "right": null,
            "justify_content": null,
            "_view_module": "@jupyter-widgets/base",
            "overflow": null,
            "_model_module_version": "1.2.0",
            "_view_count": null,
            "flex_flow": null,
            "width": "20px",
            "min_width": null,
            "border": null,
            "align_items": null,
            "bottom": null,
            "_model_module": "@jupyter-widgets/base",
            "top": null,
            "grid_column": null,
            "overflow_y": null,
            "overflow_x": null,
            "grid_auto_flow": null,
            "grid_area": null,
            "grid_template_columns": null,
            "flex": null,
            "_model_name": "LayoutModel",
            "justify_items": null,
            "grid_row": null,
            "max_height": null,
            "align_content": null,
            "visibility": null,
            "align_self": null,
            "height": null,
            "min_height": null,
            "padding": null,
            "grid_auto_rows": null,
            "grid_gap": null,
            "max_width": null,
            "order": null,
            "_view_module_version": "1.2.0",
            "grid_template_areas": null,
            "object_position": null,
            "object_fit": null,
            "grid_auto_columns": null,
            "margin": null,
            "display": null,
            "left": null
          }
        },
        "6841bd8f069f4be6821bf3958a445183": {
          "model_module": "@jupyter-widgets/controls",
          "model_name": "DescriptionStyleModel",
          "model_module_version": "1.5.0",
          "state": {
            "_view_name": "StyleView",
            "_model_name": "DescriptionStyleModel",
            "description_width": "",
            "_view_module": "@jupyter-widgets/base",
            "_model_module_version": "1.5.0",
            "_view_count": null,
            "_view_module_version": "1.2.0",
            "_model_module": "@jupyter-widgets/controls"
          }
        },
        "d6eb9739983747d2b05cd69f93c67399": {
          "model_module": "@jupyter-widgets/base",
          "model_name": "LayoutModel",
          "model_module_version": "1.2.0",
          "state": {
            "_view_name": "LayoutView",
            "grid_template_rows": null,
            "right": null,
            "justify_content": null,
            "_view_module": "@jupyter-widgets/base",
            "overflow": null,
            "_model_module_version": "1.2.0",
            "_view_count": null,
            "flex_flow": null,
            "width": null,
            "min_width": null,
            "border": null,
            "align_items": null,
            "bottom": null,
            "_model_module": "@jupyter-widgets/base",
            "top": null,
            "grid_column": null,
            "overflow_y": null,
            "overflow_x": null,
            "grid_auto_flow": null,
            "grid_area": null,
            "grid_template_columns": null,
            "flex": null,
            "_model_name": "LayoutModel",
            "justify_items": null,
            "grid_row": null,
            "max_height": null,
            "align_content": null,
            "visibility": null,
            "align_self": null,
            "height": null,
            "min_height": null,
            "padding": null,
            "grid_auto_rows": null,
            "grid_gap": null,
            "max_width": null,
            "order": null,
            "_view_module_version": "1.2.0",
            "grid_template_areas": null,
            "object_position": null,
            "object_fit": null,
            "grid_auto_columns": null,
            "margin": null,
            "display": null,
            "left": null
          }
        },
        "ac30063b75d449ca90a686400bcb8038": {
          "model_module": "@jupyter-widgets/controls",
          "model_name": "HBoxModel",
          "model_module_version": "1.5.0",
          "state": {
            "_view_name": "HBoxView",
            "_dom_classes": [],
            "_model_name": "HBoxModel",
            "_view_module": "@jupyter-widgets/controls",
            "_model_module_version": "1.5.0",
            "_view_count": null,
            "_view_module_version": "1.5.0",
            "box_style": "",
            "layout": "IPY_MODEL_d58586a96cb1427f8fe772489bfe84f3",
            "_model_module": "@jupyter-widgets/controls",
            "children": [
              "IPY_MODEL_fbaa73dd7e12430d8c5601d00a901037",
              "IPY_MODEL_c18a0c6f3d034f6caa0d233d1943f3ac",
              "IPY_MODEL_2cfe8723ffa34816a7cfedd2c51ff2c7"
            ]
          }
        },
        "d58586a96cb1427f8fe772489bfe84f3": {
          "model_module": "@jupyter-widgets/base",
          "model_name": "LayoutModel",
          "model_module_version": "1.2.0",
          "state": {
            "_view_name": "LayoutView",
            "grid_template_rows": null,
            "right": null,
            "justify_content": null,
            "_view_module": "@jupyter-widgets/base",
            "overflow": null,
            "_model_module_version": "1.2.0",
            "_view_count": null,
            "flex_flow": null,
            "width": null,
            "min_width": null,
            "border": null,
            "align_items": null,
            "bottom": null,
            "_model_module": "@jupyter-widgets/base",
            "top": null,
            "grid_column": null,
            "overflow_y": null,
            "overflow_x": null,
            "grid_auto_flow": null,
            "grid_area": null,
            "grid_template_columns": null,
            "flex": null,
            "_model_name": "LayoutModel",
            "justify_items": null,
            "grid_row": null,
            "max_height": null,
            "align_content": null,
            "visibility": null,
            "align_self": null,
            "height": null,
            "min_height": null,
            "padding": null,
            "grid_auto_rows": null,
            "grid_gap": null,
            "max_width": null,
            "order": null,
            "_view_module_version": "1.2.0",
            "grid_template_areas": null,
            "object_position": null,
            "object_fit": null,
            "grid_auto_columns": null,
            "margin": null,
            "display": null,
            "left": null
          }
        },
        "fbaa73dd7e12430d8c5601d00a901037": {
          "model_module": "@jupyter-widgets/controls",
          "model_name": "HTMLModel",
          "model_module_version": "1.5.0",
          "state": {
            "_view_name": "HTMLView",
            "style": "IPY_MODEL_50555634c9bc418a8287037579ff1d52",
            "_dom_classes": [],
            "description": "",
            "_model_name": "HTMLModel",
            "placeholder": "​",
            "_view_module": "@jupyter-widgets/controls",
            "_model_module_version": "1.5.0",
            "value": "",
            "_view_count": null,
            "_view_module_version": "1.5.0",
            "description_tooltip": null,
            "_model_module": "@jupyter-widgets/controls",
            "layout": "IPY_MODEL_0b13a5bb075f44f4ae76b6cd40d3aad6"
          }
        },
        "c18a0c6f3d034f6caa0d233d1943f3ac": {
          "model_module": "@jupyter-widgets/controls",
          "model_name": "FloatProgressModel",
          "model_module_version": "1.5.0",
          "state": {
            "_view_name": "ProgressView",
            "style": "IPY_MODEL_8d76523ce2b945a5a8ac4c4e2a696d33",
            "_dom_classes": [],
            "description": "",
            "_model_name": "FloatProgressModel",
            "bar_style": "info",
            "max": 1,
            "_view_module": "@jupyter-widgets/controls",
            "_model_module_version": "1.5.0",
            "value": 1,
            "_view_count": null,
            "_view_module_version": "1.5.0",
            "orientation": "horizontal",
            "min": 0,
            "description_tooltip": null,
            "_model_module": "@jupyter-widgets/controls",
            "layout": "IPY_MODEL_8cacc8c3962844da842795e593534271"
          }
        },
        "2cfe8723ffa34816a7cfedd2c51ff2c7": {
          "model_module": "@jupyter-widgets/controls",
          "model_name": "HTMLModel",
          "model_module_version": "1.5.0",
          "state": {
            "_view_name": "HTMLView",
            "style": "IPY_MODEL_c914f0c05fea48d78db720b58bcb08ff",
            "_dom_classes": [],
            "description": "",
            "_model_name": "HTMLModel",
            "placeholder": "​",
            "_view_module": "@jupyter-widgets/controls",
            "_model_module_version": "1.5.0",
            "value": " 51365/0 [00:12&lt;00:00, 4053.90 examples/s]",
            "_view_count": null,
            "_view_module_version": "1.5.0",
            "description_tooltip": null,
            "_model_module": "@jupyter-widgets/controls",
            "layout": "IPY_MODEL_155df14668e54a27a056dc0d153bec27"
          }
        },
        "50555634c9bc418a8287037579ff1d52": {
          "model_module": "@jupyter-widgets/controls",
          "model_name": "DescriptionStyleModel",
          "model_module_version": "1.5.0",
          "state": {
            "_view_name": "StyleView",
            "_model_name": "DescriptionStyleModel",
            "description_width": "",
            "_view_module": "@jupyter-widgets/base",
            "_model_module_version": "1.5.0",
            "_view_count": null,
            "_view_module_version": "1.2.0",
            "_model_module": "@jupyter-widgets/controls"
          }
        },
        "0b13a5bb075f44f4ae76b6cd40d3aad6": {
          "model_module": "@jupyter-widgets/base",
          "model_name": "LayoutModel",
          "model_module_version": "1.2.0",
          "state": {
            "_view_name": "LayoutView",
            "grid_template_rows": null,
            "right": null,
            "justify_content": null,
            "_view_module": "@jupyter-widgets/base",
            "overflow": null,
            "_model_module_version": "1.2.0",
            "_view_count": null,
            "flex_flow": null,
            "width": null,
            "min_width": null,
            "border": null,
            "align_items": null,
            "bottom": null,
            "_model_module": "@jupyter-widgets/base",
            "top": null,
            "grid_column": null,
            "overflow_y": null,
            "overflow_x": null,
            "grid_auto_flow": null,
            "grid_area": null,
            "grid_template_columns": null,
            "flex": null,
            "_model_name": "LayoutModel",
            "justify_items": null,
            "grid_row": null,
            "max_height": null,
            "align_content": null,
            "visibility": null,
            "align_self": null,
            "height": null,
            "min_height": null,
            "padding": null,
            "grid_auto_rows": null,
            "grid_gap": null,
            "max_width": null,
            "order": null,
            "_view_module_version": "1.2.0",
            "grid_template_areas": null,
            "object_position": null,
            "object_fit": null,
            "grid_auto_columns": null,
            "margin": null,
            "display": null,
            "left": null
          }
        },
        "8d76523ce2b945a5a8ac4c4e2a696d33": {
          "model_module": "@jupyter-widgets/controls",
          "model_name": "ProgressStyleModel",
          "model_module_version": "1.5.0",
          "state": {
            "_view_name": "StyleView",
            "_model_name": "ProgressStyleModel",
            "description_width": "",
            "_view_module": "@jupyter-widgets/base",
            "_model_module_version": "1.5.0",
            "_view_count": null,
            "_view_module_version": "1.2.0",
            "bar_color": null,
            "_model_module": "@jupyter-widgets/controls"
          }
        },
        "8cacc8c3962844da842795e593534271": {
          "model_module": "@jupyter-widgets/base",
          "model_name": "LayoutModel",
          "model_module_version": "1.2.0",
          "state": {
            "_view_name": "LayoutView",
            "grid_template_rows": null,
            "right": null,
            "justify_content": null,
            "_view_module": "@jupyter-widgets/base",
            "overflow": null,
            "_model_module_version": "1.2.0",
            "_view_count": null,
            "flex_flow": null,
            "width": "20px",
            "min_width": null,
            "border": null,
            "align_items": null,
            "bottom": null,
            "_model_module": "@jupyter-widgets/base",
            "top": null,
            "grid_column": null,
            "overflow_y": null,
            "overflow_x": null,
            "grid_auto_flow": null,
            "grid_area": null,
            "grid_template_columns": null,
            "flex": null,
            "_model_name": "LayoutModel",
            "justify_items": null,
            "grid_row": null,
            "max_height": null,
            "align_content": null,
            "visibility": null,
            "align_self": null,
            "height": null,
            "min_height": null,
            "padding": null,
            "grid_auto_rows": null,
            "grid_gap": null,
            "max_width": null,
            "order": null,
            "_view_module_version": "1.2.0",
            "grid_template_areas": null,
            "object_position": null,
            "object_fit": null,
            "grid_auto_columns": null,
            "margin": null,
            "display": null,
            "left": null
          }
        },
        "c914f0c05fea48d78db720b58bcb08ff": {
          "model_module": "@jupyter-widgets/controls",
          "model_name": "DescriptionStyleModel",
          "model_module_version": "1.5.0",
          "state": {
            "_view_name": "StyleView",
            "_model_name": "DescriptionStyleModel",
            "description_width": "",
            "_view_module": "@jupyter-widgets/base",
            "_model_module_version": "1.5.0",
            "_view_count": null,
            "_view_module_version": "1.2.0",
            "_model_module": "@jupyter-widgets/controls"
          }
        },
        "155df14668e54a27a056dc0d153bec27": {
          "model_module": "@jupyter-widgets/base",
          "model_name": "LayoutModel",
          "model_module_version": "1.2.0",
          "state": {
            "_view_name": "LayoutView",
            "grid_template_rows": null,
            "right": null,
            "justify_content": null,
            "_view_module": "@jupyter-widgets/base",
            "overflow": null,
            "_model_module_version": "1.2.0",
            "_view_count": null,
            "flex_flow": null,
            "width": null,
            "min_width": null,
            "border": null,
            "align_items": null,
            "bottom": null,
            "_model_module": "@jupyter-widgets/base",
            "top": null,
            "grid_column": null,
            "overflow_y": null,
            "overflow_x": null,
            "grid_auto_flow": null,
            "grid_area": null,
            "grid_template_columns": null,
            "flex": null,
            "_model_name": "LayoutModel",
            "justify_items": null,
            "grid_row": null,
            "max_height": null,
            "align_content": null,
            "visibility": null,
            "align_self": null,
            "height": null,
            "min_height": null,
            "padding": null,
            "grid_auto_rows": null,
            "grid_gap": null,
            "max_width": null,
            "order": null,
            "_view_module_version": "1.2.0",
            "grid_template_areas": null,
            "object_position": null,
            "object_fit": null,
            "grid_auto_columns": null,
            "margin": null,
            "display": null,
            "left": null
          }
        },
        "64ed9469456e49928100ce858880362e": {
          "model_module": "@jupyter-widgets/controls",
          "model_name": "HBoxModel",
          "model_module_version": "1.5.0",
          "state": {
            "_view_name": "HBoxView",
            "_dom_classes": [],
            "_model_name": "HBoxModel",
            "_view_module": "@jupyter-widgets/controls",
            "_model_module_version": "1.5.0",
            "_view_count": null,
            "_view_module_version": "1.5.0",
            "box_style": "",
            "layout": "IPY_MODEL_30632cbbff1b415aab49f2461bbbe098",
            "_model_module": "@jupyter-widgets/controls",
            "children": [
              "IPY_MODEL_512b362070154b6eb946f7d7383fa3b5",
              "IPY_MODEL_3667efeb809f41e69b3989558605d426",
              "IPY_MODEL_49d1a0b55c9e46dda6a0596c8a5ae2cc"
            ]
          }
        },
        "30632cbbff1b415aab49f2461bbbe098": {
          "model_module": "@jupyter-widgets/base",
          "model_name": "LayoutModel",
          "model_module_version": "1.2.0",
          "state": {
            "_view_name": "LayoutView",
            "grid_template_rows": null,
            "right": null,
            "justify_content": null,
            "_view_module": "@jupyter-widgets/base",
            "overflow": null,
            "_model_module_version": "1.2.0",
            "_view_count": null,
            "flex_flow": null,
            "width": null,
            "min_width": null,
            "border": null,
            "align_items": null,
            "bottom": null,
            "_model_module": "@jupyter-widgets/base",
            "top": null,
            "grid_column": null,
            "overflow_y": null,
            "overflow_x": null,
            "grid_auto_flow": null,
            "grid_area": null,
            "grid_template_columns": null,
            "flex": null,
            "_model_name": "LayoutModel",
            "justify_items": null,
            "grid_row": null,
            "max_height": null,
            "align_content": null,
            "visibility": null,
            "align_self": null,
            "height": null,
            "min_height": null,
            "padding": null,
            "grid_auto_rows": null,
            "grid_gap": null,
            "max_width": null,
            "order": null,
            "_view_module_version": "1.2.0",
            "grid_template_areas": null,
            "object_position": null,
            "object_fit": null,
            "grid_auto_columns": null,
            "margin": null,
            "display": null,
            "left": null
          }
        },
        "512b362070154b6eb946f7d7383fa3b5": {
          "model_module": "@jupyter-widgets/controls",
          "model_name": "HTMLModel",
          "model_module_version": "1.5.0",
          "state": {
            "_view_name": "HTMLView",
            "style": "IPY_MODEL_63f22c800df5468eb53ae3f41be80c89",
            "_dom_classes": [],
            "description": "",
            "_model_name": "HTMLModel",
            "placeholder": "​",
            "_view_module": "@jupyter-widgets/controls",
            "_model_module_version": "1.5.0",
            "value": "100%",
            "_view_count": null,
            "_view_module_version": "1.5.0",
            "description_tooltip": null,
            "_model_module": "@jupyter-widgets/controls",
            "layout": "IPY_MODEL_01a9a4e8bd6540a8ad394c7ffd273646"
          }
        },
        "3667efeb809f41e69b3989558605d426": {
          "model_module": "@jupyter-widgets/controls",
          "model_name": "FloatProgressModel",
          "model_module_version": "1.5.0",
          "state": {
            "_view_name": "ProgressView",
            "style": "IPY_MODEL_80b6e6cb30824f2a9001652b9d8f4f8a",
            "_dom_classes": [],
            "description": "",
            "_model_name": "FloatProgressModel",
            "bar_style": "danger",
            "max": 51785,
            "_view_module": "@jupyter-widgets/controls",
            "_model_module_version": "1.5.0",
            "value": 51784,
            "_view_count": null,
            "_view_module_version": "1.5.0",
            "orientation": "horizontal",
            "min": 0,
            "description_tooltip": null,
            "_model_module": "@jupyter-widgets/controls",
            "layout": "IPY_MODEL_4bb084b02d0b4b72a0a92283edffa8f8"
          }
        },
        "49d1a0b55c9e46dda6a0596c8a5ae2cc": {
          "model_module": "@jupyter-widgets/controls",
          "model_name": "HTMLModel",
          "model_module_version": "1.5.0",
          "state": {
            "_view_name": "HTMLView",
            "style": "IPY_MODEL_ca26fd61c03b4f6c96ad7cbb93be554f",
            "_dom_classes": [],
            "description": "",
            "_model_name": "HTMLModel",
            "placeholder": "​",
            "_view_module": "@jupyter-widgets/controls",
            "_model_module_version": "1.5.0",
            "value": " 51784/51785 [00:00&lt;00:00, 208711.04 examples/s]",
            "_view_count": null,
            "_view_module_version": "1.5.0",
            "description_tooltip": null,
            "_model_module": "@jupyter-widgets/controls",
            "layout": "IPY_MODEL_ee6a06f2b6af4d7384d7194e2703ed40"
          }
        },
        "63f22c800df5468eb53ae3f41be80c89": {
          "model_module": "@jupyter-widgets/controls",
          "model_name": "DescriptionStyleModel",
          "model_module_version": "1.5.0",
          "state": {
            "_view_name": "StyleView",
            "_model_name": "DescriptionStyleModel",
            "description_width": "",
            "_view_module": "@jupyter-widgets/base",
            "_model_module_version": "1.5.0",
            "_view_count": null,
            "_view_module_version": "1.2.0",
            "_model_module": "@jupyter-widgets/controls"
          }
        },
        "01a9a4e8bd6540a8ad394c7ffd273646": {
          "model_module": "@jupyter-widgets/base",
          "model_name": "LayoutModel",
          "model_module_version": "1.2.0",
          "state": {
            "_view_name": "LayoutView",
            "grid_template_rows": null,
            "right": null,
            "justify_content": null,
            "_view_module": "@jupyter-widgets/base",
            "overflow": null,
            "_model_module_version": "1.2.0",
            "_view_count": null,
            "flex_flow": null,
            "width": null,
            "min_width": null,
            "border": null,
            "align_items": null,
            "bottom": null,
            "_model_module": "@jupyter-widgets/base",
            "top": null,
            "grid_column": null,
            "overflow_y": null,
            "overflow_x": null,
            "grid_auto_flow": null,
            "grid_area": null,
            "grid_template_columns": null,
            "flex": null,
            "_model_name": "LayoutModel",
            "justify_items": null,
            "grid_row": null,
            "max_height": null,
            "align_content": null,
            "visibility": null,
            "align_self": null,
            "height": null,
            "min_height": null,
            "padding": null,
            "grid_auto_rows": null,
            "grid_gap": null,
            "max_width": null,
            "order": null,
            "_view_module_version": "1.2.0",
            "grid_template_areas": null,
            "object_position": null,
            "object_fit": null,
            "grid_auto_columns": null,
            "margin": null,
            "display": null,
            "left": null
          }
        },
        "80b6e6cb30824f2a9001652b9d8f4f8a": {
          "model_module": "@jupyter-widgets/controls",
          "model_name": "ProgressStyleModel",
          "model_module_version": "1.5.0",
          "state": {
            "_view_name": "StyleView",
            "_model_name": "ProgressStyleModel",
            "description_width": "",
            "_view_module": "@jupyter-widgets/base",
            "_model_module_version": "1.5.0",
            "_view_count": null,
            "_view_module_version": "1.2.0",
            "bar_color": null,
            "_model_module": "@jupyter-widgets/controls"
          }
        },
        "4bb084b02d0b4b72a0a92283edffa8f8": {
          "model_module": "@jupyter-widgets/base",
          "model_name": "LayoutModel",
          "model_module_version": "1.2.0",
          "state": {
            "_view_name": "LayoutView",
            "grid_template_rows": null,
            "right": null,
            "justify_content": null,
            "_view_module": "@jupyter-widgets/base",
            "overflow": null,
            "_model_module_version": "1.2.0",
            "_view_count": null,
            "flex_flow": null,
            "width": null,
            "min_width": null,
            "border": null,
            "align_items": null,
            "bottom": null,
            "_model_module": "@jupyter-widgets/base",
            "top": null,
            "grid_column": null,
            "overflow_y": null,
            "overflow_x": null,
            "grid_auto_flow": null,
            "grid_area": null,
            "grid_template_columns": null,
            "flex": null,
            "_model_name": "LayoutModel",
            "justify_items": null,
            "grid_row": null,
            "max_height": null,
            "align_content": null,
            "visibility": null,
            "align_self": null,
            "height": null,
            "min_height": null,
            "padding": null,
            "grid_auto_rows": null,
            "grid_gap": null,
            "max_width": null,
            "order": null,
            "_view_module_version": "1.2.0",
            "grid_template_areas": null,
            "object_position": null,
            "object_fit": null,
            "grid_auto_columns": null,
            "margin": null,
            "display": null,
            "left": null
          }
        },
        "ca26fd61c03b4f6c96ad7cbb93be554f": {
          "model_module": "@jupyter-widgets/controls",
          "model_name": "DescriptionStyleModel",
          "model_module_version": "1.5.0",
          "state": {
            "_view_name": "StyleView",
            "_model_name": "DescriptionStyleModel",
            "description_width": "",
            "_view_module": "@jupyter-widgets/base",
            "_model_module_version": "1.5.0",
            "_view_count": null,
            "_view_module_version": "1.2.0",
            "_model_module": "@jupyter-widgets/controls"
          }
        },
        "ee6a06f2b6af4d7384d7194e2703ed40": {
          "model_module": "@jupyter-widgets/base",
          "model_name": "LayoutModel",
          "model_module_version": "1.2.0",
          "state": {
            "_view_name": "LayoutView",
            "grid_template_rows": null,
            "right": null,
            "justify_content": null,
            "_view_module": "@jupyter-widgets/base",
            "overflow": null,
            "_model_module_version": "1.2.0",
            "_view_count": null,
            "flex_flow": null,
            "width": null,
            "min_width": null,
            "border": null,
            "align_items": null,
            "bottom": null,
            "_model_module": "@jupyter-widgets/base",
            "top": null,
            "grid_column": null,
            "overflow_y": null,
            "overflow_x": null,
            "grid_auto_flow": null,
            "grid_area": null,
            "grid_template_columns": null,
            "flex": null,
            "_model_name": "LayoutModel",
            "justify_items": null,
            "grid_row": null,
            "max_height": null,
            "align_content": null,
            "visibility": null,
            "align_self": null,
            "height": null,
            "min_height": null,
            "padding": null,
            "grid_auto_rows": null,
            "grid_gap": null,
            "max_width": null,
            "order": null,
            "_view_module_version": "1.2.0",
            "grid_template_areas": null,
            "object_position": null,
            "object_fit": null,
            "grid_auto_columns": null,
            "margin": null,
            "display": null,
            "left": null
          }
        },
        "cf1b876fcc544c2f940b08edfab20a97": {
          "model_module": "@jupyter-widgets/controls",
          "model_name": "HBoxModel",
          "model_module_version": "1.5.0",
          "state": {
            "_view_name": "HBoxView",
            "_dom_classes": [],
            "_model_name": "HBoxModel",
            "_view_module": "@jupyter-widgets/controls",
            "_model_module_version": "1.5.0",
            "_view_count": null,
            "_view_module_version": "1.5.0",
            "box_style": "",
            "layout": "IPY_MODEL_fb3aa10b82e949e6a43ee561687fb7bd",
            "_model_module": "@jupyter-widgets/controls",
            "children": [
              "IPY_MODEL_10762b42e5f84d9498336a6eb5a1e9c9",
              "IPY_MODEL_f78c1ae8e33a46ebbf278583c8d2d634",
              "IPY_MODEL_ab7b2d13f41e42b28ba88fd113745f2b"
            ]
          }
        },
        "fb3aa10b82e949e6a43ee561687fb7bd": {
          "model_module": "@jupyter-widgets/base",
          "model_name": "LayoutModel",
          "model_module_version": "1.2.0",
          "state": {
            "_view_name": "LayoutView",
            "grid_template_rows": null,
            "right": null,
            "justify_content": null,
            "_view_module": "@jupyter-widgets/base",
            "overflow": null,
            "_model_module_version": "1.2.0",
            "_view_count": null,
            "flex_flow": null,
            "width": null,
            "min_width": null,
            "border": null,
            "align_items": null,
            "bottom": null,
            "_model_module": "@jupyter-widgets/base",
            "top": null,
            "grid_column": null,
            "overflow_y": null,
            "overflow_x": null,
            "grid_auto_flow": null,
            "grid_area": null,
            "grid_template_columns": null,
            "flex": null,
            "_model_name": "LayoutModel",
            "justify_items": null,
            "grid_row": null,
            "max_height": null,
            "align_content": null,
            "visibility": null,
            "align_self": null,
            "height": null,
            "min_height": null,
            "padding": null,
            "grid_auto_rows": null,
            "grid_gap": null,
            "max_width": null,
            "order": null,
            "_view_module_version": "1.2.0",
            "grid_template_areas": null,
            "object_position": null,
            "object_fit": null,
            "grid_auto_columns": null,
            "margin": null,
            "display": null,
            "left": null
          }
        },
        "10762b42e5f84d9498336a6eb5a1e9c9": {
          "model_module": "@jupyter-widgets/controls",
          "model_name": "HTMLModel",
          "model_module_version": "1.5.0",
          "state": {
            "_view_name": "HTMLView",
            "style": "IPY_MODEL_0d6061cbbeb44a1ab1007efea0b7a6f5",
            "_dom_classes": [],
            "description": "",
            "_model_name": "HTMLModel",
            "placeholder": "​",
            "_view_module": "@jupyter-widgets/controls",
            "_model_module_version": "1.5.0",
            "value": "",
            "_view_count": null,
            "_view_module_version": "1.5.0",
            "description_tooltip": null,
            "_model_module": "@jupyter-widgets/controls",
            "layout": "IPY_MODEL_7a55a6d3834e4cf0ad0547882971394b"
          }
        },
        "f78c1ae8e33a46ebbf278583c8d2d634": {
          "model_module": "@jupyter-widgets/controls",
          "model_name": "FloatProgressModel",
          "model_module_version": "1.5.0",
          "state": {
            "_view_name": "ProgressView",
            "style": "IPY_MODEL_8688a87bafdd400d97080ddc34bc560b",
            "_dom_classes": [],
            "description": "",
            "_model_name": "FloatProgressModel",
            "bar_style": "info",
            "max": 1,
            "_view_module": "@jupyter-widgets/controls",
            "_model_module_version": "1.5.0",
            "value": 1,
            "_view_count": null,
            "_view_module_version": "1.5.0",
            "orientation": "horizontal",
            "min": 0,
            "description_tooltip": null,
            "_model_module": "@jupyter-widgets/controls",
            "layout": "IPY_MODEL_9357df4d476543669a9b28b21b1ec663"
          }
        },
        "ab7b2d13f41e42b28ba88fd113745f2b": {
          "model_module": "@jupyter-widgets/controls",
          "model_name": "HTMLModel",
          "model_module_version": "1.5.0",
          "state": {
            "_view_name": "HTMLView",
            "style": "IPY_MODEL_c5c5f13df43d49449cdcaf03bc483aad",
            "_dom_classes": [],
            "description": "",
            "_model_name": "HTMLModel",
            "placeholder": "​",
            "_view_module": "@jupyter-widgets/controls",
            "_model_module_version": "1.5.0",
            "value": " 912/0 [00:00&lt;00:00, 3450.35 examples/s]",
            "_view_count": null,
            "_view_module_version": "1.5.0",
            "description_tooltip": null,
            "_model_module": "@jupyter-widgets/controls",
            "layout": "IPY_MODEL_3e2bfc77473148d1b1d0851cd3ca7292"
          }
        },
        "0d6061cbbeb44a1ab1007efea0b7a6f5": {
          "model_module": "@jupyter-widgets/controls",
          "model_name": "DescriptionStyleModel",
          "model_module_version": "1.5.0",
          "state": {
            "_view_name": "StyleView",
            "_model_name": "DescriptionStyleModel",
            "description_width": "",
            "_view_module": "@jupyter-widgets/base",
            "_model_module_version": "1.5.0",
            "_view_count": null,
            "_view_module_version": "1.2.0",
            "_model_module": "@jupyter-widgets/controls"
          }
        },
        "7a55a6d3834e4cf0ad0547882971394b": {
          "model_module": "@jupyter-widgets/base",
          "model_name": "LayoutModel",
          "model_module_version": "1.2.0",
          "state": {
            "_view_name": "LayoutView",
            "grid_template_rows": null,
            "right": null,
            "justify_content": null,
            "_view_module": "@jupyter-widgets/base",
            "overflow": null,
            "_model_module_version": "1.2.0",
            "_view_count": null,
            "flex_flow": null,
            "width": null,
            "min_width": null,
            "border": null,
            "align_items": null,
            "bottom": null,
            "_model_module": "@jupyter-widgets/base",
            "top": null,
            "grid_column": null,
            "overflow_y": null,
            "overflow_x": null,
            "grid_auto_flow": null,
            "grid_area": null,
            "grid_template_columns": null,
            "flex": null,
            "_model_name": "LayoutModel",
            "justify_items": null,
            "grid_row": null,
            "max_height": null,
            "align_content": null,
            "visibility": null,
            "align_self": null,
            "height": null,
            "min_height": null,
            "padding": null,
            "grid_auto_rows": null,
            "grid_gap": null,
            "max_width": null,
            "order": null,
            "_view_module_version": "1.2.0",
            "grid_template_areas": null,
            "object_position": null,
            "object_fit": null,
            "grid_auto_columns": null,
            "margin": null,
            "display": null,
            "left": null
          }
        },
        "8688a87bafdd400d97080ddc34bc560b": {
          "model_module": "@jupyter-widgets/controls",
          "model_name": "ProgressStyleModel",
          "model_module_version": "1.5.0",
          "state": {
            "_view_name": "StyleView",
            "_model_name": "ProgressStyleModel",
            "description_width": "",
            "_view_module": "@jupyter-widgets/base",
            "_model_module_version": "1.5.0",
            "_view_count": null,
            "_view_module_version": "1.2.0",
            "bar_color": null,
            "_model_module": "@jupyter-widgets/controls"
          }
        },
        "9357df4d476543669a9b28b21b1ec663": {
          "model_module": "@jupyter-widgets/base",
          "model_name": "LayoutModel",
          "model_module_version": "1.2.0",
          "state": {
            "_view_name": "LayoutView",
            "grid_template_rows": null,
            "right": null,
            "justify_content": null,
            "_view_module": "@jupyter-widgets/base",
            "overflow": null,
            "_model_module_version": "1.2.0",
            "_view_count": null,
            "flex_flow": null,
            "width": "20px",
            "min_width": null,
            "border": null,
            "align_items": null,
            "bottom": null,
            "_model_module": "@jupyter-widgets/base",
            "top": null,
            "grid_column": null,
            "overflow_y": null,
            "overflow_x": null,
            "grid_auto_flow": null,
            "grid_area": null,
            "grid_template_columns": null,
            "flex": null,
            "_model_name": "LayoutModel",
            "justify_items": null,
            "grid_row": null,
            "max_height": null,
            "align_content": null,
            "visibility": null,
            "align_self": null,
            "height": null,
            "min_height": null,
            "padding": null,
            "grid_auto_rows": null,
            "grid_gap": null,
            "max_width": null,
            "order": null,
            "_view_module_version": "1.2.0",
            "grid_template_areas": null,
            "object_position": null,
            "object_fit": null,
            "grid_auto_columns": null,
            "margin": null,
            "display": null,
            "left": null
          }
        },
        "c5c5f13df43d49449cdcaf03bc483aad": {
          "model_module": "@jupyter-widgets/controls",
          "model_name": "DescriptionStyleModel",
          "model_module_version": "1.5.0",
          "state": {
            "_view_name": "StyleView",
            "_model_name": "DescriptionStyleModel",
            "description_width": "",
            "_view_module": "@jupyter-widgets/base",
            "_model_module_version": "1.5.0",
            "_view_count": null,
            "_view_module_version": "1.2.0",
            "_model_module": "@jupyter-widgets/controls"
          }
        },
        "3e2bfc77473148d1b1d0851cd3ca7292": {
          "model_module": "@jupyter-widgets/base",
          "model_name": "LayoutModel",
          "model_module_version": "1.2.0",
          "state": {
            "_view_name": "LayoutView",
            "grid_template_rows": null,
            "right": null,
            "justify_content": null,
            "_view_module": "@jupyter-widgets/base",
            "overflow": null,
            "_model_module_version": "1.2.0",
            "_view_count": null,
            "flex_flow": null,
            "width": null,
            "min_width": null,
            "border": null,
            "align_items": null,
            "bottom": null,
            "_model_module": "@jupyter-widgets/base",
            "top": null,
            "grid_column": null,
            "overflow_y": null,
            "overflow_x": null,
            "grid_auto_flow": null,
            "grid_area": null,
            "grid_template_columns": null,
            "flex": null,
            "_model_name": "LayoutModel",
            "justify_items": null,
            "grid_row": null,
            "max_height": null,
            "align_content": null,
            "visibility": null,
            "align_self": null,
            "height": null,
            "min_height": null,
            "padding": null,
            "grid_auto_rows": null,
            "grid_gap": null,
            "max_width": null,
            "order": null,
            "_view_module_version": "1.2.0",
            "grid_template_areas": null,
            "object_position": null,
            "object_fit": null,
            "grid_auto_columns": null,
            "margin": null,
            "display": null,
            "left": null
          }
        },
        "86de3081ab364123900eaf1b52c83299": {
          "model_module": "@jupyter-widgets/controls",
          "model_name": "HBoxModel",
          "model_module_version": "1.5.0",
          "state": {
            "_view_name": "HBoxView",
            "_dom_classes": [],
            "_model_name": "HBoxModel",
            "_view_module": "@jupyter-widgets/controls",
            "_model_module_version": "1.5.0",
            "_view_count": null,
            "_view_module_version": "1.5.0",
            "box_style": "",
            "layout": "IPY_MODEL_9e57f81d0b7e436fadbbdae31204dbbd",
            "_model_module": "@jupyter-widgets/controls",
            "children": [
              "IPY_MODEL_e5f82ac9128640208a7db29c24605e25",
              "IPY_MODEL_d59cc1e4aaf8474c850d411a986f8739",
              "IPY_MODEL_cee1905f5ce34a30bcfbd24a3728f8a6"
            ]
          }
        },
        "9e57f81d0b7e436fadbbdae31204dbbd": {
          "model_module": "@jupyter-widgets/base",
          "model_name": "LayoutModel",
          "model_module_version": "1.2.0",
          "state": {
            "_view_name": "LayoutView",
            "grid_template_rows": null,
            "right": null,
            "justify_content": null,
            "_view_module": "@jupyter-widgets/base",
            "overflow": null,
            "_model_module_version": "1.2.0",
            "_view_count": null,
            "flex_flow": null,
            "width": null,
            "min_width": null,
            "border": null,
            "align_items": null,
            "bottom": null,
            "_model_module": "@jupyter-widgets/base",
            "top": null,
            "grid_column": null,
            "overflow_y": null,
            "overflow_x": null,
            "grid_auto_flow": null,
            "grid_area": null,
            "grid_template_columns": null,
            "flex": null,
            "_model_name": "LayoutModel",
            "justify_items": null,
            "grid_row": null,
            "max_height": null,
            "align_content": null,
            "visibility": null,
            "align_self": null,
            "height": null,
            "min_height": null,
            "padding": null,
            "grid_auto_rows": null,
            "grid_gap": null,
            "max_width": null,
            "order": null,
            "_view_module_version": "1.2.0",
            "grid_template_areas": null,
            "object_position": null,
            "object_fit": null,
            "grid_auto_columns": null,
            "margin": null,
            "display": null,
            "left": null
          }
        },
        "e5f82ac9128640208a7db29c24605e25": {
          "model_module": "@jupyter-widgets/controls",
          "model_name": "HTMLModel",
          "model_module_version": "1.5.0",
          "state": {
            "_view_name": "HTMLView",
            "style": "IPY_MODEL_655b064fc4a549399d38ed8b6e12a836",
            "_dom_classes": [],
            "description": "",
            "_model_name": "HTMLModel",
            "placeholder": "​",
            "_view_module": "@jupyter-widgets/controls",
            "_model_module_version": "1.5.0",
            "value": "100%",
            "_view_count": null,
            "_view_module_version": "1.5.0",
            "description_tooltip": null,
            "_model_module": "@jupyter-widgets/controls",
            "layout": "IPY_MODEL_bd26e941893d435293bb508820706e71"
          }
        },
        "d59cc1e4aaf8474c850d411a986f8739": {
          "model_module": "@jupyter-widgets/controls",
          "model_name": "FloatProgressModel",
          "model_module_version": "1.5.0",
          "state": {
            "_view_name": "ProgressView",
            "style": "IPY_MODEL_1341206c19274b85b49b5f7c2e09a474",
            "_dom_classes": [],
            "description": "",
            "_model_name": "FloatProgressModel",
            "bar_style": "danger",
            "max": 1193,
            "_view_module": "@jupyter-widgets/controls",
            "_model_module_version": "1.5.0",
            "value": 1192,
            "_view_count": null,
            "_view_module_version": "1.5.0",
            "orientation": "horizontal",
            "min": 0,
            "description_tooltip": null,
            "_model_module": "@jupyter-widgets/controls",
            "layout": "IPY_MODEL_2be20e4c275c4bee871b409a234f67b0"
          }
        },
        "cee1905f5ce34a30bcfbd24a3728f8a6": {
          "model_module": "@jupyter-widgets/controls",
          "model_name": "HTMLModel",
          "model_module_version": "1.5.0",
          "state": {
            "_view_name": "HTMLView",
            "style": "IPY_MODEL_aa47eeb4873540b2a76a2a9b580d0161",
            "_dom_classes": [],
            "description": "",
            "_model_name": "HTMLModel",
            "placeholder": "​",
            "_view_module": "@jupyter-widgets/controls",
            "_model_module_version": "1.5.0",
            "value": " 1192/1193 [00:00&lt;00:00, 21821.21 examples/s]",
            "_view_count": null,
            "_view_module_version": "1.5.0",
            "description_tooltip": null,
            "_model_module": "@jupyter-widgets/controls",
            "layout": "IPY_MODEL_26e64ba9854746b899cdb426cfeca83b"
          }
        },
        "655b064fc4a549399d38ed8b6e12a836": {
          "model_module": "@jupyter-widgets/controls",
          "model_name": "DescriptionStyleModel",
          "model_module_version": "1.5.0",
          "state": {
            "_view_name": "StyleView",
            "_model_name": "DescriptionStyleModel",
            "description_width": "",
            "_view_module": "@jupyter-widgets/base",
            "_model_module_version": "1.5.0",
            "_view_count": null,
            "_view_module_version": "1.2.0",
            "_model_module": "@jupyter-widgets/controls"
          }
        },
        "bd26e941893d435293bb508820706e71": {
          "model_module": "@jupyter-widgets/base",
          "model_name": "LayoutModel",
          "model_module_version": "1.2.0",
          "state": {
            "_view_name": "LayoutView",
            "grid_template_rows": null,
            "right": null,
            "justify_content": null,
            "_view_module": "@jupyter-widgets/base",
            "overflow": null,
            "_model_module_version": "1.2.0",
            "_view_count": null,
            "flex_flow": null,
            "width": null,
            "min_width": null,
            "border": null,
            "align_items": null,
            "bottom": null,
            "_model_module": "@jupyter-widgets/base",
            "top": null,
            "grid_column": null,
            "overflow_y": null,
            "overflow_x": null,
            "grid_auto_flow": null,
            "grid_area": null,
            "grid_template_columns": null,
            "flex": null,
            "_model_name": "LayoutModel",
            "justify_items": null,
            "grid_row": null,
            "max_height": null,
            "align_content": null,
            "visibility": null,
            "align_self": null,
            "height": null,
            "min_height": null,
            "padding": null,
            "grid_auto_rows": null,
            "grid_gap": null,
            "max_width": null,
            "order": null,
            "_view_module_version": "1.2.0",
            "grid_template_areas": null,
            "object_position": null,
            "object_fit": null,
            "grid_auto_columns": null,
            "margin": null,
            "display": null,
            "left": null
          }
        },
        "1341206c19274b85b49b5f7c2e09a474": {
          "model_module": "@jupyter-widgets/controls",
          "model_name": "ProgressStyleModel",
          "model_module_version": "1.5.0",
          "state": {
            "_view_name": "StyleView",
            "_model_name": "ProgressStyleModel",
            "description_width": "",
            "_view_module": "@jupyter-widgets/base",
            "_model_module_version": "1.5.0",
            "_view_count": null,
            "_view_module_version": "1.2.0",
            "bar_color": null,
            "_model_module": "@jupyter-widgets/controls"
          }
        },
        "2be20e4c275c4bee871b409a234f67b0": {
          "model_module": "@jupyter-widgets/base",
          "model_name": "LayoutModel",
          "model_module_version": "1.2.0",
          "state": {
            "_view_name": "LayoutView",
            "grid_template_rows": null,
            "right": null,
            "justify_content": null,
            "_view_module": "@jupyter-widgets/base",
            "overflow": null,
            "_model_module_version": "1.2.0",
            "_view_count": null,
            "flex_flow": null,
            "width": null,
            "min_width": null,
            "border": null,
            "align_items": null,
            "bottom": null,
            "_model_module": "@jupyter-widgets/base",
            "top": null,
            "grid_column": null,
            "overflow_y": null,
            "overflow_x": null,
            "grid_auto_flow": null,
            "grid_area": null,
            "grid_template_columns": null,
            "flex": null,
            "_model_name": "LayoutModel",
            "justify_items": null,
            "grid_row": null,
            "max_height": null,
            "align_content": null,
            "visibility": null,
            "align_self": null,
            "height": null,
            "min_height": null,
            "padding": null,
            "grid_auto_rows": null,
            "grid_gap": null,
            "max_width": null,
            "order": null,
            "_view_module_version": "1.2.0",
            "grid_template_areas": null,
            "object_position": null,
            "object_fit": null,
            "grid_auto_columns": null,
            "margin": null,
            "display": null,
            "left": null
          }
        },
        "aa47eeb4873540b2a76a2a9b580d0161": {
          "model_module": "@jupyter-widgets/controls",
          "model_name": "DescriptionStyleModel",
          "model_module_version": "1.5.0",
          "state": {
            "_view_name": "StyleView",
            "_model_name": "DescriptionStyleModel",
            "description_width": "",
            "_view_module": "@jupyter-widgets/base",
            "_model_module_version": "1.5.0",
            "_view_count": null,
            "_view_module_version": "1.2.0",
            "_model_module": "@jupyter-widgets/controls"
          }
        },
        "26e64ba9854746b899cdb426cfeca83b": {
          "model_module": "@jupyter-widgets/base",
          "model_name": "LayoutModel",
          "model_module_version": "1.2.0",
          "state": {
            "_view_name": "LayoutView",
            "grid_template_rows": null,
            "right": null,
            "justify_content": null,
            "_view_module": "@jupyter-widgets/base",
            "overflow": null,
            "_model_module_version": "1.2.0",
            "_view_count": null,
            "flex_flow": null,
            "width": null,
            "min_width": null,
            "border": null,
            "align_items": null,
            "bottom": null,
            "_model_module": "@jupyter-widgets/base",
            "top": null,
            "grid_column": null,
            "overflow_y": null,
            "overflow_x": null,
            "grid_auto_flow": null,
            "grid_area": null,
            "grid_template_columns": null,
            "flex": null,
            "_model_name": "LayoutModel",
            "justify_items": null,
            "grid_row": null,
            "max_height": null,
            "align_content": null,
            "visibility": null,
            "align_self": null,
            "height": null,
            "min_height": null,
            "padding": null,
            "grid_auto_rows": null,
            "grid_gap": null,
            "max_width": null,
            "order": null,
            "_view_module_version": "1.2.0",
            "grid_template_areas": null,
            "object_position": null,
            "object_fit": null,
            "grid_auto_columns": null,
            "margin": null,
            "display": null,
            "left": null
          }
        },
        "025c6e3740e846d3884911bd55454853": {
          "model_module": "@jupyter-widgets/controls",
          "model_name": "HBoxModel",
          "model_module_version": "1.5.0",
          "state": {
            "_view_name": "HBoxView",
            "_dom_classes": [],
            "_model_name": "HBoxModel",
            "_view_module": "@jupyter-widgets/controls",
            "_model_module_version": "1.5.0",
            "_view_count": null,
            "_view_module_version": "1.5.0",
            "box_style": "",
            "layout": "IPY_MODEL_ce0de98bc4424584951245ab7038e55e",
            "_model_module": "@jupyter-widgets/controls",
            "children": [
              "IPY_MODEL_0573cb622c97476ea8e0f81f1ee8e48f",
              "IPY_MODEL_a486133e7e8e48918d0b9d3a56fe157a",
              "IPY_MODEL_3317ae2e784f4585ad04694c1b7725ee"
            ]
          }
        },
        "ce0de98bc4424584951245ab7038e55e": {
          "model_module": "@jupyter-widgets/base",
          "model_name": "LayoutModel",
          "model_module_version": "1.2.0",
          "state": {
            "_view_name": "LayoutView",
            "grid_template_rows": null,
            "right": null,
            "justify_content": null,
            "_view_module": "@jupyter-widgets/base",
            "overflow": null,
            "_model_module_version": "1.2.0",
            "_view_count": null,
            "flex_flow": null,
            "width": null,
            "min_width": null,
            "border": null,
            "align_items": null,
            "bottom": null,
            "_model_module": "@jupyter-widgets/base",
            "top": null,
            "grid_column": null,
            "overflow_y": null,
            "overflow_x": null,
            "grid_auto_flow": null,
            "grid_area": null,
            "grid_template_columns": null,
            "flex": null,
            "_model_name": "LayoutModel",
            "justify_items": null,
            "grid_row": null,
            "max_height": null,
            "align_content": null,
            "visibility": null,
            "align_self": null,
            "height": null,
            "min_height": null,
            "padding": null,
            "grid_auto_rows": null,
            "grid_gap": null,
            "max_width": null,
            "order": null,
            "_view_module_version": "1.2.0",
            "grid_template_areas": null,
            "object_position": null,
            "object_fit": null,
            "grid_auto_columns": null,
            "margin": null,
            "display": null,
            "left": null
          }
        },
        "0573cb622c97476ea8e0f81f1ee8e48f": {
          "model_module": "@jupyter-widgets/controls",
          "model_name": "HTMLModel",
          "model_module_version": "1.5.0",
          "state": {
            "_view_name": "HTMLView",
            "style": "IPY_MODEL_b733775d3a394e8db5c62e1356d4a7e8",
            "_dom_classes": [],
            "description": "",
            "_model_name": "HTMLModel",
            "placeholder": "​",
            "_view_module": "@jupyter-widgets/controls",
            "_model_module_version": "1.5.0",
            "value": "",
            "_view_count": null,
            "_view_module_version": "1.5.0",
            "description_tooltip": null,
            "_model_module": "@jupyter-widgets/controls",
            "layout": "IPY_MODEL_19e9fbfa20544f5598ca6221659c0de7"
          }
        },
        "a486133e7e8e48918d0b9d3a56fe157a": {
          "model_module": "@jupyter-widgets/controls",
          "model_name": "FloatProgressModel",
          "model_module_version": "1.5.0",
          "state": {
            "_view_name": "ProgressView",
            "style": "IPY_MODEL_6b1aab751173492ea51c07866fc4a15a",
            "_dom_classes": [],
            "description": "",
            "_model_name": "FloatProgressModel",
            "bar_style": "info",
            "max": 1,
            "_view_module": "@jupyter-widgets/controls",
            "_model_module_version": "1.5.0",
            "value": 1,
            "_view_count": null,
            "_view_module_version": "1.5.0",
            "orientation": "horizontal",
            "min": 0,
            "description_tooltip": null,
            "_model_module": "@jupyter-widgets/controls",
            "layout": "IPY_MODEL_60b5d47c0d0b4167bf72423a7d3523b2"
          }
        },
        "3317ae2e784f4585ad04694c1b7725ee": {
          "model_module": "@jupyter-widgets/controls",
          "model_name": "HTMLModel",
          "model_module_version": "1.5.0",
          "state": {
            "_view_name": "HTMLView",
            "style": "IPY_MODEL_9019c3cb03834da7b5369c4cab667a89",
            "_dom_classes": [],
            "description": "",
            "_model_name": "HTMLModel",
            "placeholder": "​",
            "_view_module": "@jupyter-widgets/controls",
            "_model_module_version": "1.5.0",
            "value": " 1508/0 [00:00&lt;00:00, 3465.98 examples/s]",
            "_view_count": null,
            "_view_module_version": "1.5.0",
            "description_tooltip": null,
            "_model_module": "@jupyter-widgets/controls",
            "layout": "IPY_MODEL_5245cf8d5b3740b083441c3915f96be1"
          }
        },
        "b733775d3a394e8db5c62e1356d4a7e8": {
          "model_module": "@jupyter-widgets/controls",
          "model_name": "DescriptionStyleModel",
          "model_module_version": "1.5.0",
          "state": {
            "_view_name": "StyleView",
            "_model_name": "DescriptionStyleModel",
            "description_width": "",
            "_view_module": "@jupyter-widgets/base",
            "_model_module_version": "1.5.0",
            "_view_count": null,
            "_view_module_version": "1.2.0",
            "_model_module": "@jupyter-widgets/controls"
          }
        },
        "19e9fbfa20544f5598ca6221659c0de7": {
          "model_module": "@jupyter-widgets/base",
          "model_name": "LayoutModel",
          "model_module_version": "1.2.0",
          "state": {
            "_view_name": "LayoutView",
            "grid_template_rows": null,
            "right": null,
            "justify_content": null,
            "_view_module": "@jupyter-widgets/base",
            "overflow": null,
            "_model_module_version": "1.2.0",
            "_view_count": null,
            "flex_flow": null,
            "width": null,
            "min_width": null,
            "border": null,
            "align_items": null,
            "bottom": null,
            "_model_module": "@jupyter-widgets/base",
            "top": null,
            "grid_column": null,
            "overflow_y": null,
            "overflow_x": null,
            "grid_auto_flow": null,
            "grid_area": null,
            "grid_template_columns": null,
            "flex": null,
            "_model_name": "LayoutModel",
            "justify_items": null,
            "grid_row": null,
            "max_height": null,
            "align_content": null,
            "visibility": null,
            "align_self": null,
            "height": null,
            "min_height": null,
            "padding": null,
            "grid_auto_rows": null,
            "grid_gap": null,
            "max_width": null,
            "order": null,
            "_view_module_version": "1.2.0",
            "grid_template_areas": null,
            "object_position": null,
            "object_fit": null,
            "grid_auto_columns": null,
            "margin": null,
            "display": null,
            "left": null
          }
        },
        "6b1aab751173492ea51c07866fc4a15a": {
          "model_module": "@jupyter-widgets/controls",
          "model_name": "ProgressStyleModel",
          "model_module_version": "1.5.0",
          "state": {
            "_view_name": "StyleView",
            "_model_name": "ProgressStyleModel",
            "description_width": "",
            "_view_module": "@jupyter-widgets/base",
            "_model_module_version": "1.5.0",
            "_view_count": null,
            "_view_module_version": "1.2.0",
            "bar_color": null,
            "_model_module": "@jupyter-widgets/controls"
          }
        },
        "60b5d47c0d0b4167bf72423a7d3523b2": {
          "model_module": "@jupyter-widgets/base",
          "model_name": "LayoutModel",
          "model_module_version": "1.2.0",
          "state": {
            "_view_name": "LayoutView",
            "grid_template_rows": null,
            "right": null,
            "justify_content": null,
            "_view_module": "@jupyter-widgets/base",
            "overflow": null,
            "_model_module_version": "1.2.0",
            "_view_count": null,
            "flex_flow": null,
            "width": "20px",
            "min_width": null,
            "border": null,
            "align_items": null,
            "bottom": null,
            "_model_module": "@jupyter-widgets/base",
            "top": null,
            "grid_column": null,
            "overflow_y": null,
            "overflow_x": null,
            "grid_auto_flow": null,
            "grid_area": null,
            "grid_template_columns": null,
            "flex": null,
            "_model_name": "LayoutModel",
            "justify_items": null,
            "grid_row": null,
            "max_height": null,
            "align_content": null,
            "visibility": null,
            "align_self": null,
            "height": null,
            "min_height": null,
            "padding": null,
            "grid_auto_rows": null,
            "grid_gap": null,
            "max_width": null,
            "order": null,
            "_view_module_version": "1.2.0",
            "grid_template_areas": null,
            "object_position": null,
            "object_fit": null,
            "grid_auto_columns": null,
            "margin": null,
            "display": null,
            "left": null
          }
        },
        "9019c3cb03834da7b5369c4cab667a89": {
          "model_module": "@jupyter-widgets/controls",
          "model_name": "DescriptionStyleModel",
          "model_module_version": "1.5.0",
          "state": {
            "_view_name": "StyleView",
            "_model_name": "DescriptionStyleModel",
            "description_width": "",
            "_view_module": "@jupyter-widgets/base",
            "_model_module_version": "1.5.0",
            "_view_count": null,
            "_view_module_version": "1.2.0",
            "_model_module": "@jupyter-widgets/controls"
          }
        },
        "5245cf8d5b3740b083441c3915f96be1": {
          "model_module": "@jupyter-widgets/base",
          "model_name": "LayoutModel",
          "model_module_version": "1.2.0",
          "state": {
            "_view_name": "LayoutView",
            "grid_template_rows": null,
            "right": null,
            "justify_content": null,
            "_view_module": "@jupyter-widgets/base",
            "overflow": null,
            "_model_module_version": "1.2.0",
            "_view_count": null,
            "flex_flow": null,
            "width": null,
            "min_width": null,
            "border": null,
            "align_items": null,
            "bottom": null,
            "_model_module": "@jupyter-widgets/base",
            "top": null,
            "grid_column": null,
            "overflow_y": null,
            "overflow_x": null,
            "grid_auto_flow": null,
            "grid_area": null,
            "grid_template_columns": null,
            "flex": null,
            "_model_name": "LayoutModel",
            "justify_items": null,
            "grid_row": null,
            "max_height": null,
            "align_content": null,
            "visibility": null,
            "align_self": null,
            "height": null,
            "min_height": null,
            "padding": null,
            "grid_auto_rows": null,
            "grid_gap": null,
            "max_width": null,
            "order": null,
            "_view_module_version": "1.2.0",
            "grid_template_areas": null,
            "object_position": null,
            "object_fit": null,
            "grid_auto_columns": null,
            "margin": null,
            "display": null,
            "left": null
          }
        },
        "488e90030d154e26a1969023dd353911": {
          "model_module": "@jupyter-widgets/controls",
          "model_name": "HBoxModel",
          "model_module_version": "1.5.0",
          "state": {
            "_view_name": "HBoxView",
            "_dom_classes": [],
            "_model_name": "HBoxModel",
            "_view_module": "@jupyter-widgets/controls",
            "_model_module_version": "1.5.0",
            "_view_count": null,
            "_view_module_version": "1.5.0",
            "box_style": "",
            "layout": "IPY_MODEL_acdfbf6099e4492f91e46bafd7bbcefc",
            "_model_module": "@jupyter-widgets/controls",
            "children": [
              "IPY_MODEL_9ab2bc3e7b724f5ca73b615c7dac5517",
              "IPY_MODEL_413002146627422b85eb1fb05044b232",
              "IPY_MODEL_caa615324d29439fa4679e1ed9924868"
            ]
          }
        },
        "acdfbf6099e4492f91e46bafd7bbcefc": {
          "model_module": "@jupyter-widgets/base",
          "model_name": "LayoutModel",
          "model_module_version": "1.2.0",
          "state": {
            "_view_name": "LayoutView",
            "grid_template_rows": null,
            "right": null,
            "justify_content": null,
            "_view_module": "@jupyter-widgets/base",
            "overflow": null,
            "_model_module_version": "1.2.0",
            "_view_count": null,
            "flex_flow": null,
            "width": null,
            "min_width": null,
            "border": null,
            "align_items": null,
            "bottom": null,
            "_model_module": "@jupyter-widgets/base",
            "top": null,
            "grid_column": null,
            "overflow_y": null,
            "overflow_x": null,
            "grid_auto_flow": null,
            "grid_area": null,
            "grid_template_columns": null,
            "flex": null,
            "_model_name": "LayoutModel",
            "justify_items": null,
            "grid_row": null,
            "max_height": null,
            "align_content": null,
            "visibility": null,
            "align_self": null,
            "height": null,
            "min_height": null,
            "padding": null,
            "grid_auto_rows": null,
            "grid_gap": null,
            "max_width": null,
            "order": null,
            "_view_module_version": "1.2.0",
            "grid_template_areas": null,
            "object_position": null,
            "object_fit": null,
            "grid_auto_columns": null,
            "margin": null,
            "display": null,
            "left": null
          }
        },
        "9ab2bc3e7b724f5ca73b615c7dac5517": {
          "model_module": "@jupyter-widgets/controls",
          "model_name": "HTMLModel",
          "model_module_version": "1.5.0",
          "state": {
            "_view_name": "HTMLView",
            "style": "IPY_MODEL_11bfe391ada847578e4d54ecd8697ea3",
            "_dom_classes": [],
            "description": "",
            "_model_name": "HTMLModel",
            "placeholder": "​",
            "_view_module": "@jupyter-widgets/controls",
            "_model_module_version": "1.5.0",
            "value": "100%",
            "_view_count": null,
            "_view_module_version": "1.5.0",
            "description_tooltip": null,
            "_model_module": "@jupyter-widgets/controls",
            "layout": "IPY_MODEL_5e156fd13e9e4674b72cf52074fa4d59"
          }
        },
        "413002146627422b85eb1fb05044b232": {
          "model_module": "@jupyter-widgets/controls",
          "model_name": "FloatProgressModel",
          "model_module_version": "1.5.0",
          "state": {
            "_view_name": "ProgressView",
            "style": "IPY_MODEL_e7cc5d550b8c49cf98134cb4afa21ae7",
            "_dom_classes": [],
            "description": "",
            "_model_name": "FloatProgressModel",
            "bar_style": "danger",
            "max": 1803,
            "_view_module": "@jupyter-widgets/controls",
            "_model_module_version": "1.5.0",
            "value": 1802,
            "_view_count": null,
            "_view_module_version": "1.5.0",
            "orientation": "horizontal",
            "min": 0,
            "description_tooltip": null,
            "_model_module": "@jupyter-widgets/controls",
            "layout": "IPY_MODEL_355b7065595e4207b4bfacf1b338f4d9"
          }
        },
        "caa615324d29439fa4679e1ed9924868": {
          "model_module": "@jupyter-widgets/controls",
          "model_name": "HTMLModel",
          "model_module_version": "1.5.0",
          "state": {
            "_view_name": "HTMLView",
            "style": "IPY_MODEL_accdfe5886144bcb81d54dd81879446b",
            "_dom_classes": [],
            "description": "",
            "_model_name": "HTMLModel",
            "placeholder": "​",
            "_view_module": "@jupyter-widgets/controls",
            "_model_module_version": "1.5.0",
            "value": " 1802/1803 [00:00&lt;00:00, 28509.54 examples/s]",
            "_view_count": null,
            "_view_module_version": "1.5.0",
            "description_tooltip": null,
            "_model_module": "@jupyter-widgets/controls",
            "layout": "IPY_MODEL_eb14e7fd736b45199d0b55462817c72f"
          }
        },
        "11bfe391ada847578e4d54ecd8697ea3": {
          "model_module": "@jupyter-widgets/controls",
          "model_name": "DescriptionStyleModel",
          "model_module_version": "1.5.0",
          "state": {
            "_view_name": "StyleView",
            "_model_name": "DescriptionStyleModel",
            "description_width": "",
            "_view_module": "@jupyter-widgets/base",
            "_model_module_version": "1.5.0",
            "_view_count": null,
            "_view_module_version": "1.2.0",
            "_model_module": "@jupyter-widgets/controls"
          }
        },
        "5e156fd13e9e4674b72cf52074fa4d59": {
          "model_module": "@jupyter-widgets/base",
          "model_name": "LayoutModel",
          "model_module_version": "1.2.0",
          "state": {
            "_view_name": "LayoutView",
            "grid_template_rows": null,
            "right": null,
            "justify_content": null,
            "_view_module": "@jupyter-widgets/base",
            "overflow": null,
            "_model_module_version": "1.2.0",
            "_view_count": null,
            "flex_flow": null,
            "width": null,
            "min_width": null,
            "border": null,
            "align_items": null,
            "bottom": null,
            "_model_module": "@jupyter-widgets/base",
            "top": null,
            "grid_column": null,
            "overflow_y": null,
            "overflow_x": null,
            "grid_auto_flow": null,
            "grid_area": null,
            "grid_template_columns": null,
            "flex": null,
            "_model_name": "LayoutModel",
            "justify_items": null,
            "grid_row": null,
            "max_height": null,
            "align_content": null,
            "visibility": null,
            "align_self": null,
            "height": null,
            "min_height": null,
            "padding": null,
            "grid_auto_rows": null,
            "grid_gap": null,
            "max_width": null,
            "order": null,
            "_view_module_version": "1.2.0",
            "grid_template_areas": null,
            "object_position": null,
            "object_fit": null,
            "grid_auto_columns": null,
            "margin": null,
            "display": null,
            "left": null
          }
        },
        "e7cc5d550b8c49cf98134cb4afa21ae7": {
          "model_module": "@jupyter-widgets/controls",
          "model_name": "ProgressStyleModel",
          "model_module_version": "1.5.0",
          "state": {
            "_view_name": "StyleView",
            "_model_name": "ProgressStyleModel",
            "description_width": "",
            "_view_module": "@jupyter-widgets/base",
            "_model_module_version": "1.5.0",
            "_view_count": null,
            "_view_module_version": "1.2.0",
            "bar_color": null,
            "_model_module": "@jupyter-widgets/controls"
          }
        },
        "355b7065595e4207b4bfacf1b338f4d9": {
          "model_module": "@jupyter-widgets/base",
          "model_name": "LayoutModel",
          "model_module_version": "1.2.0",
          "state": {
            "_view_name": "LayoutView",
            "grid_template_rows": null,
            "right": null,
            "justify_content": null,
            "_view_module": "@jupyter-widgets/base",
            "overflow": null,
            "_model_module_version": "1.2.0",
            "_view_count": null,
            "flex_flow": null,
            "width": null,
            "min_width": null,
            "border": null,
            "align_items": null,
            "bottom": null,
            "_model_module": "@jupyter-widgets/base",
            "top": null,
            "grid_column": null,
            "overflow_y": null,
            "overflow_x": null,
            "grid_auto_flow": null,
            "grid_area": null,
            "grid_template_columns": null,
            "flex": null,
            "_model_name": "LayoutModel",
            "justify_items": null,
            "grid_row": null,
            "max_height": null,
            "align_content": null,
            "visibility": null,
            "align_self": null,
            "height": null,
            "min_height": null,
            "padding": null,
            "grid_auto_rows": null,
            "grid_gap": null,
            "max_width": null,
            "order": null,
            "_view_module_version": "1.2.0",
            "grid_template_areas": null,
            "object_position": null,
            "object_fit": null,
            "grid_auto_columns": null,
            "margin": null,
            "display": null,
            "left": null
          }
        },
        "accdfe5886144bcb81d54dd81879446b": {
          "model_module": "@jupyter-widgets/controls",
          "model_name": "DescriptionStyleModel",
          "model_module_version": "1.5.0",
          "state": {
            "_view_name": "StyleView",
            "_model_name": "DescriptionStyleModel",
            "description_width": "",
            "_view_module": "@jupyter-widgets/base",
            "_model_module_version": "1.5.0",
            "_view_count": null,
            "_view_module_version": "1.2.0",
            "_model_module": "@jupyter-widgets/controls"
          }
        },
        "eb14e7fd736b45199d0b55462817c72f": {
          "model_module": "@jupyter-widgets/base",
          "model_name": "LayoutModel",
          "model_module_version": "1.2.0",
          "state": {
            "_view_name": "LayoutView",
            "grid_template_rows": null,
            "right": null,
            "justify_content": null,
            "_view_module": "@jupyter-widgets/base",
            "overflow": null,
            "_model_module_version": "1.2.0",
            "_view_count": null,
            "flex_flow": null,
            "width": null,
            "min_width": null,
            "border": null,
            "align_items": null,
            "bottom": null,
            "_model_module": "@jupyter-widgets/base",
            "top": null,
            "grid_column": null,
            "overflow_y": null,
            "overflow_x": null,
            "grid_auto_flow": null,
            "grid_area": null,
            "grid_template_columns": null,
            "flex": null,
            "_model_name": "LayoutModel",
            "justify_items": null,
            "grid_row": null,
            "max_height": null,
            "align_content": null,
            "visibility": null,
            "align_self": null,
            "height": null,
            "min_height": null,
            "padding": null,
            "grid_auto_rows": null,
            "grid_gap": null,
            "max_width": null,
            "order": null,
            "_view_module_version": "1.2.0",
            "grid_template_areas": null,
            "object_position": null,
            "object_fit": null,
            "grid_auto_columns": null,
            "margin": null,
            "display": null,
            "left": null
          }
        }
      }
    }
  },
  "cells": [
    {
      "cell_type": "markdown",
      "source": [
        "Тестирование различных конфигураций трансформера для задачи перевода текста с русского на английский"
      ],
      "metadata": {
        "id": "LoqjXlED5YAI"
      }
    },
    {
      "cell_type": "markdown",
      "source": [
        "# Задание Lite"
      ],
      "metadata": {
        "id": "U1FogRpvd3Ht"
      }
    },
    {
      "cell_type": "markdown",
      "metadata": {
        "id": "W8U5wv0QAKZx"
      },
      "source": [
        "Взяв за основу практический ноутбук занятия, восстановите архитектуру трансформера и обучите модель на той же базе данных.\n",
        "\n",
        "Попробуйте обучить трансформер на 15 эпохах с количеством голов:\n",
        "* num_heads = 1\n",
        "* num_heads = 4\n",
        "* num_heads = 8\n",
        "\n",
        "Сравните результаты работы трансформеров с разным количеством голов и напишите выводы."
      ]
    },
    {
      "cell_type": "code",
      "source": [
        "# Ваше решение\n"
      ],
      "metadata": {
        "id": "FHG6QJwljDbZ"
      },
      "execution_count": null,
      "outputs": []
    },
    {
      "cell_type": "code",
      "source": [],
      "metadata": {
        "id": "MGT8KHeBmXvL"
      },
      "execution_count": null,
      "outputs": []
    },
    {
      "cell_type": "code",
      "metadata": {
        "id": "pJDFVpe9rAYP"
      },
      "source": [
        "# датасет от tensorfolw, перевод португальских фраз на английский\n",
        "import tensorflow_datasets as tfds \n",
        "\n",
        "# tensorflow\n",
        "import tensorflow as tf \n",
        "\n",
        "# модуль отвечает за время и обработку временнЫх переменных\n",
        "import time \n",
        "\n",
        "# numpy\n",
        "import numpy as np \n",
        "\n",
        "# для отрисовки картинок в колабе\n",
        "import matplotlib.pyplot as plt "
      ],
      "execution_count": null,
      "outputs": []
    },
    {
      "cell_type": "code",
      "metadata": {
        "colab": {
          "base_uri": "https://localhost:8080/",
          "height": 347,
          "referenced_widgets": [
            "96e7eb82533f454e985919e09c24c096",
            "981c1c8a8031477bbde1a9dfa941a809",
            "75cf8bccab654fd59a4f3d4b2caa3fe0",
            "daefeccdb2e44ed9b17ff14588deca17",
            "96adf39dc54345d79af758b36a31b358",
            "1ec34ae3a6284f36a9989e24ebf451c0",
            "8b528cbd7d2d4515bf113a6e09156857",
            "a297361b49c048ada588e335252ffeb9",
            "4eb2fb8e093f4b14816fe8b960af0fb5",
            "12416f4c728c44489bc4df32ceea1e76",
            "2d3ad73199554e5ebef8c3ec18e9d423",
            "ef36248d8ba541b89bac2758df78693e",
            "af3d1a732cd44255a166f53cd6766954",
            "dfda97ba950e4989ab39762534a7953b",
            "f0d2a7d70a9440059d418567f9116256",
            "d34b7487c65945e8a269294bcdb39c8c",
            "505a826693b44978bf40d65203325c0f",
            "a48c0ed5469d4d5da95dcfa19e7f05a3",
            "0e15e928b8ec4d109abaeedf3772f160",
            "8f2f475f2a0f4760a41dbb3d397181d0",
            "7ee8322369da401f8a9c69b762bd5460",
            "e08c14cc06644dd2a5f204f698e4fec3",
            "6371deeafed246e5aebc34d6c2a8db01",
            "c07a4846fde74970b9fbbfea5a8cd039",
            "68364636da314319bc987bdf5ce2658b",
            "5646f64f45034b7292bd4a658018bbab",
            "387f94857e674e03a4fdd6299efdc63f",
            "e7fac6a3476f442487f092a243cfd7b4",
            "d9672e92712a4596b45c843f784b6fc2",
            "8eb92df4124446d781117cb063154f44",
            "bf8be13e50454ff19c15df4771fa3c36",
            "6841bd8f069f4be6821bf3958a445183",
            "d6eb9739983747d2b05cd69f93c67399",
            "ac30063b75d449ca90a686400bcb8038",
            "d58586a96cb1427f8fe772489bfe84f3",
            "fbaa73dd7e12430d8c5601d00a901037",
            "c18a0c6f3d034f6caa0d233d1943f3ac",
            "2cfe8723ffa34816a7cfedd2c51ff2c7",
            "50555634c9bc418a8287037579ff1d52",
            "0b13a5bb075f44f4ae76b6cd40d3aad6",
            "8d76523ce2b945a5a8ac4c4e2a696d33",
            "8cacc8c3962844da842795e593534271",
            "c914f0c05fea48d78db720b58bcb08ff",
            "155df14668e54a27a056dc0d153bec27",
            "64ed9469456e49928100ce858880362e",
            "30632cbbff1b415aab49f2461bbbe098",
            "512b362070154b6eb946f7d7383fa3b5",
            "3667efeb809f41e69b3989558605d426",
            "49d1a0b55c9e46dda6a0596c8a5ae2cc",
            "63f22c800df5468eb53ae3f41be80c89",
            "01a9a4e8bd6540a8ad394c7ffd273646",
            "80b6e6cb30824f2a9001652b9d8f4f8a",
            "4bb084b02d0b4b72a0a92283edffa8f8",
            "ca26fd61c03b4f6c96ad7cbb93be554f",
            "ee6a06f2b6af4d7384d7194e2703ed40",
            "cf1b876fcc544c2f940b08edfab20a97",
            "fb3aa10b82e949e6a43ee561687fb7bd",
            "10762b42e5f84d9498336a6eb5a1e9c9",
            "f78c1ae8e33a46ebbf278583c8d2d634",
            "ab7b2d13f41e42b28ba88fd113745f2b",
            "0d6061cbbeb44a1ab1007efea0b7a6f5",
            "7a55a6d3834e4cf0ad0547882971394b",
            "8688a87bafdd400d97080ddc34bc560b",
            "9357df4d476543669a9b28b21b1ec663",
            "c5c5f13df43d49449cdcaf03bc483aad",
            "3e2bfc77473148d1b1d0851cd3ca7292",
            "86de3081ab364123900eaf1b52c83299",
            "9e57f81d0b7e436fadbbdae31204dbbd",
            "e5f82ac9128640208a7db29c24605e25",
            "d59cc1e4aaf8474c850d411a986f8739",
            "cee1905f5ce34a30bcfbd24a3728f8a6",
            "655b064fc4a549399d38ed8b6e12a836",
            "bd26e941893d435293bb508820706e71",
            "1341206c19274b85b49b5f7c2e09a474",
            "2be20e4c275c4bee871b409a234f67b0",
            "aa47eeb4873540b2a76a2a9b580d0161",
            "26e64ba9854746b899cdb426cfeca83b",
            "025c6e3740e846d3884911bd55454853",
            "ce0de98bc4424584951245ab7038e55e",
            "0573cb622c97476ea8e0f81f1ee8e48f",
            "a486133e7e8e48918d0b9d3a56fe157a",
            "3317ae2e784f4585ad04694c1b7725ee",
            "b733775d3a394e8db5c62e1356d4a7e8",
            "19e9fbfa20544f5598ca6221659c0de7",
            "6b1aab751173492ea51c07866fc4a15a",
            "60b5d47c0d0b4167bf72423a7d3523b2",
            "9019c3cb03834da7b5369c4cab667a89",
            "5245cf8d5b3740b083441c3915f96be1",
            "488e90030d154e26a1969023dd353911",
            "acdfbf6099e4492f91e46bafd7bbcefc",
            "9ab2bc3e7b724f5ca73b615c7dac5517",
            "413002146627422b85eb1fb05044b232",
            "caa615324d29439fa4679e1ed9924868",
            "11bfe391ada847578e4d54ecd8697ea3",
            "5e156fd13e9e4674b72cf52074fa4d59",
            "e7cc5d550b8c49cf98134cb4afa21ae7",
            "355b7065595e4207b4bfacf1b338f4d9",
            "accdfe5886144bcb81d54dd81879446b",
            "eb14e7fd736b45199d0b55462817c72f"
          ]
        },
        "id": "dhnpa99mrGQL",
        "outputId": "5a49bb7a-ba49-4acf-8fb5-b3bf1f311543"
      },
      "source": [
        "examples, metadata = tfds.load('ted_hrlr_translate/pt_to_en', \n",
        "                               with_info=True, \n",
        "                               as_supervised=True)\n",
        "\n",
        "# разделяем на обучающую и тестовую выборки\n",
        "train_examples, val_examples = examples['train'], examples['validation'] "
      ],
      "execution_count": null,
      "outputs": [
        {
          "output_type": "stream",
          "name": "stdout",
          "text": [
            "\u001b[1mDownloading and preparing dataset ted_hrlr_translate/pt_to_en/1.0.0 (download: 124.94 MiB, generated: Unknown size, total: 124.94 MiB) to /root/tensorflow_datasets/ted_hrlr_translate/pt_to_en/1.0.0...\u001b[0m\n"
          ]
        },
        {
          "output_type": "display_data",
          "data": {
            "application/vnd.jupyter.widget-view+json": {
              "model_id": "96e7eb82533f454e985919e09c24c096",
              "version_minor": 0,
              "version_major": 2
            },
            "text/plain": [
              "Dl Completed...: 0 url [00:00, ? url/s]"
            ]
          },
          "metadata": {}
        },
        {
          "output_type": "display_data",
          "data": {
            "application/vnd.jupyter.widget-view+json": {
              "model_id": "ef36248d8ba541b89bac2758df78693e",
              "version_minor": 0,
              "version_major": 2
            },
            "text/plain": [
              "Dl Size...: 0 MiB [00:00, ? MiB/s]"
            ]
          },
          "metadata": {}
        },
        {
          "output_type": "display_data",
          "data": {
            "application/vnd.jupyter.widget-view+json": {
              "model_id": "6371deeafed246e5aebc34d6c2a8db01",
              "version_minor": 0,
              "version_major": 2
            },
            "text/plain": [
              "Extraction completed...: 0 file [00:00, ? file/s]"
            ]
          },
          "metadata": {}
        },
        {
          "output_type": "stream",
          "name": "stdout",
          "text": [
            "\n",
            "\n",
            "\n"
          ]
        },
        {
          "output_type": "display_data",
          "data": {
            "application/vnd.jupyter.widget-view+json": {
              "model_id": "ac30063b75d449ca90a686400bcb8038",
              "version_minor": 0,
              "version_major": 2
            },
            "text/plain": [
              "0 examples [00:00, ? examples/s]"
            ]
          },
          "metadata": {}
        },
        {
          "output_type": "stream",
          "name": "stdout",
          "text": [
            "Shuffling and writing examples to /root/tensorflow_datasets/ted_hrlr_translate/pt_to_en/1.0.0.incompleteVQDB92/ted_hrlr_translate-train.tfrecord\n"
          ]
        },
        {
          "output_type": "display_data",
          "data": {
            "application/vnd.jupyter.widget-view+json": {
              "model_id": "64ed9469456e49928100ce858880362e",
              "version_minor": 0,
              "version_major": 2
            },
            "text/plain": [
              "  0%|          | 0/51785 [00:00<?, ? examples/s]"
            ]
          },
          "metadata": {}
        },
        {
          "output_type": "display_data",
          "data": {
            "application/vnd.jupyter.widget-view+json": {
              "model_id": "cf1b876fcc544c2f940b08edfab20a97",
              "version_minor": 0,
              "version_major": 2
            },
            "text/plain": [
              "0 examples [00:00, ? examples/s]"
            ]
          },
          "metadata": {}
        },
        {
          "output_type": "stream",
          "name": "stdout",
          "text": [
            "Shuffling and writing examples to /root/tensorflow_datasets/ted_hrlr_translate/pt_to_en/1.0.0.incompleteVQDB92/ted_hrlr_translate-validation.tfrecord\n"
          ]
        },
        {
          "output_type": "display_data",
          "data": {
            "application/vnd.jupyter.widget-view+json": {
              "model_id": "86de3081ab364123900eaf1b52c83299",
              "version_minor": 0,
              "version_major": 2
            },
            "text/plain": [
              "  0%|          | 0/1193 [00:00<?, ? examples/s]"
            ]
          },
          "metadata": {}
        },
        {
          "output_type": "display_data",
          "data": {
            "application/vnd.jupyter.widget-view+json": {
              "model_id": "025c6e3740e846d3884911bd55454853",
              "version_minor": 0,
              "version_major": 2
            },
            "text/plain": [
              "0 examples [00:00, ? examples/s]"
            ]
          },
          "metadata": {}
        },
        {
          "output_type": "stream",
          "name": "stdout",
          "text": [
            "Shuffling and writing examples to /root/tensorflow_datasets/ted_hrlr_translate/pt_to_en/1.0.0.incompleteVQDB92/ted_hrlr_translate-test.tfrecord\n"
          ]
        },
        {
          "output_type": "display_data",
          "data": {
            "application/vnd.jupyter.widget-view+json": {
              "model_id": "488e90030d154e26a1969023dd353911",
              "version_minor": 0,
              "version_major": 2
            },
            "text/plain": [
              "  0%|          | 0/1803 [00:00<?, ? examples/s]"
            ]
          },
          "metadata": {}
        },
        {
          "output_type": "stream",
          "name": "stdout",
          "text": [
            "\u001b[1mDataset ted_hrlr_translate downloaded and prepared to /root/tensorflow_datasets/ted_hrlr_translate/pt_to_en/1.0.0. Subsequent calls will reuse this data.\u001b[0m\n"
          ]
        }
      ]
    },
    {
      "cell_type": "code",
      "source": [
        "print(type(train_examples))\n",
        "ex1, ex2 = train_examples.take(2)\n",
        "pt, en = ex1\n",
        "print(str(pt),str(en))"
      ],
      "metadata": {
        "colab": {
          "base_uri": "https://localhost:8080/"
        },
        "id": "XqRGHFryqRfp",
        "outputId": "9e37edf6-2449-4434-cc45-6d4241b7d20f"
      },
      "execution_count": null,
      "outputs": [
        {
          "output_type": "stream",
          "name": "stdout",
          "text": [
            "<class 'tensorflow.python.data.ops.dataset_ops.PrefetchDataset'>\n",
            "tf.Tensor(b'e quando melhoramos a procura , tiramos a \\xc3\\xbanica vantagem da impress\\xc3\\xa3o , que \\xc3\\xa9 a serendipidade .', shape=(), dtype=string) tf.Tensor(b'and when you improve searchability , you actually take away the one advantage of print , which is serendipity .', shape=(), dtype=string)\n"
          ]
        }
      ]
    },
    {
      "cell_type": "code",
      "metadata": {
        "colab": {
          "base_uri": "https://localhost:8080/"
        },
        "id": "aEIyigMAuVbh",
        "outputId": "a6152731-b920-45a1-df3b-76b6e90ffb05"
      },
      "source": [
        "[pt.numpy() for pt, en in train_examples.take(10)]\n"
      ],
      "execution_count": null,
      "outputs": [
        {
          "output_type": "execute_result",
          "data": {
            "text/plain": [
              "[b'e quando melhoramos a procura , tiramos a \\xc3\\xbanica vantagem da impress\\xc3\\xa3o , que \\xc3\\xa9 a serendipidade .',\n",
              " b'mas e se estes fatores fossem ativos ?',\n",
              " b'mas eles n\\xc3\\xa3o tinham a curiosidade de me testar .',\n",
              " b'e esta rebeldia consciente \\xc3\\xa9 a raz\\xc3\\xa3o pela qual eu , como agn\\xc3\\xb3stica , posso ainda ter f\\xc3\\xa9 .',\n",
              " b\"`` `` '' podem usar tudo sobre a mesa no meu corpo . ''\",\n",
              " b\"`` eu escrevo muito acerca do `` '' teatro de seguran\\xc3\\xa7a '' '' , que s\\xc3\\xa3o produtos que fazem as pessoas sentirem-se seguras mas que , na realidade , n\\xc3\\xa3o fazem nada . ''\",\n",
              " b'colocaram-no bem no fundo duma mina de ferro no minnesota , nos \\xc3\\xbaltimos dois dias anunciaram os resultados mais sens\\xc3\\xadveis at\\xc3\\xa9 agora .',\n",
              " b'algumas pessoas t\\xc3\\xaam medo de que n\\xc3\\xa3o gostem delas .',\n",
              " b'n\\xc3\\xa3o , o que nos aconteceu , chris , \\xc3\\xa9 que o poder , o pre\\xc3\\xa7o est\\xc3\\xa1 fixado fora da margem .',\n",
              " b'de volta \\xc3\\xa0 minha pergunta : porque \\xc3\\xa9 que fiquei ?']"
            ]
          },
          "metadata": {},
          "execution_count": 4
        }
      ]
    },
    {
      "cell_type": "code",
      "source": [
        "[en.numpy() for pt, en in train_examples.take(10)]"
      ],
      "metadata": {
        "colab": {
          "base_uri": "https://localhost:8080/"
        },
        "id": "FRmurCEGr7Ua",
        "outputId": "ac955a61-6cb1-4162-b630-8585a6c18f4e"
      },
      "execution_count": null,
      "outputs": [
        {
          "output_type": "execute_result",
          "data": {
            "text/plain": [
              "[b'and when you improve searchability , you actually take away the one advantage of print , which is serendipity .',\n",
              " b'but what if it were active ?',\n",
              " b\"but they did n't test for curiosity .\",\n",
              " b'and this conscious defiance is why i , as an agnostic , can still have faith .',\n",
              " b'you can use everything on the table on me .',\n",
              " b\"`` i write a lot about `` '' security theater , '' '' which are products that make people feel secure , but do n't actually do anything . ''\",\n",
              " b\"and they 've put it deep down in an iron mine in minnesota , ok , deep under the ground , and in fact , in the last couple of days announced the most sensitive results so far .\",\n",
              " b'see , some people might fear girls not liking them back .',\n",
              " b\"no , what happened to us , chris , is that power , it 's priced off the margin .\",\n",
              " b'back to my question : why did i stay ?']"
            ]
          },
          "metadata": {},
          "execution_count": 5
        }
      ]
    },
    {
      "cell_type": "code",
      "metadata": {
        "id": "QuMdZXj8rJMd"
      },
      "source": [
        "tokenizer_en = tfds.deprecated.text.SubwordTextEncoder.build_from_corpus(\n",
        "    (en.numpy() for pt, en in train_examples), target_vocab_size=2**13)\n",
        "\n",
        "tokenizer_pt = tfds.deprecated.text.SubwordTextEncoder.build_from_corpus(\n",
        "    (pt.numpy() for pt, en in train_examples), target_vocab_size=2**13)"
      ],
      "execution_count": null,
      "outputs": []
    },
    {
      "cell_type": "code",
      "metadata": {
        "colab": {
          "base_uri": "https://localhost:8080/"
        },
        "id": "KFRgBQrNrLfr",
        "outputId": "5b1bfc9d-892f-4325-c300-86fa205b2487"
      },
      "source": [
        "# тестовая фраза\n",
        "sample_string = 'cuanto cuesta la manzana?'#'Transformer is complicated.' \n",
        "\n",
        "# перегоним слова в токены\n",
        "tokenized_string = tokenizer_pt.encode(sample_string) \n",
        "print ('Tokenized string is {}'.format(tokenized_string))\n",
        "\n",
        "# перегоним токены обратно в слова\n",
        "original_string = tokenizer_pt.decode(tokenized_string) \n",
        "print ('The original string: {}'.format(original_string))\n",
        "\n",
        "# распишем какой токен чему соответсвует\n",
        "for ts in tokenized_string:\n",
        "  print ('{} ----> {}'.format(ts, tokenizer_pt.decode([ts]))) \n",
        "\n",
        "# а точно исходная фраза соответствует дважды перекодированной?\n",
        "assert original_string == sample_string "
      ],
      "execution_count": null,
      "outputs": [
        {
          "output_type": "stream",
          "name": "stdout",
          "text": [
            "Tokenized string is [741, 7932, 7990, 741, 54, 338, 477, 2792, 8055, 8021]\n",
            "The original string: cuanto cuesta la manzana?\n",
            "741 ----> cu\n",
            "7932 ----> anto\n",
            "7990 ---->  \n",
            "741 ----> cu\n",
            "54 ----> esta \n",
            "338 ----> la \n",
            "477 ----> man\n",
            "2792 ----> zan\n",
            "8055 ----> a\n",
            "8021 ----> ?\n"
          ]
        }
      ]
    },
    {
      "cell_type": "code",
      "source": [
        "print(tokenizer_pt.vocab_size)\n",
        "print(tokenizer_en.vocab_size)"
      ],
      "metadata": {
        "colab": {
          "base_uri": "https://localhost:8080/"
        },
        "id": "4KkebTmkuKkY",
        "outputId": "005f8670-ad98-4c2e-9e06-82012587b950"
      },
      "execution_count": null,
      "outputs": [
        {
          "output_type": "stream",
          "name": "stdout",
          "text": [
            "8214\n",
            "8087\n"
          ]
        }
      ]
    },
    {
      "cell_type": "code",
      "metadata": {
        "id": "m7krXaWGrO2e"
      },
      "source": [
        "def encode(lang1, lang2):\n",
        "  lang1 = [tokenizer_pt.vocab_size] + tokenizer_pt.encode(\n",
        "      lang1.numpy()) + [tokenizer_pt.vocab_size+1]\n",
        "\n",
        "  lang2 = [tokenizer_en.vocab_size] + tokenizer_en.encode(\n",
        "      lang2.numpy()) + [tokenizer_en.vocab_size+1]\n",
        "  \n",
        "  return lang1, lang2"
      ],
      "execution_count": null,
      "outputs": []
    },
    {
      "cell_type": "code",
      "metadata": {
        "id": "zjhbAUSKrRND"
      },
      "source": [
        "def tf_encode(pt, en):\n",
        "  result_pt, result_en = tf.py_function(encode, [pt, en], [tf.int64, tf.int64])\n",
        "  result_pt.set_shape([None])\n",
        "  result_en.set_shape([None])\n",
        "\n",
        "  return result_pt, result_en"
      ],
      "execution_count": null,
      "outputs": []
    },
    {
      "cell_type": "code",
      "metadata": {
        "id": "kgtx_YZRrUT0"
      },
      "source": [
        "# размер буффеа в памяти при приготовления датасета\n",
        "BUFFER_SIZE = 20000 \n",
        "\n",
        "# размер батча\n",
        "BATCH_SIZE = 64  \n",
        "\n",
        "# ограничим максимальную длину фразу\n",
        "MAX_LENGTH = 40  "
      ],
      "execution_count": null,
      "outputs": []
    },
    {
      "cell_type": "code",
      "metadata": {
        "id": "Kr17q_wOrZyU"
      },
      "source": [
        "def filter_max_length(x, y, max_length=MAX_LENGTH):\n",
        "    \n",
        "  return tf.logical_and(tf.size(x) <= max_length, # вернем маску, она уберет впоследствии длииные фразы\n",
        "                        tf.size(y) <= max_length)"
      ],
      "execution_count": null,
      "outputs": []
    },
    {
      "cell_type": "code",
      "source": [
        "ex1=train_examples.take(1)\n",
        "print(ex1.batch(1))"
      ],
      "metadata": {
        "colab": {
          "base_uri": "https://localhost:8080/"
        },
        "id": "XnEAxJKKvfCm",
        "outputId": "f6ab481f-45eb-4cc3-a48f-2be7c79cfc30"
      },
      "execution_count": null,
      "outputs": [
        {
          "output_type": "stream",
          "name": "stdout",
          "text": [
            "<BatchDataset shapes: ((None,), (None,)), types: (tf.string, tf.string)>\n"
          ]
        }
      ]
    },
    {
      "cell_type": "code",
      "metadata": {
        "id": "v_Zp7UhVrcCj"
      },
      "source": [
        "# Прогоняем тектсы через токенайзер\n",
        "train_dataset = train_examples.map(tf_encode) \n",
        "\n",
        "# Убираем длинные фразу\n",
        "train_dataset = train_dataset.filter(filter_max_length) \n",
        "\n",
        "# cache the dataset to memory to get a speedup while reading from it.\n",
        "\n",
        "# Грузим в память\n",
        "train_dataset = train_dataset.cache() \n",
        "\n",
        "# Делим на батчи и перемешиваем\n",
        "train_dataset = train_dataset.shuffle(BUFFER_SIZE).padded_batch(BATCH_SIZE) \n",
        "\n",
        "# Кешируем датасет\n",
        "train_dataset = train_dataset.prefetch(tf.data.experimental.AUTOTUNE) \n",
        "\n",
        "val_dataset = val_examples.map(tf_encode)\n",
        "val_dataset = val_dataset.filter(filter_max_length).padded_batch(BATCH_SIZE)"
      ],
      "execution_count": null,
      "outputs": []
    },
    {
      "cell_type": "code",
      "metadata": {
        "colab": {
          "base_uri": "https://localhost:8080/"
        },
        "id": "Eu9XDBbXrd_f",
        "outputId": "ee2a241c-b1cd-402e-c894-04c684796a91"
      },
      "source": [
        "pt_batch, en_batch = next(iter(val_dataset))\n",
        "\n",
        "pt_batch, en_batch"
      ],
      "execution_count": null,
      "outputs": [
        {
          "output_type": "execute_result",
          "data": {
            "text/plain": [
              "(<tf.Tensor: shape=(64, 38), dtype=int64, numpy=\n",
              " array([[8214,  342, 3032, ...,    0,    0,    0],\n",
              "        [8214,   95,  198, ...,    0,    0,    0],\n",
              "        [8214, 4479, 7990, ...,    0,    0,    0],\n",
              "        ...,\n",
              "        [8214,  584,   12, ...,    0,    0,    0],\n",
              "        [8214,   59, 1548, ...,    0,    0,    0],\n",
              "        [8214,  118,   34, ...,    0,    0,    0]])>,\n",
              " <tf.Tensor: shape=(64, 40), dtype=int64, numpy=\n",
              " array([[8087,   98,   25, ...,    0,    0,    0],\n",
              "        [8087,   12,   20, ...,    0,    0,    0],\n",
              "        [8087,   12, 5453, ...,    0,    0,    0],\n",
              "        ...,\n",
              "        [8087,   18, 2059, ...,    0,    0,    0],\n",
              "        [8087,   16, 1436, ...,    0,    0,    0],\n",
              "        [8087,   15,   57, ...,    0,    0,    0]])>)"
            ]
          },
          "metadata": {},
          "execution_count": 15
        }
      ]
    },
    {
      "cell_type": "code",
      "metadata": {
        "id": "JrZ906UOrgFh"
      },
      "source": [
        "def get_angles(pos, i, d_model):\n",
        "    \n",
        "  angle_rates = 1 / np.power(10000, (2 * (i//2)) / np.float32(d_model))\n",
        "  return pos * angle_rates"
      ],
      "execution_count": null,
      "outputs": []
    },
    {
      "cell_type": "code",
      "source": [
        "print(np.sin(get_angles(0,np.arange(10),10)))\n",
        "print(np.sin(get_angles(1,np.arange(10),10)))\n",
        "print(np.sin(get_angles(2,np.arange(10),10)))\n",
        "print(np.sin(get_angles(3,np.arange(10),10)))\n"
      ],
      "metadata": {
        "colab": {
          "base_uri": "https://localhost:8080/"
        },
        "id": "E7QtZGKK123u",
        "outputId": "a9c11314-406d-48f9-e5c2-39fa417b29c7"
      },
      "execution_count": null,
      "outputs": [
        {
          "output_type": "stream",
          "name": "stdout",
          "text": [
            "[0. 0. 0. 0. 0. 0. 0. 0. 0. 0.]\n",
            "[8.41470985e-01 8.41470985e-01 1.57826640e-01 1.57826640e-01\n",
            " 2.51162229e-02 2.51162229e-02 3.98106119e-03 3.98106119e-03\n",
            " 6.30957303e-04 6.30957303e-04]\n",
            "[0.90929743 0.90929743 0.31169715 0.31169715 0.0502166  0.0502166\n",
            " 0.00796206 0.00796206 0.00126191 0.00126191]\n",
            "[0.14112001 0.14112001 0.45775455 0.45775455 0.07528529 0.07528529\n",
            " 0.01194293 0.01194293 0.00189287 0.00189287]\n"
          ]
        }
      ]
    },
    {
      "cell_type": "code",
      "metadata": {
        "id": "lRNOsOpQriI1"
      },
      "source": [
        "def positional_encoding(position, d_model):\n",
        "  angle_rads = get_angles(np.arange(position)[:, np.newaxis],\n",
        "                          np.arange(d_model)[np.newaxis, :],\n",
        "                          d_model)\n",
        "  \n",
        "  # apply sin to even indices in the array; 2i\n",
        "  angle_rads[:, 0::2] = np.sin(angle_rads[:, 0::2])\n",
        "  \n",
        "  # apply cos to odd indices in the array; 2i+1\n",
        "  angle_rads[:, 1::2] = np.cos(angle_rads[:, 1::2])\n",
        "    \n",
        "  pos_encoding = angle_rads[np.newaxis, ...]\n",
        "    \n",
        "  return tf.cast(pos_encoding, dtype=tf.float32)"
      ],
      "execution_count": null,
      "outputs": []
    },
    {
      "cell_type": "code",
      "metadata": {
        "colab": {
          "base_uri": "https://localhost:8080/",
          "height": 300
        },
        "id": "U1j5IJngrkVY",
        "outputId": "d31c4536-91c9-4f8e-bdbf-b60fbd272765"
      },
      "source": [
        "pos_encoding = positional_encoding(10, 100)\n",
        "print (pos_encoding.shape)\n",
        "\n",
        "plt.pcolormesh(pos_encoding[0], cmap='RdBu')\n",
        "plt.xlabel('Depth')\n",
        "plt.xlim((0, 100))\n",
        "plt.ylabel('Position')\n",
        "plt.colorbar()\n",
        "plt.show()"
      ],
      "execution_count": null,
      "outputs": [
        {
          "output_type": "stream",
          "name": "stdout",
          "text": [
            "(1, 10, 100)\n"
          ]
        },
        {
          "output_type": "display_data",
          "data": {
            "image/png": "[encoded data removed]",
            "text/plain": [
              "<Figure size 432x288 with 2 Axes>"
            ]
          },
          "metadata": {
            "needs_background": "light"
          }
        }
      ]
    },
    {
      "cell_type": "code",
      "source": [],
      "metadata": {
        "id": "61-R87U8mX1w"
      },
      "execution_count": null,
      "outputs": []
    },
    {
      "cell_type": "code",
      "metadata": {
        "id": "qjuiqQf7rvi7"
      },
      "source": [
        "class MultiHeadAttention(tf.keras.layers.Layer):\n",
        "\n",
        "  def __init__(self, d_model = 512, num_heads = 8, causal=False, dropout=0.0):\n",
        "\n",
        "    super(MultiHeadAttention, self).__init__()  # здесь все головы считаем паралелльно - поэтому attention пробегает и  по батчу и по числу голов\n",
        "\n",
        "    assert d_model % num_heads == 0 # проверим, что размерность головы - целое цисло\n",
        "    depth = d_model // num_heads    # размерность каждой головы внимания  =>>  multi-headed_depth = depth / num_heads\n",
        "                                    # заметим, что выходы голов конкатенируются, поэтому их размер в их число раз меньше.\n",
        "                                    # поэтому размерность выхода должно совпасть в размерностью входа\n",
        "\n",
        "    self.w_query = tf.keras.layers.Dense(d_model)                            # dense для Query  (batch_size , seq_length, depth) \n",
        "    self.split_reshape_query = tf.keras.layers.Reshape((-1,num_heads,depth)) # слой для решейпа query до  (batch_size , seq_length, num_heads, multi_headed_depth)  \n",
        "    self.split_permute_query = tf.keras.layers.Permute((2,1,3))              # слой для перестановки размерностей для использования Attention (batch_size , num_heads, seq_length, multi_headed_depth) \n",
        "\n",
        "    self.w_value = tf.keras.layers.Dense(d_model)\n",
        "    self.split_reshape_value = tf.keras.layers.Reshape((-1,num_heads,depth))\n",
        "    self.split_permute_value = tf.keras.layers.Permute((2,1,3))\n",
        "\n",
        "    self.w_key = tf.keras.layers.Dense(d_model)\n",
        "    self.split_reshape_key = tf.keras.layers.Reshape((-1,num_heads,depth))\n",
        "    self.split_permute_key = tf.keras.layers.Permute((2,1,3))\n",
        "\n",
        "    self.attention = tf.keras.layers.Attention(causal=causal, dropout=dropout) # прописывает слой Attention\n",
        "    self.join_permute_attention = tf.keras.layers.Permute((2,1,3))             # слой обратной перестановки размерностей\n",
        "    self.join_reshape_attention = tf.keras.layers.Reshape((-1,d_model))        # слой обратного решейпа до размернсти модели\n",
        "\n",
        "    self.dense = tf.keras.layers.Dense(d_model)\n",
        "\n",
        "  def call(self, inputs, mask=None, training=None): # основная рабочая функция\n",
        "\n",
        "    q = inputs[0]                           # вытащим входной вектор Query\n",
        "    v = inputs[1]                           # вытащим входной вектор Value\n",
        "    k = inputs[2] if len(inputs) > 2 else v # вытащим входной вектор Key\n",
        "\n",
        "    query = self.w_query(q)                   # прогоним через dense\n",
        "    query = self.split_reshape_query(query)   # решейпим\n",
        "    query = self.split_permute_query(query)   # переставляем размерность\n",
        "\n",
        "    value = self.w_value(v)                 # прогоним через dense\n",
        "    value = self.split_reshape_value(value) # решейпим\n",
        "    value = self.split_permute_value(value) # переставляем размерность\n",
        "\n",
        "    key = self.w_key(k)               # прогоним через dense\n",
        "    key = self.split_reshape_key(key) # решейпим\n",
        "    key = self.split_permute_key(key) # переставляем размерность\n",
        "\n",
        "    if mask is not None: # применим маску если есть \n",
        "\n",
        "      if mask[0] is not None:\n",
        "        mask[0] = tf.keras.layers.Reshape((-1,1))(mask[0])\n",
        "        mask[0] = tf.keras.layers.Permute((2,1))(mask[0])\n",
        "      \n",
        "      if mask[1] is not None:\n",
        "        mask[1] = tf.keras.layers.Reshape((-1,1))(mask[1])\n",
        "        mask[1] = tf.keras.layers.Permute((2,1))(mask[1])\n",
        "\n",
        "    attention = self.attention([query, value, key], mask=mask) # вычисляем векторо внимания\n",
        "    attention = self.join_permute_attention(attention)         # обратно перемешиваем размерности\n",
        "    attention = self.join_reshape_attention(attention)         # решейпим до (batch_size , seq_length, depth) \n",
        "\n",
        "    x = self.dense(attention) # выходной dense\n",
        "\n",
        "    return x"
      ],
      "execution_count": null,
      "outputs": []
    },
    {
      "cell_type": "code",
      "metadata": {
        "id": "I2EGJ0VHr9Tg"
      },
      "source": [
        "class EncoderLayer(tf.keras.layers.Layer): \n",
        "\n",
        "  def __init__(self,  d_model = 512, num_heads = 8, dff = 2048, dropout = 0.0):\n",
        "    super(EncoderLayer, self).__init__()\n",
        "\n",
        "    self.multi_head_attention =  MultiHeadAttention(d_model, num_heads)  # определим слой  MultiHeadAttention\n",
        "    self.dropout_attention = tf.keras.layers.Dropout(dropout)            # добавим дропаут\n",
        "    self.add_attention = tf.keras.layers.Add()                           # слой для получения resudial связи\n",
        "    self.layer_norm_attention = tf.keras.layers.LayerNormalization(epsilon=1e-6)  # слой нормализации\n",
        "\n",
        "    self.dense1 = tf.keras.layers.Dense(dff, activation='relu')               # первый dense в Feed Forward\n",
        "    self.dense2 = tf.keras.layers.Dense(d_model)                              # второй  dense в Feed Forward\n",
        "    self.dropout_dense = tf.keras.layers.Dropout(dropout)                     # добавим дропаут\n",
        "    self.add_dense = tf.keras.layers.Add()                                    # слой для получения resudial связи\n",
        "    self.layer_norm_dense = tf.keras.layers.LayerNormalization(epsilon=1e-6)  # слой нормализации\n",
        "\n",
        "  def call(self, inputs, mask=None, training=None):\n",
        "    \n",
        "    # print(mask)\n",
        "\n",
        "    # входной вектор input размножим до 3  - это query, value, key и отдадим attenton, с маской если есть \n",
        "    attention = self.multi_head_attention([inputs,inputs,inputs], mask = [mask,mask]) \n",
        "    \n",
        "    # уменьшим переобучение дроаутом\n",
        "    attention = self.dropout_attention(attention, training = training) \n",
        "    \n",
        "    # сделаем resudial связь - добавим входной вектор\n",
        "    x = self.add_attention([inputs , attention]) \n",
        "    \n",
        "    # далее нормализация в масштабах уровня\n",
        "    x = self.layer_norm_attention(x)  \n",
        "    # x = inputs\n",
        "\n",
        "    ## добавим Feed Forward  \n",
        "    \n",
        "    # проходим 1й dense с активашкой relu\n",
        "    dense = self.dense1(x) \n",
        "    \n",
        "    # второй dense без активашки т.е. с линейной активационной функцией\n",
        "    dense = self.dense2(dense)  \n",
        "    \n",
        "    # добавляем дропаут\n",
        "    dense = self.dropout_dense(dense, training = training)  \n",
        "    \n",
        "    # еще одна resudial связь\n",
        "    x = self.add_dense([x , dense])  \n",
        "    \n",
        "    # нормализация в масштабах уровня\n",
        "    x = self.layer_norm_dense(x)  \n",
        "\n",
        "    return x"
      ],
      "execution_count": null,
      "outputs": []
    },
    {
      "cell_type": "code",
      "metadata": {
        "id": "5Eyo1MWfsBPU"
      },
      "source": [
        "class DecoderLayer(tf.keras.layers.Layer):\n",
        "\n",
        "  def __init__(self,  d_model = 512, num_heads = 8, dff = 2048, dropout = 0.0):\n",
        "\n",
        "    super(DecoderLayer, self).__init__()\n",
        "\n",
        "    self.multi_head_attention1 =  MultiHeadAttention(d_model, num_heads, causal = True) # определим слой  MultiHeadAttention\n",
        "    self.dropout_attention1 = tf.keras.layers.Dropout(dropout)                          # добавим дропаут\n",
        "    self.add_attention1 = tf.keras.layers.Add()                                         # слой для получения resudial связи\n",
        "    self.layer_norm_attention1 = tf.keras.layers.LayerNormalization(epsilon=1e-6)       # слой нормализации\n",
        "\n",
        "    self.multi_head_attention2 =  MultiHeadAttention(d_model, num_heads)                # определим слой  MultiHeadAttention \n",
        "    self.dropout_attention2 = tf.keras.layers.Dropout(dropout)                          # добавим дропаут\n",
        "    self.add_attention2 = tf.keras.layers.Add()                                         # слой для получения resudial связи\n",
        "    self.layer_norm_attention2 = tf.keras.layers.LayerNormalization(epsilon=1e-6)       # слой нормализации\n",
        "\n",
        "\n",
        "    self.dense1 = tf.keras.layers.Dense(dff, activation='relu')              # первый dense в Feed Forward\n",
        "    self.dense2 = tf.keras.layers.Dense(d_model)                             # второй  dense в Feed Forward\n",
        "    self.dropout_dense = tf.keras.layers.Dropout(dropout)                    # добавим дропаут\n",
        "    self.add_dense = tf.keras.layers.Add()                                   # слой для получения resudial связи\n",
        "    self.layer_norm_dense = tf.keras.layers.LayerNormalization(epsilon=1e-6) # слой нормализации\n",
        "\n",
        "  def call(self, inputs, mask=None, training=None):\n",
        "    \n",
        "    # print(mask)\n",
        "    \n",
        "    # подадим на multi-head attention  Query, Key, Value вектора - здесь это один и тотже вектор\n",
        "    attention = self.multi_head_attention1([inputs[0],inputs[0],inputs[0]], mask = [mask[0],mask[0]])\n",
        "    \n",
        "    # пробежим дропаут\n",
        "    attention = self.dropout_attention1(attention, training = training)\n",
        "    \n",
        "    # пробросим Resudial-связь\n",
        "    x = self.add_attention1([inputs[0] , attention])\n",
        "    \n",
        "    # выполним нормализацию\n",
        "    x = self.layer_norm_attention1(x)\n",
        "    \n",
        "    # второй multi-head attention. Подаем выход предыдущих слоев x и выход от энкодера, маску (если есть)\n",
        "    attention = self.multi_head_attention2([x, inputs[1],inputs[1]], mask = [mask[0],mask[1]])\n",
        "    \n",
        "    # прогоняем через дропаут\n",
        "    attention = self.dropout_attention2(attention, training = training)\n",
        "    \n",
        "    # пробросим Resudial-связь\n",
        "    x = self.add_attention1([x , attention])\n",
        "    \n",
        "    # выполним нормализацию\n",
        "    x = self.layer_norm_attention1(x)\n",
        "\n",
        "    ## Feed Forward\n",
        "    \n",
        "    # 1 -dense + relu\n",
        "    dense = self.dense1(x)\n",
        "\n",
        "    # 2 dense +linear\n",
        "    dense = self.dense2(dense)\n",
        "\n",
        "    # прогоняем через дропаут\n",
        "    dense = self.dropout_dense(dense, training = training)\n",
        "\n",
        "    # пробросим Resudial-связь\n",
        "    x = self.add_dense([x , dense])\n",
        "\n",
        "    # выполним нормализацию\n",
        "    x = self.layer_norm_dense(x)\n",
        "\n",
        "    return x"
      ],
      "execution_count": null,
      "outputs": []
    },
    {
      "cell_type": "code",
      "metadata": {
        "id": "DSMPCIhfsD-C"
      },
      "source": [
        "class Encoder(tf.keras.layers.Layer):\n",
        "\n",
        "  def __init__(self, input_vocab_size, num_layers = 4, d_model = 512, num_heads = 8, dff = 2048, maximum_position_encoding = 10000, dropout = 0.0):\n",
        "    \n",
        "    super(Encoder, self).__init__()\n",
        "\n",
        "    self.d_model = d_model\n",
        "\n",
        "    self.embedding = tf.keras.layers.Embedding(input_vocab_size, d_model, mask_zero=True)                           # пропишем слой Embedding\n",
        "    self.pos = positional_encoding(maximum_position_encoding, d_model)                                              # функция позиционного кодирования\n",
        "    self.encoder_layers = [ EncoderLayer(d_model = d_model, num_heads = num_heads, dff = dff, dropout = dropout) for _ in range(num_layers)] # список Nx слоев кодера \n",
        "    self.dropout = tf.keras.layers.Dropout(dropout)                                                                 # просто дропаут\n",
        "\n",
        "  def call(self, inputs, mask=None, training=None):\n",
        "    \n",
        "    # входной эмбеддинг  \n",
        "    x = self.embedding(inputs) \n",
        "    \n",
        "    # позиционное кодирование\n",
        "    x *= tf.math.sqrt(tf.cast(self.d_model, tf.float32))  #\n",
        "    x += self.pos[: , :tf.shape(x)[1], :]\n",
        "    \n",
        "    # прогоняем через дроаут\n",
        "    x = self.dropout(x, training=training)\n",
        "\n",
        "    # Encoder layer\n",
        "\n",
        "    # входной слой embedding+ Позиционное кодирование\n",
        "    embedding_mask = self.embedding.compute_mask(inputs)\n",
        "\n",
        "    # прогоним через Nx слоев кодера\n",
        "    for encoder_layer in self.encoder_layers: \n",
        "      x = encoder_layer(x, mask = embedding_mask)\n",
        "\n",
        "    return x\n",
        "\n",
        "  # Закомментируйте код ниже, если хотите использовать masked_loss()\n",
        "  def compute_mask(self, inputs, mask=None):\n",
        "    return self.embedding.compute_mask(inputs)"
      ],
      "execution_count": null,
      "outputs": []
    },
    {
      "cell_type": "code",
      "metadata": {
        "id": "AoyyU00JsPaH"
      },
      "source": [
        "class Decoder(tf.keras.layers.Layer):\n",
        "\n",
        "  def __init__(self, target_vocab_size, num_layers = 4, d_model = 512, num_heads = 8, dff = 2048, maximum_position_encoding = 10000, dropout = 0.0):\n",
        "    \n",
        "    super(Decoder, self).__init__()\n",
        "\n",
        "    self.d_model = d_model\n",
        "\n",
        "    self.embedding = tf.keras.layers.Embedding(target_vocab_size, d_model, mask_zero=True) # пропишем слой Embedding\n",
        "    self.pos = positional_encoding(maximum_position_encoding, d_model)                     # функция позиционного кодирования\n",
        "    self.decoder_layers = [ DecoderLayer(d_model = d_model, num_heads = num_heads, dff = dff, dropout = dropout)  for _ in range(num_layers)] # список Nx слоев декодера \n",
        "    self.dropout = tf.keras.layers.Dropout(dropout)                                        # просто дропаут\n",
        "\n",
        "  def call(self, inputs, mask=None, training=None):\n",
        "    \n",
        "    # выполним переход в эмбеддинг\n",
        "    x = self.embedding(inputs[0]) \n",
        "    \n",
        "    # позиционное кодирование\n",
        "    x *= tf.math.sqrt(tf.cast(self.d_model, tf.float32))\n",
        "    x += self.pos[: , :tf.shape(x)[1], :]\n",
        "    \n",
        "    # просто dropout\n",
        "    x = self.dropout(x, training=training)\n",
        "\n",
        "    # Decoder layer\n",
        "    \n",
        "    # входной слой embedding + Позиционное кодирование\n",
        "    embedding_mask = self.embedding.compute_mask(inputs[0])\n",
        "\n",
        "    # прогоним через Nx слоев декодера\n",
        "    for decoder_layer in self.decoder_layers:\n",
        "      x = decoder_layer([x,inputs[1]], mask = [embedding_mask, mask])\n",
        "\n",
        "    return x\n",
        "\n",
        "  # Закомментируйте код ниже, если хотите использовать masked_loss()\n",
        "  def compute_mask(self, inputs, mask=None):\n",
        "    return self.embedding.compute_mask(inputs[0])"
      ],
      "execution_count": null,
      "outputs": []
    },
    {
      "cell_type": "code",
      "metadata": {
        "colab": {
          "base_uri": "https://localhost:8080/"
        },
        "id": "l2UU7F63sR2W",
        "outputId": "7bb8e217-0e15-4902-d0c6-7020abbfa2de"
      },
      "source": [
        "num_layers = 4\n",
        "d_model = 128\n",
        "dff = 512\n",
        "num_heads = 8\n",
        "\n",
        "dropout_rate = 0.1\n",
        "\n",
        "input_vocab_size = tokenizer_pt.vocab_size + 2\n",
        "target_vocab_size = tokenizer_en.vocab_size + 2\n",
        "\n",
        "\n",
        "input  = tf.keras.layers.Input(shape=(None,)) # входной слой для переводимой фразы\n",
        "target = tf.keras.layers.Input(shape=(None,)) # вход для перевода\n",
        "encoder = Encoder(input_vocab_size, num_layers = num_layers, d_model = d_model, num_heads = num_heads, dff = dff, dropout = dropout_rate) # весь кодер\n",
        "decoder = Decoder(target_vocab_size, num_layers = num_layers, d_model = d_model, num_heads = num_heads, dff = dff, dropout = dropout_rate) #весь декодер\n",
        "\n",
        "# собираем модель \n",
        "x = encoder(input)\n",
        "x = decoder([target, x] , mask = encoder.compute_mask(input))\n",
        "x = tf.keras.layers.Dense(target_vocab_size)(x)\n",
        "\n",
        "model = tf.keras.models.Model(inputs=[input, target], outputs=x)\n",
        "model.summary()"
      ],
      "execution_count": null,
      "outputs": [
        {
          "output_type": "stream",
          "name": "stdout",
          "text": [
            "Model: \"model_1\"\n",
            "__________________________________________________________________________________________________\n",
            " Layer (type)                   Output Shape         Param #     Connected to                     \n",
            "==================================================================================================\n",
            " input_3 (InputLayer)           [(None, None)]       0           []                               \n",
            "                                                                                                  \n",
            " input_4 (InputLayer)           [(None, None)]       0           []                               \n",
            "                                                                                                  \n",
            " encoder_1 (Encoder)            (None, None, 128)    1844736     ['input_3[0][0]']                \n",
            "                                                                                                  \n",
            " tf.math.not_equal_1 (TFOpLambd  (None, None)        0           ['input_3[0][0]']                \n",
            " a)                                                                                               \n",
            "                                                                                                  \n",
            " decoder_1 (Decoder)            (None, None, 128)    2092672     ['input_4[0][0]',                \n",
            "                                                                  'encoder_1[0][0]',              \n",
            "                                                                  'tf.math.not_equal_1[0][0]']    \n",
            "                                                                                                  \n",
            " dense_129 (Dense)              (None, None, 8089)   1043481     ['decoder_1[0][0]']              \n",
            "                                                                                                  \n",
            "==================================================================================================\n",
            "Total params: 4,980,889\n",
            "Trainable params: 4,980,889\n",
            "Non-trainable params: 0\n",
            "__________________________________________________________________________________________________\n"
          ]
        }
      ]
    },
    {
      "cell_type": "code",
      "metadata": {
        "colab": {
          "base_uri": "https://localhost:8080/",
          "height": 286
        },
        "id": "IfBWHYgtsVK4",
        "outputId": "92612c10-152d-4f3b-ec6b-4cc4aa1ab3d5"
      },
      "source": [
        "pt_batch, en_batch = next(iter(val_dataset))\n",
        "\n",
        "plt.pcolormesh(model.predict([pt_batch,en_batch])[5],cmap='RdBu')\n",
        "plt.colorbar()\n",
        "\n",
        "model.predict([pt_batch,en_batch]).shape"
      ],
      "execution_count": null,
      "outputs": [
        {
          "output_type": "execute_result",
          "data": {
            "text/plain": [
              "(64, 40, 8089)"
            ]
          },
          "metadata": {},
          "execution_count": 41
        },
        {
          "output_type": "display_data",
          "data": {
            "image/png": "[encoded data removed]",
            "text/plain": [
              "<Figure size 432x288 with 2 Axes>"
            ]
          },
          "metadata": {
            "needs_background": "light"
          }
        }
      ]
    },
    {
      "cell_type": "code",
      "metadata": {
        "id": "p80e0Wu8sYE6"
      },
      "source": [
        "class CustomSchedule(tf.keras.optimizers.schedules.LearningRateSchedule):\n",
        "    \n",
        "  def __init__(self, d_model, warmup_steps=4000):\n",
        "    super(CustomSchedule, self).__init__()\n",
        "\n",
        "    self.d_model = d_model\n",
        "    self.d_model = tf.cast(self.d_model, tf.float32)\n",
        "\n",
        "    self.warmup_steps = warmup_steps\n",
        "\n",
        "  def __call__(self, step):\n",
        "    arg1 = tf.math.rsqrt(step)\n",
        "    arg2 = step * (self.warmup_steps ** -1.5)\n",
        "    return tf.math.rsqrt(self.d_model) * tf.math.minimum(arg1, arg2)"
      ],
      "execution_count": null,
      "outputs": []
    },
    {
      "cell_type": "code",
      "metadata": {
        "id": "lEw7v5insgBS"
      },
      "source": [
        "# оптимайзер \n",
        "optimizer = tf.keras.optimizers.Adam(CustomSchedule(d_model), beta_1=0.9, beta_2=0.98, \n",
        "                                     epsilon=1e-9)\n",
        "# функция потерь\n",
        "loss = tf.keras.losses.SparseCategoricalCrossentropy(\n",
        "    from_logits=True, reduction='none')\n",
        "\n",
        "def masked_loss(y_true, y_pred):\n",
        "\n",
        "  # считаем маску  \n",
        "  mask = tf.math.logical_not(tf.math.equal(y_true, 0))\n",
        "  _loss = loss(y_true, y_pred)\n",
        "  #print(mask)\n",
        "  mask = tf.cast(mask, dtype=_loss.dtype)\n",
        "\n",
        "  # накинем маску на потери  \n",
        "  _loss *= mask\n",
        "\n",
        "  return tf.reduce_sum(_loss)/tf.reduce_sum(mask)\n",
        "\n",
        "metrics = [loss, masked_loss, tf.keras.metrics.SparseCategoricalAccuracy()]\n",
        "\n",
        "model.compile(optimizer=optimizer, loss = loss, metrics = metrics) # masked_"
      ],
      "execution_count": null,
      "outputs": []
    },
    {
      "cell_type": "code",
      "metadata": {
        "colab": {
          "base_uri": "https://localhost:8080/"
        },
        "id": "1LqO3IhAsiUh",
        "outputId": "09a68dc4-9e5e-417c-a6e3-684f9a24f122"
      },
      "source": [
        "num_batches = 0\n",
        "for (batch, (_,_)) in enumerate(train_dataset):\n",
        "  num_batches = batch\n",
        "print(num_batches)\n",
        "\n",
        "val_batches = 0\n",
        "for (batch, (_,_)) in enumerate(val_dataset):\n",
        "  val_batches = batch\n",
        "print(val_batches)"
      ],
      "execution_count": null,
      "outputs": [
        {
          "output_type": "stream",
          "name": "stdout",
          "text": [
            "702\n",
            "16\n"
          ]
        }
      ]
    },
    {
      "cell_type": "code",
      "source": [
        "def generator(data_set):\n",
        "    \n",
        "  while True:\n",
        "    for pt_batch, en_batch in data_set:\n",
        "      yield ( [pt_batch , en_batch[:, :-1] ] , en_batch[:, 1:] )\n",
        "      #print(\"generator\",np.shape(pt_batch),pt_batch[0],np.shape(en_batch),en_batch[0])"
      ],
      "metadata": {
        "id": "KxjtoTh7EIy1"
      },
      "execution_count": null,
      "outputs": []
    },
    {
      "cell_type": "code",
      "source": [
        "#num head = 16\n",
        "history = model.fit(x = generator(train_dataset), validation_data = generator(val_dataset), epochs=20, steps_per_epoch = num_batches, validation_steps = val_batches)"
      ],
      "metadata": {
        "colab": {
          "base_uri": "https://localhost:8080/"
        },
        "id": "TGQLGZGKtBzG",
        "outputId": "c88848d2-f9aa-4ccf-d8b4-bf9784394daf"
      },
      "execution_count": null,
      "outputs": [
        {
          "output_type": "stream",
          "name": "stdout",
          "text": [
            "Epoch 1/20\n",
            "702/702 [==============================] - 140s 176ms/step - loss: 3.5098 - sparse_categorical_crossentropy: 7.0210 - masked_loss: 7.1679 - sparse_categorical_accuracy: 0.1334 - val_loss: 2.5925 - val_sparse_categorical_crossentropy: 5.2837 - val_masked_loss: 5.5839 - val_sparse_categorical_accuracy: 0.2582\n",
            "Epoch 2/20\n",
            "702/702 [==============================] - 119s 170ms/step - loss: 2.3963 - sparse_categorical_crossentropy: 4.8128 - masked_loss: 5.0814 - sparse_categorical_accuracy: 0.2935 - val_loss: 2.1901 - val_sparse_categorical_crossentropy: 4.4635 - val_masked_loss: 4.7210 - val_sparse_categorical_accuracy: 0.3334\n",
            "Epoch 3/20\n",
            "702/702 [==============================] - 120s 171ms/step - loss: 2.1418 - sparse_categorical_crossentropy: 4.3115 - masked_loss: 4.5529 - sparse_categorical_accuracy: 0.3437 - val_loss: 2.0297 - val_sparse_categorical_crossentropy: 4.1365 - val_masked_loss: 4.3751 - val_sparse_categorical_accuracy: 0.3678\n",
            "Epoch 4/20\n",
            "702/702 [==============================] - 120s 170ms/step - loss: 1.9816 - sparse_categorical_crossentropy: 3.9813 - masked_loss: 4.2042 - sparse_categorical_accuracy: 0.3773 - val_loss: 1.8565 - val_sparse_categorical_crossentropy: 3.7835 - val_masked_loss: 4.0016 - val_sparse_categorical_accuracy: 0.4070\n",
            "Epoch 5/20\n",
            "702/702 [==============================] - 119s 170ms/step - loss: 1.8033 - sparse_categorical_crossentropy: 3.6199 - masked_loss: 3.8227 - sparse_categorical_accuracy: 0.4198 - val_loss: 1.6895 - val_sparse_categorical_crossentropy: 3.4433 - val_masked_loss: 3.6418 - val_sparse_categorical_accuracy: 0.4551\n",
            "Epoch 6/20\n",
            "702/702 [==============================] - 120s 170ms/step - loss: 1.6442 - sparse_categorical_crossentropy: 3.3019 - masked_loss: 3.4868 - sparse_categorical_accuracy: 0.4580 - val_loss: 1.5482 - val_sparse_categorical_crossentropy: 3.1553 - val_masked_loss: 3.3372 - val_sparse_categorical_accuracy: 0.4929\n",
            "Epoch 7/20\n",
            "702/702 [==============================] - 119s 170ms/step - loss: 1.4778 - sparse_categorical_crossentropy: 2.9690 - masked_loss: 3.1353 - sparse_categorical_accuracy: 0.4975 - val_loss: 1.4342 - val_sparse_categorical_crossentropy: 2.9230 - val_masked_loss: 3.0915 - val_sparse_categorical_accuracy: 0.5222\n",
            "Epoch 8/20\n",
            "702/702 [==============================] - 119s 170ms/step - loss: 1.3285 - sparse_categorical_crossentropy: 2.6674 - masked_loss: 2.8167 - sparse_categorical_accuracy: 0.5322 - val_loss: 1.3387 - val_sparse_categorical_crossentropy: 2.7283 - val_masked_loss: 2.8856 - val_sparse_categorical_accuracy: 0.5493\n",
            "Epoch 9/20\n",
            "702/702 [==============================] - 119s 170ms/step - loss: 1.2011 - sparse_categorical_crossentropy: 2.4159 - masked_loss: 2.5511 - sparse_categorical_accuracy: 0.5631 - val_loss: 1.2552 - val_sparse_categorical_crossentropy: 2.5581 - val_masked_loss: 2.7055 - val_sparse_categorical_accuracy: 0.5740\n",
            "Epoch 10/20\n",
            "702/702 [==============================] - 119s 170ms/step - loss: 1.1072 - sparse_categorical_crossentropy: 2.2202 - masked_loss: 2.3445 - sparse_categorical_accuracy: 0.5876 - val_loss: 1.2090 - val_sparse_categorical_crossentropy: 2.4640 - val_masked_loss: 2.6060 - val_sparse_categorical_accuracy: 0.5840\n",
            "Epoch 11/20\n",
            "702/702 [==============================] - 120s 170ms/step - loss: 1.0271 - sparse_categorical_crossentropy: 2.0616 - masked_loss: 2.1770 - sparse_categorical_accuracy: 0.6083 - val_loss: 1.1729 - val_sparse_categorical_crossentropy: 2.3905 - val_masked_loss: 2.5283 - val_sparse_categorical_accuracy: 0.5966\n",
            "Epoch 12/20\n",
            "702/702 [==============================] - 119s 170ms/step - loss: 0.9610 - sparse_categorical_crossentropy: 1.9297 - masked_loss: 2.0377 - sparse_categorical_accuracy: 0.6255 - val_loss: 1.1485 - val_sparse_categorical_crossentropy: 2.3407 - val_masked_loss: 2.4756 - val_sparse_categorical_accuracy: 0.6034\n",
            "Epoch 13/20\n",
            "702/702 [==============================] - 119s 170ms/step - loss: 0.9059 - sparse_categorical_crossentropy: 1.8192 - masked_loss: 1.9210 - sparse_categorical_accuracy: 0.6395 - val_loss: 1.1290 - val_sparse_categorical_crossentropy: 2.3009 - val_masked_loss: 2.4337 - val_sparse_categorical_accuracy: 0.6113\n",
            "Epoch 14/20\n",
            "702/702 [==============================] - 119s 169ms/step - loss: 0.8598 - sparse_categorical_crossentropy: 1.7273 - masked_loss: 1.8239 - sparse_categorical_accuracy: 0.6523 - val_loss: 1.1139 - val_sparse_categorical_crossentropy: 2.2702 - val_masked_loss: 2.4011 - val_sparse_categorical_accuracy: 0.6164\n",
            "Epoch 15/20\n",
            "702/702 [==============================] - 118s 169ms/step - loss: 0.8173 - sparse_categorical_crossentropy: 1.6433 - masked_loss: 1.7353 - sparse_categorical_accuracy: 0.6633 - val_loss: 1.1172 - val_sparse_categorical_crossentropy: 2.2768 - val_masked_loss: 2.4081 - val_sparse_categorical_accuracy: 0.6184\n",
            "Epoch 16/20\n",
            "702/702 [==============================] - 119s 169ms/step - loss: 0.7810 - sparse_categorical_crossentropy: 1.5703 - masked_loss: 1.6582 - sparse_categorical_accuracy: 0.6741 - val_loss: 1.1009 - val_sparse_categorical_crossentropy: 2.2437 - val_masked_loss: 2.3732 - val_sparse_categorical_accuracy: 0.6249\n",
            "Epoch 17/20\n",
            "702/702 [==============================] - 119s 169ms/step - loss: 0.7499 - sparse_categorical_crossentropy: 1.5082 - masked_loss: 1.5927 - sparse_categorical_accuracy: 0.6822 - val_loss: 1.1078 - val_sparse_categorical_crossentropy: 2.2578 - val_masked_loss: 2.3880 - val_sparse_categorical_accuracy: 0.6245\n",
            "Epoch 18/20\n",
            "702/702 [==============================] - 119s 169ms/step - loss: 0.7229 - sparse_categorical_crossentropy: 1.4494 - masked_loss: 1.5304 - sparse_categorical_accuracy: 0.6909 - val_loss: 1.1057 - val_sparse_categorical_crossentropy: 2.2535 - val_masked_loss: 2.3835 - val_sparse_categorical_accuracy: 0.6243\n",
            "Epoch 19/20\n",
            "702/702 [==============================] - 119s 169ms/step - loss: 0.6944 - sparse_categorical_crossentropy: 1.3937 - masked_loss: 1.4718 - sparse_categorical_accuracy: 0.6989 - val_loss: 1.1038 - val_sparse_categorical_crossentropy: 2.2496 - val_masked_loss: 2.3793 - val_sparse_categorical_accuracy: 0.6301\n",
            "Epoch 20/20\n",
            "702/702 [==============================] - 118s 169ms/step - loss: 0.6701 - sparse_categorical_crossentropy: 1.3475 - masked_loss: 1.4230 - sparse_categorical_accuracy: 0.7060 - val_loss: 1.1110 - val_sparse_categorical_crossentropy: 2.2642 - val_masked_loss: 2.3948 - val_sparse_categorical_accuracy: 0.6314\n"
          ]
        }
      ]
    },
    {
      "cell_type": "code",
      "source": [
        "history = model.fit(x = generator(train_dataset), validation_data = generator(val_dataset), epochs=40, steps_per_epoch = num_batches, validation_steps = val_batches)"
      ],
      "metadata": {
        "colab": {
          "base_uri": "https://localhost:8080/",
          "height": 1000
        },
        "id": "XJn60DwPEDnm",
        "outputId": "9ad9a73f-bcfb-4bd7-d526-1e452fbb98a8"
      },
      "execution_count": null,
      "outputs": [
        {
          "output_type": "stream",
          "name": "stdout",
          "text": [
            "Epoch 1/40\n",
            "702/702 [==============================] - 119s 170ms/step - loss: 0.7385 - sparse_categorical_crossentropy: 1.4863 - masked_loss: 1.5695 - sparse_categorical_accuracy: 0.6798 - val_loss: 1.1367 - val_sparse_categorical_crossentropy: 2.3166 - val_masked_loss: 2.4502 - val_sparse_categorical_accuracy: 0.6207\n",
            "Epoch 2/40\n",
            "702/702 [==============================] - 119s 170ms/step - loss: 0.7063 - sparse_categorical_crossentropy: 1.4165 - masked_loss: 1.4958 - sparse_categorical_accuracy: 0.6902 - val_loss: 1.1252 - val_sparse_categorical_crossentropy: 2.2931 - val_masked_loss: 2.4254 - val_sparse_categorical_accuracy: 0.6220\n",
            "Epoch 3/40\n",
            "702/702 [==============================] - 118s 169ms/step - loss: 0.6739 - sparse_categorical_crossentropy: 1.3529 - masked_loss: 1.4286 - sparse_categorical_accuracy: 0.6996 - val_loss: 1.1294 - val_sparse_categorical_crossentropy: 2.3017 - val_masked_loss: 2.4345 - val_sparse_categorical_accuracy: 0.6240\n",
            "Epoch 4/40\n",
            "702/702 [==============================] - 118s 169ms/step - loss: 0.6445 - sparse_categorical_crossentropy: 1.2936 - masked_loss: 1.3660 - sparse_categorical_accuracy: 0.7093 - val_loss: 1.1284 - val_sparse_categorical_crossentropy: 2.2998 - val_masked_loss: 2.4324 - val_sparse_categorical_accuracy: 0.6248\n",
            "Epoch 5/40\n",
            "702/702 [==============================] - 119s 169ms/step - loss: 0.6177 - sparse_categorical_crossentropy: 1.2391 - masked_loss: 1.3085 - sparse_categorical_accuracy: 0.7181 - val_loss: 1.1287 - val_sparse_categorical_crossentropy: 2.3003 - val_masked_loss: 2.4329 - val_sparse_categorical_accuracy: 0.6279\n",
            "Epoch 6/40\n",
            "702/702 [==============================] - 120s 171ms/step - loss: 0.5922 - sparse_categorical_crossentropy: 1.1920 - masked_loss: 1.2587 - sparse_categorical_accuracy: 0.7262 - val_loss: 1.1346 - val_sparse_categorical_crossentropy: 2.3123 - val_masked_loss: 2.4456 - val_sparse_categorical_accuracy: 0.6309\n",
            "Epoch 7/40\n",
            "702/702 [==============================] - 119s 170ms/step - loss: 0.5716 - sparse_categorical_crossentropy: 1.1484 - masked_loss: 1.2127 - sparse_categorical_accuracy: 0.7334 - val_loss: 1.1333 - val_sparse_categorical_crossentropy: 2.3097 - val_masked_loss: 2.4429 - val_sparse_categorical_accuracy: 0.6305\n",
            "Epoch 8/40\n",
            "702/702 [==============================] - 119s 169ms/step - loss: 0.5529 - sparse_categorical_crossentropy: 1.1110 - masked_loss: 1.1732 - sparse_categorical_accuracy: 0.7399 - val_loss: 1.1373 - val_sparse_categorical_crossentropy: 2.3179 - val_masked_loss: 2.4516 - val_sparse_categorical_accuracy: 0.6318\n",
            "Epoch 9/40\n",
            "702/702 [==============================] - 119s 170ms/step - loss: 0.5347 - sparse_categorical_crossentropy: 1.0736 - masked_loss: 1.1337 - sparse_categorical_accuracy: 0.7459 - val_loss: 1.1451 - val_sparse_categorical_crossentropy: 2.3338 - val_masked_loss: 2.4683 - val_sparse_categorical_accuracy: 0.6329\n",
            "Epoch 10/40\n",
            "702/702 [==============================] - 119s 170ms/step - loss: 0.5182 - sparse_categorical_crossentropy: 1.0437 - masked_loss: 1.1022 - sparse_categorical_accuracy: 0.7516 - val_loss: 1.1391 - val_sparse_categorical_crossentropy: 2.3215 - val_masked_loss: 2.4554 - val_sparse_categorical_accuracy: 0.6304\n",
            "Epoch 11/40\n",
            "702/702 [==============================] - 120s 171ms/step - loss: 0.5032 - sparse_categorical_crossentropy: 1.0108 - masked_loss: 1.0675 - sparse_categorical_accuracy: 0.7574 - val_loss: 1.1495 - val_sparse_categorical_crossentropy: 2.3428 - val_masked_loss: 2.4779 - val_sparse_categorical_accuracy: 0.6311\n",
            "Epoch 12/40\n",
            "702/702 [==============================] - 120s 171ms/step - loss: 0.4900 - sparse_categorical_crossentropy: 0.9833 - masked_loss: 1.0383 - sparse_categorical_accuracy: 0.7621 - val_loss: 1.1568 - val_sparse_categorical_crossentropy: 2.3575 - val_masked_loss: 2.4935 - val_sparse_categorical_accuracy: 0.6319\n",
            "Epoch 13/40\n",
            "702/702 [==============================] - 119s 170ms/step - loss: 0.4760 - sparse_categorical_crossentropy: 0.9554 - masked_loss: 1.0089 - sparse_categorical_accuracy: 0.7670 - val_loss: 1.1630 - val_sparse_categorical_crossentropy: 2.3702 - val_masked_loss: 2.5069 - val_sparse_categorical_accuracy: 0.6327\n",
            "Epoch 14/40\n",
            "702/702 [==============================] - 118s 169ms/step - loss: 0.4656 - sparse_categorical_crossentropy: 0.9334 - masked_loss: 0.9856 - sparse_categorical_accuracy: 0.7713 - val_loss: 1.1686 - val_sparse_categorical_crossentropy: 2.3817 - val_masked_loss: 2.5190 - val_sparse_categorical_accuracy: 0.6315\n",
            "Epoch 15/40\n",
            "702/702 [==============================] - 119s 169ms/step - loss: 0.4530 - sparse_categorical_crossentropy: 0.9109 - masked_loss: 0.9619 - sparse_categorical_accuracy: 0.7752 - val_loss: 1.1692 - val_sparse_categorical_crossentropy: 2.3830 - val_masked_loss: 2.5204 - val_sparse_categorical_accuracy: 0.6302\n",
            "Epoch 16/40\n",
            "702/702 [==============================] - 120s 171ms/step - loss: 0.4436 - sparse_categorical_crossentropy: 0.8904 - masked_loss: 0.9402 - sparse_categorical_accuracy: 0.7791 - val_loss: 1.1847 - val_sparse_categorical_crossentropy: 2.4144 - val_masked_loss: 2.5536 - val_sparse_categorical_accuracy: 0.6299\n",
            "Epoch 17/40\n",
            "702/702 [==============================] - 119s 169ms/step - loss: 0.4314 - sparse_categorical_crossentropy: 0.8686 - masked_loss: 0.9173 - sparse_categorical_accuracy: 0.7829 - val_loss: 1.1918 - val_sparse_categorical_crossentropy: 2.4289 - val_masked_loss: 2.5690 - val_sparse_categorical_accuracy: 0.6285\n",
            "Epoch 18/40\n",
            "702/702 [==============================] - 120s 171ms/step - loss: 0.4233 - sparse_categorical_crossentropy: 0.8517 - masked_loss: 0.8994 - sparse_categorical_accuracy: 0.7859 - val_loss: 1.1987 - val_sparse_categorical_crossentropy: 2.4429 - val_masked_loss: 2.5838 - val_sparse_categorical_accuracy: 0.6272\n",
            "Epoch 19/40\n",
            "702/702 [==============================] - 120s 171ms/step - loss: 0.4151 - sparse_categorical_crossentropy: 0.8319 - masked_loss: 0.8784 - sparse_categorical_accuracy: 0.7897 - val_loss: 1.1928 - val_sparse_categorical_crossentropy: 2.4309 - val_masked_loss: 2.5711 - val_sparse_categorical_accuracy: 0.6325\n",
            "Epoch 20/40\n",
            "702/702 [==============================] - 121s 172ms/step - loss: 0.4061 - sparse_categorical_crossentropy: 0.8163 - masked_loss: 0.8621 - sparse_categorical_accuracy: 0.7929 - val_loss: 1.2028 - val_sparse_categorical_crossentropy: 2.4514 - val_masked_loss: 2.5927 - val_sparse_categorical_accuracy: 0.6324\n",
            "Epoch 21/40\n",
            "702/702 [==============================] - 121s 172ms/step - loss: 0.3972 - sparse_categorical_crossentropy: 0.7979 - masked_loss: 0.8426 - sparse_categorical_accuracy: 0.7970 - val_loss: 1.2086 - val_sparse_categorical_crossentropy: 2.4631 - val_masked_loss: 2.6052 - val_sparse_categorical_accuracy: 0.6271\n",
            "Epoch 22/40\n",
            " 85/702 [==>...........................] - ETA: 1:44 - loss: 0.3745 - sparse_categorical_crossentropy: 0.7539 - masked_loss: 0.7961 - sparse_categorical_accuracy: 0.8063"
          ]
        },
        {
          "output_type": "error",
          "ename": "KeyboardInterrupt",
          "evalue": "ignored",
          "traceback": [
            "\u001b[0;31m---------------------------------------------------------------------------\u001b[0m",
            "\u001b[0;31mKeyboardInterrupt\u001b[0m                         Traceback (most recent call last)",
            "\u001b[0;32m<ipython-input-37-886982ccaa67>\u001b[0m in \u001b[0;36m<module>\u001b[0;34m()\u001b[0m\n\u001b[0;32m----> 1\u001b[0;31m \u001b[0mhistory\u001b[0m \u001b[0;34m=\u001b[0m \u001b[0mmodel\u001b[0m\u001b[0;34m.\u001b[0m\u001b[0mfit\u001b[0m\u001b[0;34m(\u001b[0m\u001b[0mx\u001b[0m \u001b[0;34m=\u001b[0m \u001b[0mgenerator\u001b[0m\u001b[0;34m(\u001b[0m\u001b[0mtrain_dataset\u001b[0m\u001b[0;34m)\u001b[0m\u001b[0;34m,\u001b[0m \u001b[0mvalidation_data\u001b[0m \u001b[0;34m=\u001b[0m \u001b[0mgenerator\u001b[0m\u001b[0;34m(\u001b[0m\u001b[0mval_dataset\u001b[0m\u001b[0;34m)\u001b[0m\u001b[0;34m,\u001b[0m \u001b[0mepochs\u001b[0m\u001b[0;34m=\u001b[0m\u001b[0;36m40\u001b[0m\u001b[0;34m,\u001b[0m \u001b[0msteps_per_epoch\u001b[0m \u001b[0;34m=\u001b[0m \u001b[0mnum_batches\u001b[0m\u001b[0;34m,\u001b[0m \u001b[0mvalidation_steps\u001b[0m \u001b[0;34m=\u001b[0m \u001b[0mval_batches\u001b[0m\u001b[0;34m)\u001b[0m\u001b[0;34m\u001b[0m\u001b[0;34m\u001b[0m\u001b[0m\n\u001b[0m",
            "\u001b[0;32m/usr/local/lib/python3.7/dist-packages/keras/utils/traceback_utils.py\u001b[0m in \u001b[0;36merror_handler\u001b[0;34m(*args, **kwargs)\u001b[0m\n\u001b[1;32m     62\u001b[0m     \u001b[0mfiltered_tb\u001b[0m \u001b[0;34m=\u001b[0m \u001b[0;32mNone\u001b[0m\u001b[0;34m\u001b[0m\u001b[0;34m\u001b[0m\u001b[0m\n\u001b[1;32m     63\u001b[0m     \u001b[0;32mtry\u001b[0m\u001b[0;34m:\u001b[0m\u001b[0;34m\u001b[0m\u001b[0;34m\u001b[0m\u001b[0m\n\u001b[0;32m---> 64\u001b[0;31m       \u001b[0;32mreturn\u001b[0m \u001b[0mfn\u001b[0m\u001b[0;34m(\u001b[0m\u001b[0;34m*\u001b[0m\u001b[0margs\u001b[0m\u001b[0;34m,\u001b[0m \u001b[0;34m**\u001b[0m\u001b[0mkwargs\u001b[0m\u001b[0;34m)\u001b[0m\u001b[0;34m\u001b[0m\u001b[0;34m\u001b[0m\u001b[0m\n\u001b[0m\u001b[1;32m     65\u001b[0m     \u001b[0;32mexcept\u001b[0m \u001b[0mException\u001b[0m \u001b[0;32mas\u001b[0m \u001b[0me\u001b[0m\u001b[0;34m:\u001b[0m  \u001b[0;31m# pylint: disable=broad-except\u001b[0m\u001b[0;34m\u001b[0m\u001b[0;34m\u001b[0m\u001b[0m\n\u001b[1;32m     66\u001b[0m       \u001b[0mfiltered_tb\u001b[0m \u001b[0;34m=\u001b[0m \u001b[0m_process_traceback_frames\u001b[0m\u001b[0;34m(\u001b[0m\u001b[0me\u001b[0m\u001b[0;34m.\u001b[0m\u001b[0m__traceback__\u001b[0m\u001b[0;34m)\u001b[0m\u001b[0;34m\u001b[0m\u001b[0;34m\u001b[0m\u001b[0m\n",
            "\u001b[0;32m/usr/local/lib/python3.7/dist-packages/keras/engine/training.py\u001b[0m in \u001b[0;36mfit\u001b[0;34m(self, x, y, batch_size, epochs, verbose, callbacks, validation_split, validation_data, shuffle, class_weight, sample_weight, initial_epoch, steps_per_epoch, validation_steps, validation_batch_size, validation_freq, max_queue_size, workers, use_multiprocessing)\u001b[0m\n\u001b[1;32m   1214\u001b[0m                 _r=1):\n\u001b[1;32m   1215\u001b[0m               \u001b[0mcallbacks\u001b[0m\u001b[0;34m.\u001b[0m\u001b[0mon_train_batch_begin\u001b[0m\u001b[0;34m(\u001b[0m\u001b[0mstep\u001b[0m\u001b[0;34m)\u001b[0m\u001b[0;34m\u001b[0m\u001b[0;34m\u001b[0m\u001b[0m\n\u001b[0;32m-> 1216\u001b[0;31m               \u001b[0mtmp_logs\u001b[0m \u001b[0;34m=\u001b[0m \u001b[0mself\u001b[0m\u001b[0;34m.\u001b[0m\u001b[0mtrain_function\u001b[0m\u001b[0;34m(\u001b[0m\u001b[0miterator\u001b[0m\u001b[0;34m)\u001b[0m\u001b[0;34m\u001b[0m\u001b[0;34m\u001b[0m\u001b[0m\n\u001b[0m\u001b[1;32m   1217\u001b[0m               \u001b[0;32mif\u001b[0m \u001b[0mdata_handler\u001b[0m\u001b[0;34m.\u001b[0m\u001b[0mshould_sync\u001b[0m\u001b[0;34m:\u001b[0m\u001b[0;34m\u001b[0m\u001b[0;34m\u001b[0m\u001b[0m\n\u001b[1;32m   1218\u001b[0m                 \u001b[0mcontext\u001b[0m\u001b[0;34m.\u001b[0m\u001b[0masync_wait\u001b[0m\u001b[0;34m(\u001b[0m\u001b[0;34m)\u001b[0m\u001b[0;34m\u001b[0m\u001b[0;34m\u001b[0m\u001b[0m\n",
            "\u001b[0;32m/usr/local/lib/python3.7/dist-packages/tensorflow/python/util/traceback_utils.py\u001b[0m in \u001b[0;36merror_handler\u001b[0;34m(*args, **kwargs)\u001b[0m\n\u001b[1;32m    148\u001b[0m     \u001b[0mfiltered_tb\u001b[0m \u001b[0;34m=\u001b[0m \u001b[0;32mNone\u001b[0m\u001b[0;34m\u001b[0m\u001b[0;34m\u001b[0m\u001b[0m\n\u001b[1;32m    149\u001b[0m     \u001b[0;32mtry\u001b[0m\u001b[0;34m:\u001b[0m\u001b[0;34m\u001b[0m\u001b[0;34m\u001b[0m\u001b[0m\n\u001b[0;32m--> 150\u001b[0;31m       \u001b[0;32mreturn\u001b[0m \u001b[0mfn\u001b[0m\u001b[0;34m(\u001b[0m\u001b[0;34m*\u001b[0m\u001b[0margs\u001b[0m\u001b[0;34m,\u001b[0m \u001b[0;34m**\u001b[0m\u001b[0mkwargs\u001b[0m\u001b[0;34m)\u001b[0m\u001b[0;34m\u001b[0m\u001b[0;34m\u001b[0m\u001b[0m\n\u001b[0m\u001b[1;32m    151\u001b[0m     \u001b[0;32mexcept\u001b[0m \u001b[0mException\u001b[0m \u001b[0;32mas\u001b[0m \u001b[0me\u001b[0m\u001b[0;34m:\u001b[0m\u001b[0;34m\u001b[0m\u001b[0;34m\u001b[0m\u001b[0m\n\u001b[1;32m    152\u001b[0m       \u001b[0mfiltered_tb\u001b[0m \u001b[0;34m=\u001b[0m \u001b[0m_process_traceback_frames\u001b[0m\u001b[0;34m(\u001b[0m\u001b[0me\u001b[0m\u001b[0;34m.\u001b[0m\u001b[0m__traceback__\u001b[0m\u001b[0;34m)\u001b[0m\u001b[0;34m\u001b[0m\u001b[0;34m\u001b[0m\u001b[0m\n",
            "\u001b[0;32m/usr/local/lib/python3.7/dist-packages/tensorflow/python/eager/def_function.py\u001b[0m in \u001b[0;36m__call__\u001b[0;34m(self, *args, **kwds)\u001b[0m\n\u001b[1;32m    908\u001b[0m \u001b[0;34m\u001b[0m\u001b[0m\n\u001b[1;32m    909\u001b[0m       \u001b[0;32mwith\u001b[0m \u001b[0mOptionalXlaContext\u001b[0m\u001b[0;34m(\u001b[0m\u001b[0mself\u001b[0m\u001b[0;34m.\u001b[0m\u001b[0m_jit_compile\u001b[0m\u001b[0;34m)\u001b[0m\u001b[0;34m:\u001b[0m\u001b[0;34m\u001b[0m\u001b[0;34m\u001b[0m\u001b[0m\n\u001b[0;32m--> 910\u001b[0;31m         \u001b[0mresult\u001b[0m \u001b[0;34m=\u001b[0m \u001b[0mself\u001b[0m\u001b[0;34m.\u001b[0m\u001b[0m_call\u001b[0m\u001b[0;34m(\u001b[0m\u001b[0;34m*\u001b[0m\u001b[0margs\u001b[0m\u001b[0;34m,\u001b[0m \u001b[0;34m**\u001b[0m\u001b[0mkwds\u001b[0m\u001b[0;34m)\u001b[0m\u001b[0;34m\u001b[0m\u001b[0;34m\u001b[0m\u001b[0m\n\u001b[0m\u001b[1;32m    911\u001b[0m \u001b[0;34m\u001b[0m\u001b[0m\n\u001b[1;32m    912\u001b[0m       \u001b[0mnew_tracing_count\u001b[0m \u001b[0;34m=\u001b[0m \u001b[0mself\u001b[0m\u001b[0;34m.\u001b[0m\u001b[0mexperimental_get_tracing_count\u001b[0m\u001b[0;34m(\u001b[0m\u001b[0;34m)\u001b[0m\u001b[0;34m\u001b[0m\u001b[0;34m\u001b[0m\u001b[0m\n",
            "\u001b[0;32m/usr/local/lib/python3.7/dist-packages/tensorflow/python/eager/def_function.py\u001b[0m in \u001b[0;36m_call\u001b[0;34m(self, *args, **kwds)\u001b[0m\n\u001b[1;32m    940\u001b[0m       \u001b[0;31m# In this case we have created variables on the first call, so we run the\u001b[0m\u001b[0;34m\u001b[0m\u001b[0;34m\u001b[0m\u001b[0;34m\u001b[0m\u001b[0m\n\u001b[1;32m    941\u001b[0m       \u001b[0;31m# defunned version which is guaranteed to never create variables.\u001b[0m\u001b[0;34m\u001b[0m\u001b[0;34m\u001b[0m\u001b[0;34m\u001b[0m\u001b[0m\n\u001b[0;32m--> 942\u001b[0;31m       \u001b[0;32mreturn\u001b[0m \u001b[0mself\u001b[0m\u001b[0;34m.\u001b[0m\u001b[0m_stateless_fn\u001b[0m\u001b[0;34m(\u001b[0m\u001b[0;34m*\u001b[0m\u001b[0margs\u001b[0m\u001b[0;34m,\u001b[0m \u001b[0;34m**\u001b[0m\u001b[0mkwds\u001b[0m\u001b[0;34m)\u001b[0m  \u001b[0;31m# pylint: disable=not-callable\u001b[0m\u001b[0;34m\u001b[0m\u001b[0;34m\u001b[0m\u001b[0m\n\u001b[0m\u001b[1;32m    943\u001b[0m     \u001b[0;32melif\u001b[0m \u001b[0mself\u001b[0m\u001b[0;34m.\u001b[0m\u001b[0m_stateful_fn\u001b[0m \u001b[0;32mis\u001b[0m \u001b[0;32mnot\u001b[0m \u001b[0;32mNone\u001b[0m\u001b[0;34m:\u001b[0m\u001b[0;34m\u001b[0m\u001b[0;34m\u001b[0m\u001b[0m\n\u001b[1;32m    944\u001b[0m       \u001b[0;31m# Release the lock early so that multiple threads can perform the call\u001b[0m\u001b[0;34m\u001b[0m\u001b[0;34m\u001b[0m\u001b[0;34m\u001b[0m\u001b[0m\n",
            "\u001b[0;32m/usr/local/lib/python3.7/dist-packages/tensorflow/python/eager/function.py\u001b[0m in \u001b[0;36m__call__\u001b[0;34m(self, *args, **kwargs)\u001b[0m\n\u001b[1;32m   3129\u001b[0m        filtered_flat_args) = self._maybe_define_function(args, kwargs)\n\u001b[1;32m   3130\u001b[0m     return graph_function._call_flat(\n\u001b[0;32m-> 3131\u001b[0;31m         filtered_flat_args, captured_inputs=graph_function.captured_inputs)  # pylint: disable=protected-access\n\u001b[0m\u001b[1;32m   3132\u001b[0m \u001b[0;34m\u001b[0m\u001b[0m\n\u001b[1;32m   3133\u001b[0m   \u001b[0;34m@\u001b[0m\u001b[0mproperty\u001b[0m\u001b[0;34m\u001b[0m\u001b[0;34m\u001b[0m\u001b[0m\n",
            "\u001b[0;32m/usr/local/lib/python3.7/dist-packages/tensorflow/python/eager/function.py\u001b[0m in \u001b[0;36m_call_flat\u001b[0;34m(self, args, captured_inputs, cancellation_manager)\u001b[0m\n\u001b[1;32m   1958\u001b[0m       \u001b[0;31m# No tape is watching; skip to running the function.\u001b[0m\u001b[0;34m\u001b[0m\u001b[0;34m\u001b[0m\u001b[0;34m\u001b[0m\u001b[0m\n\u001b[1;32m   1959\u001b[0m       return self._build_call_outputs(self._inference_function.call(\n\u001b[0;32m-> 1960\u001b[0;31m           ctx, args, cancellation_manager=cancellation_manager))\n\u001b[0m\u001b[1;32m   1961\u001b[0m     forward_backward = self._select_forward_and_backward_functions(\n\u001b[1;32m   1962\u001b[0m         \u001b[0margs\u001b[0m\u001b[0;34m,\u001b[0m\u001b[0;34m\u001b[0m\u001b[0;34m\u001b[0m\u001b[0m\n",
            "\u001b[0;32m/usr/local/lib/python3.7/dist-packages/tensorflow/python/eager/function.py\u001b[0m in \u001b[0;36mcall\u001b[0;34m(self, ctx, args, cancellation_manager)\u001b[0m\n\u001b[1;32m    601\u001b[0m               \u001b[0minputs\u001b[0m\u001b[0;34m=\u001b[0m\u001b[0margs\u001b[0m\u001b[0;34m,\u001b[0m\u001b[0;34m\u001b[0m\u001b[0;34m\u001b[0m\u001b[0m\n\u001b[1;32m    602\u001b[0m               \u001b[0mattrs\u001b[0m\u001b[0;34m=\u001b[0m\u001b[0mattrs\u001b[0m\u001b[0;34m,\u001b[0m\u001b[0;34m\u001b[0m\u001b[0;34m\u001b[0m\u001b[0m\n\u001b[0;32m--> 603\u001b[0;31m               ctx=ctx)\n\u001b[0m\u001b[1;32m    604\u001b[0m         \u001b[0;32melse\u001b[0m\u001b[0;34m:\u001b[0m\u001b[0;34m\u001b[0m\u001b[0;34m\u001b[0m\u001b[0m\n\u001b[1;32m    605\u001b[0m           outputs = execute.execute_with_cancellation(\n",
            "\u001b[0;32m/usr/local/lib/python3.7/dist-packages/tensorflow/python/eager/execute.py\u001b[0m in \u001b[0;36mquick_execute\u001b[0;34m(op_name, num_outputs, inputs, attrs, ctx, name)\u001b[0m\n\u001b[1;32m     57\u001b[0m     \u001b[0mctx\u001b[0m\u001b[0;34m.\u001b[0m\u001b[0mensure_initialized\u001b[0m\u001b[0;34m(\u001b[0m\u001b[0;34m)\u001b[0m\u001b[0;34m\u001b[0m\u001b[0;34m\u001b[0m\u001b[0m\n\u001b[1;32m     58\u001b[0m     tensors = pywrap_tfe.TFE_Py_Execute(ctx._handle, device_name, op_name,\n\u001b[0;32m---> 59\u001b[0;31m                                         inputs, attrs, num_outputs)\n\u001b[0m\u001b[1;32m     60\u001b[0m   \u001b[0;32mexcept\u001b[0m \u001b[0mcore\u001b[0m\u001b[0;34m.\u001b[0m\u001b[0m_NotOkStatusException\u001b[0m \u001b[0;32mas\u001b[0m \u001b[0me\u001b[0m\u001b[0;34m:\u001b[0m\u001b[0;34m\u001b[0m\u001b[0;34m\u001b[0m\u001b[0m\n\u001b[1;32m     61\u001b[0m     \u001b[0;32mif\u001b[0m \u001b[0mname\u001b[0m \u001b[0;32mis\u001b[0m \u001b[0;32mnot\u001b[0m \u001b[0;32mNone\u001b[0m\u001b[0;34m:\u001b[0m\u001b[0;34m\u001b[0m\u001b[0;34m\u001b[0m\u001b[0m\n",
            "\u001b[0;31mKeyboardInterrupt\u001b[0m: "
          ]
        }
      ]
    },
    {
      "cell_type": "code",
      "source": [
        "#num head = 8\n",
        "history = model.fit(x = generator(train_dataset), validation_data = generator(val_dataset), epochs=20, steps_per_epoch = num_batches, validation_steps = val_batches)"
      ],
      "metadata": {
        "colab": {
          "base_uri": "https://localhost:8080/"
        },
        "id": "TRg9HwGHao6s",
        "outputId": "fbc6d1df-f1f2-485e-c5ce-18a69dadd9b1"
      },
      "execution_count": null,
      "outputs": [
        {
          "output_type": "stream",
          "name": "stdout",
          "text": [
            "Epoch 1/20\n",
            "702/702 [==============================] - 126s 158ms/step - loss: 3.4954 - sparse_categorical_crossentropy: 7.0209 - masked_loss: 7.1829 - sparse_categorical_accuracy: 0.1202 - val_loss: 2.6624 - val_sparse_categorical_crossentropy: 5.4261 - val_masked_loss: 5.7342 - val_sparse_categorical_accuracy: 0.2335\n",
            "Epoch 2/20\n",
            "702/702 [==============================] - 107s 153ms/step - loss: 2.4460 - sparse_categorical_crossentropy: 4.9082 - masked_loss: 5.1823 - sparse_categorical_accuracy: 0.2796 - val_loss: 2.2231 - val_sparse_categorical_crossentropy: 4.5307 - val_masked_loss: 4.7921 - val_sparse_categorical_accuracy: 0.3234\n",
            "Epoch 3/20\n",
            "702/702 [==============================] - 108s 153ms/step - loss: 2.1747 - sparse_categorical_crossentropy: 4.3730 - masked_loss: 4.6180 - sparse_categorical_accuracy: 0.3360 - val_loss: 2.0228 - val_sparse_categorical_crossentropy: 4.1225 - val_masked_loss: 4.3602 - val_sparse_categorical_accuracy: 0.3717\n",
            "Epoch 4/20\n",
            "702/702 [==============================] - 109s 155ms/step - loss: 1.9709 - sparse_categorical_crossentropy: 3.9637 - masked_loss: 4.1858 - sparse_categorical_accuracy: 0.3846 - val_loss: 1.8382 - val_sparse_categorical_crossentropy: 3.7463 - val_masked_loss: 3.9623 - val_sparse_categorical_accuracy: 0.4227\n",
            "Epoch 5/20\n",
            "702/702 [==============================] - 108s 153ms/step - loss: 1.8058 - sparse_categorical_crossentropy: 3.6346 - masked_loss: 3.8381 - sparse_categorical_accuracy: 0.4236 - val_loss: 1.7040 - val_sparse_categorical_crossentropy: 3.4728 - val_masked_loss: 3.6730 - val_sparse_categorical_accuracy: 0.4560\n",
            "Epoch 6/20\n",
            "702/702 [==============================] - 107s 153ms/step - loss: 1.6792 - sparse_categorical_crossentropy: 3.3780 - masked_loss: 3.5672 - sparse_categorical_accuracy: 0.4521 - val_loss: 1.5940 - val_sparse_categorical_crossentropy: 3.2485 - val_masked_loss: 3.4359 - val_sparse_categorical_accuracy: 0.4839\n",
            "Epoch 7/20\n",
            "702/702 [==============================] - 107s 153ms/step - loss: 1.5475 - sparse_categorical_crossentropy: 3.1075 - masked_loss: 3.2816 - sparse_categorical_accuracy: 0.4812 - val_loss: 1.4811 - val_sparse_categorical_crossentropy: 3.0186 - val_masked_loss: 3.1927 - val_sparse_categorical_accuracy: 0.5128\n",
            "Epoch 8/20\n",
            "702/702 [==============================] - 107s 153ms/step - loss: 1.4185 - sparse_categorical_crossentropy: 2.8451 - masked_loss: 3.0043 - sparse_categorical_accuracy: 0.5103 - val_loss: 1.3823 - val_sparse_categorical_crossentropy: 2.8171 - val_masked_loss: 2.9796 - val_sparse_categorical_accuracy: 0.5385\n",
            "Epoch 9/20\n",
            "702/702 [==============================] - 108s 154ms/step - loss: 1.3049 - sparse_categorical_crossentropy: 2.6236 - masked_loss: 2.7705 - sparse_categorical_accuracy: 0.5359 - val_loss: 1.3195 - val_sparse_categorical_crossentropy: 2.6892 - val_masked_loss: 2.8442 - val_sparse_categorical_accuracy: 0.5545\n",
            "Epoch 10/20\n",
            "702/702 [==============================] - 107s 152ms/step - loss: 1.2122 - sparse_categorical_crossentropy: 2.4373 - masked_loss: 2.5740 - sparse_categorical_accuracy: 0.5582 - val_loss: 1.2546 - val_sparse_categorical_crossentropy: 2.5570 - val_masked_loss: 2.7045 - val_sparse_categorical_accuracy: 0.5699\n",
            "Epoch 11/20\n",
            "702/702 [==============================] - 107s 152ms/step - loss: 1.1381 - sparse_categorical_crossentropy: 2.2846 - masked_loss: 2.4124 - sparse_categorical_accuracy: 0.5782 - val_loss: 1.2082 - val_sparse_categorical_crossentropy: 2.4623 - val_masked_loss: 2.6043 - val_sparse_categorical_accuracy: 0.5862\n",
            "Epoch 12/20\n",
            "702/702 [==============================] - 107s 152ms/step - loss: 1.0705 - sparse_categorical_crossentropy: 2.1484 - masked_loss: 2.2687 - sparse_categorical_accuracy: 0.5953 - val_loss: 1.1813 - val_sparse_categorical_crossentropy: 2.4075 - val_masked_loss: 2.5464 - val_sparse_categorical_accuracy: 0.5945\n",
            "Epoch 13/20\n",
            "702/702 [==============================] - 107s 153ms/step - loss: 1.0146 - sparse_categorical_crossentropy: 2.0373 - masked_loss: 2.1513 - sparse_categorical_accuracy: 0.6094 - val_loss: 1.1521 - val_sparse_categorical_crossentropy: 2.3481 - val_masked_loss: 2.4835 - val_sparse_categorical_accuracy: 0.5996\n",
            "Epoch 14/20\n",
            "702/702 [==============================] - 108s 154ms/step - loss: 0.9651 - sparse_categorical_crossentropy: 1.9410 - masked_loss: 2.0497 - sparse_categorical_accuracy: 0.6222 - val_loss: 1.1305 - val_sparse_categorical_crossentropy: 2.3039 - val_masked_loss: 2.4368 - val_sparse_categorical_accuracy: 0.6063\n",
            "Epoch 15/20\n",
            "702/702 [==============================] - 108s 153ms/step - loss: 0.9263 - sparse_categorical_crossentropy: 1.8609 - masked_loss: 1.9651 - sparse_categorical_accuracy: 0.6330 - val_loss: 1.1092 - val_sparse_categorical_crossentropy: 2.2606 - val_masked_loss: 2.3910 - val_sparse_categorical_accuracy: 0.6129\n",
            "Epoch 16/20\n",
            "702/702 [==============================] - 108s 154ms/step - loss: 0.8881 - sparse_categorical_crossentropy: 1.7825 - masked_loss: 1.8822 - sparse_categorical_accuracy: 0.6433 - val_loss: 1.0993 - val_sparse_categorical_crossentropy: 2.2404 - val_masked_loss: 2.3697 - val_sparse_categorical_accuracy: 0.6211\n",
            "Epoch 17/20\n",
            "702/702 [==============================] - 107s 152ms/step - loss: 0.8562 - sparse_categorical_crossentropy: 1.7193 - masked_loss: 1.8156 - sparse_categorical_accuracy: 0.6513 - val_loss: 1.0954 - val_sparse_categorical_crossentropy: 2.2324 - val_masked_loss: 2.3612 - val_sparse_categorical_accuracy: 0.6201\n",
            "Epoch 18/20\n",
            "702/702 [==============================] - 108s 154ms/step - loss: 0.8268 - sparse_categorical_crossentropy: 1.6599 - masked_loss: 1.7528 - sparse_categorical_accuracy: 0.6604 - val_loss: 1.0872 - val_sparse_categorical_crossentropy: 2.2157 - val_masked_loss: 2.3435 - val_sparse_categorical_accuracy: 0.6229\n",
            "Epoch 19/20\n",
            "702/702 [==============================] - 108s 154ms/step - loss: 0.8007 - sparse_categorical_crossentropy: 1.6088 - masked_loss: 1.6988 - sparse_categorical_accuracy: 0.6670 - val_loss: 1.0775 - val_sparse_categorical_crossentropy: 2.1960 - val_masked_loss: 2.3227 - val_sparse_categorical_accuracy: 0.6273\n",
            "Epoch 20/20\n",
            "702/702 [==============================] - 108s 154ms/step - loss: 0.7759 - sparse_categorical_crossentropy: 1.5570 - masked_loss: 1.6442 - sparse_categorical_accuracy: 0.6743 - val_loss: 1.0728 - val_sparse_categorical_crossentropy: 2.1864 - val_masked_loss: 2.3125 - val_sparse_categorical_accuracy: 0.6316\n"
          ]
        }
      ]
    },
    {
      "cell_type": "code",
      "metadata": {
        "colab": {
          "base_uri": "https://localhost:8080/"
        },
        "id": "RoWgLVK-skQN",
        "outputId": "7cb33485-b3c1-4126-b8b1-535fec0a0f62"
      },
      "source": [
        "#num head = 4\n",
        "def generator(data_set):\n",
        "history = model.fit(x = generator(train_dataset), validation_data = generator(val_dataset), epochs=20, steps_per_epoch = num_batches, validation_steps = val_batches)"
      ],
      "execution_count": null,
      "outputs": [
        {
          "output_type": "stream",
          "name": "stdout",
          "text": [
            "Epoch 1/20\n",
            "702/702 [==============================] - 122s 151ms/step - loss: 3.5061 - sparse_categorical_crossentropy: 7.0478 - masked_loss: 7.2020 - sparse_categorical_accuracy: 0.1175 - val_loss: 2.7002 - val_sparse_categorical_crossentropy: 5.5031 - val_masked_loss: 5.8163 - val_sparse_categorical_accuracy: 0.2232\n",
            "Epoch 2/20\n",
            "702/702 [==============================] - 102s 146ms/step - loss: 2.4715 - sparse_categorical_crossentropy: 4.9621 - masked_loss: 5.2393 - sparse_categorical_accuracy: 0.2723 - val_loss: 2.2404 - val_sparse_categorical_crossentropy: 4.5660 - val_masked_loss: 4.8294 - val_sparse_categorical_accuracy: 0.3153\n",
            "Epoch 3/20\n",
            "702/702 [==============================] - 102s 145ms/step - loss: 2.1996 - sparse_categorical_crossentropy: 4.4218 - masked_loss: 4.6696 - sparse_categorical_accuracy: 0.3283 - val_loss: 2.0600 - val_sparse_categorical_crossentropy: 4.1984 - val_masked_loss: 4.4405 - val_sparse_categorical_accuracy: 0.3624\n",
            "Epoch 4/20\n",
            "702/702 [==============================] - 101s 144ms/step - loss: 2.0226 - sparse_categorical_crossentropy: 4.0617 - masked_loss: 4.2890 - sparse_categorical_accuracy: 0.3732 - val_loss: 1.8993 - val_sparse_categorical_crossentropy: 3.8708 - val_masked_loss: 4.0940 - val_sparse_categorical_accuracy: 0.4055\n",
            "Epoch 5/20\n",
            "702/702 [==============================] - 101s 144ms/step - loss: 1.8910 - sparse_categorical_crossentropy: 3.7944 - masked_loss: 4.0069 - sparse_categorical_accuracy: 0.4040 - val_loss: 1.8018 - val_sparse_categorical_crossentropy: 3.6722 - val_masked_loss: 3.8839 - val_sparse_categorical_accuracy: 0.4311\n",
            "Epoch 6/20\n",
            "702/702 [==============================] - 102s 145ms/step - loss: 1.7932 - sparse_categorical_crossentropy: 3.6067 - masked_loss: 3.8087 - sparse_categorical_accuracy: 0.4242 - val_loss: 1.7300 - val_sparse_categorical_crossentropy: 3.5259 - val_masked_loss: 3.7291 - val_sparse_categorical_accuracy: 0.4448\n",
            "Epoch 7/20\n",
            "702/702 [==============================] - 102s 146ms/step - loss: 1.7026 - sparse_categorical_crossentropy: 3.4099 - masked_loss: 3.6006 - sparse_categorical_accuracy: 0.4450 - val_loss: 1.6315 - val_sparse_categorical_crossentropy: 3.3251 - val_masked_loss: 3.5169 - val_sparse_categorical_accuracy: 0.4743\n",
            "Epoch 8/20\n",
            "702/702 [==============================] - 102s 145ms/step - loss: 1.5952 - sparse_categorical_crossentropy: 3.2056 - masked_loss: 3.3850 - sparse_categorical_accuracy: 0.4668 - val_loss: 1.5623 - val_sparse_categorical_crossentropy: 3.1839 - val_masked_loss: 3.3675 - val_sparse_categorical_accuracy: 0.4886\n",
            "Epoch 9/20\n",
            "702/702 [==============================] - 103s 146ms/step - loss: 1.5073 - sparse_categorical_crossentropy: 3.0293 - masked_loss: 3.1988 - sparse_categorical_accuracy: 0.4846 - val_loss: 1.5004 - val_sparse_categorical_crossentropy: 3.0580 - val_masked_loss: 3.2343 - val_sparse_categorical_accuracy: 0.5032\n",
            "Epoch 10/20\n",
            "702/702 [==============================] - 102s 145ms/step - loss: 1.4290 - sparse_categorical_crossentropy: 2.8658 - masked_loss: 3.0262 - sparse_categorical_accuracy: 0.5025 - val_loss: 1.4287 - val_sparse_categorical_crossentropy: 2.9118 - val_masked_loss: 3.0797 - val_sparse_categorical_accuracy: 0.5218\n",
            "Epoch 11/20\n",
            "702/702 [==============================] - 102s 145ms/step - loss: 1.3520 - sparse_categorical_crossentropy: 2.7188 - masked_loss: 2.8710 - sparse_categorical_accuracy: 0.5184 - val_loss: 1.3779 - val_sparse_categorical_crossentropy: 2.8081 - val_masked_loss: 2.9700 - val_sparse_categorical_accuracy: 0.5341\n",
            "Epoch 12/20\n",
            "702/702 [==============================] - 102s 145ms/step - loss: 1.2929 - sparse_categorical_crossentropy: 2.5998 - masked_loss: 2.7454 - sparse_categorical_accuracy: 0.5311 - val_loss: 1.3360 - val_sparse_categorical_crossentropy: 2.7228 - val_masked_loss: 2.8798 - val_sparse_categorical_accuracy: 0.5417\n",
            "Epoch 13/20\n",
            "702/702 [==============================] - 103s 147ms/step - loss: 1.2380 - sparse_categorical_crossentropy: 2.4871 - masked_loss: 2.6263 - sparse_categorical_accuracy: 0.5441 - val_loss: 1.3031 - val_sparse_categorical_crossentropy: 2.6558 - val_masked_loss: 2.8089 - val_sparse_categorical_accuracy: 0.5574\n",
            "Epoch 14/20\n",
            "702/702 [==============================] - 102s 146ms/step - loss: 1.1885 - sparse_categorical_crossentropy: 2.3890 - masked_loss: 2.5229 - sparse_categorical_accuracy: 0.5558 - val_loss: 1.2745 - val_sparse_categorical_crossentropy: 2.5975 - val_masked_loss: 2.7473 - val_sparse_categorical_accuracy: 0.5617\n",
            "Epoch 15/20\n",
            "702/702 [==============================] - 103s 147ms/step - loss: 1.1466 - sparse_categorical_crossentropy: 2.3043 - masked_loss: 2.4334 - sparse_categorical_accuracy: 0.5660 - val_loss: 1.2497 - val_sparse_categorical_crossentropy: 2.5470 - val_masked_loss: 2.6939 - val_sparse_categorical_accuracy: 0.5686\n",
            "Epoch 16/20\n",
            "702/702 [==============================] - 102s 146ms/step - loss: 1.1085 - sparse_categorical_crossentropy: 2.2251 - masked_loss: 2.3498 - sparse_categorical_accuracy: 0.5764 - val_loss: 1.2303 - val_sparse_categorical_crossentropy: 2.5074 - val_masked_loss: 2.6520 - val_sparse_categorical_accuracy: 0.5739\n",
            "Epoch 17/20\n",
            "702/702 [==============================] - 102s 146ms/step - loss: 1.0704 - sparse_categorical_crossentropy: 2.1534 - masked_loss: 2.2740 - sparse_categorical_accuracy: 0.5854 - val_loss: 1.2116 - val_sparse_categorical_crossentropy: 2.4692 - val_masked_loss: 2.6116 - val_sparse_categorical_accuracy: 0.5775\n",
            "Epoch 18/20\n",
            "702/702 [==============================] - 103s 146ms/step - loss: 1.0442 - sparse_categorical_crossentropy: 2.0947 - masked_loss: 2.2119 - sparse_categorical_accuracy: 0.5933 - val_loss: 1.1982 - val_sparse_categorical_crossentropy: 2.4420 - val_masked_loss: 2.5827 - val_sparse_categorical_accuracy: 0.5847\n",
            "Epoch 19/20\n",
            "702/702 [==============================] - 103s 147ms/step - loss: 1.0144 - sparse_categorical_crossentropy: 2.0355 - masked_loss: 2.1494 - sparse_categorical_accuracy: 0.6000 - val_loss: 1.1862 - val_sparse_categorical_crossentropy: 2.4175 - val_masked_loss: 2.5569 - val_sparse_categorical_accuracy: 0.5888\n",
            "Epoch 20/20\n",
            "628/702 [=========================>....] - ETA: 10s - loss: 0.9854 - sparse_categorical_crossentropy: 1.9797 - masked_loss: 2.0906 - sparse_categorical_accuracy: 0.6080"
          ]
        }
      ]
    },
    {
      "cell_type": "code",
      "source": [
        "#num head = 1\n",
        "def generator(data_set):\n",
        "history = model.fit(x = generator(train_dataset), validation_data = generator(val_dataset), epochs=20, steps_per_epoch = num_batches, validation_steps = val_batches)"
      ],
      "metadata": {
        "colab": {
          "base_uri": "https://localhost:8080/"
        },
        "id": "upsL0nUKcvu6",
        "outputId": "f129b4f4-1f12-4000-850a-b7de8d53f434"
      },
      "execution_count": null,
      "outputs": [
        {
          "output_type": "stream",
          "name": "stdout",
          "text": [
            "Epoch 1/20\n",
            "702/702 [==============================] - 114s 140ms/step - loss: 3.5457 - sparse_categorical_crossentropy: 7.1255 - masked_loss: 7.2743 - sparse_categorical_accuracy: 0.0933 - val_loss: 2.7728 - val_sparse_categorical_crossentropy: 5.6511 - val_masked_loss: 5.9713 - val_sparse_categorical_accuracy: 0.2080\n",
            "Epoch 2/20\n",
            "702/702 [==============================] - 94s 134ms/step - loss: 2.5290 - sparse_categorical_crossentropy: 5.0694 - masked_loss: 5.3522 - sparse_categorical_accuracy: 0.2592 - val_loss: 2.2909 - val_sparse_categorical_crossentropy: 4.6689 - val_masked_loss: 4.9382 - val_sparse_categorical_accuracy: 0.3009\n",
            "Epoch 3/20\n",
            "702/702 [==============================] - 94s 134ms/step - loss: 2.2715 - sparse_categorical_crossentropy: 4.5640 - masked_loss: 4.8196 - sparse_categorical_accuracy: 0.3044 - val_loss: 2.1949 - val_sparse_categorical_crossentropy: 4.4734 - val_masked_loss: 4.7314 - val_sparse_categorical_accuracy: 0.3137\n",
            "Epoch 4/20\n",
            "702/702 [==============================] - 94s 134ms/step - loss: 2.1805 - sparse_categorical_crossentropy: 4.3844 - masked_loss: 4.6299 - sparse_categorical_accuracy: 0.3185 - val_loss: 2.1444 - val_sparse_categorical_crossentropy: 4.3703 - val_masked_loss: 4.6224 - val_sparse_categorical_accuracy: 0.3243\n",
            "Epoch 5/20\n",
            "702/702 [==============================] - 94s 134ms/step - loss: 2.1278 - sparse_categorical_crossentropy: 4.2822 - masked_loss: 4.5220 - sparse_categorical_accuracy: 0.3241 - val_loss: 2.1071 - val_sparse_categorical_crossentropy: 4.2943 - val_masked_loss: 4.5419 - val_sparse_categorical_accuracy: 0.3297\n",
            "Epoch 6/20\n",
            "702/702 [==============================] - 94s 134ms/step - loss: 2.0883 - sparse_categorical_crossentropy: 4.1985 - masked_loss: 4.4337 - sparse_categorical_accuracy: 0.3309 - val_loss: 2.0768 - val_sparse_categorical_crossentropy: 4.2326 - val_masked_loss: 4.4767 - val_sparse_categorical_accuracy: 0.3332\n",
            "Epoch 7/20\n",
            "702/702 [==============================] - 94s 134ms/step - loss: 2.0486 - sparse_categorical_crossentropy: 4.1237 - masked_loss: 4.3547 - sparse_categorical_accuracy: 0.3342 - val_loss: 2.0558 - val_sparse_categorical_crossentropy: 4.1899 - val_masked_loss: 4.4315 - val_sparse_categorical_accuracy: 0.3399\n",
            "Epoch 8/20\n",
            "702/702 [==============================] - 94s 134ms/step - loss: 2.0133 - sparse_categorical_crossentropy: 4.0448 - masked_loss: 4.2713 - sparse_categorical_accuracy: 0.3380 - val_loss: 2.0690 - val_sparse_categorical_crossentropy: 4.2168 - val_masked_loss: 4.4601 - val_sparse_categorical_accuracy: 0.3322\n",
            "Epoch 9/20\n",
            "702/702 [==============================] - 94s 134ms/step - loss: 1.9937 - sparse_categorical_crossentropy: 4.0043 - masked_loss: 4.2289 - sparse_categorical_accuracy: 0.3373 - val_loss: 2.0585 - val_sparse_categorical_crossentropy: 4.1952 - val_masked_loss: 4.4372 - val_sparse_categorical_accuracy: 0.3327\n",
            "Epoch 10/20\n",
            "702/702 [==============================] - 94s 134ms/step - loss: 1.9763 - sparse_categorical_crossentropy: 3.9595 - masked_loss: 4.1809 - sparse_categorical_accuracy: 0.3382 - val_loss: 2.0582 - val_sparse_categorical_crossentropy: 4.1947 - val_masked_loss: 4.4367 - val_sparse_categorical_accuracy: 0.3291\n",
            "Epoch 11/20\n",
            "702/702 [==============================] - 94s 134ms/step - loss: 1.9424 - sparse_categorical_crossentropy: 3.9011 - masked_loss: 4.1196 - sparse_categorical_accuracy: 0.3419 - val_loss: 2.0606 - val_sparse_categorical_crossentropy: 4.1995 - val_masked_loss: 4.4417 - val_sparse_categorical_accuracy: 0.3239\n",
            "Epoch 12/20\n",
            "702/702 [==============================] - 94s 133ms/step - loss: 1.9105 - sparse_categorical_crossentropy: 3.8437 - masked_loss: 4.0590 - sparse_categorical_accuracy: 0.3459 - val_loss: 2.0530 - val_sparse_categorical_crossentropy: 4.1842 - val_masked_loss: 4.4255 - val_sparse_categorical_accuracy: 0.3296\n",
            "Epoch 13/20\n",
            "702/702 [==============================] - 94s 133ms/step - loss: 1.9051 - sparse_categorical_crossentropy: 3.8204 - masked_loss: 4.0346 - sparse_categorical_accuracy: 0.3460 - val_loss: 2.0623 - val_sparse_categorical_crossentropy: 4.2031 - val_masked_loss: 4.4455 - val_sparse_categorical_accuracy: 0.3263\n",
            "Epoch 14/20\n",
            "702/702 [==============================] - 94s 133ms/step - loss: 1.8877 - sparse_categorical_crossentropy: 3.7889 - masked_loss: 4.0011 - sparse_categorical_accuracy: 0.3476 - val_loss: 2.0618 - val_sparse_categorical_crossentropy: 4.2020 - val_masked_loss: 4.4443 - val_sparse_categorical_accuracy: 0.3250\n",
            "Epoch 15/20\n",
            "702/702 [==============================] - 94s 133ms/step - loss: 1.8698 - sparse_categorical_crossentropy: 3.7542 - masked_loss: 3.9646 - sparse_categorical_accuracy: 0.3491 - val_loss: 2.0556 - val_sparse_categorical_crossentropy: 4.1895 - val_masked_loss: 4.4311 - val_sparse_categorical_accuracy: 0.3286\n",
            "Epoch 16/20\n",
            "702/702 [==============================] - 95s 135ms/step - loss: 1.8500 - sparse_categorical_crossentropy: 3.7223 - masked_loss: 3.9308 - sparse_categorical_accuracy: 0.3509 - val_loss: 2.0568 - val_sparse_categorical_crossentropy: 4.1919 - val_masked_loss: 4.4337 - val_sparse_categorical_accuracy: 0.3319\n",
            "Epoch 17/20\n",
            "702/702 [==============================] - 94s 134ms/step - loss: 1.8389 - sparse_categorical_crossentropy: 3.6900 - masked_loss: 3.8966 - sparse_categorical_accuracy: 0.3539 - val_loss: 2.0772 - val_sparse_categorical_crossentropy: 4.2335 - val_masked_loss: 4.4777 - val_sparse_categorical_accuracy: 0.3229\n",
            "Epoch 18/20\n",
            "702/702 [==============================] - 94s 134ms/step - loss: 1.8262 - sparse_categorical_crossentropy: 3.6626 - masked_loss: 3.8676 - sparse_categorical_accuracy: 0.3557 - val_loss: 2.0631 - val_sparse_categorical_crossentropy: 4.2047 - val_masked_loss: 4.4472 - val_sparse_categorical_accuracy: 0.3284\n",
            "Epoch 19/20\n",
            "702/702 [==============================] - 95s 135ms/step - loss: 1.8108 - sparse_categorical_crossentropy: 3.6385 - masked_loss: 3.8426 - sparse_categorical_accuracy: 0.3576 - val_loss: 2.0666 - val_sparse_categorical_crossentropy: 4.2119 - val_masked_loss: 4.4548 - val_sparse_categorical_accuracy: 0.3319\n",
            "Epoch 20/20\n",
            "702/702 [==============================] - 95s 135ms/step - loss: 1.8049 - sparse_categorical_crossentropy: 3.6236 - masked_loss: 3.8263 - sparse_categorical_accuracy: 0.3580 - val_loss: 2.0858 - val_sparse_categorical_crossentropy: 4.2510 - val_masked_loss: 4.4962 - val_sparse_categorical_accuracy: 0.3242\n"
          ]
        }
      ]
    },
    {
      "cell_type": "code",
      "source": [
        "from google.colab import drive\n",
        "drive.mount('/content/drive/', force_remount=True)"
      ],
      "metadata": {
        "colab": {
          "base_uri": "https://localhost:8080/"
        },
        "id": "m4TsB5VQmX44",
        "outputId": "dc28b685-cd2b-4f02-dc7a-d7f3465a194a"
      },
      "execution_count": null,
      "outputs": [
        {
          "output_type": "stream",
          "name": "stdout",
          "text": [
            "Mounted at /content/drive/\n"
          ]
        }
      ]
    },
    {
      "cell_type": "code",
      "source": [
        "#model.save('/content/drive/My Drive/NN/model_Transformers_8h.h5')  # creates a HDF5 file 'my_model.h5'\n",
        "model.save_weights('/content/drive/My Drive/NN/model_weight_Transformers_16h.h5');"
      ],
      "metadata": {
        "id": "qNJjZwRrmX8A"
      },
      "execution_count": null,
      "outputs": []
    },
    {
      "cell_type": "code",
      "source": [
        "\n",
        "model.load_weights('/content/drive/My Drive/NN/model_weight_Transformers_8h.h5')"
      ],
      "metadata": {
        "id": "N-HL6coCmX_S"
      },
      "execution_count": null,
      "outputs": []
    },
    {
      "cell_type": "markdown",
      "source": [
        "Первая фраза реальный перевод, вторая перевод трансформера"
      ],
      "metadata": {
        "id": "lHn5TjWz5qvf"
      }
    },
    {
      "cell_type": "code",
      "source": [
        "for i in range(10):\n",
        "  translation = [tokenizer_en.vocab_size]\n",
        "  for _ in range(40):\n",
        "    predict = model.predict([pt_batch[i:i+1],np.asarray([translation])])\n",
        "    translation.append(np.argmax(predict[-1,-1]))\n",
        "    if translation[-1] == tokenizer_en.vocab_size + 1:\n",
        "      break\n",
        "\n",
        "  real_translation = []\n",
        "  for w in en_batch[:,1:][i].numpy():\n",
        "    if w == tokenizer_en.vocab_size + 1:\n",
        "      break\n",
        "    real_translation.append(w)\n",
        "  print(tokenizer_en.decode(real_translation))\n",
        "  print(tokenizer_en.decode(translation[1:-1]))\n",
        "  print(\"\")"
      ],
      "metadata": {
        "colab": {
          "base_uri": "https://localhost:8080/"
        },
        "id": "dTzrS-WmmYCs",
        "outputId": "edd754e7-842e-4452-a4d6-0d3eea3518c9"
      },
      "execution_count": null,
      "outputs": [
        {
          "output_type": "stream",
          "name": "stdout",
          "text": [
            "WARNING:tensorflow:5 out of the last 146 calls to <function Model.make_predict_function.<locals>.predict_function at 0x7fba715de560> triggered tf.function retracing. Tracing is expensive and the excessive number of tracings could be due to (1) creating @tf.function repeatedly in a loop, (2) passing tensors with different shapes, (3) passing Python objects instead of tensors. For (1), please define your @tf.function outside of the loop. For (2), @tf.function has experimental_relax_shapes=True option that relaxes argument shapes that can avoid unnecessary retracing. For (3), please refer to https://www.tensorflow.org/guide/function#controlling_retracing and https://www.tensorflow.org/api_docs/python/tf/function for  more details.\n"
          ]
        },
        {
          "output_type": "stream",
          "name": "stderr",
          "text": [
            "WARNING:tensorflow:5 out of the last 146 calls to <function Model.make_predict_function.<locals>.predict_function at 0x7fba715de560> triggered tf.function retracing. Tracing is expensive and the excessive number of tracings could be due to (1) creating @tf.function repeatedly in a loop, (2) passing tensors with different shapes, (3) passing Python objects instead of tensors. For (1), please define your @tf.function outside of the loop. For (2), @tf.function has experimental_relax_shapes=True option that relaxes argument shapes that can avoid unnecessary retracing. For (3), please refer to https://www.tensorflow.org/guide/function#controlling_retracing and https://www.tensorflow.org/api_docs/python/tf/function for  more details.\n"
          ]
        },
        {
          "output_type": "stream",
          "name": "stdout",
          "text": [
            "did they eat fish and chips ?\n",
            "did you have dinner with the friers ?\n",
            "\n",
            "i was always worried about being caught and sent back .\n",
            "i always was concerned about being caught and sent back .\n",
            "\n",
            "i chose one with the skin color of a lobster when sunburnt .\n",
            "i chose a tone with the wall of a glacier with a cage .\n",
            "\n",
            "but i think this is quite clearly untrue .\n",
            "but i think this is clearly fake .\n",
            "\n",
            "we have measured our progress very rigorously .\n",
            "we have the measurement of our own progressive progress .\n",
            "\n",
            "and from what i feel , it 's a cure for me , but for us all .\n",
            "and in my opinion , it 's a cure not just for me , but for everyone .\n",
            "\n",
            "it 's a work in progress from a personal story to a global history .\n",
            "it 's a work in a global history of a global history for a global history .\n",
            "\n",
            "i mean , it 's just a losing proposition .\n",
            "i mean , it 's a blind proposition .\n",
            "\n",
            "so , how do we have these conversations more easily and more often ?\n",
            "so how do we have these conversations more easily and more times ?\n",
            "\n",
            "and issue rogue certificates .\n",
            "and they have run out of false fakes .\n",
            "\n"
          ]
        }
      ]
    },
    {
      "cell_type": "markdown",
      "source": [
        "Вывод Чем больше голов тем сильнее падает функция потерь, если сделать 16 голов становится хуже сеть переучивается."
      ],
      "metadata": {
        "id": "bCu4CZqs6NII"
      }
    },
    {
      "cell_type": "code",
      "source": [],
      "metadata": {
        "id": "X5RQsP6emYGG"
      },
      "execution_count": null,
      "outputs": []
    },
    {
      "cell_type": "code",
      "source": [],
      "metadata": {
        "id": "ACZzfnP3mYJQ"
      },
      "execution_count": null,
      "outputs": []
    },
    {
      "cell_type": "code",
      "source": [],
      "metadata": {
        "id": "X_CP-_xamYMi"
      },
      "execution_count": null,
      "outputs": []
    },
    {
      "cell_type": "code",
      "source": [],
      "metadata": {
        "id": "Sf5bmZDdmYQB"
      },
      "execution_count": null,
      "outputs": []
    },
    {
      "cell_type": "code",
      "source": [],
      "metadata": {
        "id": "1w2YeyuYmYTh"
      },
      "execution_count": null,
      "outputs": []
    }
  ]
}