{
  "nbformat": 4,
  "nbformat_minor": 0,
  "metadata": {
    "colab": {
      "provenance": [],
      "machine_shape": "hm"
    },
    "kernelspec": {
      "name": "python3",
      "display_name": "Python 3"
    },
    "language_info": {
      "name": "python"
    },
    "accelerator": "GPU"
  },
  "cells": [
    {
      "cell_type": "markdown",
      "source": [
        "Переводчик (Seq to Seq) с вниманием."
      ],
      "metadata": {
        "id": "wX90Fc7y2M1e"
      }
    },
    {
      "cell_type": "markdown",
      "source": [
        "#Добро пожаловать на задание уровня Lite.\n",
        "\n",
        "В данном задании требуется на базе текстов добиться ошибки меньше 0.2, причем потребуется это сделать за 5 эпох (Во избежание слишком долгого ожидания обучения).\n",
        "\n",
        "Подсказка: В данной задаче поможет подбор гиперпараметров и можно взять за основу ноутбук практики.\n",
        "\n",
        "Успехов!"
      ],
      "metadata": {
        "id": "LSuU8TGeDbiB"
      }
    },
    {
      "cell_type": "code",
      "source": [],
      "metadata": {
        "id": "xN57lemlxXkc"
      },
      "execution_count": null,
      "outputs": []
    },
    {
      "cell_type": "code",
      "source": [],
      "metadata": {
        "id": "r3dQ7qasxXoB"
      },
      "execution_count": null,
      "outputs": []
    },
    {
      "cell_type": "code",
      "metadata": {
        "id": "n7LxGv5bdgmN"
      },
      "source": [
        "# модуль для загрузки файлов в colab\n",
        "from google.colab import files \n",
        "\n",
        "# Подключим tensorflow\n",
        "import tensorflow as tf \n",
        "\n",
        "# Подключим токенайзер\n",
        "from tensorflow.keras.preprocessing.text import Tokenizer\n",
        "\n",
        "# Используем метод для формирования последовательностей одинаковой длины\n",
        "from tensorflow.keras.preprocessing.sequence import pad_sequences \n",
        "\n",
        "# Загружаем абстрактный класс базовой модели сети от кераса\n",
        "from tensorflow.keras.models import Model \n",
        "\n",
        "# Подключим необходимые слои\n",
        "from tensorflow.keras.layers import Dense, Embedding, GRU\n",
        "\n",
        "# Подключим оптимайзер\n",
        "from tensorflow.keras.optimizers import Adam \n",
        "\n",
        "# Подключим функцию потерь\n",
        "from tensorflow.keras.losses import SparseCategoricalCrossentropy\n",
        "\n",
        "# Подключим numpy - библиотеку для работы с массивами данных\n",
        "import numpy as np \n",
        "\n",
        "# Подключим библиотеку для визуализации данных\n",
        "import matplotlib.pyplot as plt \n",
        "\n",
        "# Подключим модуль для определения форматирования и местоположения делений на осях графиков\n",
        "import matplotlib.ticker as ticker \n",
        "\n",
        "# Подключим модуль для разбивки данных на обучающую и тестовую выборки\n",
        "from sklearn.model_selection import train_test_split \n",
        "\n",
        "# Подключим модуль для работы с регулярными выражениями\n",
        "import re \n",
        "\n",
        "# Подключим модуль для работы с временем\n",
        "import time\n",
        "\n",
        "# Подключим модуль для работы с операционной системой\n",
        "import os "
      ],
      "execution_count": null,
      "outputs": []
    },
    {
      "cell_type": "code",
      "metadata": {
        "colab": {
          "base_uri": "https://localhost:8080/"
        },
        "id": "IjqYknxCqmX8",
        "outputId": "9500cded-8bf3-4ed1-e090-2bf8cd0b8df3"
      },
      "source": [
        "# Скачаем датасет из пар фраз на русском и английском языках \n",
        "!wget  http://www.manythings.org/anki/rus-eng.zip\n"
      ],
      "execution_count": null,
      "outputs": [
        {
          "output_type": "stream",
          "name": "stdout",
          "text": [
            "--2022-01-21 14:53:01--  http://www.manythings.org/anki/rus-eng.zip\n",
            "Resolving www.manythings.org (www.manythings.org)... 104.21.92.44, 172.67.186.54, 2606:4700:3030::6815:5c2c, ...\n",
            "Connecting to www.manythings.org (www.manythings.org)|104.21.92.44|:80... connected.\n",
            "HTTP request sent, awaiting response... 200 OK\n",
            "Length: 14683939 (14M) [application/zip]\n",
            "Saving to: ‘rus-eng.zip’\n",
            "\n",
            "rus-eng.zip         100%[===================>]  14.00M  20.4MB/s    in 0.7s    \n",
            "\n",
            "2022-01-21 14:53:02 (20.4 MB/s) - ‘rus-eng.zip’ saved [14683939/14683939]\n",
            "\n"
          ]
        }
      ]
    },
    {
      "cell_type": "code",
      "metadata": {
        "colab": {
          "base_uri": "https://localhost:8080/"
        },
        "id": "2VlOfx4jtB9e",
        "outputId": "98568928-91e1-4713-cbd2-6fbd9de19f5c"
      },
      "source": [
        "!unzip -o rus-eng.zip "
      ],
      "execution_count": null,
      "outputs": [
        {
          "output_type": "stream",
          "name": "stdout",
          "text": [
            "Archive:  rus-eng.zip\n",
            "  inflating: rus.txt                 \n",
            "  inflating: _about.txt              \n"
          ]
        }
      ]
    },
    {
      "cell_type": "code",
      "metadata": {
        "id": "bHBPiDxa9_Mg",
        "colab": {
          "base_uri": "https://localhost:8080/"
        },
        "outputId": "6a680fe9-cae6-43ac-9626-6821dc2decbf"
      },
      "source": [
        "# Проверим распакованные файлы\n",
        "!ls"
      ],
      "execution_count": null,
      "outputs": [
        {
          "output_type": "stream",
          "name": "stdout",
          "text": [
            "_about.txt  rus-eng.zip  rus.txt  sample_data\n"
          ]
        }
      ]
    },
    {
      "cell_type": "code",
      "metadata": {
        "id": "8O7TDn54-ATt"
      },
      "source": [
        "# Определим переменную с именем файла с датасетом\n",
        "path_to_file=\"rus.txt\""
      ],
      "execution_count": null,
      "outputs": []
    },
    {
      "cell_type": "code",
      "metadata": {
        "id": "aWA1mr0Rqq_9"
      },
      "source": [
        "def preprocess_sentence(phrases): # Функция принимает содержимое словаря\n",
        "\n",
        "  # Разделяем пробелами слова и знаки препинания(\"А как насчет тебя? \" -> \"А как насчет тебя ? \") \n",
        "  phrases = re.sub(r\"([?.!,;:])\", r\" \\1 \", phrases) # r\" \\1 \" берёт значения 1й группы в скобках; обрамляем указанные символы пробелами\n",
        "\n",
        "  # Заменяем всё на пробелы, за исключением (a-zA-Zа-яёА-ЯЁ?.!,;:)\n",
        "  phrases = re.sub(r\"[^a-zA-Zа-яёА-ЯЁ?.!,;:]+\", \" \", phrases) \n",
        "  \n",
        "  # Получаем строку без случайных лишних пробелов в конце фраз(rstrip удаляет с конца строки)\n",
        "  phrases = phrases.rstrip().strip()      \n",
        "\n",
        "  # Для нашей модели обозначим тегами начало и конец предложения  \n",
        "  phrases = '<start> ' + phrases + ' <end>' \n",
        "\n",
        "  # Функция возвращает предобработанные фразы\n",
        "  return phrases "
      ],
      "execution_count": null,
      "outputs": []
    },
    {
      "cell_type": "code",
      "metadata": {
        "id": "WKj6v9AIvdSU",
        "colab": {
          "base_uri": "https://localhost:8080/"
        },
        "outputId": "f78f4c65-f5ac-4fa5-c063-68dcadb07ee9"
      },
      "source": [
        "# Покажем пример обработки фразц\n",
        "\n",
        "print(\"Фразы после обработки функцией с т.з. пунктуации примут вид:\") \n",
        "print(preprocess_sentence(\"What about you?\"))                         # Выведем пример до обработки \n",
        "print(preprocess_sentence(\"А как насчет тебя?\"))                      # И после"
      ],
      "execution_count": null,
      "outputs": [
        {
          "output_type": "stream",
          "name": "stdout",
          "text": [
            "Фразы после обработки функцией с т.з. пунктуации примут вид:\n",
            "<start> What about you ? <end>\n",
            "<start> А как насчет тебя ? <end>\n"
          ]
        }
      ]
    },
    {
      "cell_type": "code",
      "source": [],
      "metadata": {
        "id": "uaNdSe62eeaD"
      },
      "execution_count": null,
      "outputs": []
    },
    {
      "cell_type": "code",
      "metadata": {
        "id": "aRaVcSowqr9e"
      },
      "source": [
        "# Функция создания датасета\n",
        "\n",
        "def create_dataset(path,          # Путь к файлу\n",
        "                   num_examples): # Необходимый размер датасета \n",
        "\n",
        "  # Открываем файл и разбиваем фразы на отдельные строчки\n",
        "  lines = open(path, encoding='UTF-8').read().strip().split('\\n')\n",
        "\n",
        "  # В каждой строке словаря разделяем английскую фразу от русской, и пропускаем через функцию предобработки данных\n",
        "  word_pairs = [[preprocess_sentence(phrases) for phrases in l.split('\\t')[0:2]]  for l in lines[:num_examples]]\n",
        "\n",
        "  # Вернем пары фраз в виде [по-английски, по-русски]\n",
        "  return zip(*word_pairs)\n"
      ],
      "execution_count": null,
      "outputs": []
    },
    {
      "cell_type": "code",
      "metadata": {
        "id": "k5iuvrauv4KN",
        "colab": {
          "base_uri": "https://localhost:8080/"
        },
        "outputId": "b644a82f-bc3f-4ad3-cbae-1ecd63651a0a"
      },
      "source": [
        "print(\"Взглянем на пример пары фраз на выходе функции:\")\n",
        "\n",
        "english, russian = create_dataset(path_to_file,40000) # Вызовем функцию для демонстрации\n",
        "print(english[-1])                                    # Выведем последний элемент из списка английских фраз\n",
        "print(russian[-1])                                    # Выведем последний элемент из списка русских фраз"
      ],
      "execution_count": null,
      "outputs": [
        {
          "output_type": "stream",
          "name": "stdout",
          "text": [
            "Взглянем на пример пары фраз на выходе функции:\n",
            "<start> Don t be too long . <end>\n",
            "<start> Не тяните . <end>\n"
          ]
        }
      ]
    },
    {
      "cell_type": "code",
      "metadata": {
        "id": "J5xw1cPZqu5d"
      },
      "source": [
        "# Создадим мини-функцию, возвращающую максимальную длину тензора\n",
        "def max_length(tensor): # Функция принимает на вход тензор(фразы в виде последовательности индексов)\n",
        "\n",
        "  # Вернем значение максимальной длины его элемента \n",
        "  return max(len(t) for t in tensor) "
      ],
      "execution_count": null,
      "outputs": []
    },
    {
      "cell_type": "code",
      "metadata": {
        "id": "VTLSJIakPmEz"
      },
      "source": [
        "def tokenize(language): # Функция принимает текст одного из языков\n",
        "\n",
        "  language_tokenizer = Tokenizer(filters='')               # Вызываем класс Токенизатор, просим его не удалять символы, которые он удаляет по умолчанию\n",
        "  language_tokenizer.fit_on_texts(language)                # \"скармливаем\" ему тексты для обработки и сборки словаря частотности\n",
        "  tensor = language_tokenizer.texts_to_sequences(language) # Разбиваем текст фраз на последовательности индексов\n",
        "  tensor = pad_sequences(tensor, padding='post')           # Делаем последовательности фиксированной длины, заполняя нулями более короткие фразы\n",
        "\n",
        "  # Возвращаем последовательность индексов(назовем ее тензор) и токенизатор\n",
        "  return tensor, language_tokenizer "
      ],
      "execution_count": null,
      "outputs": []
    },
    {
      "cell_type": "code",
      "metadata": {
        "id": "yaKt_YpuPmbQ"
      },
      "source": [
        "def load_dataset(path,               # Путь к файлу с текстами\n",
        "                 num_examples=None): # Необходимый объем датасета\n",
        "\n",
        "    # Из исходного текста делаем датасет пар фраз, причём входным языком для сети сделаем русский\n",
        "    targ_language, inp_language = create_dataset(path, num_examples)\n",
        "\n",
        "    # Разбиваем текст на последовательность индексов(назовем ее тензор)\n",
        "    input_tensor, inp_language_tokenizer = tokenize(inp_language)    # Формируем тензоры и токенизатор для русского языка\n",
        "    target_tensor, targ_language_tokenizer = tokenize(targ_language) # Формируем тензоры и токенизатор для английского языка\n",
        "\n",
        "    # Функция вернёт: тензор для русского языка, для английского языка; токенизаторы для русского и английского языков\n",
        "    return input_tensor, target_tensor, inp_language_tokenizer, targ_language_tokenizer"
      ],
      "execution_count": null,
      "outputs": []
    },
    {
      "cell_type": "code",
      "metadata": {
        "id": "GPfw_d52qxtK"
      },
      "source": [
        "num_examples = 40000 # Выберем 40 тысяч строк(всего в базе около 360тысяч строк, в каждой пара фраз)\n",
        "\n",
        "input_tensor, target_tensor, inp_language_tokenizer, targ_language_tokenizer = load_dataset(path_to_file, num_examples)\n",
        "\n",
        "# Вычислим максимальные длины тензоров для английского и русского языков, используя ранее заданную функцию\n",
        "max_length_targ, max_length_inp = max_length(target_tensor), max_length(input_tensor)\n",
        "\n",
        "# Создаем тренировочную и тестовую выборки по формуле 80/20\n",
        "input_tensor_train, input_tensor_val, target_tensor_train, target_tensor_val = train_test_split(input_tensor, target_tensor, test_size=0.2)"
      ],
      "execution_count": null,
      "outputs": []
    },
    {
      "cell_type": "code",
      "metadata": {
        "id": "e_Xhk8pb5byY"
      },
      "source": [
        "# Визуализируем собранные данные\n",
        "\n",
        "def convert(language_tokenizer,  # Токенайзер\n",
        "            tensor):             # Список индексов слов\n",
        "            \n",
        "  #  Цикл по токенам во фразе\n",
        "  for t in tensor:  \n",
        "    if t!=0:                                                        # Если токен не 0. Т.е. не мусор в конце фразы\n",
        "      print (\"%d ----> %s\" % (t, language_tokenizer.index_word[t])) # Выводи токен и соответствующее слово\n",
        "\n"
      ],
      "execution_count": null,
      "outputs": []
    },
    {
      "cell_type": "code",
      "metadata": {
        "id": "v2XeriQf5fVx",
        "colab": {
          "base_uri": "https://localhost:8080/"
        },
        "outputId": "9f7481ba-6d9c-43fa-f5b7-de644e9f6f28"
      },
      "source": [
        "print (\"Фраза на русском языке; соответствие индекса и слова\")   \n",
        "convert(inp_language_tokenizer, input_tensor_train[0])           # Выведем нулевую пару из русского датасета\n",
        "print ()    \n",
        "\n",
        "print (\"Фраза на английском языке; соответствие индекса и слова\")\n",
        "convert(targ_language_tokenizer, target_tensor_train[0])         # Выведем нулевую пару из агнлийского датасета\n",
        "print ()   \n",
        "                                                      \n",
        "print(\"Рус.яз. тренировочная: \" , len(input_tensor_train), \"фраз; \", \"Анг.яз. тренировочная: \", len(target_tensor_train), \"фраз\")# Выведем статистику по обучающей выборке\n",
        "print(\"Рус.яз. тестовая: \", len(input_tensor_val), \"фраз; \", \"Анг.яз. тестовая: \", len(target_tensor_val), \"фраз\")               # Выведем статистику по тестовой выборке"
      ],
      "execution_count": null,
      "outputs": [
        {
          "output_type": "stream",
          "name": "stdout",
          "text": [
            "Фраза на русском языке; соответствие индекса и слова\n",
            "1 ----> <start>\n",
            "4 ----> я\n",
            "7 ----> не\n",
            "2802 ----> поэт\n",
            "3 ----> .\n",
            "2 ----> <end>\n",
            "\n",
            "Фраза на английском языке; соответствие индекса и слова\n",
            "1 ----> <start>\n",
            "4 ----> i\n",
            "12 ----> m\n",
            "38 ----> not\n",
            "11 ----> a\n",
            "1537 ----> poet\n",
            "3 ----> .\n",
            "2 ----> <end>\n",
            "\n",
            "Рус.яз. тренировочная:  32000 фраз;  Анг.яз. тренировочная:  32000 фраз\n",
            "Рус.яз. тестовая:  8000 фраз;  Анг.яз. тестовая:  8000 фраз\n"
          ]
        }
      ]
    },
    {
      "cell_type": "code",
      "metadata": {
        "id": "MuEJJsHy9rp5"
      },
      "source": [
        "# Определим постоянные \n",
        "\n",
        "BUFFER_SIZE = len(input_tensor_train)                     # Укажем что случайно сэмплировать будем по всей длине обучающейся выборки\n",
        "BATCH_SIZE = 256                                          # Указываем размер батча\n",
        "steps_per_epoch = len(input_tensor_train)//BATCH_SIZE     # Укажем количество шагов в одной эпохе\n",
        "embedding_dim = 8192                                       # Размерность эмбеддинга, векторного пространства\n",
        "units = 2048                                              # Задаем размер слоя(количество нейронов в слое) "
      ],
      "execution_count": null,
      "outputs": []
    },
    {
      "cell_type": "code",
      "metadata": {
        "id": "SB82awfvDB6o"
      },
      "source": [
        "# Задаем размер русского словаря\n",
        "vocab_inp_size = len(inp_language_tokenizer.word_index)+1 \n",
        "\n",
        "# Задаем размер английского словаря\n",
        "vocab_tar_size = len(targ_language_tokenizer.word_index)+1 \n",
        "\n",
        "# Создаём датасет из массивов Numpy(рус и анг тренировочные фразы) со случайной подачей тренировочных сэмплов в процессе обучения\n",
        "dataset = tf.data.Dataset.from_tensor_slices((input_tensor_train, target_tensor_train)).shuffle(BUFFER_SIZE)\n",
        "\n",
        "# Передаем в датасет размер батча и указываем, что если в тренировке последний батч окажется неполным, то опустим его\n",
        "dataset = dataset.batch(BATCH_SIZE, drop_remainder=True)\n"
      ],
      "execution_count": null,
      "outputs": []
    },
    {
      "cell_type": "code",
      "metadata": {
        "id": "HDgb_Z7y98ir",
        "colab": {
          "base_uri": "https://localhost:8080/"
        },
        "outputId": "0ed0796c-0183-4167-d23b-7cdbf4a3b6d2"
      },
      "source": [
        "# Посмотрим на форму примеров полученных батчей\n",
        "\n",
        "example_input_batch, example_target_batch = next(iter(dataset))\n",
        "example_input_batch.shape, example_target_batch.shape"
      ],
      "execution_count": null,
      "outputs": [
        {
          "output_type": "execute_result",
          "data": {
            "text/plain": [
              "(TensorShape([256, 12]), TensorShape([256, 9]))"
            ]
          },
          "metadata": {},
          "execution_count": 194
        }
      ]
    },
    {
      "cell_type": "code",
      "metadata": {
        "id": "TJwqiGRCDCu1"
      },
      "source": [
        "class Encoder(Model):\n",
        "\n",
        "  # Конструктор класса \n",
        "  def __init__(self, \n",
        "               vocab_size,    # Размер словаря\n",
        "               embedding_dim, # Размер пространсва эмбеддинга\n",
        "               enc_units,     # Число нейронов в GRU\n",
        "               batch_sz):     # Размер батча\n",
        "\n",
        "    super(Encoder, self).__init__()                                   # Даем возможность использовать и исполнять методы класса-родителя в классе потомке \n",
        "    self.batch_sz = batch_sz                                          # Атрибут возвращает размер батча\n",
        "    self.enc_units = enc_units                                        # Атрибут возвращает размер слоя в кодировщике\n",
        "    self.embedding = Embedding(vocab_size, embedding_dim)             # Атрибут эмбеддинга - слой Кераса с размером словаря на входе и с dim=256\n",
        "\n",
        "    # Реккурентной сетью выберем GRU, указываем размер слоя, вывод из слоя в виде последовательностей, \n",
        "    # и метод инициализации весов 'glorot_uniform'(или метод Ксавьера) для упрощения прохождения сигнала при распростр-ии ошибки\n",
        "    self.gru = GRU(self.enc_units, return_sequences=True, return_state=True, recurrent_initializer='glorot_uniform')\n",
        "\n",
        "  # Метод принимает входную фразу и начальное состояние\n",
        "  def call(self, \n",
        "           x,       # Входная фраза\n",
        "           hidden): # Начальное энкодера\n",
        "    x = self.embedding(x) # входящие тензоры преобразовываются в эмбеддинг\n",
        "    output, state = self.gru(x, initial_state = hidden) #затем пропускаются через GRU и получаем выход + новое состояние\n",
        "\n",
        "    # Выход сети GRU и состояние на выходе\n",
        "    return output, state \n",
        "\n",
        "  # Создаем метод инициализации состояний на скрытых слоях\n",
        "  def initialize_hidden_state(self):\n",
        "\n",
        "    # Вернем тензор из нулей размер батча на размер слоя, итсполбьзуем как начальное состояние энкодера\n",
        "    return tf.zeros((self.batch_sz, self.enc_units)) "
      ],
      "execution_count": null,
      "outputs": []
    },
    {
      "cell_type": "code",
      "metadata": {
        "id": "BgR4bQIKDFXF"
      },
      "source": [
        "# Создадим модель кодировщика по уже заданным параметрам \n",
        "encoder = Encoder(vocab_inp_size, embedding_dim, units, BATCH_SIZE)"
      ],
      "execution_count": null,
      "outputs": []
    },
    {
      "cell_type": "code",
      "metadata": {
        "id": "eXH74Z-B_Mmb",
        "colab": {
          "base_uri": "https://localhost:8080/"
        },
        "outputId": "296f8a3e-b44f-44c2-ab12-b61d13540376"
      },
      "source": [
        "# Подадим в качестве примера какой-то сэмпл(Тензор[64, 12]) на вход Encoder'у и визуализируем, что получим\n",
        "sample_hidden = encoder.initialize_hidden_state() #инициализируем начальное скрытое состояние\n",
        "\n",
        "# Даем Encoder'у сэмпл и начальное состояние, и получим выход из сети GRU и состояние на выходе (вызывается метод call класса Encoder)\n",
        "sample_output, sample_hidden = encoder(example_input_batch, sample_hidden)\n",
        "print ('Размеры выхода из кодировщика: (batch size, sequence length, units) {}'.format(sample_output.shape))\n",
        "print ('Размеры скрытого состояния: (batch size, units) {}'.format(sample_hidden.shape))"
      ],
      "execution_count": null,
      "outputs": [
        {
          "output_type": "stream",
          "name": "stdout",
          "text": [
            "Размеры выхода из кодировщика: (batch size, sequence length, units) (256, 12, 2048)\n",
            "Размеры скрытого состояния: (batch size, units) (256, 2048)\n"
          ]
        }
      ]
    },
    {
      "cell_type": "code",
      "metadata": {
        "id": "VWDTK8eqDHu0"
      },
      "source": [
        "class BahdanauAttention(Model): # Название класса именем создателя механизма Дмитрия Богданова(Bahdanau)\n",
        "\n",
        "  # Создаем конструктор класса\n",
        "  def __init__(self, \n",
        "               units):                        # Число нейронов \n",
        "\n",
        "    super(BahdanauAttention, self).__init__() # Даем возможность использовать и исполнять методы класса-родителя в классе потомке\n",
        "    self.W1 = Dense(units)                    # Создаем Dense с заданным числом нейронов\n",
        "    self.W2 = Dense(units)                    # Создаем Dense с заданным числом нейронов\n",
        "    self.V =  Dense(1)                        # Создаем Dense с числом нейронов =1\n",
        "\n",
        "  # Метод принимает состояние и выход энкодера ----------------------------------\n",
        "  \n",
        "  def call(self, \n",
        "           hidden_state, # Состояние энкодера\n",
        "           values):      # Выход энкодера\n",
        "    # Форма состояния на скрытом слое (batch_size, hidden size)\n",
        "    # Форму состояния на каждом такте увеличим до (batch_size, 1, hidden size)\n",
        "    # Добавляем это для того, чтобы получить оценку\n",
        "    hidden_with_time_axis = tf.expand_dims(hidden_state, 1)\n",
        "    print(hidden_state.shape)\n",
        "    print(values.shape)\n",
        "    print(hidden_with_time_axis.shape)\n",
        "    print(values[1,11,5])\n",
        "    print(hidden_with_time_axis[1,0,5])\n",
        "    # Форма оценки score (размер батча, макс.длина слов на входе, 1), однёрка в конце, чтобы применить self.V\n",
        "    # До применения self.V оценка была бы (размер батча, макс.длина слов на входе, количество нейронов в слое)\n",
        "    score = self.V(tf.nn.tanh(self.W1(values) + self.W2(hidden_with_time_axis)))\n",
        "    print(self.W1(values).shape)\n",
        "    print(self.W2(hidden_with_time_axis).shape)\n",
        "    print((self.W1(values) + self.W2(hidden_with_time_axis)).shape)\n",
        "    print(score.shape)\n",
        "    \n",
        "    # К полученной оценке применим Софтмакс, который покажет вероятность полезности от 0 до 1 для каждого слова в фразе для декодера\n",
        "    # Форма оценки score - (размер батча, макс.длина слов на входе, 1); Софтмакс применяем к оси \"макс.длина слов\"\n",
        "    attention_weights = tf.nn.softmax(score, axis=1)\n",
        "    print(attention_weights.shape)\n",
        "    \n",
        "    # Построим вектор контекста \n",
        "    context_vector = attention_weights * values # Веса внимания перемножим со значениями(выхода из кодировщика)\n",
        "    print(context_vector.shape)\n",
        "    # Сумму также применяем по оси \"макс.длина слов на входе\"\n",
        "    context_vector = tf.reduce_sum(context_vector, axis=1) # Размеры вектора контекста после суммирования будут (размер батча, размер слоя)\n",
        "    print(context_vector.shape)\n",
        "\n",
        "    # Возвращает вектор контекста и веса внимания\n",
        "    return context_vector, attention_weights\n"
      ],
      "execution_count": null,
      "outputs": []
    },
    {
      "cell_type": "code",
      "metadata": {
        "colab": {
          "base_uri": "https://localhost:8080/"
        },
        "id": "hUv-DSsDDKGl",
        "outputId": "67a72800-448b-4a09-eefb-806f5cd0738a"
      },
      "source": [
        "# Проверим, как работает слой\n",
        "attention_layer = BahdanauAttention(10)\n",
        "\n",
        "# Подадим на вход слою внимания выход из Encodera и его состояние, и получим значение и веса внимания\n",
        "attention_result, attention_weights = attention_layer(sample_hidden, sample_output)\n",
        "\n",
        "print(\"Размеры значения внимания: (размер батча, размер слоя) {}\".format(attention_result.shape))\n",
        "print(\"Размеры весов внимания: (размер батча, длина последовательности, 1) {}\".format(attention_weights.shape))"
      ],
      "execution_count": null,
      "outputs": [
        {
          "output_type": "stream",
          "name": "stdout",
          "text": [
            "(256, 2048)\n",
            "(256, 12, 2048)\n",
            "(256, 1, 2048)\n",
            "tf.Tensor(0.062585235, shape=(), dtype=float32)\n",
            "tf.Tensor(0.062585235, shape=(), dtype=float32)\n",
            "(256, 12, 10)\n",
            "(256, 1, 10)\n",
            "(256, 12, 10)\n",
            "(256, 12, 1)\n",
            "(256, 12, 1)\n",
            "(256, 12, 2048)\n",
            "(256, 2048)\n",
            "Размеры значения внимания: (размер батча, размер слоя) (256, 2048)\n",
            "Размеры весов внимания: (размер батча, длина последовательности, 1) (256, 12, 1)\n"
          ]
        }
      ]
    },
    {
      "cell_type": "code",
      "metadata": {
        "id": "gZHTEgDoDNBC"
      },
      "source": [
        "class Decoder(Model):\n",
        "\n",
        "  # Создадим конструктор класса\n",
        "  def __init__(self,   \n",
        "               vocab_size,    # Размер словаря\n",
        "               embedding_dim, # Размерность пространства эмбеддинга\n",
        "               dec_units,     # Число нейронов в GRU\n",
        "               batch_sz):     # Размер батча\n",
        "    super(Decoder, self).__init__()                       # Даем возможность использовать и исполнять методы класса-родителя в классе потомке \n",
        "    self.batch_sz = batch_sz                              # Атрибут возвращает размер батча\n",
        "    self.dec_units = dec_units                            # Атрибут возвращает размер слоя в декодере(кол-во нейронов)\n",
        "    self.embedding = Embedding(vocab_size, embedding_dim) # Атрибут эмбеддинга - слой Кераса с размером словаря на входе и (dim=256) на выходе\n",
        "\n",
        "    # Реккурентной сетью выберем GRU, указываем размер слоя, вывод из слоя в виде последовательностей, \n",
        "    # и метод инициализации весов 'glorot_uniform'(или метод Ксавьера) для упрощения прохождения сигнала при распростр-ии ошибки    \n",
        "    self.gru = GRU(self.dec_units, return_sequences=True, return_state=True, recurrent_initializer='glorot_uniform')\n",
        "\n",
        "    self.fc = Dense(vocab_size) # Атрибут вызовет полносвязный слой с размером словаря\n",
        "\n",
        "    self.attention = BahdanauAttention(self.dec_units) #атрибут подключит механизм внимания, описанный ранее\n",
        "\n",
        "\n",
        "  def call(self, \n",
        "           x,           # Начальный токен\n",
        "           hidden,      # Состояние  энкодера\n",
        "           enc_output): # Выход энкодера\n",
        "\n",
        "    # Enc_output размеры (batch_size, max_length, hidden_size - размер батча, макс.длина фраз, разм.скр.слоя)\n",
        "    context_vector, attention_weights = self.attention(hidden, enc_output)\n",
        "    print('Decoder')\n",
        "    print(context_vector.shape)\n",
        "    print(attention_weights.shape)\n",
        "    \n",
        "    # Входящий тензор слова пропускаем через эмбеддинг (получаем размеры batch_size, 1, embedding_dim)\n",
        "    x = self.embedding(x)\n",
        "    print(x.shape)\n",
        "    \n",
        "    # Дальше конкатенируем с вектором контекста (получаем размеры batch_size, 1, embedding_dim + hidden_size)\n",
        "    x = tf.concat([tf.expand_dims(context_vector, 1), x], axis=-1)\n",
        "    print(tf.expand_dims(context_vector, 1).shape)\n",
        "    print(x.shape)\n",
        "    \n",
        "    # Сконкатенированный вектор передаем  в GRU и получаем выход с декодера и состояние\n",
        "    output, state = self.gru(x)\n",
        "    print(output.shape)\n",
        "    print(state.shape)\n",
        "\n",
        "    # Output размеры (batch_size * 1, hidden_size)\n",
        "    output = tf.reshape(output, (-1, output.shape[2]))\n",
        "    print(output.shape)\n",
        "\n",
        "    # Пропускаем через полносвязный слой\n",
        "    x = self.fc(output) #output размеры (batch_size, vocab)\n",
        "    print(x.shape)\n",
        "\n",
        "    # Вернем выходную фразу, вектор состояния, веса внимания\n",
        "    return x, state, attention_weights"
      ],
      "execution_count": null,
      "outputs": []
    },
    {
      "cell_type": "code",
      "metadata": {
        "colab": {
          "base_uri": "https://localhost:8080/"
        },
        "id": "-b1yEPu3DPqp",
        "outputId": "c79f8bdc-04f5-470c-b89a-6e5fd392150f"
      },
      "source": [
        "# Проверим работу декодера, подав на вход случайный массив с нужной размерностью\n",
        "# Создали декодер с параметрами(размер анг.словаря, размерность эмбеддинга, кол-во нейронов, размер батча)\n",
        "decoder = Decoder(vocab_tar_size, embedding_dim, units, BATCH_SIZE)\n",
        "\n",
        "# Подаём на вход случайный массив с нужной размерностью, состояние и выход с кодировщика\n",
        "sample_decoder_output, _, _ = decoder(tf.random.uniform((256, 1)), sample_hidden, sample_output)\n",
        "print ('Размер выхода с декодера: (размер батча, размер словаря) {}'.format(sample_decoder_output.shape))"
      ],
      "execution_count": null,
      "outputs": [
        {
          "output_type": "stream",
          "name": "stdout",
          "text": [
            "(256, 2048)\n",
            "(256, 12, 2048)\n",
            "(256, 1, 2048)\n",
            "tf.Tensor(0.062585235, shape=(), dtype=float32)\n",
            "tf.Tensor(0.062585235, shape=(), dtype=float32)\n",
            "(256, 12, 2048)\n",
            "(256, 1, 2048)\n",
            "(256, 12, 2048)\n",
            "(256, 12, 1)\n",
            "(256, 12, 1)\n",
            "(256, 12, 2048)\n",
            "(256, 2048)\n",
            "Decoder\n",
            "(256, 2048)\n",
            "(256, 12, 1)\n",
            "(256, 1, 8192)\n",
            "(256, 1, 2048)\n",
            "(256, 1, 10240)\n",
            "(256, 1, 2048)\n",
            "(256, 2048)\n",
            "(256, 2048)\n",
            "(256, 4271)\n",
            "Размер выхода с декодера: (размер батча, размер словаря) (256, 4271)\n"
          ]
        }
      ]
    },
    {
      "cell_type": "code",
      "metadata": {
        "id": "1h7uiC6LDVRK"
      },
      "source": [
        "# Выбираем оптимайзер Adam\n",
        "optimizer = Adam()#learning_rate=0.1) "
      ],
      "execution_count": null,
      "outputs": []
    },
    {
      "cell_type": "code",
      "metadata": {
        "id": "7YVxy08qDR-5"
      },
      "source": [
        "# Используем SparseCategoricalCrossentropy, к-я может работать с некатегориальными лейблами\n",
        "loss_object = SparseCategoricalCrossentropy(from_logits=True, reduction='none') # Выбираем функцию потерь\n",
        "\n",
        "def loss_function(real, pred):                       # Запишем функцию потерь, на вход подаем фактический и предсказанный результат\n",
        "  mask = tf.math.logical_not(tf.math.equal(real, 0)) # Найдем маску, которая уберет нулевые значения индексов в конце фразы\n",
        "  loss_ = loss_object(real, pred)                    # Фактические и предсказанные результаты передаем в SparseCategoricalCrossentropy и получаем ошибку\n",
        "  mask = tf.cast(mask, dtype=loss_.dtype)            # Согласуем тип маски с типом потерь\n",
        "  loss_ *= mask                                      # Накидываем \"маску\" которая оставит для работы ненулевые значения\n",
        "  \n",
        "  # Вернем reduce_mean - среднее любого выбранного тензора\n",
        "  return tf.reduce_mean(loss_)"
      ],
      "execution_count": null,
      "outputs": []
    },
    {
      "cell_type": "code",
      "metadata": {
        "id": "qHr21E05q0NN"
      },
      "source": [
        "# Сохраняем процесс обучения модели чекпоинтами тензорфлоу\n",
        "\n",
        "checkpoint_dir = './training_checkpoints'                                               # Даем ссылку на директорию\n",
        "checkpoint_prefix = os.path.join(checkpoint_dir, \"ckpt\")                                # Добавляем префикс \"ckpt\"\n",
        "checkpoint = tf.train.Checkpoint(optimizer=optimizer, encoder=encoder, decoder=decoder) # Сохраняем состояния/показатели оптимизатора и моделей"
      ],
      "execution_count": null,
      "outputs": []
    },
    {
      "cell_type": "code",
      "metadata": {
        "id": "YCNvA66Jq7nE"
      },
      "source": [
        "@tf.function\n",
        "def train_step(inp,         # Входная фраза\n",
        "               targ,        # Точный перевод\n",
        "               enc_hidden): # Состояния энкодера\n",
        "\n",
        "  # Создаем переменную, в которую будем записывать ошибку\n",
        "  loss = 0                             \n",
        "\n",
        "  # Все операции по вычислению градиента записываются на ленту(tape) и мы получаем к ним доступ\n",
        "  with tf.GradientTape() as tape:\n",
        "\n",
        "    # Передаем тензор и начальное состояние в кодировщик и получим выход и состояние на выходе\n",
        "    enc_output, enc_hidden = encoder(inp, enc_hidden)\n",
        "\n",
        "    # Передадим это состояние декодеру\n",
        "    dec_hidden = enc_hidden\n",
        "\n",
        "    # Передаем в качестве входа в декодер индекс токена \"<start>\"\n",
        "    dec_input = tf.expand_dims([targ_language_tokenizer.word_index['<start>']] * BATCH_SIZE, 1)\n",
        "\n",
        "    # Техника \"Teacher forcing\" - подаем предыдущее выходное слово на вход следущего в декодере. Targ.shape[64, 9]\n",
        "\n",
        "    for t in range(1, targ.shape[1]): #для каждого слова из английской фразы\n",
        "\n",
        "      # Передаем в обработку декодеру начальный токен, состояние на выходе из кодера, и выход из кодера\n",
        "      predictions, dec_hidden, _ = decoder(dec_input, dec_hidden, enc_output) # Получаем от декодера предсказание и обновленное состояние\n",
        "\n",
        "      # Обновляем ошибку для текущих предсказаний\n",
        "      loss += loss_function(targ[:, t], predictions)\n",
        "\n",
        "      # Используем \"Teacher forcing\"\n",
        "      dec_input = tf.expand_dims(targ[:, t], 1)\n",
        "\n",
        "  # Получаем ошибку на батче . Targ.shape[64, 9]. Делим на 9\n",
        "  batch_loss = (loss / int(targ.shape[1])) \n",
        "\n",
        "  # Создаем список переменных, для которых TensorFlow будет вычислять градиенты\n",
        "  variables = encoder.trainable_variables + decoder.trainable_variables # создаем переменные, для которых TensorFlow будет вычислять градиенты\n",
        "\n",
        "  # Отслеживаем градиент\n",
        "  gradients = tape.gradient(loss, variables)\n",
        "\n",
        "  # Корректируем веса\n",
        "  optimizer.apply_gradients(zip(gradients, variables))\n",
        "\n",
        "  # Функция обучения вернет ошибку на батче\n",
        "  return batch_loss"
      ],
      "execution_count": null,
      "outputs": []
    },
    {
      "cell_type": "code",
      "metadata": {
        "colab": {
          "base_uri": "https://localhost:8080/"
        },
        "id": "93Tpy6Cxq-V3",
        "outputId": "86856660-cba4-40f5-a75f-3a6b7bd24ee0"
      },
      "source": [
        "EPOCHS = 5 # устанавливаем количество эпох\n",
        "\n",
        "for epoch in range(EPOCHS): # Цикл по каждой эпохе\n",
        "  start = time.time() # Запомним время начала эпохи\n",
        "\n",
        "  progbar = tf.keras.utils.Progbar(target=steps_per_epoch, stateful_metrics=[\n",
        "                                     'batch_loss','accuracy'], unit_name='batch')        # Создадим индикатор прогресс обучения\n",
        "\n",
        "  enc_hidden = encoder.initialize_hidden_state() # Задаем начальное состояние на скрытом слое encodera \n",
        "  total_loss = 0                                 # Начальное значение итоговой ошибки\n",
        "\n",
        "  # Для батча, входного и выходного тензора на каждом шаге эпохи\n",
        "  for (batch, (inp, targ)) in enumerate(dataset.take(steps_per_epoch)):\n",
        "    batch_loss = train_step(inp, targ, enc_hidden) # Передадим в функцию тензоры и состояние в кодировщике, обучим и получим ошибку на батче\n",
        "    total_loss += batch_loss                       # Добавим ее в итоговую ошибку\n",
        "    progbar.update(                                # Обновим состояние индикатора обучения\n",
        "            batch + 1, values=[('batch_loss', batch_loss)])\n",
        "\n",
        "\n",
        "  # Каждые 10 эпох будем сохранять чекпоинты\n",
        "  if (epoch + 1) % 10 == 0:\n",
        "    checkpoint.save(file_prefix = checkpoint_prefix)\n",
        "\n",
        "  # Выведем показатели после каждой эпохи\n",
        "  print('Эпоха {} Ошибка {:.4f}'.format(epoch + 1, total_loss / steps_per_epoch)) # Выведем номер эпохи и потери\n",
        "  print('Время на 1 эпоху {} сек'.format(round(time.time() - start), 1))          # Выведем длительность обучения этой эпохи"
      ],
      "execution_count": null,
      "outputs": [
        {
          "output_type": "stream",
          "name": "stdout",
          "text": [
            "(256, 2048)\n",
            "(256, 12, 2048)\n",
            "(256, 1, 2048)\n",
            "Tensor(\"decoder_13/bahdanau_attention_26/strided_slice:0\", shape=(), dtype=float32)\n",
            "Tensor(\"decoder_13/bahdanau_attention_26/strided_slice_1:0\", shape=(), dtype=float32)\n",
            "(256, 12, 2048)\n",
            "(256, 1, 2048)\n",
            "(256, 12, 2048)\n",
            "(256, 12, 1)\n",
            "(256, 12, 1)\n",
            "(256, 12, 2048)\n",
            "(256, 2048)\n",
            "Decoder\n",
            "(256, 2048)\n",
            "(256, 12, 1)\n",
            "(256, 1, 8192)\n",
            "(256, 1, 2048)\n",
            "(256, 1, 10240)\n",
            "(256, 1, 2048)\n",
            "(256, 2048)\n",
            "(256, 2048)\n",
            "(256, 4271)\n",
            "(256, 2048)\n",
            "(256, 12, 2048)\n",
            "(256, 1, 2048)\n",
            "Tensor(\"decoder_13/bahdanau_attention_26/strided_slice_2:0\", shape=(), dtype=float32)\n",
            "Tensor(\"decoder_13/bahdanau_attention_26/strided_slice_3:0\", shape=(), dtype=float32)\n",
            "(256, 12, 2048)\n",
            "(256, 1, 2048)\n",
            "(256, 12, 2048)\n",
            "(256, 12, 1)\n",
            "(256, 12, 1)\n",
            "(256, 12, 2048)\n",
            "(256, 2048)\n",
            "Decoder\n",
            "(256, 2048)\n",
            "(256, 12, 1)\n",
            "(256, 1, 8192)\n",
            "(256, 1, 2048)\n",
            "(256, 1, 10240)\n",
            "(256, 1, 2048)\n",
            "(256, 2048)\n",
            "(256, 2048)\n",
            "(256, 4271)\n",
            "(256, 2048)\n",
            "(256, 12, 2048)\n",
            "(256, 1, 2048)\n",
            "Tensor(\"decoder_13/bahdanau_attention_26/strided_slice_4:0\", shape=(), dtype=float32)\n",
            "Tensor(\"decoder_13/bahdanau_attention_26/strided_slice_5:0\", shape=(), dtype=float32)\n",
            "(256, 12, 2048)\n",
            "(256, 1, 2048)\n",
            "(256, 12, 2048)\n",
            "(256, 12, 1)\n",
            "(256, 12, 1)\n",
            "(256, 12, 2048)\n",
            "(256, 2048)\n",
            "Decoder\n",
            "(256, 2048)\n",
            "(256, 12, 1)\n",
            "(256, 1, 8192)\n",
            "(256, 1, 2048)\n",
            "(256, 1, 10240)\n",
            "(256, 1, 2048)\n",
            "(256, 2048)\n",
            "(256, 2048)\n",
            "(256, 4271)\n",
            "(256, 2048)\n",
            "(256, 12, 2048)\n",
            "(256, 1, 2048)\n",
            "Tensor(\"decoder_13/bahdanau_attention_26/strided_slice_6:0\", shape=(), dtype=float32)\n",
            "Tensor(\"decoder_13/bahdanau_attention_26/strided_slice_7:0\", shape=(), dtype=float32)\n",
            "(256, 12, 2048)\n",
            "(256, 1, 2048)\n",
            "(256, 12, 2048)\n",
            "(256, 12, 1)\n",
            "(256, 12, 1)\n",
            "(256, 12, 2048)\n",
            "(256, 2048)\n",
            "Decoder\n",
            "(256, 2048)\n",
            "(256, 12, 1)\n",
            "(256, 1, 8192)\n",
            "(256, 1, 2048)\n",
            "(256, 1, 10240)\n",
            "(256, 1, 2048)\n",
            "(256, 2048)\n",
            "(256, 2048)\n",
            "(256, 4271)\n",
            "(256, 2048)\n",
            "(256, 12, 2048)\n",
            "(256, 1, 2048)\n",
            "Tensor(\"decoder_13/bahdanau_attention_26/strided_slice_8:0\", shape=(), dtype=float32)\n",
            "Tensor(\"decoder_13/bahdanau_attention_26/strided_slice_9:0\", shape=(), dtype=float32)\n",
            "(256, 12, 2048)\n",
            "(256, 1, 2048)\n",
            "(256, 12, 2048)\n",
            "(256, 12, 1)\n",
            "(256, 12, 1)\n",
            "(256, 12, 2048)\n",
            "(256, 2048)\n",
            "Decoder\n",
            "(256, 2048)\n",
            "(256, 12, 1)\n",
            "(256, 1, 8192)\n",
            "(256, 1, 2048)\n",
            "(256, 1, 10240)\n",
            "(256, 1, 2048)\n",
            "(256, 2048)\n",
            "(256, 2048)\n",
            "(256, 4271)\n",
            "(256, 2048)\n",
            "(256, 12, 2048)\n",
            "(256, 1, 2048)\n",
            "Tensor(\"decoder_13/bahdanau_attention_26/strided_slice_10:0\", shape=(), dtype=float32)\n",
            "Tensor(\"decoder_13/bahdanau_attention_26/strided_slice_11:0\", shape=(), dtype=float32)\n",
            "(256, 12, 2048)\n",
            "(256, 1, 2048)\n",
            "(256, 12, 2048)\n",
            "(256, 12, 1)\n",
            "(256, 12, 1)\n",
            "(256, 12, 2048)\n",
            "(256, 2048)\n",
            "Decoder\n",
            "(256, 2048)\n",
            "(256, 12, 1)\n",
            "(256, 1, 8192)\n",
            "(256, 1, 2048)\n",
            "(256, 1, 10240)\n",
            "(256, 1, 2048)\n",
            "(256, 2048)\n",
            "(256, 2048)\n",
            "(256, 4271)\n",
            "(256, 2048)\n",
            "(256, 12, 2048)\n",
            "(256, 1, 2048)\n",
            "Tensor(\"decoder_13/bahdanau_attention_26/strided_slice_12:0\", shape=(), dtype=float32)\n",
            "Tensor(\"decoder_13/bahdanau_attention_26/strided_slice_13:0\", shape=(), dtype=float32)\n",
            "(256, 12, 2048)\n",
            "(256, 1, 2048)\n",
            "(256, 12, 2048)\n",
            "(256, 12, 1)\n",
            "(256, 12, 1)\n",
            "(256, 12, 2048)\n",
            "(256, 2048)\n",
            "Decoder\n",
            "(256, 2048)\n",
            "(256, 12, 1)\n",
            "(256, 1, 8192)\n",
            "(256, 1, 2048)\n",
            "(256, 1, 10240)\n",
            "(256, 1, 2048)\n",
            "(256, 2048)\n",
            "(256, 2048)\n",
            "(256, 4271)\n",
            "(256, 2048)\n",
            "(256, 12, 2048)\n",
            "(256, 1, 2048)\n",
            "Tensor(\"decoder_13/bahdanau_attention_26/strided_slice_14:0\", shape=(), dtype=float32)\n",
            "Tensor(\"decoder_13/bahdanau_attention_26/strided_slice_15:0\", shape=(), dtype=float32)\n",
            "(256, 12, 2048)\n",
            "(256, 1, 2048)\n",
            "(256, 12, 2048)\n",
            "(256, 12, 1)\n",
            "(256, 12, 1)\n",
            "(256, 12, 2048)\n",
            "(256, 2048)\n",
            "Decoder\n",
            "(256, 2048)\n",
            "(256, 12, 1)\n",
            "(256, 1, 8192)\n",
            "(256, 1, 2048)\n",
            "(256, 1, 10240)\n",
            "(256, 1, 2048)\n",
            "(256, 2048)\n",
            "(256, 2048)\n",
            "(256, 4271)\n",
            "(256, 2048)\n",
            "(256, 12, 2048)\n",
            "(256, 1, 2048)\n",
            "Tensor(\"decoder_13/bahdanau_attention_26/strided_slice:0\", shape=(), dtype=float32)\n",
            "Tensor(\"decoder_13/bahdanau_attention_26/strided_slice_1:0\", shape=(), dtype=float32)\n",
            "(256, 12, 2048)\n",
            "(256, 1, 2048)\n",
            "(256, 12, 2048)\n",
            "(256, 12, 1)\n",
            "(256, 12, 1)\n",
            "(256, 12, 2048)\n",
            "(256, 2048)\n",
            "Decoder\n",
            "(256, 2048)\n",
            "(256, 12, 1)\n",
            "(256, 1, 8192)\n",
            "(256, 1, 2048)\n",
            "(256, 1, 10240)\n",
            "(256, 1, 2048)\n",
            "(256, 2048)\n",
            "(256, 2048)\n",
            "(256, 4271)\n",
            "(256, 2048)\n",
            "(256, 12, 2048)\n",
            "(256, 1, 2048)\n",
            "Tensor(\"decoder_13/bahdanau_attention_26/strided_slice_2:0\", shape=(), dtype=float32)\n",
            "Tensor(\"decoder_13/bahdanau_attention_26/strided_slice_3:0\", shape=(), dtype=float32)\n",
            "(256, 12, 2048)\n",
            "(256, 1, 2048)\n",
            "(256, 12, 2048)\n",
            "(256, 12, 1)\n",
            "(256, 12, 1)\n",
            "(256, 12, 2048)\n",
            "(256, 2048)\n",
            "Decoder\n",
            "(256, 2048)\n",
            "(256, 12, 1)\n",
            "(256, 1, 8192)\n",
            "(256, 1, 2048)\n",
            "(256, 1, 10240)\n",
            "(256, 1, 2048)\n",
            "(256, 2048)\n",
            "(256, 2048)\n",
            "(256, 4271)\n",
            "(256, 2048)\n",
            "(256, 12, 2048)\n",
            "(256, 1, 2048)\n",
            "Tensor(\"decoder_13/bahdanau_attention_26/strided_slice_4:0\", shape=(), dtype=float32)\n",
            "Tensor(\"decoder_13/bahdanau_attention_26/strided_slice_5:0\", shape=(), dtype=float32)\n",
            "(256, 12, 2048)\n",
            "(256, 1, 2048)\n",
            "(256, 12, 2048)\n",
            "(256, 12, 1)\n",
            "(256, 12, 1)\n",
            "(256, 12, 2048)\n",
            "(256, 2048)\n",
            "Decoder\n",
            "(256, 2048)\n",
            "(256, 12, 1)\n",
            "(256, 1, 8192)\n",
            "(256, 1, 2048)\n",
            "(256, 1, 10240)\n",
            "(256, 1, 2048)\n",
            "(256, 2048)\n",
            "(256, 2048)\n",
            "(256, 4271)\n",
            "(256, 2048)\n",
            "(256, 12, 2048)\n",
            "(256, 1, 2048)\n",
            "Tensor(\"decoder_13/bahdanau_attention_26/strided_slice_6:0\", shape=(), dtype=float32)\n",
            "Tensor(\"decoder_13/bahdanau_attention_26/strided_slice_7:0\", shape=(), dtype=float32)\n",
            "(256, 12, 2048)\n",
            "(256, 1, 2048)\n",
            "(256, 12, 2048)\n",
            "(256, 12, 1)\n",
            "(256, 12, 1)\n",
            "(256, 12, 2048)\n",
            "(256, 2048)\n",
            "Decoder\n",
            "(256, 2048)\n",
            "(256, 12, 1)\n",
            "(256, 1, 8192)\n",
            "(256, 1, 2048)\n",
            "(256, 1, 10240)\n",
            "(256, 1, 2048)\n",
            "(256, 2048)\n",
            "(256, 2048)\n",
            "(256, 4271)\n",
            "(256, 2048)\n",
            "(256, 12, 2048)\n",
            "(256, 1, 2048)\n",
            "Tensor(\"decoder_13/bahdanau_attention_26/strided_slice_8:0\", shape=(), dtype=float32)\n",
            "Tensor(\"decoder_13/bahdanau_attention_26/strided_slice_9:0\", shape=(), dtype=float32)\n",
            "(256, 12, 2048)\n",
            "(256, 1, 2048)\n",
            "(256, 12, 2048)\n",
            "(256, 12, 1)\n",
            "(256, 12, 1)\n",
            "(256, 12, 2048)\n",
            "(256, 2048)\n",
            "Decoder\n",
            "(256, 2048)\n",
            "(256, 12, 1)\n",
            "(256, 1, 8192)\n",
            "(256, 1, 2048)\n",
            "(256, 1, 10240)\n",
            "(256, 1, 2048)\n",
            "(256, 2048)\n",
            "(256, 2048)\n",
            "(256, 4271)\n",
            "(256, 2048)\n",
            "(256, 12, 2048)\n",
            "(256, 1, 2048)\n",
            "Tensor(\"decoder_13/bahdanau_attention_26/strided_slice_10:0\", shape=(), dtype=float32)\n",
            "Tensor(\"decoder_13/bahdanau_attention_26/strided_slice_11:0\", shape=(), dtype=float32)\n",
            "(256, 12, 2048)\n",
            "(256, 1, 2048)\n",
            "(256, 12, 2048)\n",
            "(256, 12, 1)\n",
            "(256, 12, 1)\n",
            "(256, 12, 2048)\n",
            "(256, 2048)\n",
            "Decoder\n",
            "(256, 2048)\n",
            "(256, 12, 1)\n",
            "(256, 1, 8192)\n",
            "(256, 1, 2048)\n",
            "(256, 1, 10240)\n",
            "(256, 1, 2048)\n",
            "(256, 2048)\n",
            "(256, 2048)\n",
            "(256, 4271)\n",
            "(256, 2048)\n",
            "(256, 12, 2048)\n",
            "(256, 1, 2048)\n",
            "Tensor(\"decoder_13/bahdanau_attention_26/strided_slice_12:0\", shape=(), dtype=float32)\n",
            "Tensor(\"decoder_13/bahdanau_attention_26/strided_slice_13:0\", shape=(), dtype=float32)\n",
            "(256, 12, 2048)\n",
            "(256, 1, 2048)\n",
            "(256, 12, 2048)\n",
            "(256, 12, 1)\n",
            "(256, 12, 1)\n",
            "(256, 12, 2048)\n",
            "(256, 2048)\n",
            "Decoder\n",
            "(256, 2048)\n",
            "(256, 12, 1)\n",
            "(256, 1, 8192)\n",
            "(256, 1, 2048)\n",
            "(256, 1, 10240)\n",
            "(256, 1, 2048)\n",
            "(256, 2048)\n",
            "(256, 2048)\n",
            "(256, 4271)\n",
            "(256, 2048)\n",
            "(256, 12, 2048)\n",
            "(256, 1, 2048)\n",
            "Tensor(\"decoder_13/bahdanau_attention_26/strided_slice_14:0\", shape=(), dtype=float32)\n",
            "Tensor(\"decoder_13/bahdanau_attention_26/strided_slice_15:0\", shape=(), dtype=float32)\n",
            "(256, 12, 2048)\n",
            "(256, 1, 2048)\n",
            "(256, 12, 2048)\n",
            "(256, 12, 1)\n",
            "(256, 12, 1)\n",
            "(256, 12, 2048)\n",
            "(256, 2048)\n",
            "Decoder\n",
            "(256, 2048)\n",
            "(256, 12, 1)\n",
            "(256, 1, 8192)\n",
            "(256, 1, 2048)\n",
            "(256, 1, 10240)\n",
            "(256, 1, 2048)\n",
            "(256, 2048)\n",
            "(256, 2048)\n",
            "(256, 4271)\n",
            "125/125 [==============================] - 137s 1s/batch - batch_loss: 1.2447\n",
            "Эпоха 1 Ошибка 1.8540\n",
            "Время на 1 эпоху 142 сек\n",
            "125/125 [==============================] - 126s 1s/batch - batch_loss: 0.8299\n",
            "Эпоха 2 Ошибка 0.9927\n",
            "Время на 1 эпоху 142 сек\n",
            "125/125 [==============================] - 127s 1s/batch - batch_loss: 0.5062\n",
            "Эпоха 3 Ошибка 0.5524\n",
            "Время на 1 эпоху 142 сек\n",
            "125/125 [==============================] - 127s 1s/batch - batch_loss: 0.3078\n",
            "Эпоха 4 Ошибка 0.2947\n",
            "Время на 1 эпоху 142 сек\n",
            "125/125 [==============================] - 127s 1s/batch - batch_loss: 0.1663\n",
            "Эпоха 5 Ошибка 0.1719\n",
            "Время на 1 эпоху 142 сек\n"
          ]
        }
      ]
    },
    {
      "cell_type": "code",
      "metadata": {
        "id": "rX4koS1irAnJ"
      },
      "source": [
        "def evaluate(sentence):\n",
        "\n",
        "    # Создаем начальные настройки графика внимания\n",
        "    attention_plot = np.zeros((max_length_targ, max_length_inp)) \n",
        "    \n",
        "    # Предобрабатываем предложение\n",
        "    sentence = preprocess_sentence(sentence) \n",
        "\n",
        "    inputs = [inp_language_tokenizer.word_index[i] for i in sentence.split(' ')]   # Преобразовываем в послед-ть индексов\n",
        "    inputs = pad_sequences([inputs], maxlen=max_length_inp, padding='post')        # Делаем паддинг\n",
        "    inputs = tf.convert_to_tensor(inputs)                                          # Конвертируем в тф тензор\n",
        "\n",
        "    result = ''                                                                    # Сюда запишем результат\n",
        "\n",
        "    hidden = [tf.zeros((1, units))]                                                # Задаем начальное состояние\n",
        "    enc_out, enc_hidden = encoder(inputs, hidden)                                  # Передаем его и входной тензор и получаем выход с кодера и состояние\n",
        "\n",
        "    dec_hidden = enc_hidden                                                        # Состояние кодера передаем в декодер\n",
        "    dec_input = tf.expand_dims([targ_language_tokenizer.word_index['<start>']], 0) # Передаем на вход декодеру <start> в виде индекса\n",
        "\n",
        "    for t in range(max_length_targ):                                               # Идем по макс.длине фраз выходного языка(анг)\n",
        "        # Прогоняем через декодер входящий тензор, состояние с выхода кодера, выход с кодера\n",
        "        # Получаем результат предсказания, обновленное состояние, и веса внимания\n",
        "        predictions, dec_hidden, attention_weights = decoder(dec_input, dec_hidden, enc_out)\n",
        "\n",
        "        # Сохраняем веса внимания для графика\n",
        "        attention_weights = tf.reshape(attention_weights, (-1, ))\n",
        "        attention_plot[t] = attention_weights.numpy()\n",
        "\n",
        "        # Аргмаксом вытаскиваем предсказанное слово\n",
        "        predicted_id = tf.argmax(predictions[0]).numpy()\n",
        "\n",
        "        # Результат конвертируем из индекса в слово и сохраняем в result = ''\n",
        "        result += targ_language_tokenizer.index_word[predicted_id] + ' '\n",
        "\n",
        "        # Если предсказанное слово - <end>, то останавливаемся, возвращаем результаты, выводим на графике\n",
        "        if targ_language_tokenizer.index_word[predicted_id] == '<end>':\n",
        "            return result, sentence, attention_plot\n",
        "\n",
        "        # Педсказанное значение подается обратно в модель\n",
        "        dec_input = tf.expand_dims([predicted_id], 0)\n",
        "\n",
        "    # Вернем перевод, входную фразу и веса внимания\n",
        "    return result, sentence, attention_plot"
      ],
      "execution_count": null,
      "outputs": []
    },
    {
      "cell_type": "code",
      "metadata": {
        "id": "It8ZVMbHrFYj"
      },
      "source": [
        "def plot_attention(attention,           # Веса внимания\n",
        "                   sentence,            # Исходная фраза\n",
        "                   predicted_sentence): # Предсказаные перевод\n",
        "  \n",
        "    fig = plt.figure(figsize=(10,10))                                   # Зададим размер \n",
        "    ax = fig.add_subplot(1, 1, 1)                                       # Добавим 1 картинку\n",
        "    ax.matshow(attention, cmap='viridis')                               # Нарисуем 2d матрицу\n",
        "    fontdict = {'fontsize': 14}                                         # Зададим размер надписей\n",
        "    ax.set_xticklabels([''] + sentence, fontdict=fontdict, rotation=90) # Добавим надпись по горизонтальной оси\n",
        "    ax.set_yticklabels([''] + predicted_sentence, fontdict=fontdict)    # Добавим надпись по вертикальной оси\n",
        "    ax.xaxis.set_major_locator(ticker.MultipleLocator(1))               # Зададим форматирование делений на осях графиков\n",
        "    ax.yaxis.set_major_locator(ticker.MultipleLocator(1))               # Зададим форматирование делений на осях графиков\n",
        "    plt.show()                                                          # Отрисуем изображение"
      ],
      "execution_count": null,
      "outputs": []
    },
    {
      "cell_type": "code",
      "metadata": {
        "id": "KH8G96tWrHmn"
      },
      "source": [
        "def translate(sentence): # Функция принимает предложение и выводит результат с визуализацией\n",
        "    result, sentence, attention_plot = evaluate(sentence)  # Отдадим фразу. Получим перевод, входную фразу,  веса внимания\n",
        "\n",
        "    print('Входящая фраза: %s' % (sentence))          # Выведем входную фразу \n",
        "    print('Предсказанный перевод: {}'.format(result)) # Выведем полученный перевод\n",
        "\n",
        "    attention_plot = attention_plot[:len(result.split(' ')), :len(sentence.split(' '))] # Возьмем весы внимания, только для слов во фразах. Хвосты не смотрим\n",
        "    plot_attention(attention_plot, sentence.split(' '), result.split(' '))              # Выведем веса внимания"
      ],
      "execution_count": null,
      "outputs": []
    },
    {
      "cell_type": "code",
      "metadata": {
        "colab": {
          "base_uri": "https://localhost:8080/"
        },
        "id": "3vsbPAP5rJle",
        "outputId": "b9900e57-24a5-4ae9-ae00-b402c24a3c46"
      },
      "source": [
        "# Воспроизведём последний сохранённый чекпоинт\n",
        "checkpoint.restore(tf.train.latest_checkpoint(checkpoint_dir))"
      ],
      "execution_count": null,
      "outputs": [
        {
          "output_type": "execute_result",
          "data": {
            "text/plain": [
              "<tensorflow.python.training.tracking.util.CheckpointLoadStatus at 0x7fd976418b50>"
            ]
          },
          "metadata": {},
          "execution_count": 33
        }
      ]
    },
    {
      "cell_type": "markdown",
      "source": [
        "Карты распределения внимания."
      ],
      "metadata": {
        "id": "jgGIGrJ42FpM"
      }
    },
    {
      "cell_type": "code",
      "metadata": {
        "colab": {
          "base_uri": "https://localhost:8080/",
          "height": 685
        },
        "id": "bBi0SqkJrMeK",
        "outputId": "0a2600e9-a9ce-4d92-bf6e-30d05f8d4383"
      },
      "source": [
        "translate('давайте дружить')"
      ],
      "execution_count": null,
      "outputs": [
        {
          "output_type": "stream",
          "name": "stdout",
          "text": [
            "Входящая фраза: <start> давайте дружить <end>\n",
            "Предсказанный перевод: let s sing . <end> \n"
          ]
        },
        {
          "output_type": "display_data",
          "data": {
            "image/png": "[encoded data removed]",
            "text/plain": [
              "<Figure size 720x720 with 1 Axes>"
            ]
          },
          "metadata": {
            "needs_background": "light"
          }
        }
      ]
    },
    {
      "cell_type": "code",
      "metadata": {
        "colab": {
          "base_uri": "https://localhost:8080/",
          "height": 676
        },
        "id": "X2VVb9LHrOv8",
        "outputId": "299270ce-4f0b-46ef-ea7f-fcc9eba5792e"
      },
      "source": [
        "translate('у тебя всё хорошо')"
      ],
      "execution_count": null,
      "outputs": [
        {
          "output_type": "stream",
          "name": "stdout",
          "text": [
            "Входящая фраза: <start> у тебя всё хорошо <end>\n",
            "Предсказанный перевод: you re all right . <end> \n"
          ]
        },
        {
          "output_type": "display_data",
          "data": {
            "image/png": "[encoded data removed]",
            "text/plain": [
              "<Figure size 720x720 with 1 Axes>"
            ]
          },
          "metadata": {
            "needs_background": "light"
          }
        }
      ]
    },
    {
      "cell_type": "code",
      "metadata": {
        "colab": {
          "base_uri": "https://localhost:8080/",
          "height": 611
        },
        "id": "uWC8-1DDrPQ1",
        "outputId": "bc411cd1-8d81-4556-e78b-a1e5e457e32a"
      },
      "source": [
        "translate('у тебя всё хорошо?')"
      ],
      "execution_count": null,
      "outputs": [
        {
          "output_type": "stream",
          "name": "stdout",
          "text": [
            "Входящая фраза: <start> у тебя всё хорошо ? <end>\n",
            "Предсказанный перевод: are you okay ? <end> \n"
          ]
        },
        {
          "output_type": "display_data",
          "data": {
            "image/png": "[encoded data removed]",
            "text/plain": [
              "<Figure size 720x720 with 1 Axes>"
            ]
          },
          "metadata": {
            "needs_background": "light"
          }
        }
      ]
    },
    {
      "cell_type": "code",
      "source": [],
      "metadata": {
        "id": "nW4YFl8ixXrS"
      },
      "execution_count": null,
      "outputs": []
    },
    {
      "cell_type": "code",
      "source": [],
      "metadata": {
        "id": "Y_1o22k_xXui"
      },
      "execution_count": null,
      "outputs": []
    }
  ]
}