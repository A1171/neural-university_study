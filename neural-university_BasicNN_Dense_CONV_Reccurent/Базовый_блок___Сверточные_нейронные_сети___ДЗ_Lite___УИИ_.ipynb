{
  "nbformat": 4,
  "nbformat_minor": 0,
  "metadata": {
    "colab": {
      "provenance": []
    },
    "kernelspec": {
      "name": "python3",
      "display_name": "Python 3"
    },
    "language_info": {
      "name": "python"
    }
  },
  "cells": [
    {
      "cell_type": "markdown",
      "source": [
        "Сверточная нейросетка классификатор рукописных цифр MINST"
      ],
      "metadata": {
        "id": "0Eu2aa1MTQqK"
      }
    },
    {
      "cell_type": "markdown",
      "metadata": {
        "id": "d_qXycKuUA51"
      },
      "source": [
        "### Задание"
      ]
    },
    {
      "cell_type": "markdown",
      "metadata": {
        "id": "PIUdD6H0FBGC"
      },
      "source": [
        "Создайте нейронную сеть, распознающую рукописные цифры. Использую подготовленную базу и шаблон ноутбука нормируйте данные, создайте и обучите сверточную сеть.\n",
        "\n",
        "**Параметры модели:** сеть должна содержать минимум 2 сверточных слоя; полносвязные слои; слои подвыборки, нормализации, регуляризации по 1 шт.\n",
        "\n",
        "**Гиперпараметры обучения:** функция ошибки - категориальная кроссэнтропия, оптимизатор - Adam с шагом обучения одна тысячная, размер батча - 128, количество эпох 15, детали обучения - отображать.\n",
        "\n",
        "**В конце** выведите график обучения: доли верных ответов на обучающей и проверочной выборках.\n"
      ]
    },
    {
      "cell_type": "code",
      "metadata": {
        "id": "MKXGv21tHGLr",
        "colab": {
          "base_uri": "https://localhost:8080/"
        },
        "outputId": "19244df6-79dc-4475-c400-f0bd3d406e52"
      },
      "source": [
        "# загрузка датасета MNIST\n",
        "\n",
        "from tensorflow.keras.datasets import mnist \n",
        "(x_train, y_train), (x_test, y_test) = mnist.load_data() "
      ],
      "execution_count": null,
      "outputs": [
        {
          "output_type": "stream",
          "name": "stdout",
          "text": [
            "Downloading data from https://storage.googleapis.com/tensorflow/tf-keras-datasets/mnist.npz\n",
            "11493376/11490434 [==============================] - 0s 0us/step\n",
            "11501568/11490434 [==============================] - 0s 0us/step\n"
          ]
        }
      ]
    },
    {
      "cell_type": "code",
      "metadata": {
        "id": "2zDFM0apy8-R"
      },
      "source": [
        "# Подключение утилит для to_categorical\n",
        "from tensorflow.keras import utils \n",
        "\n",
        "# Подключение библиотеки для работы с массивами\n",
        "import numpy as np \n",
        "\n",
        "# Подключение библиотек для отрисовки изображений\n",
        "import matplotlib.pyplot as plt \n",
        "\n",
        "# Подключение библиотеки для генерации случайных чисел\n",
        "import random\n",
        "\n",
        "# Подключение класса для работы с изображением\n",
        "from PIL import Image\n",
        "\n",
        "# Вывод изображения в ноутбуке, а не в консоли или файле\n",
        "%matplotlib inline "
      ],
      "execution_count": null,
      "outputs": []
    },
    {
      "cell_type": "code",
      "metadata": {
        "colab": {
          "base_uri": "https://localhost:8080/",
          "height": 168
        },
        "id": "m3975_TeIOCl",
        "outputId": "bd8fc0e4-838b-4346-dfb1-b99d79fa1ea4"
      },
      "source": [
        "# вывод изображений каждого класса для ознакомления с датасетом\n",
        "\n",
        "fig, axs = plt.subplots(1, 10, figsize=(25,3)) # создаем полотно для 10 графиков с размером 25 на 3\n",
        "for i in range(10):\n",
        "  label_indexes = np.where(y_train == i)[0] # получаем список из индексов положений класса i в y_train\n",
        "  index = random.choice(label_indexes) # выбирает случайный индекс из списка созданного выше\n",
        "  img = x_train[index] # выбираем из x_train нужное положение\n",
        "  axs[i].imshow(Image.fromarray(img), cmap='gray') # выводим изображение\n",
        "\n",
        "plt.show()  "
      ],
      "execution_count": null,
      "outputs": [
        {
          "output_type": "display_data",
          "data": {
            "image/png": "[encoded data removed]",
            "text/plain": [
              "<Figure size 1800x216 with 10 Axes>"
            ]
          },
          "metadata": {
            "needs_background": "light"
          }
        }
      ]
    },
    {
      "cell_type": "code",
      "metadata": {
        "colab": {
          "base_uri": "https://localhost:8080/"
        },
        "id": "pEZFm-i_InWB",
        "outputId": "12f0597f-6e66-49e4-a9b9-9c836dad3594"
      },
      "source": [
        "# добавляем размерность массиву mnist, чтобы сеть поняла что это чб\n",
        "x_train = x_train.reshape(x_train.shape[0], x_train.shape[1], x_train.shape[2], 1)\n",
        "x_test = x_test.reshape(x_test.shape[0], x_test.shape[1], x_test.shape[2], 1)\n",
        "\n",
        "# преобразуем выборки с ответами в OHE\n",
        "y_train = utils.to_categorical(y_train, 10)\n",
        "y_test = utils.to_categorical(y_test, 10)\n",
        "\n",
        "# посмотрим форматы выборок перед обучением\n",
        "print('x_train:', x_train.shape)\n",
        "print('x_test:', x_test.shape)\n",
        "print()\n",
        "print('y_train:', y_train.shape)\n",
        "print('y_test:', y_test.shape)"
      ],
      "execution_count": null,
      "outputs": [
        {
          "output_type": "stream",
          "name": "stdout",
          "text": [
            "x_train: (60000, 28, 28, 1)\n",
            "x_test: (10000, 28, 28, 1)\n",
            "\n",
            "y_train: (60000, 10)\n",
            "y_test: (10000, 10)\n"
          ]
        }
      ]
    },
    {
      "cell_type": "code",
      "metadata": {
        "id": "orhn9spbj4I6"
      },
      "source": [
        "# Ваше решение\n",
        "# Разделение данных на выборки\n",
        "from sklearn.model_selection import train_test_split \n",
        "x_train, x_val, y_train, y_val = train_test_split(x_train, # ----------------- датасет с изображениям\n",
        "                                                    y_train, # ----------------- датасет с метками\n",
        "                                                    test_size = 0.1, # --- процент тестовых значений\n",
        "                                                    shuffle=True, # ------ перемешивание\n",
        "                                                    random_state=42) # --- \n"
      ],
      "execution_count": null,
      "outputs": []
    },
    {
      "cell_type": "code",
      "metadata": {
        "colab": {
          "base_uri": "https://localhost:8080/"
        },
        "id": "UdCZTxvNxENb",
        "outputId": "cd614fea-48f9-4e0b-d9fe-45d7e37847ca"
      },
      "source": [
        "print(x_train.shape,y_train.shape)"
      ],
      "execution_count": null,
      "outputs": [
        {
          "output_type": "stream",
          "name": "stdout",
          "text": [
            "(54000, 28, 28, 1) (54000, 10)\n"
          ]
        }
      ]
    },
    {
      "cell_type": "code",
      "metadata": {
        "id": "RZQdBq5tvoXx"
      },
      "source": [
        "from tensorflow.keras.models import Sequential\n",
        "from tensorflow.keras.layers import Conv2D, MaxPooling2D, Dense, Flatten\n",
        "from tensorflow.keras.layers import Dropout, BatchNormalization\n",
        "from tensorflow.keras.optimizers import Adam"
      ],
      "execution_count": null,
      "outputs": []
    },
    {
      "cell_type": "code",
      "metadata": {
        "colab": {
          "base_uri": "https://localhost:8080/"
        },
        "id": "de2JfD8VrHXy",
        "outputId": "e4f3a9eb-2c37-47bd-e1f9-bbb1b5410772"
      },
      "source": [
        "# Создание модели последовательной архитектуры\n",
        "model = Sequential()\n",
        "\n",
        "\n",
        "\n",
        "model.add(Conv2D(32, (3, 3), padding='same', activation='relu', input_shape=np.shape(x_train[0])))\n",
        "model.add(BatchNormalization())\n",
        "model.add(Conv2D(32, (3, 3), padding='same', activation='relu'))\n",
        "model.add(MaxPooling2D(pool_size=(2, 2)))\n",
        "model.add(Dropout(0.2))\n",
        "model.add(Flatten())\n",
        "model.add(Dense(100, activation='relu'))\n",
        "model.add(Dropout(0.4))\n",
        "model.add(Dense(100, activation='relu'))\n",
        "model.add(Dense(y_train.shape[1], activation='softmax'))\n",
        "model.summary()\n",
        "\n",
        "\n",
        "# Компиляция модели\n",
        "model.compile(loss='categorical_crossentropy', optimizer=Adam(learning_rate=0.001), metrics=['accuracy'])\n",
        "history = model.fit(x_train,y_train,validation_data=(x_val,y_val),shuffle=True,batch_size=128,epochs=15,verbose=2)"
      ],
      "execution_count": null,
      "outputs": [
        {
          "output_type": "stream",
          "name": "stdout",
          "text": [
            "Model: \"sequential_7\"\n",
            "_________________________________________________________________\n",
            " Layer (type)                Output Shape              Param #   \n",
            "=================================================================\n",
            " conv2d_14 (Conv2D)          (None, 28, 28, 32)        320       \n",
            "                                                                 \n",
            " batch_normalization_7 (Batc  (None, 28, 28, 32)       128       \n",
            " hNormalization)                                                 \n",
            "                                                                 \n",
            " conv2d_15 (Conv2D)          (None, 28, 28, 32)        9248      \n",
            "                                                                 \n",
            " max_pooling2d_7 (MaxPooling  (None, 14, 14, 32)       0         \n",
            " 2D)                                                             \n",
            "                                                                 \n",
            " dropout_9 (Dropout)         (None, 14, 14, 32)        0         \n",
            "                                                                 \n",
            " flatten_7 (Flatten)         (None, 6272)              0         \n",
            "                                                                 \n",
            " dense_21 (Dense)            (None, 100)               627300    \n",
            "                                                                 \n",
            " dropout_10 (Dropout)        (None, 100)               0         \n",
            "                                                                 \n",
            " dense_22 (Dense)            (None, 100)               10100     \n",
            "                                                                 \n",
            " dense_23 (Dense)            (None, 10)                1010      \n",
            "                                                                 \n",
            "=================================================================\n",
            "Total params: 648,106\n",
            "Trainable params: 648,042\n",
            "Non-trainable params: 64\n",
            "_________________________________________________________________\n",
            "Epoch 1/15\n",
            "422/422 - 123s - loss: 0.3157 - accuracy: 0.9017 - val_loss: 0.0652 - val_accuracy: 0.9800 - 123s/epoch - 292ms/step\n",
            "Epoch 2/15\n",
            "422/422 - 122s - loss: 0.1173 - accuracy: 0.9649 - val_loss: 0.0519 - val_accuracy: 0.9843 - 122s/epoch - 289ms/step\n",
            "Epoch 3/15\n",
            "422/422 - 122s - loss: 0.0906 - accuracy: 0.9739 - val_loss: 0.0470 - val_accuracy: 0.9872 - 122s/epoch - 289ms/step\n",
            "Epoch 4/15\n",
            "422/422 - 122s - loss: 0.0722 - accuracy: 0.9785 - val_loss: 0.0447 - val_accuracy: 0.9883 - 122s/epoch - 288ms/step\n",
            "Epoch 5/15\n",
            "422/422 - 122s - loss: 0.0646 - accuracy: 0.9798 - val_loss: 0.0453 - val_accuracy: 0.9867 - 122s/epoch - 288ms/step\n",
            "Epoch 6/15\n",
            "422/422 - 122s - loss: 0.0561 - accuracy: 0.9827 - val_loss: 0.0497 - val_accuracy: 0.9868 - 122s/epoch - 289ms/step\n",
            "Epoch 7/15\n",
            "422/422 - 122s - loss: 0.0505 - accuracy: 0.9839 - val_loss: 0.0367 - val_accuracy: 0.9905 - 122s/epoch - 289ms/step\n",
            "Epoch 8/15\n",
            "422/422 - 122s - loss: 0.0464 - accuracy: 0.9854 - val_loss: 0.0432 - val_accuracy: 0.9887 - 122s/epoch - 290ms/step\n",
            "Epoch 9/15\n",
            "422/422 - 121s - loss: 0.0415 - accuracy: 0.9872 - val_loss: 0.0506 - val_accuracy: 0.9877 - 121s/epoch - 288ms/step\n",
            "Epoch 10/15\n",
            "422/422 - 122s - loss: 0.0386 - accuracy: 0.9880 - val_loss: 0.0374 - val_accuracy: 0.9892 - 122s/epoch - 289ms/step\n",
            "Epoch 11/15\n",
            "422/422 - 122s - loss: 0.0358 - accuracy: 0.9890 - val_loss: 0.0454 - val_accuracy: 0.9898 - 122s/epoch - 290ms/step\n",
            "Epoch 12/15\n",
            "422/422 - 121s - loss: 0.0345 - accuracy: 0.9890 - val_loss: 0.0466 - val_accuracy: 0.9882 - 121s/epoch - 287ms/step\n",
            "Epoch 13/15\n",
            "422/422 - 121s - loss: 0.0317 - accuracy: 0.9899 - val_loss: 0.0460 - val_accuracy: 0.9888 - 121s/epoch - 287ms/step\n",
            "Epoch 14/15\n",
            "422/422 - 121s - loss: 0.0325 - accuracy: 0.9894 - val_loss: 0.0388 - val_accuracy: 0.9902 - 121s/epoch - 287ms/step\n",
            "Epoch 15/15\n",
            "422/422 - 121s - loss: 0.0289 - accuracy: 0.9907 - val_loss: 0.0426 - val_accuracy: 0.9903 - 121s/epoch - 287ms/step\n"
          ]
        }
      ]
    },
    {
      "cell_type": "code",
      "metadata": {
        "colab": {
          "base_uri": "https://localhost:8080/",
          "height": 577
        },
        "id": "7Gfg6sAl1cez",
        "outputId": "218d2f54-c1fe-4740-c72d-1fbf1faf63c4"
      },
      "source": [
        "print(model.evaluate(x_test,y_test))\n",
        "from matplotlib import pyplot\n",
        "\n",
        "pyplot.plot(history.history['loss'], label='loss train')\n",
        "pyplot.plot(history.history['val_loss'], label='loss test')\n",
        "pyplot.show()\n",
        "plt.plot(history.history['accuracy'])\n",
        "plt.plot(history.history['val_accuracy'])\n",
        "plt.title('model accuracy')\n",
        "plt.ylabel('accuracy')\n",
        "plt.xlabel('epoch')\n",
        "pyplot.show()\n"
      ],
      "execution_count": null,
      "outputs": [
        {
          "output_type": "stream",
          "name": "stdout",
          "text": [
            "313/313 [==============================] - 7s 21ms/step - loss: 0.0348 - accuracy: 0.9917\n",
            "[0.03479154035449028, 0.9916999936103821]\n"
          ]
        },
        {
          "output_type": "display_data",
          "data": {
            "image/png": "[encoded data removed]",
            "text/plain": [
              "<Figure size 432x288 with 1 Axes>"
            ]
          },
          "metadata": {
            "needs_background": "light"
          }
        },
        {
          "output_type": "display_data",
          "data": {
            "image/png": "[encoded data removed]",
            "text/plain": [
              "<Figure size 432x288 with 1 Axes>"
            ]
          },
          "metadata": {
            "needs_background": "light"
          }
        }
      ]
    },
    {
      "cell_type": "code",
      "metadata": {
        "colab": {
          "base_uri": "https://localhost:8080/",
          "height": 1000
        },
        "id": "VP_Q3YBp21Uc",
        "outputId": "c3043565-ed72-4bbf-d739-482e7939c0d8"
      },
      "source": [
        "# Создание модели последовательной архитектуры\n",
        "model = Sequential()\n",
        "\n",
        "\n",
        "\n",
        "model.add(Conv2D(32, (3, 3), padding='valid', activation='relu', input_shape=np.shape(x_train[0])))\n",
        "model.add(BatchNormalization())\n",
        "model.add(Conv2D(32, (3, 3), padding='valid', activation='relu'))\n",
        "model.add(MaxPooling2D(pool_size=(2, 2)))\n",
        "model.add(Dropout(0.2))\n",
        "model.add(Flatten())\n",
        "model.add(Dense(100, activation='relu'))\n",
        "model.add(Dropout(0.4))\n",
        "model.add(Dense(100, activation='relu'))\n",
        "model.add(Dense(y_train.shape[1], activation='softmax'))\n",
        "model.summary()\n",
        "\n",
        "\n",
        "# Компиляция модели\n",
        "model.compile(loss='categorical_crossentropy', optimizer=Adam(learning_rate=0.001), metrics=['accuracy'])\n",
        "history = model.fit(x_train,y_train,validation_data=(x_val,y_val),shuffle=True,batch_size=128,epochs=15,verbose=2)\n",
        "print(model.evaluate(x_test,y_test))\n",
        "pyplot.plot(history.history['loss'], label='loss train')\n",
        "pyplot.plot(history.history['val_loss'], label='loss test')\n",
        "pyplot.show()\n",
        "plt.plot(history.history['accuracy'])\n",
        "plt.plot(history.history['val_accuracy'])\n",
        "plt.title('model accuracy')\n",
        "plt.ylabel('accuracy')\n",
        "plt.xlabel('epoch')\n",
        "pyplot.show()"
      ],
      "execution_count": null,
      "outputs": [
        {
          "output_type": "stream",
          "name": "stdout",
          "text": [
            "Model: \"sequential_8\"\n",
            "_________________________________________________________________\n",
            " Layer (type)                Output Shape              Param #   \n",
            "=================================================================\n",
            " conv2d_16 (Conv2D)          (None, 26, 26, 32)        320       \n",
            "                                                                 \n",
            " batch_normalization_8 (Batc  (None, 26, 26, 32)       128       \n",
            " hNormalization)                                                 \n",
            "                                                                 \n",
            " conv2d_17 (Conv2D)          (None, 24, 24, 32)        9248      \n",
            "                                                                 \n",
            " max_pooling2d_8 (MaxPooling  (None, 12, 12, 32)       0         \n",
            " 2D)                                                             \n",
            "                                                                 \n",
            " dropout_11 (Dropout)        (None, 12, 12, 32)        0         \n",
            "                                                                 \n",
            " flatten_8 (Flatten)         (None, 4608)              0         \n",
            "                                                                 \n",
            " dense_24 (Dense)            (None, 100)               460900    \n",
            "                                                                 \n",
            " dropout_12 (Dropout)        (None, 100)               0         \n",
            "                                                                 \n",
            " dense_25 (Dense)            (None, 100)               10100     \n",
            "                                                                 \n",
            " dense_26 (Dense)            (None, 10)                1010      \n",
            "                                                                 \n",
            "=================================================================\n",
            "Total params: 481,706\n",
            "Trainable params: 481,642\n",
            "Non-trainable params: 64\n",
            "_________________________________________________________________\n",
            "Epoch 1/15\n",
            "422/422 - 95s - loss: 0.3637 - accuracy: 0.8861 - val_loss: 0.0671 - val_accuracy: 0.9813 - 95s/epoch - 224ms/step\n",
            "Epoch 2/15\n",
            "422/422 - 93s - loss: 0.1278 - accuracy: 0.9621 - val_loss: 0.0597 - val_accuracy: 0.9832 - 93s/epoch - 222ms/step\n",
            "Epoch 3/15\n",
            "422/422 - 93s - loss: 0.0973 - accuracy: 0.9703 - val_loss: 0.0560 - val_accuracy: 0.9840 - 93s/epoch - 220ms/step\n",
            "Epoch 4/15\n",
            "422/422 - 93s - loss: 0.0820 - accuracy: 0.9749 - val_loss: 0.0560 - val_accuracy: 0.9855 - 93s/epoch - 220ms/step\n",
            "Epoch 5/15\n",
            "422/422 - 93s - loss: 0.0683 - accuracy: 0.9796 - val_loss: 0.0458 - val_accuracy: 0.9880 - 93s/epoch - 221ms/step\n",
            "Epoch 6/15\n",
            "422/422 - 93s - loss: 0.0609 - accuracy: 0.9809 - val_loss: 0.0444 - val_accuracy: 0.9875 - 93s/epoch - 221ms/step\n",
            "Epoch 7/15\n",
            "422/422 - 94s - loss: 0.0533 - accuracy: 0.9829 - val_loss: 0.0418 - val_accuracy: 0.9880 - 94s/epoch - 222ms/step\n",
            "Epoch 8/15\n",
            "422/422 - 93s - loss: 0.0502 - accuracy: 0.9842 - val_loss: 0.0502 - val_accuracy: 0.9868 - 93s/epoch - 221ms/step\n",
            "Epoch 9/15\n",
            "422/422 - 93s - loss: 0.0465 - accuracy: 0.9855 - val_loss: 0.0445 - val_accuracy: 0.9887 - 93s/epoch - 221ms/step\n",
            "Epoch 10/15\n",
            "422/422 - 93s - loss: 0.0418 - accuracy: 0.9864 - val_loss: 0.0437 - val_accuracy: 0.9888 - 93s/epoch - 221ms/step\n",
            "Epoch 11/15\n",
            "422/422 - 93s - loss: 0.0382 - accuracy: 0.9881 - val_loss: 0.0464 - val_accuracy: 0.9897 - 93s/epoch - 221ms/step\n",
            "Epoch 12/15\n",
            "422/422 - 93s - loss: 0.0345 - accuracy: 0.9888 - val_loss: 0.0448 - val_accuracy: 0.9903 - 93s/epoch - 220ms/step\n",
            "Epoch 13/15\n",
            "422/422 - 93s - loss: 0.0348 - accuracy: 0.9886 - val_loss: 0.0448 - val_accuracy: 0.9895 - 93s/epoch - 220ms/step\n",
            "Epoch 14/15\n",
            "422/422 - 93s - loss: 0.0331 - accuracy: 0.9895 - val_loss: 0.0406 - val_accuracy: 0.9905 - 93s/epoch - 222ms/step\n",
            "Epoch 15/15\n",
            "422/422 - 93s - loss: 0.0293 - accuracy: 0.9905 - val_loss: 0.0450 - val_accuracy: 0.9905 - 93s/epoch - 220ms/step\n",
            "313/313 [==============================] - 6s 18ms/step - loss: 0.0456 - accuracy: 0.9881\n",
            "[0.045583151280879974, 0.988099992275238]\n"
          ]
        },
        {
          "output_type": "display_data",
          "data": {
            "image/png": "[encoded data removed]",
            "text/plain": [
              "<Figure size 432x288 with 1 Axes>"
            ]
          },
          "metadata": {
            "needs_background": "light"
          }
        },
        {
          "output_type": "display_data",
          "data": {
            "image/png": "[encoded data removed]",
            "text/plain": [
              "<Figure size 432x288 with 1 Axes>"
            ]
          },
          "metadata": {
            "needs_background": "light"
          }
        }
      ]
    },
    {
      "cell_type": "code",
      "metadata": {
        "colab": {
          "base_uri": "https://localhost:8080/",
          "height": 1000
        },
        "id": "1T3TDk-qDR81",
        "outputId": "e9531a5e-4996-454c-b156-dfd477b2939a"
      },
      "source": [
        "# Создание модели последовательной архитектуры\n",
        "model = Sequential()\n",
        "\n",
        "\n",
        "\n",
        "model.add(Conv2D(32, (3, 3), padding='valid', activation='relu', input_shape=np.shape(x_train[0])))\n",
        "model.add(BatchNormalization())\n",
        "model.add(Conv2D(32, (3, 3), padding='valid', activation='relu'))\n",
        "model.add(Dropout(0.2))\n",
        "model.add(Flatten())\n",
        "model.add(Dense(100, activation='relu'))\n",
        "model.add(Dropout(0.4))\n",
        "model.add(Dense(100, activation='relu'))\n",
        "model.add(Dense(y_train.shape[1], activation='softmax'))\n",
        "model.summary()\n",
        "\n",
        "\n",
        "# Компиляция модели\n",
        "model.compile(loss='categorical_crossentropy', optimizer=Adam(learning_rate=0.001), metrics=['accuracy'])\n",
        "history = model.fit(x_train,y_train,validation_data=(x_val,y_val),shuffle=True,batch_size=128,epochs=15,verbose=2)\n",
        "print(model.evaluate(x_test,y_test))\n",
        "pyplot.plot(history.history['loss'], label='loss train')\n",
        "pyplot.plot(history.history['val_loss'], label='loss test')\n",
        "pyplot.show()\n",
        "plt.plot(history.history['accuracy'])\n",
        "plt.plot(history.history['val_accuracy'])\n",
        "plt.title('model accuracy')\n",
        "plt.ylabel('accuracy')\n",
        "plt.xlabel('epoch')\n",
        "pyplot.show()"
      ],
      "execution_count": null,
      "outputs": [
        {
          "output_type": "stream",
          "name": "stdout",
          "text": [
            "Model: \"sequential_9\"\n",
            "_________________________________________________________________\n",
            " Layer (type)                Output Shape              Param #   \n",
            "=================================================================\n",
            " conv2d_18 (Conv2D)          (None, 26, 26, 32)        320       \n",
            "                                                                 \n",
            " batch_normalization_9 (Batc  (None, 26, 26, 32)       128       \n",
            " hNormalization)                                                 \n",
            "                                                                 \n",
            " conv2d_19 (Conv2D)          (None, 24, 24, 32)        9248      \n",
            "                                                                 \n",
            " dropout_13 (Dropout)        (None, 24, 24, 32)        0         \n",
            "                                                                 \n",
            " flatten_9 (Flatten)         (None, 18432)             0         \n",
            "                                                                 \n",
            " dense_27 (Dense)            (None, 100)               1843300   \n",
            "                                                                 \n",
            " dropout_14 (Dropout)        (None, 100)               0         \n",
            "                                                                 \n",
            " dense_28 (Dense)            (None, 100)               10100     \n",
            "                                                                 \n",
            " dense_29 (Dense)            (None, 10)                1010      \n",
            "                                                                 \n",
            "=================================================================\n",
            "Total params: 1,864,106\n",
            "Trainable params: 1,864,042\n",
            "Non-trainable params: 64\n",
            "_________________________________________________________________\n",
            "Epoch 1/15\n",
            "422/422 - 111s - loss: 0.3519 - accuracy: 0.8906 - val_loss: 0.0695 - val_accuracy: 0.9795 - 111s/epoch - 263ms/step\n",
            "Epoch 2/15\n",
            "422/422 - 110s - loss: 0.1298 - accuracy: 0.9598 - val_loss: 0.0536 - val_accuracy: 0.9833 - 110s/epoch - 260ms/step\n",
            "Epoch 3/15\n",
            "422/422 - 110s - loss: 0.0999 - accuracy: 0.9690 - val_loss: 0.0468 - val_accuracy: 0.9867 - 110s/epoch - 260ms/step\n",
            "Epoch 4/15\n",
            "422/422 - 109s - loss: 0.0827 - accuracy: 0.9746 - val_loss: 0.0613 - val_accuracy: 0.9840 - 109s/epoch - 259ms/step\n",
            "Epoch 5/15\n",
            "422/422 - 109s - loss: 0.0682 - accuracy: 0.9784 - val_loss: 0.0469 - val_accuracy: 0.9873 - 109s/epoch - 259ms/step\n",
            "Epoch 6/15\n",
            "422/422 - 110s - loss: 0.0602 - accuracy: 0.9803 - val_loss: 0.0525 - val_accuracy: 0.9872 - 110s/epoch - 261ms/step\n",
            "Epoch 7/15\n",
            "422/422 - 109s - loss: 0.0564 - accuracy: 0.9818 - val_loss: 0.0491 - val_accuracy: 0.9872 - 109s/epoch - 259ms/step\n",
            "Epoch 8/15\n",
            "422/422 - 109s - loss: 0.0490 - accuracy: 0.9841 - val_loss: 0.0554 - val_accuracy: 0.9870 - 109s/epoch - 259ms/step\n",
            "Epoch 9/15\n",
            "422/422 - 110s - loss: 0.0437 - accuracy: 0.9859 - val_loss: 0.0554 - val_accuracy: 0.9865 - 110s/epoch - 260ms/step\n",
            "Epoch 10/15\n",
            "422/422 - 110s - loss: 0.0423 - accuracy: 0.9865 - val_loss: 0.0475 - val_accuracy: 0.9882 - 110s/epoch - 260ms/step\n",
            "Epoch 11/15\n",
            "422/422 - 110s - loss: 0.0405 - accuracy: 0.9872 - val_loss: 0.0552 - val_accuracy: 0.9893 - 110s/epoch - 260ms/step\n",
            "Epoch 12/15\n",
            "422/422 - 110s - loss: 0.0358 - accuracy: 0.9889 - val_loss: 0.0616 - val_accuracy: 0.9862 - 110s/epoch - 262ms/step\n",
            "Epoch 13/15\n",
            "422/422 - 109s - loss: 0.0313 - accuracy: 0.9896 - val_loss: 0.0639 - val_accuracy: 0.9883 - 109s/epoch - 259ms/step\n",
            "Epoch 14/15\n",
            "422/422 - 110s - loss: 0.0309 - accuracy: 0.9900 - val_loss: 0.0574 - val_accuracy: 0.9882 - 110s/epoch - 260ms/step\n",
            "Epoch 15/15\n",
            "422/422 - 109s - loss: 0.0313 - accuracy: 0.9895 - val_loss: 0.0558 - val_accuracy: 0.9880 - 109s/epoch - 259ms/step\n",
            "313/313 [==============================] - 6s 19ms/step - loss: 0.0439 - accuracy: 0.9895\n",
            "[0.04387398436665535, 0.9894999861717224]\n"
          ]
        },
        {
          "output_type": "display_data",
          "data": {
            "image/png": "[encoded data removed]",
            "text/plain": [
              "<Figure size 432x288 with 1 Axes>"
            ]
          },
          "metadata": {
            "needs_background": "light"
          }
        },
        {
          "output_type": "display_data",
          "data": {
            "image/png": "[encoded data removed]",
            "text/plain": [
              "<Figure size 432x288 with 1 Axes>"
            ]
          },
          "metadata": {
            "needs_background": "light"
          }
        }
      ]
    },
    {
      "cell_type": "code",
      "metadata": {
        "id": "JCdqvRN5288y"
      },
      "source": [],
      "execution_count": null,
      "outputs": []
    }
  ]
}