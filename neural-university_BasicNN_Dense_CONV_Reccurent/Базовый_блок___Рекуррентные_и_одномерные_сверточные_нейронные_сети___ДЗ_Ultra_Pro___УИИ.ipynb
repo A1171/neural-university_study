{
  "nbformat": 4,
  "nbformat_minor": 0,
  "metadata": {
    "colab": {
      "provenance": []
    },
    "kernelspec": {
      "name": "python3",
      "display_name": "Python 3"
    },
    "language_info": {
      "name": "python"
    }
  },
  "cells": [
    {
      "cell_type": "markdown",
      "source": [
        "Тест различных типов нейросети для классификации писателей."
      ],
      "metadata": {
        "id": "IyUyuPxMUCho"
      }
    },
    {
      "cell_type": "markdown",
      "metadata": {
        "id": "bA9aVxQQhaZ7"
      },
      "source": [
        "Каждый из нас писал в школе и университете изложения, сочинения, рефераты. А значит, в каждом из нас живет великий русский писатель.\n",
        "В этой работе будем раскрывать свои таланты, находить себя в ряду таких гениев, как Пушкин, Гоголь, Грибоедов\n",
        "\n",
        "В этой работе \n",
        "- скачаем корпус текстов 20-ми русских писателей. Каждый текст разобьем на обучающую и тестовую выборки.\n",
        "- разработаем и обучим нейронную сеть определяющию авторство фрагментов текста (по тестовой выборке)\n",
        "- скачаем СВОЕ сочинение (или чье-нибудь - есть в архиве). Сделаем из него проверочную выборку\n",
        "- предложим нейронке предсказать автора сочинения (по проверочной выборке)\n",
        "- объявим себя великим писателем, например, Гончаровым \n",
        "\n",
        "Ссылка на архив: https://storage.googleapis.com/datasets_ai/Data/writers25.zip\n",
        "\n",
        "В работе рекомендуется пользоваться материалами из ноутбука практического занятия \"Рекуррентные и одномерные сверточные нейронные сети\". Допускается выбрать лучший вариант нейронки и адаптировать ее структуру, параметры обучения и формирования датасетов под свои *нужды*"
      ]
    },
    {
      "cell_type": "code",
      "metadata": {
        "id": "8A_5iVkYhZ1W"
      },
      "source": [
        "# ваше решение"
      ],
      "execution_count": null,
      "outputs": []
    },
    {
      "cell_type": "code",
      "metadata": {
        "id": "jKFgOPyiYAha"
      },
      "source": [],
      "execution_count": null,
      "outputs": []
    },
    {
      "cell_type": "code",
      "metadata": {
        "colab": {
          "base_uri": "https://localhost:8080/",
          "height": 105
        },
        "id": "FDfCMaNkGQkb",
        "outputId": "f236e545-1a8d-45f7-aa00-3ffe30e767b6"
      },
      "source": [
        "import gdown                                      # Подключим функцию gdown\n",
        "file_id = '1TeJxgfr2ZEY5Elil7XgM8WW7njI9Toqj'     # Обозначим ID файла в рамках ссылки\n",
        "file_name = 'writers25.zip'                         # Обозначим имя архива с базой\n",
        "path = 'https://storage.googleapis.com/datasets_ai/Data/writers25.zip'  # Укажем директорию для скачивания: ссылка на гугл-диск + ID файла\n",
        "gdown.download(path, file_name, quiet=False)      # Скачивание файла"
      ],
      "execution_count": null,
      "outputs": [
        {
          "output_type": "stream",
          "name": "stderr",
          "text": [
            "Downloading...\n",
            "From: https://storage.googleapis.com/datasets_ai/Data/writers25.zip\n",
            "To: /content/writers25.zip\n",
            "100%|██████████| 23.6M/23.6M [00:00<00:00, 190MB/s]\n"
          ]
        },
        {
          "output_type": "execute_result",
          "data": {
            "application/vnd.google.colaboratory.intrinsic+json": {
              "type": "string"
            },
            "text/plain": [
              "'writers25.zip'"
            ]
          },
          "metadata": {},
          "execution_count": 27
        }
      ]
    },
    {
      "cell_type": "code",
      "metadata": {
        "id": "JWfi8fog_Vc5"
      },
      "source": [
        "from itertools import chain\n",
        "# Токенизатор для преобразование текстов в последовательности\n",
        "from tensorflow.keras.preprocessing.text import Tokenizer\n",
        "# Функции-утилиты для работы с категориальными данными\n",
        "from tensorflow.keras import utils\n",
        "# Работа с массивами данных\n",
        "import numpy as np \n",
        "# Класс для конструирования последовательной модели нейронной сети\n",
        "from tensorflow.keras.models import Sequential\n",
        "# Основные слои\n",
        "from tensorflow.keras.layers import Dense, Dropout, BatchNormalization, Activation ,Embedding,SpatialDropout1D,Flatten,Conv1D,LSTM,MaxPooling1D\n",
        "# Функции операционной системы\n",
        "import os\n",
        "# Регулярные выражения\n",
        "import re"
      ],
      "execution_count": null,
      "outputs": []
    },
    {
      "cell_type": "code",
      "metadata": {
        "id": "dzWrE9S8I-X8"
      },
      "source": [
        "# Распаковка архива в папку writers\n",
        "!unzip -qo writers25.zip -d writers25/"
      ],
      "execution_count": null,
      "outputs": []
    },
    {
      "cell_type": "code",
      "metadata": {
        "colab": {
          "base_uri": "https://localhost:8080/"
        },
        "id": "qpdUqATcJHhD",
        "outputId": "8d8c4ac8-115c-4e92-9697-5ee0c7fa903d"
      },
      "source": [
        "!ls writers25/rec_1d"
      ],
      "execution_count": null,
      "outputs": [
        {
          "output_type": "stream",
          "name": "stdout",
          "text": [
            "refer  writters\n"
          ]
        }
      ]
    },
    {
      "cell_type": "code",
      "metadata": {
        "colab": {
          "base_uri": "https://localhost:8080/"
        },
        "id": "zYjr-nfQGwji",
        "outputId": "ccdbfd42-86e5-44b6-ec4d-b5b799fc50c9"
      },
      "source": [
        "!ls writers25/rec_1d/writters"
      ],
      "execution_count": null,
      "outputs": [
        {
          "output_type": "stream",
          "name": "stdout",
          "text": [
            "Беляев.txt    Гончаров.txt     Каверин.txt    Лесков.txt     Толстой.txt\n",
            "Булгаков.txt  Горький.txt      Катаев.txt     Носов.txt      Тургенев.txt\n",
            "Васильев.txt  Грибоедов.txt    Куприн.txt     Пастернак.txt  Чехов.txt\n",
            "Гоголь.txt    Достоевский.txt  Лермонтов.txt  Пушкин.txt     Шолохов.txt\n"
          ]
        }
      ]
    },
    {
      "cell_type": "code",
      "metadata": {
        "colab": {
          "base_uri": "https://localhost:8080/"
        },
        "id": "91gwGSiAGxJq",
        "outputId": "17d5001f-19d7-4afe-ca15-e9c1005aa00b"
      },
      "source": [
        "!ls writers25/rec_1d/refer"
      ],
      "execution_count": null,
      "outputs": [
        {
          "output_type": "stream",
          "name": "stdout",
          "text": [
            "островский.txt\n"
          ]
        }
      ]
    },
    {
      "cell_type": "code",
      "metadata": {
        "id": "i3T5YiHP_Vlg"
      },
      "source": [
        "# Папка с текстовыми файлами\n",
        "FILE_DIR  = 'writers25/rec_1d/writters/'"
      ],
      "execution_count": null,
      "outputs": []
    },
    {
      "cell_type": "code",
      "metadata": {
        "colab": {
          "base_uri": "https://localhost:8080/"
        },
        "id": "bYMetvMoDXho",
        "outputId": "033ff53f-e427-4ae1-b1d6-bd2411934794"
      },
      "source": [
        "os.listdir(FILE_DIR)"
      ],
      "execution_count": null,
      "outputs": [
        {
          "output_type": "execute_result",
          "data": {
            "text/plain": [
              "['Гончаров.txt',\n",
              " 'Лесков.txt',\n",
              " 'Чехов.txt',\n",
              " 'Тургенев.txt',\n",
              " 'Васильев.txt',\n",
              " 'Горький.txt',\n",
              " 'Пастернак.txt',\n",
              " 'Достоевский.txt',\n",
              " 'Беляев.txt',\n",
              " 'Пушкин.txt',\n",
              " 'Гоголь.txt',\n",
              " 'Лермонтов.txt',\n",
              " 'Каверин.txt',\n",
              " 'Катаев.txt',\n",
              " 'Носов.txt',\n",
              " 'Булгаков.txt',\n",
              " 'Куприн.txt',\n",
              " 'Шолохов.txt',\n",
              " 'Толстой.txt',\n",
              " 'Грибоедов.txt']"
            ]
          },
          "metadata": {},
          "execution_count": 34
        }
      ]
    },
    {
      "cell_type": "code",
      "metadata": {
        "colab": {
          "base_uri": "https://localhost:8080/"
        },
        "id": "OxU24ClvRRe5",
        "outputId": "8fd09969-c1f7-4351-978c-768d3edf280c"
      },
      "source": [
        "os.listdir('writers25/rec_1d/refer')"
      ],
      "execution_count": null,
      "outputs": [
        {
          "output_type": "execute_result",
          "data": {
            "text/plain": [
              "['островский.txt']"
            ]
          },
          "metadata": {},
          "execution_count": 35
        }
      ]
    },
    {
      "cell_type": "code",
      "metadata": {
        "colab": {
          "base_uri": "https://localhost:8080/"
        },
        "id": "JdB30sUz_UZc",
        "outputId": "0bc7f4a8-83aa-4584-8ad5-07043a0ca91f"
      },
      "source": [
        "import codecs\n",
        "# В список добавляются имена классов\n",
        "CLASS_LIST = []\n",
        "\n",
        "# Здесь сохраняются тексты для обучения сети\n",
        "text_train = []\n",
        "\n",
        "# А здесь для проверки точности сети\n",
        "text_test = []\n",
        "\n",
        "TRAIN_RATIO=0.9\n",
        "\n",
        "# цикл для итерации по каждому имени текста в общей папке\n",
        "for file_name in os.listdir(FILE_DIR):\n",
        "\n",
        "    # Выделение имени класса и типа выборки из имени файла\n",
        "    m = re.match('(.+)(\\.txt)', file_name)# (\\S+)_\n",
        "    class_name=m[1]\n",
        "    # Если выделение получилось, то файл обрабатывается\n",
        "    if m:\n",
        "\n",
        "            # Добавление нового класса, если его еще нет в списке\n",
        "        if class_name not in CLASS_LIST:\n",
        "\n",
        "                # Выводится информационное сообщение о добавлении названия класса\n",
        "                CLASS_LIST.append(class_name)\n",
        "\n",
        "                # Инициализация соответствующих классу строк текста\n",
        "                text_train.append('')\n",
        "                text_test.append('')\n",
        "\n",
        "            # Поиск индекса класса для добавления содержимого файла в выборку\n",
        "        cls = CLASS_LIST.index(class_name)\n",
        "\n",
        "            # Выводится информационное сообщение о добавлении класса в список классов и текста к выборке\n",
        "        print(f'Добавление файла \"{file_name}\" в класс \"{CLASS_LIST[cls]}\"')\n",
        "\n",
        "            # оператор with - безопасное чтение каждого файла с текстом\n",
        "        with codecs.open(f'{FILE_DIR}/{file_name}', 'r','cp1251') as f:\n",
        "\n",
        "                # Загрузка содержимого файла в строку\n",
        "                text = f.read()\n",
        "                #b=bytes(text,\"cp1251\")\n",
        "                #text=str(b,\"cp866\")\n",
        "                #text.decode('utf8').encode('cp866')\n",
        "                text = text.replace('\\n', ' ')\n",
        "\n",
        "            # Добавление текста к соответствующей выборке класса. Концы строк заменяются на пробел\n",
        "\n",
        "        text_train[cls] += ' ' + text[:int(len(text)*TRAIN_RATIO)]\n",
        "        text_test[cls] += ' ' + text[int(len(text)*TRAIN_RATIO):]\n",
        "        \n",
        "            \n",
        "# Определим кол-во классов\n",
        "CLASS_COUNT = len(CLASS_LIST)"
      ],
      "execution_count": null,
      "outputs": [
        {
          "output_type": "stream",
          "name": "stdout",
          "text": [
            "Добавление файла \"Гончаров.txt\" в класс \"Гончаров\"\n",
            "Добавление файла \"Лесков.txt\" в класс \"Лесков\"\n",
            "Добавление файла \"Чехов.txt\" в класс \"Чехов\"\n",
            "Добавление файла \"Тургенев.txt\" в класс \"Тургенев\"\n",
            "Добавление файла \"Васильев.txt\" в класс \"Васильев\"\n",
            "Добавление файла \"Горький.txt\" в класс \"Горький\"\n",
            "Добавление файла \"Пастернак.txt\" в класс \"Пастернак\"\n",
            "Добавление файла \"Достоевский.txt\" в класс \"Достоевский\"\n",
            "Добавление файла \"Беляев.txt\" в класс \"Беляев\"\n",
            "Добавление файла \"Пушкин.txt\" в класс \"Пушкин\"\n",
            "Добавление файла \"Гоголь.txt\" в класс \"Гоголь\"\n",
            "Добавление файла \"Лермонтов.txt\" в класс \"Лермонтов\"\n",
            "Добавление файла \"Каверин.txt\" в класс \"Каверин\"\n",
            "Добавление файла \"Катаев.txt\" в класс \"Катаев\"\n",
            "Добавление файла \"Носов.txt\" в класс \"Носов\"\n",
            "Добавление файла \"Булгаков.txt\" в класс \"Булгаков\"\n",
            "Добавление файла \"Куприн.txt\" в класс \"Куприн\"\n",
            "Добавление файла \"Шолохов.txt\" в класс \"Шолохов\"\n",
            "Добавление файла \"Толстой.txt\" в класс \"Толстой\"\n",
            "Добавление файла \"Грибоедов.txt\" в класс \"Грибоедов\"\n"
          ]
        }
      ]
    },
    {
      "cell_type": "code",
      "metadata": {
        "colab": {
          "base_uri": "https://localhost:8080/"
        },
        "id": "3yynk_3P_Ucc",
        "outputId": "7c87d492-93c7-45ea-b545-bce4e1e6fc58"
      },
      "source": [
        "print(len(text_train))\n",
        "print(len(text_train[0]))\n",
        "print(len(text_test))\n",
        "print(len(text_test[0]))\n",
        "print(CLASS_LIST)"
      ],
      "execution_count": null,
      "outputs": [
        {
          "output_type": "stream",
          "name": "stdout",
          "text": [
            "20\n",
            "2819197\n",
            "20\n",
            "313246\n",
            "['Гончаров', 'Лесков', 'Чехов', 'Тургенев', 'Васильев', 'Горький', 'Пастернак', 'Достоевский', 'Беляев', 'Пушкин', 'Гоголь', 'Лермонтов', 'Каверин', 'Катаев', 'Носов', 'Булгаков', 'Куприн', 'Шолохов', 'Толстой', 'Грибоедов']\n"
          ]
        }
      ]
    },
    {
      "cell_type": "code",
      "metadata": {
        "colab": {
          "base_uri": "https://localhost:8080/"
        },
        "id": "ZL8k0HXyKxTc",
        "outputId": "ad39ef59-707b-4614-d40c-2b3c864861c5"
      },
      "source": [
        "print(text_train[0][:100])"
      ],
      "execution_count": null,
      "outputs": [
        {
          "output_type": "stream",
          "name": "stdout",
          "text": [
            " Обломов\r ЧАСТЬ ПЕРВАЯ\r I\r В Гороховой улице, в одном из больших домов, народонаселения которого ста\n"
          ]
        }
      ]
    },
    {
      "cell_type": "markdown",
      "source": [
        "Токенизируем"
      ],
      "metadata": {
        "id": "zHWAwvlqUSUg"
      }
    },
    {
      "cell_type": "code",
      "metadata": {
        "id": "IX4icpEW_Ufw"
      },
      "source": [
        "# Объем словаря для токенизатора\n",
        "VOCAB_SIZE = 20000\n",
        "\n",
        "# Длина отрезка текста (окна) в словах                        \n",
        "WIN_SIZE   = 2000\n",
        "\n",
        "# Шаг окна разбиения текста на векторы                         \n",
        "WIN_HOP    = 1000                          \n",
        "\n",
        "# Токенайзер из Keras для разбиения текста и построения частотного словаря\n",
        "tokenizer = Tokenizer(num_words=VOCAB_SIZE, filters='!\"#$%&()*+,-–—./…:;<=>?@[\\\\]^_`{|}~«»\\t\\n\\xa0\\ufeff', \n",
        "                          lower=True, split=' ', oov_token='неизвестное_слово', char_level=False)"
      ],
      "execution_count": null,
      "outputs": []
    },
    {
      "cell_type": "code",
      "metadata": {
        "id": "QrmbT8-p_Uis"
      },
      "source": [
        "# Получаем словарь частотности \n",
        "tokenizer.fit_on_texts(text_train)"
      ],
      "execution_count": null,
      "outputs": []
    },
    {
      "cell_type": "code",
      "metadata": {
        "id": "Xk679B5k_Ul9"
      },
      "source": [
        "seq_train = tokenizer.texts_to_sequences(text_train)\n",
        "seq_test = tokenizer.texts_to_sequences(text_test)"
      ],
      "execution_count": null,
      "outputs": []
    },
    {
      "cell_type": "code",
      "metadata": {
        "colab": {
          "base_uri": "https://localhost:8080/"
        },
        "id": "JtpmqdSM_UpF",
        "outputId": "24352607-5201-409a-99a9-ef6918020f9c"
      },
      "source": [
        "print(len(text_train[0]))\n",
        "print(len(seq_train[0]))\n",
        "print()\n",
        "SequencyLen=[]\n",
        "SequencyLenMax=0\n",
        "SequencyLenMin=1000000000\n",
        "for i,seq in enumerate(seq_train):\n",
        "  if(len(seq)>SequencyLenMax):SequencyLenMax=len(seq)\n",
        "  if(len(seq)<SequencyLenMin):SequencyLenMin=len(seq)\n",
        "  SequencyLen.append(len(seq))\n",
        "  print(i,len(seq))\n",
        "print()\n",
        "print(\"Max len=\",SequencyLenMax,\"Min len=\",SequencyLenMin,\"Max/Min=\",SequencyLenMax/SequencyLenMin)"
      ],
      "execution_count": null,
      "outputs": [
        {
          "output_type": "stream",
          "name": "stdout",
          "text": [
            "2819197\n",
            "468373\n",
            "\n",
            "0 468373\n",
            "1 320444\n",
            "2 1001500\n",
            "3 291890\n",
            "4 438541\n",
            "5 382624\n",
            "6 439265\n",
            "7 766007\n",
            "8 329700\n",
            "9 477414\n",
            "10 285976\n",
            "11 294132\n",
            "12 292981\n",
            "13 364563\n",
            "14 369728\n",
            "15 295908\n",
            "16 336979\n",
            "17 476043\n",
            "18 491711\n",
            "19 147020\n",
            "\n",
            "Max len= 1001500 Min len= 147020 Max/Min= 6.811998367569038\n"
          ]
        }
      ]
    },
    {
      "cell_type": "markdown",
      "source": [
        "Балансировка класов путем простого дублирования записей"
      ],
      "metadata": {
        "id": "7cKWH8V2UXbi"
      }
    },
    {
      "cell_type": "code",
      "metadata": {
        "id": "r2kNB7oyIBDk"
      },
      "source": [
        "#Балансировка"
      ],
      "execution_count": null,
      "outputs": []
    },
    {
      "cell_type": "code",
      "metadata": {
        "id": "igQL5HU1ACjM"
      },
      "source": [
        "seq_train_balanced=[]\n",
        "for seq in seq_train:\n",
        "  ptr=0\n",
        "  CurrentLen=len(seq)\n",
        "  temp_seq=np.array(seq)\n",
        "  while(len(temp_seq)<SequencyLenMax):\n",
        "    AddEntries=SequencyLenMax-len(temp_seq)\n",
        "    if(AddEntries>len(temp_seq)):\n",
        "          AddEntries=np.size(temp_seq)\n",
        "    temp_seq=np.hstack((temp_seq,temp_seq[0:AddEntries]))\n",
        "  seq_train_balanced.append(temp_seq)"
      ],
      "execution_count": null,
      "outputs": []
    },
    {
      "cell_type": "markdown",
      "source": [
        "Проверка балансировки"
      ],
      "metadata": {
        "id": "k-dY2Sb_UemE"
      }
    },
    {
      "cell_type": "code",
      "metadata": {
        "colab": {
          "base_uri": "https://localhost:8080/"
        },
        "id": "0Oo2mINEACmk",
        "outputId": "9552c31d-c6e1-4646-b968-e03f1bd4f9b0"
      },
      "source": [
        "for i,seq in enumerate(seq_train_balanced):\n",
        "  print(i,len(seq))"
      ],
      "execution_count": null,
      "outputs": [
        {
          "output_type": "stream",
          "name": "stdout",
          "text": [
            "0 1001500\n",
            "1 1001500\n",
            "2 1001500\n",
            "3 1001500\n",
            "4 1001500\n",
            "5 1001500\n",
            "6 1001500\n",
            "7 1001500\n",
            "8 1001500\n",
            "9 1001500\n",
            "10 1001500\n",
            "11 1001500\n",
            "12 1001500\n",
            "13 1001500\n",
            "14 1001500\n",
            "15 1001500\n",
            "16 1001500\n",
            "17 1001500\n",
            "18 1001500\n",
            "19 1001500\n"
          ]
        }
      ]
    },
    {
      "cell_type": "code",
      "metadata": {
        "id": "sqKZ8vHNzDNq"
      },
      "source": [
        "def split_sequence(sequence,   # Последовательность индексов\n",
        "                   win_size,   # Размер окна для деления на примеры\n",
        "                   hop):       # Шаг окна\n",
        "\n",
        "    # Последовательность разбивается на части до последнего полного окна\n",
        "    return [sequence[i:i + win_size] for i in range(0, len(sequence) - win_size + 1, hop)]"
      ],
      "execution_count": null,
      "outputs": []
    },
    {
      "cell_type": "code",
      "metadata": {
        "id": "KeZcCmtCzDRJ"
      },
      "source": [
        "def vectorize_sequence(seq_list,    # Список последовательностей индексов \n",
        "                       win_size,    # Размер окна для деления на примеры\n",
        "                       hop):        # Шаг окна\n",
        "\n",
        "    # В списке последовательности следуют в порядке их классов (их кол-во сповпадает с кол-вом классов)\n",
        "    class_count = len(seq_list)\n",
        "\n",
        "    # Списки для исходных векторов и категориальных меток класса\n",
        "    x, y = [], []\n",
        "\n",
        "    # Для каждого класса:\n",
        "    for cls in range(class_count):\n",
        "\n",
        "        # Разбиение последовательности класса cls на отрезки\n",
        "        vectors = split_sequence(seq_list[cls], win_size, hop)\n",
        "\n",
        "        # Добавление отрезков в выборку\n",
        "\n",
        "        x += vectors\n",
        "        \n",
        "        # Для всех отрезков класса cls добавление меток класса в виде OHE\n",
        "        y += [utils.to_categorical(cls, class_count)] * len(vectors)\n",
        "\n",
        "    # Возврат результатов как numpy-массивов\n",
        "    return np.array(x), np.array(y)"
      ],
      "execution_count": null,
      "outputs": []
    },
    {
      "cell_type": "code",
      "metadata": {
        "id": "Np-sn0DF56ej",
        "colab": {
          "base_uri": "https://localhost:8080/"
        },
        "outputId": "f553f3f5-43a8-450f-8d3b-efbe7c692524"
      },
      "source": [
        "# Формирование обучающей выборки\n",
        "x_train, y_train = vectorize_sequence(seq_train_balanced, WIN_SIZE, WIN_HOP) \n",
        "# Формирование тестовой выборки\n",
        "x_test, y_test = vectorize_sequence(seq_test, WIN_SIZE, WIN_HOP)\n",
        "\n",
        "# Проверка формы сформированных данных\n",
        "print(x_train.shape, y_train.shape)\n",
        "print(x_test.shape, y_test.shape)"
      ],
      "execution_count": null,
      "outputs": [
        {
          "output_type": "stream",
          "name": "stdout",
          "text": [
            "(20000, 2000) (20000, 20)\n",
            "(894, 2000) (894, 20)\n"
          ]
        }
      ]
    },
    {
      "cell_type": "code",
      "metadata": {
        "id": "nAgUVgPMzDYi",
        "colab": {
          "base_uri": "https://localhost:8080/"
        },
        "outputId": "062de678-25c9-4519-e251-d54467a1b288"
      },
      "source": [
        "x_train_01 = tokenizer.sequences_to_matrix(x_train.tolist())#\n",
        "x_test_01 = tokenizer.sequences_to_matrix(x_test.tolist())#\n",
        "print(x_train_01.shape,x_test_01.shape)"
      ],
      "execution_count": null,
      "outputs": [
        {
          "output_type": "stream",
          "name": "stdout",
          "text": [
            "(20000, 20000) (894, 20000)\n"
          ]
        }
      ]
    },
    {
      "cell_type": "code",
      "metadata": {
        "id": "-aAamy-nACs8"
      },
      "source": [],
      "execution_count": null,
      "outputs": []
    },
    {
      "cell_type": "markdown",
      "source": [
        "Полносвязная модель с BOW"
      ],
      "metadata": {
        "id": "ZrFVtIvOU0kK"
      }
    },
    {
      "cell_type": "code",
      "metadata": {
        "id": "be-5Yq1blqNI"
      },
      "source": [
        "model_BoW = Sequential()                                            # Создание последовательной модели нейросети\n",
        "model_BoW.add(Dense(100, input_dim=x_train_01.shape[-1], activation=\"relu\"))  # Первый полносвязный слой\n",
        "model_BoW.add(BatchNormalization())\n",
        "model_BoW.add(Dropout(0.5))\n",
        "model_BoW.add(Dense(50, activation=\"relu\"))                         # Второй полносвязный слой\n",
        "model_BoW.add(BatchNormalization())\n",
        "model_BoW.add(Dropout(0.5))\n",
        "model_BoW.add(Dense(33, activation=\"relu\"))                         # Третий полносвязный слой\n",
        "model_BoW.add(BatchNormalization())                                 # Слой пакетной нормализации\n",
        "model_BoW.add(Dropout(0.1))                                         # Слой регуляризации Dropout\n",
        "model_BoW.add(Dense(y_train.shape[-1], activation='softmax'))             # Выходной полносвязный слой\n",
        "model_BoW.compile(optimizer='adam',loss='categorical_crossentropy',metrics=['accuracy'])"
      ],
      "execution_count": null,
      "outputs": []
    },
    {
      "cell_type": "code",
      "metadata": {
        "colab": {
          "base_uri": "https://localhost:8080/"
        },
        "id": "zriOvpdXlqQ3",
        "outputId": "352c988a-3800-4654-9a4a-0f5292ff8fc2"
      },
      "source": [
        "history = model_BoW.fit(x_train_01,y_train,epochs=20,batch_size=32,validation_data=(x_test_01, y_test))   # Проверочная выборка и метки классов проверочной выборки"
      ],
      "execution_count": null,
      "outputs": [
        {
          "output_type": "stream",
          "name": "stdout",
          "text": [
            "Epoch 1/20\n",
            "586/586 [==============================] - 12s 19ms/step - loss: 1.3815 - accuracy: 0.6166 - val_loss: 0.3793 - val_accuracy: 0.9344\n",
            "Epoch 2/20\n",
            "586/586 [==============================] - 11s 19ms/step - loss: 0.3685 - accuracy: 0.9018 - val_loss: 0.2377 - val_accuracy: 0.9392\n",
            "Epoch 3/20\n",
            "586/586 [==============================] - 11s 18ms/step - loss: 0.1934 - accuracy: 0.9473 - val_loss: 0.2357 - val_accuracy: 0.9523\n",
            "Epoch 4/20\n",
            "586/586 [==============================] - 11s 18ms/step - loss: 0.1485 - accuracy: 0.9569 - val_loss: 0.2414 - val_accuracy: 0.9523\n",
            "Epoch 5/20\n",
            "586/586 [==============================] - 11s 18ms/step - loss: 0.1207 - accuracy: 0.9642 - val_loss: 0.1969 - val_accuracy: 0.9535\n",
            "Epoch 6/20\n",
            "586/586 [==============================] - 11s 18ms/step - loss: 0.1079 - accuracy: 0.9670 - val_loss: 0.2390 - val_accuracy: 0.9511\n",
            "Epoch 7/20\n",
            "586/586 [==============================] - 11s 18ms/step - loss: 0.1003 - accuracy: 0.9684 - val_loss: 0.2739 - val_accuracy: 0.9511\n",
            "Epoch 8/20\n",
            "586/586 [==============================] - 11s 18ms/step - loss: 0.0931 - accuracy: 0.9722 - val_loss: 0.2789 - val_accuracy: 0.9464\n",
            "Epoch 9/20\n",
            "586/586 [==============================] - 11s 18ms/step - loss: 0.0796 - accuracy: 0.9743 - val_loss: 0.2823 - val_accuracy: 0.9523\n",
            "Epoch 10/20\n",
            "586/586 [==============================] - 11s 18ms/step - loss: 0.0774 - accuracy: 0.9749 - val_loss: 0.3084 - val_accuracy: 0.9535\n",
            "Epoch 11/20\n",
            "586/586 [==============================] - 11s 18ms/step - loss: 0.0752 - accuracy: 0.9753 - val_loss: 0.2065 - val_accuracy: 0.9595\n",
            "Epoch 12/20\n",
            "586/586 [==============================] - 11s 18ms/step - loss: 0.0696 - accuracy: 0.9770 - val_loss: 0.2798 - val_accuracy: 0.9571\n",
            "Epoch 13/20\n",
            "586/586 [==============================] - 11s 18ms/step - loss: 0.0661 - accuracy: 0.9802 - val_loss: 0.2598 - val_accuracy: 0.9571\n",
            "Epoch 14/20\n",
            "586/586 [==============================] - 11s 18ms/step - loss: 0.0661 - accuracy: 0.9789 - val_loss: 0.2819 - val_accuracy: 0.9571\n",
            "Epoch 15/20\n",
            "586/586 [==============================] - 11s 18ms/step - loss: 0.0611 - accuracy: 0.9797 - val_loss: 0.2699 - val_accuracy: 0.9583\n",
            "Epoch 16/20\n",
            "586/586 [==============================] - 11s 18ms/step - loss: 0.0574 - accuracy: 0.9809 - val_loss: 0.3222 - val_accuracy: 0.9464\n",
            "Epoch 17/20\n",
            "586/586 [==============================] - 11s 18ms/step - loss: 0.0556 - accuracy: 0.9817 - val_loss: 0.2608 - val_accuracy: 0.9607\n",
            "Epoch 18/20\n",
            "586/586 [==============================] - 11s 18ms/step - loss: 0.0521 - accuracy: 0.9836 - val_loss: 0.3232 - val_accuracy: 0.9559\n",
            "Epoch 19/20\n",
            "586/586 [==============================] - 11s 18ms/step - loss: 0.0532 - accuracy: 0.9825 - val_loss: 0.2777 - val_accuracy: 0.9595\n",
            "Epoch 20/20\n",
            "586/586 [==============================] - 11s 18ms/step - loss: 0.0543 - accuracy: 0.9820 - val_loss: 0.2922 - val_accuracy: 0.9547\n"
          ]
        }
      ]
    },
    {
      "cell_type": "markdown",
      "source": [
        "Полносвязная модель с эмбедингом"
      ],
      "metadata": {
        "id": "mqO6AAgRU6pf"
      }
    },
    {
      "cell_type": "code",
      "metadata": {
        "id": "FnAU8w4nQa-Q"
      },
      "source": [
        "model_text_emb_20 = Sequential()                                            # Создание последовательной модели нейросети\n",
        "model_text_emb_20.add(Embedding(VOCAB_SIZE, 20, input_length=x_train.shape[-1]))\n",
        "model_text_emb_20.add(SpatialDropout1D(0.2))\n",
        "model_text_emb_20.add(Flatten())\n",
        "model_text_emb_20.add(Dense(100, activation=\"relu\"))  # Первый полносвязный слой\n",
        "model_text_emb_20.add(BatchNormalization())\n",
        "model_text_emb_20.add(Dropout(0.5))\n",
        "model_text_emb_20.add(Dense(50, activation=\"relu\"))                         # Второй полносвязный слой\n",
        "model_text_emb_20.add(BatchNormalization())\n",
        "model_text_emb_20.add(Dropout(0.5))\n",
        "model_text_emb_20.add(Dense(33, activation=\"relu\"))                         # Третий полносвязный слой\n",
        "model_text_emb_20.add(BatchNormalization())                                 # Слой пакетной нормализации\n",
        "model_text_emb_20.add(Dropout(0.1))                                         # Слой регуляризации Dropout\n",
        "model_text_emb_20.add(Dense(y_train.shape[-1], activation='softmax'))             # Выходной полносвязный слой\n",
        "model_text_emb_20.compile(optimizer='adam',loss='categorical_crossentropy',metrics=['accuracy'])"
      ],
      "execution_count": null,
      "outputs": []
    },
    {
      "cell_type": "code",
      "metadata": {
        "colab": {
          "base_uri": "https://localhost:8080/"
        },
        "id": "fIRpxDM5QcBC",
        "outputId": "767921e0-26e5-4a28-a402-3e145d9233de"
      },
      "source": [
        "history = model_text_emb_20.fit(x_train,y_train,epochs=20,batch_size=32,validation_data=(x_test, y_test))   # Проверочная выборка и метки классов проверочной выборки"
      ],
      "execution_count": null,
      "outputs": [
        {
          "output_type": "stream",
          "name": "stdout",
          "text": [
            "Epoch 1/20\n",
            "625/625 [==============================] - 33s 50ms/step - loss: 2.9394 - accuracy: 0.1122 - val_loss: 2.3551 - val_accuracy: 0.2640\n",
            "Epoch 2/20\n",
            "625/625 [==============================] - 32s 50ms/step - loss: 1.9503 - accuracy: 0.3349 - val_loss: 1.7411 - val_accuracy: 0.3915\n",
            "Epoch 3/20\n",
            "625/625 [==============================] - 32s 51ms/step - loss: 1.2548 - accuracy: 0.5609 - val_loss: 1.2755 - val_accuracy: 0.5805\n",
            "Epoch 4/20\n",
            "625/625 [==============================] - 32s 51ms/step - loss: 0.8221 - accuracy: 0.7171 - val_loss: 0.9047 - val_accuracy: 0.7282\n",
            "Epoch 5/20\n",
            "625/625 [==============================] - 32s 51ms/step - loss: 0.5754 - accuracy: 0.8041 - val_loss: 0.7674 - val_accuracy: 0.7718\n",
            "Epoch 6/20\n",
            "625/625 [==============================] - 31s 50ms/step - loss: 0.4366 - accuracy: 0.8523 - val_loss: 1.0328 - val_accuracy: 0.7002\n",
            "Epoch 7/20\n",
            "625/625 [==============================] - 31s 50ms/step - loss: 0.3434 - accuracy: 0.8860 - val_loss: 0.9014 - val_accuracy: 0.7562\n",
            "Epoch 8/20\n",
            "625/625 [==============================] - 32s 51ms/step - loss: 0.2921 - accuracy: 0.9032 - val_loss: 1.0576 - val_accuracy: 0.7383\n",
            "Epoch 9/20\n",
            "625/625 [==============================] - 31s 50ms/step - loss: 0.2487 - accuracy: 0.9183 - val_loss: 0.6661 - val_accuracy: 0.8098\n",
            "Epoch 10/20\n",
            "625/625 [==============================] - 31s 50ms/step - loss: 0.2198 - accuracy: 0.9296 - val_loss: 0.6615 - val_accuracy: 0.8177\n",
            "Epoch 11/20\n",
            "625/625 [==============================] - 31s 50ms/step - loss: 0.1952 - accuracy: 0.9395 - val_loss: 0.6386 - val_accuracy: 0.8289\n",
            "Epoch 12/20\n",
            "625/625 [==============================] - 31s 50ms/step - loss: 0.1707 - accuracy: 0.9464 - val_loss: 0.7001 - val_accuracy: 0.8110\n",
            "Epoch 13/20\n",
            "625/625 [==============================] - 31s 50ms/step - loss: 0.1555 - accuracy: 0.9524 - val_loss: 0.7377 - val_accuracy: 0.8166\n",
            "Epoch 14/20\n",
            "625/625 [==============================] - 31s 50ms/step - loss: 0.1454 - accuracy: 0.9526 - val_loss: 0.7545 - val_accuracy: 0.8289\n",
            "Epoch 15/20\n",
            "625/625 [==============================] - 31s 50ms/step - loss: 0.1316 - accuracy: 0.9599 - val_loss: 0.6662 - val_accuracy: 0.8199\n",
            "Epoch 16/20\n",
            "625/625 [==============================] - 32s 50ms/step - loss: 0.1280 - accuracy: 0.9605 - val_loss: 0.7230 - val_accuracy: 0.8210\n",
            "Epoch 17/20\n",
            "625/625 [==============================] - 31s 50ms/step - loss: 0.1203 - accuracy: 0.9623 - val_loss: 0.7787 - val_accuracy: 0.8210\n",
            "Epoch 18/20\n",
            "625/625 [==============================] - 31s 50ms/step - loss: 0.1146 - accuracy: 0.9632 - val_loss: 0.7790 - val_accuracy: 0.8244\n",
            "Epoch 19/20\n",
            "625/625 [==============================] - 31s 50ms/step - loss: 0.1062 - accuracy: 0.9670 - val_loss: 0.8606 - val_accuracy: 0.8255\n",
            "Epoch 20/20\n",
            "625/625 [==============================] - 31s 50ms/step - loss: 0.1065 - accuracy: 0.9679 - val_loss: 0.8662 - val_accuracy: 0.8143\n"
          ]
        }
      ]
    },
    {
      "cell_type": "markdown",
      "source": [
        "Сверточная 2х слойная с эмбедингом"
      ],
      "metadata": {
        "id": "SDIxFqQWVEQX"
      }
    },
    {
      "cell_type": "code",
      "metadata": {
        "colab": {
          "base_uri": "https://localhost:8080/"
        },
        "id": "jOBhV5TLHAlg",
        "outputId": "98318958-1d1f-44be-de5d-3b1214db502a"
      },
      "source": [
        "model_LC_1 = Sequential()\n",
        "model_LC_1.add(Embedding(VOCAB_SIZE, 20, input_length=WIN_SIZE))\n",
        "#model_LC_3.add(SpatialDropout1D(0.2))\n",
        "# Сверточный слой\n",
        "model_LC_1.add(Conv1D(20, 5, activation='relu'))\n",
        "model_LC_1.add(Conv1D(40, 5, activation='relu'))\n",
        "# Слой регуляризации Dropout\n",
        "model_LC_1.add(Dropout(0.5))\n",
        "# Слой пакетной нормализации\n",
        "#model_LC_3.add(BatchNormalization())\n",
        "# Рекуррентный слой LSTM\n",
        "#model_LC_3.add(LSTM(4, return_sequences=1))\n",
        "#model_LC_1.add(Dense(33, activation=\"relu\")) \n",
        "#model_LC_3.add(Dropout(0.2))\n",
        "#model_LC_3.add(BatchNormalization())\n",
        "# Слой выравнивания/сглаживания (\"сплющивание\" данных в вектор)\n",
        "model_LC_1.add(Flatten())\n",
        "model_LC_1.add(Dense(CLASS_COUNT, activation='softmax'))\n",
        "model_LC_1.compile(optimizer='adam',loss='categorical_crossentropy',metrics=['accuracy'])\n",
        "\n",
        "history = model_LC_1.fit(x_train,y_train,epochs=10,batch_size=32,validation_data=(x_test, y_test))   # Проверочная выборка и метки классов проверочной выборки"
      ],
      "execution_count": null,
      "outputs": [
        {
          "output_type": "stream",
          "name": "stdout",
          "text": [
            "Epoch 1/10\n",
            "625/625 [==============================] - 110s 175ms/step - loss: 1.8296 - accuracy: 0.3808 - val_loss: 1.7688 - val_accuracy: 0.5179\n",
            "Epoch 2/10\n",
            "625/625 [==============================] - 111s 178ms/step - loss: 0.1688 - accuracy: 0.9439 - val_loss: 1.9487 - val_accuracy: 0.6040\n",
            "Epoch 3/10\n",
            "625/625 [==============================] - 109s 174ms/step - loss: 0.0218 - accuracy: 0.9937 - val_loss: 2.1167 - val_accuracy: 0.6051\n",
            "Epoch 4/10\n",
            "625/625 [==============================] - 109s 174ms/step - loss: 0.0253 - accuracy: 0.9912 - val_loss: 3.0602 - val_accuracy: 0.5626\n",
            "Epoch 5/10\n",
            "625/625 [==============================] - 109s 175ms/step - loss: 0.0302 - accuracy: 0.9894 - val_loss: 3.1902 - val_accuracy: 0.5481\n",
            "Epoch 6/10\n",
            "625/625 [==============================] - 110s 175ms/step - loss: 0.0213 - accuracy: 0.9926 - val_loss: 2.9495 - val_accuracy: 0.6119\n",
            "Epoch 7/10\n",
            "625/625 [==============================] - 109s 174ms/step - loss: 0.0114 - accuracy: 0.9961 - val_loss: 3.7930 - val_accuracy: 0.5951\n",
            "Epoch 8/10\n",
            "625/625 [==============================] - 109s 174ms/step - loss: 0.0310 - accuracy: 0.9895 - val_loss: 3.0603 - val_accuracy: 0.6040\n",
            "Epoch 9/10\n",
            "625/625 [==============================] - 109s 175ms/step - loss: 0.0190 - accuracy: 0.9937 - val_loss: 3.6120 - val_accuracy: 0.5749\n",
            "Epoch 10/10\n",
            "625/625 [==============================] - 109s 174ms/step - loss: 0.0173 - accuracy: 0.9942 - val_loss: 3.4113 - val_accuracy: 0.6264\n"
          ]
        }
      ]
    },
    {
      "cell_type": "markdown",
      "source": [
        "Сверточная 1 слойная с эмбедингом"
      ],
      "metadata": {
        "id": "Qnrkx3ASVPSI"
      }
    },
    {
      "cell_type": "code",
      "metadata": {
        "colab": {
          "base_uri": "https://localhost:8080/"
        },
        "id": "2eGRd3eBUpZD",
        "outputId": "d10afa0b-aff0-48a5-d761-d8e98847ee8c"
      },
      "source": [
        "model_LC_3 = Sequential()\n",
        "model_LC_3.add(Embedding(VOCAB_SIZE, 20, input_length=WIN_SIZE))\n",
        "model_LC_3.add(SpatialDropout1D(0.2))\n",
        "# Сверточный слой\n",
        "model_LC_3.add(Conv1D(20, 5, activation='relu'))\n",
        "# Слой подвыборки/пулинга с функцией максимума\n",
        "# model_LC_3.add(MaxPooling1D(2))\n",
        "# Слой регуляризации Dropout\n",
        "model_LC_3.add(Dropout(0.5))\n",
        "# Слой пакетной нормализации\n",
        "#model_LC_3.add(BatchNormalization())\n",
        "# Рекуррентный слой LSTM\n",
        "#model_LC_3.add(LSTM(4, return_sequences=1))\n",
        "#model_LC_3.add(Dense(33, activation=\"relu\")) \n",
        "#model_LC_3.add(Dropout(0.2))\n",
        "#model_LC_3.add(BatchNormalization())\n",
        "# Слой выравнивания/сглаживания (\"сплющивание\" данных в вектор)\n",
        "model_LC_3.add(Flatten())\n",
        "model_LC_3.add(Dense(CLASS_COUNT, activation='softmax'))\n",
        "model_LC_3.compile(optimizer='adam',loss='categorical_crossentropy',metrics=['accuracy'])\n",
        "\n",
        "history = model_LC_3.fit(x_train,y_train,epochs=10,batch_size=32,validation_data=(x_test, y_test))   # Проверочная выборка и метки классов проверочной выборки"
      ],
      "execution_count": null,
      "outputs": [
        {
          "output_type": "stream",
          "name": "stdout",
          "text": [
            "Epoch 1/10\n",
            "625/625 [==============================] - 114s 89ms/step - loss: 1.7755 - accuracy: 0.4171 - val_loss: 1.2609 - val_accuracy: 0.6253\n",
            "Epoch 2/10\n",
            "625/625 [==============================] - 56s 90ms/step - loss: 0.1312 - accuracy: 0.9621 - val_loss: 0.9852 - val_accuracy: 0.7349\n",
            "Epoch 3/10\n",
            "625/625 [==============================] - 56s 89ms/step - loss: 0.0312 - accuracy: 0.9930 - val_loss: 1.1501 - val_accuracy: 0.7662\n",
            "Epoch 4/10\n",
            "625/625 [==============================] - 56s 89ms/step - loss: 0.0192 - accuracy: 0.9941 - val_loss: 1.1700 - val_accuracy: 0.7651\n",
            "Epoch 5/10\n",
            "625/625 [==============================] - 56s 90ms/step - loss: 0.0208 - accuracy: 0.9932 - val_loss: 1.1828 - val_accuracy: 0.7550\n",
            "Epoch 6/10\n",
            "625/625 [==============================] - 56s 90ms/step - loss: 0.0222 - accuracy: 0.9930 - val_loss: 1.5242 - val_accuracy: 0.7148\n",
            "Epoch 7/10\n",
            "625/625 [==============================] - 56s 89ms/step - loss: 0.0193 - accuracy: 0.9930 - val_loss: 1.5864 - val_accuracy: 0.7248\n",
            "Epoch 8/10\n",
            "625/625 [==============================] - 56s 89ms/step - loss: 0.0112 - accuracy: 0.9959 - val_loss: 1.1988 - val_accuracy: 0.7763\n",
            "Epoch 9/10\n",
            "625/625 [==============================] - 56s 90ms/step - loss: 0.0233 - accuracy: 0.9916 - val_loss: 1.5446 - val_accuracy: 0.7617\n",
            "Epoch 10/10\n",
            "625/625 [==============================] - 56s 89ms/step - loss: 0.0156 - accuracy: 0.9948 - val_loss: 2.0715 - val_accuracy: 0.7226\n"
          ]
        }
      ]
    },
    {
      "cell_type": "markdown",
      "metadata": {
        "id": "SJE1f6VQRpw1"
      },
      "source": [
        "Обработка файла сочинения"
      ]
    },
    {
      "cell_type": "code",
      "metadata": {
        "id": "drlijSWvQZ1M"
      },
      "source": [
        "text_val_list=[]\n",
        "with codecs.open('writers25/rec_1d/refer/островский.txt', 'r','cp1251') as f:\n",
        "  text_val = f.read()\n",
        "  text_val = text.replace('\\n', ' ')\n",
        "  text_val_list.append(text_val)"
      ],
      "execution_count": null,
      "outputs": []
    },
    {
      "cell_type": "code",
      "metadata": {
        "colab": {
          "base_uri": "https://localhost:8080/"
        },
        "id": "x5diHDOhQwu0",
        "outputId": "bd5f25c4-9efe-497e-88d7-eb924573d60d"
      },
      "source": [
        "print(text_val[:10],type(text_val))"
      ],
      "execution_count": null,
      "outputs": [
        {
          "output_type": "stream",
          "name": "stdout",
          "text": [
            "ГОРЕ ОТ УМ <class 'str'>\n"
          ]
        }
      ]
    },
    {
      "cell_type": "code",
      "metadata": {
        "id": "y00m4SWvl1HD"
      },
      "source": [
        "seq_val = tokenizer.texts_to_sequences(text_val_list)"
      ],
      "execution_count": null,
      "outputs": []
    },
    {
      "cell_type": "code",
      "metadata": {
        "colab": {
          "base_uri": "https://localhost:8080/"
        },
        "id": "iR34Qopd1IRD",
        "outputId": "515dc8b6-7da1-4e2b-e879-fe7c45d83b34"
      },
      "source": [
        "print(np.shape(seq_val[0]),len(seq_val[0]),type(seq_val[0]),seq_val[0][:100])\n",
        "print(np.shape(seq_test[0]),len(seq_test[0]),type(seq_test[0]),seq_test[0][:100])"
      ],
      "execution_count": null,
      "outputs": [
        {
          "output_type": "stream",
          "name": "stdout",
          "text": [
            "(162402,) 162402 <class 'list'> [952, 26, 601, 2, 17584, 2, 1, 497, 17475, 1, 8490, 4, 1, 385, 2, 12305, 1363, 724, 14, 2, 533, 18559, 2, 699, 1940, 18289, 2008, 1, 1, 20, 52, 4, 468, 2, 377, 1444, 11510, 2, 1128, 1, 1078, 9438, 2, 1243, 2669, 17661, 1, 1, 2, 6857, 5067, 643, 1, 203, 1, 3, 1048, 371, 14, 8, 1, 1, 2, 1541, 1, 1, 1541, 1, 3031, 7302, 1, 2, 795, 1, 1, 1, 2, 444, 507, 2, 444, 1121, 2, 1, 2, 6708, 3, 138, 1, 7873, 2, 1448, 1137, 833, 1, 3, 48, 9266, 106, 1]\n",
            "(50655,) 50655 <class 'list'> [3, 1529, 97, 4599, 5, 625, 3, 38, 1, 129, 12406, 1, 97, 18, 1, 150, 6723, 10, 1, 8, 766, 22, 18373, 3, 239, 3496, 1, 5741, 2, 2, 16, 17, 5, 24, 631, 27, 367, 55, 40, 5817, 8, 52, 7768, 3, 1, 23, 15618, 1, 1, 1, 8, 1, 1, 14465, 12063, 31, 4417, 1, 1, 226, 3, 531, 1, 3077, 8850, 3, 78, 1, 15, 1915, 236, 5, 6870, 1, 17, 27, 1017, 1, 1116, 515, 21, 426, 6637, 39, 97, 1, 97, 1, 12884, 1, 199, 1590, 19, 1, 3, 10085, 21, 8070, 35, 19]\n"
          ]
        }
      ]
    },
    {
      "cell_type": "code",
      "metadata": {
        "colab": {
          "base_uri": "https://localhost:8080/"
        },
        "id": "WhQhEK1el1Kb",
        "outputId": "bbc3b59b-0613-4c11-c276-af176fcea5fc"
      },
      "source": [
        "x_val=[seq_val[0][i:i + WIN_SIZE] for i in range(0, len(seq_val[0]) - WIN_SIZE + 1, WIN_HOP)]\n",
        "#x_val=np.array(x_val)\n",
        "print(np.shape(x_val))"
      ],
      "execution_count": null,
      "outputs": [
        {
          "output_type": "stream",
          "name": "stdout",
          "text": [
            "(161, 2000)\n"
          ]
        }
      ]
    },
    {
      "cell_type": "code",
      "metadata": {
        "colab": {
          "base_uri": "https://localhost:8080/"
        },
        "id": "J88CRJuFZsHw",
        "outputId": "e51e0fdf-e928-43b0-965d-e6de071e96a1"
      },
      "source": [
        "print(x_val[0:3][:10])"
      ],
      "execution_count": null,
      "outputs": [
        {
          "output_type": "stream",
          "name": "stdout",
          "text": [
            "[[952, 26, 601, 2, 17584, 2, 1, 497, 17475, 1, 8490, 4, 1, 385, 2, 12305, 1363, 724, 14, 2, 533, 18559, 2, 699, 1940, 18289, 2008, 1, 1, 20, 52, 4, 468, 2, 377, 1444, 11510, 2, 1128, 1, 1078, 9438, 2, 1243, 2669, 17661, 1, 1, 2, 6857, 5067, 643, 1, 203, 1, 3, 1048, 371, 14, 8, 1, 1, 2, 1541, 1, 1, 1541, 1, 3031, 7302, 1, 2, 795, 1, 1, 1, 2, 444, 507, 2, 444, 1121, 2, 1, 2, 6708, 3, 138, 1, 7873, 2, 1448, 1137, 833, 1, 3, 48, 9266, 106, 1, 2, 1, 1, 2, 2786, 4, 827, 4, 468, 1, 2, 2786, 1, 1797, 5723, 1, 1, 4, 101, 942, 1, 3216, 228, 4, 3561, 1, 1, 1058, 7473, 8, 1, 143, 76, 1, 16303, 1, 504, 1597, 1, 8, 9136, 810, 253, 123, 1, 2, 533, 90, 14334, 6573, 8, 9136, 15047, 2, 1, 219, 12, 257, 260, 1, 2, 481, 1, 511, 10658, 2, 16134, 378, 1727, 315, 32, 315, 2, 5, 5778, 1, 5, 1, 70, 2379, 2, 55, 43, 36, 7, 1, 2, 92, 123, 146, 126, 2, 1, 15, 1, 2, 437, 2, 1484, 2596, 1363, 1393, 2, 10741, 7144, 875, 19, 260, 2, 29, 1, 699, 10249, 2, 2117, 3, 1246, 48, 5, 1614, 2, 11642, 26, 1506, 2, 51, 1655, 1, 2, 58, 69, 768, 11716, 2, 496, 1647, 20, 3776, 1, 2, 107, 15, 4189, 2, 32, 1, 810, 7, 8, 2, 221, 1, 119, 410, 2, 7870, 22, 4, 468, 12784, 2, 12305, 23, 124, 504, 2, 119, 410, 2, 7870, 9070, 1, 12227, 2, 1, 12305, 879, 25, 2, 3914, 2, 533, 1529, 26, 1506, 2, 219, 1, 1, 2, 3, 15570, 5, 1794, 735, 2, 51, 7, 35, 11363, 126, 1, 2, 1, 903, 180, 149, 88, 1, 2, 1, 48, 1046, 2, 4294, 6, 1643, 1, 1, 903, 4591, 3, 4244, 2, 1797, 5641, 533, 3, 1, 2, 7870, 219, 908, 2, 8919, 908, 32, 2, 1, 1, 3043, 2, 95, 6823, 1, 28, 6900, 2, 5, 155, 6085, 9, 7, 17, 19, 1393, 2, 13, 1, 5736, 13, 117, 7473, 2, 50, 1, 373, 27, 287, 969, 2, 7870, 49, 1482, 9, 368, 16822, 2, 8919, 43, 13, 13, 16822, 19, 318, 1, 2, 24, 465, 8, 1, 2, 1, 15, 101, 3, 1, 2, 1603, 1, 1, 2, 7870, 29, 1, 15, 853, 2383, 67, 145, 320, 2, 8919, 1, 11, 68, 262, 2, 1, 3, 5135, 6, 2164, 2, 7870, 1, 5858, 1, 346, 2, 1, 29, 2835, 2, 8919, 168, 2, 7870, 51, 75, 1296, 148, 42, 8, 318, 2, 8919, 480, 325, 2399, 2, 95, 2596, 1597, 2, 7870, 144, 1, 2, 8919, 144, 11, 260, 2, 7870, 260, 1682, 3303, 2, 8919, 3383, 17219, 215, 1, 2, 7870, 22, 18, 2785, 1754, 2782, 1, 2, 8919, 671, 442, 7, 94, 81, 16519, 5, 3138, 2, 3, 4, 1, 1, 26, 5, 6232, 2, 81, 2588, 49, 26, 8772, 2286, 2, 11, 30, 26, 1451, 886, 11378, 2, 7870, 7, 10885, 1, 2, 1741, 25, 443, 1, 990, 2, 8919, 113, 8310, 298, 903, 1, 2, 6, 190, 17690, 1, 1, 2, 1, 533, 12, 125, 3430, 2, 32, 4618, 8, 2, 1, 1, 81, 587, 2, 3072, 12, 18900, 2, 8, 601, 28, 1, 2, 7870, 990, 74, 5, 1652, 23, 93, 2, 8919, 113, 2, 7870, 640, 1846, 1, 67, 381, 29, 5, 1385, 2, 20, 5097, 967, 13690, 24, 1, 2, 253, 1535, 1, 253, 1, 2, 78, 15570, 2, 8919, 22, 28, 1, 2, 221, 1, 1484, 533, 2, 1, 1361, 2, 1, 2, 1, 460, 23, 504, 6, 3658, 2, 533, 206, 2, 760, 219, 26, 2906, 1, 2, 20, 104, 7248, 77, 6, 655, 410, 1, 2, 1, 82, 4580, 111, 1, 3, 1, 4129, 3, 1, 461, 2, 1797, 6270, 1, 533, 12305, 70, 1, 19, 101, 18289, 2, 9567, 7, 533, 6, 89, 1, 2, 1, 2, 7870, 194, 67, 4465, 582, 2, 47, 934, 1, 3, 198, 22, 297, 2, 9567, 219, 4, 294, 340, 18126, 2, 1, 4526, 2, 3, 476, 3, 4528, 12, 1, 569, 2, 7870, 1, 3986, 70, 293, 49, 7332, 2, 325, 600, 768, 2520, 9, 1, 2, 18644, 105, 96, 5, 663, 7, 1, 2, 51, 7, 25, 295, 29, 3353, 1846, 1, 1, 2, 7958, 224, 5, 6, 385, 2, 1649, 6, 903, 17516, 442, 4, 645, 2, 1, 527, 18, 2558, 222, 2, 11, 4, 468, 2249, 1, 1, 3, 1, 2, 9567, 10007, 487, 5, 1, 2, 7870, 5, 1, 875, 1423, 2, 11, 7, 4, 727, 19, 60, 194, 30, 3409, 2, 12305, 1, 2, 1938, 729, 123, 39, 1, 10729, 2, 7870, 238, 8, 318, 8, 1529, 3047, 160, 2, 1, 48, 18289, 4, 2020, 1, 8, 1, 2, 1797, 7082, 1, 12305, 533, 18289, 1, 2, 8919, 7, 19, 13310, 18289, 28, 335, 2, 14051, 9, 8, 2, 8919, 201, 25, 114, 3, 4, 99, 410, 2, 3, 2596, 2193, 2596, 7, 1, 24, 969, 2186, 11, 50, 116, 4901, 2, 3, 12, 60, 238, 5, 4, 2420, 197, 15178, 2, 9567, 10, 36, 7, 55, 501, 2, 14051, 144, 8, 6426, 2, 8919, 176, 193, 56, 50, 1, 2682, 7918, 1, 2, 11, 28, 2117, 253, 23, 972, 1, 2, 8, 10163, 8, 2998, 1, 50, 4619, 2, 202, 260, 2782, 1, 2, 3, 43, 8878, 26, 255, 2286, 2, 11, 22, 1, 1, 3, 15506, 5346, 2, 879, 12213, 15, 133, 3, 1, 3, 1, 2, 1, 1, 3, 13944, 2, 40, 1, 82, 1, 26, 1, 48, 1, 3, 1, 3, 1, 2, 3, 1, 3, 1, 15908, 2, 9567, 692, 768, 10532, 375, 2, 9, 26, 1, 1274, 1, 341, 2, 3934, 1, 29, 24, 4285, 2, 1, 9, 2, 8919, 1256, 2829, 2, 9, 257, 15, 96, 8631, 2, 9, 14617, 9, 1, 2, 1, 9, 2596, 1363, 17903, 102, 123, 1, 49, 6695, 1, 12, 352, 1, 2, 18, 4519, 18, 2263, 1, 2, 162, 1, 150, 164, 110, 47, 33, 2, 16, 1234, 56, 1549, 9, 5461, 121, 37, 1, 2, 12305, 361, 505, 2, 776, 768, 2, 8919, 43, 1, 30, 4140, 2, 7, 79, 2814, 156, 1, 2, 5, 8624, 9, 110, 218, 2, 92, 141, 6613, 56, 5, 1, 141, 1, 8, 1, 2, 337, 2382, 1598, 9, 1, 4, 2438, 1, 3971, 337, 2, 13960, 3869, 4, 1, 15, 91, 19223, 2, 11587, 62, 11735, 2924, 11994, 5879, 2, 229, 5, 15, 2126, 3889, 81, 2, 19, 7187, 4, 471, 4520, 1, 1, 59, 1756, 1, 2, 32, 5, 4, 1, 1198, 2, 5, 1761, 5751, 1, 2, 40, 4, 446, 2412, 417, 2, 1015, 28, 6, 33, 5, 1, 1, 2, 233, 1, 3, 17971, 3, 1, 47, 1, 2, 7911, 1, 77, 9, 347, 2, 1, 7145, 1, 2, 7870, 18963, 9, 1846, 1, 2, 8919, 1987, 2, 6260, 1449, 5, 336, 7, 2287, 2, 22, 1, 5, 18, 1, 83, 2, 11, 4580, 1391, 32, 346, 1, 2, 1, 133, 145, 7732, 2, 1, 25, 1, 3, 4, 331, 3, 18, 1, 2, 121, 583, 7627, 717, 3756, 717, 2, 3, 1, 3, 1, 3, 1, 3, 1, 2, 12, 117, 4, 940, 48, 1, 1, 2, 28, 12548, 7, 28, 114, 1846, 1, 15, 573, 2, 1, 1, 1, 3, 11092, 4, 313, 6419, 2, 578, 6474, 1, 3, 308, 4, 1, 2, 4, 1044, 1, 103, 313, 1, 2, 3, 921, 5, 9, 1, 35, 28, 4, 1, 2, 9567, 9, 3994, 804, 467, 5, 1, 2, 10, 4, 468, 114, 883, 5864, 9393, 2, 453, 4, 354, 1336, 4, 615, 2, 8919, 1336, 53, 205, 3409, 2, 32, 197, 29, 201, 193, 74, 1963, 2, 9567, 43, 4, 71, 233, 807, 190, 2, 12, 4035, 29, 8, 9408, 72, 114, 2, 1, 33, 600, 221, 958, 2, 3, 2175, 325, 9, 70, 111, 766, 2, 8919, 683, 6, 33, 202, 1, 1, 2, 5, 4, 2420, 221, 112, 6946, 126, 1, 2, 9567, 18, 1, 1315, 1, 1, 2, 146, 67, 967, 10662, 29, 127, 2, 8919, 7, 19, 1199, 2, 9567, 67, 1513, 2, 8919, 51, 32, 2, 3600, 2, 9567, 692, 709, 2383, 1, 1, 10895, 3, 9, 1, 1, 441, 13, 5, 9711, 8329, 2, 90, 812, 87, 97, 23, 280, 258, 1, 7354, 117, 1449, 4571, 2, 1, 1164, 73, 70, 324, 3, 1, 3, 5596, 2, 16, 1, 306, 75, 4, 8987, 1, 2, 8919, 219, 1264, 5, 1, 3339, 2, 75, 9852, 162, 91, 5, 3563, 2, 9567, 76, 5657, 22, 9148, 3, 1, 2, 42, 4, 3599, 393, 50, 1, 1, 1, 747, 3, 29, 1, 18206, 12, 707, 3, 9643, 9960, 2, 73, 8, 11439, 1, 1, 215, 13, 5, 170, 3, 5, 7624, 2, 82, 1, 3, 16521, 12913, 70, 324, 2, 10, 117, 30, 3815, 111, 1, 2, 328, 15, 211, 29, 1, 8, 270, 2, 82, 1, 7055, 5744, 3493, 4916, 1, 2, 10, 685, 1505, 2, 5475, 75, 13, 134, 2, 600, 221, 37, 7, 391, 24, 969, 2, 4738, 325, 3, 60, 2065, 6727, 2, 8919, 32, 1, 967, 12, 15182, 2, 73, 22, 66, 706, 49, 18390, 2, 3, 3189, 3, 461, 3, 1, 3, 1706, 2, 51, 1482, 112, 11, 28, 2, 14051, 9, 618, 221, 600, 2, 8919, 13252, 2, 1, 126, 221, 112, 3, 12, 77, 1, 164, 5736, 3, 111, 1, 47, 5314, 2, 6, 221, 112, 4087, 201, 25, 1065, 2, 14051, 8, 11083, 8, 2, 8919, 32, 48, 6993, 2, 2035, 7, 17, 90, 1, 1, 15, 12899, 4102, 2, 6573, 2, 1, 51, 1, 91, 3239, 9, 1040, 2, 1427, 1, 5855, 11, 8329, 1, 2, 8133, 28, 77, 3512, 2, 6, 378, 1, 560, 2, 1, 1656, 23, 447, 2, 63, 4372, 83, 297, 1, 2, 1295, 442, 1, 1, 107, 2, 1, 2, 2353, 1050, 6930, 2, 14051, 9, 36, 4622, 48, 50, 1, 2, 7, 4, 2149, 193, 4886, 79, 1, 79, 3737, 2, 1, 66, 3, 1979, 5, 1, 2, 8919, 990, 1846, 1, 9, 246, 10951, 2, 121, 1448, 5, 1, 48, 2, 576, 2334, 67, 213, 35, 3, 1, 2, 11, 20, 33, 7, 110, 7, 5, 110, 2, 7893, 112, 161, 2, 1, 24, 8, 4397, 7111, 2, 2211, 8, 1, 4, 2020, 1, 14, 356, 2, 1797, 8259, 12305, 533, 2, 7870, 51, 43, 20, 6811, 51, 43, 67, 3, 18716, 2, 233, 49, 55, 92, 5, 47, 2104, 2, 4, 446, 965, 3, 11974, 713, 2, 1491, 5, 1393, 15887, 1, 2, 9567, 7, 30, 15887, 75, 564, 24, 3, 19405, 2, 32, 768, 14077, 1, 2, 1, 1, 1, 2, 3027, 156, 11, 8, 255, 333, 2, 28, 1100, 1, 2, 7870, 1, 8, 5, 18, 1, 2, 1, 10, 60, 2232, 39, 70, 324, 2, 1, 11, 13, 3072, 238, 12, 1, 33, 1, 3, 111, 8, 1224, 7111, 2, 9567, 5167, 12, 817, 1, 2, 635, 696, 8, 675, 18858, 2, 40, 157, 11777, 1968, 6, 1288, 15761, 2, 1, 8728, 3, 80, 2057, 24, 5269, 2, 1281, 82, 117, 1, 2, 45, 8620, 45, 1, 2, 11, 952, 2099, 23, 19, 1891, 2, 7870, 43, 13, 13, 8, 405, 29, 18460, 1, 5, 1, 172, 2, 6206, 43, 1393, 2, 6, 7, 67, 4214, 1, 2, 13218, 9, 4, 454, 5, 88, 4, 165, 1, 45, 65, 3373, 7784, 2, 12, 22, 8669, 600, 768, 3027, 2, 1853, 35, 17719, 10, 8, 8053, 32, 8, 1, 2, 11, 106, 1, 5, 22, 15435, 140, 484, 2, 51, 670, 15, 248, 1, 3, 323, 121, 8947, 121, 155, 2567, 10, 11091, 2, 43, 506, 1128, 1, 2, 3, 2487, 2157, 3, 1, 4, 6532, 2, 9567, 148, 12, 7557, 3, 580, 30, 1, 1, 31, 1, 3, 8378, 2, 10, 179, 11640], [1363, 17903, 102, 123, 1, 49, 6695, 1, 12, 352, 1, 2, 18, 4519, 18, 2263, 1, 2, 162, 1, 150, 164, 110, 47, 33, 2, 16, 1234, 56, 1549, 9, 5461, 121, 37, 1, 2, 12305, 361, 505, 2, 776, 768, 2, 8919, 43, 1, 30, 4140, 2, 7, 79, 2814, 156, 1, 2, 5, 8624, 9, 110, 218, 2, 92, 141, 6613, 56, 5, 1, 141, 1, 8, 1, 2, 337, 2382, 1598, 9, 1, 4, 2438, 1, 3971, 337, 2, 13960, 3869, 4, 1, 15, 91, 19223, 2, 11587, 62, 11735, 2924, 11994, 5879, 2, 229, 5, 15, 2126, 3889, 81, 2, 19, 7187, 4, 471, 4520, 1, 1, 59, 1756, 1, 2, 32, 5, 4, 1, 1198, 2, 5, 1761, 5751, 1, 2, 40, 4, 446, 2412, 417, 2, 1015, 28, 6, 33, 5, 1, 1, 2, 233, 1, 3, 17971, 3, 1, 47, 1, 2, 7911, 1, 77, 9, 347, 2, 1, 7145, 1, 2, 7870, 18963, 9, 1846, 1, 2, 8919, 1987, 2, 6260, 1449, 5, 336, 7, 2287, 2, 22, 1, 5, 18, 1, 83, 2, 11, 4580, 1391, 32, 346, 1, 2, 1, 133, 145, 7732, 2, 1, 25, 1, 3, 4, 331, 3, 18, 1, 2, 121, 583, 7627, 717, 3756, 717, 2, 3, 1, 3, 1, 3, 1, 3, 1, 2, 12, 117, 4, 940, 48, 1, 1, 2, 28, 12548, 7, 28, 114, 1846, 1, 15, 573, 2, 1, 1, 1, 3, 11092, 4, 313, 6419, 2, 578, 6474, 1, 3, 308, 4, 1, 2, 4, 1044, 1, 103, 313, 1, 2, 3, 921, 5, 9, 1, 35, 28, 4, 1, 2, 9567, 9, 3994, 804, 467, 5, 1, 2, 10, 4, 468, 114, 883, 5864, 9393, 2, 453, 4, 354, 1336, 4, 615, 2, 8919, 1336, 53, 205, 3409, 2, 32, 197, 29, 201, 193, 74, 1963, 2, 9567, 43, 4, 71, 233, 807, 190, 2, 12, 4035, 29, 8, 9408, 72, 114, 2, 1, 33, 600, 221, 958, 2, 3, 2175, 325, 9, 70, 111, 766, 2, 8919, 683, 6, 33, 202, 1, 1, 2, 5, 4, 2420, 221, 112, 6946, 126, 1, 2, 9567, 18, 1, 1315, 1, 1, 2, 146, 67, 967, 10662, 29, 127, 2, 8919, 7, 19, 1199, 2, 9567, 67, 1513, 2, 8919, 51, 32, 2, 3600, 2, 9567, 692, 709, 2383, 1, 1, 10895, 3, 9, 1, 1, 441, 13, 5, 9711, 8329, 2, 90, 812, 87, 97, 23, 280, 258, 1, 7354, 117, 1449, 4571, 2, 1, 1164, 73, 70, 324, 3, 1, 3, 5596, 2, 16, 1, 306, 75, 4, 8987, 1, 2, 8919, 219, 1264, 5, 1, 3339, 2, 75, 9852, 162, 91, 5, 3563, 2, 9567, 76, 5657, 22, 9148, 3, 1, 2, 42, 4, 3599, 393, 50, 1, 1, 1, 747, 3, 29, 1, 18206, 12, 707, 3, 9643, 9960, 2, 73, 8, 11439, 1, 1, 215, 13, 5, 170, 3, 5, 7624, 2, 82, 1, 3, 16521, 12913, 70, 324, 2, 10, 117, 30, 3815, 111, 1, 2, 328, 15, 211, 29, 1, 8, 270, 2, 82, 1, 7055, 5744, 3493, 4916, 1, 2, 10, 685, 1505, 2, 5475, 75, 13, 134, 2, 600, 221, 37, 7, 391, 24, 969, 2, 4738, 325, 3, 60, 2065, 6727, 2, 8919, 32, 1, 967, 12, 15182, 2, 73, 22, 66, 706, 49, 18390, 2, 3, 3189, 3, 461, 3, 1, 3, 1706, 2, 51, 1482, 112, 11, 28, 2, 14051, 9, 618, 221, 600, 2, 8919, 13252, 2, 1, 126, 221, 112, 3, 12, 77, 1, 164, 5736, 3, 111, 1, 47, 5314, 2, 6, 221, 112, 4087, 201, 25, 1065, 2, 14051, 8, 11083, 8, 2, 8919, 32, 48, 6993, 2, 2035, 7, 17, 90, 1, 1, 15, 12899, 4102, 2, 6573, 2, 1, 51, 1, 91, 3239, 9, 1040, 2, 1427, 1, 5855, 11, 8329, 1, 2, 8133, 28, 77, 3512, 2, 6, 378, 1, 560, 2, 1, 1656, 23, 447, 2, 63, 4372, 83, 297, 1, 2, 1295, 442, 1, 1, 107, 2, 1, 2, 2353, 1050, 6930, 2, 14051, 9, 36, 4622, 48, 50, 1, 2, 7, 4, 2149, 193, 4886, 79, 1, 79, 3737, 2, 1, 66, 3, 1979, 5, 1, 2, 8919, 990, 1846, 1, 9, 246, 10951, 2, 121, 1448, 5, 1, 48, 2, 576, 2334, 67, 213, 35, 3, 1, 2, 11, 20, 33, 7, 110, 7, 5, 110, 2, 7893, 112, 161, 2, 1, 24, 8, 4397, 7111, 2, 2211, 8, 1, 4, 2020, 1, 14, 356, 2, 1797, 8259, 12305, 533, 2, 7870, 51, 43, 20, 6811, 51, 43, 67, 3, 18716, 2, 233, 49, 55, 92, 5, 47, 2104, 2, 4, 446, 965, 3, 11974, 713, 2, 1491, 5, 1393, 15887, 1, 2, 9567, 7, 30, 15887, 75, 564, 24, 3, 19405, 2, 32, 768, 14077, 1, 2, 1, 1, 1, 2, 3027, 156, 11, 8, 255, 333, 2, 28, 1100, 1, 2, 7870, 1, 8, 5, 18, 1, 2, 1, 10, 60, 2232, 39, 70, 324, 2, 1, 11, 13, 3072, 238, 12, 1, 33, 1, 3, 111, 8, 1224, 7111, 2, 9567, 5167, 12, 817, 1, 2, 635, 696, 8, 675, 18858, 2, 40, 157, 11777, 1968, 6, 1288, 15761, 2, 1, 8728, 3, 80, 2057, 24, 5269, 2, 1281, 82, 117, 1, 2, 45, 8620, 45, 1, 2, 11, 952, 2099, 23, 19, 1891, 2, 7870, 43, 13, 13, 8, 405, 29, 18460, 1, 5, 1, 172, 2, 6206, 43, 1393, 2, 6, 7, 67, 4214, 1, 2, 13218, 9, 4, 454, 5, 88, 4, 165, 1, 45, 65, 3373, 7784, 2, 12, 22, 8669, 600, 768, 3027, 2, 1853, 35, 17719, 10, 8, 8053, 32, 8, 1, 2, 11, 106, 1, 5, 22, 15435, 140, 484, 2, 51, 670, 15, 248, 1, 3, 323, 121, 8947, 121, 155, 2567, 10, 11091, 2, 43, 506, 1128, 1, 2, 3, 2487, 2157, 3, 1, 4, 6532, 2, 9567, 148, 12, 7557, 3, 580, 30, 1, 1, 31, 1, 3, 8378, 2, 10, 179, 11640, 5, 7179, 11476, 2, 30, 22, 463, 7, 19, 52, 7, 4, 610, 2, 7870, 32, 8, 24, 146, 1, 11, 886, 5, 1, 2, 16, 921, 4053, 921, 10, 11161, 2, 75, 24, 1, 3, 5555, 3, 1, 2, 12, 377, 3053, 11510, 2, 5, 50, 93, 121, 60, 1, 2, 222, 936, 5, 1, 2, 11, 7678, 2, 9567, 7, 7678, 10, 1, 1, 2414, 111, 2, 1, 1, 11556, 30, 13252, 2, 18920, 70, 8029, 125, 1021, 2, 7870, 3, 36, 117, 35, 1158, 1, 2, 9, 663, 1780, 10, 12, 8, 318, 1, 2, 7, 1482, 1, 17919, 442, 1946, 2, 11, 10, 4, 727, 2599, 533, 7636, 2, 480, 656, 7, 4449, 9, 17515, 2, 3, 237, 69, 58, 1, 2, 8454, 117, 241, 7, 365, 103, 167, 2, 9567, 1633, 1, 28, 1, 5, 3267, 2, 9, 61, 1, 58, 69, 12023, 2, 3, 149, 3, 1, 16, 63, 25, 12204, 2, 480, 121, 1, 1, 549, 2, 32, 8, 1, 303, 42, 1, 5668, 2, 5930, 197, 58, 123, 301, 1, 1, 1, 82, 18453, 16, 1, 10, 1, 92, 20, 82, 38, 247, 941, 2, 3, 1417, 14954, 342, 331, 2, 76, 107, 1, 1, 2, 1, 3, 1, 2, 1, 5596, 1, 2, 4, 1, 345, 1924, 2, 43, 141, 77, 12018, 10, 1207, 2, 3148, 1, 19903, 6, 52, 2, 219, 54, 609, 75, 258, 2, 201, 601, 1219, 3, 2881, 24, 1, 2, 7870, 63, 18865, 4, 716, 14172, 2, 1, 339, 6, 1, 10, 1, 2, 5, 26, 1715, 558, 26, 3224, 1, 2, 9567, 3, 465, 1924, 83, 63, 170, 1, 2, 258, 479, 9, 5, 3027, 2, 18289, 19, 389, 59, 2109, 728, 2, 3058, 12414, 156, 8738, 13335, 2, 260, 1682, 8, 776, 125, 24, 1, 2, 10969, 11, 6, 824, 222, 92, 1, 2, 12, 1176, 71, 4210, 2, 7870, 238, 5116, 2, 1, 2117, 313, 56, 17, 110, 2, 9567, 4107, 10, 160, 15, 2140, 18658, 2, 23, 5385, 525, 1, 2, 45, 179, 1, 3, 24, 305, 260, 2521, 2, 980, 8, 321, 3, 315, 8, 33, 5, 1, 2, 11409, 125, 56, 71, 5287, 1, 91, 9, 15, 1, 4247, 2, 7870, 30, 8, 875, 3365, 6, 1288, 55, 938, 2, 12, 358, 4425, 9918, 20, 101, 23, 1022, 2, 8050, 770, 1, 132, 10614, 5, 17659, 2, 3081, 629, 1, 3, 103, 167, 767, 1, 2, 3641, 8510, 2, 12305, 8, 1, 2, 43, 24, 25, 995, 30, 76, 1, 2, 7870, 1328, 439, 12, 238, 14813, 2, 770, 9, 121, 99, 1021, 1, 60, 138, 1, 4194, 2, 1797, 10212, 12305, 533, 2887, 19, 96, 11510, 2, 1, 15, 67, 377, 3053, 11510, 2, 2211, 2, 1797, 11442, 12305, 533, 11510, 2, 5458, 253, 476, 92, 6, 1561, 3, 9, 20, 1251, 766, 2, 8, 3473, 9100, 160, 2, 1, 51, 1, 25, 5, 2221, 755, 2, 7, 157, 568, 49, 4, 130, 30, 2006, 2, 1, 3, 36, 43, 8036, 2, 12, 117, 5, 936, 1239, 2, 12, 117, 35, 481, 1, 42, 7332, 49, 176, 911, 8121, 2, 45, 6, 1601, 454, 148, 12, 4426, 2, 3, 140, 109, 5, 1, 79, 525, 2, 9, 1079, 334, 487, 315, 5856, 5, 1, 2, 1262, 128, 1, 1, 523, 5006, 2, 3, 7197, 190, 3, 4169, 237, 84, 2, 3, 43, 19, 13587, 15762, 2, 9567, 219, 11510, 9, 67, 61, 2197, 2, 5458, 29, 568, 4, 1109, 410, 2, 233, 3085, 75, 157, 14170, 11265, 2, 30, 198, 24, 1, 186, 3, 632, 1, 2, 9, 36, 1, 102, 59, 2, 7870, 43, 1482, 54, 35, 29, 72, 19, 12020, 2, 81, 466, 49, 1384, 508, 2, 12, 1, 60, 42, 73, 2, 2117, 714, 346, 2, 9567, 156, 5, 36, 7, 55, 2, 5, 787, 30, 367, 29, 12128, 2, 75, 1, 1, 228, 2, 1, 9147, 1, 1, 2, 8, 3662, 9, 180, 921, 1, 2, 5, 1, 56, 63, 4, 14099, 60, 7321, 2, 5458, 1, 7, 24, 2, 1, 75, 1, 2348, 38, 6, 412, 2, 219, 445, 112, 1, 9, 114, 107, 2, 4, 827, 20, 60, 32, 12, 25, 60, 843, 2, 63, 80, 13, 63, 10842, 162, 1, 2, 40, 652, 4, 567, 1, 42, 8, 318, 1, 1, 73, 3, 83, 2, 1, 1, 3, 1, 18, 1, 3, 1, 2, 11, 73, 600, 768, 8, 1, 19, 1, 2, 42, 4, 5060, 8716, 3, 198, 7, 4, 118, 2, 29, 2019, 1, 7, 1, 5159, 228, 2, 9567, 1, 2, 5458, 32, 8, 11, 55, 2, 4, 1, 175, 29, 1, 19497, 2, 1, 3, 17, 67, 656, 2, 3, 98, 1, 5, 1649, 6, 476, 2, 5, 18863, 56, 29, 496, 30, 659, 727, 2, 79, 4557, 4618, 1, 2, 9567, 32, 180, 258, 1, 1095, 9620, 3, 13367, 538, 2, 5458, 2035, 5, 67, 573, 25, 7827, 2, 7, 1190, 10883, 30, 2474, 2, 481, 37, 3811, 11, 319, 88, 129, 2, 162, 1, 625, 11, 162, 578, 16113, 2, 22, 162, 25, 7644, 3, 309, 157, 1530, 4, 1, 2, 9567, 1, 6, 1044, 7, 235, 430, 476, 2, 63, 157, 177, 2, 5458, 63, 82, 49, 2, 51, 7, 600, 768, 22, 9499, 1, 9860, 5059, 4823, 47, 7906, 2, 600, 1406, 1, 56, 227, 1449, 2, 11, 99, 12, 14, 10, 4510, 53, 1, 2, 162, 1, 6, 10964, 1, 2, 5, 149, 12, 14, 1526, 2, 148, 45, 1, 73, 12, 73, 2, 4, 1, 3, 4, 1, 2, 11, 1365, 23, 1, 1, 2, 143, 8, 1, 1, 2, 4726, 1, 20, 104, 3, 8, 3875, 1, 1, 70, 419, 1, 1, 2, 11, 919, 6752, 342, 14331, 2, 6, 1693, 1685, 1791, 3, 1, 2, 331, 6778, 1, 4, 790, 7971, 2, 102, 1, 14, 12454, 1, 2, 6, 6881, 2019, 5642, 42, 1, 19, 19529, 4, 230, 23, 4237, 1, 2, 37, 1, 87, 3, 1, 1, 2, 14060], [5, 7179, 11476, 2, 30, 22, 463, 7, 19, 52, 7, 4, 610, 2, 7870, 32, 8, 24, 146, 1, 11, 886, 5, 1, 2, 16, 921, 4053, 921, 10, 11161, 2, 75, 24, 1, 3, 5555, 3, 1, 2, 12, 377, 3053, 11510, 2, 5, 50, 93, 121, 60, 1, 2, 222, 936, 5, 1, 2, 11, 7678, 2, 9567, 7, 7678, 10, 1, 1, 2414, 111, 2, 1, 1, 11556, 30, 13252, 2, 18920, 70, 8029, 125, 1021, 2, 7870, 3, 36, 117, 35, 1158, 1, 2, 9, 663, 1780, 10, 12, 8, 318, 1, 2, 7, 1482, 1, 17919, 442, 1946, 2, 11, 10, 4, 727, 2599, 533, 7636, 2, 480, 656, 7, 4449, 9, 17515, 2, 3, 237, 69, 58, 1, 2, 8454, 117, 241, 7, 365, 103, 167, 2, 9567, 1633, 1, 28, 1, 5, 3267, 2, 9, 61, 1, 58, 69, 12023, 2, 3, 149, 3, 1, 16, 63, 25, 12204, 2, 480, 121, 1, 1, 549, 2, 32, 8, 1, 303, 42, 1, 5668, 2, 5930, 197, 58, 123, 301, 1, 1, 1, 82, 18453, 16, 1, 10, 1, 92, 20, 82, 38, 247, 941, 2, 3, 1417, 14954, 342, 331, 2, 76, 107, 1, 1, 2, 1, 3, 1, 2, 1, 5596, 1, 2, 4, 1, 345, 1924, 2, 43, 141, 77, 12018, 10, 1207, 2, 3148, 1, 19903, 6, 52, 2, 219, 54, 609, 75, 258, 2, 201, 601, 1219, 3, 2881, 24, 1, 2, 7870, 63, 18865, 4, 716, 14172, 2, 1, 339, 6, 1, 10, 1, 2, 5, 26, 1715, 558, 26, 3224, 1, 2, 9567, 3, 465, 1924, 83, 63, 170, 1, 2, 258, 479, 9, 5, 3027, 2, 18289, 19, 389, 59, 2109, 728, 2, 3058, 12414, 156, 8738, 13335, 2, 260, 1682, 8, 776, 125, 24, 1, 2, 10969, 11, 6, 824, 222, 92, 1, 2, 12, 1176, 71, 4210, 2, 7870, 238, 5116, 2, 1, 2117, 313, 56, 17, 110, 2, 9567, 4107, 10, 160, 15, 2140, 18658, 2, 23, 5385, 525, 1, 2, 45, 179, 1, 3, 24, 305, 260, 2521, 2, 980, 8, 321, 3, 315, 8, 33, 5, 1, 2, 11409, 125, 56, 71, 5287, 1, 91, 9, 15, 1, 4247, 2, 7870, 30, 8, 875, 3365, 6, 1288, 55, 938, 2, 12, 358, 4425, 9918, 20, 101, 23, 1022, 2, 8050, 770, 1, 132, 10614, 5, 17659, 2, 3081, 629, 1, 3, 103, 167, 767, 1, 2, 3641, 8510, 2, 12305, 8, 1, 2, 43, 24, 25, 995, 30, 76, 1, 2, 7870, 1328, 439, 12, 238, 14813, 2, 770, 9, 121, 99, 1021, 1, 60, 138, 1, 4194, 2, 1797, 10212, 12305, 533, 2887, 19, 96, 11510, 2, 1, 15, 67, 377, 3053, 11510, 2, 2211, 2, 1797, 11442, 12305, 533, 11510, 2, 5458, 253, 476, 92, 6, 1561, 3, 9, 20, 1251, 766, 2, 8, 3473, 9100, 160, 2, 1, 51, 1, 25, 5, 2221, 755, 2, 7, 157, 568, 49, 4, 130, 30, 2006, 2, 1, 3, 36, 43, 8036, 2, 12, 117, 5, 936, 1239, 2, 12, 117, 35, 481, 1, 42, 7332, 49, 176, 911, 8121, 2, 45, 6, 1601, 454, 148, 12, 4426, 2, 3, 140, 109, 5, 1, 79, 525, 2, 9, 1079, 334, 487, 315, 5856, 5, 1, 2, 1262, 128, 1, 1, 523, 5006, 2, 3, 7197, 190, 3, 4169, 237, 84, 2, 3, 43, 19, 13587, 15762, 2, 9567, 219, 11510, 9, 67, 61, 2197, 2, 5458, 29, 568, 4, 1109, 410, 2, 233, 3085, 75, 157, 14170, 11265, 2, 30, 198, 24, 1, 186, 3, 632, 1, 2, 9, 36, 1, 102, 59, 2, 7870, 43, 1482, 54, 35, 29, 72, 19, 12020, 2, 81, 466, 49, 1384, 508, 2, 12, 1, 60, 42, 73, 2, 2117, 714, 346, 2, 9567, 156, 5, 36, 7, 55, 2, 5, 787, 30, 367, 29, 12128, 2, 75, 1, 1, 228, 2, 1, 9147, 1, 1, 2, 8, 3662, 9, 180, 921, 1, 2, 5, 1, 56, 63, 4, 14099, 60, 7321, 2, 5458, 1, 7, 24, 2, 1, 75, 1, 2348, 38, 6, 412, 2, 219, 445, 112, 1, 9, 114, 107, 2, 4, 827, 20, 60, 32, 12, 25, 60, 843, 2, 63, 80, 13, 63, 10842, 162, 1, 2, 40, 652, 4, 567, 1, 42, 8, 318, 1, 1, 73, 3, 83, 2, 1, 1, 3, 1, 18, 1, 3, 1, 2, 11, 73, 600, 768, 8, 1, 19, 1, 2, 42, 4, 5060, 8716, 3, 198, 7, 4, 118, 2, 29, 2019, 1, 7, 1, 5159, 228, 2, 9567, 1, 2, 5458, 32, 8, 11, 55, 2, 4, 1, 175, 29, 1, 19497, 2, 1, 3, 17, 67, 656, 2, 3, 98, 1, 5, 1649, 6, 476, 2, 5, 18863, 56, 29, 496, 30, 659, 727, 2, 79, 4557, 4618, 1, 2, 9567, 32, 180, 258, 1, 1095, 9620, 3, 13367, 538, 2, 5458, 2035, 5, 67, 573, 25, 7827, 2, 7, 1190, 10883, 30, 2474, 2, 481, 37, 3811, 11, 319, 88, 129, 2, 162, 1, 625, 11, 162, 578, 16113, 2, 22, 162, 25, 7644, 3, 309, 157, 1530, 4, 1, 2, 9567, 1, 6, 1044, 7, 235, 430, 476, 2, 63, 157, 177, 2, 5458, 63, 82, 49, 2, 51, 7, 600, 768, 22, 9499, 1, 9860, 5059, 4823, 47, 7906, 2, 600, 1406, 1, 56, 227, 1449, 2, 11, 99, 12, 14, 10, 4510, 53, 1, 2, 162, 1, 6, 10964, 1, 2, 5, 149, 12, 14, 1526, 2, 148, 45, 1, 73, 12, 73, 2, 4, 1, 3, 4, 1, 2, 11, 1365, 23, 1, 1, 2, 143, 8, 1, 1, 2, 4726, 1, 20, 104, 3, 8, 3875, 1, 1, 70, 419, 1, 1, 2, 11, 919, 6752, 342, 14331, 2, 6, 1693, 1685, 1791, 3, 1, 2, 331, 6778, 1, 4, 790, 7971, 2, 102, 1, 14, 12454, 1, 2, 6, 6881, 2019, 5642, 42, 1, 19, 19529, 4, 230, 23, 4237, 1, 2, 37, 1, 87, 3, 1, 1, 2, 14060, 2997, 17293, 1, 2, 11, 162, 1, 10278, 67, 1, 3058, 2, 4, 3405, 1, 119, 1, 3, 8, 2982, 3655, 1, 2, 121, 9674, 236, 5, 241, 3, 5, 4076, 2, 107, 1883, 48, 30, 6531, 9159, 2, 327, 8, 275, 19328, 3, 4, 2592, 5, 1, 17189, 2, 40, 157, 1, 1, 329, 2, 3, 1982, 5450, 133, 1, 3, 1, 1, 9567, 43, 60, 35, 8, 1, 1, 2, 121, 111, 1821, 1, 2, 5458, 11, 3365, 22, 9759, 1, 2, 22, 1, 18744, 1008, 2, 1, 3, 1, 6072, 331, 2, 219, 15, 1, 1, 2, 7, 825, 24, 25, 12, 1, 2, 1, 1, 13719, 3188, 2, 17639, 1, 18967, 1, 2, 5, 13, 74, 4, 6746, 1, 2, 4, 893, 57, 4010, 1, 2, 133, 1200, 5937, 1, 1, 3, 1, 1, 2, 342, 1, 2019, 16305, 14, 4279, 2, 1, 1, 22, 6871, 1, 12, 380, 1, 1, 15152, 2, 12, 8, 1, 333, 4147, 1796, 42, 2, 7, 133, 79, 3609, 49, 1, 2, 11, 1, 4425, 1, 1, 2, 10, 5, 5074, 39, 2, 9567, 6, 2592, 2, 5458, 1, 180, 6, 116, 85, 6785, 2, 1, 1, 506, 2, 9567, 1, 125, 56, 2, 5458, 7, 157, 10, 3, 10233, 2, 26, 82, 1, 8, 1, 58, 3, 4, 1, 2, 11, 1, 114, 825, 1947, 3343, 2, 6, 1, 6, 1847, 18, 12553, 1, 1, 39, 1, 10064, 2, 5720, 8, 1, 2, 9567, 10223, 10064, 2, 5458, 32, 351, 79, 86, 193, 157, 2, 7870, 16, 9750, 23, 104, 97, 1, 12, 600, 2, 5458, 18, 779, 603, 5, 1, 2, 43, 4872, 9, 1, 10171, 2, 1, 8, 318, 1, 3, 1, 11, 242, 49, 5262, 2, 7, 9, 1, 14324, 63, 10, 953, 2, 39, 56, 5, 1, 1, 5114, 2, 652, 1, 63, 1, 1, 2791, 1, 2988, 1, 2, 11, 278, 10, 10047, 47, 1, 7365, 2, 95, 825, 1665, 1, 2, 12305, 4, 302, 2, 5, 87, 4584, 2, 529, 3, 16512, 2, 328, 20, 60, 1233, 2, 2329, 56, 121, 29, 1946, 53, 4, 7045, 2, 1, 2232, 31, 2592, 85, 897, 2, 180, 5, 55, 11, 4, 3763, 69, 58, 2, 5458, 1, 40, 22, 2616, 24, 3, 2082, 3, 1, 2, 6, 7, 25, 24, 222, 43, 2940, 67, 110, 2, 1, 36, 7, 1, 3, 123, 3, 260, 18, 1, 13952, 2, 10332, 15, 67, 151, 18808, 2, 3, 12, 60, 6727, 4, 970, 13, 1, 1, 2, 43, 1408, 1, 17285, 2, 130, 1, 1, 2, 3, 22, 261, 9, 60, 79, 1309, 479, 2, 1, 1183, 2, 1934, 1, 179, 304, 22, 1, 2, 3, 1, 15, 1, 85, 1, 2, 16, 54, 24, 1288, 8, 2098, 5, 4, 1, 2, 9, 4, 1, 11560, 1, 84, 1, 76, 5018, 2, 13669, 157, 30, 4, 852, 823, 12, 6, 1442, 2, 9567, 32, 142, 1, 54, 157, 49, 2, 1797, 14728, 12305, 533, 11510, 1, 2, 8919, 43, 3, 150, 2, 9567, 219, 768, 967, 4, 160, 2, 2211, 2, 1, 81, 685, 1932, 2, 3419, 967, 2, 1797, 15561, 1, 11510, 1094, 6, 228, 4, 338, 12305, 721, 2, 8919, 51, 1, 28, 6069, 2, 167, 365, 5, 686, 351, 566, 2, 3, 15205, 90, 12, 8, 7896, 2, 1, 2, 1, 2251, 176, 2251, 335, 2251, 2, 8317, 558, 20, 89, 1, 1, 3194, 1, 2, 3073, 442, 1, 1571, 2, 14074, 2, 11510, 4009, 2, 12, 2596, 1363, 20, 60, 1, 2, 8919, 67, 1037, 2998, 561, 978, 394, 2, 12, 7074, 1, 3218, 2, 131, 7, 13, 11813, 11, 28, 2, 9, 558, 17999, 1, 1, 2, 5458, 219, 49, 17999, 9, 297, 1, 2, 8919, 967, 4, 160, 30, 21, 1, 1, 2, 43, 28, 12018, 2, 5458, 9, 5264, 2, 8919, 31, 2592, 81, 11559, 7, 191, 2, 5458, 9, 5, 1, 16487, 2, 8919, 5, 9357, 81, 22, 6488, 2, 5458, 9, 1587, 6523, 2322, 2, 1449, 5, 4257, 1, 1040, 2, 7, 287, 27, 81, 180, 138, 2945, 2, 8919, 10, 22, 210, 32, 5303, 4553, 2, 63, 37, 1, 616, 175, 2, 1, 55, 2, 5458, 1, 55, 30, 47, 93, 56, 2, 205, 1, 729, 476, 2, 3, 5, 1, 1, 13976, 2, 6573, 1310, 2, 1328, 9, 4087, 560, 430, 60, 2, 5, 1, 329, 1284, 103, 1, 1, 2696, 10018, 5, 5018, 2, 67, 1324, 29, 76, 16291, 2092, 2, 4, 2020, 2, 12, 1925, 2, 2211, 2, 1797, 16213, 1, 97, 2, 119, 25, 23, 351, 2, 219, 768, 967, 4, 160, 2, 3, 134, 30, 17, 1754, 2, 51, 831, 522, 157, 578, 9, 1, 2, 18289, 4035, 4, 1, 11092, 33, 2, 55, 32, 4, 1, 23, 1894, 2, 162, 6831, 99, 19436, 3369, 2, 1, 1, 1, 2, 7, 19, 1, 1, 2, 58, 1, 1391, 2105, 2, 2211, 2, 2786, 1, 1797, 5723, 1, 2887, 2, 8919, 6708, 1533, 28, 8, 1, 2, 8, 1, 7009, 17593, 442, 1, 2, 7429, 5, 24, 12, 1, 2, 11, 8, 1412, 8, 7428, 8, 10290, 2, 1613, 25, 6, 15261, 1, 6, 1, 2, 4939, 6675, 1239, 2, 15, 1, 13558, 4, 1, 65, 14516, 1, 9, 6, 1, 2, 1, 148, 12, 1, 14394, 476, 2, 1, 1288, 1, 2, 13, 1, 13, 1442, 2, 5025, 167, 546, 3, 4, 167, 767, 5, 1, 2, 1, 442, 4, 162, 25, 123, 49, 49, 2, 4, 8425, 9, 1, 6, 1, 2, 1273, 3714, 8700, 2161, 4, 1, 2, 7, 655, 102, 390, 25, 290, 8928, 2, 4, 162, 1, 63, 45, 2106, 45, 2577, 2, 16, 1467, 18, 77, 4402, 75, 1, 1, 1, 43, 2412, 2, 9472, 37, 7913, 1, 2, 8, 9610, 3, 2933, 2562, 1598, 5873, 2, 5286, 3, 6, 8870, 37, 5074, 2, 1, 679, 1, 2, 13036, 22, 31, 187, 1, 1, 2, 4339, 488, 701, 38, 2, 7, 19, 1, 4, 827, 1498, 3, 9195]]\n"
          ]
        }
      ]
    },
    {
      "cell_type": "code",
      "metadata": {
        "colab": {
          "base_uri": "https://localhost:8080/"
        },
        "id": "VBTvvUfQa5v_",
        "outputId": "2ae8dc08-eb1f-4932-f18e-4aa0eadf9d0f"
      },
      "source": [
        "print(x_val[0][:30])"
      ],
      "execution_count": null,
      "outputs": [
        {
          "output_type": "stream",
          "name": "stdout",
          "text": [
            "[952, 26, 601, 2, 17584, 2, 1, 497, 17475, 1, 8490, 4, 1, 385, 2, 12305, 1363, 724, 14, 2, 533, 18559, 2, 699, 1940, 18289, 2008, 1, 1, 20]\n"
          ]
        }
      ]
    },
    {
      "cell_type": "code",
      "metadata": {
        "id": "wCIpImArnG3w"
      },
      "source": [
        "Predict=model_LC_3.predict(x_val)"
      ],
      "execution_count": null,
      "outputs": []
    },
    {
      "cell_type": "code",
      "metadata": {
        "id": "G09kSFkaBYTe"
      },
      "source": [
        "PredictClass=np.argmax(Predict,axis=1)"
      ],
      "execution_count": null,
      "outputs": []
    },
    {
      "cell_type": "code",
      "metadata": {
        "colab": {
          "base_uri": "https://localhost:8080/"
        },
        "id": "I4Z8J_EznHBj",
        "outputId": "d9646865-fe2c-4f0c-f682-947100aedb0d"
      },
      "source": [
        "print(np.shape(Predict))"
      ],
      "execution_count": null,
      "outputs": [
        {
          "output_type": "stream",
          "name": "stdout",
          "text": [
            "(161, 20)\n"
          ]
        }
      ]
    },
    {
      "cell_type": "code",
      "metadata": {
        "colab": {
          "base_uri": "https://localhost:8080/"
        },
        "id": "lsTz_4WKC2Hw",
        "outputId": "1f94e418-3b08-4d83-eec1-ca94dbb68329"
      },
      "source": [
        "np.bincount(PredictClass)"
      ],
      "execution_count": null,
      "outputs": [
        {
          "output_type": "execute_result",
          "data": {
            "text/plain": [
              "array([  0,   0,   0,   0,   0,   0,   0,   0,   0,   0,   0,   0,   0,\n",
              "         0,   0,   0,   1,   0,   0, 160])"
            ]
          },
          "metadata": {},
          "execution_count": 131
        }
      ]
    },
    {
      "cell_type": "code",
      "metadata": {
        "colab": {
          "base_uri": "https://localhost:8080/"
        },
        "id": "tFx6ki4uAoUq",
        "outputId": "d5ff3dfc-e338-4ce5-cbc8-7fb2f30dad13"
      },
      "source": [
        "print([CLASS_LIST[i] for i in PredictClass])"
      ],
      "execution_count": null,
      "outputs": [
        {
          "output_type": "stream",
          "name": "stdout",
          "text": [
            "['Грибоедов', 'Грибоедов', 'Грибоедов', 'Грибоедов', 'Грибоедов', 'Грибоедов', 'Грибоедов', 'Грибоедов', 'Грибоедов', 'Грибоедов', 'Грибоедов', 'Грибоедов', 'Грибоедов', 'Грибоедов', 'Грибоедов', 'Грибоедов', 'Грибоедов', 'Грибоедов', 'Грибоедов', 'Грибоедов', 'Грибоедов', 'Грибоедов', 'Грибоедов', 'Грибоедов', 'Грибоедов', 'Грибоедов', 'Грибоедов', 'Грибоедов', 'Грибоедов', 'Грибоедов', 'Грибоедов', 'Грибоедов', 'Грибоедов', 'Грибоедов', 'Грибоедов', 'Грибоедов', 'Грибоедов', 'Грибоедов', 'Грибоедов', 'Грибоедов', 'Грибоедов', 'Грибоедов', 'Грибоедов', 'Грибоедов', 'Грибоедов', 'Грибоедов', 'Грибоедов', 'Грибоедов', 'Грибоедов', 'Грибоедов', 'Грибоедов', 'Грибоедов', 'Грибоедов', 'Грибоедов', 'Грибоедов', 'Грибоедов', 'Грибоедов', 'Грибоедов', 'Грибоедов', 'Грибоедов', 'Грибоедов', 'Грибоедов', 'Грибоедов', 'Грибоедов', 'Грибоедов', 'Грибоедов', 'Грибоедов', 'Грибоедов', 'Грибоедов', 'Грибоедов', 'Грибоедов', 'Грибоедов', 'Грибоедов', 'Грибоедов', 'Грибоедов', 'Грибоедов', 'Грибоедов', 'Грибоедов', 'Грибоедов', 'Грибоедов', 'Грибоедов', 'Грибоедов', 'Грибоедов', 'Грибоедов', 'Грибоедов', 'Грибоедов', 'Грибоедов', 'Грибоедов', 'Грибоедов', 'Грибоедов', 'Грибоедов', 'Грибоедов', 'Грибоедов', 'Грибоедов', 'Грибоедов', 'Грибоедов', 'Грибоедов', 'Грибоедов', 'Грибоедов', 'Грибоедов', 'Грибоедов', 'Грибоедов', 'Грибоедов', 'Грибоедов', 'Грибоедов', 'Грибоедов', 'Грибоедов', 'Грибоедов', 'Грибоедов', 'Грибоедов', 'Грибоедов', 'Грибоедов', 'Грибоедов', 'Грибоедов', 'Грибоедов', 'Грибоедов', 'Грибоедов', 'Грибоедов', 'Грибоедов', 'Грибоедов', 'Грибоедов', 'Грибоедов', 'Грибоедов', 'Грибоедов', 'Грибоедов', 'Грибоедов', 'Грибоедов', 'Грибоедов', 'Грибоедов', 'Грибоедов', 'Грибоедов', 'Грибоедов', 'Грибоедов', 'Грибоедов', 'Грибоедов', 'Грибоедов', 'Грибоедов', 'Грибоедов', 'Грибоедов', 'Грибоедов', 'Грибоедов', 'Грибоедов', 'Грибоедов', 'Грибоедов', 'Грибоедов', 'Грибоедов', 'Грибоедов', 'Грибоедов', 'Грибоедов', 'Грибоедов', 'Грибоедов', 'Грибоедов', 'Грибоедов', 'Грибоедов', 'Грибоедов', 'Грибоедов', 'Грибоедов', 'Грибоедов', 'Грибоедов', 'Куприн', 'Грибоедов']\n"
          ]
        }
      ]
    },
    {
      "cell_type": "code",
      "metadata": {
        "id": "X3bX-ZznFgJM"
      },
      "source": [
        "#160 кусков сочинения из 161 определяет как Грибоедов"
      ],
      "execution_count": null,
      "outputs": []
    },
    {
      "cell_type": "markdown",
      "source": [
        "Вывод по BOW классифицировать текст проще всего, т.к. писателя легко определить по набору используемых слов."
      ],
      "metadata": {
        "id": "pD-gJZLwVWao"
      }
    }
  ]
}