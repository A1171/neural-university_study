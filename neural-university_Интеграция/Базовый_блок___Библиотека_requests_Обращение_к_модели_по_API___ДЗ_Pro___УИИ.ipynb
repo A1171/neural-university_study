{
  "nbformat": 4,
  "nbformat_minor": 0,
  "metadata": {
    "colab": {
      "provenance": []
    },
    "kernelspec": {
      "name": "python3",
      "display_name": "Python 3"
    },
    "language_info": {
      "name": "python"
    }
  },
  "cells": [
    {
      "cell_type": "markdown",
      "source": [
        "Создание веб сервера с нейросетью с помощью FastAPI, на сервере Heroku"
      ],
      "metadata": {
        "id": "6X3xHb9DGgvJ"
      }
    },
    {
      "cell_type": "markdown",
      "metadata": {
        "id": "EWGNSR35G-DA"
      },
      "source": [
        " Создайте веб-сервис с помощью FastAPI, загрузите на него обученную модель Fashion MNIST и протестируйте ее.\n",
        "\n",
        "\n"
      ]
    },
    {
      "cell_type": "code",
      "metadata": {
        "id": "eGJLXs3jHjbQ",
        "colab": {
          "base_uri": "https://localhost:8080/"
        },
        "outputId": "2ae16aac-980f-4503-d95d-f7eb62585b3d"
      },
      "source": [
        "# загрузка всего датасет MNIST\n",
        "\n",
        "from tensorflow.keras.datasets import fashion_mnist      \n",
        "(x_train_org, y_train_org), (x_test_org, y_test_org) = fashion_mnist.load_data()               "
      ],
      "execution_count": null,
      "outputs": [
        {
          "output_type": "stream",
          "name": "stdout",
          "text": [
            "Downloading data from https://storage.googleapis.com/tensorflow/tf-keras-datasets/train-labels-idx1-ubyte.gz\n",
            "32768/29515 [=================================] - 0s 0us/step\n",
            "40960/29515 [=========================================] - 0s 0us/step\n",
            "Downloading data from https://storage.googleapis.com/tensorflow/tf-keras-datasets/train-images-idx3-ubyte.gz\n",
            "26427392/26421880 [==============================] - 0s 0us/step\n",
            "26435584/26421880 [==============================] - 0s 0us/step\n",
            "Downloading data from https://storage.googleapis.com/tensorflow/tf-keras-datasets/t10k-labels-idx1-ubyte.gz\n",
            "16384/5148 [===============================================================================================] - 0s 0us/step\n",
            "Downloading data from https://storage.googleapis.com/tensorflow/tf-keras-datasets/t10k-images-idx3-ubyte.gz\n",
            "4423680/4422102 [==============================] - 0s 0us/step\n",
            "4431872/4422102 [==============================] - 0s 0us/step\n"
          ]
        }
      ]
    },
    {
      "cell_type": "code",
      "metadata": {
        "id": "h2hDB6bs0EpM"
      },
      "source": [
        "# подготовка набора экземпляров класса\n",
        "\n",
        "x_train = x_train_org.reshape(x_train_org.shape[0], -1)   \n",
        "x_test = x_test_org.reshape(x_test_org.shape[0], -1)   \n",
        "\n",
        "x_train = x_train.astype('float32') / 255.\n",
        "x_test  = x_test.astype('float32') / 255."
      ],
      "execution_count": null,
      "outputs": []
    },
    {
      "cell_type": "code",
      "metadata": {
        "id": "XqisNux80LYs"
      },
      "source": [
        "# подготовка набора меток класса\n",
        "\n",
        "from tensorflow.keras import utils              \n",
        "y_train = utils.to_categorical(y_train_org, 10)\n",
        "y_test = utils.to_categorical(y_test_org, 10)"
      ],
      "execution_count": null,
      "outputs": []
    },
    {
      "cell_type": "code",
      "metadata": {
        "colab": {
          "base_uri": "https://localhost:8080/"
        },
        "id": "LGoBZHu10PIM",
        "outputId": "124de60d-f082-4c63-bed3-b9e65d989ae9"
      },
      "source": [
        "# проверка размерностей\n",
        "\n",
        "print(x_train.shape)\n",
        "print(y_train.shape)  "
      ],
      "execution_count": null,
      "outputs": [
        {
          "output_type": "stream",
          "name": "stdout",
          "text": [
            "(60000, 784)\n",
            "(60000, 10)\n"
          ]
        }
      ]
    },
    {
      "cell_type": "code",
      "metadata": {
        "id": "ZwW5rllc757D"
      },
      "source": [
        "# Ваше решение"
      ],
      "execution_count": null,
      "outputs": []
    },
    {
      "cell_type": "code",
      "source": [
        "# Сеть прямого распространения\n",
        "from tensorflow.keras.models import Sequential \n",
        "\n",
        "# Базовые слои для счёрточных сетей\n",
        "from tensorflow.keras.layers import Dense, Conv2D, MaxPooling2D, Flatten, Dropout, BatchNormalization\n",
        "\n",
        "# оптимизаторы\n",
        "from tensorflow.keras.optimizers import Adam, Adadelta \n",
        "\n",
        "# Используем для to_categorical\n",
        "from tensorflow.keras import utils \n",
        "\n",
        "# Для отрисовки изображений\n",
        "from tensorflow.keras.preprocessing import image \n",
        "\n",
        "# Для загрузки своей картинки\n",
        "from google.colab import files \n",
        "\n",
        "# Библиотека работы с массивами\n",
        "import numpy as np \n",
        "\n",
        "# Для отрисовки графиков\n",
        "import matplotlib.pyplot as plt \n",
        "\n",
        "# Для отрисовки изображений\n",
        "from PIL import Image \n",
        "\n",
        "# Для генерации случайных чисел \n",
        "import random \n",
        "\n",
        "# Для округления\n",
        "import math \n",
        "\n",
        "#Для работы с файлами \n",
        "import os \n",
        "\n",
        "# подключем диск\n",
        "#from google.colab import drive\n",
        "\n",
        "%matplotlib inline"
      ],
      "metadata": {
        "id": "Zkfl2LMU4XF8"
      },
      "execution_count": null,
      "outputs": []
    },
    {
      "cell_type": "code",
      "source": [
        "# Выводим для примера картинки по каждому классу\n",
        "\n",
        "fig, axs = plt.subplots(1, 10, figsize=(25, 3)) # Создаем полотно из 10 графиков\n",
        "\n",
        "for i in range(10): # Проходим по классам от 0 до 9\n",
        "  label_indexes = np.where(y_train_org==i)[0] # Получаем список из индексов положений класса i в y_train\n",
        "  index = random.choice(label_indexes) # Случайным образом выбираем из списка индекс\n",
        "  img = x_train_org[index] # Выбираем из x_train нужное изображение\n",
        "  axs[i].imshow(Image.fromarray(img), cmap='gray') #Отображаем изображение i-ым графиков\n",
        "\n",
        "plt.show() # Показываем изображения"
      ],
      "metadata": {
        "colab": {
          "base_uri": "https://localhost:8080/",
          "height": 168
        },
        "id": "lXahazNk1GjD",
        "outputId": "d4924c87-8b52-4aff-9bb2-7fc8a7cf6c4b"
      },
      "execution_count": null,
      "outputs": [
        {
          "output_type": "display_data",
          "data": {
            "image/png": "[encoded data removed]",
            "text/plain": [
              "<Figure size 1800x216 with 10 Axes>"
            ]
          },
          "metadata": {
            "needs_background": "light"
          }
        }
      ]
    },
    {
      "cell_type": "code",
      "source": [
        "# задаём batch_size\n",
        "batch_size = 128 \n",
        "\n",
        "# Создаем последовательную модель\n",
        "\n",
        "model = Sequential()\n",
        "\n",
        "#model.add(BatchNormalization(input_shape=x_train.shape[1:])) # Слой пакетной нормализации\n",
        "model.add(Dense(100, activation='relu',input_shape=x_train.shape[1:])) # Первый сверточный слой\n",
        "model.add(Dropout(0.5)) # Слой регуляризации Dropout\n",
        "model.add(Dense(500, activation='relu')) # Второй сверточный слой\n",
        "model.add(Dropout(0.5)) # Слой регуляризации Dropout\n",
        "model.add(Dense(100, activation='relu')) # Второй сверточный слой\n",
        "model.add(Dropout(0.25)) # Слой регуляризации Dropout\n",
        "model.add(Dense(10, activation='softmax')) # Выходной полносвязный слой\n",
        "\n",
        "# Компилируем сеть\n",
        "model.compile(loss=\"categorical_crossentropy\", optimizer=\"adam\", metrics=[\"accuracy\"])"
      ],
      "metadata": {
        "id": "7JPrxjkJ1GmW"
      },
      "execution_count": null,
      "outputs": []
    },
    {
      "cell_type": "code",
      "source": [
        "# Обучаем сеть на данных mnist\n",
        "\n",
        "history = model.fit(x_train, \n",
        "                    y_train, \n",
        "                    batch_size=batch_size, \n",
        "                    epochs=30,\n",
        "                    validation_data=(x_test, y_test),\n",
        "                    verbose=1)\n",
        "\n",
        "# Отображаем график точности обучения\n",
        "\n",
        "plt.plot(history.history['accuracy'], \n",
        "         label='Доля верных ответов на обучающем наборе')\n",
        "plt.plot(history.history['val_accuracy'], \n",
        "         label='Доля верных ответов на проверочном наборе')\n",
        "plt.xlabel('Эпоха обучения')\n",
        "plt.ylabel('Доля верных ответов')\n",
        "plt.legend()\n",
        "plt.show()"
      ],
      "metadata": {
        "id": "JPAC38IO1oRf",
        "colab": {
          "base_uri": "https://localhost:8080/",
          "height": 1000
        },
        "outputId": "a4230c11-dab4-4c2e-a01d-77495180956b"
      },
      "execution_count": null,
      "outputs": [
        {
          "output_type": "stream",
          "name": "stdout",
          "text": [
            "Epoch 1/30\n",
            "469/469 [==============================] - 5s 11ms/step - loss: 0.3684 - accuracy: 0.8665 - val_loss: 0.3670 - val_accuracy: 0.8735\n",
            "Epoch 2/30\n",
            "469/469 [==============================] - 4s 9ms/step - loss: 0.3677 - accuracy: 0.8661 - val_loss: 0.3561 - val_accuracy: 0.8726\n",
            "Epoch 3/30\n",
            "469/469 [==============================] - 5s 10ms/step - loss: 0.3657 - accuracy: 0.8666 - val_loss: 0.3593 - val_accuracy: 0.8720\n",
            "Epoch 4/30\n",
            "469/469 [==============================] - 5s 12ms/step - loss: 0.3648 - accuracy: 0.8677 - val_loss: 0.3620 - val_accuracy: 0.8722\n",
            "Epoch 5/30\n",
            "469/469 [==============================] - 4s 9ms/step - loss: 0.3614 - accuracy: 0.8691 - val_loss: 0.3606 - val_accuracy: 0.8759\n",
            "Epoch 6/30\n",
            "469/469 [==============================] - 4s 9ms/step - loss: 0.3581 - accuracy: 0.8686 - val_loss: 0.3601 - val_accuracy: 0.8731\n",
            "Epoch 7/30\n",
            "469/469 [==============================] - 4s 8ms/step - loss: 0.3589 - accuracy: 0.8698 - val_loss: 0.3563 - val_accuracy: 0.8762\n",
            "Epoch 8/30\n",
            "469/469 [==============================] - 4s 9ms/step - loss: 0.3550 - accuracy: 0.8704 - val_loss: 0.3611 - val_accuracy: 0.8729\n",
            "Epoch 9/30\n",
            "469/469 [==============================] - 4s 9ms/step - loss: 0.3621 - accuracy: 0.8691 - val_loss: 0.3511 - val_accuracy: 0.8754\n",
            "Epoch 10/30\n",
            "469/469 [==============================] - 4s 9ms/step - loss: 0.3550 - accuracy: 0.8703 - val_loss: 0.3477 - val_accuracy: 0.8766\n",
            "Epoch 11/30\n",
            "469/469 [==============================] - 4s 9ms/step - loss: 0.3510 - accuracy: 0.8721 - val_loss: 0.3574 - val_accuracy: 0.8751\n",
            "Epoch 12/30\n",
            "469/469 [==============================] - 6s 12ms/step - loss: 0.3511 - accuracy: 0.8724 - val_loss: 0.3529 - val_accuracy: 0.8765\n",
            "Epoch 13/30\n",
            "469/469 [==============================] - 6s 14ms/step - loss: 0.3496 - accuracy: 0.8728 - val_loss: 0.3555 - val_accuracy: 0.8746\n",
            "Epoch 14/30\n",
            "469/469 [==============================] - 7s 14ms/step - loss: 0.3491 - accuracy: 0.8734 - val_loss: 0.3503 - val_accuracy: 0.8796\n",
            "Epoch 15/30\n",
            "469/469 [==============================] - 6s 13ms/step - loss: 0.3485 - accuracy: 0.8726 - val_loss: 0.3521 - val_accuracy: 0.8793\n",
            "Epoch 16/30\n",
            "469/469 [==============================] - 6s 12ms/step - loss: 0.3443 - accuracy: 0.8742 - val_loss: 0.3482 - val_accuracy: 0.8804\n",
            "Epoch 17/30\n",
            "469/469 [==============================] - 5s 12ms/step - loss: 0.3435 - accuracy: 0.8753 - val_loss: 0.3507 - val_accuracy: 0.8774\n",
            "Epoch 18/30\n",
            "469/469 [==============================] - 5s 12ms/step - loss: 0.3439 - accuracy: 0.8747 - val_loss: 0.3528 - val_accuracy: 0.8737\n",
            "Epoch 19/30\n",
            "469/469 [==============================] - 5s 11ms/step - loss: 0.3458 - accuracy: 0.8746 - val_loss: 0.3514 - val_accuracy: 0.8766\n",
            "Epoch 20/30\n",
            "469/469 [==============================] - 6s 14ms/step - loss: 0.3437 - accuracy: 0.8738 - val_loss: 0.3554 - val_accuracy: 0.8733\n",
            "Epoch 21/30\n",
            "469/469 [==============================] - 6s 12ms/step - loss: 0.3420 - accuracy: 0.8754 - val_loss: 0.3612 - val_accuracy: 0.8774\n",
            "Epoch 22/30\n",
            "469/469 [==============================] - 6s 13ms/step - loss: 0.3402 - accuracy: 0.8753 - val_loss: 0.3502 - val_accuracy: 0.8784\n",
            "Epoch 23/30\n",
            "469/469 [==============================] - 6s 12ms/step - loss: 0.3381 - accuracy: 0.8762 - val_loss: 0.3548 - val_accuracy: 0.8761\n",
            "Epoch 24/30\n",
            "469/469 [==============================] - 5s 11ms/step - loss: 0.3417 - accuracy: 0.8747 - val_loss: 0.3459 - val_accuracy: 0.8778\n",
            "Epoch 25/30\n",
            "469/469 [==============================] - 5s 11ms/step - loss: 0.3350 - accuracy: 0.8767 - val_loss: 0.3454 - val_accuracy: 0.8776\n",
            "Epoch 26/30\n",
            "469/469 [==============================] - 6s 12ms/step - loss: 0.3353 - accuracy: 0.8776 - val_loss: 0.3401 - val_accuracy: 0.8798\n",
            "Epoch 27/30\n",
            "469/469 [==============================] - 4s 10ms/step - loss: 0.3337 - accuracy: 0.8788 - val_loss: 0.3606 - val_accuracy: 0.8763\n",
            "Epoch 28/30\n",
            "469/469 [==============================] - 4s 9ms/step - loss: 0.3322 - accuracy: 0.8794 - val_loss: 0.3541 - val_accuracy: 0.8748\n",
            "Epoch 29/30\n",
            "469/469 [==============================] - 4s 9ms/step - loss: 0.3347 - accuracy: 0.8784 - val_loss: 0.3480 - val_accuracy: 0.8751\n",
            "Epoch 30/30\n",
            "469/469 [==============================] - 4s 9ms/step - loss: 0.3335 - accuracy: 0.8778 - val_loss: 0.3480 - val_accuracy: 0.8793\n"
          ]
        },
        {
          "output_type": "display_data",
          "data": {
            "image/png": "[encoded data removed]",
            "text/plain": [
              "<Figure size 432x288 with 1 Axes>"
            ]
          },
          "metadata": {
            "needs_background": "light"
          }
        }
      ]
    },
    {
      "cell_type": "code",
      "source": [
        "model.save('model_minst_f.h5')"
      ],
      "metadata": {
        "id": "idAlCiyQ_SVP"
      },
      "execution_count": null,
      "outputs": []
    },
    {
      "cell_type": "code",
      "source": [
        "def process(image_file):\n",
        "    #image = Image.open(image_file)  # Открытие обрабатываемого файла\n",
        "    resized_image = image_file#image.resize((28, 28))          # Изменение размера изображения в соответствии со входом сети\n",
        "    array = np.array(resized_image)#[..., 0][np.newaxis, ...]   # Регулировка формы тензора для подачи в сеть\n",
        "    prediction = np.argmax(model.predict(array.reshape(1,28*28)))             # Запуск предсказания сети\n",
        "    return prediction"
      ],
      "metadata": {
        "id": "OKKqoIOo14E4"
      },
      "execution_count": null,
      "outputs": []
    },
    {
      "cell_type": "code",
      "source": [
        "text_labels=['T-Shirt','shorts','sweater','dress','raincoat','sandals','shirt','sneakers','bag','boots']"
      ],
      "metadata": {
        "id": "BQaGeMny-S3J"
      },
      "execution_count": null,
      "outputs": []
    },
    {
      "cell_type": "code",
      "source": [
        "print(text_labels[process(x_train_org[0])])"
      ],
      "metadata": {
        "id": "mn-kJvxN14UT",
        "colab": {
          "base_uri": "https://localhost:8080/"
        },
        "outputId": "2b377679-e0d5-4357-f127-a902e6618ec7"
      },
      "execution_count": null,
      "outputs": [
        {
          "output_type": "stream",
          "name": "stdout",
          "text": [
            "boots\n"
          ]
        }
      ]
    },
    {
      "cell_type": "code",
      "source": [
        "plt.imshow(x_train_org[0],cmap='gray')\n",
        "plt.show()"
      ],
      "metadata": {
        "colab": {
          "base_uri": "https://localhost:8080/",
          "height": 265
        },
        "id": "gcEUX6eR1oT_",
        "outputId": "a5b5668c-39b7-409c-8637-5ec03d5284e3"
      },
      "execution_count": null,
      "outputs": [
        {
          "output_type": "display_data",
          "data": {
            "image/png": "[encoded data removed]",
            "text/plain": [
              "<Figure size 432x288 with 1 Axes>"
            ]
          },
          "metadata": {
            "needs_background": "light"
          }
        }
      ]
    },
    {
      "cell_type": "code",
      "metadata": {
        "id": "sy0YcMMsCko9"
      },
      "source": [
        "predict_file = '''\n",
        "\n",
        "from tensorflow.keras.models import load_model\n",
        "import numpy as np\n",
        "from io import BytesIO\n",
        "from PIL import Image \n",
        "\n",
        "INPUT_SHAPE = (28, 28, 1)\n",
        "\n",
        "model = load_model('model_minst_f.h5')  # Инициализация модели\n",
        "text_labels=['T-Shirt','shorts','sweater','dress','raincoat','sandals','shirt','sneakers','bag','boots']\n",
        "\n",
        "def process(image_file):\n",
        "    \n",
        "    image = Image.open(BytesIO(image_file))  # Открытие обрабатываемого файла\n",
        "    resized_image = image.resize((28, 28))          # Изменение размера изображения в соответствии со входом сети\n",
        "    array = np.array(resized_image)\n",
        "    print(array.shape)\n",
        "    prediction = np.argmax(model.predict(array.reshape(1,28*28)))             # Запуск предсказания сети\n",
        "    return text_labels[prediction]\n",
        "\n",
        "'''\n",
        "\n",
        "# Сохранение кода в файл\n",
        "with open('predict.py', 'w') as file:\n",
        "    file.write(predict_file)"
      ],
      "execution_count": null,
      "outputs": []
    },
    {
      "cell_type": "code",
      "metadata": {
        "id": "FlsYv96OM9vo"
      },
      "source": [
        "main_file = '''from fastapi import FastAPI, File\n",
        "from predict import process\n",
        "\n",
        "app = FastAPI()\n",
        "\n",
        "\n",
        "@app.post(\"/predict\")\n",
        "async def create_file(file: bytes = File(...)):\n",
        "    return {\"result\": process(file)}\n",
        "'''\n",
        "\n",
        "with open('main.py', 'w') as file:\n",
        "    file.write(main_file)"
      ],
      "execution_count": null,
      "outputs": []
    },
    {
      "cell_type": "code",
      "metadata": {
        "id": "z5A1I3l1aHtC"
      },
      "source": [
        "proc_file = 'web: uvicorn main:app --host=0.0.0.0 --port=${PORT:-5000}'\n",
        "\n",
        "with open('Procfile', 'w') as file:\n",
        "    file.write(proc_file)"
      ],
      "execution_count": null,
      "outputs": []
    },
    {
      "cell_type": "code",
      "metadata": {
        "id": "ZgxXWs_QbY8y"
      },
      "source": [
        "requirements_file = '''\n",
        "\n",
        "fastapi==0.68.1\n",
        "tensorflow-cpu==2.5.0\n",
        "uvicorn==0.15.0\n",
        "Pillow==7.1.2\n",
        "python-multipart==0.0.5\n",
        "\n",
        "'''\n",
        "\n",
        "with open('requirements.txt', 'w') as file:\n",
        "    file.write(requirements_file)"
      ],
      "execution_count": null,
      "outputs": []
    },
    {
      "cell_type": "code",
      "source": [],
      "metadata": {
        "id": "RLzFShRwD0-j"
      },
      "execution_count": null,
      "outputs": []
    },
    {
      "cell_type": "code",
      "source": [],
      "metadata": {
        "id": "z-IF5c2f4LA3"
      },
      "execution_count": null,
      "outputs": []
    },
    {
      "cell_type": "code",
      "source": [
        "!git --version"
      ],
      "metadata": {
        "colab": {
          "base_uri": "https://localhost:8080/"
        },
        "id": "riymI4RJMNEA",
        "outputId": "0b1bfcb2-fc48-407d-ec9e-f254ea05a94a"
      },
      "execution_count": null,
      "outputs": [
        {
          "output_type": "stream",
          "name": "stdout",
          "text": [
            "git version 2.17.1\n"
          ]
        }
      ]
    },
    {
      "cell_type": "code",
      "source": [
        "!git config --global user.email \"zadrutskiy@yandex.ru\"\n",
        "!git config --global user.name \"A1171\""
      ],
      "metadata": {
        "id": "eg9vuq6-MNHX"
      },
      "execution_count": null,
      "outputs": []
    },
    {
      "cell_type": "code",
      "source": [
        "!curl https://cli-assets.heroku.com/install-ubuntu.sh | sh > /dev/null"
      ],
      "metadata": {
        "colab": {
          "base_uri": "https://localhost:8080/"
        },
        "id": "RgqKYnCSMNKj",
        "outputId": "ea1a6d39-80f0-4284-fc3a-f1a4e019a01b"
      },
      "execution_count": null,
      "outputs": [
        {
          "output_type": "stream",
          "name": "stdout",
          "text": [
            "  % Total    % Received % Xferd  Average Speed   Time    Time     Time  Current\n",
            "                                 Dload  Upload   Total   Spent    Left  Speed\n",
            "\r  0     0    0     0    0     0      0      0 --:--:-- --:--:-- --:--:--     0\r100  1232  100  1232    0     0  11846      0 --:--:-- --:--:-- --:--:-- 11961\n",
            "+ dpkg -s apt-transport-https\n",
            "+ echo \n",
            "+ apt-get update\n",
            "+ apt-get install -y apt-transport-https\n",
            "+ echo deb https://cli-assets.heroku.com/apt ./\n",
            "+ dpkg -s heroku-toolbelt\n",
            "+ true\n",
            "+ apt-key add -\n",
            "+ curl https://cli-assets.heroku.com/apt/release.key\n",
            "  % Total    % Received % Xferd  Average Speed   Time    Time     Time  Current\n",
            "                                 Dload  Upload   Total   Spent    Left  Speed\n",
            "100  5393  100  5393    0     0  53396      0 --:--:-- --:--:-- --:--:-- 52872\n",
            "Warning: apt-key output should not be parsed (stdout is not a terminal)\n",
            "+ apt-get update\n",
            "+ apt-get install -y heroku\n",
            " ›   Warning: Our terms of service have changed: \n",
            " ›   https://dashboard.heroku.com/terms-of-service\n"
          ]
        }
      ]
    },
    {
      "cell_type": "code",
      "source": [
        "!heroku --version"
      ],
      "metadata": {
        "colab": {
          "base_uri": "https://localhost:8080/"
        },
        "id": "ZIKl4HlZMNOG",
        "outputId": "b55e8665-d3a4-4340-c54c-e7cf3f924896"
      },
      "execution_count": null,
      "outputs": [
        {
          "output_type": "stream",
          "name": "stdout",
          "text": [
            "heroku/7.59.2 linux-x64 node-v12.21.0\n"
          ]
        }
      ]
    },
    {
      "cell_type": "code",
      "metadata": {
        "id": "nMzbiOygyakE"
      },
      "source": [
        "LOGIN = 'zadrutskiy@zandex.ru'  # Укажите свой логин\n",
        "API_KEY = '9c6fcbfb-acb2-46c6-924c-7d5079f78732'  # Укажите свой API-key\n",
        "           \n",
        "\n",
        "auth_file = '''machine api.heroku.com\n",
        "  login {login}\n",
        "  password {password}\n",
        "machine git.heroku.com\n",
        "  login {login}\n",
        "  password {password}\n",
        "'''.format(login=LOGIN, password=API_KEY)\n",
        "\n",
        "with open('/root/.netrc', 'w') as file:\n",
        "    file.write(auth_file)"
      ],
      "execution_count": null,
      "outputs": []
    },
    {
      "cell_type": "code",
      "source": [
        "!ls /root/"
      ],
      "metadata": {
        "id": "yuE2u_cXYGTx"
      },
      "execution_count": null,
      "outputs": []
    },
    {
      "cell_type": "code",
      "source": [
        "!git init"
      ],
      "metadata": {
        "colab": {
          "base_uri": "https://localhost:8080/"
        },
        "id": "xklu1VwFMNRk",
        "outputId": "254d00ac-cb58-48a7-a277-57e9d9730ddd"
      },
      "execution_count": null,
      "outputs": [
        {
          "output_type": "stream",
          "name": "stdout",
          "text": [
            "Initialized empty Git repository in /content/.git/\n"
          ]
        }
      ]
    },
    {
      "cell_type": "code",
      "source": [
        "!git status"
      ],
      "metadata": {
        "colab": {
          "base_uri": "https://localhost:8080/"
        },
        "id": "Ltd9bG6gM3j2",
        "outputId": "bbf8a551-1658-41fd-b13e-faf009332737"
      },
      "execution_count": null,
      "outputs": [
        {
          "output_type": "stream",
          "name": "stdout",
          "text": [
            "On branch master\n",
            "Untracked files:\n",
            "  (use \"git add <file>...\" to include in what will be committed)\n",
            "\n",
            "\t\u001b[31m.config/\u001b[m\n",
            "\t\u001b[31m__pycache__/\u001b[m\n",
            "\t\u001b[31mnohup.out\u001b[m\n",
            "\t\u001b[31msample_data/\u001b[m\n",
            "\n",
            "nothing added to commit but untracked files present (use \"git add\" to track)\n"
          ]
        }
      ]
    },
    {
      "cell_type": "code",
      "source": [
        "!git add model_minst_f.h5\n",
        "!git add predict.py\n",
        "!git add main.py\n",
        "!git add Procfile\n",
        "!git add requirements.txt\n",
        "!git add .config/"
      ],
      "metadata": {
        "id": "26WkVWs6M3q1"
      },
      "execution_count": null,
      "outputs": []
    },
    {
      "cell_type": "code",
      "source": [
        "!git commit -m \"My first commit1\""
      ],
      "metadata": {
        "colab": {
          "base_uri": "https://localhost:8080/"
        },
        "id": "syz4B4VkMNV1",
        "outputId": "fde11424-84b5-4141-e5b5-b18491ddc6df"
      },
      "execution_count": null,
      "outputs": [
        {
          "output_type": "stream",
          "name": "stdout",
          "text": [
            "[master 20ed862] My first commit1\n",
            " 1 file changed, 1 insertion(+), 1 deletion(-)\n"
          ]
        }
      ]
    },
    {
      "cell_type": "code",
      "source": [
        "!git log"
      ],
      "metadata": {
        "colab": {
          "base_uri": "https://localhost:8080/"
        },
        "id": "z-L_jTa-OSJW",
        "outputId": "2e981cf2-fc83-4bb6-9062-c1f93b3bbc39"
      },
      "execution_count": null,
      "outputs": [
        {
          "output_type": "stream",
          "name": "stdout",
          "text": [
            "\u001b[33mcommit f88de36ed919b1dafbd00c609761966dae7af00f\u001b[m\u001b[33m (\u001b[m\u001b[1;36mHEAD -> \u001b[m\u001b[1;32mmaster\u001b[m\u001b[33m)\u001b[m\n",
            "Author: A1171 <zadrutskiy@yandex.ru>\n",
            "Date:   Thu Dec 16 17:07:16 2021 +0000\n",
            "\n",
            "    My first commit1\n"
          ]
        }
      ]
    },
    {
      "cell_type": "code",
      "source": [
        "!heroku create minst-api-457356"
      ],
      "metadata": {
        "colab": {
          "base_uri": "https://localhost:8080/"
        },
        "id": "UmSgrSyWNjWo",
        "outputId": "7ad90c90-a4a6-48d1-d165-8b6e8b6f901b"
      },
      "execution_count": null,
      "outputs": [
        {
          "output_type": "stream",
          "name": "stdout",
          "text": [
            "\u001b[G\u001b[2K\u001b[?25lCreating \u001b[35m⬢ minst-api-457356\u001b[39m... \u001b[35m⣾\u001b[39m \n",
            "\u001b[2A\u001b[31C\u001b[35m⣽\u001b[39m\u001b[2B\u001b[G\u001b[2K\u001b[2A\u001b[31C\u001b[35m⣻\u001b[39m\u001b[2B\u001b[G\u001b[2K\u001b[2A\u001b[31C\u001b[35m⢿\u001b[39m\u001b[2B\u001b[G\u001b[2K\u001b[2A\u001b[31C\u001b[35m⡿\u001b[39m\u001b[2B\u001b[G\u001b[2K\u001b[2A\u001b[31C\u001b[35m⣟\u001b[39m\u001b[2B\u001b[G\u001b[2K\u001b[2A\u001b[31C\u001b[35m⣯\u001b[39m\u001b[2B\u001b[G\u001b[2K\u001b[2A\u001b[31C\u001b[35m⣷\u001b[39m\u001b[2B\u001b[G\u001b[2K\u001b[2A\u001b[31C\u001b[35m⣾\u001b[39m\u001b[2B\u001b[G\u001b[2K\u001b[2A\u001b[31C\u001b[35m⣽\u001b[39m\u001b[2B\u001b[G\u001b[2K\u001b[2A\u001b[JCreating \u001b[35m⬢ minst-api-457356\u001b[39m... done\n",
            "\u001b[?25h\u001b[36mhttps://minst-api-457356.herokuapp.com/\u001b[39m | \u001b[32mhttps://git.heroku.com/minst-api-457356.git\u001b[39m\n",
            "\u001b[?25h"
          ]
        }
      ]
    },
    {
      "cell_type": "code",
      "source": [
        "!git remote -v"
      ],
      "metadata": {
        "colab": {
          "base_uri": "https://localhost:8080/"
        },
        "id": "8ntTmnZHOHgc",
        "outputId": "2ba0f1ae-4f7f-4560-ca4e-023114a5f76b"
      },
      "execution_count": null,
      "outputs": [
        {
          "output_type": "stream",
          "name": "stdout",
          "text": [
            "heroku\thttps://git.heroku.com/minst-api-457356.git (fetch)\n",
            "heroku\thttps://git.heroku.com/minst-api-457356.git (push)\n"
          ]
        }
      ]
    },
    {
      "cell_type": "code",
      "source": [
        "!git push heroku master"
      ],
      "metadata": {
        "colab": {
          "base_uri": "https://localhost:8080/"
        },
        "id": "5cTAUgOlOHkO",
        "outputId": "02d579bd-1823-44c8-f5fa-5acfe9a99215"
      },
      "execution_count": null,
      "outputs": [
        {
          "output_type": "stream",
          "name": "stdout",
          "text": [
            "Counting objects: 6, done.\n",
            "Delta compression using up to 2 threads.\n",
            "Compressing objects:  16% (1/6)   \rCompressing objects:  33% (2/6)   \rCompressing objects:  50% (3/6)   \rCompressing objects:  66% (4/6)   \rCompressing objects:  83% (5/6)   \rCompressing objects: 100% (6/6)   \rCompressing objects: 100% (6/6), done.\n",
            "Writing objects:  16% (1/6)   \rWriting objects:  33% (2/6)   \rWriting objects:  50% (3/6)   \rWriting objects:  83% (5/6)   \rWriting objects: 100% (6/6)   \rWriting objects: 100% (6/6), 544 bytes | 544.00 KiB/s, done.\n",
            "Total 6 (delta 4), reused 0 (delta 0)\n",
            "remote: Compressing source files... done.\u001b[K\n",
            "remote: Building source:\u001b[K\n",
            "remote: \n",
            "remote: -----> Building on the Heroku-20 stack\u001b[K\n",
            "remote: -----> Using buildpack: heroku/python\u001b[K\n",
            "remote: -----> Python app detected\u001b[K\n",
            "remote: -----> No Python version was specified. Using the same version as the last build: python-3.9.9\u001b[K\n",
            "remote:        To use a different version, see: https://devcenter.heroku.com/articles/python-runtimes\u001b[K\n",
            "remote: -----> No change in requirements detected, installing from cache\u001b[K\n",
            "remote: -----> Using cached install of python-3.9.9\u001b[K\n",
            "remote: -----> Installing pip 21.3.1, setuptools 57.5.0 and wheel 0.37.0\u001b[K\n",
            "remote: -----> Installing SQLite3\u001b[K\n",
            "remote: -----> Installing requirements with pip\u001b[K\n",
            "remote: -----> Discovering process types\u001b[K\n",
            "remote:        Procfile declares types -> web\u001b[K\n",
            "remote: \n",
            "remote: -----> Compressing...\u001b[K\n",
            "remote:        Done: 275.1M\u001b[K\n",
            "remote: -----> Launching...\u001b[K\n",
            "remote:        Released v4\u001b[K\n",
            "remote:        https://minst-api-457356.herokuapp.com/ deployed to Heroku\u001b[K\n",
            "remote: \n",
            "remote: Verifying deploy... done.\u001b[K\n",
            "To https://git.heroku.com/minst-api-457356.git\n",
            "   51fc1b5..20ed862  master -> master\n"
          ]
        }
      ]
    },
    {
      "cell_type": "code",
      "source": [
        "from PIL import Image\n",
        "im = Image.fromarray(x_test_org[0])\n",
        "im.save(\"x_test_org_0.jpeg\")\n",
        "files = {'file': open('x_test_org_0.jpeg','rb')}\n",
        "r = requests.post('https://minst-api-457356.herokuapp.com/predict', files=files)\n",
        "print(r.status_code)"
      ],
      "metadata": {
        "colab": {
          "base_uri": "https://localhost:8080/"
        },
        "id": "bjs2Y2DCPYiA",
        "outputId": "da1a404e-46cf-4abd-a710-a58405c6fb34"
      },
      "execution_count": null,
      "outputs": [
        {
          "output_type": "stream",
          "name": "stdout",
          "text": [
            "200\n"
          ]
        }
      ]
    },
    {
      "cell_type": "code",
      "source": [
        "print(r.json())"
      ],
      "metadata": {
        "colab": {
          "base_uri": "https://localhost:8080/"
        },
        "id": "uHe-SssUSzMA",
        "outputId": "f7659d19-ee32-4812-f4c5-48899d381235"
      },
      "execution_count": null,
      "outputs": [
        {
          "output_type": "stream",
          "name": "stdout",
          "text": [
            "{'result': 'boots'}\n"
          ]
        }
      ]
    },
    {
      "cell_type": "code",
      "source": [
        "plt.imshow(x_test_org[0],cmap='gray')\n",
        "plt.show()"
      ],
      "metadata": {
        "colab": {
          "base_uri": "https://localhost:8080/",
          "height": 265
        },
        "id": "D2eRbdAITA2t",
        "outputId": "242944f8-a506-4efd-ae5d-f002e5a451ae"
      },
      "execution_count": null,
      "outputs": [
        {
          "output_type": "display_data",
          "data": {
            "image/png": "[encoded data removed]",
            "text/plain": [
              "<Figure size 432x288 with 1 Axes>"
            ]
          },
          "metadata": {
            "needs_background": "light"
          }
        }
      ]
    },
    {
      "cell_type": "code",
      "source": [
        "!heroku logs"
      ],
      "metadata": {
        "colab": {
          "base_uri": "https://localhost:8080/"
        },
        "id": "WZMdRCiAPYse",
        "outputId": "deb7c9bf-2a6f-415c-d967-5c6a33d66597"
      },
      "execution_count": null,
      "outputs": [
        {
          "output_type": "stream",
          "name": "stdout",
          "text": [
            "\u001b[1m\u001b[32m2021-12-16T17:11:37.746810+00:00 app[api]:\u001b[39m\u001b[22m Release \u001b[35mv1\u001b[39m created by user \u001b[32mzadrutskiy@yandex.ru\u001b[39m\n",
            "\u001b[1m\u001b[32m2021-12-16T17:11:37.746810+00:00 app[api]:\u001b[39m\u001b[22m Initial release by user zadrutskiy@yandex.ru\n",
            "\u001b[1m\u001b[32m2021-12-16T17:11:37.921554+00:00 app[api]:\u001b[39m\u001b[22m Enable Logplex by user zadrutskiy@yandex.ru\n",
            "\u001b[1m\u001b[32m2021-12-16T17:11:37.921554+00:00 app[api]:\u001b[39m\u001b[22m Release \u001b[35mv2\u001b[39m created by user \u001b[32mzadrutskiy@yandex.ru\u001b[39m\n",
            "\u001b[1m\u001b[32m2021-12-16T17:16:51.000000+00:00 app[api]:\u001b[39m\u001b[22m Build started by user \u001b[32mzadrutskiy@yandex.ru\u001b[39m\n",
            "\u001b[1m\u001b[32m2021-12-16T17:18:26.568979+00:00 app[api]:\u001b[39m\u001b[22m Release \u001b[35mv3\u001b[39m created by user \u001b[32mzadrutskiy@yandex.ru\u001b[39m\n",
            "\u001b[1m\u001b[32m2021-12-16T17:18:26.568979+00:00 app[api]:\u001b[39m\u001b[22m Deploy \u001b[36m51fc1b53\u001b[39m by user \u001b[32mzadrutskiy@yandex.ru\u001b[39m\n",
            "\u001b[1m\u001b[32m2021-12-16T17:18:26.587999+00:00 app[api]:\u001b[39m\u001b[22m Scaled to web@1:Free by user zadrutskiy@yandex.ru\n",
            "\u001b[36m2021-12-16T17:18:41.122584+00:00 heroku[web.1]:\u001b[39m Starting process with command \u001b[36m\u001b[1m`uvicorn main:app --host=0.0.0.0 --port=${PORT:-5000}`\u001b[22m\u001b[39m\n",
            "\u001b[36m2021-12-16T17:18:42.271674+00:00 app[web.1]:\u001b[39m INFO:     Uvicorn running on http://0.0.0.0:6405 (Press CTRL+C to quit)\n",
            "\u001b[36m2021-12-16T17:18:42.271766+00:00 app[web.1]:\u001b[39m INFO:     Started parent process [4]\n",
            "\u001b[36m2021-12-16T17:18:46.409004+00:00 app[web.1]:\u001b[39m 2021-12-16 17:18:46.408934: I tensorflow/core/platform/cpu_feature_guard.cc:142] This TensorFlow binary is optimized with oneAPI Deep Neural Network Library (oneDNN) to use the following CPU instructions in performance-critical operations:  AVX2 AVX512F FMA\n",
            "\u001b[36m2021-12-16T17:18:46.409016+00:00 app[web.1]:\u001b[39m To enable them in other operations, rebuild TensorFlow with the appropriate compiler flags.\n",
            "\u001b[36m2021-12-16T17:18:46.466988+00:00 app[web.1]:\u001b[39m 2021-12-16 17:18:46.466925: I tensorflow/core/platform/cpu_feature_guard.cc:142] This TensorFlow binary is optimized with oneAPI Deep Neural Network Library (oneDNN) to use the following CPU instructions in performance-critical operations:  AVX2 AVX512F FMA\n",
            "\u001b[36m2021-12-16T17:18:46.466991+00:00 app[web.1]:\u001b[39m To enable them in other operations, rebuild TensorFlow with the appropriate compiler flags.\n",
            "\u001b[36m2021-12-16T17:18:46.537239+00:00 app[web.1]:\u001b[39m INFO:     Started server process [11]\n",
            "\u001b[36m2021-12-16T17:18:46.537312+00:00 app[web.1]:\u001b[39m INFO:     Waiting for application startup.\n",
            "\u001b[36m2021-12-16T17:18:46.537618+00:00 app[web.1]:\u001b[39m INFO:     Application startup complete.\n",
            "\u001b[36m2021-12-16T17:18:46.646903+00:00 app[web.1]:\u001b[39m INFO:     Started server process [10]\n",
            "\u001b[36m2021-12-16T17:18:46.646970+00:00 app[web.1]:\u001b[39m INFO:     Waiting for application startup.\n",
            "\u001b[36m2021-12-16T17:18:46.647205+00:00 app[web.1]:\u001b[39m INFO:     Application startup complete.\n",
            "\u001b[36m2021-12-16T17:18:46.664091+00:00 heroku[web.1]:\u001b[39m State changed from \u001b[93mstarting\u001b[39m to \u001b[92mup\u001b[39m\n",
            "\u001b[1m\u001b[32m2021-12-16T17:19:10.000000+00:00 app[api]:\u001b[39m\u001b[22m \u001b[92mBuild succeeded\u001b[39m\n",
            "\u001b[36m2021-12-16T17:22:25.089394+00:00 app[web.1]:\u001b[39m INFO:     34.91.204.150:0 - \"\u001b[1m\u001b[35mPOST\u001b[39m\u001b[22m\u001b[32m /predict \u001b[39mHTTP/1.1\" 500 Internal Server Error\n",
            "\u001b[32m2021-12-16T17:22:25.090376+00:00 heroku[router]:\u001b[39m \u001b[2mat=\u001b[22m\u001b[2minfo\u001b[22m \u001b[2mmethod=\u001b[22m\u001b[1m\u001b[35mPOST\u001b[39m\u001b[22m \u001b[2mpath=\u001b[22m\u001b[32m\"/predict\"\u001b[39m \u001b[2mhost=\u001b[22m\u001b[2mminst-api-457356.herokuapp.com\u001b[22m \u001b[2mrequest_id=\u001b[22m\u001b[2mb4827e33-fed1-41b5-bbc3-2a08d41d6c2d\u001b[22m \u001b[2mfwd=\u001b[22m\u001b[2m\"34.91.204.150\"\u001b[22m \u001b[2mdyno=\u001b[22m\u001b[36mweb.1\u001b[39m \u001b[2mconnect=\u001b[22m0ms \u001b[2mservice=\u001b[22m\u001b[92m10ms\u001b[39m \u001b[2mstatus=\u001b[22m\u001b[31m500\u001b[39m \u001b[2mbytes=\u001b[22m\u001b[2m193\u001b[22m \u001b[2mprotocol=\u001b[22m\u001b[2mhttps\u001b[22m\n",
            "\u001b[36m2021-12-16T17:22:25.091840+00:00 app[web.1]:\u001b[39m ERROR:    Exception in ASGI application\n",
            "\u001b[36m2021-12-16T17:22:25.091841+00:00 app[web.1]:\u001b[39m Traceback (most recent call last):\n",
            "\u001b[36m2021-12-16T17:22:25.091843+00:00 app[web.1]:\u001b[39m File \"/app/.heroku/python/lib/python3.9/site-packages/uvicorn/protocols/http/h11_impl.py\", line 373, in run_asgi\n",
            "\u001b[36m2021-12-16T17:22:25.091844+00:00 app[web.1]:\u001b[39m result = await app(self.scope, self.receive, self.send)\n",
            "\u001b[36m2021-12-16T17:22:25.091844+00:00 app[web.1]:\u001b[39m File \"/app/.heroku/python/lib/python3.9/site-packages/uvicorn/middleware/proxy_headers.py\", line 75, in __call__\n",
            "\u001b[36m2021-12-16T17:22:25.091845+00:00 app[web.1]:\u001b[39m return await self.app(scope, receive, send)\n",
            "\u001b[36m2021-12-16T17:22:25.091846+00:00 app[web.1]:\u001b[39m File \"/app/.heroku/python/lib/python3.9/site-packages/fastapi/applications.py\", line 208, in __call__\n",
            "\u001b[36m2021-12-16T17:22:25.091846+00:00 app[web.1]:\u001b[39m await super().__call__(scope, receive, send)\n",
            "\u001b[36m2021-12-16T17:22:25.091847+00:00 app[web.1]:\u001b[39m File \"/app/.heroku/python/lib/python3.9/site-packages/starlette/applications.py\", line 112, in __call__\n",
            "\u001b[36m2021-12-16T17:22:25.091847+00:00 app[web.1]:\u001b[39m await self.middleware_stack(scope, receive, send)\n",
            "\u001b[36m2021-12-16T17:22:25.091848+00:00 app[web.1]:\u001b[39m File \"/app/.heroku/python/lib/python3.9/site-packages/starlette/middleware/errors.py\", line 181, in __call__\n",
            "\u001b[36m2021-12-16T17:22:25.091849+00:00 app[web.1]:\u001b[39m raise exc from None\n",
            "\u001b[36m2021-12-16T17:22:25.091849+00:00 app[web.1]:\u001b[39m File \"/app/.heroku/python/lib/python3.9/site-packages/starlette/middleware/errors.py\", line 159, in __call__\n",
            "\u001b[36m2021-12-16T17:22:25.091850+00:00 app[web.1]:\u001b[39m await self.app(scope, receive, _send)\n",
            "\u001b[36m2021-12-16T17:22:25.091850+00:00 app[web.1]:\u001b[39m File \"/app/.heroku/python/lib/python3.9/site-packages/starlette/exceptions.py\", line 82, in __call__\n",
            "\u001b[36m2021-12-16T17:22:25.091850+00:00 app[web.1]:\u001b[39m raise exc from None\n",
            "\u001b[36m2021-12-16T17:22:25.091851+00:00 app[web.1]:\u001b[39m File \"/app/.heroku/python/lib/python3.9/site-packages/starlette/exceptions.py\", line 71, in __call__\n",
            "\u001b[36m2021-12-16T17:22:25.091851+00:00 app[web.1]:\u001b[39m await self.app(scope, receive, sender)\n",
            "\u001b[36m2021-12-16T17:22:25.091851+00:00 app[web.1]:\u001b[39m File \"/app/.heroku/python/lib/python3.9/site-packages/starlette/routing.py\", line 580, in __call__\n",
            "\u001b[36m2021-12-16T17:22:25.091851+00:00 app[web.1]:\u001b[39m await route.handle(scope, receive, send)\n",
            "\u001b[36m2021-12-16T17:22:25.091852+00:00 app[web.1]:\u001b[39m File \"/app/.heroku/python/lib/python3.9/site-packages/starlette/routing.py\", line 241, in handle\n",
            "\u001b[36m2021-12-16T17:22:25.091852+00:00 app[web.1]:\u001b[39m await self.app(scope, receive, send)\n",
            "\u001b[36m2021-12-16T17:22:25.091853+00:00 app[web.1]:\u001b[39m File \"/app/.heroku/python/lib/python3.9/site-packages/starlette/routing.py\", line 52, in app\n",
            "\u001b[36m2021-12-16T17:22:25.091853+00:00 app[web.1]:\u001b[39m response = await func(request)\n",
            "\u001b[36m2021-12-16T17:22:25.091854+00:00 app[web.1]:\u001b[39m File \"/app/.heroku/python/lib/python3.9/site-packages/fastapi/routing.py\", line 226, in app\n",
            "\u001b[36m2021-12-16T17:22:25.091854+00:00 app[web.1]:\u001b[39m raw_response = await run_endpoint_function(\n",
            "\u001b[36m2021-12-16T17:22:25.091854+00:00 app[web.1]:\u001b[39m File \"/app/.heroku/python/lib/python3.9/site-packages/fastapi/routing.py\", line 159, in run_endpoint_function\n",
            "\u001b[36m2021-12-16T17:22:25.091855+00:00 app[web.1]:\u001b[39m return await dependant.call(**values)\n",
            "\u001b[36m2021-12-16T17:22:25.091855+00:00 app[web.1]:\u001b[39m File \"/app/./main.py\", line 9, in create_file\n",
            "\u001b[36m2021-12-16T17:22:25.091855+00:00 app[web.1]:\u001b[39m return {\"result\": process(file)}\n",
            "\u001b[36m2021-12-16T17:22:25.091855+00:00 app[web.1]:\u001b[39m File \"/app/./predict.py\", line 18, in process\n",
            "\u001b[36m2021-12-16T17:22:25.091856+00:00 app[web.1]:\u001b[39m prediction = np.argmax(model.predict(array.reshape(1,28*28)))             # Запуск предсказания сети\n",
            "\u001b[36m2021-12-16T17:22:25.091856+00:00 app[web.1]:\u001b[39m ValueError: cannot reshape array of size 1 into shape (1,784)\n",
            "\u001b[1m\u001b[32m2021-12-16T17:27:40.000000+00:00 app[api]:\u001b[39m\u001b[22m Build started by user \u001b[32mzadrutskiy@yandex.ru\u001b[39m\n",
            "\u001b[1m\u001b[32m2021-12-16T17:29:08.936094+00:00 app[api]:\u001b[39m\u001b[22m Deploy \u001b[36m20ed862f\u001b[39m by user \u001b[32mzadrutskiy@yandex.ru\u001b[39m\n",
            "\u001b[1m\u001b[32m2021-12-16T17:29:08.936094+00:00 app[api]:\u001b[39m\u001b[22m Release \u001b[35mv4\u001b[39m created by user \u001b[32mzadrutskiy@yandex.ru\u001b[39m\n",
            "\u001b[36m2021-12-16T17:29:09.985292+00:00 heroku[web.1]:\u001b[39m \u001b[33mRestarting\u001b[39m\n",
            "\u001b[36m2021-12-16T17:29:09.999190+00:00 heroku[web.1]:\u001b[39m State changed from \u001b[92mup\u001b[39m to \u001b[93mstarting\u001b[39m\n",
            "\u001b[36m2021-12-16T17:29:10.934183+00:00 heroku[web.1]:\u001b[39m \u001b[31mStopping all processes with SIGTERM\u001b[39m\n",
            "\u001b[36m2021-12-16T17:29:10.999166+00:00 app[web.1]:\u001b[39m INFO:     Shutting down\n",
            "\u001b[36m2021-12-16T17:29:11.009609+00:00 app[web.1]:\u001b[39m INFO:     Shutting down\n",
            "\u001b[36m2021-12-16T17:29:11.099729+00:00 app[web.1]:\u001b[39m INFO:     Finished server process [10]\n",
            "\u001b[36m2021-12-16T17:29:11.100098+00:00 app[web.1]:\u001b[39m INFO:     ASGI 'lifespan' protocol appears unsupported.\n",
            "\u001b[36m2021-12-16T17:29:11.109968+00:00 app[web.1]:\u001b[39m INFO:     Waiting for application shutdown.\n",
            "\u001b[36m2021-12-16T17:29:11.110136+00:00 app[web.1]:\u001b[39m INFO:     Application shutdown complete.\n",
            "\u001b[36m2021-12-16T17:29:11.110219+00:00 app[web.1]:\u001b[39m INFO:     Finished server process [11]\n",
            "\u001b[36m2021-12-16T17:29:11.542456+00:00 app[web.1]:\u001b[39m INFO:     Stopping parent process [4]\n",
            "\u001b[36m2021-12-16T17:29:11.695316+00:00 heroku[web.1]:\u001b[39m Process exited with status \u001b[92m0\u001b[39m\n",
            "\u001b[36m2021-12-16T17:29:24.343987+00:00 heroku[web.1]:\u001b[39m Starting process with command \u001b[36m\u001b[1m`uvicorn main:app --host=0.0.0.0 --port=${PORT:-5000}`\u001b[22m\u001b[39m\n",
            "\u001b[36m2021-12-16T17:29:25.603995+00:00 app[web.1]:\u001b[39m INFO:     Uvicorn running on http://0.0.0.0:51677 (Press CTRL+C to quit)\n",
            "\u001b[36m2021-12-16T17:29:25.604131+00:00 app[web.1]:\u001b[39m INFO:     Started parent process [4]\n",
            "\u001b[36m2021-12-16T17:29:38.999880+00:00 app[web.1]:\u001b[39m 2021-12-16 17:29:38.999824: I tensorflow/core/platform/cpu_feature_guard.cc:142] This TensorFlow binary is optimized with oneAPI Deep Neural Network Library (oneDNN) to use the following CPU instructions in performance-critical operations:  AVX2 AVX512F FMA\n",
            "\u001b[36m2021-12-16T17:29:38.999895+00:00 app[web.1]:\u001b[39m To enable them in other operations, rebuild TensorFlow with the appropriate compiler flags.\n",
            "\u001b[36m2021-12-16T17:29:39.000620+00:00 app[web.1]:\u001b[39m 2021-12-16 17:29:39.000573: I tensorflow/core/platform/cpu_feature_guard.cc:142] This TensorFlow binary is optimized with oneAPI Deep Neural Network Library (oneDNN) to use the following CPU instructions in performance-critical operations:  AVX2 AVX512F FMA\n",
            "\u001b[36m2021-12-16T17:29:39.000622+00:00 app[web.1]:\u001b[39m To enable them in other operations, rebuild TensorFlow with the appropriate compiler flags.\n",
            "\u001b[36m2021-12-16T17:29:39.465197+00:00 app[web.1]:\u001b[39m INFO:     Started server process [11]\n",
            "\u001b[36m2021-12-16T17:29:39.465258+00:00 app[web.1]:\u001b[39m INFO:     Waiting for application startup.\n",
            "\u001b[36m2021-12-16T17:29:39.465504+00:00 app[web.1]:\u001b[39m INFO:     Application startup complete.\n",
            "\u001b[36m2021-12-16T17:29:39.480893+00:00 app[web.1]:\u001b[39m INFO:     Started server process [10]\n",
            "\u001b[36m2021-12-16T17:29:39.480973+00:00 app[web.1]:\u001b[39m INFO:     Waiting for application startup.\n",
            "\u001b[36m2021-12-16T17:29:39.481244+00:00 app[web.1]:\u001b[39m INFO:     Application startup complete.\n",
            "\u001b[36m2021-12-16T17:29:39.569029+00:00 heroku[web.1]:\u001b[39m State changed from \u001b[93mstarting\u001b[39m to \u001b[92mup\u001b[39m\n",
            "\u001b[1m\u001b[32m2021-12-16T17:29:52.000000+00:00 app[api]:\u001b[39m\u001b[22m \u001b[92mBuild succeeded\u001b[39m\n",
            "\u001b[36m2021-12-16T17:29:58.309745+00:00 app[web.1]:\u001b[39m (28, 28)\n",
            "\u001b[36m2021-12-16T17:29:58.355350+00:00 app[web.1]:\u001b[39m 2021-12-16 17:29:58.355264: I tensorflow/compiler/mlir/mlir_graph_optimization_pass.cc:176] None of the MLIR Optimization Passes are enabled (registered 2)\n",
            "\u001b[36m2021-12-16T17:29:58.355709+00:00 app[web.1]:\u001b[39m 2021-12-16 17:29:58.355676: I tensorflow/core/platform/profile_utils/cpu_utils.cc:114] CPU Frequency: 2500000000 Hz\n",
            "\u001b[36m2021-12-16T17:29:58.475376+00:00 app[web.1]:\u001b[39m INFO:     34.91.204.150:0 - \"\u001b[1m\u001b[35mPOST\u001b[39m\u001b[22m\u001b[32m /predict \u001b[39mHTTP/1.1\" 200 OK\n",
            "\u001b[32m2021-12-16T17:29:58.482484+00:00 heroku[router]:\u001b[39m \u001b[2mat=\u001b[22m\u001b[2minfo\u001b[22m \u001b[2mmethod=\u001b[22m\u001b[1m\u001b[35mPOST\u001b[39m\u001b[22m \u001b[2mpath=\u001b[22m\u001b[32m\"/predict\"\u001b[39m \u001b[2mhost=\u001b[22m\u001b[2mminst-api-457356.herokuapp.com\u001b[22m \u001b[2mrequest_id=\u001b[22m\u001b[2m65992b6b-70a6-4265-8262-36731d246872\u001b[22m \u001b[2mfwd=\u001b[22m\u001b[2m\"34.91.204.150\"\u001b[22m \u001b[2mdyno=\u001b[22m\u001b[36mweb.1\u001b[39m \u001b[2mconnect=\u001b[22m0ms \u001b[2mservice=\u001b[22m\u001b[32m231ms\u001b[39m \u001b[2mstatus=\u001b[22m\u001b[32m200\u001b[39m \u001b[2mbytes=\u001b[22m\u001b[2m162\u001b[22m \u001b[2mprotocol=\u001b[22m\u001b[2mhttps\u001b[22m\n"
          ]
        }
      ]
    },
    {
      "cell_type": "code",
      "source": [
        "#Дальше тест, можно не смотреть"
      ],
      "metadata": {
        "id": "dhDacW-GTKmu"
      },
      "execution_count": null,
      "outputs": []
    },
    {
      "cell_type": "code",
      "source": [],
      "metadata": {
        "id": "PuP4JPrZTLbP"
      },
      "execution_count": null,
      "outputs": []
    },
    {
      "cell_type": "code",
      "source": [
        "!pip install fastapi\n",
        "!pip install uvicorn\n",
        "!pip install python-multipart"
      ],
      "metadata": {
        "colab": {
          "base_uri": "https://localhost:8080/"
        },
        "id": "mFwgPnsijJoa",
        "outputId": "caae5777-8acf-4d69-9d52-14c55f67710c"
      },
      "execution_count": null,
      "outputs": [
        {
          "output_type": "stream",
          "name": "stdout",
          "text": [
            "Collecting fastapi\n",
            "  Downloading fastapi-0.70.1-py3-none-any.whl (51 kB)\n",
            "\u001b[K     |████████████████████████████████| 51 kB 549 kB/s \n",
            "\u001b[?25hCollecting pydantic!=1.7,!=1.7.1,!=1.7.2,!=1.7.3,!=1.8,!=1.8.1,<2.0.0,>=1.6.2\n",
            "  Downloading pydantic-1.8.2-cp37-cp37m-manylinux2014_x86_64.whl (10.1 MB)\n",
            "\u001b[K     |████████████████████████████████| 10.1 MB 27.5 MB/s \n",
            "\u001b[?25hCollecting starlette==0.16.0\n",
            "  Downloading starlette-0.16.0-py3-none-any.whl (61 kB)\n",
            "\u001b[K     |████████████████████████████████| 61 kB 207 kB/s \n",
            "\u001b[?25hCollecting anyio<4,>=3.0.0\n",
            "  Downloading anyio-3.4.0-py3-none-any.whl (78 kB)\n",
            "\u001b[K     |████████████████████████████████| 78 kB 6.5 MB/s \n",
            "\u001b[?25hRequirement already satisfied: typing-extensions in /usr/local/lib/python3.7/dist-packages (from starlette==0.16.0->fastapi) (3.10.0.2)\n",
            "Collecting sniffio>=1.1\n",
            "  Downloading sniffio-1.2.0-py3-none-any.whl (10 kB)\n",
            "Requirement already satisfied: idna>=2.8 in /usr/local/lib/python3.7/dist-packages (from anyio<4,>=3.0.0->starlette==0.16.0->fastapi) (2.10)\n",
            "Installing collected packages: sniffio, anyio, starlette, pydantic, fastapi\n",
            "Successfully installed anyio-3.4.0 fastapi-0.70.1 pydantic-1.8.2 sniffio-1.2.0 starlette-0.16.0\n",
            "Collecting uvicorn\n",
            "  Downloading uvicorn-0.16.0-py3-none-any.whl (54 kB)\n",
            "\u001b[K     |████████████████████████████████| 54 kB 2.5 MB/s \n",
            "\u001b[?25hRequirement already satisfied: typing-extensions in /usr/local/lib/python3.7/dist-packages (from uvicorn) (3.10.0.2)\n",
            "Requirement already satisfied: click>=7.0 in /usr/local/lib/python3.7/dist-packages (from uvicorn) (7.1.2)\n",
            "Collecting asgiref>=3.4.0\n",
            "  Downloading asgiref-3.4.1-py3-none-any.whl (25 kB)\n",
            "Collecting h11>=0.8\n",
            "  Downloading h11-0.12.0-py3-none-any.whl (54 kB)\n",
            "\u001b[K     |████████████████████████████████| 54 kB 3.0 MB/s \n",
            "\u001b[?25hInstalling collected packages: h11, asgiref, uvicorn\n",
            "Successfully installed asgiref-3.4.1 h11-0.12.0 uvicorn-0.16.0\n",
            "Collecting python-multipart\n",
            "  Downloading python-multipart-0.0.5.tar.gz (32 kB)\n",
            "Requirement already satisfied: six>=1.4.0 in /usr/local/lib/python3.7/dist-packages (from python-multipart) (1.15.0)\n",
            "Building wheels for collected packages: python-multipart\n",
            "  Building wheel for python-multipart (setup.py) ... \u001b[?25l\u001b[?25hdone\n",
            "  Created wheel for python-multipart: filename=python_multipart-0.0.5-py3-none-any.whl size=31678 sha256=9151613592b9719012e95a2bf98adaf80fed528744b726bf26b8da7ab6af7262\n",
            "  Stored in directory: /root/.cache/pip/wheels/2c/41/7c/bfd1c180534ffdcc0972f78c5758f89881602175d48a8bcd2c\n",
            "Successfully built python-multipart\n",
            "Installing collected packages: python-multipart\n",
            "Successfully installed python-multipart-0.0.5\n"
          ]
        }
      ]
    },
    {
      "cell_type": "code",
      "source": [
        "files = {'file': open('auto.jpg','rb')}\n",
        "r = requests.post('https://testing-restapi.herokuapp.com/predict', files=files)\n",
        "print(r.status_code)"
      ],
      "metadata": {
        "id": "SxBu0ZZ5OHny"
      },
      "execution_count": null,
      "outputs": []
    },
    {
      "cell_type": "code",
      "source": [
        "main_file = '''\n",
        "from fastapi import FastAPI\n",
        "\n",
        "app = FastAPI()\n",
        "\n",
        "@app.get(\"/test\")\n",
        "def read_root():\n",
        "    return {\"Hello\": \"World1\"}\n",
        "'''\n",
        "\n",
        "with open('main.py', 'w') as file:\n",
        "    file.write(main_file)"
      ],
      "metadata": {
        "id": "9fiT_qumjJur"
      },
      "execution_count": null,
      "outputs": []
    },
    {
      "cell_type": "code",
      "source": [
        "!nohup uvicorn main:app --reload &\n",
        "# nohup и & - прописываются для запуска процесса в фоне (чтобы не блокировать Colab)\n",
        "# параметр --reload позволяет автоматически перезапускать uvicorn при изменениях в файле main.py"
      ],
      "metadata": {
        "colab": {
          "base_uri": "https://localhost:8080/"
        },
        "id": "dR0LTQvwjJxf",
        "outputId": "da6c12b1-8923-4436-9d5b-4248be3ca822"
      },
      "execution_count": null,
      "outputs": [
        {
          "output_type": "stream",
          "name": "stdout",
          "text": [
            "nohup: appending output to 'nohup.out'\n"
          ]
        }
      ]
    },
    {
      "cell_type": "code",
      "source": [
        "!cat nohup.out"
      ],
      "metadata": {
        "colab": {
          "base_uri": "https://localhost:8080/"
        },
        "id": "y-VJx3-2jJ08",
        "outputId": "a8b6e0b4-51d5-4722-b14b-6b3b22b0131e"
      },
      "execution_count": null,
      "outputs": [
        {
          "output_type": "stream",
          "name": "stdout",
          "text": [
            "INFO:     Will watch for changes in these directories: ['/content']\n",
            "INFO:     Uvicorn running on http://127.0.0.1:8000 (Press CTRL+C to quit)\n",
            "INFO:     Started reloader process [186] using statreload\n",
            "INFO:     Started server process [188]\n",
            "INFO:     Waiting for application startup.\n",
            "INFO:     Application startup complete.\n",
            "INFO:     127.0.0.1:39172 - \"GET /test HTTP/1.1\" 200 OK\n"
          ]
        }
      ]
    },
    {
      "cell_type": "code",
      "source": [
        "import requests"
      ],
      "metadata": {
        "id": "qdff2CoKlAFh"
      },
      "execution_count": null,
      "outputs": []
    },
    {
      "cell_type": "code",
      "source": [
        "r = requests.get('http://127.0.0.1:8000/test')\n",
        "print(r.status_code)\n",
        "print(r.text)"
      ],
      "metadata": {
        "colab": {
          "base_uri": "https://localhost:8080/"
        },
        "id": "Q1o7pYR_lAIl",
        "outputId": "5f9f9d91-7694-473c-cb53-531a750efbb0"
      },
      "execution_count": null,
      "outputs": [
        {
          "output_type": "stream",
          "name": "stdout",
          "text": [
            "200\n",
            "{\"Hello\":\"World1\"}\n"
          ]
        }
      ]
    },
    {
      "cell_type": "code",
      "source": [],
      "metadata": {
        "id": "xRrSri9wlAMm"
      },
      "execution_count": null,
      "outputs": []
    }
  ]
}