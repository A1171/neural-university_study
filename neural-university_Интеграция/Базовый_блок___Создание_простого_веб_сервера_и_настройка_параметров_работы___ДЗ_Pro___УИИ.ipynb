{
  "nbformat": 4,
  "nbformat_minor": 0,
  "metadata": {
    "colab": {
      "provenance": []
    },
    "kernelspec": {
      "name": "python3",
      "display_name": "Python 3"
    },
    "language_info": {
      "name": "python"
    }
  },
  "cells": [
    {
      "cell_type": "markdown",
      "source": [
        "Размещение нейросети на сервере Heroku"
      ],
      "metadata": {
        "id": "S6XVWaDlFSY9"
      }
    },
    {
      "cell_type": "markdown",
      "metadata": {
        "id": "c6nTn8IaLGn_"
      },
      "source": [
        "Необходимо подготовить нейронную сеть для распознавания MNIST, загрузить на Heroku и запустить веб сервис:\n",
        "\n",
        "* Подготовить модель для распознавания MNIST\n",
        "* Подключить Git\n",
        "* Подключить Heroku\n",
        "* Загрузить модуль на Heroku и проверить работу веб-сервиса"
      ]
    },
    {
      "cell_type": "code",
      "metadata": {
        "id": "3b4wMrfQKe2l"
      },
      "source": [
        "# Загружаем базу mnist\n",
        "from tensorflow.keras.datasets import mnist \n",
        "\n",
        "# Сеть прямого распространения\n",
        "from tensorflow.keras.models import Sequential \n",
        "\n",
        "# Базовые слои для счёрточных сетей\n",
        "from tensorflow.keras.layers import Dense, Conv2D, MaxPooling2D, Flatten, Dropout, BatchNormalization\n",
        "\n",
        "# оптимизаторы\n",
        "from tensorflow.keras.optimizers import Adam, Adadelta \n",
        "\n",
        "# Используем для to_categorical\n",
        "from tensorflow.keras import utils \n",
        "\n",
        "# Для отрисовки изображений\n",
        "from tensorflow.keras.preprocessing import image \n",
        "\n",
        "# Для загрузки своей картинки\n",
        "from google.colab import files \n",
        "\n",
        "# Библиотека работы с массивами\n",
        "import numpy as np \n",
        "\n",
        "# Для отрисовки графиков\n",
        "import matplotlib.pyplot as plt \n",
        "\n",
        "# Для отрисовки изображений\n",
        "from PIL import Image \n",
        "\n",
        "# Для генерации случайных чисел \n",
        "import random \n",
        "\n",
        "# Для округления\n",
        "import math \n",
        "\n",
        "#Для работы с файлами \n",
        "import os \n",
        "\n",
        "# подключем диск\n",
        "from google.colab import drive\n",
        "\n",
        "%matplotlib inline"
      ],
      "execution_count": null,
      "outputs": []
    },
    {
      "cell_type": "markdown",
      "metadata": {
        "id": "7A0tdANyLCPs"
      },
      "source": [
        "## Распознавание изображений из набора данных MNIST \n"
      ]
    },
    {
      "cell_type": "markdown",
      "metadata": {
        "id": "a-cggImwMCQP"
      },
      "source": [
        "**Подготовка данных**\n"
      ]
    },
    {
      "cell_type": "code",
      "metadata": {
        "id": "_PT1LV_KMVto"
      },
      "source": [
        "# Загружаем MNIST\n",
        "(x_train, y_train), (x_test, y_test) = mnist.load_data()"
      ],
      "execution_count": null,
      "outputs": []
    },
    {
      "cell_type": "code",
      "metadata": {
        "id": "nft2zSCpVWYV",
        "colab": {
          "base_uri": "https://localhost:8080/"
        },
        "outputId": "679e4cb8-c1f4-4b62-b680-07cd82d37859"
      },
      "source": [
        "x_train.shape"
      ],
      "execution_count": null,
      "outputs": [
        {
          "output_type": "execute_result",
          "data": {
            "text/plain": [
              "(60000, 28, 28)"
            ]
          },
          "metadata": {},
          "execution_count": 86
        }
      ]
    },
    {
      "cell_type": "code",
      "metadata": {
        "id": "vNoGJvE_M3YW",
        "colab": {
          "base_uri": "https://localhost:8080/",
          "height": 168
        },
        "outputId": "d71f73e5-d8ee-4f1e-d0fa-a7505c60b61b"
      },
      "source": [
        "# Выводим для примера картинки по каждому классу\n",
        "\n",
        "fig, axs = plt.subplots(1, 10, figsize=(25, 3)) # Создаем полотно из 10 графиков\n",
        "\n",
        "for i in range(10): # Проходим по классам от 0 до 9\n",
        "  label_indexes = np.where(y_train==i)[0] # Получаем список из индексов положений класса i в y_train\n",
        "  index = random.choice(label_indexes) # Случайным образом выбираем из списка индекс\n",
        "  img = x_train[index] # Выбираем из x_train нужное изображение\n",
        "  axs[i].imshow(Image.fromarray(img), cmap='gray') #Отображаем изображение i-ым графиков\n",
        "\n",
        "plt.show() # Показываем изображения"
      ],
      "execution_count": null,
      "outputs": [
        {
          "output_type": "display_data",
          "data": {
            "image/png": "[encoded data removed]",
            "text/plain": [
              "<Figure size 1800x216 with 10 Axes>"
            ]
          },
          "metadata": {
            "needs_background": "light"
          }
        }
      ]
    },
    {
      "cell_type": "code",
      "metadata": {
        "id": "ti92Kvp3NX61"
      },
      "source": [
        "# Превращаем y_train и y_test сетей в формат one hot encoding\n",
        "\n",
        "y_train = utils.to_categorical(y_train, 10)\n",
        "y_test = utils.to_categorical(y_test, 10)\n",
        "\n",
        "# Меняем формат данных MNIST\n",
        "# Надо добавить в конце размерность 1\n",
        "# Чтобы свёрточная сеть понимала, что это чёрно-белые данные\n",
        "\n",
        "x_train = x_train.reshape(x_train.shape[0], 28, 28, 1)\n",
        "x_test = x_test.reshape(x_test.shape[0], 28, 28, 1)"
      ],
      "execution_count": null,
      "outputs": []
    },
    {
      "cell_type": "code",
      "metadata": {
        "id": "tZwKJRB7dW3q",
        "colab": {
          "base_uri": "https://localhost:8080/"
        },
        "outputId": "7a25c83c-e373-4374-93bc-f4e0329187b1"
      },
      "source": [
        "# Посмотрим форматы выборок перед обучением\n",
        "\n",
        "print(x_train.shape)\n",
        "print(x_test.shape)\n",
        "print(y_train.shape)\n",
        "print(y_test.shape)"
      ],
      "execution_count": null,
      "outputs": [
        {
          "output_type": "stream",
          "name": "stdout",
          "text": [
            "(60000, 28, 28, 1)\n",
            "(10000, 28, 28, 1)\n",
            "(60000, 10)\n",
            "(10000, 10)\n"
          ]
        }
      ]
    },
    {
      "cell_type": "markdown",
      "metadata": {
        "id": "P93UbJvKSEAX"
      },
      "source": [
        "**Нейронная сеть**"
      ]
    },
    {
      "cell_type": "code",
      "metadata": {
        "id": "5YioYV0CPY7B"
      },
      "source": [
        "# задаём batch_size\n",
        "batch_size = 128 \n",
        "\n",
        "# Создаем последовательную модель\n",
        "\n",
        "model = Sequential()\n",
        "\n",
        "model.add(BatchNormalization(input_shape=(28, 28, 1))) # Слой пакетной нормализации\n",
        "model.add(Conv2D(32, (3, 3), padding='same', activation='relu')) # Первый сверточный слой\n",
        "model.add(Conv2D(16, (3, 3), padding='same', activation='relu')) # Второй сверточный слой\n",
        "model.add(MaxPooling2D(pool_size=(2, 2))) # Первый слой подвыборки\n",
        "\n",
        "model.add(Dropout(0.25)) # Слой регуляризации Dropout\n",
        "model.add(Flatten())\n",
        "\n",
        "model.add(Dense(256, activation='relu')) # Полносвязный слой для классификации\n",
        "model.add(Dropout(0.25)) # Слой регуляризации Dropout\n",
        "model.add(Dense(10, activation='softmax')) # Выходной полносвязный слой\n",
        "\n",
        "# Компилируем сеть\n",
        "model.compile(loss=\"categorical_crossentropy\", optimizer=\"adam\", metrics=[\"accuracy\"])"
      ],
      "execution_count": null,
      "outputs": []
    },
    {
      "cell_type": "code",
      "metadata": {
        "id": "3DJfoivkXWpq",
        "colab": {
          "base_uri": "https://localhost:8080/"
        },
        "outputId": "e11b5a3c-e284-46bb-f42d-b1f18e6f4b93"
      },
      "source": [
        "model.summary()"
      ],
      "execution_count": null,
      "outputs": [
        {
          "output_type": "stream",
          "name": "stdout",
          "text": [
            "Model: \"sequential\"\n",
            "_________________________________________________________________\n",
            " Layer (type)                Output Shape              Param #   \n",
            "=================================================================\n",
            " batch_normalization (BatchN  (None, 28, 28, 1)        4         \n",
            " ormalization)                                                   \n",
            "                                                                 \n",
            " conv2d (Conv2D)             (None, 28, 28, 32)        320       \n",
            "                                                                 \n",
            " conv2d_1 (Conv2D)           (None, 28, 28, 16)        4624      \n",
            "                                                                 \n",
            " max_pooling2d (MaxPooling2D  (None, 14, 14, 16)       0         \n",
            " )                                                               \n",
            "                                                                 \n",
            " dropout (Dropout)           (None, 14, 14, 16)        0         \n",
            "                                                                 \n",
            " flatten (Flatten)           (None, 3136)              0         \n",
            "                                                                 \n",
            " dense (Dense)               (None, 256)               803072    \n",
            "                                                                 \n",
            " dropout_1 (Dropout)         (None, 256)               0         \n",
            "                                                                 \n",
            " dense_1 (Dense)             (None, 10)                2570      \n",
            "                                                                 \n",
            "=================================================================\n",
            "Total params: 810,590\n",
            "Trainable params: 810,588\n",
            "Non-trainable params: 2\n",
            "_________________________________________________________________\n"
          ]
        }
      ]
    },
    {
      "cell_type": "code",
      "metadata": {
        "id": "Id69qEDaAx_4",
        "colab": {
          "base_uri": "https://localhost:8080/",
          "height": 844
        },
        "outputId": "67c0b7f0-adba-434e-be1e-6e6d8059273d"
      },
      "source": [
        "# Обучаем сеть на данных mnist\n",
        "\n",
        "history = model.fit(x_train, \n",
        "                    y_train, \n",
        "                    batch_size=batch_size, \n",
        "                    epochs=15,\n",
        "                    validation_data=(x_test, y_test),\n",
        "                    verbose=1)\n",
        "\n",
        "# Отображаем график точности обучения\n",
        "\n",
        "plt.plot(history.history['accuracy'], \n",
        "         label='Доля верных ответов на обучающем наборе')\n",
        "plt.plot(history.history['val_accuracy'], \n",
        "         label='Доля верных ответов на проверочном наборе')\n",
        "plt.xlabel('Эпоха обучения')\n",
        "plt.ylabel('Доля верных ответов')\n",
        "plt.legend()\n",
        "plt.show()"
      ],
      "execution_count": null,
      "outputs": [
        {
          "output_type": "stream",
          "name": "stdout",
          "text": [
            "Epoch 1/15\n",
            "469/469 [==============================] - 109s 231ms/step - loss: 0.1863 - accuracy: 0.9419 - val_loss: 0.0489 - val_accuracy: 0.9835\n",
            "Epoch 2/15\n",
            "469/469 [==============================] - 108s 231ms/step - loss: 0.0599 - accuracy: 0.9813 - val_loss: 0.0372 - val_accuracy: 0.9882\n",
            "Epoch 3/15\n",
            "469/469 [==============================] - 108s 230ms/step - loss: 0.0433 - accuracy: 0.9868 - val_loss: 0.0308 - val_accuracy: 0.9899\n",
            "Epoch 4/15\n",
            "469/469 [==============================] - 109s 232ms/step - loss: 0.0323 - accuracy: 0.9895 - val_loss: 0.0256 - val_accuracy: 0.9915\n",
            "Epoch 5/15\n",
            "469/469 [==============================] - 109s 232ms/step - loss: 0.0262 - accuracy: 0.9916 - val_loss: 0.0260 - val_accuracy: 0.9914\n",
            "Epoch 6/15\n",
            "469/469 [==============================] - 108s 231ms/step - loss: 0.0238 - accuracy: 0.9923 - val_loss: 0.0321 - val_accuracy: 0.9892\n",
            "Epoch 7/15\n",
            "469/469 [==============================] - 108s 231ms/step - loss: 0.0195 - accuracy: 0.9935 - val_loss: 0.0321 - val_accuracy: 0.9898\n",
            "Epoch 8/15\n",
            "469/469 [==============================] - 109s 232ms/step - loss: 0.0170 - accuracy: 0.9941 - val_loss: 0.0278 - val_accuracy: 0.9915\n",
            "Epoch 9/15\n",
            "469/469 [==============================] - 108s 231ms/step - loss: 0.0144 - accuracy: 0.9951 - val_loss: 0.0350 - val_accuracy: 0.9901\n",
            "Epoch 10/15\n",
            "469/469 [==============================] - 108s 231ms/step - loss: 0.0149 - accuracy: 0.9951 - val_loss: 0.0251 - val_accuracy: 0.9926\n",
            "Epoch 11/15\n",
            "469/469 [==============================] - 108s 231ms/step - loss: 0.0135 - accuracy: 0.9957 - val_loss: 0.0324 - val_accuracy: 0.9910\n",
            "Epoch 12/15\n",
            "469/469 [==============================] - 108s 231ms/step - loss: 0.0143 - accuracy: 0.9952 - val_loss: 0.0305 - val_accuracy: 0.9907\n",
            "Epoch 13/15\n",
            "469/469 [==============================] - 108s 231ms/step - loss: 0.0115 - accuracy: 0.9962 - val_loss: 0.0316 - val_accuracy: 0.9919\n",
            "Epoch 14/15\n",
            "469/469 [==============================] - 108s 230ms/step - loss: 0.0113 - accuracy: 0.9961 - val_loss: 0.0292 - val_accuracy: 0.9924\n",
            "Epoch 15/15\n",
            "469/469 [==============================] - 108s 231ms/step - loss: 0.0090 - accuracy: 0.9970 - val_loss: 0.0285 - val_accuracy: 0.9920\n"
          ]
        },
        {
          "output_type": "display_data",
          "data": {
            "image/png": "[encoded data removed]",
            "text/plain": [
              "<Figure size 432x288 with 1 Axes>"
            ]
          },
          "metadata": {
            "needs_background": "light"
          }
        }
      ]
    },
    {
      "cell_type": "code",
      "source": [
        "from google.colab import drive\n",
        "drive.mount('/content/drive/', force_remount=True)"
      ],
      "metadata": {
        "colab": {
          "base_uri": "https://localhost:8080/"
        },
        "id": "Jk4MW3Aj5oXV",
        "outputId": "4e20df87-471f-4809-c06b-c846b10bd262"
      },
      "execution_count": null,
      "outputs": [
        {
          "output_type": "stream",
          "name": "stdout",
          "text": [
            "Mounted at /content/drive/\n"
          ]
        }
      ]
    },
    {
      "cell_type": "code",
      "source": [
        "!ls /content/drive/MyDrive/"
      ],
      "metadata": {
        "colab": {
          "base_uri": "https://localhost:8080/"
        },
        "id": "MvIk7mFNiLiF",
        "outputId": "9fddcf2c-0165-4429-9d85-e1201b263830"
      },
      "execution_count": null,
      "outputs": [
        {
          "output_type": "stream",
          "name": "stdout",
          "text": [
            "'Colab Notebooks'   Untitled   'Новая таблица.gsheet'\n",
            " NN\t\t    Маяк.gdoc  'статистика renko.gsheet'\n"
          ]
        }
      ]
    },
    {
      "cell_type": "code",
      "metadata": {
        "id": "Q2908Wjx08j-"
      },
      "source": [
        "# Пересохранение обученной модели полностью (веса и архитектура)\n",
        "model.save('/content/drive/MyDrive/NN/model_fmr_all.h5')"
      ],
      "execution_count": null,
      "outputs": []
    },
    {
      "cell_type": "code",
      "source": [
        "model.save('model_fmr_all.h5')"
      ],
      "metadata": {
        "id": "orih4rhFhkOx"
      },
      "execution_count": null,
      "outputs": []
    },
    {
      "cell_type": "code",
      "source": [
        "import keras\n",
        "model=keras.models.load_model('/content/drive/MyDrive/NN/model_fmr_all.h5')"
      ],
      "metadata": {
        "id": "dPjJlCyEf8lH"
      },
      "execution_count": null,
      "outputs": []
    },
    {
      "cell_type": "code",
      "source": [],
      "metadata": {
        "id": "tK01DUUKJ3-T"
      },
      "execution_count": null,
      "outputs": []
    },
    {
      "cell_type": "code",
      "metadata": {
        "id": "GGPY5wwlj2Za"
      },
      "source": [
        "!wget -q https://bin.equinox.io/c/4VmDzA7iaHb/ngrok-stable-linux-amd64.zip"
      ],
      "execution_count": null,
      "outputs": []
    },
    {
      "cell_type": "code",
      "metadata": {
        "id": "_pKSjGIqfwxr",
        "colab": {
          "base_uri": "https://localhost:8080/"
        },
        "outputId": "9bc5be63-4d1f-4e25-f6cb-624d339489e7"
      },
      "source": [
        "!unzip -q ngrok-stable-linux-amd64.zip"
      ],
      "execution_count": null,
      "outputs": [
        {
          "output_type": "stream",
          "name": "stdout",
          "text": [
            "replace ngrok? [y]es, [n]o, [A]ll, [N]one, [r]ename: A\n"
          ]
        }
      ]
    },
    {
      "cell_type": "code",
      "source": [
        "get_ipython().system_raw('./ngrok authtoken 229GqjwmqhTmvFphdOPLmXhw3th_5UWBz4AqyVQW2r7D9nGNW')"
      ],
      "metadata": {
        "id": "55Tf8BGsezNk"
      },
      "execution_count": null,
      "outputs": []
    },
    {
      "cell_type": "code",
      "metadata": {
        "id": "CSH1Yyerj9Sf"
      },
      "source": [
        "def get_link():\n",
        "    get_ipython().system_raw('./ngrok http 8501 &')\n",
        "    !curl -s http://localhost:4040/api/tunnels | python3 -c \\\n",
        "    'import sys, json; print(\"Ссылка для streamlit: \" +json.load(sys.stdin)[\"tunnels\"][0][\"public_url\"])'"
      ],
      "execution_count": null,
      "outputs": []
    },
    {
      "cell_type": "code",
      "metadata": {
        "id": "Mp2Ovt64a61n"
      },
      "source": [
        "!pip -q install streamlit"
      ],
      "execution_count": null,
      "outputs": []
    },
    {
      "cell_type": "code",
      "metadata": {
        "id": "U4CxgL27kBWP",
        "colab": {
          "base_uri": "https://localhost:8080/"
        },
        "outputId": "1906160a-30a6-4dd6-b06c-2ff742a2b74c"
      },
      "source": [
        "get_link()"
      ],
      "execution_count": null,
      "outputs": [
        {
          "output_type": "stream",
          "name": "stdout",
          "text": [
            "Traceback (most recent call last):\n",
            "  File \"<string>\", line 1, in <module>\n",
            "IndexError: list index out of range\n"
          ]
        }
      ]
    },
    {
      "cell_type": "code",
      "source": [
        "segment_file = '''\n",
        "\n",
        "from tensorflow.keras.models import load_model\n",
        "MODEL_NAME =   'model_fmr_all.h5'\n",
        "import numpy as np\n",
        "import streamlit as st\n",
        "from PIL import Image \n",
        "model = load_model(MODEL_NAME)                                              # Загрузка весов модели\n",
        "INPUT_SHAPE = (28, 28, 1)\n",
        "\n",
        "\n",
        "def process(image_file):\n",
        "    image = Image.open(image_file)  # Открытие обрабатываемого файла\n",
        "    resized_image = image.resize((INPUT_SHAPE[1], INPUT_SHAPE[0]))          # Изменение размера изображения в соответствии со входом сети\n",
        "    array = np.array(resized_image)[..., 0][np.newaxis, ...,np.newaxis]   # Регулировка формы тензора для подачи в сеть\n",
        "    st.write(array.shape)\n",
        "\n",
        "    prediction = np.argmax(model.predict(array))             # Запуск предсказания сети\n",
        "    return resized_image, prediction\n",
        "'''\n",
        "\n",
        "with open('segment.py', 'w') as file:\n",
        "    file.write(segment_file)"
      ],
      "metadata": {
        "id": "KODZy-Nx6PAL"
      },
      "execution_count": null,
      "outputs": []
    },
    {
      "cell_type": "code",
      "source": [
        "    image = Image.open('/content/drive/MyDrive/NN/Pic1252.png')  # Открытие обрабатываемого файла\n",
        "    resized_image = image.resize((28, 28))          # Изменение размера изображения в соответствии со входом сети\n",
        "    array = np.array(resized_image)[..., 0][np.newaxis, ...]   # Регулировка формы тензора для подачи в сеть\n",
        "    prediction = np.argmax(model.predict(array)[0])             # Запуск предсказания сети\n",
        "    print((np.array(resized_image)[..., 0][np.newaxis, ...,np.newaxis] ).shape)\n",
        "    print(model.predict(array)[0])\n",
        "    print(prediction)"
      ],
      "metadata": {
        "colab": {
          "base_uri": "https://localhost:8080/"
        },
        "id": "mXZm2dPE3qTO",
        "outputId": "df8179f7-6255-467f-b55e-53db23e94523"
      },
      "execution_count": null,
      "outputs": [
        {
          "output_type": "stream",
          "name": "stdout",
          "text": [
            "(1, 28, 28, 1)\n",
            "[2.3793049e-01 1.8100006e-03 6.9719050e-03 5.0279981e-01 8.5208467e-06\n",
            " 1.8849771e-01 4.3102950e-02 3.7382338e-03 1.0640181e-02 4.5002778e-03]\n",
            "3\n"
          ]
        }
      ]
    },
    {
      "cell_type": "code",
      "source": [
        "app_file = '''\n",
        "\n",
        "import streamlit as st\n",
        "from PIL import Image \n",
        "from segment import process\n",
        "\n",
        "st.title('Number recognition demo')\n",
        "\n",
        "image_file = st.file_uploader('Load an image', type=['png', 'jpg'])  # Добавление загрузчика файлов\n",
        "\n",
        "if not image_file is None:                                           # Выполнение блока, если загружено изображение\n",
        "    col1, col2 = st.beta_columns(2)                                  # Создание 2 колонок\n",
        "    image = Image.open(image_file)                                   # Открытие изображения\n",
        "    resized_image,result = process(image_file)                                    # Обработка изображения с помощью функции, реализованной в другом файле\n",
        "    col1.text('Source image')\n",
        "    col1.image(resized_image)                                           # Вывод в первой колонке уменьшенного исходного изображения\n",
        "    col2.text('Recognized number')\n",
        "    col2.write(result)                                           # Вывод маски второй колонке\n",
        "'''\n",
        "\n",
        "with open('app.py', 'w') as file:\n",
        "    file.write(app_file)"
      ],
      "metadata": {
        "id": "SsuvJVXNQWOX"
      },
      "execution_count": null,
      "outputs": []
    },
    {
      "cell_type": "code",
      "source": [
        "setup_file = '''\n",
        "\n",
        "mkdir -p ~/.streamlit/\n",
        "echo \"\\\n",
        "[server]\\n\\\n",
        "headless = true\\n\\\n",
        "port = $PORT\\n\\\n",
        "enableCORS = false\\n\\\n",
        "\\n\\\n",
        "\" > ~/.streamlit/config.toml\n",
        "\n",
        "'''\n",
        "\n",
        "with open('setup.sh', 'w') as file:\n",
        "    file.write(setup_file)"
      ],
      "metadata": {
        "id": "A-mPhuTTX_02"
      },
      "execution_count": null,
      "outputs": []
    },
    {
      "cell_type": "code",
      "source": [
        "proc_file = 'web: sh setup.sh && streamlit run app.py'\n",
        "\n",
        "with open('Procfile', 'w') as file:\n",
        "    file.write(proc_file)"
      ],
      "metadata": {
        "id": "rAL8QqRQRaAB"
      },
      "execution_count": null,
      "outputs": []
    },
    {
      "cell_type": "code",
      "source": [
        "requirements_file = '''\n",
        "\n",
        "streamlit==0.82.0\n",
        "tensorflow-cpu==2.5.0\n",
        "\n",
        "'''\n",
        "\n",
        "with open('requirements.txt', 'w') as file:\n",
        "    file.write(requirements_file)"
      ],
      "metadata": {
        "id": "qstXALS9YH47"
      },
      "execution_count": null,
      "outputs": []
    },
    {
      "cell_type": "code",
      "source": [
        "!rm -rf sample_data"
      ],
      "metadata": {
        "id": "bgB9OyQBYH8e"
      },
      "execution_count": null,
      "outputs": []
    },
    {
      "cell_type": "code",
      "source": [],
      "metadata": {
        "id": "gb0hARaKYIOt"
      },
      "execution_count": null,
      "outputs": []
    },
    {
      "cell_type": "code",
      "source": [
        "def process(image_file):\n",
        "    image = Image.open(image_file)  # Открытие обрабатываемого файла\n",
        "    resized_image = image.resize((INPUT_SHAPE[1], INPUT_SHAPE[0]))          # Изменение размера изображения в соответствии со входом сети\n",
        "    array = np.array(resized_image)[..., 0][np.newaxis, ...]   # Регулировка формы тензора для подачи в сеть\n",
        "    prediction = np.argmax(model.predict(array))             # Запуск предсказания сети\n",
        "    return prediction"
      ],
      "metadata": {
        "id": "U0zZBqo3RSvL"
      },
      "execution_count": null,
      "outputs": []
    },
    {
      "cell_type": "code",
      "source": [
        "print(process(x_train[0]))"
      ],
      "metadata": {
        "colab": {
          "base_uri": "https://localhost:8080/"
        },
        "id": "qf9CDxduRkz3",
        "outputId": "37254690-cfa2-487e-e955-04823ac434ce"
      },
      "execution_count": null,
      "outputs": [
        {
          "output_type": "stream",
          "name": "stdout",
          "text": [
            "5\n"
          ]
        }
      ]
    },
    {
      "cell_type": "code",
      "source": [
        "plt.imshow(x_train[0].reshape(-1,x_train[0].shape[1]),cmap='gray')\n",
        "plt.show()"
      ],
      "metadata": {
        "colab": {
          "base_uri": "https://localhost:8080/",
          "height": 265
        },
        "id": "A0GVpbKOSO3G",
        "outputId": "5ad68510-44c3-442c-f697-dbe071552ded"
      },
      "execution_count": null,
      "outputs": [
        {
          "output_type": "display_data",
          "data": {
            "image/png": "[encoded data removed]",
            "text/plain": [
              "<Figure size 432x288 with 1 Axes>"
            ]
          },
          "metadata": {
            "needs_background": "light"
          }
        }
      ]
    },
    {
      "cell_type": "code",
      "source": [],
      "metadata": {
        "id": "6T-8537TSm5-"
      },
      "execution_count": null,
      "outputs": []
    },
    {
      "cell_type": "code",
      "source": [
        "!git config --global user.email \"zadrutskiy@yandex.ru\"\n",
        "!git config --global user.name \"A1171\""
      ],
      "metadata": {
        "id": "a_oiXMgC6PEL"
      },
      "execution_count": null,
      "outputs": []
    },
    {
      "cell_type": "code",
      "source": [
        "!curl https://cli-assets.heroku.com/install-ubuntu.sh | sh > /dev/null"
      ],
      "metadata": {
        "colab": {
          "base_uri": "https://localhost:8080/"
        },
        "id": "s6YmbJSG6P2s",
        "outputId": "8ccf1e7d-a7f2-4460-b20a-6ee6a59b9b9f"
      },
      "execution_count": null,
      "outputs": [
        {
          "output_type": "stream",
          "name": "stdout",
          "text": [
            "  % Total    % Received % Xferd  Average Speed   Time    Time     Time  Current\n",
            "                                 Dload  Upload   Total   Spent    Left  Speed\n",
            "\r  0     0    0     0    0     0      0      0 --:--:-- --:--:-- --:--:--     0\r100  1232  100  1232    0     0  11622      0 --:--:-- --:--:-- --:--:-- 11622\n",
            "+ dpkg -s apt-transport-https\n",
            "+ echo deb https://cli-assets.heroku.com/apt ./\n",
            "+ dpkg -s heroku-toolbelt\n",
            "+ true\n",
            "+ apt-key add -\n",
            "+ curl https://cli-assets.heroku.com/apt/release.key\n",
            "  % Total    % Received % Xferd  Average Speed   Time    Time     Time  Current\n",
            "                                 Dload  Upload   Total   Spent    Left  Speed\n",
            "100  5393  100  5393    0     0  94614      0 --:--:-- --:--:-- --:--:-- 94614\n",
            "Warning: apt-key output should not be parsed (stdout is not a terminal)\n",
            "+ apt-get update\n",
            "+ apt-get install -y heroku\n"
          ]
        }
      ]
    },
    {
      "cell_type": "code",
      "source": [
        "!heroku --version"
      ],
      "metadata": {
        "colab": {
          "base_uri": "https://localhost:8080/"
        },
        "id": "54nU0YPjNQHZ",
        "outputId": "0f8260c1-57fb-40bf-fead-9aaf3560140f"
      },
      "execution_count": null,
      "outputs": [
        {
          "output_type": "stream",
          "name": "stdout",
          "text": [
            "heroku/7.59.2 linux-x64 node-v12.21.0\n"
          ]
        }
      ]
    },
    {
      "cell_type": "code",
      "source": [
        "LOGIN = 'zadrutskiy@zandex.ru'  # Укажите свой логин\n",
        "API_KEY = '9c6fcbfb-acb2-46c6-924c-7d5079f78732'  # Укажите свой API-key"
      ],
      "metadata": {
        "id": "Xxn857OcNRKa"
      },
      "execution_count": null,
      "outputs": []
    },
    {
      "cell_type": "code",
      "source": [
        "auth_file = '''machine api.heroku.com\n",
        "  login {login}\n",
        "  password {password}\n",
        "machine git.heroku.com\n",
        "  login {login}\n",
        "  password {password}\n",
        "'''.format(login=LOGIN, password=API_KEY)\n",
        "\n",
        "with open('/root/.netrc', 'w') as file:\n",
        "    file.write(auth_file)"
      ],
      "metadata": {
        "id": "8CdmDAPYNRSo"
      },
      "execution_count": null,
      "outputs": []
    },
    {
      "cell_type": "code",
      "source": [
        "!git init\n"
      ],
      "metadata": {
        "colab": {
          "base_uri": "https://localhost:8080/"
        },
        "id": "FhsmRg8wU75P",
        "outputId": "f84a5f4e-f423-4eff-92c6-6d4ae6614caa"
      },
      "execution_count": null,
      "outputs": [
        {
          "output_type": "stream",
          "name": "stdout",
          "text": [
            "Reinitialized existing Git repository in /content/.git/\n"
          ]
        }
      ]
    },
    {
      "cell_type": "code",
      "source": [
        "!git add model_fmr_all.h5\n",
        "!git add segment.py\n",
        "!git add app.py\n",
        "!git add .config/\n",
        "!git add ngrok\n",
        "!git add sample_data/\n",
        "!git add ngrok-stable-linux-amd64.zip\n",
        "!git add ngrok-stable-linux-amd64.zip.1\n",
        "!git add requirements.txt\n",
        "!git add setup.sh\n",
        "!git add Procfile"
      ],
      "metadata": {
        "id": "Er8zxFjvxpbU"
      },
      "execution_count": null,
      "outputs": []
    },
    {
      "cell_type": "code",
      "source": [
        "!git add drive/"
      ],
      "metadata": {
        "colab": {
          "base_uri": "https://localhost:8080/"
        },
        "id": "NEOuVoZD3-Pb",
        "outputId": "ffeab6cf-f4d6-4f4b-cc84-6cb88ec59fa9"
      },
      "execution_count": null,
      "outputs": [
        {
          "output_type": "stream",
          "name": "stdout",
          "text": [
            "^C\n"
          ]
        }
      ]
    },
    {
      "cell_type": "code",
      "source": [
        "!git commit -m \"My first commit3\""
      ],
      "metadata": {
        "colab": {
          "base_uri": "https://localhost:8080/"
        },
        "id": "osKfzY2Gx-YM",
        "outputId": "0a0d40f9-8cec-46e2-fb94-1af4a5a473f8"
      },
      "execution_count": null,
      "outputs": [
        {
          "output_type": "stream",
          "name": "stdout",
          "text": [
            "[master fd0d5d7] My first commit3\n",
            " 2 files changed, 3 insertions(+), 3 deletions(-)\n"
          ]
        }
      ]
    },
    {
      "cell_type": "code",
      "source": [
        "!git status"
      ],
      "metadata": {
        "colab": {
          "base_uri": "https://localhost:8080/"
        },
        "id": "cKpikboTl2OQ",
        "outputId": "6919692b-e615-489a-ba6b-ecc62058b3b2"
      },
      "execution_count": null,
      "outputs": [
        {
          "output_type": "stream",
          "name": "stdout",
          "text": [
            "On branch master\n",
            "Untracked files:\n",
            "  (use \"git add <file>...\" to include in what will be committed)\n",
            "\n",
            "\t\u001b[31mProcfile\u001b[m\n",
            "\t\u001b[31mdrive/\u001b[m\n",
            "\n",
            "nothing added to commit but untracked files present (use \"git add\" to track)\n"
          ]
        }
      ]
    },
    {
      "cell_type": "code",
      "source": [
        "!ls /content/sample_data"
      ],
      "metadata": {
        "colab": {
          "base_uri": "https://localhost:8080/"
        },
        "id": "WQ-4mqi7l8Z3",
        "outputId": "e1984ba3-36fa-4149-e81b-b2afc8b15f7c"
      },
      "execution_count": null,
      "outputs": [
        {
          "output_type": "stream",
          "name": "stdout",
          "text": [
            "anscombe.json\t\t      mnist_test.csv\n",
            "california_housing_test.csv   mnist_train_small.csv\n",
            "california_housing_train.csv  README.md\n"
          ]
        }
      ]
    },
    {
      "cell_type": "code",
      "source": [
        "!git log"
      ],
      "metadata": {
        "colab": {
          "base_uri": "https://localhost:8080/"
        },
        "id": "DvSmrlDglBiG",
        "outputId": "83b17e8a-6518-4687-c93b-8c16dd50a782"
      },
      "execution_count": null,
      "outputs": [
        {
          "output_type": "stream",
          "name": "stdout",
          "text": [
            "\u001b[33mcommit fd0d5d776f1b9e35e05baf7080c0955676135859\u001b[m\u001b[33m (\u001b[m\u001b[1;36mHEAD -> \u001b[m\u001b[1;32mmaster\u001b[m\u001b[33m, \u001b[m\u001b[1;31mheroku/master\u001b[m\u001b[33m)\u001b[m\n",
            "Author: A1171 <zadrutskiy@yandex.ru>\n",
            "Date:   Wed Dec 15 16:56:39 2021 +0000\n",
            "\n",
            "    My first commit3\n",
            "\n",
            "\u001b[33mcommit 8b3a8da9218fa9c2693cf8c88216ab9ec6b480c9\u001b[m\n",
            "Author: A1171 <zadrutskiy@yandex.ru>\n",
            "Date:   Wed Dec 15 16:51:06 2021 +0000\n",
            "\n",
            "    My first commit3\n",
            "\n",
            "\u001b[33mcommit 4c1a5be3cd42b7561ee67e62495e1e77f433fcce\u001b[m\n",
            "Author: A1171 <zadrutskiy@yandex.ru>\n",
            "Date:   Wed Dec 15 16:45:24 2021 +0000\n",
            "\n",
            "    My first commit3\n",
            "\n",
            "\u001b[33mcommit b9ed8ec3bb1ffc9fa23552fd87c3865cc18a071e\u001b[m\n",
            "Author: A1171 <zadrutskiy@yandex.ru>\n",
            "Date:   Wed Dec 15 16:39:47 2021 +0000\n",
            "\n",
            "    My first commit3\n",
            "\n",
            "\u001b[33mcommit 9e156343a2a8492b1fa15cf6f81a7941026df6fb\u001b[m\n",
            "Author: A1171 <zadrutskiy@yandex.ru>\n",
            "Date:   Wed Dec 15 16:26:25 2021 +0000\n",
            "\n",
            "    My first commit3\n",
            "\n",
            "\u001b[33mcommit 844e33559565b02afec43f03ae9d904e9aa45c2c\u001b[m\n",
            "Author: A1171 <zadrutskiy@yandex.ru>\n",
            "Date:   Wed Dec 15 16:22:19 2021 +0000\n",
            "\n",
            "    My first commit3\n",
            "\n",
            "\u001b[33mcommit ef1963224fdb37fd272f28c99d2645787c462176\u001b[m\n",
            "Author: A1171 <zadrutskiy@yandex.ru>\n",
            "Date:   Wed Dec 15 16:05:39 2021 +0000\n",
            "\n",
            "    My first commit3\n",
            "\n",
            "\u001b[33mcommit 46ad5dc6fe85054999ca9f9b13bb9fbb2a2c1c57\u001b[m\n",
            "Author: A1171 <zadrutskiy@yandex.ru>\n",
            "Date:   Wed Dec 15 14:30:41 2021 +0000\n",
            "\n",
            "    My first commit3\n",
            "\n",
            "\u001b[33mcommit 65be26b88a03f7d66520a98c9e74bbf0ab3466bf\u001b[m\n",
            "Author: A1171 <zadrutskiy@yandex.ru>\n",
            "Date:   Wed Dec 15 13:57:27 2021 +0000\n",
            "\n",
            "    My first commit2\n",
            "\n",
            "\u001b[33mcommit ca445682072fed9766231c4b7e66808b28dcce42\u001b[m\n",
            "Author: A1171 <zadrutskiy@yandex.ru>\n",
            "Date:   Wed Dec 15 13:52:30 2021 +0000\n",
            "\n",
            "    My first commit2\n",
            "\n",
            "\u001b[33mcommit 9e25c2810f9dee2f40507d0f57908fb1e4c971af\u001b[m\n",
            "Author: A1171 <zadrutskiy@yandex.ru>\n",
            "Date:   Wed Dec 15 11:36:04 2021 +0000\n",
            "\n",
            "    My first commit2\n",
            "\n",
            "\u001b[33mcommit 99caff5c1154c7e160a05b7d6474f2d12615d49e\u001b[m\n",
            "Author: A1171 <zadrutskiy@yandex.ru>\n",
            "Date:   Wed Dec 15 11:33:47 2021 +0000\n",
            "\n",
            "    My first commit\n",
            "\n",
            "\u001b[33mcommit 7100b4dde7377187163e06088f6c9c4debb14e73\u001b[m\n",
            "Author: A1171 <zadrutskiy@yandex.ru>\n",
            "Date:   Wed Dec 15 11:08:59 2021 +0000\n",
            "\n",
            "    My first commit\n"
          ]
        }
      ]
    },
    {
      "cell_type": "code",
      "source": [],
      "metadata": {
        "id": "uO3sZpFKQWR3"
      },
      "execution_count": null,
      "outputs": []
    },
    {
      "cell_type": "code",
      "source": [],
      "metadata": {
        "id": "DWBfYgC1QWVa"
      },
      "execution_count": null,
      "outputs": []
    },
    {
      "cell_type": "code",
      "source": [
        "!heroku create"
      ],
      "metadata": {
        "colab": {
          "base_uri": "https://localhost:8080/"
        },
        "id": "2tZwKUJ-U78r",
        "outputId": "44bb3269-8ae5-45e4-b980-0251b61d0d1c"
      },
      "execution_count": null,
      "outputs": [
        {
          "output_type": "stream",
          "name": "stdout",
          "text": [
            "\u001b[G\u001b[2K\u001b[?25lCreating app... \u001b[35m⣾\u001b[39m \n",
            "\u001b[1A\u001b[16C\u001b[35m⣽\u001b[39m\u001b[1B\u001b[G\u001b[2K\u001b[1A\u001b[16C\u001b[35m⣻\u001b[39m\u001b[1B\u001b[G\u001b[2K\u001b[1A\u001b[16C\u001b[35m⢿\u001b[39m\u001b[1B\u001b[G\u001b[2K\u001b[1A\u001b[JCreating app... \u001b[31m\u001b[1m!\u001b[22m\u001b[39m\n",
            "\u001b[?25h \u001b[31m▸\u001b[39m    You've reached the app\n",
            " \u001b[31m▸\u001b[39m    limit of 5 apps for\n",
            " \u001b[31m▸\u001b[39m    unverified accounts.\n",
            " \u001b[31m▸\u001b[39m    Delete some apps or add\n",
            " \u001b[31m▸\u001b[39m    a credit card to verify\n",
            " \u001b[31m▸\u001b[39m    your account.\n",
            "\u001b[?25h"
          ]
        }
      ]
    },
    {
      "cell_type": "code",
      "source": [
        "!git remote -v"
      ],
      "metadata": {
        "colab": {
          "base_uri": "https://localhost:8080/"
        },
        "id": "f1gp8zkXU8Ag",
        "outputId": "6d0b67a7-28ac-4ee3-8365-bef678258050"
      },
      "execution_count": null,
      "outputs": [
        {
          "output_type": "stream",
          "name": "stdout",
          "text": [
            "heroku\thttps://git.heroku.com/vast-lowlands-85716.git (fetch)\n",
            "heroku\thttps://git.heroku.com/vast-lowlands-85716.git (push)\n"
          ]
        }
      ]
    },
    {
      "cell_type": "code",
      "source": [
        "!git push heroku master"
      ],
      "metadata": {
        "colab": {
          "base_uri": "https://localhost:8080/"
        },
        "id": "Vb3z72-UVkPW",
        "outputId": "eeb521ef-ae4b-4be5-9292-c69bfd887698"
      },
      "execution_count": null,
      "outputs": [
        {
          "output_type": "stream",
          "name": "stdout",
          "text": [
            "Counting objects: 4, done.\n",
            "Delta compression using up to 2 threads.\n",
            "Compressing objects:  25% (1/4)   \rCompressing objects:  50% (2/4)   \rCompressing objects:  75% (3/4)   \rCompressing objects: 100% (4/4)   \rCompressing objects: 100% (4/4), done.\n",
            "Writing objects:  25% (1/4)   \rWriting objects:  50% (2/4)   \rWriting objects:  75% (3/4)   \rWriting objects: 100% (4/4)   \rWriting objects: 100% (4/4), 409 bytes | 409.00 KiB/s, done.\n",
            "Total 4 (delta 3), reused 0 (delta 0)\n",
            "remote: Compressing source files... done.\u001b[K\n",
            "remote: Building source:\u001b[K\n",
            "remote: \n",
            "remote: -----> Building on the Heroku-20 stack\u001b[K\n",
            "remote: -----> Using buildpack: heroku/python\u001b[K\n",
            "remote: -----> Python app detected\u001b[K\n",
            "remote: -----> No Python version was specified. Using the same version as the last build: python-3.9.9\u001b[K\n",
            "remote:        To use a different version, see: https://devcenter.heroku.com/articles/python-runtimes\u001b[K\n",
            "remote: -----> No change in requirements detected, installing from cache\u001b[K\n",
            "remote: -----> Using cached install of python-3.9.9\u001b[K\n",
            "remote: -----> Installing pip 21.3.1, setuptools 57.5.0 and wheel 0.37.0\u001b[K\n",
            "remote: -----> Installing SQLite3\u001b[K\n",
            "remote: -----> Installing requirements with pip\u001b[K\n",
            "remote: -----> Discovering process types\u001b[K\n",
            "remote:        Procfile declares types -> web\u001b[K\n",
            "remote: \n",
            "remote: -----> Compressing...\u001b[K\n",
            "remote:        Done: 373.1M\u001b[K\n",
            "remote: -----> Launching...\u001b[K\n",
            "remote:  !     Warning: Your slug size (373 MB) exceeds our soft limit (300 MB) which may affect boot time.\u001b[K\n",
            "remote:        Released v11\u001b[K\n",
            "remote:        https://vast-lowlands-85716.herokuapp.com/ deployed to Heroku\u001b[K\n",
            "remote: \n",
            "remote: Verifying deploy... done.\u001b[K\n",
            "To https://git.heroku.com/vast-lowlands-85716.git\n",
            "   8b3a8da..fd0d5d7  master -> master\n"
          ]
        }
      ]
    },
    {
      "cell_type": "code",
      "source": [
        "!heroku ps:scale web=1"
      ],
      "metadata": {
        "colab": {
          "base_uri": "https://localhost:8080/"
        },
        "id": "wObMG7IviloB",
        "outputId": "c00b9470-3d5c-47f9-8329-b52bc4f418a4"
      },
      "execution_count": null,
      "outputs": [
        {
          "output_type": "stream",
          "name": "stdout",
          "text": [
            "\u001b[G\u001b[2K\u001b[?25lScaling dynos... \u001b[35m⣾\u001b[39m \n",
            "\u001b[1A\u001b[17C\u001b[35m⣽\u001b[39m\u001b[1B\u001b[G\u001b[2K\u001b[1A\u001b[17C\u001b[35m⣻\u001b[39m\u001b[1B\u001b[G\u001b[2K\u001b[1A\u001b[JScaling dynos... \u001b[31m\u001b[1m!\u001b[22m\u001b[39m\n",
            "\u001b[?25h \u001b[31m▸\u001b[39m    Couldn't find that\n",
            " \u001b[31m▸\u001b[39m    process type (web).\n",
            "\u001b[?25h"
          ]
        }
      ]
    },
    {
      "cell_type": "code",
      "source": [
        "!heroku open"
      ],
      "metadata": {
        "colab": {
          "base_uri": "https://localhost:8080/"
        },
        "id": "_XlmH9HFixWu",
        "outputId": "2d82ba2b-8c47-4190-c400-1f71a322fc1f"
      },
      "execution_count": null,
      "outputs": [
        {
          "output_type": "stream",
          "name": "stdout",
          "text": [
            " \u001b[31m▸\u001b[39m    Error opening web\n",
            " \u001b[31m▸\u001b[39m    browser.\n",
            " \u001b[31m▸\u001b[39m    Error: Exited with code\n",
            " \u001b[31m▸\u001b[39m    3\n",
            " \u001b[31m▸\u001b[39m    \n",
            " \u001b[31m▸\u001b[39m    Manually visit\n",
            " \u001b[31m▸\u001b[39m    \u001b[36mhttps://vast-lowlands-85716.herokuapp.com/\u001b[39m\n",
            " \u001b[31m▸\u001b[39m    in your browser.\n",
            "\u001b[?25h"
          ]
        }
      ]
    },
    {
      "cell_type": "code",
      "source": [
        "get_link()"
      ],
      "metadata": {
        "colab": {
          "base_uri": "https://localhost:8080/"
        },
        "id": "KA5edRhtl60_",
        "outputId": "7e609fcf-a8c0-45e2-daf6-c4db3ae2a623"
      },
      "execution_count": null,
      "outputs": [
        {
          "output_type": "stream",
          "name": "stdout",
          "text": [
            "Ссылка для streamlit: http://39fc-34-70-65-100.ngrok.io\n"
          ]
        }
      ]
    },
    {
      "cell_type": "code",
      "source": [
        "!heroku ps"
      ],
      "metadata": {
        "colab": {
          "base_uri": "https://localhost:8080/"
        },
        "id": "Zgd5vpwYutYj",
        "outputId": "8aea41a6-43bb-421f-948e-780b93a5fc60"
      },
      "execution_count": null,
      "outputs": [
        {
          "output_type": "stream",
          "name": "stdout",
          "text": [
            "Free dyno hours quota remaining this month: 550h 0m (100%)\n",
            "Free dyno usage for this app: 0h 0m (0%)\n",
            "For more information on dyno sleeping and how to upgrade, see:\n",
            "https://devcenter.heroku.com/articles/dyno-sleeping\n",
            "\n",
            "\u001b[2m=== \u001b[22m\u001b[1m\u001b[32mweb\u001b[39m (\u001b[36mFree\u001b[39m): sh setup.sh && streamlit run app.py (\u001b[33m1\u001b[39m)\u001b[22m\n",
            "web.1: \u001b[32m\u001b[32mup\u001b[32m\u001b[39m \u001b[2m2021/12/15 16:59:19 +0000 (~ 4m ago)\u001b[22m\n",
            "\n",
            "\u001b[?25h"
          ]
        }
      ]
    },
    {
      "cell_type": "code",
      "source": [
        "!heroku ps:scale web=1"
      ],
      "metadata": {
        "colab": {
          "base_uri": "https://localhost:8080/"
        },
        "id": "kv6M5Q3vu82q",
        "outputId": "55f74189-e349-43f8-9d7e-9373c0dafd15"
      },
      "execution_count": null,
      "outputs": [
        {
          "output_type": "stream",
          "name": "stdout",
          "text": [
            "\u001b[G\u001b[2K\u001b[?25lScaling dynos... \u001b[35m⣾\u001b[39m \n",
            "\u001b[1A\u001b[17C\u001b[35m⣽\u001b[39m\u001b[1B\u001b[G\u001b[2K\u001b[1A\u001b[17C\u001b[35m⣻\u001b[39m\u001b[1B\u001b[G\u001b[2K\u001b[1A\u001b[JScaling dynos... \u001b[31m\u001b[1m!\u001b[22m\u001b[39m\n",
            "\u001b[?25h \u001b[31m▸\u001b[39m    Couldn't find that\n",
            " \u001b[31m▸\u001b[39m    process type (web).\n",
            "\u001b[?25h"
          ]
        }
      ]
    },
    {
      "cell_type": "code",
      "source": [
        "!heroku logs"
      ],
      "metadata": {
        "colab": {
          "base_uri": "https://localhost:8080/"
        },
        "id": "s3CiFnQvVkSe",
        "outputId": "d1861199-8b97-4ad8-980b-b37278d7289d"
      },
      "execution_count": null,
      "outputs": [
        {
          "output_type": "stream",
          "name": "stdout",
          "text": [
            "\u001b[32m2021-12-15T16:54:08.826089+00:00 heroku[router]:\u001b[39m \u001b[2mat=\u001b[22m\u001b[2minfo\u001b[22m \u001b[2mmethod=\u001b[22m\u001b[1m\u001b[35mGET\u001b[39m\u001b[22m \u001b[2mpath=\u001b[22m\u001b[32m\"/\"\u001b[39m \u001b[2mhost=\u001b[22m\u001b[2mvast-lowlands-85716.herokuapp.com\u001b[22m \u001b[2mrequest_id=\u001b[22m\u001b[2m7e66f167-7ad1-4f0f-b363-63a332b597e5\u001b[22m \u001b[2mfwd=\u001b[22m\u001b[2m\"92.127.96.55\"\u001b[22m \u001b[2mdyno=\u001b[22m\u001b[36mweb.1\u001b[39m \u001b[2mconnect=\u001b[22m0ms \u001b[2mservice=\u001b[22m\u001b[92m4ms\u001b[39m \u001b[2mstatus=\u001b[22m\u001b[36m304\u001b[39m \u001b[2mbytes=\u001b[22m\u001b[2m366\u001b[22m \u001b[2mprotocol=\u001b[22m\u001b[2mhttps\u001b[22m\n",
            "\u001b[32m2021-12-15T16:54:09.044659+00:00 heroku[router]:\u001b[39m \u001b[2mat=\u001b[22m\u001b[2minfo\u001b[22m \u001b[2mmethod=\u001b[22m\u001b[1m\u001b[35mGET\u001b[39m\u001b[22m \u001b[2mpath=\u001b[22m\u001b[32m\"/static/css/5.cbc425bc.chunk.css\"\u001b[39m \u001b[2mhost=\u001b[22m\u001b[2mvast-lowlands-85716.herokuapp.com\u001b[22m \u001b[2mrequest_id=\u001b[22m\u001b[2mf20f8c9a-1c04-4e8f-964e-33527e7273d2\u001b[22m \u001b[2mfwd=\u001b[22m\u001b[2m\"92.127.96.55\"\u001b[22m \u001b[2mdyno=\u001b[22m\u001b[36mweb.1\u001b[39m \u001b[2mconnect=\u001b[22m0ms \u001b[2mservice=\u001b[22m\u001b[92m2ms\u001b[39m \u001b[2mstatus=\u001b[22m\u001b[36m304\u001b[39m \u001b[2mbytes=\u001b[22m\u001b[2m364\u001b[22m \u001b[2mprotocol=\u001b[22m\u001b[2mhttps\u001b[22m\n",
            "\u001b[32m2021-12-15T16:54:09.044875+00:00 heroku[router]:\u001b[39m \u001b[2mat=\u001b[22m\u001b[2minfo\u001b[22m \u001b[2mmethod=\u001b[22m\u001b[1m\u001b[35mGET\u001b[39m\u001b[22m \u001b[2mpath=\u001b[22m\u001b[32m\"/static/css/main.e190763c.chunk.css\"\u001b[39m \u001b[2mhost=\u001b[22m\u001b[2mvast-lowlands-85716.herokuapp.com\u001b[22m \u001b[2mrequest_id=\u001b[22m\u001b[2m15e91525-c767-46aa-9b76-71168a3a337f\u001b[22m \u001b[2mfwd=\u001b[22m\u001b[2m\"92.127.96.55\"\u001b[22m \u001b[2mdyno=\u001b[22m\u001b[36mweb.1\u001b[39m \u001b[2mconnect=\u001b[22m0ms \u001b[2mservice=\u001b[22m\u001b[92m2ms\u001b[39m \u001b[2mstatus=\u001b[22m\u001b[36m304\u001b[39m \u001b[2mbytes=\u001b[22m\u001b[2m364\u001b[22m \u001b[2mprotocol=\u001b[22m\u001b[2mhttps\u001b[22m\n",
            "\u001b[32m2021-12-15T16:54:09.240204+00:00 heroku[router]:\u001b[39m \u001b[2mat=\u001b[22m\u001b[2minfo\u001b[22m \u001b[2mmethod=\u001b[22m\u001b[1m\u001b[35mGET\u001b[39m\u001b[22m \u001b[2mpath=\u001b[22m\u001b[32m\"/static/js/5.d3fb5f21.chunk.js\"\u001b[39m \u001b[2mhost=\u001b[22m\u001b[2mvast-lowlands-85716.herokuapp.com\u001b[22m \u001b[2mrequest_id=\u001b[22m\u001b[2ma3e4ff80-7e3b-414e-aa25-bb728afc94c3\u001b[22m \u001b[2mfwd=\u001b[22m\u001b[2m\"92.127.96.55\"\u001b[22m \u001b[2mdyno=\u001b[22m\u001b[36mweb.1\u001b[39m \u001b[2mconnect=\u001b[22m0ms \u001b[2mservice=\u001b[22m\u001b[92m13ms\u001b[39m \u001b[2mstatus=\u001b[22m\u001b[36m304\u001b[39m \u001b[2mbytes=\u001b[22m\u001b[2m364\u001b[22m \u001b[2mprotocol=\u001b[22m\u001b[2mhttps\u001b[22m\n",
            "\u001b[32m2021-12-15T16:54:09.242148+00:00 heroku[router]:\u001b[39m \u001b[2mat=\u001b[22m\u001b[2minfo\u001b[22m \u001b[2mmethod=\u001b[22m\u001b[1m\u001b[35mGET\u001b[39m\u001b[22m \u001b[2mpath=\u001b[22m\u001b[32m\"/static/js/main.cae71b2a.chunk.js\"\u001b[39m \u001b[2mhost=\u001b[22m\u001b[2mvast-lowlands-85716.herokuapp.com\u001b[22m \u001b[2mrequest_id=\u001b[22m\u001b[2mc93156f6-594f-4a2c-9f25-f45dbcfac855\u001b[22m \u001b[2mfwd=\u001b[22m\u001b[2m\"92.127.96.55\"\u001b[22m \u001b[2mdyno=\u001b[22m\u001b[36mweb.1\u001b[39m \u001b[2mconnect=\u001b[22m0ms \u001b[2mservice=\u001b[22m\u001b[92m8ms\u001b[39m \u001b[2mstatus=\u001b[22m\u001b[36m304\u001b[39m \u001b[2mbytes=\u001b[22m\u001b[2m364\u001b[22m \u001b[2mprotocol=\u001b[22m\u001b[2mhttps\u001b[22m\n",
            "\u001b[32m2021-12-15T16:54:10.411829+00:00 heroku[router]:\u001b[39m \u001b[2mat=\u001b[22m\u001b[2minfo\u001b[22m \u001b[2mmethod=\u001b[22m\u001b[1m\u001b[35mGET\u001b[39m\u001b[22m \u001b[2mpath=\u001b[22m\u001b[32m\"/static/media/IBMPlexSans-Regular.71a4981f.ttf\"\u001b[39m \u001b[2mhost=\u001b[22m\u001b[2mvast-lowlands-85716.herokuapp.com\u001b[22m \u001b[2mrequest_id=\u001b[22m\u001b[2ma8c8b21a-a05e-4e23-b042-007591c89d55\u001b[22m \u001b[2mfwd=\u001b[22m\u001b[2m\"92.127.96.55\"\u001b[22m \u001b[2mdyno=\u001b[22m\u001b[36mweb.1\u001b[39m \u001b[2mconnect=\u001b[22m0ms \u001b[2mservice=\u001b[22m\u001b[92m1ms\u001b[39m \u001b[2mstatus=\u001b[22m\u001b[36m304\u001b[39m \u001b[2mbytes=\u001b[22m\u001b[2m364\u001b[22m \u001b[2mprotocol=\u001b[22m\u001b[2mhttps\u001b[22m\n",
            "\u001b[32m2021-12-15T16:54:10.609191+00:00 heroku[router]:\u001b[39m \u001b[2mat=\u001b[22m\u001b[2minfo\u001b[22m \u001b[2mmethod=\u001b[22m\u001b[1m\u001b[35mGET\u001b[39m\u001b[22m \u001b[2mpath=\u001b[22m\u001b[32m\"/favicon.png\"\u001b[39m \u001b[2mhost=\u001b[22m\u001b[2mvast-lowlands-85716.herokuapp.com\u001b[22m \u001b[2mrequest_id=\u001b[22m\u001b[2m30634e54-3677-40b4-9a7d-08a8264cbc5e\u001b[22m \u001b[2mfwd=\u001b[22m\u001b[2m\"92.127.96.55\"\u001b[22m \u001b[2mdyno=\u001b[22m\u001b[36mweb.1\u001b[39m \u001b[2mconnect=\u001b[22m0ms \u001b[2mservice=\u001b[22m\u001b[92m1ms\u001b[39m \u001b[2mstatus=\u001b[22m\u001b[36m304\u001b[39m \u001b[2mbytes=\u001b[22m\u001b[2m364\u001b[22m \u001b[2mprotocol=\u001b[22m\u001b[2mhttps\u001b[22m\n",
            "\u001b[32m2021-12-15T16:54:11.001807+00:00 heroku[router]:\u001b[39m \u001b[2mat=\u001b[22m\u001b[2minfo\u001b[22m \u001b[2mmethod=\u001b[22m\u001b[1m\u001b[35mGET\u001b[39m\u001b[22m \u001b[2mpath=\u001b[22m\u001b[32m\"/static/js/22.3c38ed00.chunk.js\"\u001b[39m \u001b[2mhost=\u001b[22m\u001b[2mvast-lowlands-85716.herokuapp.com\u001b[22m \u001b[2mrequest_id=\u001b[22m\u001b[2mfc4e6079-f9f9-4536-a44c-3181193e5447\u001b[22m \u001b[2mfwd=\u001b[22m\u001b[2m\"92.127.96.55\"\u001b[22m \u001b[2mdyno=\u001b[22m\u001b[36mweb.1\u001b[39m \u001b[2mconnect=\u001b[22m0ms \u001b[2mservice=\u001b[22m\u001b[92m1ms\u001b[39m \u001b[2mstatus=\u001b[22m\u001b[36m304\u001b[39m \u001b[2mbytes=\u001b[22m\u001b[2m364\u001b[22m \u001b[2mprotocol=\u001b[22m\u001b[2mhttps\u001b[22m\n",
            "\u001b[32m2021-12-15T16:54:11.047975+00:00 heroku[router]:\u001b[39m \u001b[2mat=\u001b[22m\u001b[2minfo\u001b[22m \u001b[2mmethod=\u001b[22m\u001b[1m\u001b[35mGET\u001b[39m\u001b[22m \u001b[2mpath=\u001b[22m\u001b[32m\"/static/media/IBMPlexSans-Bold.5a0eb98b.ttf\"\u001b[39m \u001b[2mhost=\u001b[22m\u001b[2mvast-lowlands-85716.herokuapp.com\u001b[22m \u001b[2mrequest_id=\u001b[22m\u001b[2m15b2cfc7-c09f-4734-9775-68fc83bad057\u001b[22m \u001b[2mfwd=\u001b[22m\u001b[2m\"92.127.96.55\"\u001b[22m \u001b[2mdyno=\u001b[22m\u001b[36mweb.1\u001b[39m \u001b[2mconnect=\u001b[22m0ms \u001b[2mservice=\u001b[22m\u001b[92m2ms\u001b[39m \u001b[2mstatus=\u001b[22m\u001b[36m304\u001b[39m \u001b[2mbytes=\u001b[22m\u001b[2m364\u001b[22m \u001b[2mprotocol=\u001b[22m\u001b[2mhttps\u001b[22m\n",
            "\u001b[32m2021-12-15T16:54:16.410919+00:00 heroku[router]:\u001b[39m \u001b[2mat=\u001b[22m\u001b[2minfo\u001b[22m \u001b[2mmethod=\u001b[22m\u001b[1m\u001b[35mPOST\u001b[39m\u001b[22m \u001b[2mpath=\u001b[22m\u001b[32m\"/upload_file\"\u001b[39m \u001b[2mhost=\u001b[22m\u001b[2mvast-lowlands-85716.herokuapp.com\u001b[22m \u001b[2mrequest_id=\u001b[22m\u001b[2m35f44e93-cfc8-4156-a51a-bcb5b1db9f3d\u001b[22m \u001b[2mfwd=\u001b[22m\u001b[2m\"92.127.96.55\"\u001b[22m \u001b[2mdyno=\u001b[22m\u001b[36mweb.1\u001b[39m \u001b[2mconnect=\u001b[22m0ms \u001b[2mservice=\u001b[22m\u001b[32m176ms\u001b[39m \u001b[2mstatus=\u001b[22m\u001b[32m200\u001b[39m \u001b[2mbytes=\u001b[22m\u001b[2m388\u001b[22m \u001b[2mprotocol=\u001b[22m\u001b[2mhttps\u001b[22m\n",
            "\u001b[36m2021-12-15T16:54:16.718841+00:00 app[web.1]:\u001b[39m 2021-12-15 16:54:16.718791: I tensorflow/compiler/mlir/mlir_graph_optimization_pass.cc:176] None of the MLIR Optimization Passes are enabled (registered 2)\n",
            "\u001b[36m2021-12-15T16:54:16.719191+00:00 app[web.1]:\u001b[39m 2021-12-15 16:54:16.719163: I tensorflow/core/platform/profile_utils/cpu_utils.cc:114] CPU Frequency: 2499995000 Hz\n",
            "\u001b[32m2021-12-15T16:54:17.012725+00:00 heroku[router]:\u001b[39m \u001b[2mat=\u001b[22m\u001b[2minfo\u001b[22m \u001b[2mmethod=\u001b[22m\u001b[1m\u001b[35mGET\u001b[39m\u001b[22m \u001b[2mpath=\u001b[22m\u001b[32m\"/static/media/IBMPlexMono-Regular.bee53c8c.ttf\"\u001b[39m \u001b[2mhost=\u001b[22m\u001b[2mvast-lowlands-85716.herokuapp.com\u001b[22m \u001b[2mrequest_id=\u001b[22m\u001b[2m423ad9bc-0d69-4e25-8aed-f0b0c9a2470f\u001b[22m \u001b[2mfwd=\u001b[22m\u001b[2m\"92.127.96.55\"\u001b[22m \u001b[2mdyno=\u001b[22m\u001b[36mweb.1\u001b[39m \u001b[2mconnect=\u001b[22m0ms \u001b[2mservice=\u001b[22m\u001b[32m106ms\u001b[39m \u001b[2mstatus=\u001b[22m\u001b[36m304\u001b[39m \u001b[2mbytes=\u001b[22m\u001b[2m364\u001b[22m \u001b[2mprotocol=\u001b[22m\u001b[2mhttps\u001b[22m\n",
            "\u001b[1m\u001b[32m2021-12-15T16:56:58.000000+00:00 app[api]:\u001b[39m\u001b[22m Build started by user \u001b[32mzadrutskiy@yandex.ru\u001b[39m\n",
            "\u001b[1m\u001b[32m2021-12-15T16:58:54.773801+00:00 app[api]:\u001b[39m\u001b[22m Deploy \u001b[36mfd0d5d77\u001b[39m by user \u001b[32mzadrutskiy@yandex.ru\u001b[39m\n",
            "\u001b[1m\u001b[32m2021-12-15T16:58:54.773801+00:00 app[api]:\u001b[39m\u001b[22m Release \u001b[35mv11\u001b[39m created by user \u001b[32mzadrutskiy@yandex.ru\u001b[39m\n",
            "\u001b[36m2021-12-15T16:58:57.605723+00:00 heroku[web.1]:\u001b[39m \u001b[33mRestarting\u001b[39m\n",
            "\u001b[36m2021-12-15T16:58:57.609135+00:00 heroku[web.1]:\u001b[39m State changed from \u001b[92mup\u001b[39m to \u001b[93mstarting\u001b[39m\n",
            "\u001b[36m2021-12-15T16:58:58.318123+00:00 heroku[web.1]:\u001b[39m \u001b[31mStopping all processes with SIGTERM\u001b[39m\n",
            "\u001b[36m2021-12-15T16:58:58.461119+00:00 app[web.1]:\u001b[39m Stopping...\n",
            "\u001b[32m2021-12-15T16:58:58.783283+00:00 heroku[router]:\u001b[39m \u001b[2mat=\u001b[22m\u001b[2minfo\u001b[22m \u001b[2mmethod=\u001b[22m\u001b[1m\u001b[35mGET\u001b[39m\u001b[22m \u001b[2mpath=\u001b[22m\u001b[32m\"/stream\"\u001b[39m \u001b[2mhost=\u001b[22m\u001b[2mvast-lowlands-85716.herokuapp.com\u001b[22m \u001b[2mrequest_id=\u001b[22m\u001b[2m2f62ea70-33b2-4274-91f6-688f7becf576\u001b[22m \u001b[2mfwd=\u001b[22m\u001b[2m\"92.127.96.55\"\u001b[22m \u001b[2mdyno=\u001b[22m\u001b[36mweb.1\u001b[39m \u001b[2mconnect=\u001b[22m0ms \u001b[2mservice=\u001b[22m\u001b[31m288040ms\u001b[39m \u001b[2mstatus=\u001b[22m101 \u001b[2mbytes=\u001b[22m\u001b[2m344\u001b[22m \u001b[2mprotocol=\u001b[22m\u001b[2mhttps\u001b[22m\n",
            "\u001b[36m2021-12-15T16:58:58.976320+00:00 heroku[web.1]:\u001b[39m Process exited with status \u001b[92m0\u001b[39m\n",
            "\u001b[36m2021-12-15T16:59:15.302638+00:00 heroku[web.1]:\u001b[39m Starting process with command \u001b[36m\u001b[1m`sh setup.sh && streamlit run app.py`\u001b[22m\u001b[39m\n",
            "\u001b[36m2021-12-15T16:59:16.594026+00:00 app[web.1]:\u001b[39m 2021-12-15 16:59:16.593\n",
            "\u001b[36m2021-12-15T16:59:16.594042+00:00 app[web.1]:\u001b[39m Warning: the config option 'server.enableCORS=false' is not compatible with 'server.enableXsrfProtection=true'.\n",
            "\u001b[36m2021-12-15T16:59:16.594043+00:00 app[web.1]:\u001b[39m As a result, 'server.enableCORS' is being overridden to 'true'.\n",
            "\u001b[36m2021-12-15T16:59:16.594043+00:00 app[web.1]:\u001b[39m \n",
            "\u001b[36m2021-12-15T16:59:16.594044+00:00 app[web.1]:\u001b[39m More information:\n",
            "\u001b[36m2021-12-15T16:59:16.594044+00:00 app[web.1]:\u001b[39m In order to protect against CSRF attacks, we send a cookie with each request.\n",
            "\u001b[36m2021-12-15T16:59:16.594044+00:00 app[web.1]:\u001b[39m To do so, we must specify allowable origins, which places a restriction on\n",
            "\u001b[36m2021-12-15T16:59:16.594045+00:00 app[web.1]:\u001b[39m cross-origin resource sharing.\n",
            "\u001b[36m2021-12-15T16:59:16.594045+00:00 app[web.1]:\u001b[39m \n",
            "\u001b[36m2021-12-15T16:59:16.594045+00:00 app[web.1]:\u001b[39m If cross origin resource sharing is required, please disable server.enableXsrfProtection.\n",
            "\u001b[36m2021-12-15T16:59:16.594046+00:00 app[web.1]:\u001b[39m \n",
            "\u001b[36m2021-12-15T16:59:19.099710+00:00 app[web.1]:\u001b[39m 2021-12-15 16:59:19.099\n",
            "\u001b[36m2021-12-15T16:59:19.099743+00:00 app[web.1]:\u001b[39m Warning: the config option 'server.enableCORS=false' is not compatible with 'server.enableXsrfProtection=true'.\n",
            "\u001b[36m2021-12-15T16:59:19.099744+00:00 app[web.1]:\u001b[39m As a result, 'server.enableCORS' is being overridden to 'true'.\n",
            "\u001b[36m2021-12-15T16:59:19.099745+00:00 app[web.1]:\u001b[39m \n",
            "\u001b[36m2021-12-15T16:59:19.099745+00:00 app[web.1]:\u001b[39m More information:\n",
            "\u001b[36m2021-12-15T16:59:19.099746+00:00 app[web.1]:\u001b[39m In order to protect against CSRF attacks, we send a cookie with each request.\n",
            "\u001b[36m2021-12-15T16:59:19.099746+00:00 app[web.1]:\u001b[39m To do so, we must specify allowable origins, which places a restriction on\n",
            "\u001b[36m2021-12-15T16:59:19.099747+00:00 app[web.1]:\u001b[39m cross-origin resource sharing.\n",
            "\u001b[36m2021-12-15T16:59:19.099747+00:00 app[web.1]:\u001b[39m \n",
            "\u001b[36m2021-12-15T16:59:19.099748+00:00 app[web.1]:\u001b[39m If cross origin resource sharing is required, please disable server.enableXsrfProtection.\n",
            "\u001b[36m2021-12-15T16:59:19.099748+00:00 app[web.1]:\u001b[39m \n",
            "\u001b[36m2021-12-15T16:59:19.139146+00:00 heroku[web.1]:\u001b[39m State changed from \u001b[93mstarting\u001b[39m to \u001b[92mup\u001b[39m\n",
            "\u001b[36m2021-12-15T16:59:19.600516+00:00 app[web.1]:\u001b[39m 2021-12-15 16:59:19.600 Trying to detect encoding from a tiny portion of (13) byte(s).\n",
            "\u001b[36m2021-12-15T16:59:19.605007+00:00 app[web.1]:\u001b[39m 2021-12-15 16:59:19.604 ascii passed initial chaos probing. Mean measured chaos is 0.000000 %\n",
            "\u001b[36m2021-12-15T16:59:19.605500+00:00 app[web.1]:\u001b[39m 2021-12-15 16:59:19.605 ascii should target any language(s) of ['Latin Based']\n",
            "\u001b[36m2021-12-15T16:59:19.605701+00:00 app[web.1]:\u001b[39m 2021-12-15 16:59:19.605 ascii is most likely the one. Stopping the process.\n",
            "\u001b[36m2021-12-15T16:59:19.605905+00:00 app[web.1]:\u001b[39m \n",
            "\u001b[36m2021-12-15T16:59:19.605945+00:00 app[web.1]:\u001b[39m You can now view your Streamlit app in your browser.\n",
            "\u001b[36m2021-12-15T16:59:19.605989+00:00 app[web.1]:\u001b[39m \n",
            "\u001b[36m2021-12-15T16:59:19.606067+00:00 app[web.1]:\u001b[39m Network URL: http://172.17.226.86:36672\n",
            "\u001b[36m2021-12-15T16:59:19.606143+00:00 app[web.1]:\u001b[39m External URL: http://44.195.37.90:36672\n",
            "\u001b[36m2021-12-15T16:59:19.606169+00:00 app[web.1]:\u001b[39m \n",
            "\u001b[32m2021-12-15T16:59:19.745278+00:00 heroku[router]:\u001b[39m \u001b[2mat=\u001b[22m\u001b[2minfo\u001b[22m \u001b[2mmethod=\u001b[22m\u001b[1m\u001b[35mGET\u001b[39m\u001b[22m \u001b[2mpath=\u001b[22m\u001b[32m\"/healthz\"\u001b[39m \u001b[2mhost=\u001b[22m\u001b[2mvast-lowlands-85716.herokuapp.com\u001b[22m \u001b[2mrequest_id=\u001b[22m\u001b[2m98fe6643-34ff-451f-84b1-30ceb4bbd1f7\u001b[22m \u001b[2mfwd=\u001b[22m\u001b[2m\"92.127.96.55\"\u001b[22m \u001b[2mdyno=\u001b[22m\u001b[36mweb.1\u001b[39m \u001b[2mconnect=\u001b[22m0ms \u001b[2mservice=\u001b[22m\u001b[92m2ms\u001b[39m \u001b[2mstatus=\u001b[22m\u001b[32m200\u001b[39m \u001b[2mbytes=\u001b[22m\u001b[2m375\u001b[22m \u001b[2mprotocol=\u001b[22m\u001b[2mhttps\u001b[22m\n",
            "\u001b[32m2021-12-15T16:59:19.748864+00:00 heroku[router]:\u001b[39m \u001b[2mat=\u001b[22m\u001b[2minfo\u001b[22m \u001b[2mmethod=\u001b[22m\u001b[1m\u001b[35mGET\u001b[39m\u001b[22m \u001b[2mpath=\u001b[22m\u001b[32m\"/healthz\"\u001b[39m \u001b[2mhost=\u001b[22m\u001b[2mvast-lowlands-85716.herokuapp.com\u001b[22m \u001b[2mrequest_id=\u001b[22m\u001b[2meed338d0-ea42-46ea-8e4d-8154a2c089e0\u001b[22m \u001b[2mfwd=\u001b[22m\u001b[2m\"92.127.96.55\"\u001b[22m \u001b[2mdyno=\u001b[22m\u001b[36mweb.1\u001b[39m \u001b[2mconnect=\u001b[22m0ms \u001b[2mservice=\u001b[22m\u001b[92m1ms\u001b[39m \u001b[2mstatus=\u001b[22m\u001b[32m200\u001b[39m \u001b[2mbytes=\u001b[22m\u001b[2m375\u001b[22m \u001b[2mprotocol=\u001b[22m\u001b[2mhttps\u001b[22m\n",
            "\u001b[32m2021-12-15T16:59:19.755590+00:00 heroku[router]:\u001b[39m \u001b[2mat=\u001b[22m\u001b[2minfo\u001b[22m \u001b[2mmethod=\u001b[22m\u001b[1m\u001b[35mGET\u001b[39m\u001b[22m \u001b[2mpath=\u001b[22m\u001b[32m\"/healthz\"\u001b[39m \u001b[2mhost=\u001b[22m\u001b[2mvast-lowlands-85716.herokuapp.com\u001b[22m \u001b[2mrequest_id=\u001b[22m\u001b[2m4dddcce7-c3e7-4c72-989d-520057bae493\u001b[22m \u001b[2mfwd=\u001b[22m\u001b[2m\"92.127.96.55\"\u001b[22m \u001b[2mdyno=\u001b[22m\u001b[36mweb.1\u001b[39m \u001b[2mconnect=\u001b[22m0ms \u001b[2mservice=\u001b[22m\u001b[92m2ms\u001b[39m \u001b[2mstatus=\u001b[22m\u001b[32m200\u001b[39m \u001b[2mbytes=\u001b[22m\u001b[2m375\u001b[22m \u001b[2mprotocol=\u001b[22m\u001b[2mhttps\u001b[22m\n",
            "\u001b[32m2021-12-15T16:59:19.762022+00:00 heroku[router]:\u001b[39m \u001b[2mat=\u001b[22m\u001b[2minfo\u001b[22m \u001b[2mmethod=\u001b[22m\u001b[1m\u001b[35mGET\u001b[39m\u001b[22m \u001b[2mpath=\u001b[22m\u001b[32m\"/healthz\"\u001b[39m \u001b[2mhost=\u001b[22m\u001b[2mvast-lowlands-85716.herokuapp.com\u001b[22m \u001b[2mrequest_id=\u001b[22m\u001b[2m4e232977-bf30-4cc7-8657-32afe01cf1df\u001b[22m \u001b[2mfwd=\u001b[22m\u001b[2m\"92.127.96.55\"\u001b[22m \u001b[2mdyno=\u001b[22m\u001b[36mweb.1\u001b[39m \u001b[2mconnect=\u001b[22m0ms \u001b[2mservice=\u001b[22m\u001b[92m2ms\u001b[39m \u001b[2mstatus=\u001b[22m\u001b[32m200\u001b[39m \u001b[2mbytes=\u001b[22m\u001b[2m375\u001b[22m \u001b[2mprotocol=\u001b[22m\u001b[2mhttps\u001b[22m\n",
            "\u001b[32m2021-12-15T16:59:19.781056+00:00 heroku[router]:\u001b[39m \u001b[2mat=\u001b[22m\u001b[2minfo\u001b[22m \u001b[2mmethod=\u001b[22m\u001b[1m\u001b[35mGET\u001b[39m\u001b[22m \u001b[2mpath=\u001b[22m\u001b[32m\"/healthz\"\u001b[39m \u001b[2mhost=\u001b[22m\u001b[2mvast-lowlands-85716.herokuapp.com\u001b[22m \u001b[2mrequest_id=\u001b[22m\u001b[2m18dcccbf-66fb-471c-9e02-92956e34139a\u001b[22m \u001b[2mfwd=\u001b[22m\u001b[2m\"92.127.96.55\"\u001b[22m \u001b[2mdyno=\u001b[22m\u001b[36mweb.1\u001b[39m \u001b[2mconnect=\u001b[22m\u001b[92m1ms\u001b[39m \u001b[2mservice=\u001b[22m\u001b[92m2ms\u001b[39m \u001b[2mstatus=\u001b[22m\u001b[32m200\u001b[39m \u001b[2mbytes=\u001b[22m\u001b[2m375\u001b[22m \u001b[2mprotocol=\u001b[22m\u001b[2mhttps\u001b[22m\n",
            "\u001b[32m2021-12-15T16:59:20.417399+00:00 heroku[router]:\u001b[39m \u001b[2mat=\u001b[22m\u001b[2minfo\u001b[22m \u001b[2mmethod=\u001b[22m\u001b[1m\u001b[35mGET\u001b[39m\u001b[22m \u001b[2mpath=\u001b[22m\u001b[32m\"/healthz\"\u001b[39m \u001b[2mhost=\u001b[22m\u001b[2mvast-lowlands-85716.herokuapp.com\u001b[22m \u001b[2mrequest_id=\u001b[22m\u001b[2m6ae01774-24a6-4d33-9fa0-14ddba44095d\u001b[22m \u001b[2mfwd=\u001b[22m\u001b[2m\"92.127.96.55\"\u001b[22m \u001b[2mdyno=\u001b[22m\u001b[36mweb.1\u001b[39m \u001b[2mconnect=\u001b[22m0ms \u001b[2mservice=\u001b[22m\u001b[92m8ms\u001b[39m \u001b[2mstatus=\u001b[22m\u001b[32m200\u001b[39m \u001b[2mbytes=\u001b[22m\u001b[2m375\u001b[22m \u001b[2mprotocol=\u001b[22m\u001b[2mhttps\u001b[22m\n",
            "\u001b[32m2021-12-15T16:59:20.743516+00:00 heroku[router]:\u001b[39m \u001b[2mat=\u001b[22m\u001b[2minfo\u001b[22m \u001b[2mmethod=\u001b[22m\u001b[1m\u001b[35mGET\u001b[39m\u001b[22m \u001b[2mpath=\u001b[22m\u001b[32m\"/healthz\"\u001b[39m \u001b[2mhost=\u001b[22m\u001b[2mvast-lowlands-85716.herokuapp.com\u001b[22m \u001b[2mrequest_id=\u001b[22m\u001b[2m82822d0d-ef46-491f-a5c3-085d9d38cc22\u001b[22m \u001b[2mfwd=\u001b[22m\u001b[2m\"92.127.96.55\"\u001b[22m \u001b[2mdyno=\u001b[22m\u001b[36mweb.1\u001b[39m \u001b[2mconnect=\u001b[22m0ms \u001b[2mservice=\u001b[22m\u001b[92m1ms\u001b[39m \u001b[2mstatus=\u001b[22m\u001b[32m200\u001b[39m \u001b[2mbytes=\u001b[22m\u001b[2m375\u001b[22m \u001b[2mprotocol=\u001b[22m\u001b[2mhttps\u001b[22m\n",
            "\u001b[32m2021-12-15T16:59:20.874576+00:00 heroku[router]:\u001b[39m \u001b[2mat=\u001b[22m\u001b[2minfo\u001b[22m \u001b[2mmethod=\u001b[22m\u001b[1m\u001b[35mGET\u001b[39m\u001b[22m \u001b[2mpath=\u001b[22m\u001b[32m\"/healthz\"\u001b[39m \u001b[2mhost=\u001b[22m\u001b[2mvast-lowlands-85716.herokuapp.com\u001b[22m \u001b[2mrequest_id=\u001b[22m\u001b[2m07e65f01-6873-49ab-8ae6-d43bbf7cbc41\u001b[22m \u001b[2mfwd=\u001b[22m\u001b[2m\"92.127.96.55\"\u001b[22m \u001b[2mdyno=\u001b[22m\u001b[36mweb.1\u001b[39m \u001b[2mconnect=\u001b[22m0ms \u001b[2mservice=\u001b[22m\u001b[32m117ms\u001b[39m \u001b[2mstatus=\u001b[22m\u001b[32m200\u001b[39m \u001b[2mbytes=\u001b[22m\u001b[2m375\u001b[22m \u001b[2mprotocol=\u001b[22m\u001b[2mhttps\u001b[22m\n",
            "\u001b[32m2021-12-15T16:59:20.876319+00:00 heroku[router]:\u001b[39m \u001b[2mat=\u001b[22m\u001b[2minfo\u001b[22m \u001b[2mmethod=\u001b[22m\u001b[1m\u001b[35mGET\u001b[39m\u001b[22m \u001b[2mpath=\u001b[22m\u001b[32m\"/healthz\"\u001b[39m \u001b[2mhost=\u001b[22m\u001b[2mvast-lowlands-85716.herokuapp.com\u001b[22m \u001b[2mrequest_id=\u001b[22m\u001b[2mf84c5265-4b2e-48c7-8fb7-1fc9af3cdabf\u001b[22m \u001b[2mfwd=\u001b[22m\u001b[2m\"92.127.96.55\"\u001b[22m \u001b[2mdyno=\u001b[22m\u001b[36mweb.1\u001b[39m \u001b[2mconnect=\u001b[22m0ms \u001b[2mservice=\u001b[22m\u001b[32m110ms\u001b[39m \u001b[2mstatus=\u001b[22m\u001b[32m200\u001b[39m \u001b[2mbytes=\u001b[22m\u001b[2m375\u001b[22m \u001b[2mprotocol=\u001b[22m\u001b[2mhttps\u001b[22m\n",
            "\u001b[32m2021-12-15T16:59:20.902616+00:00 heroku[router]:\u001b[39m \u001b[2mat=\u001b[22m\u001b[2minfo\u001b[22m \u001b[2mmethod=\u001b[22m\u001b[1m\u001b[35mGET\u001b[39m\u001b[22m \u001b[2mpath=\u001b[22m\u001b[32m\"/healthz\"\u001b[39m \u001b[2mhost=\u001b[22m\u001b[2mvast-lowlands-85716.herokuapp.com\u001b[22m \u001b[2mrequest_id=\u001b[22m\u001b[2m4e62d5ec-fd8d-433c-8d5e-0b4d1b5281c1\u001b[22m \u001b[2mfwd=\u001b[22m\u001b[2m\"92.127.96.55\"\u001b[22m \u001b[2mdyno=\u001b[22m\u001b[36mweb.1\u001b[39m \u001b[2mconnect=\u001b[22m0ms \u001b[2mservice=\u001b[22m\u001b[32m124ms\u001b[39m \u001b[2mstatus=\u001b[22m\u001b[32m200\u001b[39m \u001b[2mbytes=\u001b[22m\u001b[2m375\u001b[22m \u001b[2mprotocol=\u001b[22m\u001b[2mhttps\u001b[22m\n",
            "\u001b[32m2021-12-15T16:59:20.904491+00:00 heroku[router]:\u001b[39m \u001b[2mat=\u001b[22m\u001b[2minfo\u001b[22m \u001b[2mmethod=\u001b[22m\u001b[1m\u001b[35mGET\u001b[39m\u001b[22m \u001b[2mpath=\u001b[22m\u001b[32m\"/healthz\"\u001b[39m \u001b[2mhost=\u001b[22m\u001b[2mvast-lowlands-85716.herokuapp.com\u001b[22m \u001b[2mrequest_id=\u001b[22m\u001b[2m3d71313f-dcde-47ef-b1c4-0089a669fecb\u001b[22m \u001b[2mfwd=\u001b[22m\u001b[2m\"92.127.96.55\"\u001b[22m \u001b[2mdyno=\u001b[22m\u001b[36mweb.1\u001b[39m \u001b[2mconnect=\u001b[22m0ms \u001b[2mservice=\u001b[22m\u001b[32m132ms\u001b[39m \u001b[2mstatus=\u001b[22m\u001b[32m200\u001b[39m \u001b[2mbytes=\u001b[22m\u001b[2m375\u001b[22m \u001b[2mprotocol=\u001b[22m\u001b[2mhttps\u001b[22m\n",
            "\u001b[32m2021-12-15T16:59:21.509903+00:00 heroku[router]:\u001b[39m \u001b[2mat=\u001b[22m\u001b[2minfo\u001b[22m \u001b[2mmethod=\u001b[22m\u001b[1m\u001b[35mGET\u001b[39m\u001b[22m \u001b[2mpath=\u001b[22m\u001b[32m\"/healthz\"\u001b[39m \u001b[2mhost=\u001b[22m\u001b[2mvast-lowlands-85716.herokuapp.com\u001b[22m \u001b[2mrequest_id=\u001b[22m\u001b[2md82c496d-8825-495e-99ae-1de76bd09700\u001b[22m \u001b[2mfwd=\u001b[22m\u001b[2m\"92.127.96.55\"\u001b[22m \u001b[2mdyno=\u001b[22m\u001b[36mweb.1\u001b[39m \u001b[2mconnect=\u001b[22m0ms \u001b[2mservice=\u001b[22m\u001b[92m2ms\u001b[39m \u001b[2mstatus=\u001b[22m\u001b[32m200\u001b[39m \u001b[2mbytes=\u001b[22m\u001b[2m375\u001b[22m \u001b[2mprotocol=\u001b[22m\u001b[2mhttps\u001b[22m\n",
            "\u001b[32m2021-12-15T16:59:22.760887+00:00 heroku[router]:\u001b[39m \u001b[2mat=\u001b[22m\u001b[2minfo\u001b[22m \u001b[2mmethod=\u001b[22m\u001b[1m\u001b[35mGET\u001b[39m\u001b[22m \u001b[2mpath=\u001b[22m\u001b[32m\"/healthz\"\u001b[39m \u001b[2mhost=\u001b[22m\u001b[2mvast-lowlands-85716.herokuapp.com\u001b[22m \u001b[2mrequest_id=\u001b[22m\u001b[2mf6d1d9e6-4c84-4d5e-8e27-2af4841c7181\u001b[22m \u001b[2mfwd=\u001b[22m\u001b[2m\"92.127.96.55\"\u001b[22m \u001b[2mdyno=\u001b[22m\u001b[36mweb.1\u001b[39m \u001b[2mconnect=\u001b[22m0ms \u001b[2mservice=\u001b[22m\u001b[92m4ms\u001b[39m \u001b[2mstatus=\u001b[22m\u001b[32m200\u001b[39m \u001b[2mbytes=\u001b[22m\u001b[2m375\u001b[22m \u001b[2mprotocol=\u001b[22m\u001b[2mhttps\u001b[22m\n",
            "\u001b[36m2021-12-15T16:59:24.023975+00:00 app[web.1]:\u001b[39m 2021-12-15 16:59:24.023912: I tensorflow/core/platform/cpu_feature_guard.cc:142] This TensorFlow binary is optimized with oneAPI Deep Neural Network Library (oneDNN) to use the following CPU instructions in performance-critical operations:  AVX2 AVX512F FMA\n",
            "\u001b[36m2021-12-15T16:59:24.023985+00:00 app[web.1]:\u001b[39m To enable them in other operations, rebuild TensorFlow with the appropriate compiler flags.\n",
            "\u001b[32m2021-12-15T16:59:24.733146+00:00 heroku[router]:\u001b[39m \u001b[2mat=\u001b[22m\u001b[2minfo\u001b[22m \u001b[2mmethod=\u001b[22m\u001b[1m\u001b[35mGET\u001b[39m\u001b[22m \u001b[2mpath=\u001b[22m\u001b[32m\"/healthz\"\u001b[39m \u001b[2mhost=\u001b[22m\u001b[2mvast-lowlands-85716.herokuapp.com\u001b[22m \u001b[2mrequest_id=\u001b[22m\u001b[2ma2f1780b-7906-4ea2-b3a3-627a7ca03543\u001b[22m \u001b[2mfwd=\u001b[22m\u001b[2m\"92.127.96.55\"\u001b[22m \u001b[2mdyno=\u001b[22m\u001b[36mweb.1\u001b[39m \u001b[2mconnect=\u001b[22m0ms \u001b[2mservice=\u001b[22m\u001b[92m1ms\u001b[39m \u001b[2mstatus=\u001b[22m\u001b[32m200\u001b[39m \u001b[2mbytes=\u001b[22m\u001b[2m375\u001b[22m \u001b[2mprotocol=\u001b[22m\u001b[2mhttps\u001b[22m\n",
            "\u001b[32m2021-12-15T16:59:26.761550+00:00 heroku[router]:\u001b[39m \u001b[2mat=\u001b[22m\u001b[2minfo\u001b[22m \u001b[2mmethod=\u001b[22m\u001b[1m\u001b[35mGET\u001b[39m\u001b[22m \u001b[2mpath=\u001b[22m\u001b[32m\"/healthz\"\u001b[39m \u001b[2mhost=\u001b[22m\u001b[2mvast-lowlands-85716.herokuapp.com\u001b[22m \u001b[2mrequest_id=\u001b[22m\u001b[2mc4ed26fb-bf59-40ec-baae-98bfcbe10c3c\u001b[22m \u001b[2mfwd=\u001b[22m\u001b[2m\"92.127.96.55\"\u001b[22m \u001b[2mdyno=\u001b[22m\u001b[36mweb.1\u001b[39m \u001b[2mconnect=\u001b[22m0ms \u001b[2mservice=\u001b[22m\u001b[92m1ms\u001b[39m \u001b[2mstatus=\u001b[22m\u001b[32m200\u001b[39m \u001b[2mbytes=\u001b[22m\u001b[2m375\u001b[22m \u001b[2mprotocol=\u001b[22m\u001b[2mhttps\u001b[22m\n",
            "\u001b[32m2021-12-15T16:59:28.788898+00:00 heroku[router]:\u001b[39m \u001b[2mat=\u001b[22m\u001b[2minfo\u001b[22m \u001b[2mmethod=\u001b[22m\u001b[1m\u001b[35mGET\u001b[39m\u001b[22m \u001b[2mpath=\u001b[22m\u001b[32m\"/healthz\"\u001b[39m \u001b[2mhost=\u001b[22m\u001b[2mvast-lowlands-85716.herokuapp.com\u001b[22m \u001b[2mrequest_id=\u001b[22m\u001b[2m7d4c10ee-9604-4996-9e67-4abb5ee1dc3d\u001b[22m \u001b[2mfwd=\u001b[22m\u001b[2m\"92.127.96.55\"\u001b[22m \u001b[2mdyno=\u001b[22m\u001b[36mweb.1\u001b[39m \u001b[2mconnect=\u001b[22m0ms \u001b[2mservice=\u001b[22m\u001b[92m5ms\u001b[39m \u001b[2mstatus=\u001b[22m\u001b[32m200\u001b[39m \u001b[2mbytes=\u001b[22m\u001b[2m375\u001b[22m \u001b[2mprotocol=\u001b[22m\u001b[2mhttps\u001b[22m\n",
            "\u001b[32m2021-12-15T16:59:30.763202+00:00 heroku[router]:\u001b[39m \u001b[2mat=\u001b[22m\u001b[2minfo\u001b[22m \u001b[2mmethod=\u001b[22m\u001b[1m\u001b[35mGET\u001b[39m\u001b[22m \u001b[2mpath=\u001b[22m\u001b[32m\"/healthz\"\u001b[39m \u001b[2mhost=\u001b[22m\u001b[2mvast-lowlands-85716.herokuapp.com\u001b[22m \u001b[2mrequest_id=\u001b[22m\u001b[2m61d4b3f3-b93e-414d-97de-95ac2ede3b7c\u001b[22m \u001b[2mfwd=\u001b[22m\u001b[2m\"92.127.96.55\"\u001b[22m \u001b[2mdyno=\u001b[22m\u001b[36mweb.1\u001b[39m \u001b[2mconnect=\u001b[22m0ms \u001b[2mservice=\u001b[22m\u001b[92m4ms\u001b[39m \u001b[2mstatus=\u001b[22m\u001b[32m200\u001b[39m \u001b[2mbytes=\u001b[22m\u001b[2m375\u001b[22m \u001b[2mprotocol=\u001b[22m\u001b[2mhttps\u001b[22m\n",
            "\u001b[32m2021-12-15T16:59:32.758221+00:00 heroku[router]:\u001b[39m \u001b[2mat=\u001b[22m\u001b[2minfo\u001b[22m \u001b[2mmethod=\u001b[22m\u001b[1m\u001b[35mGET\u001b[39m\u001b[22m \u001b[2mpath=\u001b[22m\u001b[32m\"/healthz\"\u001b[39m \u001b[2mhost=\u001b[22m\u001b[2mvast-lowlands-85716.herokuapp.com\u001b[22m \u001b[2mrequest_id=\u001b[22m\u001b[2ma43c2fd9-c7a5-4bae-8849-e59d8bd74206\u001b[22m \u001b[2mfwd=\u001b[22m\u001b[2m\"92.127.96.55\"\u001b[22m \u001b[2mdyno=\u001b[22m\u001b[36mweb.1\u001b[39m \u001b[2mconnect=\u001b[22m0ms \u001b[2mservice=\u001b[22m\u001b[92m1ms\u001b[39m \u001b[2mstatus=\u001b[22m\u001b[32m200\u001b[39m \u001b[2mbytes=\u001b[22m\u001b[2m375\u001b[22m \u001b[2mprotocol=\u001b[22m\u001b[2mhttps\u001b[22m\n",
            "\u001b[32m2021-12-15T16:59:34.768278+00:00 heroku[router]:\u001b[39m \u001b[2mat=\u001b[22m\u001b[2minfo\u001b[22m \u001b[2mmethod=\u001b[22m\u001b[1m\u001b[35mGET\u001b[39m\u001b[22m \u001b[2mpath=\u001b[22m\u001b[32m\"/healthz\"\u001b[39m \u001b[2mhost=\u001b[22m\u001b[2mvast-lowlands-85716.herokuapp.com\u001b[22m \u001b[2mrequest_id=\u001b[22m\u001b[2m0b8c3ad5-238f-4f0d-a191-2c2487c573fa\u001b[22m \u001b[2mfwd=\u001b[22m\u001b[2m\"92.127.96.55\"\u001b[22m \u001b[2mdyno=\u001b[22m\u001b[36mweb.1\u001b[39m \u001b[2mconnect=\u001b[22m0ms \u001b[2mservice=\u001b[22m\u001b[92m1ms\u001b[39m \u001b[2mstatus=\u001b[22m\u001b[32m200\u001b[39m \u001b[2mbytes=\u001b[22m\u001b[2m375\u001b[22m \u001b[2mprotocol=\u001b[22m\u001b[2mhttps\u001b[22m\n",
            "\u001b[32m2021-12-15T16:59:36.759357+00:00 heroku[router]:\u001b[39m \u001b[2mat=\u001b[22m\u001b[2minfo\u001b[22m \u001b[2mmethod=\u001b[22m\u001b[1m\u001b[35mGET\u001b[39m\u001b[22m \u001b[2mpath=\u001b[22m\u001b[32m\"/healthz\"\u001b[39m \u001b[2mhost=\u001b[22m\u001b[2mvast-lowlands-85716.herokuapp.com\u001b[22m \u001b[2mrequest_id=\u001b[22m\u001b[2mbf12dd95-ea59-4c12-a3e1-c60e65f8e506\u001b[22m \u001b[2mfwd=\u001b[22m\u001b[2m\"92.127.96.55\"\u001b[22m \u001b[2mdyno=\u001b[22m\u001b[36mweb.1\u001b[39m \u001b[2mconnect=\u001b[22m0ms \u001b[2mservice=\u001b[22m\u001b[92m1ms\u001b[39m \u001b[2mstatus=\u001b[22m\u001b[32m200\u001b[39m \u001b[2mbytes=\u001b[22m\u001b[2m375\u001b[22m \u001b[2mprotocol=\u001b[22m\u001b[2mhttps\u001b[22m\n",
            "\u001b[32m2021-12-15T16:59:38.735175+00:00 heroku[router]:\u001b[39m \u001b[2mat=\u001b[22m\u001b[2minfo\u001b[22m \u001b[2mmethod=\u001b[22m\u001b[1m\u001b[35mGET\u001b[39m\u001b[22m \u001b[2mpath=\u001b[22m\u001b[32m\"/healthz\"\u001b[39m \u001b[2mhost=\u001b[22m\u001b[2mvast-lowlands-85716.herokuapp.com\u001b[22m \u001b[2mrequest_id=\u001b[22m\u001b[2mb525fea6-c0ff-44ea-a0d0-019e02caf9b4\u001b[22m \u001b[2mfwd=\u001b[22m\u001b[2m\"92.127.96.55\"\u001b[22m \u001b[2mdyno=\u001b[22m\u001b[36mweb.1\u001b[39m \u001b[2mconnect=\u001b[22m0ms \u001b[2mservice=\u001b[22m\u001b[92m1ms\u001b[39m \u001b[2mstatus=\u001b[22m\u001b[32m200\u001b[39m \u001b[2mbytes=\u001b[22m\u001b[2m375\u001b[22m \u001b[2mprotocol=\u001b[22m\u001b[2mhttps\u001b[22m\n",
            "\u001b[32m2021-12-15T16:59:40.751759+00:00 heroku[router]:\u001b[39m \u001b[2mat=\u001b[22m\u001b[2minfo\u001b[22m \u001b[2mmethod=\u001b[22m\u001b[1m\u001b[35mGET\u001b[39m\u001b[22m \u001b[2mpath=\u001b[22m\u001b[32m\"/healthz\"\u001b[39m \u001b[2mhost=\u001b[22m\u001b[2mvast-lowlands-85716.herokuapp.com\u001b[22m \u001b[2mrequest_id=\u001b[22m\u001b[2m160c41a3-4899-42b9-bafe-5d563c81c2ff\u001b[22m \u001b[2mfwd=\u001b[22m\u001b[2m\"92.127.96.55\"\u001b[22m \u001b[2mdyno=\u001b[22m\u001b[36mweb.1\u001b[39m \u001b[2mconnect=\u001b[22m0ms \u001b[2mservice=\u001b[22m\u001b[92m1ms\u001b[39m \u001b[2mstatus=\u001b[22m\u001b[32m200\u001b[39m \u001b[2mbytes=\u001b[22m\u001b[2m375\u001b[22m \u001b[2mprotocol=\u001b[22m\u001b[2mhttps\u001b[22m\n",
            "\u001b[32m2021-12-15T16:59:41.781551+00:00 heroku[router]:\u001b[39m \u001b[2mat=\u001b[22m\u001b[2minfo\u001b[22m \u001b[2mmethod=\u001b[22m\u001b[1m\u001b[35mGET\u001b[39m\u001b[22m \u001b[2mpath=\u001b[22m\u001b[32m\"/healthz\"\u001b[39m \u001b[2mhost=\u001b[22m\u001b[2mvast-lowlands-85716.herokuapp.com\u001b[22m \u001b[2mrequest_id=\u001b[22m\u001b[2m41e0b778-cfa2-4bad-a7d9-3b302c7c415b\u001b[22m \u001b[2mfwd=\u001b[22m\u001b[2m\"92.127.96.55\"\u001b[22m \u001b[2mdyno=\u001b[22m\u001b[36mweb.1\u001b[39m \u001b[2mconnect=\u001b[22m0ms \u001b[2mservice=\u001b[22m\u001b[92m2ms\u001b[39m \u001b[2mstatus=\u001b[22m\u001b[32m200\u001b[39m \u001b[2mbytes=\u001b[22m\u001b[2m375\u001b[22m \u001b[2mprotocol=\u001b[22m\u001b[2mhttps\u001b[22m\n",
            "\u001b[32m2021-12-15T16:59:44.041856+00:00 heroku[router]:\u001b[39m \u001b[2mat=\u001b[22m\u001b[2minfo\u001b[22m \u001b[2mmethod=\u001b[22m\u001b[1m\u001b[35mGET\u001b[39m\u001b[22m \u001b[2mpath=\u001b[22m\u001b[32m\"/\"\u001b[39m \u001b[2mhost=\u001b[22m\u001b[2mvast-lowlands-85716.herokuapp.com\u001b[22m \u001b[2mrequest_id=\u001b[22m\u001b[2me7437514-d60d-4ff9-bdf4-645bc5b83e43\u001b[22m \u001b[2mfwd=\u001b[22m\u001b[2m\"92.127.96.55\"\u001b[22m \u001b[2mdyno=\u001b[22m\u001b[36mweb.1\u001b[39m \u001b[2mconnect=\u001b[22m0ms \u001b[2mservice=\u001b[22m\u001b[92m3ms\u001b[39m \u001b[2mstatus=\u001b[22m\u001b[36m304\u001b[39m \u001b[2mbytes=\u001b[22m\u001b[2m366\u001b[22m \u001b[2mprotocol=\u001b[22m\u001b[2mhttps\u001b[22m\n",
            "\u001b[32m2021-12-15T16:59:44.247578+00:00 heroku[router]:\u001b[39m \u001b[2mat=\u001b[22m\u001b[2minfo\u001b[22m \u001b[2mmethod=\u001b[22m\u001b[1m\u001b[35mGET\u001b[39m\u001b[22m \u001b[2mpath=\u001b[22m\u001b[32m\"/static/css/main.e190763c.chunk.css\"\u001b[39m \u001b[2mhost=\u001b[22m\u001b[2mvast-lowlands-85716.herokuapp.com\u001b[22m \u001b[2mrequest_id=\u001b[22m\u001b[2m8724930d-6606-44fc-ba64-a592ce4cee98\u001b[22m \u001b[2mfwd=\u001b[22m\u001b[2m\"92.127.96.55\"\u001b[22m \u001b[2mdyno=\u001b[22m\u001b[36mweb.1\u001b[39m \u001b[2mconnect=\u001b[22m0ms \u001b[2mservice=\u001b[22m\u001b[92m1ms\u001b[39m \u001b[2mstatus=\u001b[22m\u001b[36m304\u001b[39m \u001b[2mbytes=\u001b[22m\u001b[2m364\u001b[22m \u001b[2mprotocol=\u001b[22m\u001b[2mhttps\u001b[22m\n",
            "\u001b[32m2021-12-15T16:59:44.254199+00:00 heroku[router]:\u001b[39m \u001b[2mat=\u001b[22m\u001b[2minfo\u001b[22m \u001b[2mmethod=\u001b[22m\u001b[1m\u001b[35mGET\u001b[39m\u001b[22m \u001b[2mpath=\u001b[22m\u001b[32m\"/static/css/5.cbc425bc.chunk.css\"\u001b[39m \u001b[2mhost=\u001b[22m\u001b[2mvast-lowlands-85716.herokuapp.com\u001b[22m \u001b[2mrequest_id=\u001b[22m\u001b[2m0e6e56c7-da08-410b-a795-527e265f1536\u001b[22m \u001b[2mfwd=\u001b[22m\u001b[2m\"92.127.96.55\"\u001b[22m \u001b[2mdyno=\u001b[22m\u001b[36mweb.1\u001b[39m \u001b[2mconnect=\u001b[22m0ms \u001b[2mservice=\u001b[22m\u001b[92m3ms\u001b[39m \u001b[2mstatus=\u001b[22m\u001b[36m304\u001b[39m \u001b[2mbytes=\u001b[22m\u001b[2m364\u001b[22m \u001b[2mprotocol=\u001b[22m\u001b[2mhttps\u001b[22m\n",
            "\u001b[32m2021-12-15T16:59:44.442479+00:00 heroku[router]:\u001b[39m \u001b[2mat=\u001b[22m\u001b[2minfo\u001b[22m \u001b[2mmethod=\u001b[22m\u001b[1m\u001b[35mGET\u001b[39m\u001b[22m \u001b[2mpath=\u001b[22m\u001b[32m\"/static/js/main.cae71b2a.chunk.js\"\u001b[39m \u001b[2mhost=\u001b[22m\u001b[2mvast-lowlands-85716.herokuapp.com\u001b[22m \u001b[2mrequest_id=\u001b[22m\u001b[2m8eed98f3-6e01-4917-801d-c8fe9912c2e5\u001b[22m \u001b[2mfwd=\u001b[22m\u001b[2m\"92.127.96.55\"\u001b[22m \u001b[2mdyno=\u001b[22m\u001b[36mweb.1\u001b[39m \u001b[2mconnect=\u001b[22m0ms \u001b[2mservice=\u001b[22m\u001b[92m7ms\u001b[39m \u001b[2mstatus=\u001b[22m\u001b[36m304\u001b[39m \u001b[2mbytes=\u001b[22m\u001b[2m364\u001b[22m \u001b[2mprotocol=\u001b[22m\u001b[2mhttps\u001b[22m\n",
            "\u001b[32m2021-12-15T16:59:44.444429+00:00 heroku[router]:\u001b[39m \u001b[2mat=\u001b[22m\u001b[2minfo\u001b[22m \u001b[2mmethod=\u001b[22m\u001b[1m\u001b[35mGET\u001b[39m\u001b[22m \u001b[2mpath=\u001b[22m\u001b[32m\"/static/js/5.d3fb5f21.chunk.js\"\u001b[39m \u001b[2mhost=\u001b[22m\u001b[2mvast-lowlands-85716.herokuapp.com\u001b[22m \u001b[2mrequest_id=\u001b[22m\u001b[2mb3bf3ff4-290d-4fb0-a604-f07a039943d8\u001b[22m \u001b[2mfwd=\u001b[22m\u001b[2m\"92.127.96.55\"\u001b[22m \u001b[2mdyno=\u001b[22m\u001b[36mweb.1\u001b[39m \u001b[2mconnect=\u001b[22m0ms \u001b[2mservice=\u001b[22m\u001b[92m14ms\u001b[39m \u001b[2mstatus=\u001b[22m\u001b[36m304\u001b[39m \u001b[2mbytes=\u001b[22m\u001b[2m364\u001b[22m \u001b[2mprotocol=\u001b[22m\u001b[2mhttps\u001b[22m\n",
            "\u001b[32m2021-12-15T16:59:45.521426+00:00 heroku[router]:\u001b[39m \u001b[2mat=\u001b[22m\u001b[2minfo\u001b[22m \u001b[2mmethod=\u001b[22m\u001b[1m\u001b[35mGET\u001b[39m\u001b[22m \u001b[2mpath=\u001b[22m\u001b[32m\"/static/media/IBMPlexSans-Regular.71a4981f.ttf\"\u001b[39m \u001b[2mhost=\u001b[22m\u001b[2mvast-lowlands-85716.herokuapp.com\u001b[22m \u001b[2mrequest_id=\u001b[22m\u001b[2mb23e9aa4-1398-44d4-b285-f0325b90da79\u001b[22m \u001b[2mfwd=\u001b[22m\u001b[2m\"92.127.96.55\"\u001b[22m \u001b[2mdyno=\u001b[22m\u001b[36mweb.1\u001b[39m \u001b[2mconnect=\u001b[22m0ms \u001b[2mservice=\u001b[22m\u001b[92m1ms\u001b[39m \u001b[2mstatus=\u001b[22m\u001b[36m304\u001b[39m \u001b[2mbytes=\u001b[22m\u001b[2m364\u001b[22m \u001b[2mprotocol=\u001b[22m\u001b[2mhttps\u001b[22m\n",
            "\u001b[32m2021-12-15T16:59:45.734008+00:00 heroku[router]:\u001b[39m \u001b[2mat=\u001b[22m\u001b[2minfo\u001b[22m \u001b[2mmethod=\u001b[22m\u001b[1m\u001b[35mGET\u001b[39m\u001b[22m \u001b[2mpath=\u001b[22m\u001b[32m\"/favicon.png\"\u001b[39m \u001b[2mhost=\u001b[22m\u001b[2mvast-lowlands-85716.herokuapp.com\u001b[22m \u001b[2mrequest_id=\u001b[22m\u001b[2m76be9c46-7276-4869-82e3-2fe1f93b26b1\u001b[22m \u001b[2mfwd=\u001b[22m\u001b[2m\"92.127.96.55\"\u001b[22m \u001b[2mdyno=\u001b[22m\u001b[36mweb.1\u001b[39m \u001b[2mconnect=\u001b[22m0ms \u001b[2mservice=\u001b[22m\u001b[92m1ms\u001b[39m \u001b[2mstatus=\u001b[22m\u001b[36m304\u001b[39m \u001b[2mbytes=\u001b[22m\u001b[2m364\u001b[22m \u001b[2mprotocol=\u001b[22m\u001b[2mhttps\u001b[22m\n",
            "\u001b[32m2021-12-15T16:59:46.185115+00:00 heroku[router]:\u001b[39m \u001b[2mat=\u001b[22m\u001b[2minfo\u001b[22m \u001b[2mmethod=\u001b[22m\u001b[1m\u001b[35mGET\u001b[39m\u001b[22m \u001b[2mpath=\u001b[22m\u001b[32m\"/static/js/22.3c38ed00.chunk.js\"\u001b[39m \u001b[2mhost=\u001b[22m\u001b[2mvast-lowlands-85716.herokuapp.com\u001b[22m \u001b[2mrequest_id=\u001b[22m\u001b[2mf4fbecfb-fe67-4603-bb3c-266ff28aa31e\u001b[22m \u001b[2mfwd=\u001b[22m\u001b[2m\"92.127.96.55\"\u001b[22m \u001b[2mdyno=\u001b[22m\u001b[36mweb.1\u001b[39m \u001b[2mconnect=\u001b[22m0ms \u001b[2mservice=\u001b[22m\u001b[92m1ms\u001b[39m \u001b[2mstatus=\u001b[22m\u001b[36m304\u001b[39m \u001b[2mbytes=\u001b[22m\u001b[2m364\u001b[22m \u001b[2mprotocol=\u001b[22m\u001b[2mhttps\u001b[22m\n",
            "\u001b[32m2021-12-15T16:59:46.218249+00:00 heroku[router]:\u001b[39m \u001b[2mat=\u001b[22m\u001b[2minfo\u001b[22m \u001b[2mmethod=\u001b[22m\u001b[1m\u001b[35mGET\u001b[39m\u001b[22m \u001b[2mpath=\u001b[22m\u001b[32m\"/static/media/IBMPlexSans-Bold.5a0eb98b.ttf\"\u001b[39m \u001b[2mhost=\u001b[22m\u001b[2mvast-lowlands-85716.herokuapp.com\u001b[22m \u001b[2mrequest_id=\u001b[22m\u001b[2m5190b976-3217-4cd9-b263-4a6c7cc9bd35\u001b[22m \u001b[2mfwd=\u001b[22m\u001b[2m\"92.127.96.55\"\u001b[22m \u001b[2mdyno=\u001b[22m\u001b[36mweb.1\u001b[39m \u001b[2mconnect=\u001b[22m0ms \u001b[2mservice=\u001b[22m\u001b[92m2ms\u001b[39m \u001b[2mstatus=\u001b[22m\u001b[36m304\u001b[39m \u001b[2mbytes=\u001b[22m\u001b[2m364\u001b[22m \u001b[2mprotocol=\u001b[22m\u001b[2mhttps\u001b[22m\n",
            "\u001b[32m2021-12-15T16:59:48.665449+00:00 heroku[router]:\u001b[39m \u001b[2mat=\u001b[22m\u001b[2minfo\u001b[22m \u001b[2mmethod=\u001b[22m\u001b[1m\u001b[35mPOST\u001b[39m\u001b[22m \u001b[2mpath=\u001b[22m\u001b[32m\"/upload_file\"\u001b[39m \u001b[2mhost=\u001b[22m\u001b[2mvast-lowlands-85716.herokuapp.com\u001b[22m \u001b[2mrequest_id=\u001b[22m\u001b[2m84272443-542e-410e-875f-41b68ee0c28b\u001b[22m \u001b[2mfwd=\u001b[22m\u001b[2m\"92.127.96.55\"\u001b[22m \u001b[2mdyno=\u001b[22m\u001b[36mweb.1\u001b[39m \u001b[2mconnect=\u001b[22m0ms \u001b[2mservice=\u001b[22m\u001b[32m213ms\u001b[39m \u001b[2mstatus=\u001b[22m\u001b[32m200\u001b[39m \u001b[2mbytes=\u001b[22m\u001b[2m388\u001b[22m \u001b[2mprotocol=\u001b[22m\u001b[2mhttps\u001b[22m\n",
            "\u001b[36m2021-12-15T16:59:48.966071+00:00 app[web.1]:\u001b[39m 2021-12-15 16:59:48.966005: I tensorflow/compiler/mlir/mlir_graph_optimization_pass.cc:176] None of the MLIR Optimization Passes are enabled (registered 2)\n",
            "\u001b[36m2021-12-15T16:59:48.966439+00:00 app[web.1]:\u001b[39m 2021-12-15 16:59:48.966406: I tensorflow/core/platform/profile_utils/cpu_utils.cc:114] CPU Frequency: 2499995000 Hz\n",
            "\u001b[32m2021-12-15T16:59:49.283661+00:00 heroku[router]:\u001b[39m \u001b[2mat=\u001b[22m\u001b[2minfo\u001b[22m \u001b[2mmethod=\u001b[22m\u001b[1m\u001b[35mGET\u001b[39m\u001b[22m \u001b[2mpath=\u001b[22m\u001b[32m\"/static/media/IBMPlexMono-Regular.bee53c8c.ttf\"\u001b[39m \u001b[2mhost=\u001b[22m\u001b[2mvast-lowlands-85716.herokuapp.com\u001b[22m \u001b[2mrequest_id=\u001b[22m\u001b[2m0a36d3e5-6bb6-4d6c-9eb5-6a0b7f3c7cfe\u001b[22m \u001b[2mfwd=\u001b[22m\u001b[2m\"92.127.96.55\"\u001b[22m \u001b[2mdyno=\u001b[22m\u001b[36mweb.1\u001b[39m \u001b[2mconnect=\u001b[22m0ms \u001b[2mservice=\u001b[22m\u001b[32m111ms\u001b[39m \u001b[2mstatus=\u001b[22m\u001b[36m304\u001b[39m \u001b[2mbytes=\u001b[22m\u001b[2m364\u001b[22m \u001b[2mprotocol=\u001b[22m\u001b[2mhttps\u001b[22m\n",
            "\u001b[32m2021-12-15T16:59:49.482607+00:00 heroku[router]:\u001b[39m \u001b[2mat=\u001b[22m\u001b[2minfo\u001b[22m \u001b[2mmethod=\u001b[22m\u001b[1m\u001b[35mGET\u001b[39m\u001b[22m \u001b[2mpath=\u001b[22m\u001b[32m\"/static/js/20.b85230b4.chunk.js\"\u001b[39m \u001b[2mhost=\u001b[22m\u001b[2mvast-lowlands-85716.herokuapp.com\u001b[22m \u001b[2mrequest_id=\u001b[22m\u001b[2md3e7e3c0-46d1-4935-8e2b-9c731fd33b89\u001b[22m \u001b[2mfwd=\u001b[22m\u001b[2m\"92.127.96.55\"\u001b[22m \u001b[2mdyno=\u001b[22m\u001b[36mweb.1\u001b[39m \u001b[2mconnect=\u001b[22m0ms \u001b[2mservice=\u001b[22m\u001b[92m1ms\u001b[39m \u001b[2mstatus=\u001b[22m\u001b[32m200\u001b[39m \u001b[2mbytes=\u001b[22m\u001b[2m1383\u001b[22m \u001b[2mprotocol=\u001b[22m\u001b[2mhttps\u001b[22m\n",
            "\u001b[32m2021-12-15T16:59:49.495215+00:00 heroku[router]:\u001b[39m \u001b[2mat=\u001b[22m\u001b[2minfo\u001b[22m \u001b[2mmethod=\u001b[22m\u001b[1m\u001b[35mGET\u001b[39m\u001b[22m \u001b[2mpath=\u001b[22m\u001b[32m\"/static/js/9.0685bd7d.chunk.js\"\u001b[39m \u001b[2mhost=\u001b[22m\u001b[2mvast-lowlands-85716.herokuapp.com\u001b[22m \u001b[2mrequest_id=\u001b[22m\u001b[2me8e88cea-0f5b-4e6b-9f77-9e838b04e168\u001b[22m \u001b[2mfwd=\u001b[22m\u001b[2m\"92.127.96.55\"\u001b[22m \u001b[2mdyno=\u001b[22m\u001b[36mweb.1\u001b[39m \u001b[2mconnect=\u001b[22m0ms \u001b[2mservice=\u001b[22m\u001b[92m10ms\u001b[39m \u001b[2mstatus=\u001b[22m\u001b[32m200\u001b[39m \u001b[2mbytes=\u001b[22m\u001b[2m39394\u001b[22m \u001b[2mprotocol=\u001b[22m\u001b[2mhttps\u001b[22m\n",
            "\u001b[32m2021-12-15T16:59:49.865914+00:00 heroku[router]:\u001b[39m \u001b[2mat=\u001b[22m\u001b[2minfo\u001b[22m \u001b[2mmethod=\u001b[22m\u001b[1m\u001b[35mGET\u001b[39m\u001b[22m \u001b[2mpath=\u001b[22m\u001b[32m\"/media/559185d07d639388b3e8753eb425be7e2a39a6ca7b8ad2ed27d5d676.jpeg\"\u001b[39m \u001b[2mhost=\u001b[22m\u001b[2mvast-lowlands-85716.herokuapp.com\u001b[22m \u001b[2mrequest_id=\u001b[22m\u001b[2m4b6a8203-7c63-488e-a776-e69788fb4b99\u001b[22m \u001b[2mfwd=\u001b[22m\u001b[2m\"92.127.96.55\"\u001b[22m \u001b[2mdyno=\u001b[22m\u001b[36mweb.1\u001b[39m \u001b[2mconnect=\u001b[22m0ms \u001b[2mservice=\u001b[22m\u001b[92m1ms\u001b[39m \u001b[2mstatus=\u001b[22m\u001b[32m200\u001b[39m \u001b[2mbytes=\u001b[22m\u001b[2m2007\u001b[22m \u001b[2mprotocol=\u001b[22m\u001b[2mhttps\u001b[22m\n",
            "\u001b[1m\u001b[32m2021-12-15T16:59:51.000000+00:00 app[api]:\u001b[39m\u001b[22m \u001b[92mBuild succeeded\u001b[39m\n",
            "\u001b[32m2021-12-15T17:01:50.691175+00:00 heroku[router]:\u001b[39m \u001b[2mat=\u001b[22m\u001b[2minfo\u001b[22m \u001b[2mmethod=\u001b[22m\u001b[1m\u001b[35mPOST\u001b[39m\u001b[22m \u001b[2mpath=\u001b[22m\u001b[32m\"/upload_file\"\u001b[39m \u001b[2mhost=\u001b[22m\u001b[2mvast-lowlands-85716.herokuapp.com\u001b[22m \u001b[2mrequest_id=\u001b[22m\u001b[2m2e40fbd2-da3a-4fb5-a421-1020627d0a22\u001b[22m \u001b[2mfwd=\u001b[22m\u001b[2m\"92.127.96.55\"\u001b[22m \u001b[2mdyno=\u001b[22m\u001b[36mweb.1\u001b[39m \u001b[2mconnect=\u001b[22m0ms \u001b[2mservice=\u001b[22m\u001b[92m3ms\u001b[39m \u001b[2mstatus=\u001b[22m\u001b[32m200\u001b[39m \u001b[2mbytes=\u001b[22m\u001b[2m388\u001b[22m \u001b[2mprotocol=\u001b[22m\u001b[2mhttps\u001b[22m\n",
            "\u001b[32m2021-12-15T17:01:51.299757+00:00 heroku[router]:\u001b[39m \u001b[2mat=\u001b[22m\u001b[2minfo\u001b[22m \u001b[2mmethod=\u001b[22m\u001b[1m\u001b[35mGET\u001b[39m\u001b[22m \u001b[2mpath=\u001b[22m\u001b[32m\"/media/558c0299bfb38f4db18ba35eff557c1a358fc303f9ffe46a1cb0192a.png\"\u001b[39m \u001b[2mhost=\u001b[22m\u001b[2mvast-lowlands-85716.herokuapp.com\u001b[22m \u001b[2mrequest_id=\u001b[22m\u001b[2m1b7c27e9-64d1-4753-a392-7bb7b1e18fc5\u001b[22m \u001b[2mfwd=\u001b[22m\u001b[2m\"92.127.96.55\"\u001b[22m \u001b[2mdyno=\u001b[22m\u001b[36mweb.1\u001b[39m \u001b[2mconnect=\u001b[22m0ms \u001b[2mservice=\u001b[22m\u001b[92m1ms\u001b[39m \u001b[2mstatus=\u001b[22m\u001b[32m200\u001b[39m \u001b[2mbytes=\u001b[22m\u001b[2m1346\u001b[22m \u001b[2mprotocol=\u001b[22m\u001b[2mhttps\u001b[22m\n"
          ]
        }
      ]
    },
    {
      "cell_type": "code",
      "source": [
        "!heroku restart"
      ],
      "metadata": {
        "colab": {
          "base_uri": "https://localhost:8080/"
        },
        "id": "AL_3YPMlVkYq",
        "outputId": "34419839-1086-4617-d91d-4179efae04c3"
      },
      "execution_count": null,
      "outputs": [
        {
          "output_type": "stream",
          "name": "stdout",
          "text": [
            "\u001b[G\u001b[2K\u001b[?25lRestarting dynos on \u001b[35m⬢ vast-lowlands-85716\u001b[39m... \u001b[35m⣾\u001b[39m \n",
            "\u001b[2A\u001b[15C\u001b[1B\u001b[35m⣽\u001b[39m\u001b[1B\u001b[G\u001b[2K\u001b[2A\u001b[15C\u001b[1B\u001b[35m⣻\u001b[39m\u001b[1B\u001b[G\u001b[2K\u001b[2A\u001b[15C\u001b[1B\u001b[35m⢿\u001b[39m\u001b[1B\u001b[G\u001b[2K\u001b[2A\u001b[JRestarting dynos on \u001b[35m⬢ vast-lowlands-85716\u001b[39m... done\n",
            "\u001b[?25h\u001b[?25h"
          ]
        }
      ]
    },
    {
      "cell_type": "code",
      "source": [
        "!python -V"
      ],
      "metadata": {
        "colab": {
          "base_uri": "https://localhost:8080/"
        },
        "id": "ki7vNm86Vkb2",
        "outputId": "6715a79d-ffec-4fd3-f223-abedf1e325af"
      },
      "execution_count": null,
      "outputs": [
        {
          "output_type": "stream",
          "name": "stdout",
          "text": [
            "Python 3.7.12\n"
          ]
        }
      ]
    },
    {
      "cell_type": "code",
      "source": [],
      "metadata": {
        "id": "Yv7eF2I6VkfN"
      },
      "execution_count": null,
      "outputs": []
    },
    {
      "cell_type": "code",
      "source": [],
      "metadata": {
        "id": "3u7EYEJrVkiU"
      },
      "execution_count": null,
      "outputs": []
    },
    {
      "cell_type": "code",
      "source": [],
      "metadata": {
        "id": "4frrHR9k5oeC"
      },
      "execution_count": null,
      "outputs": []
    },
    {
      "cell_type": "code",
      "source": [],
      "metadata": {
        "id": "Sly4X7Zm5ohj"
      },
      "execution_count": null,
      "outputs": []
    },
    {
      "cell_type": "code",
      "source": [],
      "metadata": {
        "id": "fS5KhjQO5okb"
      },
      "execution_count": null,
      "outputs": []
    }
  ]
}