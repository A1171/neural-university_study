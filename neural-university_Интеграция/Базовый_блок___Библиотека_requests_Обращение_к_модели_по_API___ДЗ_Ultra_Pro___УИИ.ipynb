{
  "nbformat": 4,
  "nbformat_minor": 0,
  "metadata": {
    "colab": {
      "provenance": []
    },
    "kernelspec": {
      "name": "python3",
      "display_name": "Python 3"
    },
    "language_info": {
      "name": "python"
    }
  },
  "cells": [
    {
      "cell_type": "markdown",
      "source": [
        "Создание веб-сервиса с моделью с помощью FastAPI"
      ],
      "metadata": {
        "id": "Q0QCpFk1UBT6"
      }
    },
    {
      "cell_type": "markdown",
      "metadata": {
        "id": "EWGNSR35G-DA"
      },
      "source": [
        " Создайте веб-сервис с помощью FastAPI, загрузите на него обученную модель MNIST и протестируйте ее на собственноручно написанных цифрах.\n",
        "\n",
        "\n"
      ]
    },
    {
      "cell_type": "code",
      "metadata": {
        "id": "BjOUVBCNv8FK"
      },
      "source": [
        "# Ваше решение"
      ],
      "execution_count": null,
      "outputs": []
    },
    {
      "cell_type": "code",
      "source": [
        "# Загружаем базу mnist\n",
        "from tensorflow.keras.datasets import mnist \n",
        "\n",
        "# Сеть прямого распространения\n",
        "from tensorflow.keras.models import Sequential \n",
        "\n",
        "# Базовые слои для счёрточных сетей\n",
        "from tensorflow.keras.layers import Dense, Conv2D, MaxPooling2D, Flatten, Dropout, BatchNormalization\n",
        "\n",
        "# оптимизаторы\n",
        "from tensorflow.keras.optimizers import Adam, Adadelta \n",
        "\n",
        "# Используем для to_categorical\n",
        "from tensorflow.keras import utils \n",
        "\n",
        "# Для отрисовки изображений\n",
        "from tensorflow.keras.preprocessing import image \n",
        "\n",
        "# Для загрузки своей картинки\n",
        "from google.colab import files \n",
        "\n",
        "# Библиотека работы с массивами\n",
        "import numpy as np \n",
        "\n",
        "# Для отрисовки графиков\n",
        "import matplotlib.pyplot as plt \n",
        "\n",
        "# Для отрисовки изображений\n",
        "from PIL import Image \n",
        "\n",
        "# Для генерации случайных чисел \n",
        "import random \n",
        "\n",
        "# Для округления\n",
        "import math \n",
        "\n",
        "#Для работы с файлами \n",
        "import os \n",
        "\n",
        "# подключем диск\n",
        "#from google.colab import drive\n",
        "\n",
        "%matplotlib inline"
      ],
      "metadata": {
        "id": "AfnHo_66gTyr"
      },
      "execution_count": null,
      "outputs": []
    },
    {
      "cell_type": "code",
      "source": [
        "# загрузка всего датасет MNIST\n",
        "(x_train_org, y_train_org), (x_test_org, y_test_org) = mnist.load_data()  "
      ],
      "metadata": {
        "id": "iumMzYGEaTMQ",
        "colab": {
          "base_uri": "https://localhost:8080/"
        },
        "outputId": "b920f5b4-65a7-4ebb-a7b9-137a89b3adcd"
      },
      "execution_count": null,
      "outputs": [
        {
          "output_type": "stream",
          "name": "stdout",
          "text": [
            "Downloading data from https://storage.googleapis.com/tensorflow/tf-keras-datasets/mnist.npz\n",
            "11493376/11490434 [==============================] - 0s 0us/step\n",
            "11501568/11490434 [==============================] - 0s 0us/step\n"
          ]
        }
      ]
    },
    {
      "cell_type": "code",
      "source": [
        "# подготовка набора экземпляров класса\n",
        "# Превращаем y_train и y_test сетей в формат one hot encoding\n",
        "\n",
        "y_train = utils.to_categorical(y_train_org, 10)\n",
        "y_test = utils.to_categorical(y_test_org, 10)\n",
        "\n",
        "# Меняем формат данных MNIST\n",
        "# Надо добавить в конце размерность 1\n",
        "# Чтобы свёрточная сеть понимала, что это чёрно-белые данные\n",
        "\n",
        "x_train = x_train_org.reshape(x_train_org.shape[0], 28, 28, 1)\n",
        "x_test = x_test_org.reshape(x_test_org.shape[0], 28, 28, 1)"
      ],
      "metadata": {
        "id": "gekl-s7faTPo"
      },
      "execution_count": null,
      "outputs": []
    },
    {
      "cell_type": "code",
      "source": [
        "# проверка размерностей\n",
        "\n",
        "print(x_train.shape)\n",
        "print(y_train.shape)  "
      ],
      "metadata": {
        "id": "2UOfOEnGaTVd",
        "colab": {
          "base_uri": "https://localhost:8080/"
        },
        "outputId": "0ba4df8f-a319-4e77-ddfa-3e5b04cf3e22"
      },
      "execution_count": null,
      "outputs": [
        {
          "output_type": "stream",
          "name": "stdout",
          "text": [
            "(60000, 28, 28, 1)\n",
            "(60000, 10)\n"
          ]
        }
      ]
    },
    {
      "cell_type": "code",
      "source": [
        "# Выводим для примера картинки по каждому классу\n",
        "\n",
        "fig, axs = plt.subplots(1, 10, figsize=(25, 3)) # Создаем полотно из 10 графиков\n",
        "\n",
        "for i in range(10): # Проходим по классам от 0 до 9\n",
        "  label_indexes = np.where(y_train_org==i)[0] # Получаем список из индексов положений класса i в y_train\n",
        "  index = random.choice(label_indexes) # Случайным образом выбираем из списка индекс\n",
        "  img = x_train_org[index] # Выбираем из x_train нужное изображение\n",
        "  axs[i].imshow(Image.fromarray(img), cmap='gray') #Отображаем изображение i-ым графиков\n",
        "  print(index)\n",
        "plt.show() # Показываем изображения"
      ],
      "metadata": {
        "id": "Sfa4b7sraTYY",
        "colab": {
          "base_uri": "https://localhost:8080/",
          "height": 342
        },
        "outputId": "86953b9f-60da-4d15-cfb4-9b52a5e58b6c"
      },
      "execution_count": null,
      "outputs": [
        {
          "output_type": "stream",
          "name": "stdout",
          "text": [
            "19216\n",
            "15231\n",
            "32212\n",
            "17062\n",
            "47033\n",
            "47433\n",
            "38371\n",
            "15643\n",
            "9537\n",
            "14010\n"
          ]
        },
        {
          "output_type": "display_data",
          "data": {
            "image/png": "[encoded data removed]",
            "text/plain": [
              "<Figure size 1800x216 with 10 Axes>"
            ]
          },
          "metadata": {
            "needs_background": "light"
          }
        }
      ]
    },
    {
      "cell_type": "code",
      "source": [
        "# задаём batch_size\n",
        "batch_size = 128 \n",
        "\n",
        "# Создаем последовательную модель\n",
        "\n",
        "model = Sequential()\n",
        "\n",
        "model.add(BatchNormalization(input_shape=(28, 28, 1))) # Слой пакетной нормализации\n",
        "model.add(Conv2D(32, (3, 3), padding='same', activation='relu')) # Первый сверточный слой\n",
        "model.add(Conv2D(16, (3, 3), padding='same', activation='relu')) # Второй сверточный слой\n",
        "model.add(MaxPooling2D(pool_size=(2, 2))) # Первый слой подвыборки\n",
        "\n",
        "model.add(Dropout(0.25)) # Слой регуляризации Dropout\n",
        "model.add(Flatten())\n",
        "\n",
        "model.add(Dense(256, activation='relu')) # Полносвязный слой для классификации\n",
        "model.add(Dropout(0.25)) # Слой регуляризации Dropout\n",
        "model.add(Dense(10, activation='softmax')) # Выходной полносвязный слой\n",
        "\n",
        "# Компилируем сеть\n",
        "model.compile(loss=\"categorical_crossentropy\", optimizer=\"adam\", metrics=[\"accuracy\"])"
      ],
      "metadata": {
        "id": "1kXesXHBaTbf"
      },
      "execution_count": null,
      "outputs": []
    },
    {
      "cell_type": "code",
      "source": [
        "# Обучаем сеть на данных mnist\n",
        "\n",
        "history = model.fit(x_train, \n",
        "                    y_train, \n",
        "                    batch_size=batch_size, \n",
        "                    epochs=15,\n",
        "                    validation_data=(x_test, y_test),\n",
        "                    verbose=1)\n",
        "\n",
        "# Отображаем график точности обучения\n",
        "\n",
        "plt.plot(history.history['accuracy'], \n",
        "         label='Доля верных ответов на обучающем наборе')\n",
        "plt.plot(history.history['val_accuracy'], \n",
        "         label='Доля верных ответов на проверочном наборе')\n",
        "plt.xlabel('Эпоха обучения')\n",
        "plt.ylabel('Доля верных ответов')\n",
        "plt.legend()\n",
        "plt.show()"
      ],
      "metadata": {
        "id": "4I_hpkjGaTeg",
        "colab": {
          "base_uri": "https://localhost:8080/",
          "height": 800
        },
        "outputId": "6f109592-0180-4c06-bf4a-322458d8a7b6"
      },
      "execution_count": null,
      "outputs": [
        {
          "output_type": "stream",
          "name": "stdout",
          "text": [
            "Epoch 1/15\n",
            "469/469 [==============================] - 141s 300ms/step - loss: 0.1869 - accuracy: 0.9415 - val_loss: 0.0505 - val_accuracy: 0.9828\n",
            "Epoch 2/15\n",
            "469/469 [==============================] - 119s 253ms/step - loss: 0.0609 - accuracy: 0.9815 - val_loss: 0.0391 - val_accuracy: 0.9860\n",
            "Epoch 3/15\n",
            "469/469 [==============================] - 108s 230ms/step - loss: 0.0407 - accuracy: 0.9870 - val_loss: 0.0302 - val_accuracy: 0.9895\n",
            "Epoch 4/15\n",
            "469/469 [==============================] - 107s 228ms/step - loss: 0.0326 - accuracy: 0.9897 - val_loss: 0.0288 - val_accuracy: 0.9903\n",
            "Epoch 5/15\n",
            "469/469 [==============================] - 107s 228ms/step - loss: 0.0275 - accuracy: 0.9910 - val_loss: 0.0275 - val_accuracy: 0.9898\n",
            "Epoch 6/15\n",
            "469/469 [==============================] - 107s 228ms/step - loss: 0.0251 - accuracy: 0.9916 - val_loss: 0.0301 - val_accuracy: 0.9903\n",
            "Epoch 7/15\n",
            "469/469 [==============================] - 121s 258ms/step - loss: 0.0189 - accuracy: 0.9937 - val_loss: 0.0277 - val_accuracy: 0.9908\n",
            "Epoch 8/15\n",
            "469/469 [==============================] - 132s 282ms/step - loss: 0.0173 - accuracy: 0.9941 - val_loss: 0.0302 - val_accuracy: 0.9905\n",
            "Epoch 9/15\n",
            "469/469 [==============================] - 108s 230ms/step - loss: 0.0156 - accuracy: 0.9949 - val_loss: 0.0284 - val_accuracy: 0.9920\n",
            "Epoch 10/15\n",
            "469/469 [==============================] - 109s 232ms/step - loss: 0.0136 - accuracy: 0.9955 - val_loss: 0.0294 - val_accuracy: 0.9901\n",
            "Epoch 11/15\n",
            "469/469 [==============================] - 106s 227ms/step - loss: 0.0141 - accuracy: 0.9951 - val_loss: 0.0293 - val_accuracy: 0.9906\n",
            "Epoch 12/15\n",
            "469/469 [==============================] - 107s 228ms/step - loss: 0.0111 - accuracy: 0.9959 - val_loss: 0.0307 - val_accuracy: 0.9920\n",
            "Epoch 13/15\n",
            "469/469 [==============================] - 111s 236ms/step - loss: 0.0114 - accuracy: 0.9963 - val_loss: 0.0307 - val_accuracy: 0.9912\n",
            "Epoch 14/15\n",
            "469/469 [==============================] - 113s 242ms/step - loss: 0.0100 - accuracy: 0.9969 - val_loss: 0.0342 - val_accuracy: 0.9911\n",
            "Epoch 15/15\n",
            "469/469 [==============================] - 107s 228ms/step - loss: 0.0114 - accuracy: 0.9963 - val_loss: 0.0368 - val_accuracy: 0.9907\n"
          ]
        },
        {
          "output_type": "display_data",
          "data": {
            "image/png": "[encoded data removed]",
            "text/plain": [
              "<Figure size 432x288 with 1 Axes>"
            ]
          },
          "metadata": {
            "needs_background": "light"
          }
        }
      ]
    },
    {
      "cell_type": "code",
      "source": [
        "model.save('model_minst.h5')"
      ],
      "metadata": {
        "id": "PEhzqhYFaTlI"
      },
      "execution_count": null,
      "outputs": []
    },
    {
      "cell_type": "code",
      "source": [
        "model.save('/content/drive/MyDrive/NN/model_minst.h5')"
      ],
      "metadata": {
        "id": "5khQjoSdwky5"
      },
      "execution_count": null,
      "outputs": []
    },
    {
      "cell_type": "code",
      "source": [
        "import keras\n",
        "model=keras.models.load_model('/content/drive/MyDrive/NN/model_minst.h5')"
      ],
      "metadata": {
        "id": "cSrKamrLw1AJ"
      },
      "execution_count": null,
      "outputs": []
    },
    {
      "cell_type": "code",
      "source": [
        "def process(image_file):\n",
        "    #image = Image.open(image_file)  # Открытие обрабатываемого файла\n",
        "    resized_image = image_file#image.resize((28, 28))          # Изменение размера изображения в соответствии со входом сети\n",
        "    array = np.array(resized_image)#[..., 0][np.newaxis, ...]   # Регулировка формы тензора для подачи в сеть\n",
        "    prediction = np.argmax(model.predict(array[np.newaxis, ...]))             # Запуск предсказания сети\n",
        "    return prediction"
      ],
      "metadata": {
        "id": "eQpmjr-WaToe"
      },
      "execution_count": null,
      "outputs": []
    },
    {
      "cell_type": "code",
      "source": [
        "print(x_train[0].shape)"
      ],
      "metadata": {
        "colab": {
          "base_uri": "https://localhost:8080/"
        },
        "id": "gP_Hj9DdodbR",
        "outputId": "95fc95a5-ba7a-4b8d-ce62-78794b54838f"
      },
      "execution_count": null,
      "outputs": [
        {
          "output_type": "stream",
          "name": "stdout",
          "text": [
            "(28, 28, 1)\n"
          ]
        }
      ]
    },
    {
      "cell_type": "code",
      "source": [
        "print(process(x_train[0]))"
      ],
      "metadata": {
        "id": "S2LP3RTUaTrn",
        "colab": {
          "base_uri": "https://localhost:8080/"
        },
        "outputId": "0812dc53-434e-4ef4-bead-37ddb38f0d9d"
      },
      "execution_count": null,
      "outputs": [
        {
          "output_type": "stream",
          "name": "stdout",
          "text": [
            "5\n"
          ]
        }
      ]
    },
    {
      "cell_type": "code",
      "source": [
        "plt.imshow(x_train[0].reshape(28,28),cmap='gray')\n",
        "plt.show()"
      ],
      "metadata": {
        "colab": {
          "base_uri": "https://localhost:8080/",
          "height": 265
        },
        "id": "otOn6Dvyh3Dn",
        "outputId": "05775e74-e0a3-4700-c4d5-9660d8bda439"
      },
      "execution_count": null,
      "outputs": [
        {
          "output_type": "display_data",
          "data": {
            "image/png": "[encoded data removed]",
            "text/plain": [
              "<Figure size 432x288 with 1 Axes>"
            ]
          },
          "metadata": {
            "needs_background": "light"
          }
        }
      ]
    },
    {
      "cell_type": "code",
      "source": [],
      "metadata": {
        "id": "7u3KrIj5h3Gl"
      },
      "execution_count": null,
      "outputs": []
    },
    {
      "cell_type": "code",
      "source": [],
      "metadata": {
        "id": "rXPYHF3eiB_o"
      },
      "execution_count": null,
      "outputs": []
    },
    {
      "cell_type": "code",
      "metadata": {
        "id": "sy0YcMMsCko9"
      },
      "source": [
        "predict_file = '''\n",
        "\n",
        "from tensorflow.keras.models import load_model\n",
        "import numpy as np\n",
        "from io import BytesIO\n",
        "from PIL import Image \n",
        "\n",
        "model = load_model('model_minst.h5')  # Инициализация модели\n",
        "\n",
        "def process(image_file,invert):\n",
        "    image = Image.open(BytesIO(image_file)).convert('L')  # Открытие обрабатываемого файла\n",
        "    resized_image = image.resize((28, 28))          # Изменение размера изображения в соответствии со входом сети\n",
        "    array = np.array(resized_image,dtype=float)\n",
        "    print(invert)\n",
        "    if(invert==True):\n",
        "      array=255-array\n",
        "    print(array.shape, np.sum(array))\n",
        "    array2 = array.reshape(1,28,28,1)\n",
        "    print(array2.shape)\n",
        "    predict=model.predict(array2)\n",
        "    print(predict)\n",
        "    prediction = np.argmax(predict)             # Запуск предсказания сети\n",
        "    print(prediction)\n",
        "    return prediction\n",
        "\n",
        "'''\n",
        "\n",
        "# Сохранение кода в файл\n",
        "with open('predict.py', 'w') as file:\n",
        "    file.write(predict_file)"
      ],
      "execution_count": null,
      "outputs": []
    },
    {
      "cell_type": "code",
      "source": [
        "    image=keras.preprocessing.image.load_img('/content/drive/My Drive/NN/Numbers2/'+str(Names[0]), target_size=(28, 28), color_mode = 'grayscale')\n",
        "    #image = Image.open('/content/drive/My Drive/NN/Numbers2/'+str(Names[0]), color_mode = 'grayscale')  # Открытие обрабатываемого файла\n",
        "    resized_image = image.resize((28, 28))          # Изменение размера изображения в соответствии со входом сети\n",
        "    array = np.array(resized_image,dtype=float)\n",
        "    print(array.shape)"
      ],
      "metadata": {
        "colab": {
          "base_uri": "https://localhost:8080/"
        },
        "id": "jejEPcvX4XSD",
        "outputId": "b3062b9d-0004-48df-8b3f-533ff1b7f1e1"
      },
      "execution_count": null,
      "outputs": [
        {
          "output_type": "stream",
          "name": "stdout",
          "text": [
            "(28, 28)\n"
          ]
        }
      ]
    },
    {
      "cell_type": "code",
      "source": [
        "array = np.array(x_test[0],dtype=float)\n",
        "print({\"result\": np.argmax(model.predict(array.reshape(1,28,28,1)))  })"
      ],
      "metadata": {
        "colab": {
          "base_uri": "https://localhost:8080/"
        },
        "id": "KlhbXOfItezJ",
        "outputId": "c78dbdd2-bd66-4256-fe5c-ad71e5a2e323"
      },
      "execution_count": null,
      "outputs": [
        {
          "output_type": "stream",
          "name": "stdout",
          "text": [
            "{'result': 7}\n"
          ]
        }
      ]
    },
    {
      "cell_type": "code",
      "metadata": {
        "id": "FlsYv96OM9vo"
      },
      "source": [
        "main_file = '''from fastapi import FastAPI, File\n",
        "from predict import process\n",
        "\n",
        "app = FastAPI()\n",
        "\n",
        "\n",
        "@app.post(\"/predict\")\n",
        "async def create_file(file: bytes = File(...),invert: bool=True):\n",
        "    #print(invert)\n",
        "    result=process(file,invert)\n",
        "    print(result)\n",
        "    return {\"result\": str(result)}\n",
        "'''\n",
        "\n",
        "with open('main.py', 'w') as file:\n",
        "    file.write(main_file)"
      ],
      "execution_count": null,
      "outputs": []
    },
    {
      "cell_type": "code",
      "source": [],
      "metadata": {
        "id": "88JT1EzL9z1a"
      },
      "execution_count": null,
      "outputs": []
    },
    {
      "cell_type": "code",
      "metadata": {
        "id": "z5A1I3l1aHtC"
      },
      "source": [
        "proc_file = 'web: uvicorn main:app --host=0.0.0.0 --port=${PORT:-5000}'\n",
        "\n",
        "with open('Procfile', 'w') as file:\n",
        "    file.write(proc_file)"
      ],
      "execution_count": null,
      "outputs": []
    },
    {
      "cell_type": "code",
      "metadata": {
        "id": "ZgxXWs_QbY8y"
      },
      "source": [
        "requirements_file = '''\n",
        "\n",
        "fastapi==0.68.1\n",
        "tensorflow-cpu==2.5.0\n",
        "uvicorn==0.15.0\n",
        "Pillow==7.1.2\n",
        "python-multipart==0.0.5\n",
        "\n",
        "'''\n",
        "\n",
        "with open('requirements.txt', 'w') as file:\n",
        "    file.write(requirements_file)"
      ],
      "execution_count": null,
      "outputs": []
    },
    {
      "cell_type": "code",
      "source": [
        "!git --version"
      ],
      "metadata": {
        "colab": {
          "base_uri": "https://localhost:8080/"
        },
        "id": "45O5x1GniCCn",
        "outputId": "b7d5161b-ff25-4014-93f8-6270a52af9f4"
      },
      "execution_count": null,
      "outputs": [
        {
          "output_type": "stream",
          "name": "stdout",
          "text": [
            "git version 2.17.1\n"
          ]
        }
      ]
    },
    {
      "cell_type": "code",
      "source": [
        "!git config --global user.email \"zadrutskiy@yandex.ru\"\n",
        "!git config --global user.name \"A1171\""
      ],
      "metadata": {
        "id": "A7i63e99iCFq"
      },
      "execution_count": null,
      "outputs": []
    },
    {
      "cell_type": "code",
      "source": [
        "!curl https://cli-assets.heroku.com/install-ubuntu.sh | sh > /dev/null"
      ],
      "metadata": {
        "colab": {
          "base_uri": "https://localhost:8080/"
        },
        "id": "STQMPtfEiCI4",
        "outputId": "5ce06950-0676-4a1d-b407-224f2de8bb49"
      },
      "execution_count": null,
      "outputs": [
        {
          "output_type": "stream",
          "name": "stdout",
          "text": [
            "  % Total    % Received % Xferd  Average Speed   Time    Time     Time  Current\n",
            "                                 Dload  Upload   Total   Spent    Left  Speed\n",
            "\r  0     0    0     0    0     0      0      0 --:--:-- --:--:-- --:--:--     0\r100  1232  100  1232    0     0  23245      0 --:--:-- --:--:-- --:--:-- 23245\n",
            "+ dpkg -s apt-transport-https\n",
            "+ echo \n",
            "+ apt-get update\n",
            "+ apt-get install -y apt-transport-https\n",
            "+ echo deb https://cli-assets.heroku.com/apt ./\n",
            "+ dpkg -s heroku-toolbelt\n",
            "+ true\n",
            "+ curl https://cli-assets.heroku.com/apt/release.key\n",
            "+ apt-key add -\n",
            "  % Total    % Received % Xferd  Average Speed   Time    Time     Time  Current\n",
            "                                 Dload  Upload   Total   Spent    Left  Speed\n",
            "  0     0    0     0    0     0      0      0 --:--:-- --:--:-- --:--:--     0Warning: apt-key output should not be parsed (stdout is not a terminal)\n",
            "100  5393  100  5393    0     0  36687      0 --:--:-- --:--:-- --:--:-- 36687\n",
            "+ apt-get update\n",
            "+ apt-get install -y heroku\n",
            " ›   Warning: Our terms of service have changed: \n",
            " ›   https://dashboard.heroku.com/terms-of-service\n"
          ]
        }
      ]
    },
    {
      "cell_type": "code",
      "source": [
        "!heroku --version"
      ],
      "metadata": {
        "colab": {
          "base_uri": "https://localhost:8080/"
        },
        "id": "lqb3kOd3knCw",
        "outputId": "b54dfad9-bd1b-4067-f8cf-ba66a3209618"
      },
      "execution_count": null,
      "outputs": [
        {
          "output_type": "stream",
          "name": "stdout",
          "text": [
            "heroku/7.59.2 linux-x64 node-v12.21.0\n"
          ]
        }
      ]
    },
    {
      "cell_type": "code",
      "source": [
        "LOGIN = 'zadrutskiy@zandex.ru'  # Укажите свой логин\n",
        "API_KEY = '9c6fcbfb-acb2-46c6-924c-7d5079f78732'  # Укажите свой API-key\n",
        "           \n",
        "\n",
        "auth_file = '''machine api.heroku.com\n",
        "  login {login}\n",
        "  password {password}\n",
        "machine git.heroku.com\n",
        "  login {login}\n",
        "  password {password}\n",
        "'''.format(login=LOGIN, password=API_KEY)\n",
        "\n",
        "with open('/root/.netrc', 'w') as file:\n",
        "    file.write(auth_file)"
      ],
      "metadata": {
        "id": "8JRCU5CNknGU"
      },
      "execution_count": null,
      "outputs": []
    },
    {
      "cell_type": "code",
      "source": [
        "!git init"
      ],
      "metadata": {
        "colab": {
          "base_uri": "https://localhost:8080/"
        },
        "id": "ZolHuqKth3KJ",
        "outputId": "9223adde-2d5b-4e8c-91df-62252a8673b9"
      },
      "execution_count": null,
      "outputs": [
        {
          "output_type": "stream",
          "name": "stdout",
          "text": [
            "Initialized empty Git repository in /content/.git/\n"
          ]
        }
      ]
    },
    {
      "cell_type": "code",
      "source": [
        "!git add model_minst.h5\n",
        "!git add predict.py\n",
        "!git add main.py\n",
        "!git add Procfile\n",
        "!git add requirements.txt\n",
        "!git add .config/"
      ],
      "metadata": {
        "id": "CrSuJWN4krA0"
      },
      "execution_count": null,
      "outputs": []
    },
    {
      "cell_type": "code",
      "source": [
        "!git commit -m \"My first commit1\""
      ],
      "metadata": {
        "colab": {
          "base_uri": "https://localhost:8080/"
        },
        "id": "JDonkC9XkrEU",
        "outputId": "e40e9d59-d713-4d31-dceb-ada2cd3699dc"
      },
      "execution_count": null,
      "outputs": [
        {
          "output_type": "stream",
          "name": "stdout",
          "text": [
            "[master (root-commit) d9ed5d3] My first commit1\n",
            " 18 files changed, 686 insertions(+)\n",
            " create mode 100644 .config/.last_opt_in_prompt.yaml\n",
            " create mode 100644 .config/.last_survey_prompt.yaml\n",
            " create mode 100644 .config/.last_update_check.json\n",
            " create mode 100644 .config/active_config\n",
            " create mode 100644 .config/config_sentinel\n",
            " create mode 100644 .config/configurations/config_default\n",
            " create mode 100644 .config/gce\n",
            " create mode 100644 .config/logs/2021.12.03/14.32.30.027140.log\n",
            " create mode 100644 .config/logs/2021.12.03/14.32.50.522723.log\n",
            " create mode 100644 .config/logs/2021.12.03/14.33.09.955489.log\n",
            " create mode 100644 .config/logs/2021.12.03/14.33.16.964195.log\n",
            " create mode 100644 .config/logs/2021.12.03/14.33.36.903459.log\n",
            " create mode 100644 .config/logs/2021.12.03/14.33.37.701606.log\n",
            " create mode 100644 Procfile\n",
            " create mode 100644 main.py\n",
            " create mode 100644 model_minst.h5\n",
            " create mode 100644 predict.py\n",
            " create mode 100644 requirements.txt\n"
          ]
        }
      ]
    },
    {
      "cell_type": "code",
      "source": [
        "!git status"
      ],
      "metadata": {
        "colab": {
          "base_uri": "https://localhost:8080/"
        },
        "id": "NWL_ozB2kq9f",
        "outputId": "b28a7213-fab3-40da-be6c-d61c8770d8a2"
      },
      "execution_count": null,
      "outputs": [
        {
          "output_type": "stream",
          "name": "stdout",
          "text": [
            "On branch master\n",
            "Untracked files:\n",
            "  (use \"git add <file>...\" to include in what will be committed)\n",
            "\n",
            "\t\u001b[31m__pycache__/\u001b[m\n",
            "\t\u001b[31mdrive/\u001b[m\n",
            "\t\u001b[31mnohup.out\u001b[m\n",
            "\t\u001b[31msample_data/\u001b[m\n",
            "\t\u001b[31mx_test_org_0.jpeg\u001b[m\n",
            "\n",
            "nothing added to commit but untracked files present (use \"git add\" to track)\n"
          ]
        }
      ]
    },
    {
      "cell_type": "code",
      "source": [
        "!heroku create minst-num-api-457356"
      ],
      "metadata": {
        "colab": {
          "base_uri": "https://localhost:8080/"
        },
        "id": "JrTcF4FDky5G",
        "outputId": "5ab0f81f-32da-4c40-f598-a7327b1fb358"
      },
      "execution_count": null,
      "outputs": [
        {
          "output_type": "stream",
          "name": "stdout",
          "text": [
            "\u001b[G\u001b[2K\u001b[?25lCreating \u001b[35m⬢ minst-num-api-457356\u001b[39m... \u001b[35m⣾\u001b[39m \n",
            "\u001b[2A\u001b[5C\u001b[1B\u001b[35m⣽\u001b[39m\u001b[1B\u001b[G\u001b[2K\u001b[2A\u001b[5C\u001b[1B\u001b[35m⣻\u001b[39m\u001b[1B\u001b[G\u001b[2K\u001b[2A\u001b[5C\u001b[1B\u001b[35m⢿\u001b[39m\u001b[1B\u001b[G\u001b[2K\u001b[2A\u001b[5C\u001b[1B\u001b[35m⡿\u001b[39m\u001b[1B\u001b[G\u001b[2K\u001b[2A\u001b[5C\u001b[1B\u001b[35m⣟\u001b[39m\u001b[1B\u001b[G\u001b[2K\u001b[2A\u001b[5C\u001b[1B\u001b[35m⣯\u001b[39m\u001b[1B\u001b[G\u001b[2K\u001b[2A\u001b[5C\u001b[1B\u001b[35m⣷\u001b[39m\u001b[1B\u001b[G\u001b[2K\u001b[2A\u001b[5C\u001b[1B\u001b[35m⣾\u001b[39m\u001b[1B\u001b[G\u001b[2K\u001b[2A\u001b[JCreating \u001b[35m⬢ minst-num-api-457356\u001b[39m... done\n",
            "\u001b[?25h\u001b[36mhttps://minst-num-api-457356.herokuapp.com/\u001b[39m | \u001b[32mhttps://git.heroku.com/minst-num-api-457356.git\u001b[39m\n",
            "\u001b[?25h"
          ]
        }
      ]
    },
    {
      "cell_type": "code",
      "source": [
        "!heroku authorizations:create"
      ],
      "metadata": {
        "colab": {
          "base_uri": "https://localhost:8080/"
        },
        "id": "8n4yun3FWWEY",
        "outputId": "7c69170e-2cdc-4a3f-e26d-4a8a39d06e54"
      },
      "execution_count": null,
      "outputs": [
        {
          "output_type": "stream",
          "name": "stdout",
          "text": [
            "\u001b[G\u001b[2K\u001b[?25lCreating OAuth Authorization... \u001b[35m⣾\u001b[39m \n",
            "\u001b[2A\u001b[2C\u001b[1B\u001b[35m⣽\u001b[39m\u001b[1B\u001b[G\u001b[2K\u001b[2A\u001b[JCreating OAuth Authorization... done\n",
            "\u001b[?25hClient:      <none>\n",
            "ID:          206dcdd7-e38a-4226-992a-8f58875f66a3\n",
            "Description: Long-lived user authorization\n",
            "Scope:       global\n",
            "Token:       aa718364-2c27-44b4-be13-f244955f7c80\n",
            "Updated at:  Fri Dec 17 2021 17:07:37 GMT+0000 (Coordinated Universal Time) (less than a minute ago)\n",
            "\u001b[?25h"
          ]
        }
      ]
    },
    {
      "cell_type": "code",
      "source": [
        "!heroku git:remote minst-num-api-457356"
      ],
      "metadata": {
        "colab": {
          "base_uri": "https://localhost:8080/"
        },
        "id": "hshH1wL0XUJA",
        "outputId": "b29d7f06-ff04-4df8-f498-a96bd75305b1"
      },
      "execution_count": null,
      "outputs": [
        {
          "output_type": "stream",
          "name": "stdout",
          "text": [
            "set git remote \u001b[36mheroku\u001b[39m to \u001b[36mhttps://git.heroku.com/minst-num-api-457356.git\u001b[39m\n"
          ]
        }
      ]
    },
    {
      "cell_type": "code",
      "source": [
        "!heroku apps:delete minst-num-api-457356"
      ],
      "metadata": {
        "colab": {
          "base_uri": "https://localhost:8080/"
        },
        "id": "ZV6zj1fnYyWz",
        "outputId": "631cf750-3bd8-4570-ede5-5b4317f0ab31"
      },
      "execution_count": null,
      "outputs": [
        {
          "output_type": "stream",
          "name": "stdout",
          "text": [
            " \u001b[33m▸\u001b[39m    WARNING: This will\n",
            " \u001b[33m▸\u001b[39m    delete \u001b[35m⬢\n",
            " \u001b[33m▸\u001b[39m    minst-num-api-457356\u001b[39m\n",
            " \u001b[33m▸\u001b[39m    including all add-ons.\n",
            " \u001b[33m▸\u001b[39m    To proceed, type\n",
            " \u001b[33m▸\u001b[39m    \u001b[1m\u001b[31mminst-num-api-457356\u001b[39m\u001b[22m\n",
            " \u001b[33m▸\u001b[39m    or re-run this command\n",
            " \u001b[33m▸\u001b[39m    with \u001b[1m\u001b[31m--confirm\n",
            " \u001b[33m▸\u001b[39m    minst-num-api-457356\u001b[39m\u001b[22m\n",
            "\n",
            "\u001b[2m> \u001b[22mminst-num-api-457356\n",
            "\u001b[G\u001b[2K\u001b[?25lDestroying \u001b[35m⬢ minst-num-api-457356\u001b[39m (including all add-ons)... \u001b[35m⣾\u001b[39m \n",
            "\u001b[3A\u001b[31C\u001b[1B\u001b[35m⣽\u001b[39m\u001b[2B\u001b[G\u001b[2K\u001b[3A\u001b[31C\u001b[1B\u001b[35m⣻\u001b[39m\u001b[2B\u001b[G\u001b[2K\u001b[3A\u001b[JDestroying \u001b[35m⬢ minst-num-api-457356\u001b[39m (including all add-ons)... done\n",
            "\u001b[?25h\u001b[?25h"
          ]
        }
      ]
    },
    {
      "cell_type": "code",
      "source": [
        "!git remote -v"
      ],
      "metadata": {
        "colab": {
          "base_uri": "https://localhost:8080/"
        },
        "id": "dlIPMQ09ky8T",
        "outputId": "db239cfe-75e5-4231-d187-f1449adb67a9"
      },
      "execution_count": null,
      "outputs": [
        {
          "output_type": "stream",
          "name": "stdout",
          "text": [
            "heroku\thttps://git.heroku.com/minst-num-api-457356.git (fetch)\n",
            "heroku\thttps://git.heroku.com/minst-num-api-457356.git (push)\n"
          ]
        }
      ]
    },
    {
      "cell_type": "code",
      "source": [
        "!git push heroku master"
      ],
      "metadata": {
        "colab": {
          "base_uri": "https://localhost:8080/"
        },
        "id": "sGmtzarSky_r",
        "outputId": "c2962bc0-d914-42d3-d29e-2b7ca5117fd9"
      },
      "execution_count": null,
      "outputs": [
        {
          "output_type": "stream",
          "name": "stdout",
          "text": [
            "Counting objects: 24, done.\n",
            "Delta compression using up to 2 threads.\n",
            "Compressing objects: 100% (17/17), done.\n",
            "Writing objects: 100% (24/24), 8.39 MiB | 7.29 MiB/s, done.\n",
            "Total 24 (delta 3), reused 0 (delta 0)\n",
            "remote: Compressing source files... done.\u001b[K\n",
            "remote: Building source:\u001b[K\n",
            "remote: \n",
            "remote: -----> Building on the Heroku-20 stack\u001b[K\n",
            "remote: -----> Determining which buildpack to use for this app\u001b[K\n",
            "remote: -----> Python app detected\u001b[K\n",
            "remote: -----> No Python version was specified. Using the buildpack default: python-3.9.9\u001b[K\n",
            "remote:        To use a different version, see: https://devcenter.heroku.com/articles/python-runtimes\u001b[K\n",
            "remote: -----> Installing python-3.9.9\u001b[K\n",
            "remote: -----> Installing pip 21.3.1, setuptools 57.5.0 and wheel 0.37.0\u001b[K\n",
            "remote: -----> Installing SQLite3\u001b[K\n",
            "remote: -----> Installing requirements with pip\u001b[K\n",
            "remote:        Collecting fastapi==0.68.1\u001b[K\n",
            "remote:          Downloading fastapi-0.68.1-py3-none-any.whl (52 kB)\u001b[K\n",
            "remote:        Collecting tensorflow-cpu==2.5.0\u001b[K\n",
            "remote:          Downloading tensorflow_cpu-2.5.0-cp39-cp39-manylinux2010_x86_64.whl (168.4 MB)\u001b[K\n",
            "remote:        Collecting uvicorn==0.15.0\u001b[K\n",
            "remote:          Downloading uvicorn-0.15.0-py3-none-any.whl (54 kB)\u001b[K\n",
            "remote:        Collecting Pillow==7.1.2\u001b[K\n",
            "remote:          Downloading Pillow-7.1.2.tar.gz (38.9 MB)\u001b[K\n",
            "remote:          Preparing metadata (setup.py): started\u001b[K\n",
            "remote:          Preparing metadata (setup.py): finished with status 'done'\u001b[K\n",
            "remote:        Collecting python-multipart==0.0.5\u001b[K\n",
            "remote:          Downloading python-multipart-0.0.5.tar.gz (32 kB)\u001b[K\n",
            "remote:          Preparing metadata (setup.py): started\u001b[K\n",
            "remote:          Preparing metadata (setup.py): finished with status 'done'\u001b[K\n",
            "remote:        Collecting starlette==0.14.2\u001b[K\n",
            "remote:          Downloading starlette-0.14.2-py3-none-any.whl (60 kB)\u001b[K\n",
            "remote:        Collecting pydantic!=1.7,!=1.7.1,!=1.7.2,!=1.7.3,!=1.8,!=1.8.1,<2.0.0,>=1.6.2\u001b[K\n",
            "remote:          Downloading pydantic-1.8.2-cp39-cp39-manylinux2014_x86_64.whl (11.3 MB)\u001b[K\n",
            "remote:        Collecting absl-py~=0.10\u001b[K\n",
            "remote:          Downloading absl_py-0.15.0-py3-none-any.whl (132 kB)\u001b[K\n",
            "remote:        Collecting keras-nightly~=2.5.0.dev\u001b[K\n",
            "remote:          Downloading keras_nightly-2.5.0.dev2021032900-py2.py3-none-any.whl (1.2 MB)\u001b[K\n",
            "remote:        Collecting astunparse~=1.6.3\u001b[K\n",
            "remote:          Downloading astunparse-1.6.3-py2.py3-none-any.whl (12 kB)\u001b[K\n",
            "remote:        Collecting six~=1.15.0\u001b[K\n",
            "remote:          Downloading six-1.15.0-py2.py3-none-any.whl (10 kB)\u001b[K\n",
            "remote:        Collecting typing-extensions~=3.7.4\u001b[K\n",
            "remote:          Downloading typing_extensions-3.7.4.3-py3-none-any.whl (22 kB)\u001b[K\n",
            "remote:        Collecting gast==0.4.0\u001b[K\n",
            "remote:          Downloading gast-0.4.0-py3-none-any.whl (9.8 kB)\u001b[K\n",
            "remote:        Collecting grpcio~=1.34.0\u001b[K\n",
            "remote:          Downloading grpcio-1.34.1-cp39-cp39-manylinux2014_x86_64.whl (4.0 MB)\u001b[K\n",
            "remote:        Collecting opt-einsum~=3.3.0\u001b[K\n",
            "remote:          Downloading opt_einsum-3.3.0-py3-none-any.whl (65 kB)\u001b[K\n",
            "remote:        Collecting termcolor~=1.1.0\u001b[K\n",
            "remote:          Downloading termcolor-1.1.0.tar.gz (3.9 kB)\u001b[K\n",
            "remote:          Preparing metadata (setup.py): started\u001b[K\n",
            "remote:          Preparing metadata (setup.py): finished with status 'done'\u001b[K\n",
            "remote:        Collecting protobuf>=3.9.2\u001b[K\n",
            "remote:          Downloading protobuf-3.19.1-cp39-cp39-manylinux_2_17_x86_64.manylinux2014_x86_64.whl (1.1 MB)\u001b[K\n",
            "remote:        Collecting keras-preprocessing~=1.1.2\u001b[K\n",
            "remote:          Downloading Keras_Preprocessing-1.1.2-py2.py3-none-any.whl (42 kB)\u001b[K\n",
            "remote:        Collecting numpy~=1.19.2\u001b[K\n",
            "remote:          Downloading numpy-1.19.5-cp39-cp39-manylinux2010_x86_64.whl (14.9 MB)\u001b[K\n",
            "remote:        Collecting tensorboard~=2.5\u001b[K\n",
            "remote:          Downloading tensorboard-2.7.0-py3-none-any.whl (5.8 MB)\u001b[K\n",
            "remote:        Collecting tensorflow-estimator<2.6.0,>=2.5.0rc0\u001b[K\n",
            "remote:          Downloading tensorflow_estimator-2.5.0-py2.py3-none-any.whl (462 kB)\u001b[K\n",
            "remote:        Collecting flatbuffers~=1.12.0\u001b[K\n",
            "remote:          Downloading flatbuffers-1.12-py2.py3-none-any.whl (15 kB)\u001b[K\n",
            "remote:        Collecting wrapt~=1.12.1\u001b[K\n",
            "remote:          Downloading wrapt-1.12.1.tar.gz (27 kB)\u001b[K\n",
            "remote:          Preparing metadata (setup.py): started\u001b[K\n",
            "remote:          Preparing metadata (setup.py): finished with status 'done'\u001b[K\n",
            "remote:        Collecting h5py~=3.1.0\u001b[K\n",
            "remote:          Downloading h5py-3.1.0-cp39-cp39-manylinux1_x86_64.whl (4.4 MB)\u001b[K\n",
            "remote:        Collecting google-pasta~=0.2\u001b[K\n",
            "remote:          Downloading google_pasta-0.2.0-py3-none-any.whl (57 kB)\u001b[K\n",
            "remote:        Collecting asgiref>=3.4.0\u001b[K\n",
            "remote:          Downloading asgiref-3.4.1-py3-none-any.whl (25 kB)\u001b[K\n",
            "remote:        Collecting click>=7.0\u001b[K\n",
            "remote:          Downloading click-8.0.3-py3-none-any.whl (97 kB)\u001b[K\n",
            "remote:        Collecting h11>=0.8\u001b[K\n",
            "remote:          Downloading h11-0.12.0-py3-none-any.whl (54 kB)\u001b[K\n",
            "remote:        Collecting tensorboard-plugin-wit>=1.6.0\u001b[K\n",
            "remote:          Downloading tensorboard_plugin_wit-1.8.0-py3-none-any.whl (781 kB)\u001b[K\n",
            "remote:        Collecting requests<3,>=2.21.0\u001b[K\n",
            "remote:          Downloading requests-2.26.0-py2.py3-none-any.whl (62 kB)\u001b[K\n",
            "remote:        Collecting markdown>=2.6.8\u001b[K\n",
            "remote:          Downloading Markdown-3.3.6-py3-none-any.whl (97 kB)\u001b[K\n",
            "remote:        Collecting werkzeug>=0.11.15\u001b[K\n",
            "remote:          Downloading Werkzeug-2.0.2-py3-none-any.whl (288 kB)\u001b[K\n",
            "remote:        Collecting google-auth<3,>=1.6.3\u001b[K\n",
            "remote:          Downloading google_auth-2.3.3-py2.py3-none-any.whl (155 kB)\u001b[K\n",
            "remote:        Collecting tensorboard-data-server<0.7.0,>=0.6.0\u001b[K\n",
            "remote:          Downloading tensorboard_data_server-0.6.1-py3-none-manylinux2010_x86_64.whl (4.9 MB)\u001b[K\n",
            "remote:        Collecting google-auth-oauthlib<0.5,>=0.4.1\u001b[K\n",
            "remote:          Downloading google_auth_oauthlib-0.4.6-py2.py3-none-any.whl (18 kB)\u001b[K\n",
            "remote:        Collecting cachetools<5.0,>=2.0.0\u001b[K\n",
            "remote:          Downloading cachetools-4.2.4-py3-none-any.whl (10 kB)\u001b[K\n",
            "remote:        Collecting rsa<5,>=3.1.4\u001b[K\n",
            "remote:          Downloading rsa-4.8-py3-none-any.whl (39 kB)\u001b[K\n",
            "remote:        Collecting pyasn1-modules>=0.2.1\u001b[K\n",
            "remote:          Downloading pyasn1_modules-0.2.8-py2.py3-none-any.whl (155 kB)\u001b[K\n",
            "remote:        Collecting requests-oauthlib>=0.7.0\u001b[K\n",
            "remote:          Downloading requests_oauthlib-1.3.0-py2.py3-none-any.whl (23 kB)\u001b[K\n",
            "remote:        Collecting importlib-metadata>=4.4\u001b[K\n",
            "remote:          Downloading importlib_metadata-4.9.0-py3-none-any.whl (17 kB)\u001b[K\n",
            "remote:        Collecting certifi>=2017.4.17\u001b[K\n",
            "remote:          Downloading certifi-2021.10.8-py2.py3-none-any.whl (149 kB)\u001b[K\n",
            "remote:        Collecting urllib3<1.27,>=1.21.1\u001b[K\n",
            "remote:          Downloading urllib3-1.26.7-py2.py3-none-any.whl (138 kB)\u001b[K\n",
            "remote:        Collecting charset-normalizer~=2.0.0\u001b[K\n",
            "remote:          Downloading charset_normalizer-2.0.9-py3-none-any.whl (39 kB)\u001b[K\n",
            "remote:        Collecting idna<4,>=2.5\u001b[K\n",
            "remote:          Downloading idna-3.3-py3-none-any.whl (61 kB)\u001b[K\n",
            "remote:        Collecting zipp>=0.5\u001b[K\n",
            "remote:          Downloading zipp-3.6.0-py3-none-any.whl (5.3 kB)\u001b[K\n",
            "remote:        Collecting pyasn1<0.5.0,>=0.4.6\u001b[K\n",
            "remote:          Downloading pyasn1-0.4.8-py2.py3-none-any.whl (77 kB)\u001b[K\n",
            "remote:        Collecting oauthlib>=3.0.0\u001b[K\n",
            "remote:          Downloading oauthlib-3.1.1-py2.py3-none-any.whl (146 kB)\u001b[K\n",
            "remote:        Building wheels for collected packages: Pillow, python-multipart, termcolor, wrapt\u001b[K\n",
            "remote:          Building wheel for Pillow (setup.py): started\u001b[K\n",
            "remote:          Building wheel for Pillow (setup.py): finished with status 'done'\u001b[K\n",
            "remote:          Created wheel for Pillow: filename=Pillow-7.1.2-cp39-cp39-linux_x86_64.whl size=1467901 sha256=c0508eb17c64a5f66f722fc4d5e99f30be0ecfaaea829ae525f0f03464640a2e\u001b[K\n",
            "remote:          Stored in directory: /tmp/pip-ephem-wheel-cache-uvjpkdzm/wheels/d9/ba/21/c85acde07dec9bda5e06f54595c9bad9ea1c2733b003d2c38d\u001b[K\n",
            "remote:          Building wheel for python-multipart (setup.py): started\u001b[K\n",
            "remote:          Building wheel for python-multipart (setup.py): finished with status 'done'\u001b[K\n",
            "remote:          Created wheel for python-multipart: filename=python_multipart-0.0.5-py3-none-any.whl size=31678 sha256=9ddaf711c1066b9d4019e74f03950ff7119a43576fad5d06eb4025d408a37a74\u001b[K\n",
            "remote:          Stored in directory: /tmp/pip-ephem-wheel-cache-uvjpkdzm/wheels/fe/04/d1/a10661cc45f03c3cecda50deb2d2c22f57b4e84a75b2a5987e\u001b[K\n",
            "remote:          Building wheel for termcolor (setup.py): started\u001b[K\n",
            "remote:          Building wheel for termcolor (setup.py): finished with status 'done'\u001b[K\n",
            "remote:          Created wheel for termcolor: filename=termcolor-1.1.0-py3-none-any.whl size=4847 sha256=3486a10e0793d73af7781b1e38c37d755b088f628407159330bcfc90320b79aa\u001b[K\n",
            "remote:          Stored in directory: /tmp/pip-ephem-wheel-cache-uvjpkdzm/wheels/b6/0d/90/0d1bbd99855f99cb2f6c2e5ff96f8023fad8ec367695f7d72d\u001b[K\n",
            "remote:          Building wheel for wrapt (setup.py): started\u001b[K\n",
            "remote:          Building wheel for wrapt (setup.py): finished with status 'done'\u001b[K\n",
            "remote:          Created wheel for wrapt: filename=wrapt-1.12.1-cp39-cp39-linux_x86_64.whl size=78630 sha256=14b4e2c49d84c3189d5a1aee4e798c614ab9d52b9b15571e95546f3f5767202c\u001b[K\n",
            "remote:          Stored in directory: /tmp/pip-ephem-wheel-cache-uvjpkdzm/wheels/98/23/68/efe259aaca055e93b08e74fbe512819c69a2155c11ba3c0f10\u001b[K\n",
            "remote:        Successfully built Pillow python-multipart termcolor wrapt\u001b[K\n",
            "remote:        Installing collected packages: urllib3, pyasn1, idna, charset-normalizer, certifi, zipp, six, rsa, requests, pyasn1-modules, oauthlib, cachetools, requests-oauthlib, importlib-metadata, google-auth, werkzeug, typing-extensions, tensorboard-plugin-wit, tensorboard-data-server, protobuf, numpy, markdown, grpcio, google-auth-oauthlib, absl-py, wrapt, termcolor, tensorflow-estimator, tensorboard, starlette, pydantic, opt-einsum, keras-preprocessing, keras-nightly, h5py, h11, google-pasta, gast, flatbuffers, click, astunparse, asgiref, uvicorn, tensorflow-cpu, python-multipart, Pillow, fastapi\u001b[K\n",
            "remote:        Successfully installed Pillow-7.1.2 absl-py-0.15.0 asgiref-3.4.1 astunparse-1.6.3 cachetools-4.2.4 certifi-2021.10.8 charset-normalizer-2.0.9 click-8.0.3 fastapi-0.68.1 flatbuffers-1.12 gast-0.4.0 google-auth-2.3.3 google-auth-oauthlib-0.4.6 google-pasta-0.2.0 grpcio-1.34.1 h11-0.12.0 h5py-3.1.0 idna-3.3 importlib-metadata-4.9.0 keras-nightly-2.5.0.dev2021032900 keras-preprocessing-1.1.2 markdown-3.3.6 numpy-1.19.5 oauthlib-3.1.1 opt-einsum-3.3.0 protobuf-3.19.1 pyasn1-0.4.8 pyasn1-modules-0.2.8 pydantic-1.8.2 python-multipart-0.0.5 requests-2.26.0 requests-oauthlib-1.3.0 rsa-4.8 six-1.15.0 starlette-0.14.2 tensorboard-2.7.0 tensorboard-data-server-0.6.1 tensorboard-plugin-wit-1.8.0 tensorflow-cpu-2.5.0 tensorflow-estimator-2.5.0 termcolor-1.1.0 typing-extensions-3.7.4.3 urllib3-1.26.7 uvicorn-0.15.0 werkzeug-2.0.2 wrapt-1.12.1 zipp-3.6.0\u001b[K\n",
            "remote: -----> Discovering process types\u001b[K\n",
            "remote:        Procfile declares types -> web\u001b[K\n",
            "remote: \n",
            "remote: -----> Compressing...\u001b[K\n",
            "remote:        Done: 281.5M\u001b[K\n",
            "remote: -----> Launching...\u001b[K\n",
            "remote:        Released v3\u001b[K\n",
            "remote:        https://minst-num-api-457356.herokuapp.com/ deployed to Heroku\u001b[K\n",
            "remote: \n",
            "remote: Verifying deploy... done.\u001b[K\n",
            "To https://git.heroku.com/minst-num-api-457356.git\n",
            " * [new branch]      master -> master\n"
          ]
        }
      ]
    },
    {
      "cell_type": "code",
      "source": [
        "from google.colab import drive\n",
        "drive.mount('/content/drive/', force_remount=True)"
      ],
      "metadata": {
        "colab": {
          "base_uri": "https://localhost:8080/"
        },
        "id": "gjIz4nmylEzT",
        "outputId": "865a516d-9463-4012-e1dd-6ee8084fdc87"
      },
      "execution_count": null,
      "outputs": [
        {
          "output_type": "stream",
          "name": "stdout",
          "text": [
            "Mounted at /content/drive/\n"
          ]
        }
      ]
    },
    {
      "cell_type": "code",
      "source": [
        "Names=[\"00.png\",\"01.png\",\"02.png\",\"03.png\",\"04.png\",\"05.png\",\"06.png\",\"07.png\",\"08.png\",\"09.png\"]\n",
        "img = Image.open('/content/drive/My Drive/NN/Numbers2/'+str(Names[0])).convert('L')\n",
        "Picturies=np.array(img)\n",
        "plt.imshow(Picturies,cmap='gray')  \n",
        "plt.show()"
      ],
      "metadata": {
        "colab": {
          "base_uri": "https://localhost:8080/",
          "height": 269
        },
        "id": "sljGuX6tnWS4",
        "outputId": "d8ad20d2-4348-4fee-eb42-4166a76afd75"
      },
      "execution_count": null,
      "outputs": [
        {
          "output_type": "display_data",
          "data": {
            "image/png": "[encoded data removed]",
            "text/plain": [
              "<Figure size 432x288 with 1 Axes>"
            ]
          },
          "metadata": {
            "needs_background": "light"
          }
        }
      ]
    },
    {
      "cell_type": "code",
      "source": [
        "import keras\n",
        "#Ручкой на белом листе \n",
        "Names=[\"00.png\",\"01.png\",\"02.png\",\"03.png\",\"04.png\",\"05.png\",\"06.png\",\"07.png\",\"08.png\",\"09.png\"]\n",
        "Picturies=list()\n",
        "for i in range(10):\n",
        "  img=keras.preprocessing.image.load_img('/content/drive/My Drive/NN/Numbers2/'+str(Names[i]), target_size=(28, 28), color_mode = 'grayscale') \n",
        "  img=keras.preprocessing.image.img_to_array(img)\n",
        "  Picturies.append(img)\n",
        "Picturies=np.array(Picturies)\n",
        "#Picturies=Picturies.astype('float32') / 255\n",
        "print(np.shape(Picturies))\n",
        "#invert\n",
        "Picturies=255-Picturies\n",
        "\n",
        "fig, axs = plt.subplots(1, 10, figsize=(25, 5))\n",
        "for i in range(10):\n",
        "    axs[i].set_title(str(i))\n",
        "    axs[i].imshow(Picturies[i,:,:,0],cmap='gray')  \n",
        "    axs[i].axis('off')\n",
        "# Отрисовка всего полотна\n",
        "plt.show()\n",
        "#Picturies1 = Picturies.reshape(Picturies.shape[0], -1)   \n",
        "Predict=model.predict(Picturies)\n",
        "print(np.argmax(Predict,axis=0))\n",
        "#print(Predict)"
      ],
      "metadata": {
        "colab": {
          "base_uri": "https://localhost:8080/",
          "height": 200
        },
        "id": "ONgju44unWWf",
        "outputId": "284a8749-0313-4dfd-bddb-1f80e3163c26"
      },
      "execution_count": null,
      "outputs": [
        {
          "output_type": "stream",
          "name": "stdout",
          "text": [
            "(10, 28, 28, 1)\n"
          ]
        },
        {
          "output_type": "display_data",
          "data": {
            "image/png": "[encoded data removed]",
            "text/plain": [
              "<Figure size 1800x360 with 10 Axes>"
            ]
          },
          "metadata": {
            "needs_background": "light"
          }
        },
        {
          "output_type": "stream",
          "name": "stdout",
          "text": [
            "[0 1 2 3 4 5 6 7 8 9]\n"
          ]
        }
      ]
    },
    {
      "cell_type": "code",
      "source": [
        "import requests\n",
        "for i in range(10):\n",
        "  files = {'file':  open('/content/drive/My Drive/NN/Numbers2/'+str(Names[i]),'rb')}\n",
        "  #r = requests.post('http://127.0.0.1:8000/predict', files=files,params={'invert':True})\n",
        "  r = requests.post('https://minst-num-api-457356.herokuapp.com/predict', files=files,params={'invert':True})\n",
        "  print(r.status_code,r.json())"
      ],
      "metadata": {
        "colab": {
          "base_uri": "https://localhost:8080/"
        },
        "id": "8q8uSWBIU6xS",
        "outputId": "4c360e53-01ec-4bdf-f4eb-0d2155efb82d"
      },
      "execution_count": null,
      "outputs": [
        {
          "output_type": "stream",
          "name": "stdout",
          "text": [
            "200 {'result': '0'}\n",
            "200 {'result': '1'}\n",
            "200 {'result': '2'}\n",
            "200 {'result': '3'}\n",
            "200 {'result': '4'}\n",
            "200 {'result': '5'}\n",
            "200 {'result': '6'}\n",
            "200 {'result': '7'}\n",
            "200 {'result': '8'}\n",
            "200 {'result': '9'}\n"
          ]
        }
      ]
    },
    {
      "cell_type": "code",
      "source": [
        "!heroku logs"
      ],
      "metadata": {
        "colab": {
          "base_uri": "https://localhost:8080/"
        },
        "id": "ULFgu_nRlEwK",
        "outputId": "b656c025-3ce8-43d3-f138-99c0f81906b1"
      },
      "execution_count": null,
      "outputs": [
        {
          "output_type": "stream",
          "name": "stdout",
          "text": [
            "\u001b[36m2021-12-17T17:18:27.808486+00:00 app[web.1]:\u001b[39m INFO:     Waiting for application startup.\n",
            "\u001b[36m2021-12-17T17:18:27.808667+00:00 app[web.1]:\u001b[39m INFO:     Application startup complete.\n",
            "\u001b[36m2021-12-17T17:18:28.013182+00:00 heroku[web.1]:\u001b[39m State changed from \u001b[93mstarting\u001b[39m to \u001b[92mup\u001b[39m\n",
            "\u001b[1m\u001b[32m2021-12-17T17:18:47.000000+00:00 app[api]:\u001b[39m\u001b[22m \u001b[92mBuild succeeded\u001b[39m\n",
            "\u001b[36m2021-12-17T17:20:27.253169+00:00 app[web.1]:\u001b[39m True\n",
            "\u001b[36m2021-12-17T17:20:27.253450+00:00 app[web.1]:\u001b[39m (28, 28) 23424.0\n",
            "\u001b[36m2021-12-17T17:20:27.253451+00:00 app[web.1]:\u001b[39m (1, 28, 28, 1)\n",
            "\u001b[36m2021-12-17T17:20:27.300701+00:00 app[web.1]:\u001b[39m 2021-12-17 17:20:27.300629: I tensorflow/compiler/mlir/mlir_graph_optimization_pass.cc:176] None of the MLIR Optimization Passes are enabled (registered 2)\n",
            "\u001b[36m2021-12-17T17:20:27.301074+00:00 app[web.1]:\u001b[39m 2021-12-17 17:20:27.301041: I tensorflow/core/platform/profile_utils/cpu_utils.cc:114] CPU Frequency: 2499995000 Hz\n",
            "\u001b[36m2021-12-17T17:20:27.460332+00:00 app[web.1]:\u001b[39m [[6.8499088e-01 1.5742916e-01 8.7347906e-04 1.1581632e-03 4.6828709e-04\n",
            "\u001b[36m2021-12-17T17:20:27.460359+00:00 app[web.1]:\u001b[39m 1.0182028e-04 2.7459301e-04 2.0042139e-04 1.5414372e-01 3.5948690e-04]]\n",
            "\u001b[36m2021-12-17T17:20:27.460408+00:00 app[web.1]:\u001b[39m 0\n",
            "\u001b[36m2021-12-17T17:20:27.460427+00:00 app[web.1]:\u001b[39m 0\n",
            "\u001b[36m2021-12-17T17:20:27.461751+00:00 app[web.1]:\u001b[39m INFO:     34.86.165.109:0 - \"\u001b[1m\u001b[35mPOST\u001b[39m\u001b[22m\u001b[32m /predict?invert=True \u001b[39mHTTP/1.1\" 200 OK\n",
            "\u001b[32m2021-12-17T17:20:27.465329+00:00 heroku[router]:\u001b[39m \u001b[2mat=\u001b[22m\u001b[2minfo\u001b[22m \u001b[2mmethod=\u001b[22m\u001b[1m\u001b[35mPOST\u001b[39m\u001b[22m \u001b[2mpath=\u001b[22m\u001b[32m\"/predict?invert=True\"\u001b[39m \u001b[2mhost=\u001b[22m\u001b[2mminst-num-api-457356.herokuapp.com\u001b[22m \u001b[2mrequest_id=\u001b[22m\u001b[2mee4c8d70-718c-4400-aa96-295a5b823032\u001b[22m \u001b[2mfwd=\u001b[22m\u001b[2m\"34.86.165.109\"\u001b[22m \u001b[2mdyno=\u001b[22m\u001b[36mweb.1\u001b[39m \u001b[2mconnect=\u001b[22m0ms \u001b[2mservice=\u001b[22m\u001b[32m221ms\u001b[39m \u001b[2mstatus=\u001b[22m\u001b[32m200\u001b[39m \u001b[2mbytes=\u001b[22m\u001b[2m158\u001b[22m \u001b[2mprotocol=\u001b[22m\u001b[2mhttps\u001b[22m\n",
            "\u001b[36m2021-12-17T17:20:27.506803+00:00 app[web.1]:\u001b[39m True\n",
            "\u001b[36m2021-12-17T17:20:27.506981+00:00 app[web.1]:\u001b[39m (28, 28) 12837.0\n",
            "\u001b[36m2021-12-17T17:20:27.507028+00:00 app[web.1]:\u001b[39m (1, 28, 28, 1)\n",
            "\u001b[32m2021-12-17T17:20:27.543888+00:00 heroku[router]:\u001b[39m \u001b[2mat=\u001b[22m\u001b[2minfo\u001b[22m \u001b[2mmethod=\u001b[22m\u001b[1m\u001b[35mPOST\u001b[39m\u001b[22m \u001b[2mpath=\u001b[22m\u001b[32m\"/predict?invert=True\"\u001b[39m \u001b[2mhost=\u001b[22m\u001b[2mminst-num-api-457356.herokuapp.com\u001b[22m \u001b[2mrequest_id=\u001b[22m\u001b[2m6155cbe8-ab4b-4271-8d9d-d7e05dc0f761\u001b[22m \u001b[2mfwd=\u001b[22m\u001b[2m\"34.86.165.109\"\u001b[22m \u001b[2mdyno=\u001b[22m\u001b[36mweb.1\u001b[39m \u001b[2mconnect=\u001b[22m0ms \u001b[2mservice=\u001b[22m\u001b[92m46ms\u001b[39m \u001b[2mstatus=\u001b[22m\u001b[32m200\u001b[39m \u001b[2mbytes=\u001b[22m\u001b[2m158\u001b[22m \u001b[2mprotocol=\u001b[22m\u001b[2mhttps\u001b[22m\n",
            "\u001b[36m2021-12-17T17:20:27.545012+00:00 app[web.1]:\u001b[39m [[1.1088309e-05 9.9517184e-01 3.1486325e-05 5.5839030e-07 1.7087298e-04\n",
            "\u001b[36m2021-12-17T17:20:27.545019+00:00 app[web.1]:\u001b[39m 7.0439208e-05 1.0084310e-03 3.4746123e-03 5.4329092e-05 6.3296816e-06]]\n",
            "\u001b[36m2021-12-17T17:20:27.545019+00:00 app[web.1]:\u001b[39m 1\n",
            "\u001b[36m2021-12-17T17:20:27.545037+00:00 app[web.1]:\u001b[39m 1\n",
            "\u001b[36m2021-12-17T17:20:27.545370+00:00 app[web.1]:\u001b[39m INFO:     34.86.165.109:0 - \"\u001b[1m\u001b[35mPOST\u001b[39m\u001b[22m\u001b[32m /predict?invert=True \u001b[39mHTTP/1.1\" 200 OK\n",
            "\u001b[36m2021-12-17T17:20:27.594943+00:00 app[web.1]:\u001b[39m True\n",
            "\u001b[36m2021-12-17T17:20:27.595047+00:00 app[web.1]:\u001b[39m (28, 28) 16217.0\n",
            "\u001b[36m2021-12-17T17:20:27.595060+00:00 app[web.1]:\u001b[39m (1, 28, 28, 1)\n",
            "\u001b[36m2021-12-17T17:20:27.631902+00:00 app[web.1]:\u001b[39m [[2.75038074e-05 2.96596885e-01 7.03219116e-01 3.06043512e-06\n",
            "\u001b[36m2021-12-17T17:20:27.631903+00:00 app[web.1]:\u001b[39m 4.25877204e-07 6.88171554e-07 1.14249684e-04 3.02853659e-05\n",
            "\u001b[36m2021-12-17T17:20:27.631910+00:00 app[web.1]:\u001b[39m 7.71437954e-06 8.53601918e-08]]\n",
            "\u001b[36m2021-12-17T17:20:27.631910+00:00 app[web.1]:\u001b[39m 2\n",
            "\u001b[36m2021-12-17T17:20:27.632027+00:00 app[web.1]:\u001b[39m 2\n",
            "\u001b[36m2021-12-17T17:20:27.632353+00:00 app[web.1]:\u001b[39m INFO:     34.86.165.109:0 - \"\u001b[1m\u001b[35mPOST\u001b[39m\u001b[22m\u001b[32m /predict?invert=True \u001b[39mHTTP/1.1\" 200 OK\n",
            "\u001b[32m2021-12-17T17:20:27.660830+00:00 heroku[router]:\u001b[39m \u001b[2mat=\u001b[22m\u001b[2minfo\u001b[22m \u001b[2mmethod=\u001b[22m\u001b[1m\u001b[35mPOST\u001b[39m\u001b[22m \u001b[2mpath=\u001b[22m\u001b[32m\"/predict?invert=True\"\u001b[39m \u001b[2mhost=\u001b[22m\u001b[2mminst-num-api-457356.herokuapp.com\u001b[22m \u001b[2mrequest_id=\u001b[22m\u001b[2m83b1b7ed-5000-4954-a5f8-31dd5507ce49\u001b[22m \u001b[2mfwd=\u001b[22m\u001b[2m\"34.86.165.109\"\u001b[22m \u001b[2mdyno=\u001b[22m\u001b[36mweb.1\u001b[39m \u001b[2mconnect=\u001b[22m0ms \u001b[2mservice=\u001b[22m\u001b[92m42ms\u001b[39m \u001b[2mstatus=\u001b[22m\u001b[32m200\u001b[39m \u001b[2mbytes=\u001b[22m\u001b[2m158\u001b[22m \u001b[2mprotocol=\u001b[22m\u001b[2mhttps\u001b[22m\n",
            "\u001b[36m2021-12-17T17:20:27.690575+00:00 app[web.1]:\u001b[39m True\n",
            "\u001b[36m2021-12-17T17:20:27.690846+00:00 app[web.1]:\u001b[39m (28, 28) 17555.0\n",
            "\u001b[36m2021-12-17T17:20:27.690895+00:00 app[web.1]:\u001b[39m (1, 28, 28, 1)\n",
            "\u001b[36m2021-12-17T17:20:27.737474+00:00 app[web.1]:\u001b[39m 2021-12-17 17:20:27.737381: I tensorflow/compiler/mlir/mlir_graph_optimization_pass.cc:176] None of the MLIR Optimization Passes are enabled (registered 2)\n",
            "\u001b[36m2021-12-17T17:20:27.737877+00:00 app[web.1]:\u001b[39m 2021-12-17 17:20:27.737825: I tensorflow/core/platform/profile_utils/cpu_utils.cc:114] CPU Frequency: 2499995000 Hz\n",
            "\u001b[36m2021-12-17T17:20:27.894724+00:00 app[web.1]:\u001b[39m [[3.9954177e-12 7.9675759e-05 8.6387715e-09 9.9985278e-01 7.8969081e-10\n",
            "\u001b[36m2021-12-17T17:20:27.894740+00:00 app[web.1]:\u001b[39m 6.7447589e-05 3.1912393e-08 1.2190801e-08 5.7270384e-08 3.0385499e-09]]\n",
            "\u001b[36m2021-12-17T17:20:27.894741+00:00 app[web.1]:\u001b[39m 3\n",
            "\u001b[36m2021-12-17T17:20:27.894841+00:00 app[web.1]:\u001b[39m 3\n",
            "\u001b[36m2021-12-17T17:20:27.896266+00:00 app[web.1]:\u001b[39m INFO:     34.86.165.109:0 - \"\u001b[1m\u001b[35mPOST\u001b[39m\u001b[22m\u001b[32m /predict?invert=True \u001b[39mHTTP/1.1\" 200 OK\n",
            "\u001b[32m2021-12-17T17:20:27.902274+00:00 heroku[router]:\u001b[39m \u001b[2mat=\u001b[22m\u001b[2minfo\u001b[22m \u001b[2mmethod=\u001b[22m\u001b[1m\u001b[35mPOST\u001b[39m\u001b[22m \u001b[2mpath=\u001b[22m\u001b[32m\"/predict?invert=True\"\u001b[39m \u001b[2mhost=\u001b[22m\u001b[2mminst-num-api-457356.herokuapp.com\u001b[22m \u001b[2mrequest_id=\u001b[22m\u001b[2m6152683b-6ab7-4a58-b504-acfefabcba9c\u001b[22m \u001b[2mfwd=\u001b[22m\u001b[2m\"34.86.165.109\"\u001b[22m \u001b[2mdyno=\u001b[22m\u001b[36mweb.1\u001b[39m \u001b[2mconnect=\u001b[22m0ms \u001b[2mservice=\u001b[22m\u001b[32m221ms\u001b[39m \u001b[2mstatus=\u001b[22m\u001b[32m200\u001b[39m \u001b[2mbytes=\u001b[22m\u001b[2m158\u001b[22m \u001b[2mprotocol=\u001b[22m\u001b[2mhttps\u001b[22m\n",
            "\u001b[36m2021-12-17T17:20:27.933287+00:00 app[web.1]:\u001b[39m True\n",
            "\u001b[36m2021-12-17T17:20:27.933333+00:00 app[web.1]:\u001b[39m (28, 28) 18233.0\n",
            "\u001b[36m2021-12-17T17:20:27.933344+00:00 app[web.1]:\u001b[39m (1, 28, 28, 1)\n",
            "\u001b[36m2021-12-17T17:20:27.984589+00:00 app[web.1]:\u001b[39m [[4.4108484e-10 5.6992587e-07 1.6926752e-08 5.4362580e-11 9.9943978e-01\n",
            "\u001b[36m2021-12-17T17:20:27.984596+00:00 app[web.1]:\u001b[39m 1.6378588e-07 1.7132681e-08 1.9812461e-07 1.7175331e-06 5.5753172e-04]]\n",
            "\u001b[36m2021-12-17T17:20:27.984605+00:00 app[web.1]:\u001b[39m 4\n",
            "\u001b[36m2021-12-17T17:20:27.984636+00:00 app[web.1]:\u001b[39m 4\n",
            "\u001b[36m2021-12-17T17:20:27.984924+00:00 app[web.1]:\u001b[39m INFO:     34.86.165.109:0 - \"\u001b[1m\u001b[35mPOST\u001b[39m\u001b[22m\u001b[32m /predict?invert=True \u001b[39mHTTP/1.1\" 200 OK\n",
            "\u001b[32m2021-12-17T17:20:27.989569+00:00 heroku[router]:\u001b[39m \u001b[2mat=\u001b[22m\u001b[2minfo\u001b[22m \u001b[2mmethod=\u001b[22m\u001b[1m\u001b[35mPOST\u001b[39m\u001b[22m \u001b[2mpath=\u001b[22m\u001b[32m\"/predict?invert=True\"\u001b[39m \u001b[2mhost=\u001b[22m\u001b[2mminst-num-api-457356.herokuapp.com\u001b[22m \u001b[2mrequest_id=\u001b[22m\u001b[2m77d52c29-c41c-439f-946a-958903da6730\u001b[22m \u001b[2mfwd=\u001b[22m\u001b[2m\"34.86.165.109\"\u001b[22m \u001b[2mdyno=\u001b[22m\u001b[36mweb.1\u001b[39m \u001b[2mconnect=\u001b[22m0ms \u001b[2mservice=\u001b[22m\u001b[92m58ms\u001b[39m \u001b[2mstatus=\u001b[22m\u001b[32m200\u001b[39m \u001b[2mbytes=\u001b[22m\u001b[2m158\u001b[22m \u001b[2mprotocol=\u001b[22m\u001b[2mhttps\u001b[22m\n",
            "\u001b[36m2021-12-17T17:20:28.020534+00:00 app[web.1]:\u001b[39m True\n",
            "\u001b[36m2021-12-17T17:20:28.020620+00:00 app[web.1]:\u001b[39m (28, 28) 20759.0\n",
            "\u001b[36m2021-12-17T17:20:28.020636+00:00 app[web.1]:\u001b[39m (1, 28, 28, 1)\n",
            "\u001b[36m2021-12-17T17:20:28.057853+00:00 app[web.1]:\u001b[39m [[9.5949345e-06 2.1792959e-05 1.7270395e-08 8.6829541e-06 5.9461905e-07\n",
            "\u001b[36m2021-12-17T17:20:28.057860+00:00 app[web.1]:\u001b[39m 9.9937773e-01 2.3080524e-04 3.9219245e-07 6.9649495e-06 3.4345483e-04]]\n",
            "\u001b[36m2021-12-17T17:20:28.057861+00:00 app[web.1]:\u001b[39m 5\n",
            "\u001b[36m2021-12-17T17:20:28.057917+00:00 app[web.1]:\u001b[39m 5\n",
            "\u001b[36m2021-12-17T17:20:28.058194+00:00 app[web.1]:\u001b[39m INFO:     34.86.165.109:0 - \"\u001b[1m\u001b[35mPOST\u001b[39m\u001b[22m\u001b[32m /predict?invert=True \u001b[39mHTTP/1.1\" 200 OK\n",
            "\u001b[32m2021-12-17T17:20:28.062666+00:00 heroku[router]:\u001b[39m \u001b[2mat=\u001b[22m\u001b[2minfo\u001b[22m \u001b[2mmethod=\u001b[22m\u001b[1m\u001b[35mPOST\u001b[39m\u001b[22m \u001b[2mpath=\u001b[22m\u001b[32m\"/predict?invert=True\"\u001b[39m \u001b[2mhost=\u001b[22m\u001b[2mminst-num-api-457356.herokuapp.com\u001b[22m \u001b[2mrequest_id=\u001b[22m\u001b[2m2279745d-d4bd-4ed2-9d4c-ac614a02a0ba\u001b[22m \u001b[2mfwd=\u001b[22m\u001b[2m\"34.86.165.109\"\u001b[22m \u001b[2mdyno=\u001b[22m\u001b[36mweb.1\u001b[39m \u001b[2mconnect=\u001b[22m0ms \u001b[2mservice=\u001b[22m\u001b[92m45ms\u001b[39m \u001b[2mstatus=\u001b[22m\u001b[32m200\u001b[39m \u001b[2mbytes=\u001b[22m\u001b[2m158\u001b[22m \u001b[2mprotocol=\u001b[22m\u001b[2mhttps\u001b[22m\n",
            "\u001b[36m2021-12-17T17:20:28.096771+00:00 app[web.1]:\u001b[39m True\n",
            "\u001b[36m2021-12-17T17:20:28.096825+00:00 app[web.1]:\u001b[39m (28, 28) 19321.0\n",
            "\u001b[36m2021-12-17T17:20:28.096836+00:00 app[web.1]:\u001b[39m (1, 28, 28, 1)\n",
            "\u001b[36m2021-12-17T17:20:28.130581+00:00 app[web.1]:\u001b[39m [[1.1244638e-02 2.2819531e-06 6.2985064e-06 4.1140847e-05 6.8617294e-07\n",
            "\u001b[36m2021-12-17T17:20:28.130589+00:00 app[web.1]:\u001b[39m 5.2063961e-02 9.2766905e-01 4.6730497e-07 8.9567946e-03 1.4695250e-05]]\n",
            "\u001b[36m2021-12-17T17:20:28.130589+00:00 app[web.1]:\u001b[39m 6\n",
            "\u001b[36m2021-12-17T17:20:28.130615+00:00 app[web.1]:\u001b[39m 6\n",
            "\u001b[36m2021-12-17T17:20:28.130898+00:00 app[web.1]:\u001b[39m INFO:     34.86.165.109:0 - \"\u001b[1m\u001b[35mPOST\u001b[39m\u001b[22m\u001b[32m /predict?invert=True \u001b[39mHTTP/1.1\" 200 OK\n",
            "\u001b[32m2021-12-17T17:20:28.132859+00:00 heroku[router]:\u001b[39m \u001b[2mat=\u001b[22m\u001b[2minfo\u001b[22m \u001b[2mmethod=\u001b[22m\u001b[1m\u001b[35mPOST\u001b[39m\u001b[22m \u001b[2mpath=\u001b[22m\u001b[32m\"/predict?invert=True\"\u001b[39m \u001b[2mhost=\u001b[22m\u001b[2mminst-num-api-457356.herokuapp.com\u001b[22m \u001b[2mrequest_id=\u001b[22m\u001b[2m7aef7f7c-b471-4a43-b8bb-9de813d3703e\u001b[22m \u001b[2mfwd=\u001b[22m\u001b[2m\"34.86.165.109\"\u001b[22m \u001b[2mdyno=\u001b[22m\u001b[36mweb.1\u001b[39m \u001b[2mconnect=\u001b[22m0ms \u001b[2mservice=\u001b[22m\u001b[92m40ms\u001b[39m \u001b[2mstatus=\u001b[22m\u001b[32m200\u001b[39m \u001b[2mbytes=\u001b[22m\u001b[2m158\u001b[22m \u001b[2mprotocol=\u001b[22m\u001b[2mhttps\u001b[22m\n",
            "\u001b[36m2021-12-17T17:20:28.161028+00:00 app[web.1]:\u001b[39m True\n",
            "\u001b[36m2021-12-17T17:20:28.161159+00:00 app[web.1]:\u001b[39m (28, 28) 17527.0\n",
            "\u001b[36m2021-12-17T17:20:28.161188+00:00 app[web.1]:\u001b[39m (1, 28, 28, 1)\n",
            "\u001b[36m2021-12-17T17:20:28.202214+00:00 app[web.1]:\u001b[39m [[1.1025524e-08 6.3086586e-04 1.3229749e-04 1.3960291e-04 1.3812882e-03\n",
            "\u001b[36m2021-12-17T17:20:28.202219+00:00 app[web.1]:\u001b[39m 2.3790313e-05 1.0640737e-06 9.9756396e-01 1.1909958e-04 7.9760857e-06]]\n",
            "\u001b[36m2021-12-17T17:20:28.202230+00:00 app[web.1]:\u001b[39m 7\n",
            "\u001b[36m2021-12-17T17:20:28.202246+00:00 app[web.1]:\u001b[39m 7\n",
            "\u001b[36m2021-12-17T17:20:28.202535+00:00 app[web.1]:\u001b[39m INFO:     34.86.165.109:0 - \"\u001b[1m\u001b[35mPOST\u001b[39m\u001b[22m\u001b[32m /predict?invert=True \u001b[39mHTTP/1.1\" 200 OK\n",
            "\u001b[32m2021-12-17T17:20:28.206329+00:00 heroku[router]:\u001b[39m \u001b[2mat=\u001b[22m\u001b[2minfo\u001b[22m \u001b[2mmethod=\u001b[22m\u001b[1m\u001b[35mPOST\u001b[39m\u001b[22m \u001b[2mpath=\u001b[22m\u001b[32m\"/predict?invert=True\"\u001b[39m \u001b[2mhost=\u001b[22m\u001b[2mminst-num-api-457356.herokuapp.com\u001b[22m \u001b[2mrequest_id=\u001b[22m\u001b[2m6d32dbcb-dbfc-469a-b4bb-9c6a4fa126ff\u001b[22m \u001b[2mfwd=\u001b[22m\u001b[2m\"34.86.165.109\"\u001b[22m \u001b[2mdyno=\u001b[22m\u001b[36mweb.1\u001b[39m \u001b[2mconnect=\u001b[22m0ms \u001b[2mservice=\u001b[22m\u001b[92m46ms\u001b[39m \u001b[2mstatus=\u001b[22m\u001b[32m200\u001b[39m \u001b[2mbytes=\u001b[22m\u001b[2m158\u001b[22m \u001b[2mprotocol=\u001b[22m\u001b[2mhttps\u001b[22m\n",
            "\u001b[36m2021-12-17T17:20:28.255582+00:00 app[web.1]:\u001b[39m True\n",
            "\u001b[36m2021-12-17T17:20:28.255756+00:00 app[web.1]:\u001b[39m (28, 28) 19925.0\n",
            "\u001b[36m2021-12-17T17:20:28.255806+00:00 app[web.1]:\u001b[39m (1, 28, 28, 1)\n",
            "\u001b[36m2021-12-17T17:20:28.303599+00:00 app[web.1]:\u001b[39m [[3.00891112e-09 1.57939814e-06 1.01773265e-08 1.76215508e-07\n",
            "\u001b[36m2021-12-17T17:20:28.303601+00:00 app[web.1]:\u001b[39m 1.58226390e-10 5.02535913e-05 1.91253768e-08 3.57645372e-11\n",
            "\u001b[36m2021-12-17T17:20:28.303628+00:00 app[web.1]:\u001b[39m 9.99947906e-01 6.55160326e-09]]\n",
            "\u001b[36m2021-12-17T17:20:28.303659+00:00 app[web.1]:\u001b[39m 8\n",
            "\u001b[36m2021-12-17T17:20:28.303705+00:00 app[web.1]:\u001b[39m 8\n",
            "\u001b[36m2021-12-17T17:20:28.304034+00:00 app[web.1]:\u001b[39m INFO:     34.86.165.109:0 - \"\u001b[1m\u001b[35mPOST\u001b[39m\u001b[22m\u001b[32m /predict?invert=True \u001b[39mHTTP/1.1\" 200 OK\n",
            "\u001b[32m2021-12-17T17:20:28.309900+00:00 heroku[router]:\u001b[39m \u001b[2mat=\u001b[22m\u001b[2minfo\u001b[22m \u001b[2mmethod=\u001b[22m\u001b[1m\u001b[35mPOST\u001b[39m\u001b[22m \u001b[2mpath=\u001b[22m\u001b[32m\"/predict?invert=True\"\u001b[39m \u001b[2mhost=\u001b[22m\u001b[2mminst-num-api-457356.herokuapp.com\u001b[22m \u001b[2mrequest_id=\u001b[22m\u001b[2m2e1665a4-8ca7-474f-82f9-580bf3490076\u001b[22m \u001b[2mfwd=\u001b[22m\u001b[2m\"34.86.165.109\"\u001b[22m \u001b[2mdyno=\u001b[22m\u001b[36mweb.1\u001b[39m \u001b[2mconnect=\u001b[22m0ms \u001b[2mservice=\u001b[22m\u001b[92m54ms\u001b[39m \u001b[2mstatus=\u001b[22m\u001b[32m200\u001b[39m \u001b[2mbytes=\u001b[22m\u001b[2m158\u001b[22m \u001b[2mprotocol=\u001b[22m\u001b[2mhttps\u001b[22m\n",
            "\u001b[36m2021-12-17T17:20:28.338339+00:00 app[web.1]:\u001b[39m True\n",
            "\u001b[36m2021-12-17T17:20:28.338529+00:00 app[web.1]:\u001b[39m (28, 28) 15473.0\n",
            "\u001b[36m2021-12-17T17:20:28.338579+00:00 app[web.1]:\u001b[39m (1, 28, 28, 1)\n",
            "\u001b[36m2021-12-17T17:20:28.396180+00:00 app[web.1]:\u001b[39m [[1.2934054e-04 5.8561159e-06 3.0287603e-04 1.7489079e-02 3.1228777e-04\n",
            "\u001b[36m2021-12-17T17:20:28.396186+00:00 app[web.1]:\u001b[39m 1.0623252e-03 6.9439734e-09 3.0995903e-05 4.1928579e-04 9.8024791e-01]]\n",
            "\u001b[36m2021-12-17T17:20:28.396213+00:00 app[web.1]:\u001b[39m 9\n",
            "\u001b[36m2021-12-17T17:20:28.396239+00:00 app[web.1]:\u001b[39m 9\n",
            "\u001b[36m2021-12-17T17:20:28.396568+00:00 app[web.1]:\u001b[39m INFO:     34.86.165.109:0 - \"\u001b[1m\u001b[35mPOST\u001b[39m\u001b[22m\u001b[32m /predict?invert=True \u001b[39mHTTP/1.1\" 200 OK\n",
            "\u001b[32m2021-12-17T17:20:28.405767+00:00 heroku[router]:\u001b[39m \u001b[2mat=\u001b[22m\u001b[2minfo\u001b[22m \u001b[2mmethod=\u001b[22m\u001b[1m\u001b[35mPOST\u001b[39m\u001b[22m \u001b[2mpath=\u001b[22m\u001b[32m\"/predict?invert=True\"\u001b[39m \u001b[2mhost=\u001b[22m\u001b[2mminst-num-api-457356.herokuapp.com\u001b[22m \u001b[2mrequest_id=\u001b[22m\u001b[2m06ce4d17-7248-46a7-9b88-4d1839b9fbb3\u001b[22m \u001b[2mfwd=\u001b[22m\u001b[2m\"34.86.165.109\"\u001b[22m \u001b[2mdyno=\u001b[22m\u001b[36mweb.1\u001b[39m \u001b[2mconnect=\u001b[22m0ms \u001b[2mservice=\u001b[22m\u001b[92m70ms\u001b[39m \u001b[2mstatus=\u001b[22m\u001b[32m200\u001b[39m \u001b[2mbytes=\u001b[22m\u001b[2m158\u001b[22m \u001b[2mprotocol=\u001b[22m\u001b[2mhttps\u001b[22m\n"
          ]
        }
      ]
    },
    {
      "cell_type": "code",
      "source": [
        "#Дальше эксперименты, можно не смотреть"
      ],
      "metadata": {
        "id": "R8WpEPSPVDuC"
      },
      "execution_count": null,
      "outputs": []
    },
    {
      "cell_type": "code",
      "source": [
        "from PIL import Image\n",
        "import requests\n",
        "im = Image.fromarray(x_test[2].reshape(28,28))\n",
        "im.save(\"x_test_org_0.jpeg\")\n",
        "files = {'file': open('x_test_org_0.jpeg','rb')}\n",
        "r = requests.post('https://minst-num-api-457356.herokuapp.com/predict', files=files, data={'invert':'True'})\n",
        "print(r.status_code)\n",
        "print(r.json())"
      ],
      "metadata": {
        "colab": {
          "base_uri": "https://localhost:8080/"
        },
        "id": "NL4j7b-4lEtA",
        "outputId": "c03cf0dc-6a6b-46ba-cfca-4d29c914f8e7"
      },
      "execution_count": null,
      "outputs": [
        {
          "output_type": "stream",
          "name": "stdout",
          "text": [
            "200\n",
            "{'result': '1'}\n"
          ]
        }
      ]
    },
    {
      "cell_type": "code",
      "source": [
        "for i in range(10):\n",
        "    axs[i].set_title(str(i))\n",
        "    axs[i].imshow(Picturies[i,:,:,0],cmap='gray')  \n",
        "    axs[i].axis('off')\n",
        "# Отрисовка всего полотна\n",
        "plt.show()\n",
        "#Picturies1 = Picturies.reshape(Picturies.shape[0], -1)   \n",
        "Predict=model.predict(Picturies)\n",
        "print(np.argmax(Predict,axis=1))"
      ],
      "metadata": {
        "id": "7sHNVhNU2dKN"
      },
      "execution_count": null,
      "outputs": []
    },
    {
      "cell_type": "code",
      "source": [
        "files = {'file': open('/content/drive/My Drive/NN/Numbers2/'+str(Names[2]),'rb'),'invert':'True'}\n",
        "r = requests.post('https://minst-num-api-457356.herokuapp.com/predict', files=files)\n",
        "print(r.status_code)\n",
        "print(r.json())"
      ],
      "metadata": {
        "colab": {
          "base_uri": "https://localhost:8080/"
        },
        "id": "sTI3Mt_p2dio",
        "outputId": "3c054ed7-e008-4ffb-9558-bc179868503e"
      },
      "execution_count": null,
      "outputs": [
        {
          "output_type": "stream",
          "name": "stdout",
          "text": [
            "200\n",
            "{'result': '6'}\n"
          ]
        }
      ]
    },
    {
      "cell_type": "code",
      "source": [],
      "metadata": {
        "id": "OnkNREiL3Z7u"
      },
      "execution_count": null,
      "outputs": []
    },
    {
      "cell_type": "code",
      "source": [],
      "metadata": {
        "id": "KaNB6nBoFBB4"
      },
      "execution_count": null,
      "outputs": []
    },
    {
      "cell_type": "code",
      "source": [
        "!pip install fastapi\n",
        "!pip install uvicorn\n",
        "!pip install python-multipart"
      ],
      "metadata": {
        "colab": {
          "base_uri": "https://localhost:8080/"
        },
        "id": "XhpPNHCxFBFa",
        "outputId": "62d36181-c28c-42d2-db2d-8a7086bf434c"
      },
      "execution_count": null,
      "outputs": [
        {
          "output_type": "stream",
          "name": "stdout",
          "text": [
            "Collecting fastapi\n",
            "  Downloading fastapi-0.70.1-py3-none-any.whl (51 kB)\n",
            "\u001b[?25l\r\u001b[K     |██████▎                         | 10 kB 19.4 MB/s eta 0:00:01\r\u001b[K     |████████████▋                   | 20 kB 22.4 MB/s eta 0:00:01\r\u001b[K     |███████████████████             | 30 kB 25.0 MB/s eta 0:00:01\r\u001b[K     |█████████████████████████▎      | 40 kB 28.5 MB/s eta 0:00:01\r\u001b[K     |███████████████████████████████▌| 51 kB 31.7 MB/s eta 0:00:01\r\u001b[K     |████████████████████████████████| 51 kB 630 kB/s \n",
            "\u001b[?25hCollecting starlette==0.16.0\n",
            "  Downloading starlette-0.16.0-py3-none-any.whl (61 kB)\n",
            "\u001b[K     |████████████████████████████████| 61 kB 259 kB/s \n",
            "\u001b[?25hCollecting pydantic!=1.7,!=1.7.1,!=1.7.2,!=1.7.3,!=1.8,!=1.8.1,<2.0.0,>=1.6.2\n",
            "  Downloading pydantic-1.8.2-cp37-cp37m-manylinux2014_x86_64.whl (10.1 MB)\n",
            "\u001b[K     |████████████████████████████████| 10.1 MB 43.9 MB/s \n",
            "\u001b[?25hCollecting anyio<4,>=3.0.0\n",
            "  Downloading anyio-3.4.0-py3-none-any.whl (78 kB)\n",
            "\u001b[K     |████████████████████████████████| 78 kB 7.4 MB/s \n",
            "\u001b[?25hRequirement already satisfied: typing-extensions in /usr/local/lib/python3.7/dist-packages (from starlette==0.16.0->fastapi) (3.10.0.2)\n",
            "Collecting sniffio>=1.1\n",
            "  Downloading sniffio-1.2.0-py3-none-any.whl (10 kB)\n",
            "Requirement already satisfied: idna>=2.8 in /usr/local/lib/python3.7/dist-packages (from anyio<4,>=3.0.0->starlette==0.16.0->fastapi) (2.10)\n",
            "Installing collected packages: sniffio, anyio, starlette, pydantic, fastapi\n",
            "Successfully installed anyio-3.4.0 fastapi-0.70.1 pydantic-1.8.2 sniffio-1.2.0 starlette-0.16.0\n",
            "Collecting uvicorn\n",
            "  Downloading uvicorn-0.16.0-py3-none-any.whl (54 kB)\n",
            "\u001b[K     |████████████████████████████████| 54 kB 3.2 MB/s \n",
            "\u001b[?25hCollecting h11>=0.8\n",
            "  Downloading h11-0.12.0-py3-none-any.whl (54 kB)\n",
            "\u001b[K     |████████████████████████████████| 54 kB 2.9 MB/s \n",
            "\u001b[?25hRequirement already satisfied: typing-extensions in /usr/local/lib/python3.7/dist-packages (from uvicorn) (3.10.0.2)\n",
            "Requirement already satisfied: click>=7.0 in /usr/local/lib/python3.7/dist-packages (from uvicorn) (7.1.2)\n",
            "Collecting asgiref>=3.4.0\n",
            "  Downloading asgiref-3.4.1-py3-none-any.whl (25 kB)\n",
            "Installing collected packages: h11, asgiref, uvicorn\n",
            "Successfully installed asgiref-3.4.1 h11-0.12.0 uvicorn-0.16.0\n",
            "Collecting python-multipart\n",
            "  Downloading python-multipart-0.0.5.tar.gz (32 kB)\n",
            "Requirement already satisfied: six>=1.4.0 in /usr/local/lib/python3.7/dist-packages (from python-multipart) (1.15.0)\n",
            "Building wheels for collected packages: python-multipart\n",
            "  Building wheel for python-multipart (setup.py) ... \u001b[?25l\u001b[?25hdone\n",
            "  Created wheel for python-multipart: filename=python_multipart-0.0.5-py3-none-any.whl size=31678 sha256=68853c9347dd50dfabd8617df78b79add96c9a07a2bbd4aeb0c5dcc79003c8ef\n",
            "  Stored in directory: /root/.cache/pip/wheels/2c/41/7c/bfd1c180534ffdcc0972f78c5758f89881602175d48a8bcd2c\n",
            "Successfully built python-multipart\n",
            "Installing collected packages: python-multipart\n",
            "Successfully installed python-multipart-0.0.5\n"
          ]
        }
      ]
    },
    {
      "cell_type": "code",
      "source": [
        "main_file = '''from fastapi import FastAPI, File\n",
        "from predict import process\n",
        "\n",
        "app = FastAPI()\n",
        "\n",
        "\n",
        "@app.post(\"/predict\")\n",
        "async def create_file(file: bytes = File(...),invert: bool=True):\n",
        "    #print(invert)\n",
        "    result=process(file,invert)\n",
        "    print(result)\n",
        "    return {\"result\": str(result)}\n",
        "'''\n",
        "\n",
        "with open('main.py', 'w') as file:\n",
        "    file.write(main_file)"
      ],
      "metadata": {
        "id": "fPLGC1B3FBJW"
      },
      "execution_count": null,
      "outputs": []
    },
    {
      "cell_type": "code",
      "source": [
        "='False'"
      ],
      "metadata": {
        "id": "ooC3YiZ3JGax"
      },
      "execution_count": null,
      "outputs": []
    },
    {
      "cell_type": "code",
      "source": [
        "!nohup uvicorn main:app --reload &"
      ],
      "metadata": {
        "colab": {
          "base_uri": "https://localhost:8080/"
        },
        "id": "2slKSywfFbQ-",
        "outputId": "7b537e4e-10fa-46a1-d36e-4a3e72ba27e1"
      },
      "execution_count": null,
      "outputs": [
        {
          "output_type": "stream",
          "name": "stdout",
          "text": [
            "nohup: appending output to 'nohup.out'\n"
          ]
        }
      ]
    },
    {
      "cell_type": "code",
      "source": [
        "!cat nohup.out"
      ],
      "metadata": {
        "colab": {
          "base_uri": "https://localhost:8080/"
        },
        "id": "kQLGu5lNGAn3",
        "outputId": "5cdff353-335e-463d-df86-c3ac2159e5c1"
      },
      "execution_count": null,
      "outputs": [
        {
          "output_type": "stream",
          "name": "stdout",
          "text": [
            "INFO:     Will watch for changes in these directories: ['/content']\n",
            "INFO:     Uvicorn running on http://127.0.0.1:8000 (Press CTRL+C to quit)\n",
            "INFO:     Started reloader process [382] using statreload\n",
            "Process SpawnProcess-1:\n",
            "Traceback (most recent call last):\n",
            "  File \"/usr/lib/python3.7/multiprocessing/process.py\", line 297, in _bootstrap\n",
            "    self.run()\n",
            "  File \"/usr/lib/python3.7/multiprocessing/process.py\", line 99, in run\n",
            "    self._target(*self._args, **self._kwargs)\n",
            "  File \"/usr/local/lib/python3.7/dist-packages/uvicorn/subprocess.py\", line 76, in subprocess_started\n",
            "    target(sockets=sockets)\n",
            "  File \"/usr/local/lib/python3.7/dist-packages/uvicorn/server.py\", line 68, in run\n",
            "    return asyncio.run(self.serve(sockets=sockets))\n",
            "  File \"/usr/lib/python3.7/asyncio/runners.py\", line 43, in run\n",
            "    return loop.run_until_complete(main)\n",
            "  File \"/usr/lib/python3.7/asyncio/base_events.py\", line 587, in run_until_complete\n",
            "    return future.result()\n",
            "  File \"/usr/local/lib/python3.7/dist-packages/uvicorn/server.py\", line 76, in serve\n",
            "    config.load()\n",
            "  File \"/usr/local/lib/python3.7/dist-packages/uvicorn/config.py\", line 456, in load\n",
            "    self.loaded_app = import_from_string(self.app)\n",
            "  File \"/usr/local/lib/python3.7/dist-packages/uvicorn/importer.py\", line 21, in import_from_string\n",
            "    module = importlib.import_module(module_str)\n",
            "  File \"/usr/lib/python3.7/importlib/__init__.py\", line 127, in import_module\n",
            "    return _bootstrap._gcd_import(name[level:], package, level)\n",
            "  File \"<frozen importlib._bootstrap>\", line 1006, in _gcd_import\n",
            "  File \"<frozen importlib._bootstrap>\", line 983, in _find_and_load\n",
            "  File \"<frozen importlib._bootstrap>\", line 967, in _find_and_load_unlocked\n",
            "  File \"<frozen importlib._bootstrap>\", line 677, in _load_unlocked\n",
            "  File \"<frozen importlib._bootstrap_external>\", line 728, in exec_module\n",
            "  File \"<frozen importlib._bootstrap>\", line 219, in _call_with_frames_removed\n",
            "  File \"./main.py\", line 2, in <module>\n",
            "    from predict import process\n",
            "  File \"./predict.py\", line 8, in <module>\n",
            "    model = load_model('model_minst.h5')  # Инициализация модели\n",
            "  File \"/usr/local/lib/python3.7/dist-packages/keras/utils/traceback_utils.py\", line 67, in error_handler\n",
            "    raise e.with_traceback(filtered_tb) from None\n",
            "  File \"/usr/local/lib/python3.7/dist-packages/keras/saving/save.py\", line 209, in load_model\n",
            "    raise IOError(f'No file or directory found at {filepath}')\n",
            "OSError: No file or directory found at model_minst.h5\n",
            "INFO:     Stopping reloader process [382]\n",
            "INFO:     Will watch for changes in these directories: ['/content']\n",
            "INFO:     Uvicorn running on http://127.0.0.1:8000 (Press CTRL+C to quit)\n",
            "INFO:     Started reloader process [445] using statreload\n",
            "Process SpawnProcess-1:\n",
            "Traceback (most recent call last):\n",
            "  File \"/usr/lib/python3.7/multiprocessing/process.py\", line 297, in _bootstrap\n",
            "    self.run()\n",
            "  File \"/usr/lib/python3.7/multiprocessing/process.py\", line 99, in run\n",
            "    self._target(*self._args, **self._kwargs)\n",
            "  File \"/usr/local/lib/python3.7/dist-packages/uvicorn/subprocess.py\", line 76, in subprocess_started\n",
            "    target(sockets=sockets)\n",
            "  File \"/usr/local/lib/python3.7/dist-packages/uvicorn/server.py\", line 68, in run\n",
            "    return asyncio.run(self.serve(sockets=sockets))\n",
            "  File \"/usr/lib/python3.7/asyncio/runners.py\", line 43, in run\n",
            "    return loop.run_until_complete(main)\n",
            "  File \"/usr/lib/python3.7/asyncio/base_events.py\", line 587, in run_until_complete\n",
            "    return future.result()\n",
            "  File \"/usr/local/lib/python3.7/dist-packages/uvicorn/server.py\", line 76, in serve\n",
            "    config.load()\n",
            "  File \"/usr/local/lib/python3.7/dist-packages/uvicorn/config.py\", line 456, in load\n",
            "    self.loaded_app = import_from_string(self.app)\n",
            "  File \"/usr/local/lib/python3.7/dist-packages/uvicorn/importer.py\", line 21, in import_from_string\n",
            "    module = importlib.import_module(module_str)\n",
            "  File \"/usr/lib/python3.7/importlib/__init__.py\", line 127, in import_module\n",
            "    return _bootstrap._gcd_import(name[level:], package, level)\n",
            "  File \"<frozen importlib._bootstrap>\", line 1006, in _gcd_import\n",
            "  File \"<frozen importlib._bootstrap>\", line 983, in _find_and_load\n",
            "  File \"<frozen importlib._bootstrap>\", line 967, in _find_and_load_unlocked\n",
            "  File \"<frozen importlib._bootstrap>\", line 677, in _load_unlocked\n",
            "  File \"<frozen importlib._bootstrap_external>\", line 728, in exec_module\n",
            "  File \"<frozen importlib._bootstrap>\", line 219, in _call_with_frames_removed\n",
            "  File \"./main.py\", line 2, in <module>\n",
            "    from predict import process\n",
            "  File \"./predict.py\", line 8, in <module>\n",
            "    model = load_model('model_minst.h5')  # Инициализация модели\n",
            "  File \"/usr/local/lib/python3.7/dist-packages/keras/utils/traceback_utils.py\", line 67, in error_handler\n",
            "    raise e.with_traceback(filtered_tb) from None\n",
            "  File \"/usr/local/lib/python3.7/dist-packages/keras/saving/save.py\", line 209, in load_model\n",
            "    raise IOError(f'No file or directory found at {filepath}')\n",
            "OSError: No file or directory found at model_minst.h5\n",
            "INFO:     Stopping reloader process [445]\n",
            "INFO:     Will watch for changes in these directories: ['/content']\n",
            "INFO:     Uvicorn running on http://127.0.0.1:8000 (Press CTRL+C to quit)\n",
            "INFO:     Started reloader process [479] using statreload\n",
            "2021-12-17 16:03:06.263027: E tensorflow/stream_executor/cuda/cuda_driver.cc:271] failed call to cuInit: CUDA_ERROR_NO_DEVICE: no CUDA-capable device is detected\n",
            "INFO:     Started server process [481]\n",
            "INFO:     Waiting for application startup.\n",
            "INFO:     Application startup complete.\n",
            "False\n",
            "(28, 28)\n",
            "(1, 28, 28, 1)\n",
            "[[1.6931987e-14 1.0000000e+00 1.0966316e-11 5.1360397e-18 3.3191086e-10\n",
            "  1.3308538e-10 3.3333246e-11 3.3830441e-09 1.0923458e-11 3.2202574e-13]]\n",
            "1\n",
            "1\n",
            "INFO:     127.0.0.1:50080 - \"POST /predict HTTP/1.1\" 200 OK\n",
            "WARNING:  StatReload detected file change in 'main.py'. Reloading...\n",
            "INFO:     Shutting down\n",
            "INFO:     Waiting for application shutdown.\n",
            "INFO:     Application shutdown complete.\n",
            "INFO:     Finished server process [481]\n",
            "2021-12-17 16:04:59.302691: E tensorflow/stream_executor/cuda/cuda_driver.cc:271] failed call to cuInit: CUDA_ERROR_NO_DEVICE: no CUDA-capable device is detected\n",
            "INFO:     Started server process [522]\n",
            "INFO:     Waiting for application startup.\n",
            "INFO:     Application startup complete.\n",
            "False\n",
            "False\n",
            "(28, 28)\n",
            "(1, 28, 28, 1)\n",
            "[[1.6931987e-14 1.0000000e+00 1.0966316e-11 5.1360397e-18 3.3191086e-10\n",
            "  1.3308538e-10 3.3333246e-11 3.3830441e-09 1.0923458e-11 3.2202574e-13]]\n",
            "1\n",
            "1\n",
            "INFO:     127.0.0.1:50668 - \"POST /predict HTTP/1.1\" 200 OK\n",
            "WARNING:  StatReload detected file change in 'main.py'. Reloading...\n",
            "INFO:     Shutting down\n",
            "INFO:     Waiting for application shutdown.\n",
            "INFO:     Application shutdown complete.\n",
            "INFO:     Finished server process [522]\n",
            "Process SpawnProcess-3:\n",
            "Traceback (most recent call last):\n",
            "  File \"/usr/lib/python3.7/multiprocessing/process.py\", line 297, in _bootstrap\n",
            "    self.run()\n",
            "  File \"/usr/lib/python3.7/multiprocessing/process.py\", line 99, in run\n",
            "    self._target(*self._args, **self._kwargs)\n",
            "  File \"/usr/local/lib/python3.7/dist-packages/uvicorn/subprocess.py\", line 76, in subprocess_started\n",
            "    target(sockets=sockets)\n",
            "  File \"/usr/local/lib/python3.7/dist-packages/uvicorn/server.py\", line 68, in run\n",
            "    return asyncio.run(self.serve(sockets=sockets))\n",
            "  File \"/usr/lib/python3.7/asyncio/runners.py\", line 43, in run\n",
            "    return loop.run_until_complete(main)\n",
            "  File \"/usr/lib/python3.7/asyncio/base_events.py\", line 587, in run_until_complete\n",
            "    return future.result()\n",
            "  File \"/usr/local/lib/python3.7/dist-packages/uvicorn/server.py\", line 76, in serve\n",
            "    config.load()\n",
            "  File \"/usr/local/lib/python3.7/dist-packages/uvicorn/config.py\", line 456, in load\n",
            "    self.loaded_app = import_from_string(self.app)\n",
            "  File \"/usr/local/lib/python3.7/dist-packages/uvicorn/importer.py\", line 21, in import_from_string\n",
            "    module = importlib.import_module(module_str)\n",
            "  File \"/usr/lib/python3.7/importlib/__init__.py\", line 127, in import_module\n",
            "    return _bootstrap._gcd_import(name[level:], package, level)\n",
            "  File \"<frozen importlib._bootstrap>\", line 1006, in _gcd_import\n",
            "  File \"<frozen importlib._bootstrap>\", line 983, in _find_and_load\n",
            "  File \"<frozen importlib._bootstrap>\", line 967, in _find_and_load_unlocked\n",
            "  File \"<frozen importlib._bootstrap>\", line 677, in _load_unlocked\n",
            "  File \"<frozen importlib._bootstrap_external>\", line 724, in exec_module\n",
            "  File \"<frozen importlib._bootstrap_external>\", line 860, in get_code\n",
            "  File \"<frozen importlib._bootstrap_external>\", line 791, in source_to_code\n",
            "  File \"<frozen importlib._bootstrap>\", line 219, in _call_with_frames_removed\n",
            "  File \"./main.py\", line 8\n",
            "    async def create_file(file: bytes = File(...),invert: str):\n",
            "                         ^\n",
            "SyntaxError: non-default argument follows default argument\n",
            "INFO:     Stopping reloader process [479]\n",
            "INFO:     Will watch for changes in these directories: ['/content']\n",
            "INFO:     Uvicorn running on http://127.0.0.1:8000 (Press CTRL+C to quit)\n",
            "INFO:     Started reloader process [615] using statreload\n",
            "2021-12-17 16:18:37.097132: E tensorflow/stream_executor/cuda/cuda_driver.cc:271] failed call to cuInit: CUDA_ERROR_NO_DEVICE: no CUDA-capable device is detected\n",
            "INFO:     Started server process [617]\n",
            "INFO:     Waiting for application startup.\n",
            "INFO:     Application startup complete.\n",
            "0\n",
            "0\n",
            "(28, 28)\n",
            "(1, 28, 28, 1)\n",
            "[[1.6931987e-14 1.0000000e+00 1.0966316e-11 5.1360397e-18 3.3191086e-10\n",
            "  1.3308538e-10 3.3333246e-11 3.3830441e-09 1.0923458e-11 3.2202574e-13]]\n",
            "1\n",
            "1\n",
            "INFO:     127.0.0.1:53474 - \"POST /predict HTTP/1.1\" 200 OK\n",
            "1\n",
            "1\n",
            "(28, 28)\n",
            "(1, 28, 28, 1)\n",
            "[[1.6931987e-14 1.0000000e+00 1.0966316e-11 5.1360397e-18 3.3191086e-10\n",
            "  1.3308538e-10 3.3333246e-11 3.3830441e-09 1.0923458e-11 3.2202574e-13]]\n",
            "1\n",
            "1\n",
            "INFO:     127.0.0.1:58376 - \"POST /predict?invert=1 HTTP/1.1\" 200 OK\n",
            "0\n",
            "0\n",
            "(28, 28)\n",
            "(1, 28, 28, 1)\n",
            "[[1.6931987e-14 1.0000000e+00 1.0966316e-11 5.1360397e-18 3.3191086e-10\n",
            "  1.3308538e-10 3.3333246e-11 3.3830441e-09 1.0923458e-11 3.2202574e-13]]\n",
            "1\n",
            "1\n",
            "INFO:     127.0.0.1:58504 - \"POST /predict?invert=0 HTTP/1.1\" 200 OK\n",
            "WARNING:  StatReload detected file change in 'main.py'. Reloading...\n",
            "INFO:     Shutting down\n",
            "INFO:     Waiting for application shutdown.\n",
            "INFO:     Application shutdown complete.\n",
            "INFO:     Finished server process [617]\n",
            "2021-12-17 16:37:41.672355: E tensorflow/stream_executor/cuda/cuda_driver.cc:271] failed call to cuInit: CUDA_ERROR_NO_DEVICE: no CUDA-capable device is detected\n",
            "INFO:     Started server process [800]\n",
            "INFO:     Waiting for application startup.\n",
            "INFO:     Application startup complete.\n",
            "INFO:     Will watch for changes in these directories: ['/content']\n",
            "ERROR:    [Errno 98] Address already in use\n",
            "True\n",
            "True\n",
            "(28, 28)\n",
            "(1, 28, 28, 1)\n",
            "[[1.6931987e-14 1.0000000e+00 1.0966316e-11 5.1360397e-18 3.3191086e-10\n",
            "  1.3308538e-10 3.3333246e-11 3.3830441e-09 1.0923458e-11 3.2202574e-13]]\n",
            "1\n",
            "1\n",
            "INFO:     127.0.0.1:58888 - \"POST /predict?invert=True HTTP/1.1\" 200 OK\n",
            "False\n",
            "False\n",
            "(28, 28)\n",
            "(1, 28, 28, 1)\n",
            "[[1.6931987e-14 1.0000000e+00 1.0966316e-11 5.1360397e-18 3.3191086e-10\n",
            "  1.3308538e-10 3.3333246e-11 3.3830441e-09 1.0923458e-11 3.2202574e-13]]\n",
            "1\n",
            "1\n",
            "INFO:     127.0.0.1:59068 - \"POST /predict?invert=False HTTP/1.1\" 200 OK\n",
            "WARNING:  StatReload detected file change in 'predict.py'. Reloading...\n",
            "INFO:     Shutting down\n",
            "INFO:     Waiting for application shutdown.\n",
            "INFO:     Application shutdown complete.\n",
            "INFO:     Finished server process [800]\n",
            "2021-12-17 16:38:55.858144: E tensorflow/stream_executor/cuda/cuda_driver.cc:271] failed call to cuInit: CUDA_ERROR_NO_DEVICE: no CUDA-capable device is detected\n",
            "INFO:     Started server process [842]\n",
            "INFO:     Waiting for application startup.\n",
            "INFO:     Application startup complete.\n",
            "False\n",
            "False\n",
            "(28, 28)\n",
            "(1, 28, 28, 1)\n",
            "[[1.6931987e-14 1.0000000e+00 1.0966316e-11 5.1360397e-18 3.3191086e-10\n",
            "  1.3308538e-10 3.3333246e-11 3.3830441e-09 1.0923458e-11 3.2202574e-13]]\n",
            "1\n",
            "1\n",
            "INFO:     127.0.0.1:59370 - \"POST /predict?invert=False HTTP/1.1\" 200 OK\n",
            "True\n",
            "True\n",
            "(28, 28)\n",
            "(1, 28, 28, 1)\n",
            "[[1.79318219e-01 7.15991497e-01 3.04988096e-03 1.40419388e-06\n",
            "  1.46911125e-05 1.05607836e-03 3.27560847e-04 9.95677263e-02\n",
            "  6.72106107e-04 8.44031092e-07]]\n",
            "1\n",
            "1\n",
            "INFO:     127.0.0.1:59466 - \"POST /predict?invert=True HTTP/1.1\" 200 OK\n",
            "True\n",
            "True\n",
            "(28, 28)\n",
            "(1, 28, 28, 1)\n",
            "[[1.9964941e-09 5.8206613e-08 1.3196916e-07 3.1903677e-05 3.5405397e-11\n",
            "  2.4821063e-08 1.1459533e-11 9.7703868e-01 1.6892589e-07 2.2929043e-02]]\n",
            "7\n",
            "7\n",
            "INFO:     127.0.0.1:59682 - \"POST /predict?invert=True HTTP/1.1\" 200 OK\n",
            "True\n",
            "True\n",
            "(28, 28)\n",
            "(1, 28, 28, 1)\n",
            "[[8.7674707e-04 1.5476834e-03 9.6339417e-01 5.0140324e-04 3.1664979e-07\n",
            "  1.4029354e-09 3.3679288e-02 5.3080033e-08 2.8426726e-07 5.5823577e-09]]\n",
            "2\n",
            "2\n",
            "INFO:     127.0.0.1:59768 - \"POST /predict?invert=True HTTP/1.1\" 200 OK\n",
            "False\n",
            "False\n",
            "(28, 28)\n",
            "(1, 28, 28, 1)\n",
            "[[2.2773779e-15 1.0079817e-11 1.8208255e-13 1.0991236e-11 1.9877752e-14\n",
            "  1.1395515e-14 3.5799950e-20 1.0000000e+00 8.8693831e-16 7.3726381e-12]]\n",
            "7\n",
            "7\n",
            "INFO:     127.0.0.1:59904 - \"POST /predict?invert=False HTTP/1.1\" 200 OK\n",
            "False\n",
            "False\n",
            "(28, 28)\n",
            "(1, 28, 28, 1)\n",
            "[[5.5116075e-14 2.3314614e-10 1.0000000e+00 4.6557142e-19 3.0968378e-17\n",
            "  2.6110386e-21 1.8852044e-09 2.1667513e-20 7.4160650e-19 4.1096566e-19]]\n",
            "2\n",
            "2\n",
            "INFO:     127.0.0.1:59950 - \"POST /predict?invert=False HTTP/1.1\" 200 OK\n",
            "WARNING:  StatReload detected file change in 'predict.py'. Reloading...\n",
            "INFO:     Shutting down\n",
            "INFO:     Waiting for application shutdown.\n",
            "INFO:     Application shutdown complete.\n",
            "INFO:     Finished server process [842]\n",
            "2021-12-17 16:40:49.288215: E tensorflow/stream_executor/cuda/cuda_driver.cc:271] failed call to cuInit: CUDA_ERROR_NO_DEVICE: no CUDA-capable device is detected\n",
            "INFO:     Started server process [910]\n",
            "INFO:     Waiting for application startup.\n",
            "INFO:     Application startup complete.\n",
            "WARNING:  StatReload detected file change in 'main.py'. Reloading...\n",
            "INFO:     Shutting down\n",
            "INFO:     Waiting for application shutdown.\n",
            "INFO:     Application shutdown complete.\n",
            "INFO:     Finished server process [910]\n",
            "INFO:     Will watch for changes in these directories: ['/content']\n",
            "ERROR:    [Errno 98] Address already in use\n",
            "2021-12-17 16:41:13.439450: E tensorflow/stream_executor/cuda/cuda_driver.cc:271] failed call to cuInit: CUDA_ERROR_NO_DEVICE: no CUDA-capable device is detected\n",
            "INFO:     Started server process [926]\n",
            "INFO:     Waiting for application startup.\n",
            "INFO:     Application startup complete.\n",
            "False\n",
            "(28, 28)\n",
            "(1, 28, 28, 1)\n",
            "[[5.5116075e-14 2.3314614e-10 1.0000000e+00 4.6557142e-19 3.0968378e-17\n",
            "  2.6110386e-21 1.8852044e-09 2.1667513e-20 7.4160650e-19 4.1096566e-19]]\n",
            "2\n",
            "2\n",
            "INFO:     127.0.0.1:60308 - \"POST /predict?invert=False HTTP/1.1\" 200 OK\n",
            "True\n",
            "(28, 28)\n",
            "(1, 28, 28, 1)\n",
            "[[8.7674707e-04 1.5476834e-03 9.6339417e-01 5.0140324e-04 3.1664979e-07\n",
            "  1.4029354e-09 3.3679288e-02 5.3080033e-08 2.8426726e-07 5.5823577e-09]]\n",
            "2\n",
            "2\n",
            "INFO:     127.0.0.1:60468 - \"POST /predict?invert=True HTTP/1.1\" 200 OK\n",
            "WARNING:  StatReload detected file change in 'predict.py'. Reloading...\n",
            "INFO:     Shutting down\n",
            "INFO:     Waiting for application shutdown.\n",
            "INFO:     Application shutdown complete.\n",
            "INFO:     Finished server process [926]\n",
            "2021-12-17 16:42:26.143466: E tensorflow/stream_executor/cuda/cuda_driver.cc:271] failed call to cuInit: CUDA_ERROR_NO_DEVICE: no CUDA-capable device is detected\n",
            "INFO:     Started server process [969]\n",
            "INFO:     Waiting for application startup.\n",
            "INFO:     Application startup complete.\n",
            "INFO:     Will watch for changes in these directories: ['/content']\n",
            "ERROR:    [Errno 98] Address already in use\n",
            "INFO:     Will watch for changes in these directories: ['/content']\n",
            "ERROR:    [Errno 98] Address already in use\n",
            "WARNING:  StatReload detected file change in 'predict.py'. Reloading...\n",
            "INFO:     Shutting down\n",
            "INFO:     Waiting for application shutdown.\n",
            "INFO:     Application shutdown complete.\n",
            "INFO:     Finished server process [969]\n",
            "2021-12-17 16:43:34.348547: E tensorflow/stream_executor/cuda/cuda_driver.cc:271] failed call to cuInit: CUDA_ERROR_NO_DEVICE: no CUDA-capable device is detected\n",
            "INFO:     Started server process [1001]\n",
            "INFO:     Waiting for application startup.\n",
            "INFO:     Application startup complete.\n",
            "WARNING:  StatReload detected file change in 'main.py'. Reloading...\n",
            "INFO:     Shutting down\n",
            "INFO:     Waiting for application shutdown.\n",
            "INFO:     Application shutdown complete.\n",
            "INFO:     Finished server process [1001]\n",
            "2021-12-17 16:43:46.660451: E tensorflow/stream_executor/cuda/cuda_driver.cc:271] failed call to cuInit: CUDA_ERROR_NO_DEVICE: no CUDA-capable device is detected\n",
            "INFO:     Started server process [1013]\n",
            "INFO:     Waiting for application startup.\n",
            "INFO:     Application startup complete.\n",
            "INFO:     Will watch for changes in these directories: ['/content']\n",
            "ERROR:    [Errno 98] Address already in use\n",
            "True\n",
            "(28, 28) 170462.0\n",
            "(1, 28, 28, 1)\n",
            "[[8.7674707e-04 1.5476834e-03 9.6339417e-01 5.0140324e-04 3.1664979e-07\n",
            "  1.4029354e-09 3.3679288e-02 5.3080033e-08 2.8426726e-07 5.5823577e-09]]\n",
            "2\n",
            "2\n",
            "INFO:     127.0.0.1:33106 - \"POST /predict?invert=True HTTP/1.1\" 200 OK\n",
            "False\n",
            "(28, 28) 29458.0\n",
            "(1, 28, 28, 1)\n",
            "[[5.5116075e-14 2.3314614e-10 1.0000000e+00 4.6557142e-19 3.0968378e-17\n",
            "  2.6110386e-21 1.8852044e-09 2.1667513e-20 7.4160650e-19 4.1096566e-19]]\n",
            "2\n",
            "2\n",
            "INFO:     127.0.0.1:33264 - \"POST /predict?invert=False HTTP/1.1\" 200 OK\n"
          ]
        }
      ]
    },
    {
      "cell_type": "code",
      "source": [
        "import requests"
      ],
      "metadata": {
        "id": "HYCkjXqXGA94"
      },
      "execution_count": null,
      "outputs": []
    },
    {
      "cell_type": "code",
      "source": [
        "#19216 15231 32212 17062 47033 47433 38371 15643 9537 14010\n",
        "from PIL import Image\n",
        "import requests\n",
        "im = Image.fromarray(x_train[15231].reshape(28,28))\n",
        "im.save(\"x_test_org_0.jpeg\")\n",
        "#files = {'file': open('x_test_org_0.jpeg','rb')}\n",
        "for i in range(10):\n",
        "  files = {'file':  open('/content/drive/My Drive/NN/Numbers2/'+str(Names[i]),'rb')}\n",
        "  r = requests.post('http://127.0.0.1:8000/predict', files=files,params={'invert':True})\n",
        "  print(r.status_code,r.json())"
      ],
      "metadata": {
        "colab": {
          "base_uri": "https://localhost:8080/"
        },
        "id": "3mQwDPptHSmg",
        "outputId": "b49efb46-1f01-440a-c6fb-f02ee58d8e7f"
      },
      "execution_count": null,
      "outputs": [
        {
          "output_type": "stream",
          "name": "stdout",
          "text": [
            "200 {'result': '0'}\n",
            "200 {'result': '1'}\n",
            "200 {'result': '2'}\n",
            "200 {'result': '3'}\n",
            "200 {'result': '4'}\n",
            "200 {'result': '5'}\n",
            "200 {'result': '6'}\n",
            "200 {'result': '7'}\n",
            "200 {'result': '8'}\n",
            "200 {'result': '9'}\n"
          ]
        }
      ]
    },
    {
      "cell_type": "code",
      "source": [
        "print(r.request.body)"
      ],
      "metadata": {
        "colab": {
          "base_uri": "https://localhost:8080/"
        },
        "id": "SPD9b72YML3G",
        "outputId": "be4e4212-3cf4-4bee-e68e-5589c3ef0ca1"
      },
      "execution_count": null,
      "outputs": [
        {
          "output_type": "stream",
          "name": "stdout",
          "text": [
            "b'--1481c04d2d205d9631d97be2d255ddf2\\r\\nContent-Disposition: form-data; name=\"invert\"\\r\\n\\r\\n1\\r\\n--1481c04d2d205d9631d97be2d255ddf2\\r\\nContent-Disposition: form-data; name=\"file\"; filename=\"x_test_org_0.jpeg\"\\r\\n\\r\\n\\xff\\xd8\\xff\\xe0\\x00\\x10JFIF\\x00\\x01\\x01\\x00\\x00\\x01\\x00\\x01\\x00\\x00\\xff\\xdb\\x00C\\x00\\x08\\x06\\x06\\x07\\x06\\x05\\x08\\x07\\x07\\x07\\t\\t\\x08\\n\\x0c\\x14\\r\\x0c\\x0b\\x0b\\x0c\\x19\\x12\\x13\\x0f\\x14\\x1d\\x1a\\x1f\\x1e\\x1d\\x1a\\x1c\\x1c $.\\' \",#\\x1c\\x1c(7),01444\\x1f\\'9=82<.342\\xff\\xc0\\x00\\x0b\\x08\\x00\\x1c\\x00\\x1c\\x01\\x01\\x11\\x00\\xff\\xc4\\x00\\x1f\\x00\\x00\\x01\\x05\\x01\\x01\\x01\\x01\\x01\\x01\\x00\\x00\\x00\\x00\\x00\\x00\\x00\\x00\\x01\\x02\\x03\\x04\\x05\\x06\\x07\\x08\\t\\n\\x0b\\xff\\xc4\\x00\\xb5\\x10\\x00\\x02\\x01\\x03\\x03\\x02\\x04\\x03\\x05\\x05\\x04\\x04\\x00\\x00\\x01}\\x01\\x02\\x03\\x00\\x04\\x11\\x05\\x12!1A\\x06\\x13Qa\\x07\"q\\x142\\x81\\x91\\xa1\\x08#B\\xb1\\xc1\\x15R\\xd1\\xf0$3br\\x82\\t\\n\\x16\\x17\\x18\\x19\\x1a%&\\'()*456789:CDEFGHIJSTUVWXYZcdefghijstuvwxyz\\x83\\x84\\x85\\x86\\x87\\x88\\x89\\x8a\\x92\\x93\\x94\\x95\\x96\\x97\\x98\\x99\\x9a\\xa2\\xa3\\xa4\\xa5\\xa6\\xa7\\xa8\\xa9\\xaa\\xb2\\xb3\\xb4\\xb5\\xb6\\xb7\\xb8\\xb9\\xba\\xc2\\xc3\\xc4\\xc5\\xc6\\xc7\\xc8\\xc9\\xca\\xd2\\xd3\\xd4\\xd5\\xd6\\xd7\\xd8\\xd9\\xda\\xe1\\xe2\\xe3\\xe4\\xe5\\xe6\\xe7\\xe8\\xe9\\xea\\xf1\\xf2\\xf3\\xf4\\xf5\\xf6\\xf7\\xf8\\xf9\\xfa\\xff\\xda\\x00\\x08\\x01\\x01\\x00\\x00?\\x00\\xf9\\xfe\\x94\\x02\\xc4\\x00\\t\\'\\x80\\x07z\\xd8\\xf1F\\x82<5\\xad\\x1d-\\xae\\xbc\\xf9\\xa3\\x86\\'\\x9f\\xf7{<\\xb9\\x19\\x034}Nv\\xe7\\x19\\xf6\\xe8+\\x1a\\x8a\\xeb~\\x1a\\xe8\\xf1\\xeb>:\\xd3\\xd6\\xe0!\\xb3\\xb3&\\xf6\\xeb\\x7fO*/\\x98\\xe7\\xeb\\x80?\\x1a\\xc2\\xd7\\xb53\\xadx\\x87R\\xd5\\x08e\\xfbe\\xcc\\x93\\x85c\\x92\\xa1\\x98\\x903\\xed\\x9cV}\\x15\\xe8\\x9e\\x11\\x16\\xfa?\\xc2\\xef\\x17\\xebsJ\\x8bqz\\xa9\\xa5Z\\xaf\\x1b\\x98\\xb1\\r\\'\\xbe6\\x91\\xf9w\\xaf;\\xa2\\x8a(\\xa2\\xbf\\xff\\xd9\\r\\n--1481c04d2d205d9631d97be2d255ddf2--\\r\\n'\n"
          ]
        }
      ]
    },
    {
      "cell_type": "code",
      "source": [
        "r = requests.get('http://127.0.0.1:8000/test')\n",
        "print(r.status_code)\n",
        "print(r.text)"
      ],
      "metadata": {
        "colab": {
          "base_uri": "https://localhost:8080/",
          "height": 641
        },
        "id": "trv2TMQAFbVD",
        "outputId": "f7401291-20bc-4873-e1b1-29c076ec9d6d"
      },
      "execution_count": null,
      "outputs": [
        {
          "output_type": "error",
          "ename": "ConnectionError",
          "evalue": "ignored",
          "traceback": [
            "\u001b[0;31m---------------------------------------------------------------------------\u001b[0m",
            "\u001b[0;31mConnectionRefusedError\u001b[0m                    Traceback (most recent call last)",
            "\u001b[0;32m/usr/local/lib/python3.7/dist-packages/urllib3/connection.py\u001b[0m in \u001b[0;36m_new_conn\u001b[0;34m(self)\u001b[0m\n\u001b[1;32m    158\u001b[0m             conn = connection.create_connection(\n\u001b[0;32m--> 159\u001b[0;31m                 (self._dns_host, self.port), self.timeout, **extra_kw)\n\u001b[0m\u001b[1;32m    160\u001b[0m \u001b[0;34m\u001b[0m\u001b[0m\n",
            "\u001b[0;32m/usr/local/lib/python3.7/dist-packages/urllib3/util/connection.py\u001b[0m in \u001b[0;36mcreate_connection\u001b[0;34m(address, timeout, source_address, socket_options)\u001b[0m\n\u001b[1;32m     79\u001b[0m     \u001b[0;32mif\u001b[0m \u001b[0merr\u001b[0m \u001b[0;32mis\u001b[0m \u001b[0;32mnot\u001b[0m \u001b[0;32mNone\u001b[0m\u001b[0;34m:\u001b[0m\u001b[0;34m\u001b[0m\u001b[0;34m\u001b[0m\u001b[0m\n\u001b[0;32m---> 80\u001b[0;31m         \u001b[0;32mraise\u001b[0m \u001b[0merr\u001b[0m\u001b[0;34m\u001b[0m\u001b[0;34m\u001b[0m\u001b[0m\n\u001b[0m\u001b[1;32m     81\u001b[0m \u001b[0;34m\u001b[0m\u001b[0m\n",
            "\u001b[0;32m/usr/local/lib/python3.7/dist-packages/urllib3/util/connection.py\u001b[0m in \u001b[0;36mcreate_connection\u001b[0;34m(address, timeout, source_address, socket_options)\u001b[0m\n\u001b[1;32m     69\u001b[0m                 \u001b[0msock\u001b[0m\u001b[0;34m.\u001b[0m\u001b[0mbind\u001b[0m\u001b[0;34m(\u001b[0m\u001b[0msource_address\u001b[0m\u001b[0;34m)\u001b[0m\u001b[0;34m\u001b[0m\u001b[0;34m\u001b[0m\u001b[0m\n\u001b[0;32m---> 70\u001b[0;31m             \u001b[0msock\u001b[0m\u001b[0;34m.\u001b[0m\u001b[0mconnect\u001b[0m\u001b[0;34m(\u001b[0m\u001b[0msa\u001b[0m\u001b[0;34m)\u001b[0m\u001b[0;34m\u001b[0m\u001b[0;34m\u001b[0m\u001b[0m\n\u001b[0m\u001b[1;32m     71\u001b[0m             \u001b[0;32mreturn\u001b[0m \u001b[0msock\u001b[0m\u001b[0;34m\u001b[0m\u001b[0;34m\u001b[0m\u001b[0m\n",
            "\u001b[0;31mConnectionRefusedError\u001b[0m: [Errno 111] Connection refused",
            "\nDuring handling of the above exception, another exception occurred:\n",
            "\u001b[0;31mNewConnectionError\u001b[0m                        Traceback (most recent call last)",
            "\u001b[0;32m/usr/local/lib/python3.7/dist-packages/urllib3/connectionpool.py\u001b[0m in \u001b[0;36murlopen\u001b[0;34m(self, method, url, body, headers, retries, redirect, assert_same_host, timeout, pool_timeout, release_conn, chunked, body_pos, **response_kw)\u001b[0m\n\u001b[1;32m    599\u001b[0m                                                   \u001b[0mbody\u001b[0m\u001b[0;34m=\u001b[0m\u001b[0mbody\u001b[0m\u001b[0;34m,\u001b[0m \u001b[0mheaders\u001b[0m\u001b[0;34m=\u001b[0m\u001b[0mheaders\u001b[0m\u001b[0;34m,\u001b[0m\u001b[0;34m\u001b[0m\u001b[0;34m\u001b[0m\u001b[0m\n\u001b[0;32m--> 600\u001b[0;31m                                                   chunked=chunked)\n\u001b[0m\u001b[1;32m    601\u001b[0m \u001b[0;34m\u001b[0m\u001b[0m\n",
            "\u001b[0;32m/usr/local/lib/python3.7/dist-packages/urllib3/connectionpool.py\u001b[0m in \u001b[0;36m_make_request\u001b[0;34m(self, conn, method, url, timeout, chunked, **httplib_request_kw)\u001b[0m\n\u001b[1;32m    353\u001b[0m         \u001b[0;32melse\u001b[0m\u001b[0;34m:\u001b[0m\u001b[0;34m\u001b[0m\u001b[0;34m\u001b[0m\u001b[0m\n\u001b[0;32m--> 354\u001b[0;31m             \u001b[0mconn\u001b[0m\u001b[0;34m.\u001b[0m\u001b[0mrequest\u001b[0m\u001b[0;34m(\u001b[0m\u001b[0mmethod\u001b[0m\u001b[0;34m,\u001b[0m \u001b[0murl\u001b[0m\u001b[0;34m,\u001b[0m \u001b[0;34m**\u001b[0m\u001b[0mhttplib_request_kw\u001b[0m\u001b[0;34m)\u001b[0m\u001b[0;34m\u001b[0m\u001b[0;34m\u001b[0m\u001b[0m\n\u001b[0m\u001b[1;32m    355\u001b[0m \u001b[0;34m\u001b[0m\u001b[0m\n",
            "\u001b[0;32m/usr/lib/python3.7/http/client.py\u001b[0m in \u001b[0;36mrequest\u001b[0;34m(self, method, url, body, headers, encode_chunked)\u001b[0m\n\u001b[1;32m   1280\u001b[0m         \u001b[0;34m\"\"\"Send a complete request to the server.\"\"\"\u001b[0m\u001b[0;34m\u001b[0m\u001b[0;34m\u001b[0m\u001b[0m\n\u001b[0;32m-> 1281\u001b[0;31m         \u001b[0mself\u001b[0m\u001b[0;34m.\u001b[0m\u001b[0m_send_request\u001b[0m\u001b[0;34m(\u001b[0m\u001b[0mmethod\u001b[0m\u001b[0;34m,\u001b[0m \u001b[0murl\u001b[0m\u001b[0;34m,\u001b[0m \u001b[0mbody\u001b[0m\u001b[0;34m,\u001b[0m \u001b[0mheaders\u001b[0m\u001b[0;34m,\u001b[0m \u001b[0mencode_chunked\u001b[0m\u001b[0;34m)\u001b[0m\u001b[0;34m\u001b[0m\u001b[0;34m\u001b[0m\u001b[0m\n\u001b[0m\u001b[1;32m   1282\u001b[0m \u001b[0;34m\u001b[0m\u001b[0m\n",
            "\u001b[0;32m/usr/lib/python3.7/http/client.py\u001b[0m in \u001b[0;36m_send_request\u001b[0;34m(self, method, url, body, headers, encode_chunked)\u001b[0m\n\u001b[1;32m   1326\u001b[0m             \u001b[0mbody\u001b[0m \u001b[0;34m=\u001b[0m \u001b[0m_encode\u001b[0m\u001b[0;34m(\u001b[0m\u001b[0mbody\u001b[0m\u001b[0;34m,\u001b[0m \u001b[0;34m'body'\u001b[0m\u001b[0;34m)\u001b[0m\u001b[0;34m\u001b[0m\u001b[0;34m\u001b[0m\u001b[0m\n\u001b[0;32m-> 1327\u001b[0;31m         \u001b[0mself\u001b[0m\u001b[0;34m.\u001b[0m\u001b[0mendheaders\u001b[0m\u001b[0;34m(\u001b[0m\u001b[0mbody\u001b[0m\u001b[0;34m,\u001b[0m \u001b[0mencode_chunked\u001b[0m\u001b[0;34m=\u001b[0m\u001b[0mencode_chunked\u001b[0m\u001b[0;34m)\u001b[0m\u001b[0;34m\u001b[0m\u001b[0;34m\u001b[0m\u001b[0m\n\u001b[0m\u001b[1;32m   1328\u001b[0m \u001b[0;34m\u001b[0m\u001b[0m\n",
            "\u001b[0;32m/usr/lib/python3.7/http/client.py\u001b[0m in \u001b[0;36mendheaders\u001b[0;34m(self, message_body, encode_chunked)\u001b[0m\n\u001b[1;32m   1275\u001b[0m             \u001b[0;32mraise\u001b[0m \u001b[0mCannotSendHeader\u001b[0m\u001b[0;34m(\u001b[0m\u001b[0;34m)\u001b[0m\u001b[0;34m\u001b[0m\u001b[0;34m\u001b[0m\u001b[0m\n\u001b[0;32m-> 1276\u001b[0;31m         \u001b[0mself\u001b[0m\u001b[0;34m.\u001b[0m\u001b[0m_send_output\u001b[0m\u001b[0;34m(\u001b[0m\u001b[0mmessage_body\u001b[0m\u001b[0;34m,\u001b[0m \u001b[0mencode_chunked\u001b[0m\u001b[0;34m=\u001b[0m\u001b[0mencode_chunked\u001b[0m\u001b[0;34m)\u001b[0m\u001b[0;34m\u001b[0m\u001b[0;34m\u001b[0m\u001b[0m\n\u001b[0m\u001b[1;32m   1277\u001b[0m \u001b[0;34m\u001b[0m\u001b[0m\n",
            "\u001b[0;32m/usr/lib/python3.7/http/client.py\u001b[0m in \u001b[0;36m_send_output\u001b[0;34m(self, message_body, encode_chunked)\u001b[0m\n\u001b[1;32m   1035\u001b[0m         \u001b[0;32mdel\u001b[0m \u001b[0mself\u001b[0m\u001b[0;34m.\u001b[0m\u001b[0m_buffer\u001b[0m\u001b[0;34m[\u001b[0m\u001b[0;34m:\u001b[0m\u001b[0;34m]\u001b[0m\u001b[0;34m\u001b[0m\u001b[0;34m\u001b[0m\u001b[0m\n\u001b[0;32m-> 1036\u001b[0;31m         \u001b[0mself\u001b[0m\u001b[0;34m.\u001b[0m\u001b[0msend\u001b[0m\u001b[0;34m(\u001b[0m\u001b[0mmsg\u001b[0m\u001b[0;34m)\u001b[0m\u001b[0;34m\u001b[0m\u001b[0;34m\u001b[0m\u001b[0m\n\u001b[0m\u001b[1;32m   1037\u001b[0m \u001b[0;34m\u001b[0m\u001b[0m\n",
            "\u001b[0;32m/usr/lib/python3.7/http/client.py\u001b[0m in \u001b[0;36msend\u001b[0;34m(self, data)\u001b[0m\n\u001b[1;32m    975\u001b[0m             \u001b[0;32mif\u001b[0m \u001b[0mself\u001b[0m\u001b[0;34m.\u001b[0m\u001b[0mauto_open\u001b[0m\u001b[0;34m:\u001b[0m\u001b[0;34m\u001b[0m\u001b[0;34m\u001b[0m\u001b[0m\n\u001b[0;32m--> 976\u001b[0;31m                 \u001b[0mself\u001b[0m\u001b[0;34m.\u001b[0m\u001b[0mconnect\u001b[0m\u001b[0;34m(\u001b[0m\u001b[0;34m)\u001b[0m\u001b[0;34m\u001b[0m\u001b[0;34m\u001b[0m\u001b[0m\n\u001b[0m\u001b[1;32m    977\u001b[0m             \u001b[0;32melse\u001b[0m\u001b[0;34m:\u001b[0m\u001b[0;34m\u001b[0m\u001b[0;34m\u001b[0m\u001b[0m\n",
            "\u001b[0;32m/usr/local/lib/python3.7/dist-packages/urllib3/connection.py\u001b[0m in \u001b[0;36mconnect\u001b[0;34m(self)\u001b[0m\n\u001b[1;32m    180\u001b[0m     \u001b[0;32mdef\u001b[0m \u001b[0mconnect\u001b[0m\u001b[0;34m(\u001b[0m\u001b[0mself\u001b[0m\u001b[0;34m)\u001b[0m\u001b[0;34m:\u001b[0m\u001b[0;34m\u001b[0m\u001b[0;34m\u001b[0m\u001b[0m\n\u001b[0;32m--> 181\u001b[0;31m         \u001b[0mconn\u001b[0m \u001b[0;34m=\u001b[0m \u001b[0mself\u001b[0m\u001b[0;34m.\u001b[0m\u001b[0m_new_conn\u001b[0m\u001b[0;34m(\u001b[0m\u001b[0;34m)\u001b[0m\u001b[0;34m\u001b[0m\u001b[0;34m\u001b[0m\u001b[0m\n\u001b[0m\u001b[1;32m    182\u001b[0m         \u001b[0mself\u001b[0m\u001b[0;34m.\u001b[0m\u001b[0m_prepare_conn\u001b[0m\u001b[0;34m(\u001b[0m\u001b[0mconn\u001b[0m\u001b[0;34m)\u001b[0m\u001b[0;34m\u001b[0m\u001b[0;34m\u001b[0m\u001b[0m\n",
            "\u001b[0;32m/usr/local/lib/python3.7/dist-packages/urllib3/connection.py\u001b[0m in \u001b[0;36m_new_conn\u001b[0;34m(self)\u001b[0m\n\u001b[1;32m    167\u001b[0m             raise NewConnectionError(\n\u001b[0;32m--> 168\u001b[0;31m                 self, \"Failed to establish a new connection: %s\" % e)\n\u001b[0m\u001b[1;32m    169\u001b[0m \u001b[0;34m\u001b[0m\u001b[0m\n",
            "\u001b[0;31mNewConnectionError\u001b[0m: <urllib3.connection.HTTPConnection object at 0x7f29ac2b22d0>: Failed to establish a new connection: [Errno 111] Connection refused",
            "\nDuring handling of the above exception, another exception occurred:\n",
            "\u001b[0;31mMaxRetryError\u001b[0m                             Traceback (most recent call last)",
            "\u001b[0;32m/usr/local/lib/python3.7/dist-packages/requests/adapters.py\u001b[0m in \u001b[0;36msend\u001b[0;34m(self, request, stream, timeout, verify, cert, proxies)\u001b[0m\n\u001b[1;32m    448\u001b[0m                     \u001b[0mretries\u001b[0m\u001b[0;34m=\u001b[0m\u001b[0mself\u001b[0m\u001b[0;34m.\u001b[0m\u001b[0mmax_retries\u001b[0m\u001b[0;34m,\u001b[0m\u001b[0;34m\u001b[0m\u001b[0;34m\u001b[0m\u001b[0m\n\u001b[0;32m--> 449\u001b[0;31m                     \u001b[0mtimeout\u001b[0m\u001b[0;34m=\u001b[0m\u001b[0mtimeout\u001b[0m\u001b[0;34m\u001b[0m\u001b[0;34m\u001b[0m\u001b[0m\n\u001b[0m\u001b[1;32m    450\u001b[0m                 )\n",
            "\u001b[0;32m/usr/local/lib/python3.7/dist-packages/urllib3/connectionpool.py\u001b[0m in \u001b[0;36murlopen\u001b[0;34m(self, method, url, body, headers, retries, redirect, assert_same_host, timeout, pool_timeout, release_conn, chunked, body_pos, **response_kw)\u001b[0m\n\u001b[1;32m    637\u001b[0m             retries = retries.increment(method, url, error=e, _pool=self,\n\u001b[0;32m--> 638\u001b[0;31m                                         _stacktrace=sys.exc_info()[2])\n\u001b[0m\u001b[1;32m    639\u001b[0m             \u001b[0mretries\u001b[0m\u001b[0;34m.\u001b[0m\u001b[0msleep\u001b[0m\u001b[0;34m(\u001b[0m\u001b[0;34m)\u001b[0m\u001b[0;34m\u001b[0m\u001b[0;34m\u001b[0m\u001b[0m\n",
            "\u001b[0;32m/usr/local/lib/python3.7/dist-packages/urllib3/util/retry.py\u001b[0m in \u001b[0;36mincrement\u001b[0;34m(self, method, url, response, error, _pool, _stacktrace)\u001b[0m\n\u001b[1;32m    398\u001b[0m         \u001b[0;32mif\u001b[0m \u001b[0mnew_retry\u001b[0m\u001b[0;34m.\u001b[0m\u001b[0mis_exhausted\u001b[0m\u001b[0;34m(\u001b[0m\u001b[0;34m)\u001b[0m\u001b[0;34m:\u001b[0m\u001b[0;34m\u001b[0m\u001b[0;34m\u001b[0m\u001b[0m\n\u001b[0;32m--> 399\u001b[0;31m             \u001b[0;32mraise\u001b[0m \u001b[0mMaxRetryError\u001b[0m\u001b[0;34m(\u001b[0m\u001b[0m_pool\u001b[0m\u001b[0;34m,\u001b[0m \u001b[0murl\u001b[0m\u001b[0;34m,\u001b[0m \u001b[0merror\u001b[0m \u001b[0;32mor\u001b[0m \u001b[0mResponseError\u001b[0m\u001b[0;34m(\u001b[0m\u001b[0mcause\u001b[0m\u001b[0;34m)\u001b[0m\u001b[0;34m)\u001b[0m\u001b[0;34m\u001b[0m\u001b[0;34m\u001b[0m\u001b[0m\n\u001b[0m\u001b[1;32m    400\u001b[0m \u001b[0;34m\u001b[0m\u001b[0m\n",
            "\u001b[0;31mMaxRetryError\u001b[0m: HTTPConnectionPool(host='127.0.0.1', port=8000): Max retries exceeded with url: /test (Caused by NewConnectionError('<urllib3.connection.HTTPConnection object at 0x7f29ac2b22d0>: Failed to establish a new connection: [Errno 111] Connection refused'))",
            "\nDuring handling of the above exception, another exception occurred:\n",
            "\u001b[0;31mConnectionError\u001b[0m                           Traceback (most recent call last)",
            "\u001b[0;32m<ipython-input-17-c3c2022203ab>\u001b[0m in \u001b[0;36m<module>\u001b[0;34m()\u001b[0m\n\u001b[0;32m----> 1\u001b[0;31m \u001b[0mr\u001b[0m \u001b[0;34m=\u001b[0m \u001b[0mrequests\u001b[0m\u001b[0;34m.\u001b[0m\u001b[0mget\u001b[0m\u001b[0;34m(\u001b[0m\u001b[0;34m'http://127.0.0.1:8000/test'\u001b[0m\u001b[0;34m)\u001b[0m\u001b[0;34m\u001b[0m\u001b[0;34m\u001b[0m\u001b[0m\n\u001b[0m\u001b[1;32m      2\u001b[0m \u001b[0mprint\u001b[0m\u001b[0;34m(\u001b[0m\u001b[0mr\u001b[0m\u001b[0;34m.\u001b[0m\u001b[0mstatus_code\u001b[0m\u001b[0;34m)\u001b[0m\u001b[0;34m\u001b[0m\u001b[0;34m\u001b[0m\u001b[0m\n\u001b[1;32m      3\u001b[0m \u001b[0mprint\u001b[0m\u001b[0;34m(\u001b[0m\u001b[0mr\u001b[0m\u001b[0;34m.\u001b[0m\u001b[0mtext\u001b[0m\u001b[0;34m)\u001b[0m\u001b[0;34m\u001b[0m\u001b[0;34m\u001b[0m\u001b[0m\n",
            "\u001b[0;32m/usr/local/lib/python3.7/dist-packages/requests/api.py\u001b[0m in \u001b[0;36mget\u001b[0;34m(url, params, **kwargs)\u001b[0m\n\u001b[1;32m     74\u001b[0m \u001b[0;34m\u001b[0m\u001b[0m\n\u001b[1;32m     75\u001b[0m     \u001b[0mkwargs\u001b[0m\u001b[0;34m.\u001b[0m\u001b[0msetdefault\u001b[0m\u001b[0;34m(\u001b[0m\u001b[0;34m'allow_redirects'\u001b[0m\u001b[0;34m,\u001b[0m \u001b[0;32mTrue\u001b[0m\u001b[0;34m)\u001b[0m\u001b[0;34m\u001b[0m\u001b[0;34m\u001b[0m\u001b[0m\n\u001b[0;32m---> 76\u001b[0;31m     \u001b[0;32mreturn\u001b[0m \u001b[0mrequest\u001b[0m\u001b[0;34m(\u001b[0m\u001b[0;34m'get'\u001b[0m\u001b[0;34m,\u001b[0m \u001b[0murl\u001b[0m\u001b[0;34m,\u001b[0m \u001b[0mparams\u001b[0m\u001b[0;34m=\u001b[0m\u001b[0mparams\u001b[0m\u001b[0;34m,\u001b[0m \u001b[0;34m**\u001b[0m\u001b[0mkwargs\u001b[0m\u001b[0;34m)\u001b[0m\u001b[0;34m\u001b[0m\u001b[0;34m\u001b[0m\u001b[0m\n\u001b[0m\u001b[1;32m     77\u001b[0m \u001b[0;34m\u001b[0m\u001b[0m\n\u001b[1;32m     78\u001b[0m \u001b[0;34m\u001b[0m\u001b[0m\n",
            "\u001b[0;32m/usr/local/lib/python3.7/dist-packages/requests/api.py\u001b[0m in \u001b[0;36mrequest\u001b[0;34m(method, url, **kwargs)\u001b[0m\n\u001b[1;32m     59\u001b[0m     \u001b[0;31m# cases, and look like a memory leak in others.\u001b[0m\u001b[0;34m\u001b[0m\u001b[0;34m\u001b[0m\u001b[0;34m\u001b[0m\u001b[0m\n\u001b[1;32m     60\u001b[0m     \u001b[0;32mwith\u001b[0m \u001b[0msessions\u001b[0m\u001b[0;34m.\u001b[0m\u001b[0mSession\u001b[0m\u001b[0;34m(\u001b[0m\u001b[0;34m)\u001b[0m \u001b[0;32mas\u001b[0m \u001b[0msession\u001b[0m\u001b[0;34m:\u001b[0m\u001b[0;34m\u001b[0m\u001b[0;34m\u001b[0m\u001b[0m\n\u001b[0;32m---> 61\u001b[0;31m         \u001b[0;32mreturn\u001b[0m \u001b[0msession\u001b[0m\u001b[0;34m.\u001b[0m\u001b[0mrequest\u001b[0m\u001b[0;34m(\u001b[0m\u001b[0mmethod\u001b[0m\u001b[0;34m=\u001b[0m\u001b[0mmethod\u001b[0m\u001b[0;34m,\u001b[0m \u001b[0murl\u001b[0m\u001b[0;34m=\u001b[0m\u001b[0murl\u001b[0m\u001b[0;34m,\u001b[0m \u001b[0;34m**\u001b[0m\u001b[0mkwargs\u001b[0m\u001b[0;34m)\u001b[0m\u001b[0;34m\u001b[0m\u001b[0;34m\u001b[0m\u001b[0m\n\u001b[0m\u001b[1;32m     62\u001b[0m \u001b[0;34m\u001b[0m\u001b[0m\n\u001b[1;32m     63\u001b[0m \u001b[0;34m\u001b[0m\u001b[0m\n",
            "\u001b[0;32m/usr/local/lib/python3.7/dist-packages/requests/sessions.py\u001b[0m in \u001b[0;36mrequest\u001b[0;34m(self, method, url, params, data, headers, cookies, files, auth, timeout, allow_redirects, proxies, hooks, stream, verify, cert, json)\u001b[0m\n\u001b[1;32m    528\u001b[0m         }\n\u001b[1;32m    529\u001b[0m         \u001b[0msend_kwargs\u001b[0m\u001b[0;34m.\u001b[0m\u001b[0mupdate\u001b[0m\u001b[0;34m(\u001b[0m\u001b[0msettings\u001b[0m\u001b[0;34m)\u001b[0m\u001b[0;34m\u001b[0m\u001b[0;34m\u001b[0m\u001b[0m\n\u001b[0;32m--> 530\u001b[0;31m         \u001b[0mresp\u001b[0m \u001b[0;34m=\u001b[0m \u001b[0mself\u001b[0m\u001b[0;34m.\u001b[0m\u001b[0msend\u001b[0m\u001b[0;34m(\u001b[0m\u001b[0mprep\u001b[0m\u001b[0;34m,\u001b[0m \u001b[0;34m**\u001b[0m\u001b[0msend_kwargs\u001b[0m\u001b[0;34m)\u001b[0m\u001b[0;34m\u001b[0m\u001b[0;34m\u001b[0m\u001b[0m\n\u001b[0m\u001b[1;32m    531\u001b[0m \u001b[0;34m\u001b[0m\u001b[0m\n\u001b[1;32m    532\u001b[0m         \u001b[0;32mreturn\u001b[0m \u001b[0mresp\u001b[0m\u001b[0;34m\u001b[0m\u001b[0;34m\u001b[0m\u001b[0m\n",
            "\u001b[0;32m/usr/local/lib/python3.7/dist-packages/requests/sessions.py\u001b[0m in \u001b[0;36msend\u001b[0;34m(self, request, **kwargs)\u001b[0m\n\u001b[1;32m    641\u001b[0m \u001b[0;34m\u001b[0m\u001b[0m\n\u001b[1;32m    642\u001b[0m         \u001b[0;31m# Send the request\u001b[0m\u001b[0;34m\u001b[0m\u001b[0;34m\u001b[0m\u001b[0;34m\u001b[0m\u001b[0m\n\u001b[0;32m--> 643\u001b[0;31m         \u001b[0mr\u001b[0m \u001b[0;34m=\u001b[0m \u001b[0madapter\u001b[0m\u001b[0;34m.\u001b[0m\u001b[0msend\u001b[0m\u001b[0;34m(\u001b[0m\u001b[0mrequest\u001b[0m\u001b[0;34m,\u001b[0m \u001b[0;34m**\u001b[0m\u001b[0mkwargs\u001b[0m\u001b[0;34m)\u001b[0m\u001b[0;34m\u001b[0m\u001b[0;34m\u001b[0m\u001b[0m\n\u001b[0m\u001b[1;32m    644\u001b[0m \u001b[0;34m\u001b[0m\u001b[0m\n\u001b[1;32m    645\u001b[0m         \u001b[0;31m# Total elapsed time of the request (approximately)\u001b[0m\u001b[0;34m\u001b[0m\u001b[0;34m\u001b[0m\u001b[0;34m\u001b[0m\u001b[0m\n",
            "\u001b[0;32m/usr/local/lib/python3.7/dist-packages/requests/adapters.py\u001b[0m in \u001b[0;36msend\u001b[0;34m(self, request, stream, timeout, verify, cert, proxies)\u001b[0m\n\u001b[1;32m    514\u001b[0m                 \u001b[0;32mraise\u001b[0m \u001b[0mSSLError\u001b[0m\u001b[0;34m(\u001b[0m\u001b[0me\u001b[0m\u001b[0;34m,\u001b[0m \u001b[0mrequest\u001b[0m\u001b[0;34m=\u001b[0m\u001b[0mrequest\u001b[0m\u001b[0;34m)\u001b[0m\u001b[0;34m\u001b[0m\u001b[0;34m\u001b[0m\u001b[0m\n\u001b[1;32m    515\u001b[0m \u001b[0;34m\u001b[0m\u001b[0m\n\u001b[0;32m--> 516\u001b[0;31m             \u001b[0;32mraise\u001b[0m \u001b[0mConnectionError\u001b[0m\u001b[0;34m(\u001b[0m\u001b[0me\u001b[0m\u001b[0;34m,\u001b[0m \u001b[0mrequest\u001b[0m\u001b[0;34m=\u001b[0m\u001b[0mrequest\u001b[0m\u001b[0;34m)\u001b[0m\u001b[0;34m\u001b[0m\u001b[0;34m\u001b[0m\u001b[0m\n\u001b[0m\u001b[1;32m    517\u001b[0m \u001b[0;34m\u001b[0m\u001b[0m\n\u001b[1;32m    518\u001b[0m         \u001b[0;32mexcept\u001b[0m \u001b[0mClosedPoolError\u001b[0m \u001b[0;32mas\u001b[0m \u001b[0me\u001b[0m\u001b[0;34m:\u001b[0m\u001b[0;34m\u001b[0m\u001b[0;34m\u001b[0m\u001b[0m\n",
            "\u001b[0;31mConnectionError\u001b[0m: HTTPConnectionPool(host='127.0.0.1', port=8000): Max retries exceeded with url: /test (Caused by NewConnectionError('<urllib3.connection.HTTPConnection object at 0x7f29ac2b22d0>: Failed to establish a new connection: [Errno 111] Connection refused'))"
          ]
        }
      ]
    }
  ]
}