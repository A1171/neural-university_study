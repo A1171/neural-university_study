{
  "nbformat": 4,
  "nbformat_minor": 0,
  "metadata": {
    "colab": {
      "provenance": []
    },
    "kernelspec": {
      "name": "python3",
      "display_name": "Python 3"
    },
    "language_info": {
      "name": "python"
    }
  },
  "cells": [
    {
      "cell_type": "markdown",
      "source": [
        "Создание эмбеддинга с помощью библиотеки gensim, подключение созданного эмбединга к нейросети, тренировка нейросети, сравнение результата с обычным эмбеддингом."
      ],
      "metadata": {
        "id": "-hoGQL5OH7qN"
      }
    },
    {
      "cell_type": "markdown",
      "source": [
        "Загрузка данных"
      ],
      "metadata": {
        "id": "VL3Os_8yIS0j"
      }
    },
    {
      "cell_type": "code",
      "source": [
        "import gdown                                      # Подключим функцию gdown\n",
        "gdown.download('https://drive.google.com/uc?id=17gbopCAOFT0c0NNXrihA-nLBNtjcfr3L', None, quiet=True)      # Скачивание файла\n",
        "gdown.download('https://drive.google.com/uc?id=105TXd6PKqI9PUPnbgsUJsAJz-VmdvUyi', None, quiet=True)      # Скачивание файла\n",
        "gdown.download('https://drive.google.com/uc?id=1sSHlBjjwZ46A_YieKnrj8HiR50dfPrAg', None, quiet=True)      # Скачивание файла\n",
        "gdown.download('https://drive.google.com/uc?id=1YNMvEZyshkQQxwANK6mafk7Gu72pNg2a', None, quiet=True)      # Скачивание файла\n",
        "gdown.download('https://drive.google.com/uc?id=1ZALYWB2YhL5GizAUGi6mkYYUPtilO6eq', None, quiet=True)      # Скачивание файла\n",
        "gdown.download('https://drive.google.com/uc?id=1vPS9mqlQbsQBB6MwaO0SYPWY7lwj6Kt9', None, quiet=True)      # Скачивание файла\n",
        "gdown.download('https://drive.google.com/uc?id=19Ff5bb5HcKHrxa1kWkkbSxPzjCLoQh_b', None, quiet=True)      # Скачивание файла\n",
        "gdown.download('https://drive.google.com/uc?id=1zfppFRnZ-42UUHioVSzTuS-2O4gfVdW6', None, quiet=True)      # Скачивание файла\n",
        "gdown.download('https://drive.google.com/uc?id=1ZyuTlNfEUNSqoy_klOHnfZDyZbViWXS7', None, quiet=True)      # Скачивание файла\n",
        "gdown.download('https://drive.google.com/uc?id=1dInkT-ZmHAHDZy_4TFroH0hLwINxQ1K6', None, quiet=True)      # Скачивание файла\n",
        "gdown.download('https://drive.google.com/uc?id=106aXnq-BXPWgmepSfAtygQrWmxeSNVAk', None, quiet=True)      # Скачивание файла\n",
        "gdown.download('https://drive.google.com/uc?id=1EbxijjJgqPp1YQWd8qwX716uBnsmaSAc', None, quiet=True)      # Скачивание файла"
      ],
      "metadata": {
        "colab": {
          "base_uri": "https://localhost:8080/",
          "height": 34
        },
        "id": "sxInZAqfwpoM",
        "outputId": "8b652f0b-de38-4db8-fa30-2d7f7b39bbfb"
      },
      "execution_count": null,
      "outputs": [
        {
          "output_type": "execute_result",
          "data": {
            "text/plain": [
              "'(Клиффорд_Саймак) Тестовая_2 вместе.txt'"
            ],
            "application/vnd.google.colaboratory.intrinsic+json": {
              "type": "string"
            }
          },
          "metadata": {},
          "execution_count": 1
        }
      ]
    },
    {
      "cell_type": "code",
      "source": [
        "!ls /content/"
      ],
      "metadata": {
        "colab": {
          "base_uri": "https://localhost:8080/"
        },
        "id": "QkBzxktaArW6",
        "outputId": "802fd714-1e8a-470b-9ad6-a8c1d490c32c"
      },
      "execution_count": null,
      "outputs": [
        {
          "output_type": "stream",
          "name": "stdout",
          "text": [
            " sample_data\n",
            "'(Булгаков) Обучающая_5 вместе.txt'\n",
            "'(Булгаков) Тестовая_2 вместе.txt'\n",
            "'(Клиффорд_Саймак) Обучающая_5 вместе.txt'\n",
            "'(Клиффорд_Саймак) Тестовая_2 вместе.txt'\n",
            "'(Макс Фрай) Обучающая_5 вместе.txt'\n",
            "'(Макс Фрай) Тестовая_2 вместе.txt'\n",
            "'(О. Генри) Обучающая_50 вместе.txt'\n",
            "'(О. Генри) Тестовая_20 вместе.txt'\n",
            "'(Рэй Брэдберри) Обучающая_22 вместе.txt'\n",
            "'(Рэй Брэдберри) Тестовая_8 вместе.txt'\n",
            "'(Стругацкие) Обучающая_5 вместе.txt'\n",
            "'(Стругацкие) Тестовая_2 вместе.txt'\n"
          ]
        }
      ]
    },
    {
      "cell_type": "code",
      "source": [
        "pip install pymorphy2==0.8"
      ],
      "metadata": {
        "colab": {
          "base_uri": "https://localhost:8080/"
        },
        "id": "77gXWfTb_oyy",
        "outputId": "dfd04abc-bde8-481c-8c3c-f0ffa8e18b7a"
      },
      "execution_count": null,
      "outputs": [
        {
          "output_type": "stream",
          "name": "stdout",
          "text": [
            "Requirement already satisfied: pymorphy2==0.8 in /usr/local/lib/python3.7/dist-packages (0.8)\n",
            "Requirement already satisfied: dawg-python>=0.7 in /usr/local/lib/python3.7/dist-packages (from pymorphy2==0.8) (0.7.2)\n",
            "Requirement already satisfied: pymorphy2-dicts<3.0,>=2.4 in /usr/local/lib/python3.7/dist-packages (from pymorphy2==0.8) (2.4.393442.3710985)\n",
            "Requirement already satisfied: docopt>=0.6 in /usr/local/lib/python3.7/dist-packages (from pymorphy2==0.8) (0.6.2)\n"
          ]
        }
      ]
    },
    {
      "cell_type": "code",
      "source": [
        "import pymorphy2\n",
        "import gensim\n",
        "import gensim.downloader as api\n",
        "from google.colab import drive\n",
        "# Функции операционной системы\n",
        "import os\n",
        "# Регулярные выражения\n",
        "import re\n",
        "from tensorflow.keras import utils\n",
        "# Работа с массивами данных\n",
        "import numpy as np \n",
        "# Класс для конструирования последовательной модели нейронной сети\n",
        "from tensorflow.keras.models import Sequential, Model\n",
        "# Основные слои\n",
        "from tensorflow.keras.layers import Dense, Dropout, BatchNormalization, Activation ,Embedding,SpatialDropout1D,Flatten,Input"
      ],
      "metadata": {
        "id": "0sR7IkE1_pci"
      },
      "execution_count": null,
      "outputs": []
    },
    {
      "cell_type": "code",
      "source": [
        "FILE_DIR=\"/content/\""
      ],
      "metadata": {
        "id": "6p16V6a3__mp"
      },
      "execution_count": null,
      "outputs": []
    },
    {
      "cell_type": "markdown",
      "source": [
        "Парсинг текстов"
      ],
      "metadata": {
        "id": "VpF_KhA0IZ86"
      }
    },
    {
      "cell_type": "code",
      "source": [
        "# В список добавляются имена классов\n",
        "CLASS_LIST = []\n",
        "\n",
        "# Здесь сохраняются тексты для обучения сети\n",
        "text_train = []\n",
        "text_test = []\n",
        "# цикл для итерации по каждому имени текста в общей папке\n",
        "for file_name in os.listdir(FILE_DIR):\n",
        "\n",
        "    # Выделение имени класса и типа выборки из имени файла\n",
        "    m = re.match('(\\()(.+)(\\))(.+)(\\.txt)', file_name)# (\\S+)_\n",
        "    #\n",
        "    # Если выделение получилось, то файл обрабатывается\n",
        "    if m:\n",
        "        class_name=m[2]\n",
        "        #m1=re.match('(.+)(\\.txt)', file_name)\n",
        "        #type=\n",
        "        #if('Тестовая' in m[4]):\n",
        "        print(m[2],m[4])\n",
        "        # Добавление нового класса, если его еще нет в списке\n",
        "        if class_name not in CLASS_LIST:\n",
        "\n",
        "                # Выводится информационное сообщение о добавлении названия класса\n",
        "                CLASS_LIST.append(class_name)\n",
        "\n",
        "                # Инициализация соответствующих классу строк текста\n",
        "                text_train.append('')\n",
        "                text_test.append('')\n",
        "            # Поиск индекса класса для добавления содержимого файла в выборку\n",
        "        cls = CLASS_LIST.index(class_name)\n",
        "\n",
        "            # Выводится информационное сообщение о добавлении класса в список классов и текста к выборке\n",
        "        print(f'Добавление файла \"{file_name}\" в класс \"{CLASS_LIST[cls]}\"')\n",
        "\n",
        "            # оператор with - безопасное чтение каждого файла с текстом\n",
        "        with open(f'{FILE_DIR}/{file_name}', 'r') as f:\n",
        "\n",
        "                # Загрузка содержимого файла в строку\n",
        "                text = f.read()\n",
        "                text = text.replace('\\n', ' ')\n",
        "\n",
        "            # Добавление текста к соответствующей выборке класса. Концы строк заменяются на пробел\n",
        "        if('Обучающая' in m[4]):\n",
        "          text_train[cls] += ' ' + text\n",
        "        else:\n",
        "          text_test[cls] += ' ' + text\n",
        "        "
      ],
      "metadata": {
        "colab": {
          "base_uri": "https://localhost:8080/"
        },
        "id": "WWQbDi4v6Pdl",
        "outputId": "dd69fd34-ba1d-4607-d9da-5b9e873edd97"
      },
      "execution_count": null,
      "outputs": [
        {
          "output_type": "stream",
          "name": "stdout",
          "text": [
            "Рэй Брэдберри  Тестовая_8 вместе\n",
            "Добавление файла \"(Рэй Брэдберри) Тестовая_8 вместе.txt\" в класс \"Рэй Брэдберри\"\n",
            "Клиффорд_Саймак  Тестовая_2 вместе\n",
            "Добавление файла \"(Клиффорд_Саймак) Тестовая_2 вместе.txt\" в класс \"Клиффорд_Саймак\"\n",
            "Макс Фрай  Тестовая_2 вместе\n",
            "Добавление файла \"(Макс Фрай) Тестовая_2 вместе.txt\" в класс \"Макс Фрай\"\n",
            "Клиффорд_Саймак  Обучающая_5 вместе\n",
            "Добавление файла \"(Клиффорд_Саймак) Обучающая_5 вместе.txt\" в класс \"Клиффорд_Саймак\"\n",
            "Рэй Брэдберри  Обучающая_22 вместе\n",
            "Добавление файла \"(Рэй Брэдберри) Обучающая_22 вместе.txt\" в класс \"Рэй Брэдберри\"\n",
            "Стругацкие  Тестовая_2 вместе\n",
            "Добавление файла \"(Стругацкие) Тестовая_2 вместе.txt\" в класс \"Стругацкие\"\n",
            "Булгаков  Тестовая_2 вместе\n",
            "Добавление файла \"(Булгаков) Тестовая_2 вместе.txt\" в класс \"Булгаков\"\n",
            "Макс Фрай  Обучающая_5 вместе\n",
            "Добавление файла \"(Макс Фрай) Обучающая_5 вместе.txt\" в класс \"Макс Фрай\"\n",
            "Булгаков  Обучающая_5 вместе\n",
            "Добавление файла \"(Булгаков) Обучающая_5 вместе.txt\" в класс \"Булгаков\"\n",
            "О. Генри  Обучающая_50 вместе\n",
            "Добавление файла \"(О. Генри) Обучающая_50 вместе.txt\" в класс \"О. Генри\"\n",
            "Стругацкие  Обучающая_5 вместе\n",
            "Добавление файла \"(Стругацкие) Обучающая_5 вместе.txt\" в класс \"Стругацкие\"\n",
            "О. Генри  Тестовая_20 вместе\n",
            "Добавление файла \"(О. Генри) Тестовая_20 вместе.txt\" в класс \"О. Генри\"\n"
          ]
        }
      ]
    },
    {
      "cell_type": "markdown",
      "source": [
        "Создание словаря с помощью библиотеки gensim"
      ],
      "metadata": {
        "id": "W0P5wthyIeE8"
      }
    },
    {
      "cell_type": "code",
      "source": [
        "autoprocess_text_train = [gensim.utils.simple_preprocess(txt) for txt in text_train]\n",
        "autoprocess_text_test = [gensim.utils.simple_preprocess(txt) for txt in text_test]\n",
        "\n",
        "dictionary = gensim.corpora.Dictionary(autoprocess_text_train)\n"
      ],
      "metadata": {
        "id": "nHMSHVqgijWx"
      },
      "execution_count": null,
      "outputs": []
    },
    {
      "cell_type": "code",
      "source": [
        "dictionary.filter_extremes(no_below=2, no_above=1.0, keep_n=20000)"
      ],
      "metadata": {
        "id": "7Dxobf5n2WCK"
      },
      "execution_count": null,
      "outputs": []
    },
    {
      "cell_type": "code",
      "source": [
        "autoprocess_text_train_glued=[]\n",
        "for txt in autoprocess_text_train:\n",
        "  string=\"\"\n",
        "  for word in txt:\n",
        "    string+=word+\" \"\n",
        "  autoprocess_text_train_glued.append(string)\n"
      ],
      "metadata": {
        "id": "xnqRrtegq0st"
      },
      "execution_count": null,
      "outputs": []
    },
    {
      "cell_type": "code",
      "source": [
        "import gensim.downloader as api\n",
        "from gensim.models import Word2Vec\n",
        "#wv = api.load('word2vec-google-news-300') #загружаем w2v\n",
        "#wv_emb = wv.get_keras_embedding()"
      ],
      "metadata": {
        "id": "UcL4k7AhkOjo"
      },
      "execution_count": null,
      "outputs": []
    },
    {
      "cell_type": "markdown",
      "source": [
        "Тренировка модели Word2Vec на базе которой будет создан эмбеддинг"
      ],
      "metadata": {
        "id": "I7V-xrrhIm8z"
      }
    },
    {
      "cell_type": "code",
      "source": [
        "w2v_model = Word2Vec(autoprocess_text_train,\n",
        "    min_count=2,\n",
        "    window=1000,\n",
        "    size=100,\n",
        "    #negative=10,\n",
        "    #alpha=0.03,\n",
        "    #min_alpha=0.0007,\n",
        "    #sample=6e-5,\n",
        "    #sg=1\n",
        "    max_vocab_size=20000, \n",
        "    null_word=0)"
      ],
      "metadata": {
        "id": "J559xsBolcHm"
      },
      "execution_count": null,
      "outputs": []
    },
    {
      "cell_type": "code",
      "source": [
        "w2v_model.train(autoprocess_text_train, total_examples=w2v_model.corpus_count, epochs=30, report_delay=1)"
      ],
      "metadata": {
        "colab": {
          "base_uri": "https://localhost:8080/"
        },
        "id": "z7KKwv4rlx_G",
        "outputId": "8c516a23-9e2b-4f18-a7e9-87ad05fd9809"
      },
      "execution_count": null,
      "outputs": [
        {
          "output_type": "execute_result",
          "data": {
            "text/plain": [
              "(1800000, 46997940)"
            ]
          },
          "metadata": {},
          "execution_count": 21
        }
      ]
    },
    {
      "cell_type": "code",
      "source": [
        "w2v_model.wv.most_similar(positive=[\"любить\"])"
      ],
      "metadata": {
        "colab": {
          "base_uri": "https://localhost:8080/"
        },
        "id": "zQC2vkqTsVaV",
        "outputId": "7e953fc3-16e8-4282-f1b6-48cd4509ecd2"
      },
      "execution_count": null,
      "outputs": [
        {
          "output_type": "execute_result",
          "data": {
            "text/plain": [
              "[('систему', 0.9988161325454712),\n",
              " ('изображением', 0.9986560940742493),\n",
              " ('электрическая', 0.9985172748565674),\n",
              " ('судорожно', 0.9983919858932495),\n",
              " ('проволока', 0.9981394410133362),\n",
              " ('медная', 0.998037576675415),\n",
              " ('заинтересовался', 0.998016357421875),\n",
              " ('бегло', 0.9979869723320007),\n",
              " ('настроить', 0.9979732632637024),\n",
              " ('четверо', 0.9972565174102783)]"
            ]
          },
          "metadata": {},
          "execution_count": 24
        }
      ]
    },
    {
      "cell_type": "markdown",
      "source": [
        "Создание эмбеддинг"
      ],
      "metadata": {
        "id": "hC1BLpq2I-Vz"
      }
    },
    {
      "cell_type": "code",
      "source": [
        "wv_emb = w2v_model.wv.get_keras_embedding(train_embeddings=True)"
      ],
      "metadata": {
        "id": "S9Ni_c1IkPZf"
      },
      "execution_count": null,
      "outputs": []
    },
    {
      "cell_type": "code",
      "source": [
        "Tokenized_text_train=[dictionary.doc2idx(doc,unknown_word_index=0) for doc in autoprocess_text_train]\n",
        "Tokenized_text_test=[dictionary.doc2idx(doc,unknown_word_index=0) for doc in autoprocess_text_test]"
      ],
      "metadata": {
        "id": "mMIjcXXakPdB"
      },
      "execution_count": null,
      "outputs": []
    },
    {
      "cell_type": "code",
      "source": [
        "# Объем словаря для токенизатора\n",
        "VOCAB_SIZE = 20000\n",
        "\n",
        "# Длина отрезка текста (окна) в словах                        \n",
        "WIN_SIZE   = 1000\n",
        "\n",
        "# Шаг окна разбиения текста на векторы                         \n",
        "WIN_HOP    = 100                          \n"
      ],
      "metadata": {
        "id": "CDv9s1hZ09ka"
      },
      "execution_count": null,
      "outputs": []
    },
    {
      "cell_type": "code",
      "source": [],
      "metadata": {
        "id": "avwdBv3W3MDq"
      },
      "execution_count": null,
      "outputs": []
    },
    {
      "cell_type": "markdown",
      "source": [
        "Создание выборок"
      ],
      "metadata": {
        "id": "ZzrQO7yrJEtE"
      }
    },
    {
      "cell_type": "code",
      "metadata": {
        "id": "wp-07q97uzgF"
      },
      "source": [
        "def split_sequence(sequence,   # Последовательность индексов\n",
        "                   win_size,   # Размер окна для деления на примеры\n",
        "                   hop):       # Шаг окна\n",
        "\n",
        "    # Последовательность разбивается на части до последнего полного окна\n",
        "    return [sequence[i:i + win_size] for i in range(0, len(sequence) - win_size + 1, hop)]"
      ],
      "execution_count": null,
      "outputs": []
    },
    {
      "cell_type": "code",
      "metadata": {
        "id": "NUXbD1KYuzgF"
      },
      "source": [
        "def vectorize_sequence(seq_list,    # Список последовательностей индексов \n",
        "                       win_size,    # Размер окна для деления на примеры\n",
        "                       hop):        # Шаг окна\n",
        "\n",
        "    # В списке последовательности следуют в порядке их классов (их кол-во сповпадает с кол-вом классов)\n",
        "    class_count = len(seq_list)\n",
        "\n",
        "    # Списки для исходных векторов и категориальных меток класса\n",
        "    x, y = [], []\n",
        "\n",
        "    # Для каждого класса:\n",
        "    for cls in range(class_count):\n",
        "\n",
        "        # Разбиение последовательности класса cls на отрезки\n",
        "        vectors = split_sequence(seq_list[cls], win_size, hop)\n",
        "\n",
        "        # Добавление отрезков в выборку\n",
        "\n",
        "        x += vectors\n",
        "        \n",
        "        # Для всех отрезков класса cls добавление меток класса в виде OHE\n",
        "        y += [utils.to_categorical(cls, class_count)] * len(vectors)\n",
        "\n",
        "    # Возврат результатов как numpy-массивов\n",
        "    return np.array(x), np.array(y)"
      ],
      "execution_count": null,
      "outputs": []
    },
    {
      "cell_type": "code",
      "metadata": {
        "id": "Np-sn0DF56ej",
        "colab": {
          "base_uri": "https://localhost:8080/"
        },
        "outputId": "2870ac89-d80a-4edd-9880-48c7f3f8e3ab"
      },
      "source": [
        "# Формирование обучающей выборки\n",
        "x_train, y_train = vectorize_sequence(Tokenized_text_train, WIN_SIZE, WIN_HOP) \n",
        "# Формирование тестовой выборки\n",
        "x_test, y_test = vectorize_sequence(Tokenized_text_test, WIN_SIZE, WIN_HOP)\n",
        "\n",
        "# Проверка формы сформированных данных\n",
        "print(x_train.shape, y_train.shape)\n",
        "print(x_test.shape, y_test.shape)"
      ],
      "execution_count": null,
      "outputs": [
        {
          "output_type": "stream",
          "name": "stdout",
          "text": [
            "(15610, 1000) (15610, 6)\n",
            "(5929, 1000) (5929, 6)\n"
          ]
        }
      ]
    },
    {
      "cell_type": "code",
      "source": [
        "from sklearn.utils import class_weight\n",
        "class_weights = class_weight.compute_class_weight(\n",
        "                                        class_weight = \"balanced\",\n",
        "                                        classes = np.unique(np.argmax(y_train,axis=1)),\n",
        "                                        y = np.argmax(y_train,axis=1)\n",
        "                                    )\n",
        "class_weights = dict(zip(np.unique(np.argmax(y_train,axis=1)), class_weights))\n",
        "class_weights"
      ],
      "metadata": {
        "colab": {
          "base_uri": "https://localhost:8080/"
        },
        "id": "IZEkELdW4rsn",
        "outputId": "fc36307c-0521-40b7-dfd1-c977ca51b5a3"
      },
      "execution_count": null,
      "outputs": [
        {
          "output_type": "execute_result",
          "data": {
            "text/plain": [
              "{0: 1.364271980423003,\n",
              " 1: 1.1729786594529605,\n",
              " 2: 0.5151815181518152,\n",
              " 3: 0.9422914402994085,\n",
              " 4: 1.149653851819119,\n",
              " 5: 1.8438459721237892}"
            ]
          },
          "metadata": {},
          "execution_count": 86
        }
      ]
    },
    {
      "cell_type": "code",
      "source": [],
      "metadata": {
        "id": "mdkVcaAZ4rpx"
      },
      "execution_count": null,
      "outputs": []
    },
    {
      "cell_type": "markdown",
      "source": [
        "Модель на основе gensim эмбеддинга"
      ],
      "metadata": {
        "id": "_4K4b5npJJYj"
      }
    },
    {
      "cell_type": "code",
      "source": [
        "input = Input(shape=(WIN_SIZE,))\n",
        "x = wv_emb(input)\n",
        "#x = SpatialDropout1D(0.2)(x)\n",
        "x = Flatten()(x)\n",
        "x = Dense(100, activation=\"relu\")(x)\n",
        "#x = Dense(100, activation=\"relu\")(x)\n",
        "#x = Dropout(0.1)(x)\n",
        "x = Dense(y_train.shape[-1], activation='softmax')(x)\n",
        "model_text_emb1 = Model(input, x)\n",
        "model_text_emb1.compile(optimizer='adam',loss='categorical_crossentropy',metrics=['accuracy'])"
      ],
      "metadata": {
        "id": "242rtD1NtKY2"
      },
      "execution_count": null,
      "outputs": []
    },
    {
      "cell_type": "code",
      "source": [
        "model_text_emb1.summary()"
      ],
      "metadata": {
        "id": "89dTpaqFAWrI",
        "colab": {
          "base_uri": "https://localhost:8080/"
        },
        "outputId": "6174b0ae-5729-493d-a82d-85e23fe45eb2"
      },
      "execution_count": null,
      "outputs": [
        {
          "output_type": "stream",
          "name": "stdout",
          "text": [
            "Model: \"model_5\"\n",
            "_________________________________________________________________\n",
            " Layer (type)                Output Shape              Param #   \n",
            "=================================================================\n",
            " input_7 (InputLayer)        [(None, 1000)]            0         \n",
            "                                                                 \n",
            " embedding_3 (Embedding)     (None, 1000, 100)         2438400   \n",
            "                                                                 \n",
            " flatten_5 (Flatten)         (None, 100000)            0         \n",
            "                                                                 \n",
            " dense_11 (Dense)            (None, 100)               10000100  \n",
            "                                                                 \n",
            " dense_12 (Dense)            (None, 6)                 606       \n",
            "                                                                 \n",
            "=================================================================\n",
            "Total params: 12,439,106\n",
            "Trainable params: 12,439,106\n",
            "Non-trainable params: 0\n",
            "_________________________________________________________________\n"
          ]
        }
      ]
    },
    {
      "cell_type": "code",
      "source": [
        "history = model_text_emb1.fit(x_train,y_train,epochs=20,batch_size=1024,validation_data=(x_test, y_test),class_weight = class_weights)"
      ],
      "metadata": {
        "colab": {
          "base_uri": "https://localhost:8080/"
        },
        "id": "1jq8cpLGtKcL",
        "outputId": "4d6bd255-c26f-4194-c20f-c44ec4396adc"
      },
      "execution_count": null,
      "outputs": [
        {
          "output_type": "stream",
          "name": "stdout",
          "text": [
            "Epoch 1/20\n",
            "16/16 [==============================] - 39s 2s/step - loss: 49.6529 - accuracy: 0.1727 - val_loss: 1.7922 - val_accuracy: 0.0744\n",
            "Epoch 2/20\n",
            "16/16 [==============================] - 29s 2s/step - loss: 1.7910 - accuracy: 0.1438 - val_loss: 1.7934 - val_accuracy: 0.0742\n",
            "Epoch 3/20\n",
            "16/16 [==============================] - 29s 2s/step - loss: 1.7871 - accuracy: 0.1436 - val_loss: 1.7940 - val_accuracy: 0.0735\n",
            "Epoch 4/20\n",
            "16/16 [==============================] - 30s 2s/step - loss: 1.7869 - accuracy: 0.1439 - val_loss: 1.7933 - val_accuracy: 0.0747\n",
            "Epoch 5/20\n",
            "16/16 [==============================] - 29s 2s/step - loss: 1.7852 - accuracy: 0.1443 - val_loss: 1.7960 - val_accuracy: 0.0744\n",
            "Epoch 6/20\n",
            "16/16 [==============================] - 32s 2s/step - loss: 1.7833 - accuracy: 0.1441 - val_loss: 1.7942 - val_accuracy: 0.0745\n",
            "Epoch 7/20\n",
            "16/16 [==============================] - 32s 2s/step - loss: 1.7805 - accuracy: 0.1441 - val_loss: 1.7949 - val_accuracy: 0.0744\n",
            "Epoch 8/20\n",
            "16/16 [==============================] - 29s 2s/step - loss: 1.7793 - accuracy: 0.1441 - val_loss: 1.7973 - val_accuracy: 0.0737\n",
            "Epoch 9/20\n",
            "16/16 [==============================] - 29s 2s/step - loss: 1.7772 - accuracy: 0.1461 - val_loss: 1.7942 - val_accuracy: 0.0740\n",
            "Epoch 10/20\n",
            "16/16 [==============================] - 35s 2s/step - loss: 1.7752 - accuracy: 0.1456 - val_loss: 1.7954 - val_accuracy: 0.0747\n",
            "Epoch 11/20\n",
            "16/16 [==============================] - 29s 2s/step - loss: 1.7741 - accuracy: 0.1464 - val_loss: 1.7947 - val_accuracy: 0.0745\n",
            "Epoch 12/20\n",
            "16/16 [==============================] - 29s 2s/step - loss: 1.7735 - accuracy: 0.1464 - val_loss: 1.7952 - val_accuracy: 0.0747\n",
            "Epoch 13/20\n",
            "16/16 [==============================] - 28s 2s/step - loss: 1.7725 - accuracy: 0.1464 - val_loss: 1.8028 - val_accuracy: 0.0778\n",
            "Epoch 14/20\n",
            "16/16 [==============================] - 29s 2s/step - loss: 1.7733 - accuracy: 0.1461 - val_loss: 1.7938 - val_accuracy: 0.0745\n",
            "Epoch 15/20\n",
            "16/16 [==============================] - 29s 2s/step - loss: 1.7722 - accuracy: 0.1465 - val_loss: 1.7947 - val_accuracy: 0.0749\n",
            "Epoch 16/20\n",
            "16/16 [==============================] - 29s 2s/step - loss: 1.7715 - accuracy: 0.1470 - val_loss: 1.7938 - val_accuracy: 0.0751\n",
            "Epoch 17/20\n",
            "16/16 [==============================] - 29s 2s/step - loss: 1.7715 - accuracy: 0.1468 - val_loss: 1.7977 - val_accuracy: 0.0759\n",
            "Epoch 18/20\n",
            "16/16 [==============================] - 29s 2s/step - loss: 1.7727 - accuracy: 0.1465 - val_loss: 1.7959 - val_accuracy: 0.0744\n",
            "Epoch 19/20\n",
            "16/16 [==============================] - 29s 2s/step - loss: 1.7706 - accuracy: 0.1471 - val_loss: 1.7978 - val_accuracy: 0.0739\n",
            "Epoch 20/20\n",
            "16/16 [==============================] - 29s 2s/step - loss: 1.7705 - accuracy: 0.1471 - val_loss: 1.7936 - val_accuracy: 0.0751\n"
          ]
        }
      ]
    },
    {
      "cell_type": "markdown",
      "source": [
        "Модель на основе обычного эмбеддинга"
      ],
      "metadata": {
        "id": "kDs4dh1ZJRGc"
      }
    },
    {
      "cell_type": "code",
      "source": [
        "input = Input(shape=(WIN_SIZE,))\n",
        "x = Embedding(VOCAB_SIZE, 100)(input)\n",
        "#x = SpatialDropout1D(0.2)(x)\n",
        "x = Flatten()(x)\n",
        "x = Dense(100, activation=\"relu\")(x)\n",
        "#x = Dense(100, activation=\"relu\")(x)\n",
        "#x = Dropout(0.1)(x)\n",
        "x = Dense(y_train.shape[-1], activation='softmax')(x)\n",
        "model_text_emb1 = Model(input, x)\n",
        "model_text_emb1.compile(optimizer='adam',loss='categorical_crossentropy',metrics=['accuracy'])"
      ],
      "metadata": {
        "id": "L8Ix56I73MPg"
      },
      "execution_count": null,
      "outputs": []
    },
    {
      "cell_type": "code",
      "source": [
        "model_text_emb1.summary()"
      ],
      "metadata": {
        "colab": {
          "base_uri": "https://localhost:8080/"
        },
        "outputId": "cb6ae3d1-cd86-45ae-c87a-0a5eec38905d",
        "id": "kKI5UeqNGSO8"
      },
      "execution_count": null,
      "outputs": [
        {
          "output_type": "stream",
          "name": "stdout",
          "text": [
            "Model: \"model_6\"\n",
            "_________________________________________________________________\n",
            " Layer (type)                Output Shape              Param #   \n",
            "=================================================================\n",
            " input_8 (InputLayer)        [(None, 1000)]            0         \n",
            "                                                                 \n",
            " embedding_4 (Embedding)     (None, 1000, 100)         2000000   \n",
            "                                                                 \n",
            " flatten_6 (Flatten)         (None, 100000)            0         \n",
            "                                                                 \n",
            " dense_13 (Dense)            (None, 100)               10000100  \n",
            "                                                                 \n",
            " dense_14 (Dense)            (None, 6)                 606       \n",
            "                                                                 \n",
            "=================================================================\n",
            "Total params: 12,000,706\n",
            "Trainable params: 12,000,706\n",
            "Non-trainable params: 0\n",
            "_________________________________________________________________\n"
          ]
        }
      ]
    },
    {
      "cell_type": "code",
      "source": [
        "history = model_text_emb1.fit(x_train,y_train,epochs=20,batch_size=1024,validation_data=(x_test, y_test),class_weight = class_weights)"
      ],
      "metadata": {
        "colab": {
          "base_uri": "https://localhost:8080/"
        },
        "outputId": "181bb6d0-b60e-4fd1-8b95-e290dd97bba0",
        "id": "ryngaiAaGSO9"
      },
      "execution_count": null,
      "outputs": [
        {
          "output_type": "stream",
          "name": "stdout",
          "text": [
            "Epoch 1/20\n",
            "16/16 [==============================] - 30s 2s/step - loss: 1.5301 - accuracy: 0.4282 - val_loss: 1.3088 - val_accuracy: 0.5092\n",
            "Epoch 2/20\n",
            "16/16 [==============================] - 29s 2s/step - loss: 0.2118 - accuracy: 0.9763 - val_loss: 0.8205 - val_accuracy: 0.6780\n",
            "Epoch 3/20\n",
            "16/16 [==============================] - 29s 2s/step - loss: 0.0041 - accuracy: 1.0000 - val_loss: 0.7248 - val_accuracy: 0.7340\n",
            "Epoch 4/20\n",
            "16/16 [==============================] - 30s 2s/step - loss: 5.8048e-04 - accuracy: 1.0000 - val_loss: 0.6978 - val_accuracy: 0.7482\n",
            "Epoch 5/20\n",
            "16/16 [==============================] - 30s 2s/step - loss: 3.1092e-04 - accuracy: 1.0000 - val_loss: 0.6868 - val_accuracy: 0.7485\n",
            "Epoch 6/20\n",
            "16/16 [==============================] - 30s 2s/step - loss: 2.3790e-04 - accuracy: 1.0000 - val_loss: 0.6732 - val_accuracy: 0.7504\n",
            "Epoch 7/20\n",
            "16/16 [==============================] - 30s 2s/step - loss: 2.0534e-04 - accuracy: 1.0000 - val_loss: 0.6655 - val_accuracy: 0.7551\n",
            "Epoch 8/20\n",
            "16/16 [==============================] - 30s 2s/step - loss: 1.8258e-04 - accuracy: 1.0000 - val_loss: 0.6617 - val_accuracy: 0.7575\n",
            "Epoch 9/20\n",
            "16/16 [==============================] - 31s 2s/step - loss: 1.6470e-04 - accuracy: 1.0000 - val_loss: 0.6616 - val_accuracy: 0.7588\n",
            "Epoch 10/20\n",
            "16/16 [==============================] - 30s 2s/step - loss: 1.4902e-04 - accuracy: 1.0000 - val_loss: 0.6580 - val_accuracy: 0.7617\n",
            "Epoch 11/20\n",
            "16/16 [==============================] - 29s 2s/step - loss: 1.3571e-04 - accuracy: 1.0000 - val_loss: 0.6561 - val_accuracy: 0.7642\n",
            "Epoch 12/20\n",
            "16/16 [==============================] - 29s 2s/step - loss: 1.2417e-04 - accuracy: 1.0000 - val_loss: 0.6551 - val_accuracy: 0.7659\n",
            "Epoch 13/20\n",
            "16/16 [==============================] - 29s 2s/step - loss: 1.1409e-04 - accuracy: 1.0000 - val_loss: 0.6546 - val_accuracy: 0.7671\n",
            "Epoch 14/20\n",
            "16/16 [==============================] - 29s 2s/step - loss: 1.0536e-04 - accuracy: 1.0000 - val_loss: 0.6527 - val_accuracy: 0.7667\n",
            "Epoch 15/20\n",
            "16/16 [==============================] - 29s 2s/step - loss: 9.7657e-05 - accuracy: 1.0000 - val_loss: 0.6506 - val_accuracy: 0.7684\n",
            "Epoch 16/20\n",
            "16/16 [==============================] - 29s 2s/step - loss: 9.0761e-05 - accuracy: 1.0000 - val_loss: 0.6502 - val_accuracy: 0.7688\n",
            "Epoch 17/20\n",
            "16/16 [==============================] - 29s 2s/step - loss: 8.4628e-05 - accuracy: 1.0000 - val_loss: 0.6488 - val_accuracy: 0.7698\n",
            "Epoch 18/20\n",
            "16/16 [==============================] - 30s 2s/step - loss: 7.9036e-05 - accuracy: 1.0000 - val_loss: 0.6479 - val_accuracy: 0.7710\n",
            "Epoch 19/20\n",
            "16/16 [==============================] - 30s 2s/step - loss: 7.4049e-05 - accuracy: 1.0000 - val_loss: 0.6459 - val_accuracy: 0.7723\n",
            "Epoch 20/20\n",
            "16/16 [==============================] - 29s 2s/step - loss: 6.9451e-05 - accuracy: 1.0000 - val_loss: 0.6452 - val_accuracy: 0.7720\n"
          ]
        }
      ]
    },
    {
      "cell_type": "markdown",
      "source": [
        "Обычный эмбеддинг керас отработал лучше"
      ],
      "metadata": {
        "id": "i-YsHjEtJcG8"
      }
    },
    {
      "cell_type": "code",
      "source": [],
      "metadata": {
        "id": "LApUxV25dBu6"
      },
      "execution_count": null,
      "outputs": []
    },
    {
      "cell_type": "code",
      "source": [],
      "metadata": {
        "id": "eTw2Y9e_dB4s"
      },
      "execution_count": null,
      "outputs": []
    },
    {
      "cell_type": "code",
      "source": [],
      "metadata": {
        "id": "aqePo9D9dB8K"
      },
      "execution_count": null,
      "outputs": []
    },
    {
      "cell_type": "markdown",
      "source": [],
      "metadata": {
        "id": "82jl9T6KCOXm"
      }
    },
    {
      "cell_type": "markdown",
      "source": [
        "Дальше тест с балансировкой"
      ],
      "metadata": {
        "id": "qRJFg_vGCOZi"
      }
    },
    {
      "cell_type": "code",
      "source": [
        "print(len(Tokenized_text_train[0]))\n",
        "print()\n",
        "SequencyLen=[]\n",
        "SequencyLenMax=0\n",
        "SequencyLenMin=1000000000\n",
        "WeightK=[]\n",
        "for i,seq in enumerate(Tokenized_text_train):\n",
        "  if(len(seq)>SequencyLenMax):SequencyLenMax=len(seq)\n",
        "  if(len(seq)<SequencyLenMin):SequencyLenMin=len(seq)\n",
        "  SequencyLen.append(len(seq))\n",
        "  print(i,len(seq))\n",
        "print()\n",
        "print(\"Max len=\",SequencyLenMax,\"Min len=\",SequencyLenMin,\"Max/Min=\",SequencyLenMax/SequencyLenMin)\n",
        "for i,seq in enumerate(Tokenized_text_train):\n",
        "  WeightK.append((i,SequencyLenMin/len(seq)))\n",
        "print(WeightK)\n",
        "\n",
        "class_weight=dict(WeightK)"
      ],
      "metadata": {
        "colab": {
          "base_uri": "https://localhost:8080/"
        },
        "id": "rq42_Iz-09oj",
        "outputId": "2cd93d63-cefc-4afc-aef6-7ac43f99e45e"
      },
      "execution_count": null,
      "outputs": [
        {
          "output_type": "stream",
          "name": "stdout",
          "text": [
            "191607\n",
            "\n",
            "0 191607\n",
            "1 222707\n",
            "2 505930\n",
            "3 277020\n",
            "4 227241\n",
            "5 142093\n",
            "\n",
            "Max len= 505930 Min len= 142093 Max/Min= 3.560555410892866\n",
            "[(0, 0.7415856414431623), (1, 0.6380266448742069), (2, 0.280855059000257), (3, 0.5129340841816475), (4, 0.625296491390198), (5, 1.0)]\n"
          ]
        }
      ]
    },
    {
      "cell_type": "code",
      "source": [
        "class_weight"
      ],
      "metadata": {
        "id": "gPes-VQhb3DS",
        "colab": {
          "base_uri": "https://localhost:8080/"
        },
        "outputId": "daf2fb14-b86b-4ee7-fb41-f7fd0a06073d"
      },
      "execution_count": null,
      "outputs": [
        {
          "output_type": "execute_result",
          "data": {
            "text/plain": [
              "{0: 0.7415856414431623,\n",
              " 1: 0.6380266448742069,\n",
              " 2: 0.280855059000257,\n",
              " 3: 0.5129340841816475,\n",
              " 4: 0.625296491390198,\n",
              " 5: 1.0}"
            ]
          },
          "metadata": {},
          "execution_count": 85
        }
      ]
    },
    {
      "cell_type": "code",
      "source": [],
      "metadata": {
        "id": "dr6sgUhmtaFe"
      },
      "execution_count": null,
      "outputs": []
    }
  ]
}