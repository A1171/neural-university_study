{
  "nbformat": 4,
  "nbformat_minor": 0,
  "metadata": {
    "colab": {
      "provenance": []
    },
    "kernelspec": {
      "name": "python3",
      "display_name": "Python 3"
    },
    "language_info": {
      "name": "python"
    }
  },
  "cells": [
    {
      "cell_type": "markdown",
      "source": [
        "Классификатор для распознавания жанра музыки"
      ],
      "metadata": {
        "id": "XUvjaNODi3Zr"
      }
    },
    {
      "cell_type": "markdown",
      "metadata": {
        "id": "kkyK1G915qq6"
      },
      "source": [
        "Примените подход к музыке как к тексту и напишите сверточный классификатор для подготовленных данных. Для этого:\n",
        "\n",
        " 1. Измените подготовку данных так, чтобы набор признаков, извлекаемый из аудиофайла, был представлен в виде последовательностей векторов признаков. Последовательности должны быть фиксированного размера и выбираться скользящим окном c заданным шагом;\n",
        " 2. Длину последовательности, размер шага и достаточный набор признаков определите самостоятельно исходя из требований к точности классификатора;\n",
        " 3. Разработайте классификатор на одномерных сверточных слоях **Conv1D** с точностью классификации жанра на тестовых данных не ниже **60%**, а на обучающих файлах - **68%** и выше;\n",
        " 4. Используйте за основу фреймворк с урока, но при желании разработайте свои инструменты.\n",
        " "
      ]
    },
    {
      "cell_type": "markdown",
      "metadata": {
        "id": "_XxR71u8eXyD"
      },
      "source": [
        "Импортируем необходимые библиотеки:"
      ]
    },
    {
      "cell_type": "code",
      "metadata": {
        "id": "xWiCMHe2LPU4"
      },
      "source": [
        "# Массивы\n",
        "import numpy as np\n",
        "\n",
        "# Отрисовка графиков\n",
        "import matplotlib.pyplot as plt\n",
        "\n",
        "# Загрузка из google облака\n",
        "import gdown\n",
        "\n",
        "# Преобразование категориальных данных в one hot encoding\n",
        "from tensorflow.keras.utils import to_categorical\n",
        "\n",
        "# Работа с папками и файлами\n",
        "import os\n",
        "\n",
        "# Утилиты работы со временем\n",
        "import time\n",
        "\n",
        "# Работа со случайными числами\n",
        "import random\n",
        "\n",
        "# Математические функции\n",
        "import math\n",
        "\n",
        "# Сохранение и загрузка структур данных Python\n",
        "import pickle\n",
        "\n",
        "# Параметризация аудио\n",
        "import librosa\n",
        "\n",
        "# Оптимизаторы для обучения моделей\n",
        "from tensorflow.keras.optimizers import Adam, RMSprop\n",
        "\n",
        "# Конструирование и загрузка моделей нейронных сетей\n",
        "from tensorflow.keras.models import Sequential, Model, load_model\n",
        "\n",
        "# Основные слои\n",
        "from tensorflow.keras.layers import concatenate, Input, Dense, Dropout, BatchNormalization, Flatten, Conv1D, Conv2D, LSTM\n",
        "from tensorflow.keras.layers import MaxPooling1D, AveragePooling1D, SpatialDropout1D\n",
        "\n",
        "# Разбиение на обучающую и проверочную выборку\n",
        "from sklearn.model_selection import train_test_split\n",
        "\n",
        "# Кодирование категориальных меток, нормирование числовых данных\n",
        "from sklearn.preprocessing import LabelEncoder, StandardScaler\n",
        "\n",
        "# Матрица ошибок классификатора\n",
        "from sklearn.metrics import confusion_matrix, ConfusionMatrixDisplay\n",
        "\n",
        "# Отключение предупреждений\n",
        "import warnings\n",
        "warnings.filterwarnings('ignore')\n",
        "\n",
        "from tensorflow.keras import utils\n",
        "\n",
        "%matplotlib inline "
      ],
      "execution_count": null,
      "outputs": []
    },
    {
      "cell_type": "markdown",
      "metadata": {
        "id": "unFzU0dqyTGO"
      },
      "source": [
        "Загрузим датасет в Colab:"
      ]
    },
    {
      "cell_type": "code",
      "metadata": {
        "colab": {
          "base_uri": "https://localhost:8080/",
          "height": 36
        },
        "id": "2_zMM9lkfqS8",
        "outputId": "be14e19a-7eae-4604-971f-d67ad6e5d506"
      },
      "source": [
        "# Загрузка датасета из облака\n",
        "gdown.download('https://storage.googleapis.com/datasets_ai/Base/12_audio/genres.zip', None, quiet=True)"
      ],
      "execution_count": null,
      "outputs": [
        {
          "output_type": "execute_result",
          "data": {
            "application/vnd.google.colaboratory.intrinsic+json": {
              "type": "string"
            },
            "text/plain": [
              "'genres.zip'"
            ]
          },
          "metadata": {},
          "execution_count": 18
        }
      ]
    },
    {
      "cell_type": "code",
      "metadata": {
        "colab": {
          "base_uri": "https://localhost:8080/"
        },
        "id": "Aw-k-4N66E4J",
        "outputId": "be509e35-224f-42c9-c8ff-9062feae0d4a"
      },
      "source": [
        "# Распаковка архива на локальный диск colab\n",
        "!unzip -qo genres.zip\n",
        "\n",
        "# Проверка выгруженных папок\n",
        "!ls genres \n",
        "\n",
        "# Проверка содержимого одной папки\n",
        "!ls genres/blues"
      ],
      "execution_count": null,
      "outputs": [
        {
          "output_type": "stream",
          "name": "stdout",
          "text": [
            "д\n",
            "y\n",
            "a\n",
            "blues  classical  country  disco  hiphop  jazz\tmetal  pop  reggae  rock\n",
            "blues.00000.au\tblues.00020.au\tblues.00040.au\tblues.00060.au\tblues.00080.au\n",
            "blues.00001.au\tblues.00021.au\tblues.00041.au\tblues.00061.au\tblues.00081.au\n",
            "blues.00002.au\tblues.00022.au\tblues.00042.au\tblues.00062.au\tblues.00082.au\n",
            "blues.00003.au\tblues.00023.au\tblues.00043.au\tblues.00063.au\tblues.00083.au\n",
            "blues.00004.au\tblues.00024.au\tblues.00044.au\tblues.00064.au\tblues.00084.au\n",
            "blues.00005.au\tblues.00025.au\tblues.00045.au\tblues.00065.au\tblues.00085.au\n",
            "blues.00006.au\tblues.00026.au\tblues.00046.au\tblues.00066.au\tblues.00086.au\n",
            "blues.00007.au\tblues.00027.au\tblues.00047.au\tblues.00067.au\tblues.00087.au\n",
            "blues.00008.au\tblues.00028.au\tblues.00048.au\tblues.00068.au\tblues.00088.au\n",
            "blues.00009.au\tblues.00029.au\tblues.00049.au\tblues.00069.au\tblues.00089.au\n",
            "blues.00010.au\tblues.00030.au\tblues.00050.au\tblues.00070.au\tblues.00090.au\n",
            "blues.00011.au\tblues.00031.au\tblues.00051.au\tblues.00071.au\tblues.00091.au\n",
            "blues.00012.au\tblues.00032.au\tblues.00052.au\tblues.00072.au\tblues.00092.au\n",
            "blues.00013.au\tblues.00033.au\tblues.00053.au\tblues.00073.au\tblues.00093.au\n",
            "blues.00014.au\tblues.00034.au\tblues.00054.au\tblues.00074.au\tblues.00094.au\n",
            "blues.00015.au\tblues.00035.au\tblues.00055.au\tblues.00075.au\tblues.00095.au\n",
            "blues.00016.au\tblues.00036.au\tblues.00056.au\tblues.00076.au\tblues.00096.au\n",
            "blues.00017.au\tblues.00037.au\tblues.00057.au\tblues.00077.au\tblues.00097.au\n",
            "blues.00018.au\tblues.00038.au\tblues.00058.au\tblues.00078.au\tblues.00098.au\n",
            "blues.00019.au\tblues.00039.au\tblues.00059.au\tblues.00079.au\tblues.00099.au\n"
          ]
        }
      ]
    },
    {
      "cell_type": "code",
      "metadata": {
        "id": "RawNC-D9sY1d"
      },
      "source": [
        "# Ваше решение"
      ],
      "execution_count": null,
      "outputs": []
    },
    {
      "cell_type": "code",
      "metadata": {
        "id": "tmFkLLispMnk"
      },
      "source": [
        "# Установка констант\n",
        "\n",
        "FILE_DIR = './genres'                     # Папка с файлами датасета\n",
        "CLASS_LIST = os.listdir(FILE_DIR)         # Список классов, порядок меток не определен!\n",
        "CLASS_LIST.sort()                         # Сортировка списка классов для фиксации порядка меток\n",
        "CLASS_COUNT = len(CLASS_LIST)             # Количество классов\n",
        "CLASS_FILES = 100                         # Общее количество файлов в каждом классе\n",
        "FILE_INDEX_TRAIN_SPLIT = 90               # Количество файлов каждого класса на основной набор\n",
        "VALIDATION_SPLIT = 0.1                    # Доля проверочной выборки в основном наборе\n",
        "DURATION_SEC = 30                         # Анализируемая длительность аудиосигнала\n",
        "N_FFT = 8192                              # Размер окна преобразования Фурье для расчета спектра\n",
        "HOP_LENGTH = 512                          # Объем данных для расчета одного набора признаков"
      ],
      "execution_count": null,
      "outputs": []
    },
    {
      "cell_type": "code",
      "metadata": {
        "colab": {
          "base_uri": "https://localhost:8080/"
        },
        "id": "td2eznfepMrF",
        "outputId": "8778c72e-37eb-47ad-f8d5-d54bc52eba2e"
      },
      "source": [
        "# Проверка списка классов\n",
        "print(CLASS_LIST)"
      ],
      "execution_count": null,
      "outputs": [
        {
          "output_type": "stream",
          "name": "stdout",
          "text": [
            "['blues', 'classical', 'country', 'disco', 'hiphop', 'jazz', 'metal', 'pop', 'reggae', 'rock']\n"
          ]
        }
      ]
    },
    {
      "cell_type": "code",
      "metadata": {
        "id": "0J5Y6znIpMts"
      },
      "source": [
        "# Функция параметризации аудио\n",
        "\n",
        "def get_features(y,                     # волновое представление сигнала\n",
        "                 sr,                    # частота дискретизации сигнала y\n",
        "                 n_fft=N_FFT,           # размер скользящего окна БПФ\n",
        "                 hop_length=HOP_LENGTH  # шаг скользящего окна БПФ\n",
        "                 ):\n",
        "    # Вычисление различных параметров (признаков) аудио\n",
        "\n",
        "    # Хромаграмма\n",
        "    chroma_stft = librosa.feature.chroma_stft(y=y, sr=sr, n_fft=n_fft, hop_length=hop_length)\n",
        "    # Мел-кепстральные коэффициенты\n",
        "    mfcc = librosa.feature.mfcc(y=y, sr=sr, n_fft=n_fft, hop_length=hop_length)\n",
        "    # Среднеквадратическая амплитуда\n",
        "    rmse = librosa.feature.rms(y=y, hop_length=hop_length)\n",
        "    # Спектральный центроид\n",
        "    spec_cent = librosa.feature.spectral_centroid(y=y, sr=sr, n_fft=n_fft, hop_length=hop_length)\n",
        "    # Ширина полосы частот\n",
        "    spec_bw = librosa.feature.spectral_bandwidth(y=y, sr=sr, n_fft=n_fft, hop_length=hop_length)\n",
        "    # Спектральный спад частоты\n",
        "    rolloff = librosa.feature.spectral_rolloff(y=y, sr=sr, n_fft=n_fft, hop_length=hop_length)\n",
        "    # Пересечения нуля\n",
        "    zcr = librosa.feature.zero_crossing_rate(y, hop_length=hop_length)\n",
        "    \n",
        "    # Сборка признаков в общий список:\n",
        "    # На один файл несколько векторов признаков, количество определяется\n",
        "    # продолжительностью аудио и параметром hop_length в функциях расчета признаков\n",
        "    features = {'rmse': rmse, \n",
        "                'spct': spec_cent, \n",
        "                'spbw': spec_bw,\n",
        "                'roff': rolloff,\n",
        "                'zcr' : zcr,\n",
        "                'mfcc': mfcc,\n",
        "                'stft': chroma_stft}\n",
        "\n",
        "    return features"
      ],
      "execution_count": null,
      "outputs": []
    },
    {
      "cell_type": "code",
      "metadata": {
        "id": "KWYZw5g7puk9"
      },
      "source": [
        "# Функция объединения признаков в набор векторов\n",
        "\n",
        "def stack_features(feat  # словарь признаков, отдельные векторы по ключу каждого признака\n",
        "                   ):\n",
        "    features = None\n",
        "    for v in feat.values():\n",
        "        features = np.vstack((features, v)) if features is not None else v\n",
        "\n",
        "    return features.T"
      ],
      "execution_count": null,
      "outputs": []
    },
    {
      "cell_type": "code",
      "metadata": {
        "id": "bodYJ7THpunu"
      },
      "source": [
        "# Функция формирования набора признаков и метки класса для аудиофайла\n",
        "\n",
        "def get_feature_list_from_file(class_index,  # индекс класса файла song_name\n",
        "                               song_name,    # имя аудиофайла\n",
        "                               duration_sec  # длительность аудио в секундах\n",
        "                               ):\n",
        "    # Загрузка в y первых duration_sec секунд аудиосигнала\n",
        "    y, sr = librosa.load(song_name, mono=True, duration=duration_sec)\n",
        "\n",
        "    # Извлечение параметров из аудиосигнала\n",
        "    features = get_features(y, sr)\n",
        "    feature_set = stack_features(features)\n",
        "\n",
        "    # Перевод номера класса в one hot encoding\n",
        "    y_label = to_categorical(class_index, CLASS_COUNT)\n",
        "\n",
        "    return feature_set, y_label"
      ],
      "execution_count": null,
      "outputs": []
    },
    {
      "cell_type": "code",
      "metadata": {
        "id": "wugYtzY_pur8"
      },
      "source": [
        "# Функция формирования подвыборки признаков и меток класса для одного файла\n",
        "\n",
        "def process_file(class_index,  # индекс класса аудиофайла\n",
        "                 file_index,   # индекс (порядковый номер) аудиофайла в папке класса\n",
        "                 duration_sec  # длительность аудио в секундах\n",
        "                 ):\n",
        "    x_list = []\n",
        "    y_list = []\n",
        "    class_name = CLASS_LIST[class_index]\n",
        "\n",
        "    # Извлечение имени произведения\n",
        "    song_name = f'{FILE_DIR}/{class_name}/{class_name}.{str(file_index).zfill(5)}.au'\n",
        "\n",
        "    # Выборка признаков и метки класса для произведения\n",
        "    feature_set, y_label = get_feature_list_from_file(class_index, \n",
        "                                                        song_name,\n",
        "                                                        duration_sec)\n",
        "\n",
        "    # Добавление данных в наборы\n",
        "    for j in range(feature_set.shape[0]):\n",
        "        x_list.append(feature_set[j])\n",
        "        y_list.append(y_label)\n",
        "\n",
        "    # Возврат имени файла и numpy-массивов призанков и меток класса\n",
        "    return song_name, \\\n",
        "           np.array(x_list).astype('float32'), \\\n",
        "           np.array(y_list).astype('float32')"
      ],
      "execution_count": null,
      "outputs": []
    },
    {
      "cell_type": "code",
      "metadata": {
        "id": "N7-KKRxvpMw1"
      },
      "source": [
        "# Функция формирования набора данных из файлов всех классов по диапазону номеров файлов\n",
        "\n",
        "def extract_data(file_index_start,          # начальный индекс аудиофайла\n",
        "                 file_index_end,            # конечный индекс аудиофайла (не достигая)\n",
        "                 duration_sec=DURATION_SEC  # длительность аудио в секундах\n",
        "                 ):\n",
        "\n",
        "    # Списки для последовательностей входных данных и меток класса\n",
        "    x_data = []\n",
        "    y_data = []\n",
        "\n",
        "    # Фиксация времени старта формирования выборки\n",
        "    curr_time = time.time()\n",
        "\n",
        "    # Для всех классов:\n",
        "    for class_index in range(len(CLASS_LIST)):\n",
        "        x_data_cl=None\n",
        "        # Для всех файлов текущего класса из заданного диапазона номеров:\n",
        "        for file_index in range(file_index_start, file_index_end):\n",
        "            # Обработка одного файла и добавление данных к общим массивам\n",
        "            _, file_x_data, file_y_data = process_file(class_index, file_index, duration_sec)\n",
        "            x_data_cl = file_x_data if x_data_cl is None else np.vstack([x_data_cl, file_x_data])\n",
        "        x_data.append(x_data_cl)\n",
        "\n",
        "        y_data.append(class_index)# = file_y_data if y_data is None else np.vstack([y_data, file_y_data])\n",
        "\n",
        "        # Вывод информации о готовности обработки датасета\n",
        "        print(f'Жанр {CLASS_LIST[class_index]} готов -> {round(time.time() - curr_time)} c')\n",
        "        curr_time = time.time()\n",
        "\n",
        "    # Возврат массивов набора данных\n",
        "    return x_data, y_data"
      ],
      "execution_count": null,
      "outputs": []
    },
    {
      "cell_type": "code",
      "metadata": {
        "colab": {
          "base_uri": "https://localhost:8080/"
        },
        "id": "08pMjSEgXpdW",
        "outputId": "3ca222cf-81a8-4dd5-9bf6-9dde055f5903"
      },
      "source": [
        "# Формирование тренировочного (основного) набора данных\n",
        "x_train_data, y_train_data = extract_data(0, FILE_INDEX_TRAIN_SPLIT)"
      ],
      "execution_count": null,
      "outputs": [
        {
          "output_type": "stream",
          "name": "stdout",
          "text": [
            "Жанр blues готов -> 141 c\n",
            "Жанр classical готов -> 145 c\n",
            "Жанр country готов -> 141 c\n",
            "Жанр disco готов -> 139 c\n",
            "Жанр hiphop готов -> 137 c\n",
            "Жанр jazz готов -> 139 c\n",
            "Жанр metal готов -> 142 c\n",
            "Жанр pop готов -> 144 c\n",
            "Жанр reggae готов -> 145 c\n",
            "Жанр rock готов -> 144 c\n"
          ]
        }
      ]
    },
    {
      "cell_type": "code",
      "metadata": {
        "colab": {
          "base_uri": "https://localhost:8080/"
        },
        "id": "RJkDVqSIZrh7",
        "outputId": "c10e2a3c-d518-4e4d-802a-021d9e94bd34"
      },
      "source": [
        "# Формирование тренировочного (основного) набора данных\n",
        "x_test_data, y_test_data = extract_data(FILE_INDEX_TRAIN_SPLIT,100)"
      ],
      "execution_count": null,
      "outputs": [
        {
          "output_type": "stream",
          "name": "stdout",
          "text": [
            "Жанр blues готов -> 16 c\n",
            "Жанр classical готов -> 16 c\n",
            "Жанр country готов -> 16 c\n",
            "Жанр disco готов -> 16 c\n",
            "Жанр hiphop готов -> 16 c\n",
            "Жанр jazz готов -> 16 c\n",
            "Жанр metal готов -> 16 c\n",
            "Жанр pop готов -> 16 c\n",
            "Жанр reggae готов -> 16 c\n",
            "Жанр rock готов -> 16 c\n"
          ]
        }
      ]
    },
    {
      "cell_type": "code",
      "metadata": {
        "colab": {
          "base_uri": "https://localhost:8080/"
        },
        "id": "Jo5PlV_vlHme",
        "outputId": "d68dece7-83cf-4b10-8e5e-8a3eabcdde4e"
      },
      "source": [
        "for i,seq in enumerate(x_train_data):\n",
        "  print(i,len(seq))"
      ],
      "execution_count": null,
      "outputs": [
        {
          "output_type": "stream",
          "name": "stdout",
          "text": [
            "0 116280\n",
            "1 116280\n",
            "2 116280\n",
            "3 116280\n",
            "4 116278\n",
            "5 116280\n",
            "6 116280\n",
            "7 116280\n",
            "8 116280\n",
            "9 116280\n"
          ]
        }
      ]
    },
    {
      "cell_type": "code",
      "metadata": {
        "colab": {
          "base_uri": "https://localhost:8080/"
        },
        "id": "L_7q8jEsaKZ0",
        "outputId": "57426b66-5375-4592-c0ce-cd9c4fe9f142"
      },
      "source": [
        "from google.colab import drive\n",
        "drive.mount('/content/drive/', force_remount=True)"
      ],
      "execution_count": null,
      "outputs": [
        {
          "output_type": "stream",
          "name": "stdout",
          "text": [
            "Mounted at /content/drive/\n"
          ]
        }
      ]
    },
    {
      "cell_type": "code",
      "metadata": {
        "id": "yce25x7wX92f"
      },
      "source": [
        "# Сохранение/восстановление датасета аудио\n",
        "# Данные привязаны к порядку следования меток классов!\n",
        "# Порядок классов фиксирован сортировкой списка меток классов\n",
        "with open('/content/drive/My Drive/NN/audio_data_train.pickle', 'wb') as f:\n",
        "    pickle.dump((x_train_data, y_train_data), f)\n",
        "with open('/content/drive/My Drive/NN/audio_data_test.pickle', 'wb') as f:\n",
        "    pickle.dump((x_test_data, y_test_data), f)\n"
      ],
      "execution_count": null,
      "outputs": []
    },
    {
      "cell_type": "code",
      "metadata": {
        "id": "AKhgsVf-Z6Vh"
      },
      "source": [
        "with open('/content/drive/My Drive/NN/audio_data_train.pickle', 'rb') as f:\n",
        "    x_train_data, y_train_data = pickle.load(f)\n",
        "with open('/content/drive/My Drive/NN/audio_data_test.pickle', 'rb') as f:\n",
        "    x_test_data, y_test_data = pickle.load(f)"
      ],
      "execution_count": null,
      "outputs": []
    },
    {
      "cell_type": "code",
      "metadata": {
        "id": "XHSBYI32lk9E"
      },
      "source": [
        "def split_sequence(sequence,   # Последовательность индексов\n",
        "                   win_size,   # Размер окна для деления на примеры\n",
        "                   hop):       # Шаг окна\n",
        "\n",
        "    # Последовательность разбивается на части до последнего полного окна\n",
        "    return [sequence[i:i + win_size] for i in range(0, len(sequence) - win_size + 1, hop)]"
      ],
      "execution_count": null,
      "outputs": []
    },
    {
      "cell_type": "code",
      "metadata": {
        "id": "MIvlcoz_l-9Y"
      },
      "source": [
        "def vectorize_sequence(seq_list,    # Список последовательностей индексов \n",
        "                       win_size,    # Размер окна для деления на примеры\n",
        "                       hop):        # Шаг окна\n",
        "\n",
        "    # В списке последовательности следуют в порядке их классов (их кол-во сповпадает с кол-вом классов)\n",
        "    class_count = len(seq_list)\n",
        "\n",
        "    # Списки для исходных векторов и категориальных меток класса\n",
        "    x, y = [], []\n",
        "\n",
        "    # Для каждого класса:\n",
        "    for cls in range(class_count):\n",
        "\n",
        "        # Разбиение последовательности класса cls на отрезки\n",
        "        vectors = split_sequence(seq_list[cls], win_size, hop)\n",
        "\n",
        "        # Добавление отрезков в выборку\n",
        "\n",
        "        x += vectors\n",
        "        \n",
        "        # Для всех отрезков класса cls добавление меток класса в виде OHE\n",
        "        y += [utils.to_categorical(cls, class_count)] * len(vectors)\n",
        "\n",
        "    # Возврат результатов как numpy-массивов\n",
        "    return np.array(x), np.array(y)"
      ],
      "execution_count": null,
      "outputs": []
    },
    {
      "cell_type": "code",
      "metadata": {
        "id": "M8OjxQJ4l_GG"
      },
      "source": [
        "WIN_SIZE=200\n",
        "WIN_HOP=20\n",
        "# Формирование обучающей выборки\n",
        "x_train, y_train = vectorize_sequence(x_train_data, WIN_SIZE, WIN_HOP) \n",
        "# Формирование тестовой выборки\n",
        "x_test, y_test = vectorize_sequence(x_test_data, WIN_SIZE, WIN_HOP)"
      ],
      "execution_count": null,
      "outputs": []
    },
    {
      "cell_type": "code",
      "metadata": {
        "colab": {
          "base_uri": "https://localhost:8080/"
        },
        "id": "l8QkEnxRmERe",
        "outputId": "4422c809-29ec-4824-a766-089371a72e99"
      },
      "source": [
        "model = Sequential()                                            # Создание последовательной модели нейросети\n",
        "model.add(Conv1D(32, 11, activation='relu', input_shape = x_train[0].shape))#input_dim=x_train[0].shape))\n",
        "model.add(Dropout(0.2))\n",
        "model.add(Conv1D(32, 7, activation='relu'))\n",
        "model.add(BatchNormalization())\n",
        "model.add(MaxPooling1D())\n",
        "model.add(Conv1D(64, 7, activation='relu', input_shape = x_train[0].shape))#input_dim=x_train[0].shape))\n",
        "model.add(Dropout(0.2))\n",
        "model.add(Conv1D(64, 7, activation='relu'))\n",
        "model.add(MaxPooling1D())\n",
        "\n",
        "model.add(BatchNormalization())\n",
        "model.add(Flatten())\n",
        "model.add(Dropout(0.5))\n",
        "model.add(Dense(50, activation=\"relu\"))                         # Второй полносвязный слой\n",
        "model.add(Dropout(0.5))\n",
        "model.add(Dense(33, activation=\"relu\"))                         # Третий полносвязный слой\n",
        "model.add(BatchNormalization())                                 # Слой пакетной нормализации\n",
        "model.add(Dense(y_train.shape[-1], activation='softmax'))             # Выходной полносвязный слой\n",
        "model.compile(optimizer='adam',loss='categorical_crossentropy',metrics=['accuracy'])\n",
        "model.summary()\n",
        "history = model.fit(x_train,y_train,epochs=20,batch_size=32,validation_data=(x_test, y_test))   # Проверочная выборка и метки классов проверочной выборки \n",
        "\n"
      ],
      "execution_count": null,
      "outputs": [
        {
          "output_type": "stream",
          "name": "stdout",
          "text": [
            "Model: \"sequential_31\"\n",
            "_________________________________________________________________\n",
            " Layer (type)                Output Shape              Param #   \n",
            "=================================================================\n",
            " conv1d_111 (Conv1D)         (None, 190, 32)           13056     \n",
            "                                                                 \n",
            " dropout_88 (Dropout)        (None, 190, 32)           0         \n",
            "                                                                 \n",
            " conv1d_112 (Conv1D)         (None, 184, 32)           7200      \n",
            "                                                                 \n",
            " batch_normalization_84 (Bat  (None, 184, 32)          128       \n",
            " chNormalization)                                                \n",
            "                                                                 \n",
            " max_pooling1d_89 (MaxPoolin  (None, 92, 32)           0         \n",
            " g1D)                                                            \n",
            "                                                                 \n",
            " conv1d_113 (Conv1D)         (None, 86, 64)            14400     \n",
            "                                                                 \n",
            " dropout_89 (Dropout)        (None, 86, 64)            0         \n",
            "                                                                 \n",
            " conv1d_114 (Conv1D)         (None, 80, 64)            28736     \n",
            "                                                                 \n",
            " max_pooling1d_90 (MaxPoolin  (None, 40, 64)           0         \n",
            " g1D)                                                            \n",
            "                                                                 \n",
            " batch_normalization_85 (Bat  (None, 40, 64)           256       \n",
            " chNormalization)                                                \n",
            "                                                                 \n",
            " flatten_17 (Flatten)        (None, 2560)              0         \n",
            "                                                                 \n",
            " dropout_90 (Dropout)        (None, 2560)              0         \n",
            "                                                                 \n",
            " dense_67 (Dense)            (None, 50)                128050    \n",
            "                                                                 \n",
            " dropout_91 (Dropout)        (None, 50)                0         \n",
            "                                                                 \n",
            " dense_68 (Dense)            (None, 33)                1683      \n",
            "                                                                 \n",
            " batch_normalization_86 (Bat  (None, 33)               132       \n",
            " chNormalization)                                                \n",
            "                                                                 \n",
            " dense_69 (Dense)            (None, 10)                340       \n",
            "                                                                 \n",
            "=================================================================\n",
            "Total params: 193,981\n",
            "Trainable params: 193,723\n",
            "Non-trainable params: 258\n",
            "_________________________________________________________________\n",
            "Epoch 1/20\n",
            "1815/1815 [==============================] - 120s 65ms/step - loss: 1.6671 - accuracy: 0.3858 - val_loss: 2.5767 - val_accuracy: 0.3804\n",
            "Epoch 2/20\n",
            "1815/1815 [==============================] - 119s 66ms/step - loss: 1.3112 - accuracy: 0.5234 - val_loss: 2.0909 - val_accuracy: 0.3316\n",
            "Epoch 3/20\n",
            "1815/1815 [==============================] - 119s 65ms/step - loss: 1.1763 - accuracy: 0.5797 - val_loss: 2.5379 - val_accuracy: 0.3856\n",
            "Epoch 4/20\n",
            "1815/1815 [==============================] - 118s 65ms/step - loss: 1.0455 - accuracy: 0.6325 - val_loss: 3.4765 - val_accuracy: 0.1915\n",
            "Epoch 5/20\n",
            "1815/1815 [==============================] - 119s 66ms/step - loss: 0.9528 - accuracy: 0.6697 - val_loss: 1.8938 - val_accuracy: 0.3672\n",
            "Epoch 6/20\n",
            "1815/1815 [==============================] - 119s 66ms/step - loss: 1.0123 - accuracy: 0.6520 - val_loss: 2.2208 - val_accuracy: 0.3571\n",
            "Epoch 7/20\n",
            "1815/1815 [==============================] - 120s 66ms/step - loss: 0.8426 - accuracy: 0.7163 - val_loss: 2.0546 - val_accuracy: 0.4102\n",
            "Epoch 8/20\n",
            "1815/1815 [==============================] - 119s 66ms/step - loss: 0.7794 - accuracy: 0.7405 - val_loss: 2.2586 - val_accuracy: 0.4013\n",
            "Epoch 9/20\n",
            "1815/1815 [==============================] - 120s 66ms/step - loss: 0.7351 - accuracy: 0.7551 - val_loss: 1.9639 - val_accuracy: 0.4080\n",
            "Epoch 10/20\n",
            "1815/1815 [==============================] - 119s 66ms/step - loss: 0.6913 - accuracy: 0.7714 - val_loss: 2.3944 - val_accuracy: 0.3680\n",
            "Epoch 11/20\n",
            "1815/1815 [==============================] - 119s 66ms/step - loss: 0.6595 - accuracy: 0.7810 - val_loss: 2.5610 - val_accuracy: 0.3849\n",
            "Epoch 12/20\n",
            "1815/1815 [==============================] - 119s 66ms/step - loss: 0.6331 - accuracy: 0.7907 - val_loss: 2.3033 - val_accuracy: 0.3786\n",
            "Epoch 13/20\n",
            "1815/1815 [==============================] - 120s 66ms/step - loss: 0.6000 - accuracy: 0.8039 - val_loss: 2.6884 - val_accuracy: 0.3366\n",
            "Epoch 14/20\n",
            "1815/1815 [==============================] - 119s 65ms/step - loss: 0.5696 - accuracy: 0.8114 - val_loss: 3.1878 - val_accuracy: 0.3113\n",
            "Epoch 15/20\n",
            "1815/1815 [==============================] - 119s 66ms/step - loss: 0.5583 - accuracy: 0.8159 - val_loss: 2.5024 - val_accuracy: 0.3967\n",
            "Epoch 16/20\n",
            "1815/1815 [==============================] - 118s 65ms/step - loss: 0.5325 - accuracy: 0.8247 - val_loss: 3.4758 - val_accuracy: 0.3385\n",
            "Epoch 17/20\n",
            "1815/1815 [==============================] - 118s 65ms/step - loss: 0.5191 - accuracy: 0.8269 - val_loss: 2.2893 - val_accuracy: 0.3802\n",
            "Epoch 18/20\n",
            "1815/1815 [==============================] - 119s 65ms/step - loss: 0.5017 - accuracy: 0.8363 - val_loss: 2.5933 - val_accuracy: 0.3565\n",
            "Epoch 19/20\n",
            "1815/1815 [==============================] - 119s 65ms/step - loss: 0.4933 - accuracy: 0.8369 - val_loss: 2.0960 - val_accuracy: 0.4414\n",
            "Epoch 20/20\n",
            "1815/1815 [==============================] - 119s 65ms/step - loss: 0.4775 - accuracy: 0.8421 - val_loss: 2.3139 - val_accuracy: 0.4513\n"
          ]
        }
      ]
    },
    {
      "cell_type": "markdown",
      "source": [
        "Точность жанра 66%"
      ],
      "metadata": {
        "id": "GNYgdiXbiy_8"
      }
    },
    {
      "cell_type": "code",
      "metadata": {
        "colab": {
          "base_uri": "https://localhost:8080/"
        },
        "id": "B0HeqhV9mEVS",
        "outputId": "14ad0dbb-3c3b-4438-e948-273e79fa1792"
      },
      "source": [
        "model = Sequential()                                            # Создание последовательной модели нейросети\n",
        "model.add(BatchNormalization(input_shape = x_train[0].shape))\n",
        "model.add(Conv1D(16, 11, activation='relu'))#input_dim=x_train[0].shape))\n",
        "model.add(MaxPooling1D())\n",
        "model.add(Conv1D(32, 5, activation='relu'))\n",
        "model.add(BatchNormalization())\n",
        "model.add(MaxPooling1D())\n",
        "model.add(Conv1D(64, 5, activation='relu', input_shape = x_train[0].shape))#input_dim=x_train[0].shape))\n",
        "model.add(MaxPooling1D())\n",
        "model.add(Conv1D(128, 5, activation='relu'))\n",
        "model.add(BatchNormalization())\n",
        "model.add(MaxPooling1D())\n",
        "\n",
        "model.add(BatchNormalization())\n",
        "model.add(Flatten())\n",
        "model.add(Dropout(0.5))\n",
        "model.add(Dense(50, activation=\"relu\"))                         # Второй полносвязный слой\n",
        "model.add(Dropout(0.5))\n",
        "model.add(Dense(33, activation=\"relu\"))                         # Третий полносвязный слой\n",
        "model.add(BatchNormalization())                                 # Слой пакетной нормализации\n",
        "model.add(Dense(y_train.shape[-1], activation='softmax'))             # Выходной полносвязный слой\n",
        "model.compile(optimizer='adam',loss='categorical_crossentropy',metrics=['accuracy'])\n",
        "model.summary()\n",
        "history = model.fit(x_train,y_train,epochs=20,batch_size=32,validation_data=(x_test, y_test))   # Проверочная выборка и метки классов проверочной выборки \n"
      ],
      "execution_count": null,
      "outputs": [
        {
          "output_type": "stream",
          "name": "stdout",
          "text": [
            "Model: \"sequential_26\"\n",
            "_________________________________________________________________\n",
            " Layer (type)                Output Shape              Param #   \n",
            "=================================================================\n",
            " batch_normalization_64 (Bat  (None, 200, 37)          148       \n",
            " chNormalization)                                                \n",
            "                                                                 \n",
            " conv1d_83 (Conv1D)          (None, 190, 16)           6528      \n",
            "                                                                 \n",
            " max_pooling1d_64 (MaxPoolin  (None, 95, 16)           0         \n",
            " g1D)                                                            \n",
            "                                                                 \n",
            " conv1d_84 (Conv1D)          (None, 91, 32)            2592      \n",
            "                                                                 \n",
            " batch_normalization_65 (Bat  (None, 91, 32)           128       \n",
            " chNormalization)                                                \n",
            "                                                                 \n",
            " max_pooling1d_65 (MaxPoolin  (None, 45, 32)           0         \n",
            " g1D)                                                            \n",
            "                                                                 \n",
            " conv1d_85 (Conv1D)          (None, 41, 64)            10304     \n",
            "                                                                 \n",
            " max_pooling1d_66 (MaxPoolin  (None, 20, 64)           0         \n",
            " g1D)                                                            \n",
            "                                                                 \n",
            " conv1d_86 (Conv1D)          (None, 16, 128)           41088     \n",
            "                                                                 \n",
            " batch_normalization_66 (Bat  (None, 16, 128)          512       \n",
            " chNormalization)                                                \n",
            "                                                                 \n",
            " max_pooling1d_67 (MaxPoolin  (None, 8, 128)           0         \n",
            " g1D)                                                            \n",
            "                                                                 \n",
            " batch_normalization_67 (Bat  (None, 8, 128)           512       \n",
            " chNormalization)                                                \n",
            "                                                                 \n",
            " flatten_15 (Flatten)        (None, 1024)              0         \n",
            "                                                                 \n",
            " dropout_84 (Dropout)        (None, 1024)              0         \n",
            "                                                                 \n",
            " dense_61 (Dense)            (None, 50)                51250     \n",
            "                                                                 \n",
            " dropout_85 (Dropout)        (None, 50)                0         \n",
            "                                                                 \n",
            " dense_62 (Dense)            (None, 33)                1683      \n",
            "                                                                 \n",
            " batch_normalization_68 (Bat  (None, 33)               132       \n",
            " chNormalization)                                                \n",
            "                                                                 \n",
            " dense_63 (Dense)            (None, 10)                340       \n",
            "                                                                 \n",
            "=================================================================\n",
            "Total params: 115,217\n",
            "Trainable params: 114,501\n",
            "Non-trainable params: 716\n",
            "_________________________________________________________________\n",
            "Epoch 1/20\n",
            "1815/1815 [==============================] - 76s 41ms/step - loss: 1.2929 - accuracy: 0.5516 - val_loss: 1.1596 - val_accuracy: 0.6155\n",
            "Epoch 2/20\n",
            "1815/1815 [==============================] - 73s 40ms/step - loss: 0.8219 - accuracy: 0.7301 - val_loss: 1.2635 - val_accuracy: 0.6122\n",
            "Epoch 3/20\n",
            "1815/1815 [==============================] - 74s 41ms/step - loss: 0.6385 - accuracy: 0.7926 - val_loss: 1.3247 - val_accuracy: 0.6077\n",
            "Epoch 4/20\n",
            "1815/1815 [==============================] - 73s 40ms/step - loss: 0.5383 - accuracy: 0.8275 - val_loss: 1.3709 - val_accuracy: 0.6306\n",
            "Epoch 5/20\n",
            "1815/1815 [==============================] - 74s 41ms/step - loss: 0.4575 - accuracy: 0.8538 - val_loss: 1.6432 - val_accuracy: 0.5666\n",
            "Epoch 6/20\n",
            "1815/1815 [==============================] - 73s 40ms/step - loss: 0.4085 - accuracy: 0.8701 - val_loss: 1.5281 - val_accuracy: 0.6336\n",
            "Epoch 7/20\n",
            "1815/1815 [==============================] - 73s 40ms/step - loss: 0.3571 - accuracy: 0.8873 - val_loss: 1.6003 - val_accuracy: 0.6317\n",
            "Epoch 8/20\n",
            "1815/1815 [==============================] - 76s 42ms/step - loss: 0.3220 - accuracy: 0.8981 - val_loss: 1.5297 - val_accuracy: 0.6283\n",
            "Epoch 9/20\n",
            "1815/1815 [==============================] - 74s 41ms/step - loss: 0.2926 - accuracy: 0.9070 - val_loss: 1.5626 - val_accuracy: 0.6408\n",
            "Epoch 10/20\n",
            "1815/1815 [==============================] - 74s 41ms/step - loss: 0.2667 - accuracy: 0.9153 - val_loss: 1.7120 - val_accuracy: 0.6154\n",
            "Epoch 11/20\n",
            "1815/1815 [==============================] - 73s 40ms/step - loss: 0.2500 - accuracy: 0.9218 - val_loss: 1.7351 - val_accuracy: 0.6347\n",
            "Epoch 12/20\n",
            "1815/1815 [==============================] - 73s 40ms/step - loss: 0.2333 - accuracy: 0.9271 - val_loss: 1.7643 - val_accuracy: 0.6118\n",
            "Epoch 13/20\n",
            "1815/1815 [==============================] - 73s 40ms/step - loss: 0.2175 - accuracy: 0.9327 - val_loss: 2.0150 - val_accuracy: 0.6069\n",
            "Epoch 14/20\n",
            "1815/1815 [==============================] - 74s 41ms/step - loss: 0.2090 - accuracy: 0.9346 - val_loss: 1.9156 - val_accuracy: 0.5992\n",
            "Epoch 15/20\n",
            "1815/1815 [==============================] - 74s 41ms/step - loss: 0.1932 - accuracy: 0.9389 - val_loss: 1.9639 - val_accuracy: 0.6077\n",
            "Epoch 16/20\n",
            "1815/1815 [==============================] - 73s 40ms/step - loss: 0.1883 - accuracy: 0.9402 - val_loss: 1.9363 - val_accuracy: 0.6115\n",
            "Epoch 17/20\n",
            "1815/1815 [==============================] - 73s 40ms/step - loss: 0.1701 - accuracy: 0.9469 - val_loss: 2.0973 - val_accuracy: 0.5953\n",
            "Epoch 18/20\n",
            "1815/1815 [==============================] - 74s 41ms/step - loss: 0.1667 - accuracy: 0.9474 - val_loss: 2.1449 - val_accuracy: 0.5956\n",
            "Epoch 19/20\n",
            "1815/1815 [==============================] - 73s 40ms/step - loss: 0.1594 - accuracy: 0.9499 - val_loss: 1.9841 - val_accuracy: 0.6218\n",
            "Epoch 20/20\n",
            "1815/1815 [==============================] - 76s 42ms/step - loss: 0.1509 - accuracy: 0.9540 - val_loss: 1.8648 - val_accuracy: 0.6389\n"
          ]
        }
      ]
    },
    {
      "cell_type": "code",
      "metadata": {
        "colab": {
          "base_uri": "https://localhost:8080/"
        },
        "id": "RXDvcyWyEBYD",
        "outputId": "f00271a2-f437-49b3-8d0a-c6d1b06689ef"
      },
      "source": [
        "model = Sequential()                                            # Создание последовательной модели нейросети\n",
        "model.add(BatchNormalization(input_shape = x_train[0].shape))\n",
        "model.add(Conv1D(16, 11, activation='relu'))#input_dim=x_train[0].shape))\n",
        "model.add(MaxPooling1D())\n",
        "model.add(Conv1D(32, 5, activation='relu'))\n",
        "model.add(BatchNormalization())\n",
        "model.add(MaxPooling1D())\n",
        "model.add(Conv1D(64, 5, activation='relu', input_shape = x_train[0].shape))\n",
        "model.add(MaxPooling1D())\n",
        "model.add(Conv1D(128, 5, activation='relu'))\n",
        "model.add(BatchNormalization())\n",
        "model.add(MaxPooling1D())\n",
        "model.add(Conv1D(256, 3, activation='relu', input_shape = x_train[0].shape))\n",
        "model.add(MaxPooling1D())\n",
        "model.add(Conv1D(512, 3, activation='relu'))\n",
        "model.add(BatchNormalization())\n",
        "model.add(Flatten())\n",
        "model.add(Dropout(0.5))\n",
        "model.add(Dense(50, activation=\"relu\"))                         # Второй полносвязный слой\n",
        "model.add(Dropout(0.5))\n",
        "model.add(Dense(33, activation=\"relu\"))                         # Третий полносвязный слой\n",
        "model.add(BatchNormalization())                                 # Слой пакетной нормализации\n",
        "model.add(Dense(y_train.shape[-1], activation='softmax'))             # Выходной полносвязный слой\n",
        "model.compile(optimizer='adam',loss='categorical_crossentropy',metrics=['accuracy'])\n",
        "model.summary()\n",
        "history = model.fit(x_train,y_train,epochs=20,batch_size=32,validation_data=(x_test, y_test))   # Проверочная выборка и метки классов проверочной выборки "
      ],
      "execution_count": null,
      "outputs": [
        {
          "output_type": "stream",
          "name": "stdout",
          "text": [
            "Model: \"sequential_30\"\n",
            "_________________________________________________________________\n",
            " Layer (type)                Output Shape              Param #   \n",
            "=================================================================\n",
            " batch_normalization_79 (Bat  (None, 200, 37)          148       \n",
            " chNormalization)                                                \n",
            "                                                                 \n",
            " conv1d_105 (Conv1D)         (None, 190, 16)           6528      \n",
            "                                                                 \n",
            " max_pooling1d_84 (MaxPoolin  (None, 95, 16)           0         \n",
            " g1D)                                                            \n",
            "                                                                 \n",
            " conv1d_106 (Conv1D)         (None, 91, 32)            2592      \n",
            "                                                                 \n",
            " batch_normalization_80 (Bat  (None, 91, 32)           128       \n",
            " chNormalization)                                                \n",
            "                                                                 \n",
            " max_pooling1d_85 (MaxPoolin  (None, 45, 32)           0         \n",
            " g1D)                                                            \n",
            "                                                                 \n",
            " conv1d_107 (Conv1D)         (None, 41, 64)            10304     \n",
            "                                                                 \n",
            " max_pooling1d_86 (MaxPoolin  (None, 20, 64)           0         \n",
            " g1D)                                                            \n",
            "                                                                 \n",
            " conv1d_108 (Conv1D)         (None, 16, 128)           41088     \n",
            "                                                                 \n",
            " batch_normalization_81 (Bat  (None, 16, 128)          512       \n",
            " chNormalization)                                                \n",
            "                                                                 \n",
            " max_pooling1d_87 (MaxPoolin  (None, 8, 128)           0         \n",
            " g1D)                                                            \n",
            "                                                                 \n",
            " conv1d_109 (Conv1D)         (None, 6, 256)            98560     \n",
            "                                                                 \n",
            " max_pooling1d_88 (MaxPoolin  (None, 3, 256)           0         \n",
            " g1D)                                                            \n",
            "                                                                 \n",
            " conv1d_110 (Conv1D)         (None, 1, 512)            393728    \n",
            "                                                                 \n",
            " batch_normalization_82 (Bat  (None, 1, 512)           2048      \n",
            " chNormalization)                                                \n",
            "                                                                 \n",
            " flatten_16 (Flatten)        (None, 512)               0         \n",
            "                                                                 \n",
            " dropout_86 (Dropout)        (None, 512)               0         \n",
            "                                                                 \n",
            " dense_64 (Dense)            (None, 50)                25650     \n",
            "                                                                 \n",
            " dropout_87 (Dropout)        (None, 50)                0         \n",
            "                                                                 \n",
            " dense_65 (Dense)            (None, 33)                1683      \n",
            "                                                                 \n",
            " batch_normalization_83 (Bat  (None, 33)               132       \n",
            " chNormalization)                                                \n",
            "                                                                 \n",
            " dense_66 (Dense)            (None, 10)                340       \n",
            "                                                                 \n",
            "=================================================================\n",
            "Total params: 583,441\n",
            "Trainable params: 581,957\n",
            "Non-trainable params: 1,484\n",
            "_________________________________________________________________\n",
            "Epoch 1/20\n",
            "1815/1815 [==============================] - 142s 77ms/step - loss: 1.2847 - accuracy: 0.5618 - val_loss: 1.3462 - val_accuracy: 0.5797\n",
            "Epoch 2/20\n",
            "1815/1815 [==============================] - 139s 77ms/step - loss: 0.7775 - accuracy: 0.7517 - val_loss: 1.3894 - val_accuracy: 0.5911\n",
            "Epoch 3/20\n",
            "1815/1815 [==============================] - 139s 77ms/step - loss: 0.5779 - accuracy: 0.8231 - val_loss: 1.6205 - val_accuracy: 0.5534\n",
            "Epoch 4/20\n",
            "1815/1815 [==============================] - 139s 76ms/step - loss: 0.4494 - accuracy: 0.8638 - val_loss: 1.7646 - val_accuracy: 0.5681\n",
            "Epoch 5/20\n",
            "1815/1815 [==============================] - 139s 77ms/step - loss: 0.3600 - accuracy: 0.8933 - val_loss: 1.6931 - val_accuracy: 0.6218\n",
            "Epoch 6/20\n",
            "1815/1815 [==============================] - 139s 77ms/step - loss: 0.3078 - accuracy: 0.9089 - val_loss: 1.9856 - val_accuracy: 0.5923\n",
            "Epoch 7/20\n",
            "1815/1815 [==============================] - 140s 77ms/step - loss: 0.2586 - accuracy: 0.9255 - val_loss: 1.8789 - val_accuracy: 0.5912\n",
            "Epoch 8/20\n",
            "1815/1815 [==============================] - 140s 77ms/step - loss: 0.2337 - accuracy: 0.9327 - val_loss: 1.8246 - val_accuracy: 0.6251\n",
            "Epoch 9/20\n",
            "1815/1815 [==============================] - 139s 77ms/step - loss: 0.1990 - accuracy: 0.9411 - val_loss: 2.0779 - val_accuracy: 0.6050\n",
            "Epoch 10/20\n",
            "1815/1815 [==============================] - 140s 77ms/step - loss: 0.1830 - accuracy: 0.9477 - val_loss: 1.9325 - val_accuracy: 0.6146\n",
            "Epoch 11/20\n",
            "1815/1815 [==============================] - 139s 77ms/step - loss: 0.1578 - accuracy: 0.9549 - val_loss: 2.1505 - val_accuracy: 0.6137\n",
            "Epoch 12/20\n",
            "1815/1815 [==============================] - 140s 77ms/step - loss: 0.1544 - accuracy: 0.9563 - val_loss: 2.0636 - val_accuracy: 0.6052\n",
            "Epoch 13/20\n",
            "1815/1815 [==============================] - 139s 77ms/step - loss: 0.1351 - accuracy: 0.9601 - val_loss: 2.0847 - val_accuracy: 0.6235\n",
            "Epoch 14/20\n",
            "1815/1815 [==============================] - 139s 77ms/step - loss: 0.1314 - accuracy: 0.9633 - val_loss: 1.7377 - val_accuracy: 0.6622\n",
            "Epoch 15/20\n",
            "1815/1815 [==============================] - 140s 77ms/step - loss: 0.1150 - accuracy: 0.9674 - val_loss: 2.0368 - val_accuracy: 0.6385\n",
            "Epoch 16/20\n",
            "1815/1815 [==============================] - 139s 77ms/step - loss: 0.1083 - accuracy: 0.9691 - val_loss: 1.9284 - val_accuracy: 0.6675\n",
            "Epoch 17/20\n",
            "1815/1815 [==============================] - 139s 77ms/step - loss: 0.1092 - accuracy: 0.9699 - val_loss: 1.8989 - val_accuracy: 0.6455\n",
            "Epoch 18/20\n",
            "1815/1815 [==============================] - 140s 77ms/step - loss: 0.1015 - accuracy: 0.9706 - val_loss: 2.3432 - val_accuracy: 0.6199\n",
            "Epoch 19/20\n",
            "1815/1815 [==============================] - 138s 76ms/step - loss: 0.0962 - accuracy: 0.9727 - val_loss: 2.1549 - val_accuracy: 0.6226\n",
            "Epoch 20/20\n",
            "1815/1815 [==============================] - 138s 76ms/step - loss: 0.0852 - accuracy: 0.9759 - val_loss: 2.2230 - val_accuracy: 0.6088\n"
          ]
        }
      ]
    },
    {
      "cell_type": "markdown",
      "metadata": {
        "id": "vmuoYmgi63_l"
      },
      "source": [
        "Дальше смотреть не надо, это тесты."
      ]
    },
    {
      "cell_type": "code",
      "metadata": {
        "id": "FdJLYEkLcR26"
      },
      "source": [
        "from sklearn.ensemble import ExtraTreesClassifier\n",
        "\n",
        "model1 = ExtraTreesClassifier()\n",
        "model1.fit(x_data_scaled,y_data_scaled)\n",
        "for number in range(len(model1.feature_importances_)):\n",
        "    print(number,\" \",model1.feature_importances_[number])"
      ],
      "execution_count": null,
      "outputs": []
    },
    {
      "cell_type": "code",
      "metadata": {
        "id": "jLxMXEFxHNnR"
      },
      "source": [
        "from sklearn.feature_selection import SelectKBest\n",
        "from sklearn.feature_selection import chi2\n",
        "test = SelectKBest(score_func=chi2, k=30)\n",
        "fit = test.fit(x_data_scaled,y_data_scaled)\n",
        "# summarize scores\n",
        "numpy.set_printoptions(precision=3)\n",
        "print(fit.scores_)\n",
        "features = fit.transform(X)\n",
        "# summarize selected features\n",
        "print(features[0:5,:])"
      ],
      "execution_count": null,
      "outputs": []
    },
    {
      "cell_type": "code",
      "metadata": {
        "id": "MBzJBcAYHUHZ"
      },
      "source": [
        "from sklearn.feature_selection import SelectKBest\n",
        "from sklearn.feature_selection import chi2\n",
        "test = SelectKBest(score_func=chi2, k=30)\n",
        "fit = test.fit(x_data_scaled,y_data_scaled)\n",
        "# summarize scores\n",
        "numpy.set_printoptions(precision=3)\n",
        "print(fit.scores_)\n",
        "features = fit.transform(X)\n",
        "# summarize selected features\n",
        "print(features[0:5,:])"
      ],
      "execution_count": null,
      "outputs": []
    },
    {
      "cell_type": "code",
      "metadata": {
        "id": "JrOtiXzIHdPE"
      },
      "source": [],
      "execution_count": null,
      "outputs": []
    },
    {
      "cell_type": "code",
      "metadata": {
        "id": "8v3TRZ4mHdSR"
      },
      "source": [],
      "execution_count": null,
      "outputs": []
    },
    {
      "cell_type": "code",
      "metadata": {
        "id": "2Q14jrbaHULE"
      },
      "source": [],
      "execution_count": null,
      "outputs": []
    },
    {
      "cell_type": "code",
      "metadata": {
        "id": "6OKXqALeya87"
      },
      "source": [
        "song_name = f'{FILE_DIR}/{CLASS_LIST[1]}/{CLASS_LIST[1]}.{str(0).zfill(5)}.au'\n"
      ],
      "execution_count": null,
      "outputs": []
    },
    {
      "cell_type": "code",
      "metadata": {
        "id": "D8cx6e49ybMu"
      },
      "source": [
        "HOP_LENGTH=512"
      ],
      "execution_count": null,
      "outputs": []
    },
    {
      "cell_type": "code",
      "metadata": {
        "id": "uKaM220Ex8ai"
      },
      "source": [
        "y, sr = librosa.load(song_name, mono=True)#, duration=duration_sec\n",
        "features = get_features(y, sr)\n",
        "feature_set = stack_features(features)"
      ],
      "execution_count": null,
      "outputs": []
    },
    {
      "cell_type": "code",
      "metadata": {
        "id": "9LyfXy8B05tt"
      },
      "source": [
        "    # Хромаграмма\n",
        "chroma_stft = librosa.feature.chroma_stft(y=y, sr=sr, n_fft=N_FFT, hop_length=HOP_LENGTH)\n",
        "    # Мел-кепстральные коэффициенты\n",
        "mfcc = librosa.feature.mfcc(y=y, sr=sr, n_fft=N_FFT, hop_length=HOP_LENGTH)\n",
        "    # Среднеквадратическая амплитуда\n",
        "rmse = librosa.feature.rms(y=y, hop_length=HOP_LENGTH)\n",
        "    # Спектральный центроид\n",
        "spec_cent = librosa.feature.spectral_centroid(y=y, sr=sr, n_fft=N_FFT, hop_length=HOP_LENGTH)\n",
        "    # Ширина полосы частот\n",
        "spec_bw = librosa.feature.spectral_bandwidth(y=y, sr=sr, n_fft=N_FFT, hop_length=HOP_LENGTH)\n",
        "    # Спектральный спад частоты\n",
        "rolloff = librosa.feature.spectral_rolloff(y=y, sr=sr, n_fft=N_FFT, hop_length=HOP_LENGTH)\n",
        "    # Пересечения нуля\n",
        "zcr = librosa.feature.zero_crossing_rate(y, hop_length=HOP_LENGTH)"
      ],
      "execution_count": null,
      "outputs": []
    },
    {
      "cell_type": "code",
      "metadata": {
        "colab": {
          "base_uri": "https://localhost:8080/",
          "height": 313
        },
        "id": "pld84-dC05zp",
        "outputId": "9c23c6c1-2982-4130-9989-455882a3062c"
      },
      "source": [
        "import librosa.display\n",
        "# Ваше решение\n",
        "plt.figure(figsize=(14, 1))\n",
        "librosa.display.specshow(rmse, sr=sr, x_axis='time')\n",
        "plt.show()\n",
        "plt.figure(figsize=(14, 1))\n",
        "librosa.display.specshow(spec_cent, sr=sr, x_axis='time')\n",
        "plt.show()\n",
        "plt.figure(figsize=(14, 1))\n",
        "librosa.display.specshow(spec_bw, sr=sr, x_axis='time')\n",
        "plt.show()"
      ],
      "execution_count": null,
      "outputs": [
        {
          "output_type": "display_data",
          "data": {
            "image/png": "[encoded data removed]",
            "text/plain": [
              "<Figure size 1008x72 with 1 Axes>"
            ]
          },
          "metadata": {
            "needs_background": "light"
          }
        },
        {
          "output_type": "display_data",
          "data": {
            "image/png": "[encoded data removed]",
            "text/plain": [
              "<Figure size 1008x72 with 1 Axes>"
            ]
          },
          "metadata": {
            "needs_background": "light"
          }
        },
        {
          "output_type": "display_data",
          "data": {
            "image/png": "[encoded data removed]",
            "text/plain": [
              "<Figure size 1008x72 with 1 Axes>"
            ]
          },
          "metadata": {
            "needs_background": "light"
          }
        }
      ]
    },
    {
      "cell_type": "code",
      "metadata": {
        "id": "N4iLJ81N051W"
      },
      "source": [],
      "execution_count": null,
      "outputs": []
    },
    {
      "cell_type": "code",
      "metadata": {
        "id": "JQeK5HlxpM0T"
      },
      "source": [
        "# Восстановление датасета аудио\n",
        "# Данные привязаны к порядку следования меток классов!\n",
        "# Порядок классов фиксирован сортировкой списка меток классов\n",
        "\n",
        "with open('/content/audio_data_mean.pickle', 'rb') as f:\n",
        "    x_train_data, y_train_data = pickle.load(f)"
      ],
      "execution_count": null,
      "outputs": []
    },
    {
      "cell_type": "code",
      "metadata": {
        "id": "PNAcxGTlpM3R"
      },
      "source": [
        "# Нормирование признаков в соответствии со стандартным нормальным распределением\n",
        "\n",
        "x_scaler = StandardScaler()\n",
        "x_train_data_scaled = x_scaler.fit_transform(x_train_data)"
      ],
      "execution_count": null,
      "outputs": []
    },
    {
      "cell_type": "code",
      "metadata": {
        "id": "87TCpX9ipM6_"
      },
      "source": [
        "# Разделение набора данных на обучающую и проверочную выборки\n",
        "# Параметр stratify указывает метки классов, по которым происходит балансировка разделения\n",
        "\n",
        "x_train, x_val, y_train, y_val = train_test_split(x_train_data_scaled,\n",
        "                                                  y_train_data,\n",
        "                                                  stratify=y_train_data,\n",
        "                                                  test_size=VALIDATION_SPLIT)"
      ],
      "execution_count": null,
      "outputs": []
    },
    {
      "cell_type": "code",
      "metadata": {
        "id": "Q13_QCjnpM-J"
      },
      "source": [],
      "execution_count": null,
      "outputs": []
    }
  ]
}